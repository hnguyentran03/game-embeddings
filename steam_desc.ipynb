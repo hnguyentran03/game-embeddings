{
 "cells": [
  {
   "cell_type": "markdown",
   "metadata": {},
   "source": [
    "# Embedding Visualization: PCA"
   ]
  },
  {
   "cell_type": "code",
   "execution_count": 1,
   "metadata": {},
   "outputs": [
    {
     "name": "stderr",
     "output_type": "stream",
     "text": [
      "/Library/Frameworks/Python.framework/Versions/3.12/lib/python3.12/site-packages/sentence_transformers/cross_encoder/CrossEncoder.py:11: TqdmExperimentalWarning: Using `tqdm.autonotebook.tqdm` in notebook mode. Use `tqdm.tqdm` instead to force console mode (e.g. in jupyter console)\n",
      "  from tqdm.autonotebook import tqdm, trange\n"
     ]
    }
   ],
   "source": [
    "import pandas as pd\n",
    "from sentence_transformers import SentenceTransformer, util\n",
    "from pyvi.ViTokenizer import tokenize\n",
    "\n",
    "import random\n",
    "RANDOM_STATE = 42\n",
    "random.seed(RANDOM_STATE)"
   ]
  },
  {
   "cell_type": "code",
   "execution_count": 2,
   "metadata": {},
   "outputs": [
    {
     "name": "stderr",
     "output_type": "stream",
     "text": [
      "/Library/Frameworks/Python.framework/Versions/3.12/lib/python3.12/site-packages/huggingface_hub/file_download.py:1132: FutureWarning: `resume_download` is deprecated and will be removed in version 1.0.0. Downloads always resume when possible. If you want to force a new download, use `force_download=True`.\n",
      "  warnings.warn(\n"
     ]
    }
   ],
   "source": [
    "# TODO find a better model mp or mpe?\n",
    "# TODO TSNE\n",
    "# Ideas:\n",
    "# ngrams\n",
    "# train better lmao\n",
    "\n",
    "model = SentenceTransformer(\"all-mpnet-base-v2\") # BAAI/bge-m3 "
   ]
  },
  {
   "cell_type": "markdown",
   "metadata": {},
   "source": [
    "## Loading Data"
   ]
  },
  {
   "cell_type": "code",
   "execution_count": 3,
   "metadata": {},
   "outputs": [
    {
     "data": {
      "text/html": [
       "<div>\n",
       "<style scoped>\n",
       "    .dataframe tbody tr th:only-of-type {\n",
       "        vertical-align: middle;\n",
       "    }\n",
       "\n",
       "    .dataframe tbody tr th {\n",
       "        vertical-align: top;\n",
       "    }\n",
       "\n",
       "    .dataframe thead th {\n",
       "        text-align: right;\n",
       "    }\n",
       "</style>\n",
       "<table border=\"1\" class=\"dataframe\">\n",
       "  <thead>\n",
       "    <tr style=\"text-align: right;\">\n",
       "      <th></th>\n",
       "      <th>Title</th>\n",
       "      <th>Original Price</th>\n",
       "      <th>Discounted Price</th>\n",
       "      <th>Release Date</th>\n",
       "      <th>Link</th>\n",
       "      <th>Game Description</th>\n",
       "      <th>Recent Reviews Summary</th>\n",
       "      <th>All Reviews Summary</th>\n",
       "      <th>Recent Reviews Number</th>\n",
       "      <th>All Reviews Number</th>\n",
       "      <th>Developer</th>\n",
       "      <th>Publisher</th>\n",
       "      <th>Supported Languages</th>\n",
       "      <th>Popular Tags</th>\n",
       "      <th>Game Features</th>\n",
       "      <th>Minimum Requirements</th>\n",
       "    </tr>\n",
       "  </thead>\n",
       "  <tbody>\n",
       "    <tr>\n",
       "      <th>0</th>\n",
       "      <td>Baldur's Gate 3</td>\n",
       "      <td>$29.99</td>\n",
       "      <td>$29.99</td>\n",
       "      <td>3 Aug, 2023</td>\n",
       "      <td>https://store.steampowered.com/app/1086940/Bal...</td>\n",
       "      <td>Baldur’s Gate 3 is a story-rich, party-based R...</td>\n",
       "      <td>Overwhelmingly Positive</td>\n",
       "      <td>Very Positive</td>\n",
       "      <td>- 96% of the 128,900 user reviews in the last ...</td>\n",
       "      <td>- 94% of the 188,617 user reviews for this gam...</td>\n",
       "      <td>Larian Studios</td>\n",
       "      <td>Larian Studios</td>\n",
       "      <td>['English', 'French', 'German', 'Spanish - Spa...</td>\n",
       "      <td>['RPG', 'Choices Matter', 'Character Customiza...</td>\n",
       "      <td>['Single-player', 'Online Co-op', 'LAN Co-op',...</td>\n",
       "      <td>Requires a 64-bit processor and operating syst...</td>\n",
       "    </tr>\n",
       "    <tr>\n",
       "      <th>1</th>\n",
       "      <td>Counter-Strike: Global Offensive</td>\n",
       "      <td>$14.99</td>\n",
       "      <td>$14.99</td>\n",
       "      <td>21 Aug, 2012</td>\n",
       "      <td>https://store.steampowered.com/app/730/Counter...</td>\n",
       "      <td>Counter-Strike: Global Offensive (CS: GO) expa...</td>\n",
       "      <td>Very Positive</td>\n",
       "      <td>Very Positive</td>\n",
       "      <td>- 89% of the 75,284 user reviews in the last 3...</td>\n",
       "      <td>- 88% of the 7,428,921 user reviews for this g...</td>\n",
       "      <td>Valve, Hidden Path Entertainment</td>\n",
       "      <td>Valve</td>\n",
       "      <td>['English', 'Czech', 'Danish', 'Dutch', 'Finni...</td>\n",
       "      <td>['FPS', 'Shooter', 'Multiplayer', 'Competitive...</td>\n",
       "      <td>['Steam Achievements', 'Full controller suppor...</td>\n",
       "      <td>OS: |  Windows® 7/Vista/XP | Processor: |  Int...</td>\n",
       "    </tr>\n",
       "    <tr>\n",
       "      <th>2</th>\n",
       "      <td>Apex Legends™</td>\n",
       "      <td>Free</td>\n",
       "      <td>Free</td>\n",
       "      <td>4 Nov, 2020</td>\n",
       "      <td>https://store.steampowered.com/app/1172470/Ape...</td>\n",
       "      <td>Apex Legends is the award-winning, free-to-pla...</td>\n",
       "      <td>Mixed</td>\n",
       "      <td>Very Positive</td>\n",
       "      <td>- 65% of the 18,581 user reviews in the last 3...</td>\n",
       "      <td>- 80% of the 701,597 user reviews for this gam...</td>\n",
       "      <td>Respawn Entertainment</td>\n",
       "      <td>Electronic Arts</td>\n",
       "      <td>['English', 'French', 'Italian', 'German', 'Sp...</td>\n",
       "      <td>['Free to Play', 'Multiplayer', 'Battle Royale...</td>\n",
       "      <td>['Online PvP', 'Online Co-op', 'Steam Achievem...</td>\n",
       "      <td>Requires a 64-bit processor and operating syst...</td>\n",
       "    </tr>\n",
       "    <tr>\n",
       "      <th>3</th>\n",
       "      <td>Forza Horizon 5</td>\n",
       "      <td>$34.78</td>\n",
       "      <td>$17.39</td>\n",
       "      <td>8 Nov, 2021</td>\n",
       "      <td>https://store.steampowered.com/app/1551360/For...</td>\n",
       "      <td>Your Ultimate Horizon Adventure awaits! Explor...</td>\n",
       "      <td>Very Positive</td>\n",
       "      <td>Very Positive</td>\n",
       "      <td>- 87% of the 4,120 user reviews in the last 30...</td>\n",
       "      <td>- 88% of the 123,162 user reviews for this gam...</td>\n",
       "      <td>Playground Games</td>\n",
       "      <td>Xbox Game Studios</td>\n",
       "      <td>['English', 'French', 'Italian', 'German', 'Sp...</td>\n",
       "      <td>['Racing', 'Open World', 'Driving', 'Multiplay...</td>\n",
       "      <td>['Single-player', 'Online PvP', 'Online Co-op'...</td>\n",
       "      <td>Requires a 64-bit processor and operating syst...</td>\n",
       "    </tr>\n",
       "    <tr>\n",
       "      <th>4</th>\n",
       "      <td>Call of Duty®</td>\n",
       "      <td>Free</td>\n",
       "      <td>Free</td>\n",
       "      <td>27 Oct, 2022</td>\n",
       "      <td>https://store.steampowered.com/app/1938090/Cal...</td>\n",
       "      <td>Welcome to Call of Duty® HQ, the home of Call ...</td>\n",
       "      <td>Mixed</td>\n",
       "      <td>Mixed</td>\n",
       "      <td>- 49% of the 8,257 user reviews in the last 30...</td>\n",
       "      <td>- 57% of the 236,876 user reviews for this gam...</td>\n",
       "      <td>Infinity Ward, Raven Software, Beenox, Treyarc...</td>\n",
       "      <td>Activision</td>\n",
       "      <td>['English', 'French', 'Italian', 'German', 'Sp...</td>\n",
       "      <td>['FPS', 'Multiplayer', 'Shooter', 'Action', 'S...</td>\n",
       "      <td>['Single-player', 'Online PvP', 'Online Co-op'...</td>\n",
       "      <td>Requires a 64-bit processor and operating syst...</td>\n",
       "    </tr>\n",
       "  </tbody>\n",
       "</table>\n",
       "</div>"
      ],
      "text/plain": [
       "                              Title Original Price Discounted Price  \\\n",
       "0                   Baldur's Gate 3         $29.99           $29.99   \n",
       "1  Counter-Strike: Global Offensive         $14.99           $14.99   \n",
       "2                     Apex Legends™           Free             Free   \n",
       "3                   Forza Horizon 5         $34.78           $17.39   \n",
       "4                     Call of Duty®           Free             Free   \n",
       "\n",
       "   Release Date                                               Link  \\\n",
       "0   3 Aug, 2023  https://store.steampowered.com/app/1086940/Bal...   \n",
       "1  21 Aug, 2012  https://store.steampowered.com/app/730/Counter...   \n",
       "2   4 Nov, 2020  https://store.steampowered.com/app/1172470/Ape...   \n",
       "3   8 Nov, 2021  https://store.steampowered.com/app/1551360/For...   \n",
       "4  27 Oct, 2022  https://store.steampowered.com/app/1938090/Cal...   \n",
       "\n",
       "                                    Game Description   Recent Reviews Summary  \\\n",
       "0  Baldur’s Gate 3 is a story-rich, party-based R...  Overwhelmingly Positive   \n",
       "1  Counter-Strike: Global Offensive (CS: GO) expa...            Very Positive   \n",
       "2  Apex Legends is the award-winning, free-to-pla...                    Mixed   \n",
       "3  Your Ultimate Horizon Adventure awaits! Explor...            Very Positive   \n",
       "4  Welcome to Call of Duty® HQ, the home of Call ...                    Mixed   \n",
       "\n",
       "  All Reviews Summary                              Recent Reviews Number  \\\n",
       "0       Very Positive  - 96% of the 128,900 user reviews in the last ...   \n",
       "1       Very Positive  - 89% of the 75,284 user reviews in the last 3...   \n",
       "2       Very Positive  - 65% of the 18,581 user reviews in the last 3...   \n",
       "3       Very Positive  - 87% of the 4,120 user reviews in the last 30...   \n",
       "4               Mixed  - 49% of the 8,257 user reviews in the last 30...   \n",
       "\n",
       "                                  All Reviews Number  \\\n",
       "0  - 94% of the 188,617 user reviews for this gam...   \n",
       "1  - 88% of the 7,428,921 user reviews for this g...   \n",
       "2  - 80% of the 701,597 user reviews for this gam...   \n",
       "3  - 88% of the 123,162 user reviews for this gam...   \n",
       "4  - 57% of the 236,876 user reviews for this gam...   \n",
       "\n",
       "                                           Developer          Publisher  \\\n",
       "0                                     Larian Studios     Larian Studios   \n",
       "1                   Valve, Hidden Path Entertainment              Valve   \n",
       "2                              Respawn Entertainment    Electronic Arts   \n",
       "3                                   Playground Games  Xbox Game Studios   \n",
       "4  Infinity Ward, Raven Software, Beenox, Treyarc...         Activision   \n",
       "\n",
       "                                 Supported Languages  \\\n",
       "0  ['English', 'French', 'German', 'Spanish - Spa...   \n",
       "1  ['English', 'Czech', 'Danish', 'Dutch', 'Finni...   \n",
       "2  ['English', 'French', 'Italian', 'German', 'Sp...   \n",
       "3  ['English', 'French', 'Italian', 'German', 'Sp...   \n",
       "4  ['English', 'French', 'Italian', 'German', 'Sp...   \n",
       "\n",
       "                                        Popular Tags  \\\n",
       "0  ['RPG', 'Choices Matter', 'Character Customiza...   \n",
       "1  ['FPS', 'Shooter', 'Multiplayer', 'Competitive...   \n",
       "2  ['Free to Play', 'Multiplayer', 'Battle Royale...   \n",
       "3  ['Racing', 'Open World', 'Driving', 'Multiplay...   \n",
       "4  ['FPS', 'Multiplayer', 'Shooter', 'Action', 'S...   \n",
       "\n",
       "                                       Game Features  \\\n",
       "0  ['Single-player', 'Online Co-op', 'LAN Co-op',...   \n",
       "1  ['Steam Achievements', 'Full controller suppor...   \n",
       "2  ['Online PvP', 'Online Co-op', 'Steam Achievem...   \n",
       "3  ['Single-player', 'Online PvP', 'Online Co-op'...   \n",
       "4  ['Single-player', 'Online PvP', 'Online Co-op'...   \n",
       "\n",
       "                                Minimum Requirements  \n",
       "0  Requires a 64-bit processor and operating syst...  \n",
       "1  OS: |  Windows® 7/Vista/XP | Processor: |  Int...  \n",
       "2  Requires a 64-bit processor and operating syst...  \n",
       "3  Requires a 64-bit processor and operating syst...  \n",
       "4  Requires a 64-bit processor and operating syst...  "
      ]
     },
     "execution_count": 3,
     "metadata": {},
     "output_type": "execute_result"
    }
   ],
   "source": [
    "game_df = pd.read_csv(\"steam_games.csv\")\n",
    "game_df.head(5)"
   ]
  },
  {
   "cell_type": "code",
   "execution_count": 4,
   "metadata": {},
   "outputs": [],
   "source": [
    "game_df.drop_duplicates(\"Title\", inplace=True)\n",
    "game_df[\"Game Description\"] = game_df[\"Game Description\"].astype(str)\n",
    "\n",
    "descriptions = game_df[[\"Title\", \"Game Description\", \"Popular Tags\"]]"
   ]
  },
  {
   "cell_type": "code",
   "execution_count": 5,
   "metadata": {},
   "outputs": [],
   "source": [
    "def deacronym(tags):\n",
    "    new_tags = []\n",
    "    for tag in tags:\n",
    "        match tag.split():\n",
    "            case [\"MMORPG\"]:\n",
    "                new_tag = \"Massively Multiplayer Online Role-Playing Game\"\n",
    "            case [s1, \"RPG\", s2]:\n",
    "                new_tag = s1.strip() + \" Role-Playing Game \" + s2.strip()\n",
    "            case [\"RPG\"]:\n",
    "                new_tag = \"Role-Playing Game\"\n",
    "            case [\"FPS\"]:\n",
    "                new_tag = \"First Person Shooter\"\n",
    "            case [\"Sci-fi\"]:\n",
    "                new_tag = \"Science Fiction\"\n",
    "            case [\"PvP\"]:\n",
    "                new_tag = \"Player versus Player\"\n",
    "            case [\"PvE\"]:\n",
    "                new_tag = \"Player versus Entity\"\n",
    "            case [\"MOBA\"]:\n",
    "                new_tag = \"Multiplayer Online Battle Arena Video Games\"\n",
    "            case _:\n",
    "                new_tag = tag\n",
    "        new_tags.append(new_tag)\n",
    "    return new_tags"
   ]
  },
  {
   "cell_type": "code",
   "execution_count": 6,
   "metadata": {},
   "outputs": [
    {
     "name": "stderr",
     "output_type": "stream",
     "text": [
      "/var/folders/p_/m397w35d7z9fks5tyvbp93480000gn/T/ipykernel_24543/2068819577.py:18: SettingWithCopyWarning: \n",
      "A value is trying to be set on a copy of a slice from a DataFrame.\n",
      "Try using .loc[row_indexer,col_indexer] = value instead\n",
      "\n",
      "See the caveats in the documentation: https://pandas.pydata.org/pandas-docs/stable/user_guide/indexing.html#returning-a-view-versus-a-copy\n",
      "  descriptions.loc[idx, \"Description and Tags\"] = desc + \" \" + tag\n"
     ]
    }
   ],
   "source": [
    "from ast import literal_eval\n",
    "\n",
    "# Combines descriptions and tags for each game\n",
    "for idx, (tag, desc) in enumerate(zip(descriptions[\"Popular Tags\"], descriptions[\"Game Description\"])):\n",
    "    tag = deacronym(literal_eval(tag))\n",
    "    if \"Free to Play\" in tag:\n",
    "        tag.remove(\"Free to Play\")\n",
    "    if \"Early Access\" in tag:\n",
    "        tag.remove(\"Early Access\")\n",
    "    if \"Online Co-Op\" in tag:\n",
    "        tag.remove(\"Online Co-Op\")\n",
    "    if \"Co-op\" in tag:\n",
    "        tag.remove(\"Co-op\")\n",
    "\n",
    "    tag = \", \".join(tag[:7])\n",
    "\n",
    "    descriptions.loc[idx, \"Popular Tags\"] = tag\n",
    "    descriptions.loc[idx, \"Description and Tags\"] = desc + \" \" + tag"
   ]
  },
  {
   "cell_type": "code",
   "execution_count": 7,
   "metadata": {},
   "outputs": [
    {
     "data": {
      "text/html": [
       "<div>\n",
       "<style scoped>\n",
       "    .dataframe tbody tr th:only-of-type {\n",
       "        vertical-align: middle;\n",
       "    }\n",
       "\n",
       "    .dataframe tbody tr th {\n",
       "        vertical-align: top;\n",
       "    }\n",
       "\n",
       "    .dataframe thead th {\n",
       "        text-align: right;\n",
       "    }\n",
       "</style>\n",
       "<table border=\"1\" class=\"dataframe\">\n",
       "  <thead>\n",
       "    <tr style=\"text-align: right;\">\n",
       "      <th></th>\n",
       "      <th>Title</th>\n",
       "      <th>Game Description</th>\n",
       "      <th>Popular Tags</th>\n",
       "      <th>Description and Tags</th>\n",
       "    </tr>\n",
       "  </thead>\n",
       "  <tbody>\n",
       "    <tr>\n",
       "      <th>0</th>\n",
       "      <td>Baldur's Gate 3</td>\n",
       "      <td>Baldur’s Gate 3 is a story-rich, party-based RPG set in the universe of Dungeons &amp; Dragons, where your choices shape a tale of fellowship and betrayal, survival and sacrifice, and the lure of absolute power.</td>\n",
       "      <td>Role-Playing Game, Choices Matter, Character Customization, Story Rich, Adventure, CRPG, Multiplayer</td>\n",
       "      <td>Baldur’s Gate 3 is a story-rich, party-based RPG set in the universe of Dungeons &amp; Dragons, where your choices shape a tale of fellowship and betrayal, survival and sacrifice, and the lure of absolute power. Role-Playing Game, Choices Matter, Character Customization, Story Rich, Adventure, CRPG, Multiplayer</td>\n",
       "    </tr>\n",
       "    <tr>\n",
       "      <th>1</th>\n",
       "      <td>Counter-Strike: Global Offensive</td>\n",
       "      <td>Counter-Strike: Global Offensive (CS: GO) expands upon the team-based action gameplay that it pioneered when it was launched 19 years ago. CS: GO features new maps, characters, weapons, and game modes, and delivers updated versions of the classic CS content (de_dust2, etc.).</td>\n",
       "      <td>First Person Shooter, Shooter, Multiplayer, Competitive, Action, Team-Based, eSports</td>\n",
       "      <td>Counter-Strike: Global Offensive (CS: GO) expands upon the team-based action gameplay that it pioneered when it was launched 19 years ago. CS: GO features new maps, characters, weapons, and game modes, and delivers updated versions of the classic CS content (de_dust2, etc.). First Person Shooter, Shooter, Multiplayer, Competitive, Action, Team-Based, eSports</td>\n",
       "    </tr>\n",
       "    <tr>\n",
       "      <th>2</th>\n",
       "      <td>Apex Legends™</td>\n",
       "      <td>Apex Legends is the award-winning, free-to-play Hero Shooter from Respawn Entertainment. Master an ever-growing roster of legendary characters with powerful abilities, and experience strategic squad play and innovative gameplay in the next evolution of Hero Shooter and Battle Royale.</td>\n",
       "      <td>Multiplayer, Battle Royale, Shooter, First Person Shooter, First-Person, Player versus Player, Action</td>\n",
       "      <td>Apex Legends is the award-winning, free-to-play Hero Shooter from Respawn Entertainment. Master an ever-growing roster of legendary characters with powerful abilities, and experience strategic squad play and innovative gameplay in the next evolution of Hero Shooter and Battle Royale. Multiplayer, Battle Royale, Shooter, First Person Shooter, First-Person, Player versus Player, Action</td>\n",
       "    </tr>\n",
       "    <tr>\n",
       "      <th>3</th>\n",
       "      <td>Forza Horizon 5</td>\n",
       "      <td>Your Ultimate Horizon Adventure awaits! Explore the vibrant open world landscapes of Mexico with limitless, fun driving action in the world’s greatest cars. Conquer the rugged Sierra Nueva in the ultimate Horizon Rally experience. Requires Forza Horizon 5 game, expansion sold separately.</td>\n",
       "      <td>Racing, Open World, Driving, Multiplayer, Automobile Sim, Realistic, Adventure</td>\n",
       "      <td>Your Ultimate Horizon Adventure awaits! Explore the vibrant open world landscapes of Mexico with limitless, fun driving action in the world’s greatest cars. Conquer the rugged Sierra Nueva in the ultimate Horizon Rally experience. Requires Forza Horizon 5 game, expansion sold separately. Racing, Open World, Driving, Multiplayer, Automobile Sim, Realistic, Adventure</td>\n",
       "    </tr>\n",
       "    <tr>\n",
       "      <th>4</th>\n",
       "      <td>Call of Duty®</td>\n",
       "      <td>Welcome to Call of Duty® HQ, the home of Call of Duty®: Modern Warfare® III, Call of Duty®: Modern Warfare® II and Warzone™.</td>\n",
       "      <td>First Person Shooter, Multiplayer, Shooter, Action, Singleplayer, Military, First-Person</td>\n",
       "      <td>Welcome to Call of Duty® HQ, the home of Call of Duty®: Modern Warfare® III, Call of Duty®: Modern Warfare® II and Warzone™. First Person Shooter, Multiplayer, Shooter, Action, Singleplayer, Military, First-Person</td>\n",
       "    </tr>\n",
       "    <tr>\n",
       "      <th>...</th>\n",
       "      <td>...</td>\n",
       "      <td>...</td>\n",
       "      <td>...</td>\n",
       "      <td>...</td>\n",
       "    </tr>\n",
       "    <tr>\n",
       "      <th>71695</th>\n",
       "      <td>The Front</td>\n",
       "      <td>The Front is a survival-open-world-crafting (SOC) shooter game. Players will assume the role of a resistance fighter sent back in time to stop the rise of a tyrannical empire that has conquered the world using technology based on unknown relics.</td>\n",
       "      <td>Survival, Building, Sandbox, Post-apocalyptic, Shooter, Simulation, Crafting</td>\n",
       "      <td>The Front is a survival-open-world-crafting (SOC) shooter game. Players will assume the role of a resistance fighter sent back in time to stop the rise of a tyrannical empire that has conquered the world using technology based on unknown relics. Survival, Building, Sandbox, Post-apocalyptic, Shooter, Simulation, Crafting</td>\n",
       "    </tr>\n",
       "    <tr>\n",
       "      <th>71696</th>\n",
       "      <td>The Bornless</td>\n",
       "      <td>Welcome to The Bornless, an action horror FPS. Face off against other players, summon demons, and build factions in a Lovecraftian world. Use Black Magick, acquire powerful weapons, upgrade your Safehouse, and strategize to survive.</td>\n",
       "      <td>Horror, First Person Shooter, Shooter, Multiplayer, Action, Adventure, Survival Horror</td>\n",
       "      <td>Welcome to The Bornless, an action horror FPS. Face off against other players, summon demons, and build factions in a Lovecraftian world. Use Black Magick, acquire powerful weapons, upgrade your Safehouse, and strategize to survive. Horror, First Person Shooter, Shooter, Multiplayer, Action, Adventure, Survival Horror</td>\n",
       "    </tr>\n",
       "    <tr>\n",
       "      <th>71697</th>\n",
       "      <td>Winter Memories</td>\n",
       "      <td>After the unforgettable summer memories you’ve made half a year ago, Yui, Rio, and Miyuki are back. With the change of seasons and the cold falling snow, a new page to your story is about to begin.</td>\n",
       "      <td>Casual, Role-Playing Game, Simulation, Sexual Content, Hentai, Anime, JRPG</td>\n",
       "      <td>After the unforgettable summer memories you’ve made half a year ago, Yui, Rio, and Miyuki are back. With the change of seasons and the cold falling snow, a new page to your story is about to begin. Casual, Role-Playing Game, Simulation, Sexual Content, Hentai, Anime, JRPG</td>\n",
       "    </tr>\n",
       "    <tr>\n",
       "      <th>71698</th>\n",
       "      <td>Call of Duty®: Modern Warfare® III</td>\n",
       "      <td>In the direct sequel to the record-breaking Call of Duty®: Modern Warfare® II, Captain Price and Task Force 141 face off against the ultimate threat.</td>\n",
       "      <td>Action, First Person Shooter, Shooter, First-Person, Military, Modern, Multiplayer</td>\n",
       "      <td>In the direct sequel to the record-breaking Call of Duty®: Modern Warfare® II, Captain Price and Task Force 141 face off against the ultimate threat. Action, First Person Shooter, Shooter, First-Person, Military, Modern, Multiplayer</td>\n",
       "    </tr>\n",
       "    <tr>\n",
       "      <th>71699</th>\n",
       "      <td>Pixel Gun 3D: PC Edition</td>\n",
       "      <td>Pixel Gun 3D is a near complete PC port of a legendary multiplayer FPS with blocky and colorful graphics. Fight in multiple game modes, unlock dozens of maps and collect more than 1500 unique guns</td>\n",
       "      <td>Action, Shooter, Pixel Graphics, Battle Royale, First Person Shooter, 3D, Adventure</td>\n",
       "      <td>Pixel Gun 3D is a near complete PC port of a legendary multiplayer FPS with blocky and colorful graphics. Fight in multiple game modes, unlock dozens of maps and collect more than 1500 unique guns Action, Shooter, Pixel Graphics, Battle Royale, First Person Shooter, 3D, Adventure</td>\n",
       "    </tr>\n",
       "  </tbody>\n",
       "</table>\n",
       "<p>71700 rows × 4 columns</p>\n",
       "</div>"
      ],
      "text/plain": [
       "                                    Title  \\\n",
       "0                         Baldur's Gate 3   \n",
       "1        Counter-Strike: Global Offensive   \n",
       "2                           Apex Legends™   \n",
       "3                         Forza Horizon 5   \n",
       "4                           Call of Duty®   \n",
       "...                                   ...   \n",
       "71695                           The Front   \n",
       "71696                        The Bornless   \n",
       "71697                     Winter Memories   \n",
       "71698  Call of Duty®: Modern Warfare® III   \n",
       "71699            Pixel Gun 3D: PC Edition   \n",
       "\n",
       "                                                                                                                                                                                                                                                                                       Game Description  \\\n",
       "0                                                                                       Baldur’s Gate 3 is a story-rich, party-based RPG set in the universe of Dungeons & Dragons, where your choices shape a tale of fellowship and betrayal, survival and sacrifice, and the lure of absolute power.   \n",
       "1                   Counter-Strike: Global Offensive (CS: GO) expands upon the team-based action gameplay that it pioneered when it was launched 19 years ago. CS: GO features new maps, characters, weapons, and game modes, and delivers updated versions of the classic CS content (de_dust2, etc.).   \n",
       "2          Apex Legends is the award-winning, free-to-play Hero Shooter from Respawn Entertainment. Master an ever-growing roster of legendary characters with powerful abilities, and experience strategic squad play and innovative gameplay in the next evolution of Hero Shooter and Battle Royale.   \n",
       "3      Your Ultimate Horizon Adventure awaits! Explore the vibrant open world landscapes of Mexico with limitless, fun driving action in the world’s greatest cars. Conquer the rugged Sierra Nueva in the ultimate Horizon Rally experience. Requires Forza Horizon 5 game, expansion sold separately.   \n",
       "4                                                                                                                                                                          Welcome to Call of Duty® HQ, the home of Call of Duty®: Modern Warfare® III, Call of Duty®: Modern Warfare® II and Warzone™.   \n",
       "...                                                                                                                                                                                                                                                                                                 ...   \n",
       "71695                                             The Front is a survival-open-world-crafting (SOC) shooter game. Players will assume the role of a resistance fighter sent back in time to stop the rise of a tyrannical empire that has conquered the world using technology based on unknown relics.   \n",
       "71696                                                          Welcome to The Bornless, an action horror FPS. Face off against other players, summon demons, and build factions in a Lovecraftian world. Use Black Magick, acquire powerful weapons, upgrade your Safehouse, and strategize to survive.   \n",
       "71697                                                                                             After the unforgettable summer memories you’ve made half a year ago, Yui, Rio, and Miyuki are back. With the change of seasons and the cold falling snow, a new page to your story is about to begin.   \n",
       "71698                                                                                                                                             In the direct sequel to the record-breaking Call of Duty®: Modern Warfare® II, Captain Price and Task Force 141 face off against the ultimate threat.   \n",
       "71699                                                                                              Pixel Gun 3D is a near complete PC port of a legendary multiplayer FPS with blocky and colorful graphics. Fight in multiple game modes, unlock dozens of maps and collect more than 1500 unique guns   \n",
       "\n",
       "                                                                                                Popular Tags  \\\n",
       "0       Role-Playing Game, Choices Matter, Character Customization, Story Rich, Adventure, CRPG, Multiplayer   \n",
       "1                       First Person Shooter, Shooter, Multiplayer, Competitive, Action, Team-Based, eSports   \n",
       "2      Multiplayer, Battle Royale, Shooter, First Person Shooter, First-Person, Player versus Player, Action   \n",
       "3                             Racing, Open World, Driving, Multiplayer, Automobile Sim, Realistic, Adventure   \n",
       "4                   First Person Shooter, Multiplayer, Shooter, Action, Singleplayer, Military, First-Person   \n",
       "...                                                                                                      ...   \n",
       "71695                           Survival, Building, Sandbox, Post-apocalyptic, Shooter, Simulation, Crafting   \n",
       "71696                 Horror, First Person Shooter, Shooter, Multiplayer, Action, Adventure, Survival Horror   \n",
       "71697                             Casual, Role-Playing Game, Simulation, Sexual Content, Hentai, Anime, JRPG   \n",
       "71698                     Action, First Person Shooter, Shooter, First-Person, Military, Modern, Multiplayer   \n",
       "71699                    Action, Shooter, Pixel Graphics, Battle Royale, First Person Shooter, 3D, Adventure   \n",
       "\n",
       "                                                                                                                                                                                                                                                                                                                                                                                     Description and Tags  \n",
       "0                                                                                    Baldur’s Gate 3 is a story-rich, party-based RPG set in the universe of Dungeons & Dragons, where your choices shape a tale of fellowship and betrayal, survival and sacrifice, and the lure of absolute power. Role-Playing Game, Choices Matter, Character Customization, Story Rich, Adventure, CRPG, Multiplayer  \n",
       "1                                Counter-Strike: Global Offensive (CS: GO) expands upon the team-based action gameplay that it pioneered when it was launched 19 years ago. CS: GO features new maps, characters, weapons, and game modes, and delivers updated versions of the classic CS content (de_dust2, etc.). First Person Shooter, Shooter, Multiplayer, Competitive, Action, Team-Based, eSports  \n",
       "2      Apex Legends is the award-winning, free-to-play Hero Shooter from Respawn Entertainment. Master an ever-growing roster of legendary characters with powerful abilities, and experience strategic squad play and innovative gameplay in the next evolution of Hero Shooter and Battle Royale. Multiplayer, Battle Royale, Shooter, First Person Shooter, First-Person, Player versus Player, Action  \n",
       "3                         Your Ultimate Horizon Adventure awaits! Explore the vibrant open world landscapes of Mexico with limitless, fun driving action in the world’s greatest cars. Conquer the rugged Sierra Nueva in the ultimate Horizon Rally experience. Requires Forza Horizon 5 game, expansion sold separately. Racing, Open World, Driving, Multiplayer, Automobile Sim, Realistic, Adventure  \n",
       "4                                                                                                                                                                                   Welcome to Call of Duty® HQ, the home of Call of Duty®: Modern Warfare® III, Call of Duty®: Modern Warfare® II and Warzone™. First Person Shooter, Multiplayer, Shooter, Action, Singleplayer, Military, First-Person  \n",
       "...                                                                                                                                                                                                                                                                                                                                                                                                   ...  \n",
       "71695                                                                  The Front is a survival-open-world-crafting (SOC) shooter game. Players will assume the role of a resistance fighter sent back in time to stop the rise of a tyrannical empire that has conquered the world using technology based on unknown relics. Survival, Building, Sandbox, Post-apocalyptic, Shooter, Simulation, Crafting  \n",
       "71696                                                                     Welcome to The Bornless, an action horror FPS. Face off against other players, summon demons, and build factions in a Lovecraftian world. Use Black Magick, acquire powerful weapons, upgrade your Safehouse, and strategize to survive. Horror, First Person Shooter, Shooter, Multiplayer, Action, Adventure, Survival Horror  \n",
       "71697                                                                                                                    After the unforgettable summer memories you’ve made half a year ago, Yui, Rio, and Miyuki are back. With the change of seasons and the cold falling snow, a new page to your story is about to begin. Casual, Role-Playing Game, Simulation, Sexual Content, Hentai, Anime, JRPG  \n",
       "71698                                                                                                                                                            In the direct sequel to the record-breaking Call of Duty®: Modern Warfare® II, Captain Price and Task Force 141 face off against the ultimate threat. Action, First Person Shooter, Shooter, First-Person, Military, Modern, Multiplayer  \n",
       "71699                                                                                                            Pixel Gun 3D is a near complete PC port of a legendary multiplayer FPS with blocky and colorful graphics. Fight in multiple game modes, unlock dozens of maps and collect more than 1500 unique guns Action, Shooter, Pixel Graphics, Battle Royale, First Person Shooter, 3D, Adventure  \n",
       "\n",
       "[71700 rows x 4 columns]"
      ]
     },
     "execution_count": 7,
     "metadata": {},
     "output_type": "execute_result"
    }
   ],
   "source": [
    "pd.set_option('display.max_colwidth', None)\n",
    "descriptions"
   ]
  },
  {
   "cell_type": "code",
   "execution_count": 8,
   "metadata": {},
   "outputs": [
    {
     "name": "stderr",
     "output_type": "stream",
     "text": [
      "/var/folders/p_/m397w35d7z9fks5tyvbp93480000gn/T/ipykernel_24543/1368167605.py:1: SettingWithCopyWarning: \n",
      "A value is trying to be set on a copy of a slice from a DataFrame.\n",
      "Try using .loc[row_indexer,col_indexer] = value instead\n",
      "\n",
      "See the caveats in the documentation: https://pandas.pydata.org/pandas-docs/stable/user_guide/indexing.html#returning-a-view-versus-a-copy\n",
      "  descriptions[\"tokenize_desc\"] = descriptions[\"Game Description\"].apply(tokenize)\n",
      "/var/folders/p_/m397w35d7z9fks5tyvbp93480000gn/T/ipykernel_24543/1368167605.py:3: SettingWithCopyWarning: \n",
      "A value is trying to be set on a copy of a slice from a DataFrame.\n",
      "Try using .loc[row_indexer,col_indexer] = value instead\n",
      "\n",
      "See the caveats in the documentation: https://pandas.pydata.org/pandas-docs/stable/user_guide/indexing.html#returning-a-view-versus-a-copy\n",
      "  descriptions[\"tokenize_tag\"] = descriptions[\"Popular Tags\"].apply(tokenize)\n",
      "/var/folders/p_/m397w35d7z9fks5tyvbp93480000gn/T/ipykernel_24543/1368167605.py:5: SettingWithCopyWarning: \n",
      "A value is trying to be set on a copy of a slice from a DataFrame.\n",
      "Try using .loc[row_indexer,col_indexer] = value instead\n",
      "\n",
      "See the caveats in the documentation: https://pandas.pydata.org/pandas-docs/stable/user_guide/indexing.html#returning-a-view-versus-a-copy\n",
      "  descriptions[\"tokenize_desc_tag\"] = descriptions[\"Description and Tags\"].apply(tokenize)\n"
     ]
    }
   ],
   "source": [
    "descriptions[\"tokenize_desc\"] = descriptions[\"Game Description\"].apply(tokenize)\n",
    "\n",
    "descriptions[\"tokenize_tag\"] = descriptions[\"Popular Tags\"].apply(tokenize)\n",
    "\n",
    "descriptions[\"tokenize_desc_tag\"] = descriptions[\"Description and Tags\"].apply(tokenize)"
   ]
  },
  {
   "cell_type": "markdown",
   "metadata": {},
   "source": [
    "## Visualization"
   ]
  },
  {
   "cell_type": "markdown",
   "metadata": {},
   "source": [
    "Checking cosine similarity of tags."
   ]
  },
  {
   "cell_type": "code",
   "execution_count": 9,
   "metadata": {},
   "outputs": [],
   "source": [
    "# for i in range(10):\n",
    "#     s1, t1 = descriptions.loc[i, [\"Title\", \"tokenize_tag\"]]\n",
    "#     s2, t2 = descriptions.loc[i + 1, [\"Title\", \"tokenize_tag\"]]\n",
    "#     print(s1 + \" | \" + s2 + \" | \" + str(int(util.cos_sim(model.encode(t1), model.encode(t2)))))\n",
    "#     print()"
   ]
  },
  {
   "cell_type": "code",
   "execution_count": 10,
   "metadata": {},
   "outputs": [],
   "source": [
    "from sklearn.cluster import KMeans\n",
    "from sklearn.decomposition import PCA\n",
    "import numpy as np\n",
    "import pandas as pd\n",
    "import plotly.express as px"
   ]
  },
  {
   "cell_type": "code",
   "execution_count": 11,
   "metadata": {},
   "outputs": [],
   "source": [
    "sample_df = descriptions.head(100)"
   ]
  },
  {
   "cell_type": "code",
   "execution_count": 12,
   "metadata": {},
   "outputs": [],
   "source": [
    "def clustering(embeddings, num_clusters):\n",
    "    model = KMeans(n_clusters=num_clusters, random_state=RANDOM_STATE)\n",
    "    model.fit(embeddings)\n",
    "    return model.labels_\n",
    "\n",
    "def visualization_pca(descriptions, embeddings, n_cluster=6):\n",
    "    X = np.array(embeddings)\n",
    "    pca = PCA(n_components=3, random_state=RANDOM_STATE)\n",
    "    result = pca.fit_transform(X)\n",
    "    df = pd.DataFrame({\n",
    "    'sent': descriptions[\"Title\"],\n",
    "    'cluster': clustering(embeddings, n_cluster).astype(str),\n",
    "    'x': result[:, 0],\n",
    "    'y': result[:, 1],\n",
    "    'z': result[:, 2]\n",
    "    })\n",
    "    fig = px.scatter_3d(df, x='x', y='y', z='z',\n",
    "              color='cluster', hover_name='sent',\n",
    "              range_x = [df.x.min()-0.5, df.x.max()+0.5],\n",
    "              range_y = [df.y.min()-0.5, df.y.max()+0.5],\n",
    "              range_z = [df.z.min()-0.5, df.z.max()+0.5])\n",
    "    fig.update_layout(\n",
    "    width=1280,   # Set the desired width\n",
    "    height=720   # Set the desired height\n",
    "    )\n",
    "    fig.update_traces(hovertemplate= '<b>%{hovertext}</b>')\n",
    "    fig.show()\n",
    "\n",
    "def visualize_pca(model, df, col, n_cluster=6):\n",
    "    embeddings = model.encode(df[col].to_numpy())\n",
    "    visualization_pca(df, embeddings, n_cluster)"
   ]
  },
  {
   "cell_type": "markdown",
   "metadata": {},
   "source": [
    "### Visualizing Descriptions"
   ]
  },
  {
   "cell_type": "code",
   "execution_count": 13,
   "metadata": {},
   "outputs": [
    {
     "name": "stderr",
     "output_type": "stream",
     "text": [
      "/Library/Frameworks/Python.framework/Versions/3.12/lib/python3.12/site-packages/transformers/models/mpnet/modeling_mpnet.py:1052: UserWarning: cumsum_out_mps supported by MPS on MacOS 13+, please upgrade (Triggered internally at /Users/runner/work/pytorch/pytorch/pytorch/aten/src/ATen/native/mps/operations/UnaryOps.mm:422.)\n",
      "  incremental_indices = torch.cumsum(mask, dim=1).type_as(mask) * mask\n",
      "/Library/Frameworks/Python.framework/Versions/3.12/lib/python3.12/site-packages/sklearn/cluster/_kmeans.py:1416: FutureWarning: The default value of `n_init` will change from 10 to 'auto' in 1.4. Set the value of `n_init` explicitly to suppress the warning\n",
      "  super()._check_params_vs_input(X, default_n_init=10)\n",
      "huggingface/tokenizers: The current process just got forked, after parallelism has already been used. Disabling parallelism to avoid deadlocks...\n",
      "To disable this warning, you can either:\n",
      "\t- Avoid using `tokenizers` before the fork if possible\n",
      "\t- Explicitly set the environment variable TOKENIZERS_PARALLELISM=(true | false)\n"
     ]
    },
    {
     "data": {
      "application/vnd.plotly.v1+json": {
       "config": {
        "plotlyServerURL": "https://plot.ly"
       },
       "data": [
        {
         "hovertemplate": "<b>%{hovertext}</b>",
         "hovertext": [
          "Baldur's Gate 3",
          "Counter-Strike: Global Offensive",
          "Apex Legends™",
          "PUBG: BATTLEGROUNDS",
          "Remnant II",
          "NARAKA: BLADEPOINT",
          "Tom Clancy's Rainbow Six® Siege",
          "Team Fortress 2",
          "Dota 2",
          "War Thunder",
          "FINAL FANTASY XIV Online",
          "The Elder Scrolls® Online",
          "Warframe",
          "BattleBit Remastered",
          "Street Fighter™ 6",
          "Destiny 2",
          "ELDEN RING",
          "Hearts of Iron IV",
          "Yu-Gi-Oh! Master Duel",
          "World of Warships",
          "Red Dead Redemption 2",
          "Hunt: Showdown",
          "Hogwarts Legacy",
          "Ready or Not",
          "Mount & Blade II: Bannerlord",
          "Sengoku Dynasty",
          "Wayfinder",
          "ARMORED CORE™ VI FIRES OF RUBICON™",
          "Path of Exile",
          "Terraria",
          "Stellaris",
          "Deep Rock Galactic",
          "World of Tanks Blitz",
          "Ratchet & Clank: Rift Apart",
          "Eternal Return",
          "The Elder Scrolls V: Skyrim Special Edition",
          "It Takes Two",
          "The Binding of Isaac: Rebirth",
          "Brawlhalla",
          "DRAGON BALL Z: KAKAROT",
          "New World",
          "Guild Wars 2",
          "BlazBlue Entropy Effect",
          "Marvel’s Spider-Man Remastered"
         ],
         "legendgroup": "1",
         "marker": {
          "color": "#636efa",
          "symbol": "circle"
         },
         "mode": "markers",
         "name": "1",
         "scene": "scene",
         "showlegend": true,
         "type": "scatter3d",
         "x": [
          -0.0678412914276123,
          0.2957114279270172,
          0.1392422765493393,
          0.19939671456813812,
          -0.14061543345451355,
          0.17176192998886108,
          0.10440050810575485,
          0.19225753843784332,
          0.24021314084529877,
          0.24282220005989075,
          0.05642426386475563,
          0.01722433604300022,
          0.06192335486412048,
          0.14649701118469238,
          0.3593868911266327,
          0.04868922755122185,
          -0.05439939349889755,
          0.06312134861946106,
          0.1459769457578659,
          0.1911582201719284,
          -0.015436805784702301,
          -0.00919900182634592,
          0.010172626934945583,
          0.02528320997953415,
          0.02003096044063568,
          -0.13577117025852203,
          -0.03407392278313637,
          0.1773960292339325,
          -0.16023749113082886,
          -0.0734279453754425,
          0.09548406302928925,
          0.01833490841090679,
          0.13605447113513947,
          0.05884268134832382,
          0.014113903045654297,
          0.15511715412139893,
          -0.04400109499692917,
          -0.08068976551294327,
          0.19415046274662018,
          0.1612798124551773,
          -0.1883331537246704,
          0.1792229413986206,
          0.07149559259414673,
          0.11692167073488235
         ],
         "y": [
          -0.18650071322917938,
          -0.05453832820057869,
          -0.17653368413448334,
          -0.13556253910064697,
          -0.21531251072883606,
          -0.29125723242759705,
          -0.06992336362600327,
          -0.12162377685308456,
          -0.09462898224592209,
          -0.14586086571216583,
          -0.23200909793376923,
          -0.3254188001155853,
          -0.40813905000686646,
          -0.10926893353462219,
          0.051289550960063934,
          -0.24143919348716736,
          -0.3251866102218628,
          -0.1584431231021881,
          -0.1519172638654709,
          -0.03757728263735771,
          -0.02938258834183216,
          0.01767067238688469,
          -0.16320140659809113,
          0.19931960105895996,
          -0.32810258865356445,
          -0.2016787827014923,
          -0.2501969039440155,
          -0.18634717166423798,
          -0.27328139543533325,
          -0.1448783129453659,
          -0.16226932406425476,
          -0.13722527027130127,
          -0.11680116504430771,
          -0.060049571096897125,
          -0.19613827764987946,
          -0.04684050753712654,
          -0.06293470412492752,
          -0.2197016328573227,
          -0.3095022737979889,
          -0.06951682269573212,
          -0.2731248438358307,
          -0.28546154499053955,
          -0.23320278525352478,
          -0.0010443705832585692
         ],
         "z": [
          0.11905774474143982,
          -0.14644397795200348,
          -0.2687044143676758,
          -0.17756769061088562,
          -0.17509222030639648,
          -0.029638024047017097,
          -0.24844767153263092,
          0.050846509635448456,
          -0.03488441929221153,
          -0.11906778067350388,
          0.27435263991355896,
          0.02944062277674675,
          -0.08751648664474487,
          -0.27393364906311035,
          -0.19838561117649078,
          -0.16290335357189178,
          0.29583773016929626,
          0.15663163363933563,
          -0.1445743590593338,
          0.1326719969511032,
          -0.1511535495519638,
          -0.3209457993507385,
          0.10482987016439438,
          -0.25134193897247314,
          0.16431058943271637,
          0.19021746516227722,
          0.1943596452474594,
          0.03150208294391632,
          0.1629427820444107,
          0.11884094029664993,
          0.14451175928115845,
          -0.1606919914484024,
          0.17877867817878723,
          -0.04507101699709892,
          -0.044336799532175064,
          0.06244105100631714,
          -0.059509675949811935,
          0.043337780982255936,
          -0.153655543923378,
          -0.04143339395523071,
          0.14491184055805206,
          -0.07208246737718582,
          0.0737503245472908,
          -0.2645845413208008
         ]
        },
        {
         "hovertemplate": "<b>%{hovertext}</b>",
         "hovertext": [
          "Forza Horizon 5",
          "The Sims™ 4",
          "Farming Simulator 22",
          "Cities: Skylines",
          "Microsoft Flight Simulator 40th Anniversary Edition",
          "BeamNG.drive",
          "Planet Zoo",
          "Garry's Mod"
         ],
         "legendgroup": "2",
         "marker": {
          "color": "#EF553B",
          "symbol": "circle"
         },
         "mode": "markers",
         "name": "2",
         "scene": "scene",
         "showlegend": true,
         "type": "scatter3d",
         "x": [
          0.305023729801178,
          0.039264384657144547,
          -0.13959196209907532,
          0.1432095170021057,
          0.3124922215938568,
          0.23575100302696228,
          0.04484036564826965,
          0.12141706049442291
         ],
         "y": [
          0.35577401518821716,
          0.1139487773180008,
          0.23495861887931824,
          0.1484752744436264,
          0.18073052167892456,
          0.425067275762558,
          0.2379039227962494,
          0.2281331866979599
         ],
         "z": [
          0.0019574835896492004,
          0.19028255343437195,
          0.3350399434566498,
          -0.04307563975453377,
          0.005112085957080126,
          0.10684213787317276,
          0.1401263177394867,
          0.2624736428260803
         ]
        },
        {
         "hovertemplate": "<b>%{hovertext}</b>",
         "hovertext": [
          "Call of Duty®",
          "Dead by Daylight",
          "PAYDAY 2",
          "Project Zomboid",
          "Fallout 76",
          "Call of Duty®: Black Ops III",
          "Dead Cells",
          "Vampire Survivors",
          "DayZ",
          "Dying Light"
         ],
         "legendgroup": "6",
         "marker": {
          "color": "#00cc96",
          "symbol": "circle"
         },
         "mode": "markers",
         "name": "6",
         "scene": "scene",
         "showlegend": true,
         "type": "scatter3d",
         "x": [
          0.13016976416110992,
          -0.21878668665885925,
          -0.015529077500104904,
          -0.327827125787735,
          -0.11449790000915527,
          -0.027858277782797813,
          -0.16041229665279388,
          -0.3276771605014801,
          -0.33902642130851746,
          -0.28331679105758667
         ],
         "y": [
          0.004868313204497099,
          0.10863953083753586,
          0.080257847905159,
          0.17181217670440674,
          0.05207819491624832,
          0.05352906510233879,
          0.009714570827782154,
          0.0665295422077179,
          0.14774970710277557,
          0.07997068762779236
         ],
         "z": [
          -0.1717480570077896,
          -0.2914808392524719,
          -0.44523540139198303,
          -0.1579202562570572,
          -0.19510307908058167,
          -0.2902434766292572,
          -0.12448515743017197,
          -0.22534987330436707,
          -0.20857639610767365,
          -0.25786346197128296
         ]
        },
        {
         "hovertemplate": "<b>%{hovertext}</b>",
         "hovertext": [
          "Cyberpunk 2077",
          "Rust",
          "Phasmophobia",
          "DAVE THE DIVER",
          "Sons Of The Forest",
          "The Texas Chain Saw Massacre",
          "Raft",
          "Sea of Thieves 2023 Edition",
          "Metro Exodus",
          "RimWorld",
          "ARK: Survival Evolved",
          "SCP: 5K",
          "Shadow Gambit: The Cursed Crew",
          "theHunter: Call of the Wild™",
          "Darkest Dungeon® II",
          "Graveyard Keeper",
          "Escape the Backrooms",
          "Don't Starve Together",
          "BOOK OF HOURS",
          "Valheim"
         ],
         "legendgroup": "7",
         "marker": {
          "color": "#ab63fa",
          "symbol": "circle"
         },
         "mode": "markers",
         "name": "7",
         "scene": "scene",
         "showlegend": true,
         "type": "scatter3d",
         "x": [
          0.016957463696599007,
          -0.4057137370109558,
          -0.25069430470466614,
          -0.11327999830245972,
          -0.37642887234687805,
          -0.2797282338142395,
          -0.2826181650161743,
          -0.0002575271937530488,
          -0.14305250346660614,
          -0.044805895537137985,
          -0.3745797872543335,
          -0.09326555579900742,
          -0.25011858344078064,
          -0.07222797721624374,
          -0.33634281158447266,
          -0.22666557133197784,
          -0.26529166102409363,
          -0.3052201271057129,
          -0.2568216919898987,
          -0.31358546018600464
         ],
         "y": [
          0.028513263911008835,
          0.17199112474918365,
          0.13598784804344177,
          0.026405388489365578,
          0.12252394109964371,
          0.3309881091117859,
          0.04744735732674599,
          0.10318580269813538,
          0.12926141917705536,
          0.09683456271886826,
          -0.11685622483491898,
          0.02521931752562523,
          -0.03825514763593674,
          0.032815925776958466,
          0.015490120276808739,
          0.1380009949207306,
          0.0007708321791142225,
          -0.09240973740816116,
          -0.05241761729121208,
          -0.22569993138313293
         ],
         "z": [
          0.0025946185924112797,
          0.07607079297304153,
          -0.18068887293338776,
          -0.015566506423056126,
          -0.05612226948142052,
          -0.19857501983642578,
          -0.05259303003549576,
          0.05819731578230858,
          0.09612585604190826,
          0.16119298338890076,
          0.04508715495467186,
          -0.13368777930736542,
          0.010218796320259571,
          -0.046163160353899,
          0.08604980260133743,
          0.28986600041389465,
          -0.18715998530387878,
          -0.032011259347200394,
          0.31762945652008057,
          0.08454611897468567
         ]
        },
        {
         "hovertemplate": "<b>%{hovertext}</b>",
         "hovertext": [
          "Grand Theft Auto V",
          "EA SPORTS™ FIFA 23",
          "Football Manager 2023",
          "Starfield",
          "Madden NFL 24",
          "F1® 23",
          "EA SPORTS FC™ 24"
         ],
         "legendgroup": "4",
         "marker": {
          "color": "#FFA15A",
          "symbol": "circle"
         },
         "mode": "markers",
         "name": "4",
         "scene": "scene",
         "showlegend": true,
         "type": "scatter3d",
         "x": [
          0.2764010727405548,
          0.4812472462654114,
          0.2019505351781845,
          0.2554902732372284,
          0.47690549492836,
          0.3535197973251343,
          0.3979153335094452
         ],
         "y": [
          0.254229336977005,
          0.12137997895479202,
          0.13281449675559998,
          -0.025564275681972504,
          0.22444532811641693,
          0.24661888182163239,
          0.0831088274717331
         ],
         "z": [
          -0.17042802274227142,
          0.004235238768160343,
          0.2159990519285202,
          0.05991757661104202,
          -0.011870753020048141,
          0.056652434170246124,
          0.0010157659417018294
         ]
        },
        {
         "hovertemplate": "<b>%{hovertext}</b>",
         "hovertext": [
          "Total War: WARHAMMER III",
          "Stardew Valley",
          "Crusader Kings III",
          "Sid Meier’s Civilization® VI"
         ],
         "legendgroup": "0",
         "marker": {
          "color": "#19d3f3",
          "symbol": "circle"
         },
         "mode": "markers",
         "name": "0",
         "scene": "scene",
         "showlegend": true,
         "type": "scatter3d",
         "x": [
          -0.05704384669661522,
          -0.1351429969072342,
          -0.10052892565727234,
          0.061126258224248886
         ],
         "y": [
          -0.12481535226106644,
          0.2869831323623657,
          -0.12846145033836365,
          -0.004926642868667841
         ],
         "z": [
          0.3102762699127197,
          0.286398708820343,
          0.45178738236427307,
          0.32550162076950073
         ]
        },
        {
         "hovertemplate": "<b>%{hovertext}</b>",
         "hovertext": [
          "Forza Horizon 4",
          "Euro Truck Simulator 2",
          "American Truck Simulator",
          "Contraband Police"
         ],
         "legendgroup": "3",
         "marker": {
          "color": "#FF6692",
          "symbol": "circle"
         },
         "mode": "markers",
         "name": "3",
         "scene": "scene",
         "showlegend": true,
         "type": "scatter3d",
         "x": [
          0.07421228289604187,
          0.16860303282737732,
          0.24293667078018188,
          -0.08291569352149963
         ],
         "y": [
          0.3732311725616455,
          0.40660345554351807,
          0.4744267165660858,
          0.3869093656539917
         ],
         "z": [
          0.2816466987133026,
          0.26370927691459656,
          0.02826792746782303,
          0.2944907546043396
         ]
        },
        {
         "hovertemplate": "<b>%{hovertext}</b>",
         "hovertext": [
          "The Outlast Trials",
          "Six Days in Fallujah",
          "Resident Evil 4"
         ],
         "legendgroup": "5",
         "marker": {
          "color": "#B6E880",
          "symbol": "circle"
         },
         "mode": "markers",
         "name": "5",
         "scene": "scene",
         "showlegend": true,
         "type": "scatter3d",
         "x": [
          -0.2751659154891968,
          -0.07625016570091248,
          -0.373245507478714
         ],
         "y": [
          0.15373468399047852,
          0.15048401057720184,
          0.3726039230823517
         ],
         "z": [
          -0.03991314023733139,
          -0.2595357298851013,
          -0.0955219715833664
         ]
        }
       ],
       "layout": {
        "height": 720,
        "legend": {
         "title": {
          "text": "cluster"
         },
         "tracegroupgap": 0
        },
        "margin": {
         "t": 60
        },
        "scene": {
         "domain": {
          "x": [
           0,
           1
          ],
          "y": [
           0,
           1
          ]
         },
         "xaxis": {
          "range": [
           -0.9057137370109558,
           0.9812472462654114
          ],
          "title": {
           "text": "x"
          }
         },
         "yaxis": {
          "range": [
           -0.9081390500068665,
           0.9744267165660858
          ],
          "title": {
           "text": "y"
          }
         },
         "zaxis": {
          "range": [
           -0.945235401391983,
           0.9517873823642731
          ],
          "title": {
           "text": "z"
          }
         }
        },
        "template": {
         "data": {
          "bar": [
           {
            "error_x": {
             "color": "#2a3f5f"
            },
            "error_y": {
             "color": "#2a3f5f"
            },
            "marker": {
             "line": {
              "color": "#E5ECF6",
              "width": 0.5
             },
             "pattern": {
              "fillmode": "overlay",
              "size": 10,
              "solidity": 0.2
             }
            },
            "type": "bar"
           }
          ],
          "barpolar": [
           {
            "marker": {
             "line": {
              "color": "#E5ECF6",
              "width": 0.5
             },
             "pattern": {
              "fillmode": "overlay",
              "size": 10,
              "solidity": 0.2
             }
            },
            "type": "barpolar"
           }
          ],
          "carpet": [
           {
            "aaxis": {
             "endlinecolor": "#2a3f5f",
             "gridcolor": "white",
             "linecolor": "white",
             "minorgridcolor": "white",
             "startlinecolor": "#2a3f5f"
            },
            "baxis": {
             "endlinecolor": "#2a3f5f",
             "gridcolor": "white",
             "linecolor": "white",
             "minorgridcolor": "white",
             "startlinecolor": "#2a3f5f"
            },
            "type": "carpet"
           }
          ],
          "choropleth": [
           {
            "colorbar": {
             "outlinewidth": 0,
             "ticks": ""
            },
            "type": "choropleth"
           }
          ],
          "contour": [
           {
            "colorbar": {
             "outlinewidth": 0,
             "ticks": ""
            },
            "colorscale": [
             [
              0,
              "#0d0887"
             ],
             [
              0.1111111111111111,
              "#46039f"
             ],
             [
              0.2222222222222222,
              "#7201a8"
             ],
             [
              0.3333333333333333,
              "#9c179e"
             ],
             [
              0.4444444444444444,
              "#bd3786"
             ],
             [
              0.5555555555555556,
              "#d8576b"
             ],
             [
              0.6666666666666666,
              "#ed7953"
             ],
             [
              0.7777777777777778,
              "#fb9f3a"
             ],
             [
              0.8888888888888888,
              "#fdca26"
             ],
             [
              1,
              "#f0f921"
             ]
            ],
            "type": "contour"
           }
          ],
          "contourcarpet": [
           {
            "colorbar": {
             "outlinewidth": 0,
             "ticks": ""
            },
            "type": "contourcarpet"
           }
          ],
          "heatmap": [
           {
            "colorbar": {
             "outlinewidth": 0,
             "ticks": ""
            },
            "colorscale": [
             [
              0,
              "#0d0887"
             ],
             [
              0.1111111111111111,
              "#46039f"
             ],
             [
              0.2222222222222222,
              "#7201a8"
             ],
             [
              0.3333333333333333,
              "#9c179e"
             ],
             [
              0.4444444444444444,
              "#bd3786"
             ],
             [
              0.5555555555555556,
              "#d8576b"
             ],
             [
              0.6666666666666666,
              "#ed7953"
             ],
             [
              0.7777777777777778,
              "#fb9f3a"
             ],
             [
              0.8888888888888888,
              "#fdca26"
             ],
             [
              1,
              "#f0f921"
             ]
            ],
            "type": "heatmap"
           }
          ],
          "heatmapgl": [
           {
            "colorbar": {
             "outlinewidth": 0,
             "ticks": ""
            },
            "colorscale": [
             [
              0,
              "#0d0887"
             ],
             [
              0.1111111111111111,
              "#46039f"
             ],
             [
              0.2222222222222222,
              "#7201a8"
             ],
             [
              0.3333333333333333,
              "#9c179e"
             ],
             [
              0.4444444444444444,
              "#bd3786"
             ],
             [
              0.5555555555555556,
              "#d8576b"
             ],
             [
              0.6666666666666666,
              "#ed7953"
             ],
             [
              0.7777777777777778,
              "#fb9f3a"
             ],
             [
              0.8888888888888888,
              "#fdca26"
             ],
             [
              1,
              "#f0f921"
             ]
            ],
            "type": "heatmapgl"
           }
          ],
          "histogram": [
           {
            "marker": {
             "pattern": {
              "fillmode": "overlay",
              "size": 10,
              "solidity": 0.2
             }
            },
            "type": "histogram"
           }
          ],
          "histogram2d": [
           {
            "colorbar": {
             "outlinewidth": 0,
             "ticks": ""
            },
            "colorscale": [
             [
              0,
              "#0d0887"
             ],
             [
              0.1111111111111111,
              "#46039f"
             ],
             [
              0.2222222222222222,
              "#7201a8"
             ],
             [
              0.3333333333333333,
              "#9c179e"
             ],
             [
              0.4444444444444444,
              "#bd3786"
             ],
             [
              0.5555555555555556,
              "#d8576b"
             ],
             [
              0.6666666666666666,
              "#ed7953"
             ],
             [
              0.7777777777777778,
              "#fb9f3a"
             ],
             [
              0.8888888888888888,
              "#fdca26"
             ],
             [
              1,
              "#f0f921"
             ]
            ],
            "type": "histogram2d"
           }
          ],
          "histogram2dcontour": [
           {
            "colorbar": {
             "outlinewidth": 0,
             "ticks": ""
            },
            "colorscale": [
             [
              0,
              "#0d0887"
             ],
             [
              0.1111111111111111,
              "#46039f"
             ],
             [
              0.2222222222222222,
              "#7201a8"
             ],
             [
              0.3333333333333333,
              "#9c179e"
             ],
             [
              0.4444444444444444,
              "#bd3786"
             ],
             [
              0.5555555555555556,
              "#d8576b"
             ],
             [
              0.6666666666666666,
              "#ed7953"
             ],
             [
              0.7777777777777778,
              "#fb9f3a"
             ],
             [
              0.8888888888888888,
              "#fdca26"
             ],
             [
              1,
              "#f0f921"
             ]
            ],
            "type": "histogram2dcontour"
           }
          ],
          "mesh3d": [
           {
            "colorbar": {
             "outlinewidth": 0,
             "ticks": ""
            },
            "type": "mesh3d"
           }
          ],
          "parcoords": [
           {
            "line": {
             "colorbar": {
              "outlinewidth": 0,
              "ticks": ""
             }
            },
            "type": "parcoords"
           }
          ],
          "pie": [
           {
            "automargin": true,
            "type": "pie"
           }
          ],
          "scatter": [
           {
            "fillpattern": {
             "fillmode": "overlay",
             "size": 10,
             "solidity": 0.2
            },
            "type": "scatter"
           }
          ],
          "scatter3d": [
           {
            "line": {
             "colorbar": {
              "outlinewidth": 0,
              "ticks": ""
             }
            },
            "marker": {
             "colorbar": {
              "outlinewidth": 0,
              "ticks": ""
             }
            },
            "type": "scatter3d"
           }
          ],
          "scattercarpet": [
           {
            "marker": {
             "colorbar": {
              "outlinewidth": 0,
              "ticks": ""
             }
            },
            "type": "scattercarpet"
           }
          ],
          "scattergeo": [
           {
            "marker": {
             "colorbar": {
              "outlinewidth": 0,
              "ticks": ""
             }
            },
            "type": "scattergeo"
           }
          ],
          "scattergl": [
           {
            "marker": {
             "colorbar": {
              "outlinewidth": 0,
              "ticks": ""
             }
            },
            "type": "scattergl"
           }
          ],
          "scattermapbox": [
           {
            "marker": {
             "colorbar": {
              "outlinewidth": 0,
              "ticks": ""
             }
            },
            "type": "scattermapbox"
           }
          ],
          "scatterpolar": [
           {
            "marker": {
             "colorbar": {
              "outlinewidth": 0,
              "ticks": ""
             }
            },
            "type": "scatterpolar"
           }
          ],
          "scatterpolargl": [
           {
            "marker": {
             "colorbar": {
              "outlinewidth": 0,
              "ticks": ""
             }
            },
            "type": "scatterpolargl"
           }
          ],
          "scatterternary": [
           {
            "marker": {
             "colorbar": {
              "outlinewidth": 0,
              "ticks": ""
             }
            },
            "type": "scatterternary"
           }
          ],
          "surface": [
           {
            "colorbar": {
             "outlinewidth": 0,
             "ticks": ""
            },
            "colorscale": [
             [
              0,
              "#0d0887"
             ],
             [
              0.1111111111111111,
              "#46039f"
             ],
             [
              0.2222222222222222,
              "#7201a8"
             ],
             [
              0.3333333333333333,
              "#9c179e"
             ],
             [
              0.4444444444444444,
              "#bd3786"
             ],
             [
              0.5555555555555556,
              "#d8576b"
             ],
             [
              0.6666666666666666,
              "#ed7953"
             ],
             [
              0.7777777777777778,
              "#fb9f3a"
             ],
             [
              0.8888888888888888,
              "#fdca26"
             ],
             [
              1,
              "#f0f921"
             ]
            ],
            "type": "surface"
           }
          ],
          "table": [
           {
            "cells": {
             "fill": {
              "color": "#EBF0F8"
             },
             "line": {
              "color": "white"
             }
            },
            "header": {
             "fill": {
              "color": "#C8D4E3"
             },
             "line": {
              "color": "white"
             }
            },
            "type": "table"
           }
          ]
         },
         "layout": {
          "annotationdefaults": {
           "arrowcolor": "#2a3f5f",
           "arrowhead": 0,
           "arrowwidth": 1
          },
          "autotypenumbers": "strict",
          "coloraxis": {
           "colorbar": {
            "outlinewidth": 0,
            "ticks": ""
           }
          },
          "colorscale": {
           "diverging": [
            [
             0,
             "#8e0152"
            ],
            [
             0.1,
             "#c51b7d"
            ],
            [
             0.2,
             "#de77ae"
            ],
            [
             0.3,
             "#f1b6da"
            ],
            [
             0.4,
             "#fde0ef"
            ],
            [
             0.5,
             "#f7f7f7"
            ],
            [
             0.6,
             "#e6f5d0"
            ],
            [
             0.7,
             "#b8e186"
            ],
            [
             0.8,
             "#7fbc41"
            ],
            [
             0.9,
             "#4d9221"
            ],
            [
             1,
             "#276419"
            ]
           ],
           "sequential": [
            [
             0,
             "#0d0887"
            ],
            [
             0.1111111111111111,
             "#46039f"
            ],
            [
             0.2222222222222222,
             "#7201a8"
            ],
            [
             0.3333333333333333,
             "#9c179e"
            ],
            [
             0.4444444444444444,
             "#bd3786"
            ],
            [
             0.5555555555555556,
             "#d8576b"
            ],
            [
             0.6666666666666666,
             "#ed7953"
            ],
            [
             0.7777777777777778,
             "#fb9f3a"
            ],
            [
             0.8888888888888888,
             "#fdca26"
            ],
            [
             1,
             "#f0f921"
            ]
           ],
           "sequentialminus": [
            [
             0,
             "#0d0887"
            ],
            [
             0.1111111111111111,
             "#46039f"
            ],
            [
             0.2222222222222222,
             "#7201a8"
            ],
            [
             0.3333333333333333,
             "#9c179e"
            ],
            [
             0.4444444444444444,
             "#bd3786"
            ],
            [
             0.5555555555555556,
             "#d8576b"
            ],
            [
             0.6666666666666666,
             "#ed7953"
            ],
            [
             0.7777777777777778,
             "#fb9f3a"
            ],
            [
             0.8888888888888888,
             "#fdca26"
            ],
            [
             1,
             "#f0f921"
            ]
           ]
          },
          "colorway": [
           "#636efa",
           "#EF553B",
           "#00cc96",
           "#ab63fa",
           "#FFA15A",
           "#19d3f3",
           "#FF6692",
           "#B6E880",
           "#FF97FF",
           "#FECB52"
          ],
          "font": {
           "color": "#2a3f5f"
          },
          "geo": {
           "bgcolor": "white",
           "lakecolor": "white",
           "landcolor": "#E5ECF6",
           "showlakes": true,
           "showland": true,
           "subunitcolor": "white"
          },
          "hoverlabel": {
           "align": "left"
          },
          "hovermode": "closest",
          "mapbox": {
           "style": "light"
          },
          "paper_bgcolor": "white",
          "plot_bgcolor": "#E5ECF6",
          "polar": {
           "angularaxis": {
            "gridcolor": "white",
            "linecolor": "white",
            "ticks": ""
           },
           "bgcolor": "#E5ECF6",
           "radialaxis": {
            "gridcolor": "white",
            "linecolor": "white",
            "ticks": ""
           }
          },
          "scene": {
           "xaxis": {
            "backgroundcolor": "#E5ECF6",
            "gridcolor": "white",
            "gridwidth": 2,
            "linecolor": "white",
            "showbackground": true,
            "ticks": "",
            "zerolinecolor": "white"
           },
           "yaxis": {
            "backgroundcolor": "#E5ECF6",
            "gridcolor": "white",
            "gridwidth": 2,
            "linecolor": "white",
            "showbackground": true,
            "ticks": "",
            "zerolinecolor": "white"
           },
           "zaxis": {
            "backgroundcolor": "#E5ECF6",
            "gridcolor": "white",
            "gridwidth": 2,
            "linecolor": "white",
            "showbackground": true,
            "ticks": "",
            "zerolinecolor": "white"
           }
          },
          "shapedefaults": {
           "line": {
            "color": "#2a3f5f"
           }
          },
          "ternary": {
           "aaxis": {
            "gridcolor": "white",
            "linecolor": "white",
            "ticks": ""
           },
           "baxis": {
            "gridcolor": "white",
            "linecolor": "white",
            "ticks": ""
           },
           "bgcolor": "#E5ECF6",
           "caxis": {
            "gridcolor": "white",
            "linecolor": "white",
            "ticks": ""
           }
          },
          "title": {
           "x": 0.05
          },
          "xaxis": {
           "automargin": true,
           "gridcolor": "white",
           "linecolor": "white",
           "ticks": "",
           "title": {
            "standoff": 15
           },
           "zerolinecolor": "white",
           "zerolinewidth": 2
          },
          "yaxis": {
           "automargin": true,
           "gridcolor": "white",
           "linecolor": "white",
           "ticks": "",
           "title": {
            "standoff": 15
           },
           "zerolinecolor": "white",
           "zerolinewidth": 2
          }
         }
        },
        "width": 1280
       }
      }
     },
     "metadata": {},
     "output_type": "display_data"
    }
   ],
   "source": [
    "visualize_pca(model, sample_df, \"tokenize_desc\", 8)"
   ]
  },
  {
   "cell_type": "markdown",
   "metadata": {},
   "source": [
    "### Visualizing Tags"
   ]
  },
  {
   "cell_type": "code",
   "execution_count": 14,
   "metadata": {},
   "outputs": [
    {
     "name": "stderr",
     "output_type": "stream",
     "text": [
      "/Library/Frameworks/Python.framework/Versions/3.12/lib/python3.12/site-packages/sklearn/cluster/_kmeans.py:1416: FutureWarning:\n",
      "\n",
      "The default value of `n_init` will change from 10 to 'auto' in 1.4. Set the value of `n_init` explicitly to suppress the warning\n",
      "\n"
     ]
    },
    {
     "data": {
      "application/vnd.plotly.v1+json": {
       "config": {
        "plotlyServerURL": "https://plot.ly"
       },
       "data": [
        {
         "hovertemplate": "<b>%{hovertext}</b>",
         "hovertext": [
          "Baldur's Gate 3",
          "Warframe",
          "DAVE THE DIVER",
          "Yu-Gi-Oh! Master Duel",
          "The Sims™ 4",
          "Red Dead Redemption 2",
          "Hogwarts Legacy",
          "Starfield",
          "Stardew Valley",
          "Sengoku Dynasty",
          "Sea of Thieves 2023 Edition",
          "Path of Exile",
          "Dead Cells",
          "Ratchet & Clank: Rift Apart",
          "Vampire Survivors",
          "Darkest Dungeon® II",
          "Graveyard Keeper",
          "The Elder Scrolls V: Skyrim Special Edition",
          "It Takes Two",
          "The Binding of Isaac: Rebirth",
          "DRAGON BALL Z: KAKAROT",
          "BOOK OF HOURS",
          "BlazBlue Entropy Effect",
          "Marvel’s Spider-Man Remastered"
         ],
         "legendgroup": "7",
         "marker": {
          "color": "#636efa",
          "symbol": "circle"
         },
         "mode": "markers",
         "name": "7",
         "scene": "scene",
         "showlegend": true,
         "type": "scatter3d",
         "x": [
          -0.034596800804138184,
          -0.1776987761259079,
          0.027515603229403496,
          -0.03038526140153408,
          0.1721017062664032,
          -0.09497208148241043,
          -0.026769815012812614,
          -0.07678956538438797,
          0.21029385924339294,
          0.08568622916936874,
          -0.027486640959978104,
          -0.1823219209909439,
          -0.2543562650680542,
          -0.24318724870681763,
          -0.2621459364891052,
          -0.2275325506925583,
          0.1290290504693985,
          0.007174273487180471,
          -0.13290640711784363,
          -0.19250817596912384,
          -0.14082194864749908,
          0.00001858576069935225,
          -0.11685246229171753,
          -0.17235217988491058
         ],
         "y": [
          -0.19375252723693848,
          -0.07313615083694458,
          -0.18342699110507965,
          0.07818952202796936,
          -0.06556914001703262,
          -0.16091938316822052,
          -0.2874261736869812,
          -0.31795117259025574,
          -0.15946316719055176,
          -0.3266823887825012,
          0.01849285326898098,
          -0.09929143637418747,
          -0.18756899237632751,
          -0.06514094769954681,
          -0.042581167072057724,
          -0.12635916471481323,
          -0.08067593723535538,
          -0.3239162862300873,
          0.024524925276637077,
          -0.33187103271484375,
          0.07495181262493134,
          -0.1734696626663208,
          -0.1570120006799698,
          -0.022121107205748558
         ],
         "z": [
          0.23224583268165588,
          0.23264548182487488,
          0.07359917461872101,
          0.13016122579574585,
          -0.13589951395988464,
          -0.07394950836896896,
          0.15805669128894806,
          0.15567399561405182,
          -0.02986021712422371,
          0.1483788639307022,
          -0.08197184652090073,
          0.14897313714027405,
          -0.07154204696416855,
          -0.06159145012497902,
          -0.1007034108042717,
          0.09451165050268173,
          -0.09250064939260483,
          0.18550942838191986,
          -0.05647501349449158,
          0.1346150040626526,
          0.04817478358745575,
          0.08829982578754425,
          -0.023146776482462883,
          -0.09050842374563217
         ]
        },
        {
         "hovertemplate": "<b>%{hovertext}</b>",
         "hovertext": [
          "Counter-Strike: Global Offensive",
          "Apex Legends™",
          "Call of Duty®",
          "PUBG: BATTLEGROUNDS",
          "NARAKA: BLADEPOINT",
          "Grand Theft Auto V",
          "Tom Clancy's Rainbow Six® Siege",
          "Team Fortress 2",
          "BattleBit Remastered",
          "Street Fighter™ 6",
          "Destiny 2",
          "PAYDAY 2",
          "Hunt: Showdown",
          "Ready or Not",
          "ARMORED CORE™ VI FIRES OF RUBICON™",
          "Microsoft Flight Simulator 40th Anniversary Edition",
          "Call of Duty®: Black Ops III",
          "Deep Rock Galactic",
          "World of Tanks Blitz",
          "SCP: 5K",
          "theHunter: Call of the Wild™",
          "DayZ",
          "Six Days in Fallujah",
          "Brawlhalla"
         ],
         "legendgroup": "0",
         "marker": {
          "color": "#EF553B",
          "symbol": "circle"
         },
         "mode": "markers",
         "name": "0",
         "scene": "scene",
         "showlegend": true,
         "type": "scatter3d",
         "x": [
          -0.08996620774269104,
          -0.19136691093444824,
          -0.18210533261299133,
          -0.20962829887866974,
          -0.14164716005325317,
          0.06688661873340607,
          -0.082891084253788,
          -0.20167970657348633,
          -0.10006089508533478,
          -0.12508618831634521,
          -0.15452997386455536,
          -0.20591433346271515,
          -0.12497371435165405,
          -0.12382213026285172,
          0.1355583667755127,
          0.16129188239574432,
          -0.24456524848937988,
          -0.07113313674926758,
          -0.07120127230882645,
          -0.28731727600097656,
          -0.02871481515467167,
          -0.1665496975183487,
          -0.09945138543844223,
          -0.17152881622314453
         ],
         "y": [
          0.3307327628135681,
          0.3512728810310364,
          0.26415741443634033,
          0.24621231853961945,
          0.18912926316261292,
          0.030079185962677002,
          0.3559880554676056,
          0.29205071926116943,
          0.30996736884117126,
          0.1684451550245285,
          0.1052756980061531,
          0.25954288244247437,
          0.10572594404220581,
          0.262337327003479,
          0.1957937777042389,
          0.10220614820718765,
          0.2716645896434784,
          0.18635611236095428,
          0.3314230740070343,
          0.23650267720222473,
          0.06995969265699387,
          0.13342373073101044,
          0.276875376701355,
          0.2201928049325943
         ],
         "z": [
          -0.014362340793013573,
          -0.018134161829948425,
          -0.013156299479305744,
          -0.12319987267255783,
          0.15784607827663422,
          -0.15703904628753662,
          -0.0063964626751840115,
          -0.008971895091235638,
          0.033015280961990356,
          -0.003656539134681225,
          0.13324567675590515,
          -0.15269102156162262,
          -0.08921542763710022,
          -0.02350752241909504,
          -0.04596860706806183,
          -0.2222767472267151,
          -0.1136038526892662,
          -0.15190383791923523,
          0.07218751311302185,
          -0.12945795059204102,
          -0.1857091188430786,
          -0.26621562242507935,
          0.04460720717906952,
          -0.0073151737451553345
         ]
        },
        {
         "hovertemplate": "<b>%{hovertext}</b>",
         "hovertext": [
          "Forza Horizon 5",
          "War Thunder",
          "Forza Horizon 4",
          "Euro Truck Simulator 2",
          "American Truck Simulator",
          "F1® 23",
          "BeamNG.drive"
         ],
         "legendgroup": "4",
         "marker": {
          "color": "#00cc96",
          "symbol": "circle"
         },
         "mode": "markers",
         "name": "4",
         "scene": "scene",
         "showlegend": true,
         "type": "scatter3d",
         "x": [
          0.22389477491378784,
          0.4300738275051117,
          0.2589254677295685,
          0.5429086089134216,
          0.5989793539047241,
          0.2241651564836502,
          0.5027880668640137
         ],
         "y": [
          -0.029174016788601875,
          0.15683726966381073,
          0.0375143364071846,
          -0.20450346171855927,
          -0.2080339640378952,
          0.17250722646713257,
          -0.13959640264511108
         ],
         "z": [
          -0.19334344565868378,
          0.16411182284355164,
          -0.19547471404075623,
          0.006519351154565811,
          0.009120967239141464,
          -0.2091352939605713,
          -0.10979094356298447
         ]
        },
        {
         "hovertemplate": "<b>%{hovertext}</b>",
         "hovertext": [
          "Remnant II",
          "Cyberpunk 2077",
          "Dead by Daylight",
          "Phasmophobia",
          "ELDEN RING",
          "Sons Of The Forest",
          "The Texas Chain Saw Massacre",
          "Fallout 76",
          "Metro Exodus",
          "The Outlast Trials",
          "Escape the Backrooms",
          "Contraband Police",
          "Resident Evil 4",
          "Dying Light"
         ],
         "legendgroup": "5",
         "marker": {
          "color": "#ab63fa",
          "symbol": "circle"
         },
         "mode": "markers",
         "name": "5",
         "scene": "scene",
         "showlegend": true,
         "type": "scatter3d",
         "x": [
          -0.32367023825645447,
          -0.02041678875684738,
          -0.23909711837768555,
          -0.1683133989572525,
          -0.23790231347084045,
          -0.11965691298246384,
          -0.2190680056810379,
          -0.09889417141675949,
          -0.19636566936969757,
          -0.22527877986431122,
          -0.271207720041275,
          0.12582778930664062,
          -0.31104525923728943,
          -0.11018963158130646
         ],
         "y": [
          -0.19339194893836975,
          -0.22572281956672668,
          -0.13649733364582062,
          -0.13805919885635376,
          -0.35785746574401855,
          -0.18628448247909546,
          -0.10243088006973267,
          -0.22976727783679962,
          -0.08518855273723602,
          -0.20174571871757507,
          -0.2511143088340759,
          -0.24023005366325378,
          -0.0185464508831501,
          -0.26572322845458984
         ],
         "z": [
          0.009326118975877762,
          0.053456325083971024,
          -0.22220589220523834,
          -0.2108943611383438,
          0.087271548807621,
          -0.29478418827056885,
          -0.03747004270553589,
          0.03132885694503784,
          -0.20274925231933594,
          -0.1396053582429886,
          -0.15963345766067505,
          -0.04802772402763367,
          -0.14986325800418854,
          -0.07753773778676987
         ]
        },
        {
         "hovertemplate": "<b>%{hovertext}</b>",
         "hovertext": [
          "Rust",
          "Project Zomboid",
          "Raft",
          "Farming Simulator 22",
          "Cities: Skylines",
          "RimWorld",
          "Terraria",
          "ARK: Survival Evolved",
          "Don't Starve Together",
          "Planet Zoo",
          "Garry's Mod",
          "Valheim"
         ],
         "legendgroup": "1",
         "marker": {
          "color": "#FFA15A",
          "symbol": "circle"
         },
         "mode": "markers",
         "name": "1",
         "scene": "scene",
         "showlegend": true,
         "type": "scatter3d",
         "x": [
          0.055905938148498535,
          -0.005969441030174494,
          0.13884848356246948,
          0.3927968144416809,
          0.34713947772979736,
          0.4146832227706909,
          0.04121419042348862,
          0.13638783991336823,
          0.0623859278857708,
          0.42539918422698975,
          0.13904045522212982,
          0.1001548022031784
         ],
         "y": [
          -0.035506196320056915,
          -0.07333922386169434,
          -0.13250304758548737,
          0.007732539437711239,
          0.06976620107889175,
          0.0159536674618721,
          -0.14111751317977905,
          -0.21942320466041565,
          -0.12604935467243195,
          -0.03210430592298508,
          -0.09646137058734894,
          -0.24704141914844513
         ],
         "z": [
          -0.23992450535297394,
          -0.3212207555770874,
          -0.2204972207546234,
          -0.19843563437461853,
          -0.2360135018825531,
          -0.18697988986968994,
          -0.32404741644859314,
          -0.20209035277366638,
          -0.26881712675094604,
          -0.23032456636428833,
          -0.03413830325007439,
          -0.13816191256046295
         ]
        },
        {
         "hovertemplate": "<b>%{hovertext}</b>",
         "hovertext": [
          "Dota 2",
          "FINAL FANTASY XIV Online",
          "The Elder Scrolls® Online",
          "World of Warships",
          "Wayfinder",
          "Eternal Return",
          "New World",
          "Guild Wars 2"
         ],
         "legendgroup": "2",
         "marker": {
          "color": "#19d3f3",
          "symbol": "circle"
         },
         "mode": "markers",
         "name": "2",
         "scene": "scene",
         "showlegend": true,
         "type": "scatter3d",
         "x": [
          0.0497678741812706,
          -0.01055537536740303,
          -0.05580313876271248,
          0.15434610843658447,
          -0.11280887573957443,
          -0.08254483342170715,
          -0.03973398357629776,
          -0.027736548334360123
         ],
         "y": [
          0.3475159704685211,
          -0.18807950615882874,
          -0.15828920900821686,
          0.1540462076663971,
          -0.0357360765337944,
          0.25106897950172424,
          -0.06060630828142166,
          -0.0354483388364315
         ],
         "z": [
          0.2912524938583374,
          0.44033339619636536,
          0.3324003219604492,
          0.35414940118789673,
          0.3714495897293091,
          0.14253033697605133,
          0.3734067380428314,
          0.28126442432403564
         ]
        },
        {
         "hovertemplate": "<b>%{hovertext}</b>",
         "hovertext": [
          "EA SPORTS™ FIFA 23",
          "Football Manager 2023",
          "Madden NFL 24",
          "EA SPORTS FC™ 24"
         ],
         "legendgroup": "6",
         "marker": {
          "color": "#FF6692",
          "symbol": "circle"
         },
         "mode": "markers",
         "name": "6",
         "scene": "scene",
         "showlegend": true,
         "type": "scatter3d",
         "x": [
          0.3405192196369171,
          0.33528101444244385,
          0.20070450007915497,
          0.15493471920490265
         ],
         "y": [
          0.3660745918750763,
          0.36928030848503113,
          0.3169495761394501,
          0.35771429538726807
         ],
         "z": [
          0.04211941733956337,
          -0.04591613635420799,
          0.015313374809920788,
          0.10772406309843063
         ]
        },
        {
         "hovertemplate": "<b>%{hovertext}</b>",
         "hovertext": [
          "Hearts of Iron IV",
          "Total War: WARHAMMER III",
          "Mount & Blade II: Bannerlord",
          "Stellaris",
          "Crusader Kings III",
          "Shadow Gambit: The Cursed Crew",
          "Sid Meier’s Civilization® VI"
         ],
         "legendgroup": "3",
         "marker": {
          "color": "#B6E880",
          "symbol": "circle"
         },
         "mode": "markers",
         "name": "3",
         "scene": "scene",
         "showlegend": true,
         "type": "scatter3d",
         "x": [
          0.30943095684051514,
          0.048725977540016174,
          0.08636511117219925,
          0.24499256908893585,
          0.2234678417444229,
          0.033571455627679825,
          0.0048943329602479935
         ],
         "y": [
          0.08504308760166168,
          -0.034993190318346024,
          0.022094106301665306,
          -0.11795339733362198,
          -0.0519750751554966,
          0.07296321541070938,
          0.08429327607154846
         ],
         "z": [
          0.44457945227622986,
          0.35883283615112305,
          0.10974068939685822,
          0.1841103881597519,
          0.3318493962287903,
          0.32372811436653137,
          0.31034615635871887
         ]
        }
       ],
       "layout": {
        "height": 720,
        "legend": {
         "title": {
          "text": "cluster"
         },
         "tracegroupgap": 0
        },
        "margin": {
         "t": 60
        },
        "scene": {
         "domain": {
          "x": [
           0,
           1
          ],
          "y": [
           0,
           1
          ]
         },
         "xaxis": {
          "range": [
           -0.8236702382564545,
           1.0989793539047241
          ],
          "title": {
           "text": "x"
          }
         },
         "yaxis": {
          "range": [
           -0.8578574657440186,
           0.8692803084850311
          ],
          "title": {
           "text": "y"
          }
         },
         "zaxis": {
          "range": [
           -0.8240474164485931,
           0.9445794522762299
          ],
          "title": {
           "text": "z"
          }
         }
        },
        "template": {
         "data": {
          "bar": [
           {
            "error_x": {
             "color": "#2a3f5f"
            },
            "error_y": {
             "color": "#2a3f5f"
            },
            "marker": {
             "line": {
              "color": "#E5ECF6",
              "width": 0.5
             },
             "pattern": {
              "fillmode": "overlay",
              "size": 10,
              "solidity": 0.2
             }
            },
            "type": "bar"
           }
          ],
          "barpolar": [
           {
            "marker": {
             "line": {
              "color": "#E5ECF6",
              "width": 0.5
             },
             "pattern": {
              "fillmode": "overlay",
              "size": 10,
              "solidity": 0.2
             }
            },
            "type": "barpolar"
           }
          ],
          "carpet": [
           {
            "aaxis": {
             "endlinecolor": "#2a3f5f",
             "gridcolor": "white",
             "linecolor": "white",
             "minorgridcolor": "white",
             "startlinecolor": "#2a3f5f"
            },
            "baxis": {
             "endlinecolor": "#2a3f5f",
             "gridcolor": "white",
             "linecolor": "white",
             "minorgridcolor": "white",
             "startlinecolor": "#2a3f5f"
            },
            "type": "carpet"
           }
          ],
          "choropleth": [
           {
            "colorbar": {
             "outlinewidth": 0,
             "ticks": ""
            },
            "type": "choropleth"
           }
          ],
          "contour": [
           {
            "colorbar": {
             "outlinewidth": 0,
             "ticks": ""
            },
            "colorscale": [
             [
              0,
              "#0d0887"
             ],
             [
              0.1111111111111111,
              "#46039f"
             ],
             [
              0.2222222222222222,
              "#7201a8"
             ],
             [
              0.3333333333333333,
              "#9c179e"
             ],
             [
              0.4444444444444444,
              "#bd3786"
             ],
             [
              0.5555555555555556,
              "#d8576b"
             ],
             [
              0.6666666666666666,
              "#ed7953"
             ],
             [
              0.7777777777777778,
              "#fb9f3a"
             ],
             [
              0.8888888888888888,
              "#fdca26"
             ],
             [
              1,
              "#f0f921"
             ]
            ],
            "type": "contour"
           }
          ],
          "contourcarpet": [
           {
            "colorbar": {
             "outlinewidth": 0,
             "ticks": ""
            },
            "type": "contourcarpet"
           }
          ],
          "heatmap": [
           {
            "colorbar": {
             "outlinewidth": 0,
             "ticks": ""
            },
            "colorscale": [
             [
              0,
              "#0d0887"
             ],
             [
              0.1111111111111111,
              "#46039f"
             ],
             [
              0.2222222222222222,
              "#7201a8"
             ],
             [
              0.3333333333333333,
              "#9c179e"
             ],
             [
              0.4444444444444444,
              "#bd3786"
             ],
             [
              0.5555555555555556,
              "#d8576b"
             ],
             [
              0.6666666666666666,
              "#ed7953"
             ],
             [
              0.7777777777777778,
              "#fb9f3a"
             ],
             [
              0.8888888888888888,
              "#fdca26"
             ],
             [
              1,
              "#f0f921"
             ]
            ],
            "type": "heatmap"
           }
          ],
          "heatmapgl": [
           {
            "colorbar": {
             "outlinewidth": 0,
             "ticks": ""
            },
            "colorscale": [
             [
              0,
              "#0d0887"
             ],
             [
              0.1111111111111111,
              "#46039f"
             ],
             [
              0.2222222222222222,
              "#7201a8"
             ],
             [
              0.3333333333333333,
              "#9c179e"
             ],
             [
              0.4444444444444444,
              "#bd3786"
             ],
             [
              0.5555555555555556,
              "#d8576b"
             ],
             [
              0.6666666666666666,
              "#ed7953"
             ],
             [
              0.7777777777777778,
              "#fb9f3a"
             ],
             [
              0.8888888888888888,
              "#fdca26"
             ],
             [
              1,
              "#f0f921"
             ]
            ],
            "type": "heatmapgl"
           }
          ],
          "histogram": [
           {
            "marker": {
             "pattern": {
              "fillmode": "overlay",
              "size": 10,
              "solidity": 0.2
             }
            },
            "type": "histogram"
           }
          ],
          "histogram2d": [
           {
            "colorbar": {
             "outlinewidth": 0,
             "ticks": ""
            },
            "colorscale": [
             [
              0,
              "#0d0887"
             ],
             [
              0.1111111111111111,
              "#46039f"
             ],
             [
              0.2222222222222222,
              "#7201a8"
             ],
             [
              0.3333333333333333,
              "#9c179e"
             ],
             [
              0.4444444444444444,
              "#bd3786"
             ],
             [
              0.5555555555555556,
              "#d8576b"
             ],
             [
              0.6666666666666666,
              "#ed7953"
             ],
             [
              0.7777777777777778,
              "#fb9f3a"
             ],
             [
              0.8888888888888888,
              "#fdca26"
             ],
             [
              1,
              "#f0f921"
             ]
            ],
            "type": "histogram2d"
           }
          ],
          "histogram2dcontour": [
           {
            "colorbar": {
             "outlinewidth": 0,
             "ticks": ""
            },
            "colorscale": [
             [
              0,
              "#0d0887"
             ],
             [
              0.1111111111111111,
              "#46039f"
             ],
             [
              0.2222222222222222,
              "#7201a8"
             ],
             [
              0.3333333333333333,
              "#9c179e"
             ],
             [
              0.4444444444444444,
              "#bd3786"
             ],
             [
              0.5555555555555556,
              "#d8576b"
             ],
             [
              0.6666666666666666,
              "#ed7953"
             ],
             [
              0.7777777777777778,
              "#fb9f3a"
             ],
             [
              0.8888888888888888,
              "#fdca26"
             ],
             [
              1,
              "#f0f921"
             ]
            ],
            "type": "histogram2dcontour"
           }
          ],
          "mesh3d": [
           {
            "colorbar": {
             "outlinewidth": 0,
             "ticks": ""
            },
            "type": "mesh3d"
           }
          ],
          "parcoords": [
           {
            "line": {
             "colorbar": {
              "outlinewidth": 0,
              "ticks": ""
             }
            },
            "type": "parcoords"
           }
          ],
          "pie": [
           {
            "automargin": true,
            "type": "pie"
           }
          ],
          "scatter": [
           {
            "fillpattern": {
             "fillmode": "overlay",
             "size": 10,
             "solidity": 0.2
            },
            "type": "scatter"
           }
          ],
          "scatter3d": [
           {
            "line": {
             "colorbar": {
              "outlinewidth": 0,
              "ticks": ""
             }
            },
            "marker": {
             "colorbar": {
              "outlinewidth": 0,
              "ticks": ""
             }
            },
            "type": "scatter3d"
           }
          ],
          "scattercarpet": [
           {
            "marker": {
             "colorbar": {
              "outlinewidth": 0,
              "ticks": ""
             }
            },
            "type": "scattercarpet"
           }
          ],
          "scattergeo": [
           {
            "marker": {
             "colorbar": {
              "outlinewidth": 0,
              "ticks": ""
             }
            },
            "type": "scattergeo"
           }
          ],
          "scattergl": [
           {
            "marker": {
             "colorbar": {
              "outlinewidth": 0,
              "ticks": ""
             }
            },
            "type": "scattergl"
           }
          ],
          "scattermapbox": [
           {
            "marker": {
             "colorbar": {
              "outlinewidth": 0,
              "ticks": ""
             }
            },
            "type": "scattermapbox"
           }
          ],
          "scatterpolar": [
           {
            "marker": {
             "colorbar": {
              "outlinewidth": 0,
              "ticks": ""
             }
            },
            "type": "scatterpolar"
           }
          ],
          "scatterpolargl": [
           {
            "marker": {
             "colorbar": {
              "outlinewidth": 0,
              "ticks": ""
             }
            },
            "type": "scatterpolargl"
           }
          ],
          "scatterternary": [
           {
            "marker": {
             "colorbar": {
              "outlinewidth": 0,
              "ticks": ""
             }
            },
            "type": "scatterternary"
           }
          ],
          "surface": [
           {
            "colorbar": {
             "outlinewidth": 0,
             "ticks": ""
            },
            "colorscale": [
             [
              0,
              "#0d0887"
             ],
             [
              0.1111111111111111,
              "#46039f"
             ],
             [
              0.2222222222222222,
              "#7201a8"
             ],
             [
              0.3333333333333333,
              "#9c179e"
             ],
             [
              0.4444444444444444,
              "#bd3786"
             ],
             [
              0.5555555555555556,
              "#d8576b"
             ],
             [
              0.6666666666666666,
              "#ed7953"
             ],
             [
              0.7777777777777778,
              "#fb9f3a"
             ],
             [
              0.8888888888888888,
              "#fdca26"
             ],
             [
              1,
              "#f0f921"
             ]
            ],
            "type": "surface"
           }
          ],
          "table": [
           {
            "cells": {
             "fill": {
              "color": "#EBF0F8"
             },
             "line": {
              "color": "white"
             }
            },
            "header": {
             "fill": {
              "color": "#C8D4E3"
             },
             "line": {
              "color": "white"
             }
            },
            "type": "table"
           }
          ]
         },
         "layout": {
          "annotationdefaults": {
           "arrowcolor": "#2a3f5f",
           "arrowhead": 0,
           "arrowwidth": 1
          },
          "autotypenumbers": "strict",
          "coloraxis": {
           "colorbar": {
            "outlinewidth": 0,
            "ticks": ""
           }
          },
          "colorscale": {
           "diverging": [
            [
             0,
             "#8e0152"
            ],
            [
             0.1,
             "#c51b7d"
            ],
            [
             0.2,
             "#de77ae"
            ],
            [
             0.3,
             "#f1b6da"
            ],
            [
             0.4,
             "#fde0ef"
            ],
            [
             0.5,
             "#f7f7f7"
            ],
            [
             0.6,
             "#e6f5d0"
            ],
            [
             0.7,
             "#b8e186"
            ],
            [
             0.8,
             "#7fbc41"
            ],
            [
             0.9,
             "#4d9221"
            ],
            [
             1,
             "#276419"
            ]
           ],
           "sequential": [
            [
             0,
             "#0d0887"
            ],
            [
             0.1111111111111111,
             "#46039f"
            ],
            [
             0.2222222222222222,
             "#7201a8"
            ],
            [
             0.3333333333333333,
             "#9c179e"
            ],
            [
             0.4444444444444444,
             "#bd3786"
            ],
            [
             0.5555555555555556,
             "#d8576b"
            ],
            [
             0.6666666666666666,
             "#ed7953"
            ],
            [
             0.7777777777777778,
             "#fb9f3a"
            ],
            [
             0.8888888888888888,
             "#fdca26"
            ],
            [
             1,
             "#f0f921"
            ]
           ],
           "sequentialminus": [
            [
             0,
             "#0d0887"
            ],
            [
             0.1111111111111111,
             "#46039f"
            ],
            [
             0.2222222222222222,
             "#7201a8"
            ],
            [
             0.3333333333333333,
             "#9c179e"
            ],
            [
             0.4444444444444444,
             "#bd3786"
            ],
            [
             0.5555555555555556,
             "#d8576b"
            ],
            [
             0.6666666666666666,
             "#ed7953"
            ],
            [
             0.7777777777777778,
             "#fb9f3a"
            ],
            [
             0.8888888888888888,
             "#fdca26"
            ],
            [
             1,
             "#f0f921"
            ]
           ]
          },
          "colorway": [
           "#636efa",
           "#EF553B",
           "#00cc96",
           "#ab63fa",
           "#FFA15A",
           "#19d3f3",
           "#FF6692",
           "#B6E880",
           "#FF97FF",
           "#FECB52"
          ],
          "font": {
           "color": "#2a3f5f"
          },
          "geo": {
           "bgcolor": "white",
           "lakecolor": "white",
           "landcolor": "#E5ECF6",
           "showlakes": true,
           "showland": true,
           "subunitcolor": "white"
          },
          "hoverlabel": {
           "align": "left"
          },
          "hovermode": "closest",
          "mapbox": {
           "style": "light"
          },
          "paper_bgcolor": "white",
          "plot_bgcolor": "#E5ECF6",
          "polar": {
           "angularaxis": {
            "gridcolor": "white",
            "linecolor": "white",
            "ticks": ""
           },
           "bgcolor": "#E5ECF6",
           "radialaxis": {
            "gridcolor": "white",
            "linecolor": "white",
            "ticks": ""
           }
          },
          "scene": {
           "xaxis": {
            "backgroundcolor": "#E5ECF6",
            "gridcolor": "white",
            "gridwidth": 2,
            "linecolor": "white",
            "showbackground": true,
            "ticks": "",
            "zerolinecolor": "white"
           },
           "yaxis": {
            "backgroundcolor": "#E5ECF6",
            "gridcolor": "white",
            "gridwidth": 2,
            "linecolor": "white",
            "showbackground": true,
            "ticks": "",
            "zerolinecolor": "white"
           },
           "zaxis": {
            "backgroundcolor": "#E5ECF6",
            "gridcolor": "white",
            "gridwidth": 2,
            "linecolor": "white",
            "showbackground": true,
            "ticks": "",
            "zerolinecolor": "white"
           }
          },
          "shapedefaults": {
           "line": {
            "color": "#2a3f5f"
           }
          },
          "ternary": {
           "aaxis": {
            "gridcolor": "white",
            "linecolor": "white",
            "ticks": ""
           },
           "baxis": {
            "gridcolor": "white",
            "linecolor": "white",
            "ticks": ""
           },
           "bgcolor": "#E5ECF6",
           "caxis": {
            "gridcolor": "white",
            "linecolor": "white",
            "ticks": ""
           }
          },
          "title": {
           "x": 0.05
          },
          "xaxis": {
           "automargin": true,
           "gridcolor": "white",
           "linecolor": "white",
           "ticks": "",
           "title": {
            "standoff": 15
           },
           "zerolinecolor": "white",
           "zerolinewidth": 2
          },
          "yaxis": {
           "automargin": true,
           "gridcolor": "white",
           "linecolor": "white",
           "ticks": "",
           "title": {
            "standoff": 15
           },
           "zerolinecolor": "white",
           "zerolinewidth": 2
          }
         }
        },
        "width": 1280
       }
      }
     },
     "metadata": {},
     "output_type": "display_data"
    }
   ],
   "source": [
    "visualize_pca(model, sample_df, \"tokenize_tag\", 8)"
   ]
  },
  {
   "cell_type": "markdown",
   "metadata": {},
   "source": []
  },
  {
   "cell_type": "markdown",
   "metadata": {},
   "source": [
    "### Visualizing Combination: Description + Tags"
   ]
  },
  {
   "cell_type": "code",
   "execution_count": 15,
   "metadata": {},
   "outputs": [
    {
     "name": "stderr",
     "output_type": "stream",
     "text": [
      "/Library/Frameworks/Python.framework/Versions/3.12/lib/python3.12/site-packages/sklearn/cluster/_kmeans.py:1416: FutureWarning:\n",
      "\n",
      "The default value of `n_init` will change from 10 to 'auto' in 1.4. Set the value of `n_init` explicitly to suppress the warning\n",
      "\n"
     ]
    },
    {
     "data": {
      "application/vnd.plotly.v1+json": {
       "config": {
        "plotlyServerURL": "https://plot.ly"
       },
       "data": [
        {
         "hovertemplate": "<b>%{hovertext}</b>",
         "hovertext": [
          "Baldur's Gate 3",
          "Remnant II",
          "Phasmophobia",
          "DAVE THE DIVER",
          "ELDEN RING",
          "Sons Of The Forest",
          "Hogwarts Legacy",
          "Raft",
          "Sea of Thieves 2023 Edition",
          "Path of Exile",
          "Terraria",
          "Deep Rock Galactic",
          "Dead Cells",
          "Crusader Kings III",
          "ARK: Survival Evolved",
          "SCP: 5K",
          "Shadow Gambit: The Cursed Crew",
          "theHunter: Call of the Wild™",
          "Darkest Dungeon® II",
          "Graveyard Keeper",
          "The Elder Scrolls V: Skyrim Special Edition",
          "Escape the Backrooms",
          "Don't Starve Together",
          "The Binding of Isaac: Rebirth",
          "BOOK OF HOURS",
          "New World",
          "Valheim"
         ],
         "legendgroup": "3",
         "marker": {
          "color": "#636efa",
          "symbol": "circle"
         },
         "mode": "markers",
         "name": "3",
         "scene": "scene",
         "showlegend": true,
         "type": "scatter3d",
         "x": [
          -0.1636311560869217,
          -0.22607837617397308,
          -0.21414418518543243,
          -0.16034093499183655,
          -0.18173955380916595,
          -0.27289479970932007,
          -0.08199027180671692,
          -0.19938300549983978,
          0.04210353270173073,
          -0.20843921601772308,
          -0.17684830725193024,
          -0.09290997684001923,
          -0.22454461455345154,
          -0.05645264685153961,
          -0.347343385219574,
          -0.10300382971763611,
          -0.2311149537563324,
          -0.06104673072695732,
          -0.27253565192222595,
          -0.17984360456466675,
          0.07687874883413315,
          -0.29119327664375305,
          -0.27384456992149353,
          -0.21327628195285797,
          -0.2610459327697754,
          -0.23824411630630493,
          -0.38408347964286804
         ],
         "y": [
          -0.1799539178609848,
          -0.16044364869594574,
          0.22275742888450623,
          0.0453341118991375,
          -0.2650851607322693,
          0.31904980540275574,
          -0.14814577996730804,
          0.17451614141464233,
          0.087547667324543,
          -0.18017210066318512,
          -0.009599336422979832,
          -0.05626382678747177,
          0.06757895648479462,
          -0.14742012321949005,
          0.10394731909036636,
          0.08611968904733658,
          -0.02692708745598793,
          0.12821266055107117,
          0.14293161034584045,
          0.23475462198257446,
          -0.07246099412441254,
          0.1978200227022171,
          0.07219168543815613,
          -0.10263112187385559,
          -0.018050890415906906,
          -0.18174955248832703,
          -0.013186695985496044
         ],
         "z": [
          -0.10262582451105118,
          0.12984254956245422,
          0.18454338610172272,
          -0.06899066269397736,
          -0.2817859649658203,
          -0.04654527083039284,
          -0.11127334088087082,
          -0.10577794164419174,
          0.004379021469503641,
          -0.12523673474788666,
          -0.1526378095149994,
          0.12577937543392181,
          0.030295539647340775,
          -0.3925757110118866,
          -0.12505008280277252,
          0.13854829967021942,
          -0.047641780227422714,
          0.01356546115130186,
          0.04202020913362503,
          -0.31216275691986084,
          -0.06853426247835159,
          0.1526963859796524,
          -0.03266455605626106,
          -0.0733758732676506,
          -0.28036850690841675,
          -0.15962663292884827,
          -0.13137708604335785
         ]
        },
        {
         "hovertemplate": "<b>%{hovertext}</b>",
         "hovertext": [
          "Counter-Strike: Global Offensive",
          "Call of Duty®",
          "PUBG: BATTLEGROUNDS",
          "Dota 2",
          "War Thunder",
          "The Elder Scrolls® Online",
          "BattleBit Remastered",
          "Destiny 2",
          "Hearts of Iron IV",
          "Total War: WARHAMMER III",
          "World of Warships",
          "Red Dead Redemption 2",
          "Mount & Blade II: Bannerlord",
          "Wayfinder",
          "Stellaris",
          "Sid Meier’s Civilization® VI",
          "Guild Wars 2"
         ],
         "legendgroup": "2",
         "marker": {
          "color": "#EF553B",
          "symbol": "circle"
         },
         "mode": "markers",
         "name": "2",
         "scene": "scene",
         "showlegend": true,
         "type": "scatter3d",
         "x": [
          0.26324328780174255,
          0.13512173295021057,
          0.0736631378531456,
          0.21137461066246033,
          0.1933273822069168,
          -0.12782743573188782,
          0.0654129758477211,
          -0.05124838277697563,
          0.0545208714902401,
          -0.060573335736989975,
          0.12388750910758972,
          0.006304063368588686,
          -0.11972138285636902,
          -0.1446571797132492,
          0.028849119320511818,
          0.08952153474092484,
          0.01757672242820263
         ],
         "y": [
          -0.18860076367855072,
          -0.1263047158718109,
          -0.17653077840805054,
          -0.2577143907546997,
          -0.20536594092845917,
          -0.2671809196472168,
          -0.14990533888339996,
          -0.18904893100261688,
          -0.2508133053779602,
          -0.21214750409126282,
          -0.166116863489151,
          -0.021929306909441948,
          -0.2986868619918823,
          -0.23063665628433228,
          -0.1469700187444687,
          -0.16738930344581604,
          -0.33143535256385803
         ],
         "z": [
          0.1342153698205948,
          0.14810410141944885,
          0.1001003235578537,
          0.08724668622016907,
          0.11343666166067123,
          -0.1299000382423401,
          0.21897169947624207,
          0.15126635134220123,
          -0.05177804455161095,
          -0.1856137216091156,
          -0.08827624469995499,
          0.18763035535812378,
          -0.23219110071659088,
          -0.14928676187992096,
          -0.21087490022182465,
          -0.1462656557559967,
          -0.02072075940668583
         ]
        },
        {
         "hovertemplate": "<b>%{hovertext}</b>",
         "hovertext": [
          "Apex Legends™",
          "NARAKA: BLADEPOINT",
          "Tom Clancy's Rainbow Six® Siege",
          "Team Fortress 2",
          "FINAL FANTASY XIV Online",
          "Warframe",
          "Street Fighter™ 6",
          "Yu-Gi-Oh! Master Duel",
          "Hunt: Showdown",
          "Starfield",
          "ARMORED CORE™ VI FIRES OF RUBICON™",
          "World of Tanks Blitz",
          "Ratchet & Clank: Rift Apart",
          "Eternal Return",
          "It Takes Two",
          "Brawlhalla",
          "DRAGON BALL Z: KAKAROT",
          "BlazBlue Entropy Effect",
          "Marvel’s Spider-Man Remastered"
         ],
         "legendgroup": "6",
         "marker": {
          "color": "#00cc96",
          "symbol": "circle"
         },
         "mode": "markers",
         "name": "6",
         "scene": "scene",
         "showlegend": true,
         "type": "scatter3d",
         "x": [
          0.07327553629875183,
          0.04297168180346489,
          0.12203478068113327,
          0.1280663013458252,
          -0.03142572566866875,
          -0.09522701054811478,
          0.3348822295665741,
          0.05869590863585472,
          -0.026356231421232224,
          0.151075080037117,
          0.1727598011493683,
          0.11036287248134613,
          -0.06737332791090012,
          -0.07934390753507614,
          -0.022774770855903625,
          0.0455000139772892,
          0.06121416762471199,
          -0.06155497208237648,
          0.05208209902048111
         ],
         "y": [
          -0.2283504158258438,
          -0.34735816717147827,
          -0.1409495621919632,
          -0.20987381041049957,
          -0.2494303286075592,
          -0.29927384853363037,
          -0.08693021535873413,
          -0.252084344625473,
          0.03734676539897919,
          -0.11054090410470963,
          -0.16414570808410645,
          -0.26581522822380066,
          -0.03808624669909477,
          -0.235788494348526,
          0.013853956013917923,
          -0.29203125834465027,
          -0.2143470197916031,
          -0.17811521887779236,
          -0.07196506857872009
         ],
         "z": [
          0.2722328305244446,
          0.07102197408676147,
          0.30615222454071045,
          0.12089069932699203,
          -0.2048851102590561,
          0.0728112980723381,
          0.24974294006824493,
          0.1016867533326149,
          0.31470775604248047,
          -0.1034809947013855,
          0.028367752209305763,
          -0.003154501784592867,
          0.055696967989206314,
          0.032166142016649246,
          0.11235333234071732,
          0.11089577525854111,
          -0.014014950022101402,
          -0.043242622166872025,
          0.23559443652629852
         ]
        },
        {
         "hovertemplate": "<b>%{hovertext}</b>",
         "hovertext": [
          "Forza Horizon 5",
          "Grand Theft Auto V",
          "Forza Horizon 4",
          "Euro Truck Simulator 2",
          "American Truck Simulator",
          "F1® 23",
          "BeamNG.drive",
          "Contraband Police"
         ],
         "legendgroup": "4",
         "marker": {
          "color": "#ab63fa",
          "symbol": "circle"
         },
         "mode": "markers",
         "name": "4",
         "scene": "scene",
         "showlegend": true,
         "type": "scatter3d",
         "x": [
          0.41250115633010864,
          0.34790554642677307,
          0.23621752858161926,
          0.33947184681892395,
          0.4274117946624756,
          0.5023977160453796,
          0.4108985662460327,
          0.09550780057907104
         ],
         "y": [
          0.2665630280971527,
          0.18640165030956268,
          0.28896233439445496,
          0.2844683527946472,
          0.3763485848903656,
          0.15941812098026276,
          0.3596818447113037,
          0.3019925653934479
         ],
         "z": [
          -0.02980782650411129,
          0.149232879281044,
          -0.20035558938980103,
          -0.2881217300891876,
          -0.08518488705158234,
          -0.032989319413900375,
          -0.1503640115261078,
          -0.24534359574317932
         ]
        },
        {
         "hovertemplate": "<b>%{hovertext}</b>",
         "hovertext": [
          "Cyberpunk 2077",
          "Rust",
          "Dead by Daylight",
          "The Texas Chain Saw Massacre",
          "PAYDAY 2",
          "Project Zomboid",
          "Ready or Not",
          "Fallout 76",
          "Metro Exodus",
          "Call of Duty®: Black Ops III",
          "Vampire Survivors",
          "The Outlast Trials",
          "DayZ",
          "Six Days in Fallujah",
          "Resident Evil 4",
          "Dying Light"
         ],
         "legendgroup": "1",
         "marker": {
          "color": "#FFA15A",
          "symbol": "circle"
         },
         "mode": "markers",
         "name": "1",
         "scene": "scene",
         "showlegend": true,
         "type": "scatter3d",
         "x": [
          -0.020946016535162926,
          -0.17724765837192535,
          -0.17732542753219604,
          -0.1587597131729126,
          0.022182635962963104,
          -0.2614173889160156,
          0.10987861454486847,
          -0.1292974203824997,
          -0.0938514694571495,
          -0.036438461393117905,
          -0.3209982216358185,
          -0.2342236489057541,
          -0.21568724513053894,
          0.022725602611899376,
          -0.21288326382637024,
          -0.19393576681613922
         ],
         "y": [
          0.02734927088022232,
          0.24667492508888245,
          0.2053336203098297,
          0.28348228335380554,
          0.07307855784893036,
          0.2381768524646759,
          0.1444081813097,
          0.0897950530052185,
          0.1381675750017166,
          0.05283840000629425,
          0.17638514935970306,
          0.24796997010707855,
          0.25109508633613586,
          0.06246572732925415,
          0.35279932618141174,
          0.2505593001842499
         ],
         "z": [
          -0.023087147623300552,
          -0.0009224924724549055,
          0.31655943393707275,
          0.27331098914146423,
          0.43301260471343994,
          0.11511281877756119,
          0.27311971783638,
          0.11995415389537811,
          -0.027857327833771706,
          0.3176596164703369,
          0.23708175122737885,
          0.21881061792373657,
          0.2640129625797272,
          0.26032137870788574,
          0.24298498034477234,
          0.2392890453338623
         ]
        },
        {
         "hovertemplate": "<b>%{hovertext}</b>",
         "hovertext": [
          "EA SPORTS™ FIFA 23",
          "Football Manager 2023",
          "Madden NFL 24",
          "EA SPORTS FC™ 24"
         ],
         "legendgroup": "5",
         "marker": {
          "color": "#19d3f3",
          "symbol": "circle"
         },
         "mode": "markers",
         "name": "5",
         "scene": "scene",
         "showlegend": true,
         "type": "scatter3d",
         "x": [
          0.5214946269989014,
          0.4086512327194214,
          0.51674884557724,
          0.43910714983940125
         ],
         "y": [
          -0.009514461271464825,
          0.01457901205867529,
          0.02085324376821518,
          -0.04427936673164368
         ],
         "z": [
          0.04886876046657562,
          -0.069678895175457,
          0.0765981525182724,
          0.04528002440929413
         ]
        },
        {
         "hovertemplate": "<b>%{hovertext}</b>",
         "hovertext": [
          "The Sims™ 4",
          "Farming Simulator 22",
          "Stardew Valley",
          "Sengoku Dynasty",
          "Cities: Skylines",
          "Microsoft Flight Simulator 40th Anniversary Edition",
          "RimWorld",
          "Planet Zoo",
          "Garry's Mod"
         ],
         "legendgroup": "0",
         "marker": {
          "color": "#FF6692",
          "symbol": "circle"
         },
         "mode": "markers",
         "name": "0",
         "scene": "scene",
         "showlegend": true,
         "type": "scatter3d",
         "x": [
          0.026743967086076736,
          0.030112111940979958,
          -0.022300362586975098,
          -0.19842572510242462,
          0.1939881145954132,
          0.36128655076026917,
          0.020179251208901405,
          0.11953967809677124,
          0.15813714265823364
         ],
         "y": [
          0.09254526346921921,
          0.27027109265327454,
          0.2563857436180115,
          -0.12168180197477341,
          0.12067284435033798,
          0.10967117547988892,
          0.161397784948349,
          0.279127299785614,
          0.1855468451976776
         ],
         "z": [
          -0.3774377703666687,
          -0.36734244227409363,
          -0.36306440830230713,
          -0.2930019795894623,
          -0.05892326682806015,
          -0.04369764402508736,
          -0.2661537230014801,
          -0.2918662428855896,
          -0.2610359489917755
         ]
        }
       ],
       "layout": {
        "height": 720,
        "legend": {
         "title": {
          "text": "cluster"
         },
         "tracegroupgap": 0
        },
        "margin": {
         "t": 60
        },
        "scene": {
         "domain": {
          "x": [
           0,
           1
          ],
          "y": [
           0,
           1
          ]
         },
         "xaxis": {
          "range": [
           -0.884083479642868,
           1.0214946269989014
          ],
          "title": {
           "text": "x"
          }
         },
         "yaxis": {
          "range": [
           -0.8473581671714783,
           0.8763485848903656
          ],
          "title": {
           "text": "y"
          }
         },
         "zaxis": {
          "range": [
           -0.8925757110118866,
           0.9330126047134399
          ],
          "title": {
           "text": "z"
          }
         }
        },
        "template": {
         "data": {
          "bar": [
           {
            "error_x": {
             "color": "#2a3f5f"
            },
            "error_y": {
             "color": "#2a3f5f"
            },
            "marker": {
             "line": {
              "color": "#E5ECF6",
              "width": 0.5
             },
             "pattern": {
              "fillmode": "overlay",
              "size": 10,
              "solidity": 0.2
             }
            },
            "type": "bar"
           }
          ],
          "barpolar": [
           {
            "marker": {
             "line": {
              "color": "#E5ECF6",
              "width": 0.5
             },
             "pattern": {
              "fillmode": "overlay",
              "size": 10,
              "solidity": 0.2
             }
            },
            "type": "barpolar"
           }
          ],
          "carpet": [
           {
            "aaxis": {
             "endlinecolor": "#2a3f5f",
             "gridcolor": "white",
             "linecolor": "white",
             "minorgridcolor": "white",
             "startlinecolor": "#2a3f5f"
            },
            "baxis": {
             "endlinecolor": "#2a3f5f",
             "gridcolor": "white",
             "linecolor": "white",
             "minorgridcolor": "white",
             "startlinecolor": "#2a3f5f"
            },
            "type": "carpet"
           }
          ],
          "choropleth": [
           {
            "colorbar": {
             "outlinewidth": 0,
             "ticks": ""
            },
            "type": "choropleth"
           }
          ],
          "contour": [
           {
            "colorbar": {
             "outlinewidth": 0,
             "ticks": ""
            },
            "colorscale": [
             [
              0,
              "#0d0887"
             ],
             [
              0.1111111111111111,
              "#46039f"
             ],
             [
              0.2222222222222222,
              "#7201a8"
             ],
             [
              0.3333333333333333,
              "#9c179e"
             ],
             [
              0.4444444444444444,
              "#bd3786"
             ],
             [
              0.5555555555555556,
              "#d8576b"
             ],
             [
              0.6666666666666666,
              "#ed7953"
             ],
             [
              0.7777777777777778,
              "#fb9f3a"
             ],
             [
              0.8888888888888888,
              "#fdca26"
             ],
             [
              1,
              "#f0f921"
             ]
            ],
            "type": "contour"
           }
          ],
          "contourcarpet": [
           {
            "colorbar": {
             "outlinewidth": 0,
             "ticks": ""
            },
            "type": "contourcarpet"
           }
          ],
          "heatmap": [
           {
            "colorbar": {
             "outlinewidth": 0,
             "ticks": ""
            },
            "colorscale": [
             [
              0,
              "#0d0887"
             ],
             [
              0.1111111111111111,
              "#46039f"
             ],
             [
              0.2222222222222222,
              "#7201a8"
             ],
             [
              0.3333333333333333,
              "#9c179e"
             ],
             [
              0.4444444444444444,
              "#bd3786"
             ],
             [
              0.5555555555555556,
              "#d8576b"
             ],
             [
              0.6666666666666666,
              "#ed7953"
             ],
             [
              0.7777777777777778,
              "#fb9f3a"
             ],
             [
              0.8888888888888888,
              "#fdca26"
             ],
             [
              1,
              "#f0f921"
             ]
            ],
            "type": "heatmap"
           }
          ],
          "heatmapgl": [
           {
            "colorbar": {
             "outlinewidth": 0,
             "ticks": ""
            },
            "colorscale": [
             [
              0,
              "#0d0887"
             ],
             [
              0.1111111111111111,
              "#46039f"
             ],
             [
              0.2222222222222222,
              "#7201a8"
             ],
             [
              0.3333333333333333,
              "#9c179e"
             ],
             [
              0.4444444444444444,
              "#bd3786"
             ],
             [
              0.5555555555555556,
              "#d8576b"
             ],
             [
              0.6666666666666666,
              "#ed7953"
             ],
             [
              0.7777777777777778,
              "#fb9f3a"
             ],
             [
              0.8888888888888888,
              "#fdca26"
             ],
             [
              1,
              "#f0f921"
             ]
            ],
            "type": "heatmapgl"
           }
          ],
          "histogram": [
           {
            "marker": {
             "pattern": {
              "fillmode": "overlay",
              "size": 10,
              "solidity": 0.2
             }
            },
            "type": "histogram"
           }
          ],
          "histogram2d": [
           {
            "colorbar": {
             "outlinewidth": 0,
             "ticks": ""
            },
            "colorscale": [
             [
              0,
              "#0d0887"
             ],
             [
              0.1111111111111111,
              "#46039f"
             ],
             [
              0.2222222222222222,
              "#7201a8"
             ],
             [
              0.3333333333333333,
              "#9c179e"
             ],
             [
              0.4444444444444444,
              "#bd3786"
             ],
             [
              0.5555555555555556,
              "#d8576b"
             ],
             [
              0.6666666666666666,
              "#ed7953"
             ],
             [
              0.7777777777777778,
              "#fb9f3a"
             ],
             [
              0.8888888888888888,
              "#fdca26"
             ],
             [
              1,
              "#f0f921"
             ]
            ],
            "type": "histogram2d"
           }
          ],
          "histogram2dcontour": [
           {
            "colorbar": {
             "outlinewidth": 0,
             "ticks": ""
            },
            "colorscale": [
             [
              0,
              "#0d0887"
             ],
             [
              0.1111111111111111,
              "#46039f"
             ],
             [
              0.2222222222222222,
              "#7201a8"
             ],
             [
              0.3333333333333333,
              "#9c179e"
             ],
             [
              0.4444444444444444,
              "#bd3786"
             ],
             [
              0.5555555555555556,
              "#d8576b"
             ],
             [
              0.6666666666666666,
              "#ed7953"
             ],
             [
              0.7777777777777778,
              "#fb9f3a"
             ],
             [
              0.8888888888888888,
              "#fdca26"
             ],
             [
              1,
              "#f0f921"
             ]
            ],
            "type": "histogram2dcontour"
           }
          ],
          "mesh3d": [
           {
            "colorbar": {
             "outlinewidth": 0,
             "ticks": ""
            },
            "type": "mesh3d"
           }
          ],
          "parcoords": [
           {
            "line": {
             "colorbar": {
              "outlinewidth": 0,
              "ticks": ""
             }
            },
            "type": "parcoords"
           }
          ],
          "pie": [
           {
            "automargin": true,
            "type": "pie"
           }
          ],
          "scatter": [
           {
            "fillpattern": {
             "fillmode": "overlay",
             "size": 10,
             "solidity": 0.2
            },
            "type": "scatter"
           }
          ],
          "scatter3d": [
           {
            "line": {
             "colorbar": {
              "outlinewidth": 0,
              "ticks": ""
             }
            },
            "marker": {
             "colorbar": {
              "outlinewidth": 0,
              "ticks": ""
             }
            },
            "type": "scatter3d"
           }
          ],
          "scattercarpet": [
           {
            "marker": {
             "colorbar": {
              "outlinewidth": 0,
              "ticks": ""
             }
            },
            "type": "scattercarpet"
           }
          ],
          "scattergeo": [
           {
            "marker": {
             "colorbar": {
              "outlinewidth": 0,
              "ticks": ""
             }
            },
            "type": "scattergeo"
           }
          ],
          "scattergl": [
           {
            "marker": {
             "colorbar": {
              "outlinewidth": 0,
              "ticks": ""
             }
            },
            "type": "scattergl"
           }
          ],
          "scattermapbox": [
           {
            "marker": {
             "colorbar": {
              "outlinewidth": 0,
              "ticks": ""
             }
            },
            "type": "scattermapbox"
           }
          ],
          "scatterpolar": [
           {
            "marker": {
             "colorbar": {
              "outlinewidth": 0,
              "ticks": ""
             }
            },
            "type": "scatterpolar"
           }
          ],
          "scatterpolargl": [
           {
            "marker": {
             "colorbar": {
              "outlinewidth": 0,
              "ticks": ""
             }
            },
            "type": "scatterpolargl"
           }
          ],
          "scatterternary": [
           {
            "marker": {
             "colorbar": {
              "outlinewidth": 0,
              "ticks": ""
             }
            },
            "type": "scatterternary"
           }
          ],
          "surface": [
           {
            "colorbar": {
             "outlinewidth": 0,
             "ticks": ""
            },
            "colorscale": [
             [
              0,
              "#0d0887"
             ],
             [
              0.1111111111111111,
              "#46039f"
             ],
             [
              0.2222222222222222,
              "#7201a8"
             ],
             [
              0.3333333333333333,
              "#9c179e"
             ],
             [
              0.4444444444444444,
              "#bd3786"
             ],
             [
              0.5555555555555556,
              "#d8576b"
             ],
             [
              0.6666666666666666,
              "#ed7953"
             ],
             [
              0.7777777777777778,
              "#fb9f3a"
             ],
             [
              0.8888888888888888,
              "#fdca26"
             ],
             [
              1,
              "#f0f921"
             ]
            ],
            "type": "surface"
           }
          ],
          "table": [
           {
            "cells": {
             "fill": {
              "color": "#EBF0F8"
             },
             "line": {
              "color": "white"
             }
            },
            "header": {
             "fill": {
              "color": "#C8D4E3"
             },
             "line": {
              "color": "white"
             }
            },
            "type": "table"
           }
          ]
         },
         "layout": {
          "annotationdefaults": {
           "arrowcolor": "#2a3f5f",
           "arrowhead": 0,
           "arrowwidth": 1
          },
          "autotypenumbers": "strict",
          "coloraxis": {
           "colorbar": {
            "outlinewidth": 0,
            "ticks": ""
           }
          },
          "colorscale": {
           "diverging": [
            [
             0,
             "#8e0152"
            ],
            [
             0.1,
             "#c51b7d"
            ],
            [
             0.2,
             "#de77ae"
            ],
            [
             0.3,
             "#f1b6da"
            ],
            [
             0.4,
             "#fde0ef"
            ],
            [
             0.5,
             "#f7f7f7"
            ],
            [
             0.6,
             "#e6f5d0"
            ],
            [
             0.7,
             "#b8e186"
            ],
            [
             0.8,
             "#7fbc41"
            ],
            [
             0.9,
             "#4d9221"
            ],
            [
             1,
             "#276419"
            ]
           ],
           "sequential": [
            [
             0,
             "#0d0887"
            ],
            [
             0.1111111111111111,
             "#46039f"
            ],
            [
             0.2222222222222222,
             "#7201a8"
            ],
            [
             0.3333333333333333,
             "#9c179e"
            ],
            [
             0.4444444444444444,
             "#bd3786"
            ],
            [
             0.5555555555555556,
             "#d8576b"
            ],
            [
             0.6666666666666666,
             "#ed7953"
            ],
            [
             0.7777777777777778,
             "#fb9f3a"
            ],
            [
             0.8888888888888888,
             "#fdca26"
            ],
            [
             1,
             "#f0f921"
            ]
           ],
           "sequentialminus": [
            [
             0,
             "#0d0887"
            ],
            [
             0.1111111111111111,
             "#46039f"
            ],
            [
             0.2222222222222222,
             "#7201a8"
            ],
            [
             0.3333333333333333,
             "#9c179e"
            ],
            [
             0.4444444444444444,
             "#bd3786"
            ],
            [
             0.5555555555555556,
             "#d8576b"
            ],
            [
             0.6666666666666666,
             "#ed7953"
            ],
            [
             0.7777777777777778,
             "#fb9f3a"
            ],
            [
             0.8888888888888888,
             "#fdca26"
            ],
            [
             1,
             "#f0f921"
            ]
           ]
          },
          "colorway": [
           "#636efa",
           "#EF553B",
           "#00cc96",
           "#ab63fa",
           "#FFA15A",
           "#19d3f3",
           "#FF6692",
           "#B6E880",
           "#FF97FF",
           "#FECB52"
          ],
          "font": {
           "color": "#2a3f5f"
          },
          "geo": {
           "bgcolor": "white",
           "lakecolor": "white",
           "landcolor": "#E5ECF6",
           "showlakes": true,
           "showland": true,
           "subunitcolor": "white"
          },
          "hoverlabel": {
           "align": "left"
          },
          "hovermode": "closest",
          "mapbox": {
           "style": "light"
          },
          "paper_bgcolor": "white",
          "plot_bgcolor": "#E5ECF6",
          "polar": {
           "angularaxis": {
            "gridcolor": "white",
            "linecolor": "white",
            "ticks": ""
           },
           "bgcolor": "#E5ECF6",
           "radialaxis": {
            "gridcolor": "white",
            "linecolor": "white",
            "ticks": ""
           }
          },
          "scene": {
           "xaxis": {
            "backgroundcolor": "#E5ECF6",
            "gridcolor": "white",
            "gridwidth": 2,
            "linecolor": "white",
            "showbackground": true,
            "ticks": "",
            "zerolinecolor": "white"
           },
           "yaxis": {
            "backgroundcolor": "#E5ECF6",
            "gridcolor": "white",
            "gridwidth": 2,
            "linecolor": "white",
            "showbackground": true,
            "ticks": "",
            "zerolinecolor": "white"
           },
           "zaxis": {
            "backgroundcolor": "#E5ECF6",
            "gridcolor": "white",
            "gridwidth": 2,
            "linecolor": "white",
            "showbackground": true,
            "ticks": "",
            "zerolinecolor": "white"
           }
          },
          "shapedefaults": {
           "line": {
            "color": "#2a3f5f"
           }
          },
          "ternary": {
           "aaxis": {
            "gridcolor": "white",
            "linecolor": "white",
            "ticks": ""
           },
           "baxis": {
            "gridcolor": "white",
            "linecolor": "white",
            "ticks": ""
           },
           "bgcolor": "#E5ECF6",
           "caxis": {
            "gridcolor": "white",
            "linecolor": "white",
            "ticks": ""
           }
          },
          "title": {
           "x": 0.05
          },
          "xaxis": {
           "automargin": true,
           "gridcolor": "white",
           "linecolor": "white",
           "ticks": "",
           "title": {
            "standoff": 15
           },
           "zerolinecolor": "white",
           "zerolinewidth": 2
          },
          "yaxis": {
           "automargin": true,
           "gridcolor": "white",
           "linecolor": "white",
           "ticks": "",
           "title": {
            "standoff": 15
           },
           "zerolinecolor": "white",
           "zerolinewidth": 2
          }
         }
        },
        "width": 1280
       }
      }
     },
     "metadata": {},
     "output_type": "display_data"
    }
   ],
   "source": [
    "visualize_pca(model, sample_df, \"tokenize_desc_tag\", 7)"
   ]
  },
  {
   "cell_type": "markdown",
   "metadata": {},
   "source": [
    "## Fine Tuning"
   ]
  },
  {
   "cell_type": "code",
   "execution_count": 16,
   "metadata": {},
   "outputs": [],
   "source": [
    "import datasets\n",
    "from sentence_transformers import(\n",
    "    losses,\n",
    "    evaluation,\n",
    "    SentenceTransformerTrainer,\n",
    "    SentenceTransformerTrainingArguments, \n",
    ")\n",
    "from tqdm import tqdm"
   ]
  },
  {
   "cell_type": "markdown",
   "metadata": {},
   "source": [
    "Create the training data"
   ]
  },
  {
   "cell_type": "code",
   "execution_count": 17,
   "metadata": {},
   "outputs": [],
   "source": [
    "train_df = descriptions.sample(1000, random_state=RANDOM_STATE).reset_index()\n",
    "\n",
    "train_df[\"enc_tag\"] = list(model.encode(train_df[\"tokenize_tag\"]))"
   ]
  },
  {
   "cell_type": "code",
   "execution_count": 18,
   "metadata": {},
   "outputs": [
    {
     "name": "stderr",
     "output_type": "stream",
     "text": [
      "Creating Training Examples: 100%|██████████| 1000/1000 [00:02<00:00, 442.79it/s]\n"
     ]
    }
   ],
   "source": [
    "# Uses Contrastive Loss\n",
    "# train_examples = []\n",
    "# for i in tqdm(range(len(train_df)), desc=\"Creating Training Examples\"):\n",
    "#         for j in random.sample(range(len(train_df)), 50):\n",
    "#         # Make an input with the similarity of their tags as the label\n",
    "#                 example = InputExample(\n",
    "#                         texts=[train_df.loc[i, \"Game Description\"], train_df.loc[j, \"Game Description\"]], \n",
    "#                         label=int(util.cos_sim(train_df.loc[i, \"enc_tag\"], train_df.loc[j, \"enc_tag\"])> 0.75))\n",
    "#                 train_examples.append(example)\n",
    "\n",
    "train_cols = [\"desc1\", \"desc2\", \"score\"]\n",
    "train_examples = []\n",
    "for i in tqdm(range(len(train_df)), desc=\"Creating Training Examples\"):\n",
    "        for j in random.sample(range(len(train_df)), 50):\n",
    "        # Make an input with the similarity of their tags as the label\n",
    "                example = [train_df.loc[i, \"Game Description\"], train_df.loc[j, \"Game Description\"], util.cos_sim(train_df.loc[i, \"enc_tag\"], train_df.loc[j, \"enc_tag\"]).item()]\n",
    "                train_examples.append(example)\n",
    "\n",
    "train_examples = pd.DataFrame(train_examples, columns=train_cols)\n",
    "train_dataset =  datasets.Dataset.from_pandas(train_examples)"
   ]
  },
  {
   "cell_type": "markdown",
   "metadata": {},
   "source": [
    "Creates arguments for training/tuning the model and specifies the loss function."
   ]
  },
  {
   "cell_type": "code",
   "execution_count": 19,
   "metadata": {},
   "outputs": [],
   "source": [
    "args = SentenceTransformerTrainingArguments(\n",
    "    # Required parameter:\n",
    "    output_dir=\"models/mpnet-base\",\n",
    "    # Optional training parameters:\n",
    "    num_train_epochs=1,\n",
    "    per_device_train_batch_size=8,\n",
    "    per_device_eval_batch_size=8,\n",
    "    warmup_ratio=0.1,\n",
    "    # Optional tracking/debugging parameters:\n",
    "    eval_strategy=\"steps\",\n",
    "    eval_steps=500,\n",
    "    save_strategy=\"steps\",\n",
    "    save_steps=500,\n",
    "    save_total_limit=3,\n",
    "    run_name=\"mpnet-base\",\n",
    ")\n",
    "\n",
    "train_loss = losses.CoSENTLoss(model)"
   ]
  },
  {
   "cell_type": "markdown",
   "metadata": {},
   "source": [
    "Creates an evaluator for the training/tuning."
   ]
  },
  {
   "cell_type": "code",
   "execution_count": 20,
   "metadata": {},
   "outputs": [],
   "source": [
    "sentences1 = [\n",
    "    \"Super Mario Galaxy 2, the sequel to the galaxy-hopping original game, includes the gravity-defying, physics-based exploration from the first game, but is loaded with entirely new galaxies and features to challenge players. On some stages, Mario can pair up with his dinosaur buddy Yoshi and use his tongue to grab items and spit them back at enemies. Players can also have fun with new items such as a drill that lets our hero tunnel through solid rock.\",\n",
    "    \"Going beyond 'run and gun corridors,' 'monster-closet AIs' and static worlds, BioShock creates a living, unique and unpredictable FPS experience. After your plane crashes into icy uncharted waters, you discover a rusted bathysphere and descend into Rapture, a city hidden beneath the sea. Constructed as an idealistic society for a hand picked group of scientists, artists and industrialists, the idealism is no more. Now the city is littered with corpses, wildly powerful guardians roam the corridors as little girls loot the dead, and genetically mutated citizens ambush you at every turn. Take control of your world by hacking mechanical devices, commandeering security turrets and crafting unique items critical to your very survival. Upgrade your weapons with ionic gels, explosives and toxins to customize them to the enemy and environment. Genetically modify your body through dozens of Plasmid Stations scattered throughout the city, empowering you with fantastic and often grotesque abilities. Explore a living world powered by Ecological A.I., where the inhabitants have interesting and consequential relationships with one another that impact your gameplay experience. Experience truly next generation graphics that vividly illustrate the forlorn art deco city, highlighted by the most detailed and realistic water effects ever developed in a video game. Make meaningful choices and mature decisions, ultimately culminating in the grand question: do you exploit the innocent survivors of Rapture...or save them?\",\n",
    "    \"Forget everything you know about The Legend of Zelda games. Step into a world of discovery, exploration and adventure in The Legend of Zelda: Breath of the Wild, a boundary-breaking new game in the acclaimed series. Travel across fields, through forests and to mountain peaks as you discover what has become of the ruined kingdom of Hyrule in this open-air adventure. Explore the wilds of Hyrule any way you like - Climb up towers and mountain peaks in search of new destinations, then set your own path to get there and plunge into the wilderness. Along the way, you'll battle towering enemies, hunt wild beasts and gather ingredients for the food and elixirs you'll need to sustain you on your journey. More than 100 Shrines of Trials to discover and explore - Shrines dot the landscape, waiting to be discovered in any order you want. Search for them in various ways, and solve a variety of puzzles inside. Work your way through the traps and devices inside to earn special items and other rewards that will help you on your adventure.\",\n",
    "    \"Developed by Rockstar San Diego, as a follow up to the 2004 hit game Red Dead Revolver, Red Dead Redemption is a Western epic, set at the turn of the 20th century when the lawless and chaotic badlands began to give way to the expanding reach of government and the spread of the Industrial Age. The story of former outlaw, John Marston, Red Dead Redemption takes players on a great adventure across the American frontier. Utilizing Rockstar's proprietary Rockstar Advanced Game Engine (RAGE), Red Dead Redemption features an open-world environment for players to explore, including frontier towns, rolling prairies teeming with wildlife, and perilous mountain passes - each packed with an endless flow of varied distractions. Along the way, players experience the heat of gunfights and battles, meet a host of unique characters, struggle against the harshness of one of the world’s last remaining wildernesses, and ultimately pick their own precarious path through an epic story about the death of the Wild West and the gunslingers that inhabited it.\",\n",
    "    \"Take Your Game Online: Access an online community where you can meet, chat, and play head-to-head against other gamers. Audio Dream Team: Dynamic play-by-play and analysis by Madden and Michaels. All-New Mini-camp: Hop on John Madden's Cruiser Tour Bus and travel to all NFL cities to complete skilled tasks. Create-A-Playbook: Customize receiver routes, player formations, and your team's entire playbook. Deepest Franchise Mode Ever: Play 30 years of Franchise mode and draft players each season with tips from your scouts.\",\n",
    "    \"The Covenant alien race threatens to destroy all humankind, and the only thing standing in its way is Master Chief, a genetically enhanced supersoldier. Master Chief returns in Halo 2, which features new vehicles, weapons, environments, and more. This time, you can interact with your environment, wield two weapons at the same time, board opponents' vehicles, and even switch sides to play the role of a Covenant Elite. Halo 2 also supports broadband multiplayer action via Xbox Live.\",\n",
    "    \"First Person Shooter\", \"Building\", \"Shooter\", \"Horror\", \"First Person\",\n",
    "    \"Shooter\", \"Zombie\", \"Farming\", \"Blood\", \"Horror\", \"Card\",\n",
    "    \"Survival\", \"Horror\", \"Life Sim\", \"Puzzle\", \"Fighting\", \"Magic\"\n",
    "]\n",
    "sentences2 = [\n",
    "    \"The ultimate Nintendo hero is taking the ultimate step ... out into space. Join Mario as he ushers in a new era of video games, defying gravity across all the planets in the galaxy. When some creature escapes into space with Princess Peach, Mario gives chase, exploring bizarre planets all across the galaxy. Mario, Peach and enemies new and old are here. Players run, jump and battle enemies as they explore all the planets in the galaxy. Since this game makes full use of all the features of the Wii Remote, players have to do all kinds of things to succeed: pressing buttons, swinging the Wii Remote and the Nunchuk, and even pointing at and dragging things with the pointer. Since he's in space, Mario can perform mind-bending jumps unlike anything he's done before. He'll also have a wealth of new moves that are all based around tilting, pointing and shaking the Wii Remote. Shake, tilt and point! Mario takes advantage of all the unique aspects of the Wii Remote and Nunchuk controller, unleashing new moves as players shake the controller and even point at and drag items with the pointer.\",\n",
    "    \"By taking the suspense, challenge and visceral charge of the original, and adding startling new realism and responsiveness, Half-Life 2 opens the door to a world where the player's presence affects everything around him, from the physical environment to the behaviors -- even the emotions -- of both friends and enemies. The player again picks up the crowbar of research scientist Gordon Freeman, who finds himself on an alien-infested Earth being picked to the bone, its resources depleted, its populace dwindling. Freeman is thrust into the unenviable role of rescuing the world from the wrong he unleashed back at Black Mesa. And a lot of people -- people he cares about -- are counting on him.\",\n",
    "    \"As a young boy, Link is tricked by Ganondorf, the King of the Gerudo Thieves. The evil human uses Link to gain access to the Sacred Realm, where he places his tainted hands on Triforce and transforms the beautiful Hyrulean landscape into a barren wasteland. Link is determined to fix the problems he helped to create, so with the help of Rauru he travels through time gathering the powers of the Seven Sages.\",\n",
    "    \"An ancient evil force has reawakened, attacking in secret and feeding on the souls of mighty warriors. To lure it out of hiding will take the greatest fighting contest the world has ever seen...Tekken 3. Some are fighting for revenge, some for honor, Ultimately, all are fighting for their lives and the fate of all mankind.\",\n",
    "    \"Prepare for an all-new RPG experience in Persona 5 Royal based in the universe of the award-winning series, Persona! Don the mask of Joker and join the Phantom Thieves of Hearts. Break free from the chains of modern society and stage grand heists to infiltrate the minds of the corrupt and make them change their ways! Persona 5 Royal is packed with new characters, confidants, story depth, new locations to explore, and a new grappling hook mechanic for stealthy access to new areas. With a new semester at Shujin Academy, get ready to strengthen your abilities in the metaverse and in your daily life. Persona 5 Royal presents a unique visual style and award nominated composer Shoji Meguro returns with an all-new soundtrack. Explore Tokyo, unlock new Personas, customize your own personal Thieves Den, discover a never-before-seen story arc, cutscenes, alternate endings, and more! Even for the most seasoned Phantom Thieves among us, Persona 5 Royal is a new challenge to defy conventions, discover the power within, and fight for justice. Wear the mask. Reveal your truth.\",\n",
    "    \"With the addition of two new courses (a downtown Tokyo circuit and the Monte Carlo Grand Prix course), an impressive range of cars (from Vipers to Cooper Minis), and a soundtrack featuring everything from Lenny Kravitz to Jimi Hendrix, this highly anticipated title is finally ready to be driven.\",\n",
    "    \"Racing\",\"Exploration\",\"Open World\",\"Sandbox\",\"Third Person\",\"Sports\",\n",
    "    \"Horror\",\"Military\",\"Gore\",\"Casual\",\"Shooter\",\"Sports\",\n",
    "    \"Card\",\"Fighting\",\"Battle Royale\",\"Shooter\", \"Fantasy\"\n",
    "]\n",
    "scores = [0.99, 0.7, 0.9, 0.2, 0.1, 0.1, 0, 0.6, 0.3, 0.2, 0.7, 0.1, 0.9, 0.1, 0.99, 0.3, 0.1, 0.1, 0.1, 0.2, 0.2, 0.1, 0.8]\n",
    "\n",
    "eval_cols = [\"sentence1\", \"sentence2\", \"score\"]\n",
    "eval_examples = []\n",
    "for s1, s2, score in zip(sentences1, sentences2, scores):\n",
    "    example = [s1, s2, score]\n",
    "    eval_examples.append(example)\n",
    "eval_df = pd.DataFrame(eval_examples, columns=eval_cols)\n",
    "eval_dataset = datasets.Dataset.from_pandas(eval_df)\n",
    "\n",
    "evaluator = evaluation.EmbeddingSimilarityEvaluator(\n",
    "    sentences1=eval_dataset[\"sentence1\"],\n",
    "    sentences2=eval_dataset[\"sentence2\"],\n",
    "    scores=eval_dataset[\"score\"],\n",
    "    main_similarity=evaluation.SimilarityFunction.COSINE,\n",
    "    name=\"sts-dev\",\n",
    ")"
   ]
  },
  {
   "cell_type": "markdown",
   "metadata": {},
   "source": [
    "Trains the model."
   ]
  },
  {
   "cell_type": "code",
   "execution_count": 21,
   "metadata": {},
   "outputs": [
    {
     "data": {
      "application/vnd.jupyter.widget-view+json": {
       "model_id": "25ca6eb97c304c5c982ea39cd223e7c6",
       "version_major": 2,
       "version_minor": 0
      },
      "text/plain": [
       "  0%|          | 0/6250 [00:00<?, ?it/s]"
      ]
     },
     "metadata": {},
     "output_type": "display_data"
    },
    {
     "name": "stdout",
     "output_type": "stream",
     "text": [
      "{'loss': 4.1158, 'grad_norm': 6.495326042175293, 'learning_rate': 4e-05, 'epoch': 0.08}\n"
     ]
    },
    {
     "data": {
      "application/vnd.jupyter.widget-view+json": {
       "model_id": "39548c197db34db88a777f5ae65a30e2",
       "version_major": 2,
       "version_minor": 0
      },
      "text/plain": [
       "  0%|          | 0/3 [00:00<?, ?it/s]"
      ]
     },
     "metadata": {},
     "output_type": "display_data"
    },
    {
     "name": "stdout",
     "output_type": "stream",
     "text": [
      "{'eval_loss': 2.865671157836914, 'eval_sts-dev_pearson_cosine': 0.7263891150694782, 'eval_sts-dev_spearman_cosine': 0.776948019785305, 'eval_sts-dev_pearson_manhattan': 0.7226438400291625, 'eval_sts-dev_spearman_manhattan': 0.795687965503725, 'eval_sts-dev_pearson_euclidean': 0.6963295650149335, 'eval_sts-dev_spearman_euclidean': 0.776948019785305, 'eval_sts-dev_pearson_dot': 0.7263880451512083, 'eval_sts-dev_spearman_dot': 0.776948019785305, 'eval_sts-dev_pearson_max': 0.7263891150694782, 'eval_sts-dev_spearman_max': 0.795687965503725, 'eval_runtime': 2.7652, 'eval_samples_per_second': 8.318, 'eval_steps_per_second': 1.085, 'epoch': 0.08}\n"
     ]
    },
    {
     "data": {
      "application/vnd.jupyter.widget-view+json": {
       "model_id": "44749210c21544f98307be3f4abb0e0a",
       "version_major": 2,
       "version_minor": 0
      },
      "text/plain": [
       "Computing widget examples:   0%|          | 0/5 [00:00<?, ?example/s]"
      ]
     },
     "metadata": {},
     "output_type": "display_data"
    },
    {
     "name": "stdout",
     "output_type": "stream",
     "text": [
      "{'loss': 3.2255, 'grad_norm': 8.008231163024902, 'learning_rate': 4.666666666666667e-05, 'epoch': 0.16}\n"
     ]
    },
    {
     "data": {
      "application/vnd.jupyter.widget-view+json": {
       "model_id": "958a74af4a0642e88ab0cebd62066c18",
       "version_major": 2,
       "version_minor": 0
      },
      "text/plain": [
       "  0%|          | 0/3 [00:00<?, ?it/s]"
      ]
     },
     "metadata": {},
     "output_type": "display_data"
    },
    {
     "name": "stdout",
     "output_type": "stream",
     "text": [
      "{'eval_loss': 3.1665971279144287, 'eval_sts-dev_pearson_cosine': 0.5863588796046579, 'eval_sts-dev_spearman_cosine': 0.5571335213584325, 'eval_sts-dev_pearson_manhattan': 0.6519289614006969, 'eval_sts-dev_spearman_manhattan': 0.5860031674651877, 'eval_sts-dev_pearson_euclidean': 0.6532856762000461, 'eval_sts-dev_spearman_euclidean': 0.5571335213584325, 'eval_sts-dev_pearson_dot': 0.5863592570821945, 'eval_sts-dev_spearman_dot': 0.5571335213584325, 'eval_sts-dev_pearson_max': 0.6532856762000461, 'eval_sts-dev_spearman_max': 0.5860031674651877, 'eval_runtime': 1.5665, 'eval_samples_per_second': 14.682, 'eval_steps_per_second': 1.915, 'epoch': 0.16}\n"
     ]
    },
    {
     "data": {
      "application/vnd.jupyter.widget-view+json": {
       "model_id": "ca4b25b15ffe49abbd02a5695f5d1c9f",
       "version_major": 2,
       "version_minor": 0
      },
      "text/plain": [
       "Computing widget examples:   0%|          | 0/5 [00:00<?, ?example/s]"
      ]
     },
     "metadata": {},
     "output_type": "display_data"
    },
    {
     "name": "stdout",
     "output_type": "stream",
     "text": [
      "{'loss': 3.1671, 'grad_norm': 5.454211711883545, 'learning_rate': 4.222222222222222e-05, 'epoch': 0.24}\n"
     ]
    },
    {
     "data": {
      "application/vnd.jupyter.widget-view+json": {
       "model_id": "78316a0b679a4f3f970d70262e905574",
       "version_major": 2,
       "version_minor": 0
      },
      "text/plain": [
       "  0%|          | 0/3 [00:00<?, ?it/s]"
      ]
     },
     "metadata": {},
     "output_type": "display_data"
    },
    {
     "name": "stdout",
     "output_type": "stream",
     "text": [
      "{'eval_loss': 2.9706695079803467, 'eval_sts-dev_pearson_cosine': 0.6946302489183827, 'eval_sts-dev_spearman_cosine': 0.5854966824457709, 'eval_sts-dev_pearson_manhattan': 0.715138119431496, 'eval_sts-dev_spearman_manhattan': 0.6270284540379449, 'eval_sts-dev_pearson_euclidean': 0.6990932048411602, 'eval_sts-dev_spearman_euclidean': 0.5854966824457709, 'eval_sts-dev_pearson_dot': 0.6946296597340585, 'eval_sts-dev_spearman_dot': 0.5854966824457709, 'eval_sts-dev_pearson_max': 0.715138119431496, 'eval_sts-dev_spearman_max': 0.6270284540379449, 'eval_runtime': 1.6599, 'eval_samples_per_second': 13.857, 'eval_steps_per_second': 1.807, 'epoch': 0.24}\n"
     ]
    },
    {
     "data": {
      "application/vnd.jupyter.widget-view+json": {
       "model_id": "4cd0e6d347d74edcadccb4121d275743",
       "version_major": 2,
       "version_minor": 0
      },
      "text/plain": [
       "Computing widget examples:   0%|          | 0/5 [00:00<?, ?example/s]"
      ]
     },
     "metadata": {},
     "output_type": "display_data"
    },
    {
     "name": "stdout",
     "output_type": "stream",
     "text": [
      "{'loss': 3.1713, 'grad_norm': 19.098905563354492, 'learning_rate': 3.777777777777778e-05, 'epoch': 0.32}\n"
     ]
    },
    {
     "data": {
      "application/vnd.jupyter.widget-view+json": {
       "model_id": "ac1c7c1ea08f42ea825178a2354be047",
       "version_major": 2,
       "version_minor": 0
      },
      "text/plain": [
       "  0%|          | 0/3 [00:00<?, ?it/s]"
      ]
     },
     "metadata": {},
     "output_type": "display_data"
    },
    {
     "name": "stdout",
     "output_type": "stream",
     "text": [
      "{'eval_loss': 3.6303908824920654, 'eval_sts-dev_pearson_cosine': 0.23213695622786612, 'eval_sts-dev_spearman_cosine': 0.20310049278611947, 'eval_sts-dev_pearson_manhattan': 0.2575717123730155, 'eval_sts-dev_spearman_manhattan': 0.1985421276113687, 'eval_sts-dev_pearson_euclidean': 0.26988458923805037, 'eval_sts-dev_spearman_euclidean': 0.20310049278611947, 'eval_sts-dev_pearson_dot': 0.23213781332330602, 'eval_sts-dev_spearman_dot': 0.20310049278611947, 'eval_sts-dev_pearson_max': 0.26988458923805037, 'eval_sts-dev_spearman_max': 0.20310049278611947, 'eval_runtime': 1.6263, 'eval_samples_per_second': 14.143, 'eval_steps_per_second': 1.845, 'epoch': 0.32}\n"
     ]
    },
    {
     "data": {
      "application/vnd.jupyter.widget-view+json": {
       "model_id": "4a27c1ef79984427a81ef466fc419316",
       "version_major": 2,
       "version_minor": 0
      },
      "text/plain": [
       "Computing widget examples:   0%|          | 0/5 [00:00<?, ?example/s]"
      ]
     },
     "metadata": {},
     "output_type": "display_data"
    },
    {
     "name": "stdout",
     "output_type": "stream",
     "text": [
      "{'loss': 3.0833, 'grad_norm': 29.866573333740234, 'learning_rate': 3.3333333333333335e-05, 'epoch': 0.4}\n"
     ]
    },
    {
     "data": {
      "application/vnd.jupyter.widget-view+json": {
       "model_id": "1471b701bf0b4ed5b6ee1a882a6de9e0",
       "version_major": 2,
       "version_minor": 0
      },
      "text/plain": [
       "  0%|          | 0/3 [00:00<?, ?it/s]"
      ]
     },
     "metadata": {},
     "output_type": "display_data"
    },
    {
     "name": "stdout",
     "output_type": "stream",
     "text": [
      "{'eval_loss': 3.024634599685669, 'eval_sts-dev_pearson_cosine': 0.6053200248937124, 'eval_sts-dev_spearman_cosine': 0.6700796806883693, 'eval_sts-dev_pearson_manhattan': 0.658220485352906, 'eval_sts-dev_spearman_manhattan': 0.6564045851641168, 'eval_sts-dev_pearson_euclidean': 0.642506570490571, 'eval_sts-dev_spearman_euclidean': 0.6700796806883693, 'eval_sts-dev_pearson_dot': 0.6053201934688774, 'eval_sts-dev_spearman_dot': 0.6700796806883693, 'eval_sts-dev_pearson_max': 0.658220485352906, 'eval_sts-dev_spearman_max': 0.6700796806883693, 'eval_runtime': 1.5686, 'eval_samples_per_second': 14.663, 'eval_steps_per_second': 1.913, 'epoch': 0.4}\n"
     ]
    },
    {
     "data": {
      "application/vnd.jupyter.widget-view+json": {
       "model_id": "ca9e5ab83d6345d19755f057c4e8db20",
       "version_major": 2,
       "version_minor": 0
      },
      "text/plain": [
       "Computing widget examples:   0%|          | 0/5 [00:00<?, ?example/s]"
      ]
     },
     "metadata": {},
     "output_type": "display_data"
    },
    {
     "name": "stdout",
     "output_type": "stream",
     "text": [
      "{'loss': 3.1658, 'grad_norm': 34.3986930847168, 'learning_rate': 2.8888888888888888e-05, 'epoch': 0.48}\n"
     ]
    },
    {
     "data": {
      "application/vnd.jupyter.widget-view+json": {
       "model_id": "d5570a90a8284b52a1d4cd81e1a19fa9",
       "version_major": 2,
       "version_minor": 0
      },
      "text/plain": [
       "  0%|          | 0/3 [00:00<?, ?it/s]"
      ]
     },
     "metadata": {},
     "output_type": "display_data"
    },
    {
     "name": "stdout",
     "output_type": "stream",
     "text": [
      "{'eval_loss': 3.0176236629486084, 'eval_sts-dev_pearson_cosine': 0.4605382339374643, 'eval_sts-dev_spearman_cosine': 0.40670747059165574, 'eval_sts-dev_pearson_manhattan': 0.48525150969499786, 'eval_sts-dev_spearman_manhattan': 0.4173436559994076, 'eval_sts-dev_pearson_euclidean': 0.485920540146404, 'eval_sts-dev_spearman_euclidean': 0.40670747059165574, 'eval_sts-dev_pearson_dot': 0.4605377478345461, 'eval_sts-dev_spearman_dot': 0.40670747059165574, 'eval_sts-dev_pearson_max': 0.485920540146404, 'eval_sts-dev_spearman_max': 0.4173436559994076, 'eval_runtime': 1.5598, 'eval_samples_per_second': 14.746, 'eval_steps_per_second': 1.923, 'epoch': 0.48}\n"
     ]
    },
    {
     "data": {
      "application/vnd.jupyter.widget-view+json": {
       "model_id": "458227d5a1aa4d07a025b490b7e9f137",
       "version_major": 2,
       "version_minor": 0
      },
      "text/plain": [
       "Computing widget examples:   0%|          | 0/5 [00:00<?, ?example/s]"
      ]
     },
     "metadata": {},
     "output_type": "display_data"
    },
    {
     "name": "stdout",
     "output_type": "stream",
     "text": [
      "{'loss': 3.0791, 'grad_norm': 14.670865058898926, 'learning_rate': 2.4444444444444445e-05, 'epoch': 0.56}\n"
     ]
    },
    {
     "data": {
      "application/vnd.jupyter.widget-view+json": {
       "model_id": "44a5fdfd48c74a39b5f530730e7229cc",
       "version_major": 2,
       "version_minor": 0
      },
      "text/plain": [
       "  0%|          | 0/3 [00:00<?, ?it/s]"
      ]
     },
     "metadata": {},
     "output_type": "display_data"
    },
    {
     "name": "stdout",
     "output_type": "stream",
     "text": [
      "{'eval_loss': 3.003206729888916, 'eval_sts-dev_pearson_cosine': 0.679363526203748, 'eval_sts-dev_spearman_cosine': 0.612340388474859, 'eval_sts-dev_pearson_manhattan': 0.6877624213035967, 'eval_sts-dev_spearman_manhattan': 0.5773929221351027, 'eval_sts-dev_pearson_euclidean': 0.7001830052407131, 'eval_sts-dev_spearman_euclidean': 0.612340388474859, 'eval_sts-dev_pearson_dot': 0.6793639501650972, 'eval_sts-dev_spearman_dot': 0.612340388474859, 'eval_sts-dev_pearson_max': 0.7001830052407131, 'eval_sts-dev_spearman_max': 0.612340388474859, 'eval_runtime': 1.5539, 'eval_samples_per_second': 14.802, 'eval_steps_per_second': 1.931, 'epoch': 0.56}\n"
     ]
    },
    {
     "data": {
      "application/vnd.jupyter.widget-view+json": {
       "model_id": "6fabfc3de9de496ba6a1c29c89e40906",
       "version_major": 2,
       "version_minor": 0
      },
      "text/plain": [
       "Computing widget examples:   0%|          | 0/5 [00:00<?, ?example/s]"
      ]
     },
     "metadata": {},
     "output_type": "display_data"
    },
    {
     "name": "stdout",
     "output_type": "stream",
     "text": [
      "{'loss': 3.0056, 'grad_norm': 9.247268676757812, 'learning_rate': 2e-05, 'epoch': 0.64}\n"
     ]
    },
    {
     "data": {
      "application/vnd.jupyter.widget-view+json": {
       "model_id": "5c08f96a6d3741b8b2e00fa92c09ea12",
       "version_major": 2,
       "version_minor": 0
      },
      "text/plain": [
       "  0%|          | 0/3 [00:00<?, ?it/s]"
      ]
     },
     "metadata": {},
     "output_type": "display_data"
    },
    {
     "name": "stdout",
     "output_type": "stream",
     "text": [
      "{'eval_loss': 2.898719549179077, 'eval_sts-dev_pearson_cosine': 0.7527662949761169, 'eval_sts-dev_spearman_cosine': 0.7369357032513812, 'eval_sts-dev_pearson_manhattan': 0.7563663426466921, 'eval_sts-dev_spearman_manhattan': 0.7262995178436293, 'eval_sts-dev_pearson_euclidean': 0.7638630928436237, 'eval_sts-dev_spearman_euclidean': 0.7369357032513812, 'eval_sts-dev_pearson_dot': 0.7527667348425039, 'eval_sts-dev_spearman_dot': 0.7369357032513812, 'eval_sts-dev_pearson_max': 0.7638630928436237, 'eval_sts-dev_spearman_max': 0.7369357032513812, 'eval_runtime': 1.5476, 'eval_samples_per_second': 14.862, 'eval_steps_per_second': 1.938, 'epoch': 0.64}\n"
     ]
    },
    {
     "data": {
      "application/vnd.jupyter.widget-view+json": {
       "model_id": "0c241a224f4c45808939850e175ff73e",
       "version_major": 2,
       "version_minor": 0
      },
      "text/plain": [
       "Computing widget examples:   0%|          | 0/5 [00:00<?, ?example/s]"
      ]
     },
     "metadata": {},
     "output_type": "display_data"
    },
    {
     "name": "stdout",
     "output_type": "stream",
     "text": [
      "{'loss': 2.9864, 'grad_norm': 18.484561920166016, 'learning_rate': 1.5555555555555555e-05, 'epoch': 0.72}\n"
     ]
    },
    {
     "data": {
      "application/vnd.jupyter.widget-view+json": {
       "model_id": "ecded1f28c0d42a88163a191790d63c1",
       "version_major": 2,
       "version_minor": 0
      },
      "text/plain": [
       "  0%|          | 0/3 [00:00<?, ?it/s]"
      ]
     },
     "metadata": {},
     "output_type": "display_data"
    },
    {
     "name": "stdout",
     "output_type": "stream",
     "text": [
      "{'eval_loss': 3.0573840141296387, 'eval_sts-dev_pearson_cosine': 0.6514307851980574, 'eval_sts-dev_spearman_cosine': 0.6427294896398644, 'eval_sts-dev_pearson_manhattan': 0.698314068780474, 'eval_sts-dev_spearman_manhattan': 0.6488073098728655, 'eval_sts-dev_pearson_euclidean': 0.7050937796500542, 'eval_sts-dev_spearman_euclidean': 0.6427294896398644, 'eval_sts-dev_pearson_dot': 0.6514309727155971, 'eval_sts-dev_spearman_dot': 0.6427294896398644, 'eval_sts-dev_pearson_max': 0.7050937796500542, 'eval_sts-dev_spearman_max': 0.6488073098728655, 'eval_runtime': 1.5865, 'eval_samples_per_second': 14.497, 'eval_steps_per_second': 1.891, 'epoch': 0.72}\n"
     ]
    },
    {
     "data": {
      "application/vnd.jupyter.widget-view+json": {
       "model_id": "44d4faf1fbf24797ac1d187788b51065",
       "version_major": 2,
       "version_minor": 0
      },
      "text/plain": [
       "Computing widget examples:   0%|          | 0/5 [00:00<?, ?example/s]"
      ]
     },
     "metadata": {},
     "output_type": "display_data"
    },
    {
     "name": "stdout",
     "output_type": "stream",
     "text": [
      "{'loss': 2.9191, 'grad_norm': 13.303040504455566, 'learning_rate': 1.1111111111111112e-05, 'epoch': 0.8}\n"
     ]
    },
    {
     "data": {
      "application/vnd.jupyter.widget-view+json": {
       "model_id": "eb04c2fdf01144598c5b9146f07c7fdc",
       "version_major": 2,
       "version_minor": 0
      },
      "text/plain": [
       "  0%|          | 0/3 [00:00<?, ?it/s]"
      ]
     },
     "metadata": {},
     "output_type": "display_data"
    },
    {
     "name": "stdout",
     "output_type": "stream",
     "text": [
      "{'eval_loss': 3.0449047088623047, 'eval_sts-dev_pearson_cosine': 0.6971563546081141, 'eval_sts-dev_spearman_cosine': 0.6837547762126217, 'eval_sts-dev_pearson_manhattan': 0.7405852126739951, 'eval_sts-dev_spearman_manhattan': 0.6898325964456229, 'eval_sts-dev_pearson_euclidean': 0.7400927713319831, 'eval_sts-dev_spearman_euclidean': 0.6837547762126217, 'eval_sts-dev_pearson_dot': 0.6971563551659112, 'eval_sts-dev_spearman_dot': 0.6837547762126217, 'eval_sts-dev_pearson_max': 0.7405852126739951, 'eval_sts-dev_spearman_max': 0.6898325964456229, 'eval_runtime': 1.5589, 'eval_samples_per_second': 14.754, 'eval_steps_per_second': 1.924, 'epoch': 0.8}\n"
     ]
    },
    {
     "data": {
      "application/vnd.jupyter.widget-view+json": {
       "model_id": "3065953accf84f04916d72fffd706d88",
       "version_major": 2,
       "version_minor": 0
      },
      "text/plain": [
       "Computing widget examples:   0%|          | 0/5 [00:00<?, ?example/s]"
      ]
     },
     "metadata": {},
     "output_type": "display_data"
    },
    {
     "name": "stdout",
     "output_type": "stream",
     "text": [
      "{'loss': 2.886, 'grad_norm': 15.278359413146973, 'learning_rate': 6.666666666666667e-06, 'epoch': 0.88}\n"
     ]
    },
    {
     "data": {
      "application/vnd.jupyter.widget-view+json": {
       "model_id": "0a50e8c69aa04e6abb57b20f36000f73",
       "version_major": 2,
       "version_minor": 0
      },
      "text/plain": [
       "  0%|          | 0/3 [00:00<?, ?it/s]"
      ]
     },
     "metadata": {},
     "output_type": "display_data"
    },
    {
     "name": "stdout",
     "output_type": "stream",
     "text": [
      "{'eval_loss': 3.0479347705841064, 'eval_sts-dev_pearson_cosine': 0.7152559754639709, 'eval_sts-dev_spearman_cosine': 0.6948974466397904, 'eval_sts-dev_pearson_manhattan': 0.7412683804353576, 'eval_sts-dev_spearman_manhattan': 0.6948974466397904, 'eval_sts-dev_pearson_euclidean': 0.746138964439232, 'eval_sts-dev_spearman_euclidean': 0.6948974466397904, 'eval_sts-dev_pearson_dot': 0.7152561793033817, 'eval_sts-dev_spearman_dot': 0.6948974466397904, 'eval_sts-dev_pearson_max': 0.746138964439232, 'eval_sts-dev_spearman_max': 0.6948974466397904, 'eval_runtime': 1.512, 'eval_samples_per_second': 15.212, 'eval_steps_per_second': 1.984, 'epoch': 0.88}\n"
     ]
    },
    {
     "data": {
      "application/vnd.jupyter.widget-view+json": {
       "model_id": "8dfe42fffc4b43628ed95404da10c611",
       "version_major": 2,
       "version_minor": 0
      },
      "text/plain": [
       "Computing widget examples:   0%|          | 0/5 [00:00<?, ?example/s]"
      ]
     },
     "metadata": {},
     "output_type": "display_data"
    },
    {
     "name": "stdout",
     "output_type": "stream",
     "text": [
      "{'loss': 2.8908, 'grad_norm': 10.12960147857666, 'learning_rate': 2.2222222222222225e-06, 'epoch': 0.96}\n"
     ]
    },
    {
     "data": {
      "application/vnd.jupyter.widget-view+json": {
       "model_id": "afff47678076453788fc25ef4f17581e",
       "version_major": 2,
       "version_minor": 0
      },
      "text/plain": [
       "  0%|          | 0/3 [00:00<?, ?it/s]"
      ]
     },
     "metadata": {},
     "output_type": "display_data"
    },
    {
     "name": "stdout",
     "output_type": "stream",
     "text": [
      "{'eval_loss': 3.0572423934936523, 'eval_sts-dev_pearson_cosine': 0.7211737932232891, 'eval_sts-dev_spearman_cosine': 0.7328838230960472, 'eval_sts-dev_pearson_manhattan': 0.7516218335400149, 'eval_sts-dev_spearman_manhattan': 0.7237670927465454, 'eval_sts-dev_pearson_euclidean': 0.755601567228225, 'eval_sts-dev_spearman_euclidean': 0.7328838230960472, 'eval_sts-dev_pearson_dot': 0.7211739095341768, 'eval_sts-dev_spearman_dot': 0.7328838230960472, 'eval_sts-dev_pearson_max': 0.755601567228225, 'eval_sts-dev_spearman_max': 0.7328838230960472, 'eval_runtime': 1.6362, 'eval_samples_per_second': 14.057, 'eval_steps_per_second': 1.834, 'epoch': 0.96}\n"
     ]
    },
    {
     "data": {
      "application/vnd.jupyter.widget-view+json": {
       "model_id": "9d7e9d9805624aa99be53c27ed0a0b7d",
       "version_major": 2,
       "version_minor": 0
      },
      "text/plain": [
       "Computing widget examples:   0%|          | 0/5 [00:00<?, ?example/s]"
      ]
     },
     "metadata": {},
     "output_type": "display_data"
    },
    {
     "name": "stdout",
     "output_type": "stream",
     "text": [
      "{'train_runtime': 4335.97, 'train_samples_per_second': 11.531, 'train_steps_per_second': 1.441, 'train_loss': 3.131548740234375, 'epoch': 1.0}\n"
     ]
    },
    {
     "data": {
      "text/plain": [
       "TrainOutput(global_step=6250, training_loss=3.131548740234375, metrics={'train_runtime': 4335.97, 'train_samples_per_second': 11.531, 'train_steps_per_second': 1.441, 'total_flos': 0.0, 'train_loss': 3.131548740234375, 'epoch': 1.0})"
      ]
     },
     "execution_count": 21,
     "metadata": {},
     "output_type": "execute_result"
    }
   ],
   "source": [
    "trainer = SentenceTransformerTrainer(\n",
    "    model=model,\n",
    "    args=args,\n",
    "    train_dataset=train_dataset,\n",
    "    eval_dataset=eval_dataset,\n",
    "    loss=train_loss,\n",
    "    evaluator=evaluator,\n",
    ")\n",
    "\n",
    "trainer.train()"
   ]
  },
  {
   "cell_type": "markdown",
   "metadata": {},
   "source": [
    "## Fine Tuning Alternative: Load Trained Model"
   ]
  },
  {
   "cell_type": "code",
   "execution_count": 22,
   "metadata": {},
   "outputs": [],
   "source": [
    "# model = SentenceTransformer(\"models/mpnet-game\")"
   ]
  },
  {
   "cell_type": "markdown",
   "metadata": {},
   "source": [
    "## Visualization Pt. 2"
   ]
  },
  {
   "cell_type": "markdown",
   "metadata": {},
   "source": [
    "### Visualizing Descriptions"
   ]
  },
  {
   "cell_type": "code",
   "execution_count": 23,
   "metadata": {},
   "outputs": [
    {
     "name": "stderr",
     "output_type": "stream",
     "text": [
      "/Library/Frameworks/Python.framework/Versions/3.12/lib/python3.12/site-packages/sklearn/cluster/_kmeans.py:1416: FutureWarning:\n",
      "\n",
      "The default value of `n_init` will change from 10 to 'auto' in 1.4. Set the value of `n_init` explicitly to suppress the warning\n",
      "\n"
     ]
    },
    {
     "data": {
      "application/vnd.plotly.v1+json": {
       "config": {
        "plotlyServerURL": "https://plot.ly"
       },
       "data": [
        {
         "hovertemplate": "<b>%{hovertext}</b>",
         "hovertext": [
          "Baldur's Gate 3",
          "Apex Legends™",
          "NARAKA: BLADEPOINT",
          "Grand Theft Auto V",
          "Tom Clancy's Rainbow Six® Siege",
          "Dota 2",
          "FINAL FANTASY XIV Online",
          "Warframe",
          "BattleBit Remastered",
          "DAVE THE DIVER",
          "ELDEN RING",
          "PAYDAY 2",
          "Red Dead Redemption 2",
          "Hunt: Showdown",
          "Hogwarts Legacy",
          "Raft",
          "Starfield",
          "Wayfinder",
          "Sea of Thieves 2023 Edition",
          "ARMORED CORE™ VI FIRES OF RUBICON™",
          "Path of Exile",
          "Call of Duty®: Black Ops III",
          "Terraria",
          "Stellaris",
          "Deep Rock Galactic",
          "Dead Cells",
          "Ratchet & Clank: Rift Apart",
          "ARK: Survival Evolved",
          "Shadow Gambit: The Cursed Crew",
          "theHunter: Call of the Wild™",
          "The Elder Scrolls V: Skyrim Special Edition",
          "Contraband Police",
          "Brawlhalla",
          "DRAGON BALL Z: KAKAROT",
          "BOOK OF HOURS",
          "Valheim",
          "BlazBlue Entropy Effect",
          "Marvel’s Spider-Man Remastered"
         ],
         "legendgroup": "0",
         "marker": {
          "color": "#636efa",
          "symbol": "circle"
         },
         "mode": "markers",
         "name": "0",
         "scene": "scene",
         "showlegend": true,
         "type": "scatter3d",
         "x": [
          0.10172721743583679,
          -0.02624622918665409,
          0.058335673063993454,
          0.05232178047299385,
          -0.017752820625901222,
          0.052770115435123444,
          0.04276714473962784,
          0.013099567033350468,
          -0.048196941614151,
          0.09174817055463791,
          -0.0026078575756400824,
          0.09975577890872955,
          0.1459883153438568,
          0.09789150208234787,
          0.046936411410570145,
          -0.031176334246993065,
          0.07911239564418793,
          0.07005235552787781,
          -0.01624462381005287,
          -0.03818874806165695,
          0.06666377931833267,
          0.03855001926422119,
          0.013964714482426643,
          -0.010006452910602093,
          0.10174158960580826,
          0.13458314538002014,
          0.11015540361404419,
          0.023444360122084618,
          0.10767800360918045,
          0.013526443392038345,
          0.03660168498754501,
          0.052764419466257095,
          -0.05286082625389099,
          -0.04749000817537308,
          0.07446567714214325,
          0.0812239944934845,
          0.08350735157728195,
          0.1810738742351532
         ],
         "y": [
          -0.07017403095960617,
          -0.12052808701992035,
          -0.149458646774292,
          0.02733531966805458,
          -0.10768909007310867,
          -0.12506753206253052,
          -0.06717337667942047,
          -0.127873495221138,
          -0.08410733938217163,
          0.008326912298798561,
          -0.14346933364868164,
          -0.055396709591150284,
          -0.03877408057451248,
          -0.03206406906247139,
          -0.0836503878235817,
          -0.027748074382543564,
          -0.07272020727396011,
          -0.04473176226019859,
          -0.06591819226741791,
          -0.04408428072929382,
          -0.08865565061569214,
          -0.03772806376218796,
          -0.07853569090366364,
          -0.07190325111150742,
          -0.09470001608133316,
          -0.11943423002958298,
          -0.1572245955467224,
          -0.08512630313634872,
          -0.06593526154756546,
          0.02352723851799965,
          -0.04531875252723694,
          0.05881302058696747,
          -0.19100943207740784,
          -0.15970933437347412,
          0.03339434042572975,
          -0.018619470298290253,
          -0.1039210632443428,
          -0.04671480879187584
         ],
         "z": [
          -0.07480545341968536,
          0.057194244116544724,
          0.06842144578695297,
          0.07602071762084961,
          0.14142538607120514,
          0.0659252181649208,
          -0.08671636134386063,
          0.030389543622732162,
          0.12426014989614487,
          -0.0451585128903389,
          -0.06249606981873512,
          0.0986863225698471,
          0.054076049476861954,
          0.11914709210395813,
          -0.10363456606864929,
          -0.00401532556861639,
          -0.010305680334568024,
          -0.029656928032636642,
          -0.048569779843091965,
          0.09100557863712311,
          -0.055251918733119965,
          0.033913932740688324,
          -0.04938891530036926,
          -0.06557035446166992,
          -0.014692271128296852,
          0.005004532169550657,
          0.07969332486391068,
          -0.058673784136772156,
          -0.14213889837265015,
          0.022216053679585457,
          -0.036341432482004166,
          0.0075914617627859116,
          0.12719911336898804,
          0.10391934216022491,
          -0.18240848183631897,
          -0.1625445932149887,
          0.04839710518717766,
          0.11817631125450134
         ]
        },
        {
         "hovertemplate": "<b>%{hovertext}</b>",
         "hovertext": [
          "Counter-Strike: Global Offensive",
          "Street Fighter™ 6",
          "EA SPORTS™ FIFA 23",
          "Yu-Gi-Oh! Master Duel",
          "Football Manager 2023",
          "Madden NFL 24",
          "F1® 23",
          "EA SPORTS FC™ 24",
          "It Takes Two",
          "Garry's Mod"
         ],
         "legendgroup": "4",
         "marker": {
          "color": "#EF553B",
          "symbol": "circle"
         },
         "mode": "markers",
         "name": "4",
         "scene": "scene",
         "showlegend": true,
         "type": "scatter3d",
         "x": [
          -0.10189921408891678,
          -0.08091448992490768,
          -0.1809215545654297,
          -0.1516965925693512,
          -0.14283384382724762,
          -0.1171218752861023,
          -0.1297774612903595,
          -0.08981163054704666,
          -0.03184417262673378,
          -0.09258635342121124
         ],
         "y": [
          -0.12940368056297302,
          -0.11831813305616379,
          -0.05645110085606575,
          -0.058674272149801254,
          -0.05163075774908066,
          -0.060190387070178986,
          0.05738477781414986,
          -0.04807759076356888,
          -0.043238211423158646,
          -0.0738934874534607
         ],
         "z": [
          0.12504541873931885,
          0.15551336109638214,
          0.04436657577753067,
          -0.09130822867155075,
          0.07860062271356583,
          0.09175333380699158,
          0.25197193026542664,
          0.09349256753921509,
          0.04485688731074333,
          0.16508455574512482
         ]
        },
        {
         "hovertemplate": "<b>%{hovertext}</b>",
         "hovertext": [
          "Forza Horizon 5",
          "Forza Horizon 4",
          "Euro Truck Simulator 2",
          "American Truck Simulator",
          "BeamNG.drive"
         ],
         "legendgroup": "2",
         "marker": {
          "color": "#00cc96",
          "symbol": "circle"
         },
         "mode": "markers",
         "name": "2",
         "scene": "scene",
         "showlegend": true,
         "type": "scatter3d",
         "x": [
          -0.17021597921848297,
          -0.16455534100532532,
          -0.1839333474636078,
          -0.21761760115623474,
          -0.2289525270462036
         ],
         "y": [
          0.08630917221307755,
          0.14567191898822784,
          0.23581907153129578,
          0.4158340394496918,
          0.2553213834762573
         ],
         "z": [
          0.14179152250289917,
          0.034991949796676636,
          0.10369168967008591,
          0.07199030369520187,
          0.1964045912027359
         ]
        },
        {
         "hovertemplate": "<b>%{hovertext}</b>",
         "hovertext": [
          "Call of Duty®",
          "PUBG: BATTLEGROUNDS",
          "Team Fortress 2",
          "War Thunder",
          "The Elder Scrolls® Online",
          "Destiny 2",
          "Hearts of Iron IV",
          "World of Warships",
          "Mount & Blade II: Bannerlord",
          "Sengoku Dynasty",
          "Crusader Kings III",
          "World of Tanks Blitz",
          "Eternal Return",
          "Sid Meier’s Civilization® VI",
          "Don't Starve Together",
          "New World",
          "Guild Wars 2"
         ],
         "legendgroup": "6",
         "marker": {
          "color": "#ab63fa",
          "symbol": "circle"
         },
         "mode": "markers",
         "name": "6",
         "scene": "scene",
         "showlegend": true,
         "type": "scatter3d",
         "x": [
          -0.16520249843597412,
          -0.1708335131406784,
          -0.13923431932926178,
          -0.25751620531082153,
          -0.05924702435731888,
          -0.10683828592300415,
          -0.18288186192512512,
          -0.10032352060079575,
          -0.2228856086730957,
          -0.12757036089897156,
          -0.07607459276914597,
          -0.16318322718143463,
          -0.07214637845754623,
          -0.10010765492916107,
          -0.04274624586105347,
          -0.018923522904515266,
          -0.11906088143587112
         ],
         "y": [
          -0.03885924816131592,
          -0.1373298466205597,
          -0.020049558952450752,
          -0.007793833501636982,
          -0.07533299922943115,
          -0.03520592302083969,
          -0.05823855847120285,
          -0.002045325469225645,
          0.0029639853164553642,
          -0.03697860240936279,
          0.010298941284418106,
          -0.07545658200979233,
          -0.03986309468746185,
          -0.052028048783540726,
          0.013532781973481178,
          -0.03081722930073738,
          -0.08304643630981445
         ],
         "z": [
          0.00034123295336030424,
          0.004274656530469656,
          -0.07353032380342484,
          -0.010269560851156712,
          -0.1334584504365921,
          -0.08403011411428452,
          -0.03404954820871353,
          -0.02974250726401806,
          -0.19288702309131622,
          -0.20146477222442627,
          -0.15712273120880127,
          0.03795289620757103,
          -0.015514165163040161,
          -0.09767183661460876,
          -0.06959269940853119,
          -0.11131586879491806,
          -0.06172453984618187
         ]
        },
        {
         "hovertemplate": "<b>%{hovertext}</b>",
         "hovertext": [
          "Remnant II",
          "Rust",
          "Sons Of The Forest",
          "Project Zomboid",
          "Ready or Not",
          "Stardew Valley",
          "Fallout 76",
          "Metro Exodus",
          "Vampire Survivors",
          "DayZ",
          "Darkest Dungeon® II",
          "Six Days in Fallujah",
          "The Binding of Isaac: Rebirth",
          "Resident Evil 4",
          "Dying Light"
         ],
         "legendgroup": "1",
         "marker": {
          "color": "#FFA15A",
          "symbol": "circle"
         },
         "mode": "markers",
         "name": "1",
         "scene": "scene",
         "showlegend": true,
         "type": "scatter3d",
         "x": [
          0.17487145960330963,
          0.04417537897825241,
          0.14237183332443237,
          0.07210569828748703,
          0.08233729749917984,
          0.02996688149869442,
          0.21921296417713165,
          -0.025699077174067497,
          0.16692768037319183,
          0.06974279135465622,
          0.10487165302038193,
          0.15751662850379944,
          0.13323242962360382,
          0.16954168677330017,
          0.1624899059534073
         ],
         "y": [
          0.06450091302394867,
          0.04544089734554291,
          0.13180440664291382,
          -0.03740549832582474,
          0.11796418577432632,
          0.0901082381606102,
          0.04644358903169632,
          0.0664321705698967,
          -0.007130795624107122,
          -0.002778955502435565,
          0.147275909781456,
          0.1322631537914276,
          0.0036146549973636866,
          0.1524575799703598,
          0.05259929969906807
         ],
         "z": [
          -0.04145975410938263,
          -0.016260754317045212,
          -0.014818450435996056,
          -0.011896640062332153,
          0.2148827314376831,
          -0.10199219733476639,
          0.013223777525126934,
          -0.031920358538627625,
          -0.015386459417641163,
          -0.011909542605280876,
          -0.04243960604071617,
          0.10428468137979507,
          -0.04398152232170105,
          -0.007448764983564615,
          0.02842089720070362
         ]
        },
        {
         "hovertemplate": "<b>%{hovertext}</b>",
         "hovertext": [
          "Cyberpunk 2077",
          "Dead by Daylight",
          "Phasmophobia",
          "The Texas Chain Saw Massacre",
          "Total War: WARHAMMER III",
          "SCP: 5K",
          "The Outlast Trials",
          "Escape the Backrooms"
         ],
         "legendgroup": "3",
         "marker": {
          "color": "#19d3f3",
          "symbol": "circle"
         },
         "mode": "markers",
         "name": "3",
         "scene": "scene",
         "showlegend": true,
         "type": "scatter3d",
         "x": [
          0.06121811270713806,
          0.2923734486103058,
          0.29604411125183105,
          0.33149006962776184,
          0.1172737330198288,
          0.216396301984787,
          0.22141680121421814,
          0.24785490334033966
         ],
         "y": [
          0.03879331424832344,
          0.09444592893123627,
          0.19930380582809448,
          0.1965440958738327,
          0.12774808704853058,
          0.06625531613826752,
          0.0896155834197998,
          0.033337388187646866
         ],
         "z": [
          0.016197197139263153,
          0.06048671528697014,
          -0.014263366349041462,
          0.0646328330039978,
          -0.1493430882692337,
          0.010528594255447388,
          0.03570824861526489,
          -0.029981182888150215
         ]
        },
        {
         "hovertemplate": "<b>%{hovertext}</b>",
         "hovertext": [
          "The Sims™ 4",
          "Farming Simulator 22",
          "Cities: Skylines",
          "Microsoft Flight Simulator 40th Anniversary Edition",
          "RimWorld",
          "Graveyard Keeper",
          "Planet Zoo"
         ],
         "legendgroup": "5",
         "marker": {
          "color": "#FF6692",
          "symbol": "circle"
         },
         "mode": "markers",
         "name": "5",
         "scene": "scene",
         "showlegend": true,
         "type": "scatter3d",
         "x": [
          -0.1478525549173355,
          -0.1710638701915741,
          -0.1571698784828186,
          -0.3050260841846466,
          -0.033216867595911026,
          -0.055294618010520935,
          -0.19033078849315643
         ],
         "y": [
          0.06668712198734283,
          0.06710302084684372,
          0.1614512801170349,
          0.18573778867721558,
          0.11297966539859772,
          0.13281016051769257,
          0.20715244114398956
         ],
         "z": [
          -0.11255922168493271,
          -0.16742336750030518,
          0.03720300644636154,
          0.02834860049188137,
          -0.08925832062959671,
          -0.14922212064266205,
          -0.08108814060688019
         ]
        }
       ],
       "layout": {
        "height": 720,
        "legend": {
         "title": {
          "text": "cluster"
         },
         "tracegroupgap": 0
        },
        "margin": {
         "t": 60
        },
        "scene": {
         "domain": {
          "x": [
           0,
           1
          ],
          "y": [
           0,
           1
          ]
         },
         "xaxis": {
          "range": [
           -0.8050260841846466,
           0.8314900696277618
          ],
          "title": {
           "text": "x"
          }
         },
         "yaxis": {
          "range": [
           -0.6910094320774078,
           0.9158340394496918
          ],
          "title": {
           "text": "y"
          }
         },
         "zaxis": {
          "range": [
           -0.7014647722244263,
           0.7519719302654266
          ],
          "title": {
           "text": "z"
          }
         }
        },
        "template": {
         "data": {
          "bar": [
           {
            "error_x": {
             "color": "#2a3f5f"
            },
            "error_y": {
             "color": "#2a3f5f"
            },
            "marker": {
             "line": {
              "color": "#E5ECF6",
              "width": 0.5
             },
             "pattern": {
              "fillmode": "overlay",
              "size": 10,
              "solidity": 0.2
             }
            },
            "type": "bar"
           }
          ],
          "barpolar": [
           {
            "marker": {
             "line": {
              "color": "#E5ECF6",
              "width": 0.5
             },
             "pattern": {
              "fillmode": "overlay",
              "size": 10,
              "solidity": 0.2
             }
            },
            "type": "barpolar"
           }
          ],
          "carpet": [
           {
            "aaxis": {
             "endlinecolor": "#2a3f5f",
             "gridcolor": "white",
             "linecolor": "white",
             "minorgridcolor": "white",
             "startlinecolor": "#2a3f5f"
            },
            "baxis": {
             "endlinecolor": "#2a3f5f",
             "gridcolor": "white",
             "linecolor": "white",
             "minorgridcolor": "white",
             "startlinecolor": "#2a3f5f"
            },
            "type": "carpet"
           }
          ],
          "choropleth": [
           {
            "colorbar": {
             "outlinewidth": 0,
             "ticks": ""
            },
            "type": "choropleth"
           }
          ],
          "contour": [
           {
            "colorbar": {
             "outlinewidth": 0,
             "ticks": ""
            },
            "colorscale": [
             [
              0,
              "#0d0887"
             ],
             [
              0.1111111111111111,
              "#46039f"
             ],
             [
              0.2222222222222222,
              "#7201a8"
             ],
             [
              0.3333333333333333,
              "#9c179e"
             ],
             [
              0.4444444444444444,
              "#bd3786"
             ],
             [
              0.5555555555555556,
              "#d8576b"
             ],
             [
              0.6666666666666666,
              "#ed7953"
             ],
             [
              0.7777777777777778,
              "#fb9f3a"
             ],
             [
              0.8888888888888888,
              "#fdca26"
             ],
             [
              1,
              "#f0f921"
             ]
            ],
            "type": "contour"
           }
          ],
          "contourcarpet": [
           {
            "colorbar": {
             "outlinewidth": 0,
             "ticks": ""
            },
            "type": "contourcarpet"
           }
          ],
          "heatmap": [
           {
            "colorbar": {
             "outlinewidth": 0,
             "ticks": ""
            },
            "colorscale": [
             [
              0,
              "#0d0887"
             ],
             [
              0.1111111111111111,
              "#46039f"
             ],
             [
              0.2222222222222222,
              "#7201a8"
             ],
             [
              0.3333333333333333,
              "#9c179e"
             ],
             [
              0.4444444444444444,
              "#bd3786"
             ],
             [
              0.5555555555555556,
              "#d8576b"
             ],
             [
              0.6666666666666666,
              "#ed7953"
             ],
             [
              0.7777777777777778,
              "#fb9f3a"
             ],
             [
              0.8888888888888888,
              "#fdca26"
             ],
             [
              1,
              "#f0f921"
             ]
            ],
            "type": "heatmap"
           }
          ],
          "heatmapgl": [
           {
            "colorbar": {
             "outlinewidth": 0,
             "ticks": ""
            },
            "colorscale": [
             [
              0,
              "#0d0887"
             ],
             [
              0.1111111111111111,
              "#46039f"
             ],
             [
              0.2222222222222222,
              "#7201a8"
             ],
             [
              0.3333333333333333,
              "#9c179e"
             ],
             [
              0.4444444444444444,
              "#bd3786"
             ],
             [
              0.5555555555555556,
              "#d8576b"
             ],
             [
              0.6666666666666666,
              "#ed7953"
             ],
             [
              0.7777777777777778,
              "#fb9f3a"
             ],
             [
              0.8888888888888888,
              "#fdca26"
             ],
             [
              1,
              "#f0f921"
             ]
            ],
            "type": "heatmapgl"
           }
          ],
          "histogram": [
           {
            "marker": {
             "pattern": {
              "fillmode": "overlay",
              "size": 10,
              "solidity": 0.2
             }
            },
            "type": "histogram"
           }
          ],
          "histogram2d": [
           {
            "colorbar": {
             "outlinewidth": 0,
             "ticks": ""
            },
            "colorscale": [
             [
              0,
              "#0d0887"
             ],
             [
              0.1111111111111111,
              "#46039f"
             ],
             [
              0.2222222222222222,
              "#7201a8"
             ],
             [
              0.3333333333333333,
              "#9c179e"
             ],
             [
              0.4444444444444444,
              "#bd3786"
             ],
             [
              0.5555555555555556,
              "#d8576b"
             ],
             [
              0.6666666666666666,
              "#ed7953"
             ],
             [
              0.7777777777777778,
              "#fb9f3a"
             ],
             [
              0.8888888888888888,
              "#fdca26"
             ],
             [
              1,
              "#f0f921"
             ]
            ],
            "type": "histogram2d"
           }
          ],
          "histogram2dcontour": [
           {
            "colorbar": {
             "outlinewidth": 0,
             "ticks": ""
            },
            "colorscale": [
             [
              0,
              "#0d0887"
             ],
             [
              0.1111111111111111,
              "#46039f"
             ],
             [
              0.2222222222222222,
              "#7201a8"
             ],
             [
              0.3333333333333333,
              "#9c179e"
             ],
             [
              0.4444444444444444,
              "#bd3786"
             ],
             [
              0.5555555555555556,
              "#d8576b"
             ],
             [
              0.6666666666666666,
              "#ed7953"
             ],
             [
              0.7777777777777778,
              "#fb9f3a"
             ],
             [
              0.8888888888888888,
              "#fdca26"
             ],
             [
              1,
              "#f0f921"
             ]
            ],
            "type": "histogram2dcontour"
           }
          ],
          "mesh3d": [
           {
            "colorbar": {
             "outlinewidth": 0,
             "ticks": ""
            },
            "type": "mesh3d"
           }
          ],
          "parcoords": [
           {
            "line": {
             "colorbar": {
              "outlinewidth": 0,
              "ticks": ""
             }
            },
            "type": "parcoords"
           }
          ],
          "pie": [
           {
            "automargin": true,
            "type": "pie"
           }
          ],
          "scatter": [
           {
            "fillpattern": {
             "fillmode": "overlay",
             "size": 10,
             "solidity": 0.2
            },
            "type": "scatter"
           }
          ],
          "scatter3d": [
           {
            "line": {
             "colorbar": {
              "outlinewidth": 0,
              "ticks": ""
             }
            },
            "marker": {
             "colorbar": {
              "outlinewidth": 0,
              "ticks": ""
             }
            },
            "type": "scatter3d"
           }
          ],
          "scattercarpet": [
           {
            "marker": {
             "colorbar": {
              "outlinewidth": 0,
              "ticks": ""
             }
            },
            "type": "scattercarpet"
           }
          ],
          "scattergeo": [
           {
            "marker": {
             "colorbar": {
              "outlinewidth": 0,
              "ticks": ""
             }
            },
            "type": "scattergeo"
           }
          ],
          "scattergl": [
           {
            "marker": {
             "colorbar": {
              "outlinewidth": 0,
              "ticks": ""
             }
            },
            "type": "scattergl"
           }
          ],
          "scattermapbox": [
           {
            "marker": {
             "colorbar": {
              "outlinewidth": 0,
              "ticks": ""
             }
            },
            "type": "scattermapbox"
           }
          ],
          "scatterpolar": [
           {
            "marker": {
             "colorbar": {
              "outlinewidth": 0,
              "ticks": ""
             }
            },
            "type": "scatterpolar"
           }
          ],
          "scatterpolargl": [
           {
            "marker": {
             "colorbar": {
              "outlinewidth": 0,
              "ticks": ""
             }
            },
            "type": "scatterpolargl"
           }
          ],
          "scatterternary": [
           {
            "marker": {
             "colorbar": {
              "outlinewidth": 0,
              "ticks": ""
             }
            },
            "type": "scatterternary"
           }
          ],
          "surface": [
           {
            "colorbar": {
             "outlinewidth": 0,
             "ticks": ""
            },
            "colorscale": [
             [
              0,
              "#0d0887"
             ],
             [
              0.1111111111111111,
              "#46039f"
             ],
             [
              0.2222222222222222,
              "#7201a8"
             ],
             [
              0.3333333333333333,
              "#9c179e"
             ],
             [
              0.4444444444444444,
              "#bd3786"
             ],
             [
              0.5555555555555556,
              "#d8576b"
             ],
             [
              0.6666666666666666,
              "#ed7953"
             ],
             [
              0.7777777777777778,
              "#fb9f3a"
             ],
             [
              0.8888888888888888,
              "#fdca26"
             ],
             [
              1,
              "#f0f921"
             ]
            ],
            "type": "surface"
           }
          ],
          "table": [
           {
            "cells": {
             "fill": {
              "color": "#EBF0F8"
             },
             "line": {
              "color": "white"
             }
            },
            "header": {
             "fill": {
              "color": "#C8D4E3"
             },
             "line": {
              "color": "white"
             }
            },
            "type": "table"
           }
          ]
         },
         "layout": {
          "annotationdefaults": {
           "arrowcolor": "#2a3f5f",
           "arrowhead": 0,
           "arrowwidth": 1
          },
          "autotypenumbers": "strict",
          "coloraxis": {
           "colorbar": {
            "outlinewidth": 0,
            "ticks": ""
           }
          },
          "colorscale": {
           "diverging": [
            [
             0,
             "#8e0152"
            ],
            [
             0.1,
             "#c51b7d"
            ],
            [
             0.2,
             "#de77ae"
            ],
            [
             0.3,
             "#f1b6da"
            ],
            [
             0.4,
             "#fde0ef"
            ],
            [
             0.5,
             "#f7f7f7"
            ],
            [
             0.6,
             "#e6f5d0"
            ],
            [
             0.7,
             "#b8e186"
            ],
            [
             0.8,
             "#7fbc41"
            ],
            [
             0.9,
             "#4d9221"
            ],
            [
             1,
             "#276419"
            ]
           ],
           "sequential": [
            [
             0,
             "#0d0887"
            ],
            [
             0.1111111111111111,
             "#46039f"
            ],
            [
             0.2222222222222222,
             "#7201a8"
            ],
            [
             0.3333333333333333,
             "#9c179e"
            ],
            [
             0.4444444444444444,
             "#bd3786"
            ],
            [
             0.5555555555555556,
             "#d8576b"
            ],
            [
             0.6666666666666666,
             "#ed7953"
            ],
            [
             0.7777777777777778,
             "#fb9f3a"
            ],
            [
             0.8888888888888888,
             "#fdca26"
            ],
            [
             1,
             "#f0f921"
            ]
           ],
           "sequentialminus": [
            [
             0,
             "#0d0887"
            ],
            [
             0.1111111111111111,
             "#46039f"
            ],
            [
             0.2222222222222222,
             "#7201a8"
            ],
            [
             0.3333333333333333,
             "#9c179e"
            ],
            [
             0.4444444444444444,
             "#bd3786"
            ],
            [
             0.5555555555555556,
             "#d8576b"
            ],
            [
             0.6666666666666666,
             "#ed7953"
            ],
            [
             0.7777777777777778,
             "#fb9f3a"
            ],
            [
             0.8888888888888888,
             "#fdca26"
            ],
            [
             1,
             "#f0f921"
            ]
           ]
          },
          "colorway": [
           "#636efa",
           "#EF553B",
           "#00cc96",
           "#ab63fa",
           "#FFA15A",
           "#19d3f3",
           "#FF6692",
           "#B6E880",
           "#FF97FF",
           "#FECB52"
          ],
          "font": {
           "color": "#2a3f5f"
          },
          "geo": {
           "bgcolor": "white",
           "lakecolor": "white",
           "landcolor": "#E5ECF6",
           "showlakes": true,
           "showland": true,
           "subunitcolor": "white"
          },
          "hoverlabel": {
           "align": "left"
          },
          "hovermode": "closest",
          "mapbox": {
           "style": "light"
          },
          "paper_bgcolor": "white",
          "plot_bgcolor": "#E5ECF6",
          "polar": {
           "angularaxis": {
            "gridcolor": "white",
            "linecolor": "white",
            "ticks": ""
           },
           "bgcolor": "#E5ECF6",
           "radialaxis": {
            "gridcolor": "white",
            "linecolor": "white",
            "ticks": ""
           }
          },
          "scene": {
           "xaxis": {
            "backgroundcolor": "#E5ECF6",
            "gridcolor": "white",
            "gridwidth": 2,
            "linecolor": "white",
            "showbackground": true,
            "ticks": "",
            "zerolinecolor": "white"
           },
           "yaxis": {
            "backgroundcolor": "#E5ECF6",
            "gridcolor": "white",
            "gridwidth": 2,
            "linecolor": "white",
            "showbackground": true,
            "ticks": "",
            "zerolinecolor": "white"
           },
           "zaxis": {
            "backgroundcolor": "#E5ECF6",
            "gridcolor": "white",
            "gridwidth": 2,
            "linecolor": "white",
            "showbackground": true,
            "ticks": "",
            "zerolinecolor": "white"
           }
          },
          "shapedefaults": {
           "line": {
            "color": "#2a3f5f"
           }
          },
          "ternary": {
           "aaxis": {
            "gridcolor": "white",
            "linecolor": "white",
            "ticks": ""
           },
           "baxis": {
            "gridcolor": "white",
            "linecolor": "white",
            "ticks": ""
           },
           "bgcolor": "#E5ECF6",
           "caxis": {
            "gridcolor": "white",
            "linecolor": "white",
            "ticks": ""
           }
          },
          "title": {
           "x": 0.05
          },
          "xaxis": {
           "automargin": true,
           "gridcolor": "white",
           "linecolor": "white",
           "ticks": "",
           "title": {
            "standoff": 15
           },
           "zerolinecolor": "white",
           "zerolinewidth": 2
          },
          "yaxis": {
           "automargin": true,
           "gridcolor": "white",
           "linecolor": "white",
           "ticks": "",
           "title": {
            "standoff": 15
           },
           "zerolinecolor": "white",
           "zerolinewidth": 2
          }
         }
        },
        "width": 1280
       }
      }
     },
     "metadata": {},
     "output_type": "display_data"
    }
   ],
   "source": [
    "visualize_pca(model, sample_df, \"tokenize_desc\", 7)"
   ]
  },
  {
   "cell_type": "markdown",
   "metadata": {},
   "source": [
    "### Visualizing Tags"
   ]
  },
  {
   "cell_type": "code",
   "execution_count": 24,
   "metadata": {},
   "outputs": [
    {
     "name": "stderr",
     "output_type": "stream",
     "text": [
      "/Library/Frameworks/Python.framework/Versions/3.12/lib/python3.12/site-packages/sklearn/cluster/_kmeans.py:1416: FutureWarning:\n",
      "\n",
      "The default value of `n_init` will change from 10 to 'auto' in 1.4. Set the value of `n_init` explicitly to suppress the warning\n",
      "\n"
     ]
    },
    {
     "data": {
      "application/vnd.plotly.v1+json": {
       "config": {
        "plotlyServerURL": "https://plot.ly"
       },
       "data": [
        {
         "hovertemplate": "<b>%{hovertext}</b>",
         "hovertext": [
          "Baldur's Gate 3",
          "Rust",
          "FINAL FANTASY XIV Online",
          "The Elder Scrolls® Online",
          "DAVE THE DIVER",
          "The Sims™ 4",
          "Red Dead Redemption 2",
          "Hogwarts Legacy",
          "Project Zomboid",
          "Raft",
          "Sengoku Dynasty",
          "Wayfinder",
          "Sea of Thieves 2023 Edition",
          "Microsoft Flight Simulator 40th Anniversary Edition",
          "Terraria",
          "ARK: Survival Evolved",
          "Darkest Dungeon® II",
          "Graveyard Keeper",
          "The Elder Scrolls V: Skyrim Special Edition",
          "Don't Starve Together",
          "BOOK OF HOURS",
          "Garry's Mod",
          "New World",
          "Valheim",
          "Guild Wars 2"
         ],
         "legendgroup": "1",
         "marker": {
          "color": "#636efa",
          "symbol": "circle"
         },
         "mode": "markers",
         "name": "1",
         "scene": "scene",
         "showlegend": true,
         "type": "scatter3d",
         "x": [
          0.0016151117160916328,
          0.041612397879362106,
          0.14107336103916168,
          0.004835335072129965,
          -0.006294200196862221,
          0.0680646076798439,
          -0.05475163459777832,
          -0.0547880195081234,
          -0.03118257410824299,
          0.06838890165090561,
          0.17187030613422394,
          -0.04189063236117363,
          -0.05215439200401306,
          0.03629874810576439,
          -0.05984601378440857,
          0.09410535544157028,
          -0.06283576041460037,
          0.024281756952404976,
          -0.03135712444782257,
          0.011606919579207897,
          0.1333623230457306,
          -0.024929046630859375,
          -0.05428381636738777,
          0.03659169003367424,
          -0.007388072554022074
         ],
         "y": [
          -0.10088341683149338,
          -0.09934592247009277,
          -0.09047190845012665,
          -0.08590615540742874,
          -0.05546427145600319,
          -0.003407000098377466,
          -0.040344372391700745,
          -0.0783083587884903,
          -0.06336470693349838,
          -0.11122168600559235,
          -0.08912749588489532,
          -0.06878522783517838,
          -0.030917944386601448,
          0.07516655325889587,
          -0.061498116701841354,
          -0.12060566246509552,
          -0.1302938461303711,
          -0.08571565896272659,
          -0.12685447931289673,
          -0.09880214184522629,
          -0.16598843038082123,
          -0.01043999195098877,
          -0.021665316075086594,
          -0.12227733433246613,
          -0.06637018173933029
         ],
         "z": [
          -0.07828119397163391,
          -0.06460339576005936,
          -0.07012703269720078,
          -0.040340375155210495,
          -0.16743400692939758,
          -0.16400347650051117,
          -0.09239127486944199,
          -0.10466708242893219,
          -0.06814654916524887,
          -0.08316253870725632,
          -0.023490924388170242,
          0.02172660455107689,
          -0.04014716297388077,
          -0.044418904930353165,
          -0.11471384763717651,
          -0.0828370600938797,
          -0.035139501094818115,
          -0.11241459846496582,
          -0.10123247653245926,
          -0.09854304045438766,
          -0.04627203196287155,
          -0.10764338076114655,
          0.021098725497722626,
          -0.1021968349814415,
          -0.051008228212594986
         ]
        },
        {
         "hovertemplate": "<b>%{hovertext}</b>",
         "hovertext": [
          "Counter-Strike: Global Offensive",
          "Apex Legends™",
          "Call of Duty®",
          "PUBG: BATTLEGROUNDS",
          "Tom Clancy's Rainbow Six® Siege",
          "Team Fortress 2",
          "Dota 2",
          "Warframe",
          "BattleBit Remastered",
          "Destiny 2",
          "PAYDAY 2",
          "Hunt: Showdown",
          "Ready or Not",
          "Call of Duty®: Black Ops III",
          "Deep Rock Galactic",
          "World of Tanks Blitz",
          "Eternal Return",
          "theHunter: Call of the Wild™",
          "DayZ",
          "Six Days in Fallujah"
         ],
         "legendgroup": "4",
         "marker": {
          "color": "#EF553B",
          "symbol": "circle"
         },
         "mode": "markers",
         "name": "4",
         "scene": "scene",
         "showlegend": true,
         "type": "scatter3d",
         "x": [
          -0.066119484603405,
          -0.12623903155326843,
          -0.1378328949213028,
          -0.1486033797264099,
          -0.08121167868375778,
          -0.10441690683364868,
          0.013321897946298122,
          -0.15387491881847382,
          -0.13825224339962006,
          -0.1206696555018425,
          -0.17811600863933563,
          -0.13184164464473724,
          -0.08514609932899475,
          -0.1538589745759964,
          -0.13194109499454498,
          -0.07578834891319275,
          -0.08122941851615906,
          -0.04865897446870804,
          -0.11980745941400528,
          -0.07535243034362793
         ],
         "y": [
          0.026938891038298607,
          0.06711336970329285,
          0.07457757741212845,
          0.08972510695457458,
          0.07040304690599442,
          0.04253991320729256,
          -0.037334270775318146,
          0.0876828208565712,
          0.0631496012210846,
          0.08774229884147644,
          0.11437171697616577,
          0.08244382590055466,
          0.048624757677316666,
          0.06830012053251266,
          0.03288652002811432,
          0.01963138021528721,
          -0.01187115628272295,
          0.02358466386795044,
          0.04045477136969566,
          0.059644121676683426
         ],
         "z": [
          0.08732540160417557,
          0.12571698427200317,
          0.05410477891564369,
          0.11947096884250641,
          0.14669270813465118,
          0.06926597654819489,
          0.1433701515197754,
          0.08775514364242554,
          0.1564469337463379,
          0.1674545556306839,
          0.06780049949884415,
          0.09698262065649033,
          0.09648705273866653,
          0.053793054074048996,
          0.07749011367559433,
          0.17168572545051575,
          0.11193331331014633,
          0.014319065026938915,
          0.07093031704425812,
          0.24394172430038452
         ]
        },
        {
         "hovertemplate": "<b>%{hovertext}</b>",
         "hovertext": [
          "Forza Horizon 5",
          "Grand Theft Auto V",
          "War Thunder",
          "Forza Horizon 4",
          "Euro Truck Simulator 2",
          "American Truck Simulator",
          "F1® 23",
          "BeamNG.drive",
          "Contraband Police"
         ],
         "legendgroup": "2",
         "marker": {
          "color": "#00cc96",
          "symbol": "circle"
         },
         "mode": "markers",
         "name": "2",
         "scene": "scene",
         "showlegend": true,
         "type": "scatter3d",
         "x": [
          0.15454481542110443,
          0.13912349939346313,
          0.24594640731811523,
          0.2641157805919647,
          0.2824784219264984,
          0.3029063045978546,
          0.3126128911972046,
          0.2361413538455963,
          0.14423492550849915
         ],
         "y": [
          0.19875755906105042,
          0.2648737132549286,
          0.31134143471717834,
          0.2627795338630676,
          0.2521664500236511,
          0.23245587944984436,
          0.27259528636932373,
          0.25397104024887085,
          0.27022093534469604
         ],
         "z": [
          -0.0696352869272232,
          -0.05198994651436806,
          0.13264282047748566,
          -0.04701119661331177,
          -0.1171942800283432,
          -0.08473917096853256,
          -0.022604890167713165,
          -0.08964173495769501,
          -0.09918916970491409
         ]
        },
        {
         "hovertemplate": "<b>%{hovertext}</b>",
         "hovertext": [
          "Remnant II",
          "Cyberpunk 2077",
          "NARAKA: BLADEPOINT",
          "Dead by Daylight",
          "Street Fighter™ 6",
          "Phasmophobia",
          "ELDEN RING",
          "Sons Of The Forest",
          "The Texas Chain Saw Massacre",
          "Starfield",
          "Fallout 76",
          "ARMORED CORE™ VI FIRES OF RUBICON™",
          "Metro Exodus",
          "Path of Exile",
          "Dead Cells",
          "Ratchet & Clank: Rift Apart",
          "Vampire Survivors",
          "SCP: 5K",
          "The Outlast Trials",
          "Escape the Backrooms",
          "It Takes Two",
          "The Binding of Isaac: Rebirth",
          "Brawlhalla",
          "DRAGON BALL Z: KAKAROT",
          "Resident Evil 4",
          "Dying Light",
          "BlazBlue Entropy Effect",
          "Marvel’s Spider-Man Remastered"
         ],
         "legendgroup": "3",
         "marker": {
          "color": "#ab63fa",
          "symbol": "circle"
         },
         "mode": "markers",
         "name": "3",
         "scene": "scene",
         "showlegend": true,
         "type": "scatter3d",
         "x": [
          -0.16598950326442719,
          -0.1450565606355667,
          -0.13165859878063202,
          -0.1866234540939331,
          -0.10832148045301437,
          -0.1894853115081787,
          -0.15868645906448364,
          -0.11873021721839905,
          -0.1253223866224289,
          -0.1074078157544136,
          -0.05275677144527435,
          -0.07266390323638916,
          -0.14679184556007385,
          -0.10482093691825867,
          -0.15747414529323578,
          -0.13069085776805878,
          -0.17118577659130096,
          -0.20042897760868073,
          -0.22146545350551605,
          -0.18311043083667755,
          -0.08328217267990112,
          -0.1664440631866455,
          -0.08993947505950928,
          -0.11590586602687836,
          -0.20448221266269684,
          -0.15497344732284546,
          -0.1277344971895218,
          -0.14300063252449036
         ],
         "y": [
          0.04395206272602081,
          0.022444458678364754,
          0.005395864136517048,
          0.04115466773509979,
          -0.01282512117177248,
          0.06554003804922104,
          -0.029510939493775368,
          -0.04133208096027374,
          0.013221708126366138,
          -0.0196137223392725,
          -0.039936937391757965,
          0.029308699071407318,
          0.02294044941663742,
          -0.0306851789355278,
          -0.021763116121292114,
          0.0001690952922217548,
          0.01678697019815445,
          0.07075659930706024,
          0.03765961155295372,
          -0.017557648941874504,
          -0.03779109939932823,
          -0.0367492139339447,
          0.014281424693763256,
          -0.008217398077249527,
          0.05574696511030197,
          0.000008119091944536194,
          -0.030919376760721207,
          -0.011662459932267666
         ],
         "z": [
          0.008558602072298527,
          -0.0906563252210617,
          0.02279892936348915,
          0.014593129977583885,
          -0.012348481453955173,
          -0.10083067417144775,
          -0.08657319843769073,
          -0.10898192971944809,
          -0.03159887716174126,
          -0.10759014636278152,
          -0.034921109676361084,
          -0.0208941251039505,
          -0.02140105701982975,
          -0.026428645476698875,
          -0.07516441494226456,
          -0.05087442323565483,
          -0.00960126519203186,
          0.04795568063855171,
          -0.05354251712560654,
          -0.09138555079698563,
          -0.07324430346488953,
          -0.08082837611436844,
          0.023343930020928383,
          -0.0020249930676072836,
          0.018665604293346405,
          -0.10252563655376434,
          -0.09375888854265213,
          0.002559470245614648
         ]
        },
        {
         "hovertemplate": "<b>%{hovertext}</b>",
         "hovertext": [
          "EA SPORTS™ FIFA 23",
          "Football Manager 2023",
          "Madden NFL 24",
          "EA SPORTS FC™ 24"
         ],
         "legendgroup": "0",
         "marker": {
          "color": "#FFA15A",
          "symbol": "circle"
         },
         "mode": "markers",
         "name": "0",
         "scene": "scene",
         "showlegend": true,
         "type": "scatter3d",
         "x": [
          0.19978688657283783,
          0.2839280366897583,
          0.1920393705368042,
          0.07278675585985184
         ],
         "y": [
          0.005303096957504749,
          0.004093761555850506,
          -0.06004557013511658,
          0.05295758321881294
         ],
         "z": [
          0.12167734652757645,
          0.12579718232154846,
          0.1450553834438324,
          0.1546924114227295
         ]
        },
        {
         "hovertemplate": "<b>%{hovertext}</b>",
         "hovertext": [
          "Hearts of Iron IV",
          "Yu-Gi-Oh! Master Duel",
          "Total War: WARHAMMER III",
          "World of Warships",
          "Stellaris",
          "Shadow Gambit: The Cursed Crew",
          "Sid Meier’s Civilization® VI"
         ],
         "legendgroup": "6",
         "marker": {
          "color": "#19d3f3",
          "symbol": "circle"
         },
         "mode": "markers",
         "name": "6",
         "scene": "scene",
         "showlegend": true,
         "type": "scatter3d",
         "x": [
          0.22653329372406006,
          0.11232145130634308,
          0.140610009431839,
          0.10421732068061829,
          0.11521948873996735,
          0.09285413473844528,
          0.07553625851869583
         ],
         "y": [
          -0.21798230707645416,
          -0.1637536883354187,
          -0.17817513644695282,
          -0.09325066208839417,
          -0.1078004240989685,
          -0.14581020176410675,
          -0.12750974297523499
         ],
         "z": [
          0.2484513223171234,
          0.03422755375504494,
          0.08777835965156555,
          0.18037614226341248,
          0.049905337393283844,
          0.13528035581111908,
          0.1259598582983017
         ]
        },
        {
         "hovertemplate": "<b>%{hovertext}</b>",
         "hovertext": [
          "Farming Simulator 22",
          "Mount & Blade II: Bannerlord",
          "Stardew Valley",
          "Cities: Skylines",
          "RimWorld",
          "Crusader Kings III",
          "Planet Zoo"
         ],
         "legendgroup": "5",
         "marker": {
          "color": "#FF6692",
          "symbol": "circle"
         },
         "mode": "markers",
         "name": "5",
         "scene": "scene",
         "showlegend": true,
         "type": "scatter3d",
         "x": [
          0.31109556555747986,
          0.23638583719730377,
          0.21099135279655457,
          0.30652567744255066,
          0.2605096697807312,
          0.36781299114227295,
          0.36680781841278076
         ],
         "y": [
          -0.005312720779329538,
          -0.2339521199464798,
          -0.03161797672510147,
          -0.019543688744306564,
          -0.04390564188361168,
          -0.19102193415164948,
          -0.06035285070538521
         ],
         "z": [
          -0.10062145441770554,
          0.09290887415409088,
          -0.15398238599300385,
          0.004270550794899464,
          -0.031074827536940575,
          0.08039728552103043,
          -0.02761504426598549
         ]
        }
       ],
       "layout": {
        "height": 720,
        "legend": {
         "title": {
          "text": "cluster"
         },
         "tracegroupgap": 0
        },
        "margin": {
         "t": 60
        },
        "scene": {
         "domain": {
          "x": [
           0,
           1
          ],
          "y": [
           0,
           1
          ]
         },
         "xaxis": {
          "range": [
           -0.721465453505516,
           0.867812991142273
          ],
          "title": {
           "text": "x"
          }
         },
         "yaxis": {
          "range": [
           -0.7339521199464798,
           0.8113414347171783
          ],
          "title": {
           "text": "y"
          }
         },
         "zaxis": {
          "range": [
           -0.6674340069293976,
           0.7484513223171234
          ],
          "title": {
           "text": "z"
          }
         }
        },
        "template": {
         "data": {
          "bar": [
           {
            "error_x": {
             "color": "#2a3f5f"
            },
            "error_y": {
             "color": "#2a3f5f"
            },
            "marker": {
             "line": {
              "color": "#E5ECF6",
              "width": 0.5
             },
             "pattern": {
              "fillmode": "overlay",
              "size": 10,
              "solidity": 0.2
             }
            },
            "type": "bar"
           }
          ],
          "barpolar": [
           {
            "marker": {
             "line": {
              "color": "#E5ECF6",
              "width": 0.5
             },
             "pattern": {
              "fillmode": "overlay",
              "size": 10,
              "solidity": 0.2
             }
            },
            "type": "barpolar"
           }
          ],
          "carpet": [
           {
            "aaxis": {
             "endlinecolor": "#2a3f5f",
             "gridcolor": "white",
             "linecolor": "white",
             "minorgridcolor": "white",
             "startlinecolor": "#2a3f5f"
            },
            "baxis": {
             "endlinecolor": "#2a3f5f",
             "gridcolor": "white",
             "linecolor": "white",
             "minorgridcolor": "white",
             "startlinecolor": "#2a3f5f"
            },
            "type": "carpet"
           }
          ],
          "choropleth": [
           {
            "colorbar": {
             "outlinewidth": 0,
             "ticks": ""
            },
            "type": "choropleth"
           }
          ],
          "contour": [
           {
            "colorbar": {
             "outlinewidth": 0,
             "ticks": ""
            },
            "colorscale": [
             [
              0,
              "#0d0887"
             ],
             [
              0.1111111111111111,
              "#46039f"
             ],
             [
              0.2222222222222222,
              "#7201a8"
             ],
             [
              0.3333333333333333,
              "#9c179e"
             ],
             [
              0.4444444444444444,
              "#bd3786"
             ],
             [
              0.5555555555555556,
              "#d8576b"
             ],
             [
              0.6666666666666666,
              "#ed7953"
             ],
             [
              0.7777777777777778,
              "#fb9f3a"
             ],
             [
              0.8888888888888888,
              "#fdca26"
             ],
             [
              1,
              "#f0f921"
             ]
            ],
            "type": "contour"
           }
          ],
          "contourcarpet": [
           {
            "colorbar": {
             "outlinewidth": 0,
             "ticks": ""
            },
            "type": "contourcarpet"
           }
          ],
          "heatmap": [
           {
            "colorbar": {
             "outlinewidth": 0,
             "ticks": ""
            },
            "colorscale": [
             [
              0,
              "#0d0887"
             ],
             [
              0.1111111111111111,
              "#46039f"
             ],
             [
              0.2222222222222222,
              "#7201a8"
             ],
             [
              0.3333333333333333,
              "#9c179e"
             ],
             [
              0.4444444444444444,
              "#bd3786"
             ],
             [
              0.5555555555555556,
              "#d8576b"
             ],
             [
              0.6666666666666666,
              "#ed7953"
             ],
             [
              0.7777777777777778,
              "#fb9f3a"
             ],
             [
              0.8888888888888888,
              "#fdca26"
             ],
             [
              1,
              "#f0f921"
             ]
            ],
            "type": "heatmap"
           }
          ],
          "heatmapgl": [
           {
            "colorbar": {
             "outlinewidth": 0,
             "ticks": ""
            },
            "colorscale": [
             [
              0,
              "#0d0887"
             ],
             [
              0.1111111111111111,
              "#46039f"
             ],
             [
              0.2222222222222222,
              "#7201a8"
             ],
             [
              0.3333333333333333,
              "#9c179e"
             ],
             [
              0.4444444444444444,
              "#bd3786"
             ],
             [
              0.5555555555555556,
              "#d8576b"
             ],
             [
              0.6666666666666666,
              "#ed7953"
             ],
             [
              0.7777777777777778,
              "#fb9f3a"
             ],
             [
              0.8888888888888888,
              "#fdca26"
             ],
             [
              1,
              "#f0f921"
             ]
            ],
            "type": "heatmapgl"
           }
          ],
          "histogram": [
           {
            "marker": {
             "pattern": {
              "fillmode": "overlay",
              "size": 10,
              "solidity": 0.2
             }
            },
            "type": "histogram"
           }
          ],
          "histogram2d": [
           {
            "colorbar": {
             "outlinewidth": 0,
             "ticks": ""
            },
            "colorscale": [
             [
              0,
              "#0d0887"
             ],
             [
              0.1111111111111111,
              "#46039f"
             ],
             [
              0.2222222222222222,
              "#7201a8"
             ],
             [
              0.3333333333333333,
              "#9c179e"
             ],
             [
              0.4444444444444444,
              "#bd3786"
             ],
             [
              0.5555555555555556,
              "#d8576b"
             ],
             [
              0.6666666666666666,
              "#ed7953"
             ],
             [
              0.7777777777777778,
              "#fb9f3a"
             ],
             [
              0.8888888888888888,
              "#fdca26"
             ],
             [
              1,
              "#f0f921"
             ]
            ],
            "type": "histogram2d"
           }
          ],
          "histogram2dcontour": [
           {
            "colorbar": {
             "outlinewidth": 0,
             "ticks": ""
            },
            "colorscale": [
             [
              0,
              "#0d0887"
             ],
             [
              0.1111111111111111,
              "#46039f"
             ],
             [
              0.2222222222222222,
              "#7201a8"
             ],
             [
              0.3333333333333333,
              "#9c179e"
             ],
             [
              0.4444444444444444,
              "#bd3786"
             ],
             [
              0.5555555555555556,
              "#d8576b"
             ],
             [
              0.6666666666666666,
              "#ed7953"
             ],
             [
              0.7777777777777778,
              "#fb9f3a"
             ],
             [
              0.8888888888888888,
              "#fdca26"
             ],
             [
              1,
              "#f0f921"
             ]
            ],
            "type": "histogram2dcontour"
           }
          ],
          "mesh3d": [
           {
            "colorbar": {
             "outlinewidth": 0,
             "ticks": ""
            },
            "type": "mesh3d"
           }
          ],
          "parcoords": [
           {
            "line": {
             "colorbar": {
              "outlinewidth": 0,
              "ticks": ""
             }
            },
            "type": "parcoords"
           }
          ],
          "pie": [
           {
            "automargin": true,
            "type": "pie"
           }
          ],
          "scatter": [
           {
            "fillpattern": {
             "fillmode": "overlay",
             "size": 10,
             "solidity": 0.2
            },
            "type": "scatter"
           }
          ],
          "scatter3d": [
           {
            "line": {
             "colorbar": {
              "outlinewidth": 0,
              "ticks": ""
             }
            },
            "marker": {
             "colorbar": {
              "outlinewidth": 0,
              "ticks": ""
             }
            },
            "type": "scatter3d"
           }
          ],
          "scattercarpet": [
           {
            "marker": {
             "colorbar": {
              "outlinewidth": 0,
              "ticks": ""
             }
            },
            "type": "scattercarpet"
           }
          ],
          "scattergeo": [
           {
            "marker": {
             "colorbar": {
              "outlinewidth": 0,
              "ticks": ""
             }
            },
            "type": "scattergeo"
           }
          ],
          "scattergl": [
           {
            "marker": {
             "colorbar": {
              "outlinewidth": 0,
              "ticks": ""
             }
            },
            "type": "scattergl"
           }
          ],
          "scattermapbox": [
           {
            "marker": {
             "colorbar": {
              "outlinewidth": 0,
              "ticks": ""
             }
            },
            "type": "scattermapbox"
           }
          ],
          "scatterpolar": [
           {
            "marker": {
             "colorbar": {
              "outlinewidth": 0,
              "ticks": ""
             }
            },
            "type": "scatterpolar"
           }
          ],
          "scatterpolargl": [
           {
            "marker": {
             "colorbar": {
              "outlinewidth": 0,
              "ticks": ""
             }
            },
            "type": "scatterpolargl"
           }
          ],
          "scatterternary": [
           {
            "marker": {
             "colorbar": {
              "outlinewidth": 0,
              "ticks": ""
             }
            },
            "type": "scatterternary"
           }
          ],
          "surface": [
           {
            "colorbar": {
             "outlinewidth": 0,
             "ticks": ""
            },
            "colorscale": [
             [
              0,
              "#0d0887"
             ],
             [
              0.1111111111111111,
              "#46039f"
             ],
             [
              0.2222222222222222,
              "#7201a8"
             ],
             [
              0.3333333333333333,
              "#9c179e"
             ],
             [
              0.4444444444444444,
              "#bd3786"
             ],
             [
              0.5555555555555556,
              "#d8576b"
             ],
             [
              0.6666666666666666,
              "#ed7953"
             ],
             [
              0.7777777777777778,
              "#fb9f3a"
             ],
             [
              0.8888888888888888,
              "#fdca26"
             ],
             [
              1,
              "#f0f921"
             ]
            ],
            "type": "surface"
           }
          ],
          "table": [
           {
            "cells": {
             "fill": {
              "color": "#EBF0F8"
             },
             "line": {
              "color": "white"
             }
            },
            "header": {
             "fill": {
              "color": "#C8D4E3"
             },
             "line": {
              "color": "white"
             }
            },
            "type": "table"
           }
          ]
         },
         "layout": {
          "annotationdefaults": {
           "arrowcolor": "#2a3f5f",
           "arrowhead": 0,
           "arrowwidth": 1
          },
          "autotypenumbers": "strict",
          "coloraxis": {
           "colorbar": {
            "outlinewidth": 0,
            "ticks": ""
           }
          },
          "colorscale": {
           "diverging": [
            [
             0,
             "#8e0152"
            ],
            [
             0.1,
             "#c51b7d"
            ],
            [
             0.2,
             "#de77ae"
            ],
            [
             0.3,
             "#f1b6da"
            ],
            [
             0.4,
             "#fde0ef"
            ],
            [
             0.5,
             "#f7f7f7"
            ],
            [
             0.6,
             "#e6f5d0"
            ],
            [
             0.7,
             "#b8e186"
            ],
            [
             0.8,
             "#7fbc41"
            ],
            [
             0.9,
             "#4d9221"
            ],
            [
             1,
             "#276419"
            ]
           ],
           "sequential": [
            [
             0,
             "#0d0887"
            ],
            [
             0.1111111111111111,
             "#46039f"
            ],
            [
             0.2222222222222222,
             "#7201a8"
            ],
            [
             0.3333333333333333,
             "#9c179e"
            ],
            [
             0.4444444444444444,
             "#bd3786"
            ],
            [
             0.5555555555555556,
             "#d8576b"
            ],
            [
             0.6666666666666666,
             "#ed7953"
            ],
            [
             0.7777777777777778,
             "#fb9f3a"
            ],
            [
             0.8888888888888888,
             "#fdca26"
            ],
            [
             1,
             "#f0f921"
            ]
           ],
           "sequentialminus": [
            [
             0,
             "#0d0887"
            ],
            [
             0.1111111111111111,
             "#46039f"
            ],
            [
             0.2222222222222222,
             "#7201a8"
            ],
            [
             0.3333333333333333,
             "#9c179e"
            ],
            [
             0.4444444444444444,
             "#bd3786"
            ],
            [
             0.5555555555555556,
             "#d8576b"
            ],
            [
             0.6666666666666666,
             "#ed7953"
            ],
            [
             0.7777777777777778,
             "#fb9f3a"
            ],
            [
             0.8888888888888888,
             "#fdca26"
            ],
            [
             1,
             "#f0f921"
            ]
           ]
          },
          "colorway": [
           "#636efa",
           "#EF553B",
           "#00cc96",
           "#ab63fa",
           "#FFA15A",
           "#19d3f3",
           "#FF6692",
           "#B6E880",
           "#FF97FF",
           "#FECB52"
          ],
          "font": {
           "color": "#2a3f5f"
          },
          "geo": {
           "bgcolor": "white",
           "lakecolor": "white",
           "landcolor": "#E5ECF6",
           "showlakes": true,
           "showland": true,
           "subunitcolor": "white"
          },
          "hoverlabel": {
           "align": "left"
          },
          "hovermode": "closest",
          "mapbox": {
           "style": "light"
          },
          "paper_bgcolor": "white",
          "plot_bgcolor": "#E5ECF6",
          "polar": {
           "angularaxis": {
            "gridcolor": "white",
            "linecolor": "white",
            "ticks": ""
           },
           "bgcolor": "#E5ECF6",
           "radialaxis": {
            "gridcolor": "white",
            "linecolor": "white",
            "ticks": ""
           }
          },
          "scene": {
           "xaxis": {
            "backgroundcolor": "#E5ECF6",
            "gridcolor": "white",
            "gridwidth": 2,
            "linecolor": "white",
            "showbackground": true,
            "ticks": "",
            "zerolinecolor": "white"
           },
           "yaxis": {
            "backgroundcolor": "#E5ECF6",
            "gridcolor": "white",
            "gridwidth": 2,
            "linecolor": "white",
            "showbackground": true,
            "ticks": "",
            "zerolinecolor": "white"
           },
           "zaxis": {
            "backgroundcolor": "#E5ECF6",
            "gridcolor": "white",
            "gridwidth": 2,
            "linecolor": "white",
            "showbackground": true,
            "ticks": "",
            "zerolinecolor": "white"
           }
          },
          "shapedefaults": {
           "line": {
            "color": "#2a3f5f"
           }
          },
          "ternary": {
           "aaxis": {
            "gridcolor": "white",
            "linecolor": "white",
            "ticks": ""
           },
           "baxis": {
            "gridcolor": "white",
            "linecolor": "white",
            "ticks": ""
           },
           "bgcolor": "#E5ECF6",
           "caxis": {
            "gridcolor": "white",
            "linecolor": "white",
            "ticks": ""
           }
          },
          "title": {
           "x": 0.05
          },
          "xaxis": {
           "automargin": true,
           "gridcolor": "white",
           "linecolor": "white",
           "ticks": "",
           "title": {
            "standoff": 15
           },
           "zerolinecolor": "white",
           "zerolinewidth": 2
          },
          "yaxis": {
           "automargin": true,
           "gridcolor": "white",
           "linecolor": "white",
           "ticks": "",
           "title": {
            "standoff": 15
           },
           "zerolinecolor": "white",
           "zerolinewidth": 2
          }
         }
        },
        "width": 1280
       }
      }
     },
     "metadata": {},
     "output_type": "display_data"
    }
   ],
   "source": [
    "visualize_pca(model, sample_df, \"tokenize_tag\", 7)"
   ]
  },
  {
   "cell_type": "markdown",
   "metadata": {},
   "source": [
    "### Visualizing Combination: Description + Tags"
   ]
  },
  {
   "cell_type": "code",
   "execution_count": 25,
   "metadata": {},
   "outputs": [
    {
     "name": "stderr",
     "output_type": "stream",
     "text": [
      "/Library/Frameworks/Python.framework/Versions/3.12/lib/python3.12/site-packages/sklearn/cluster/_kmeans.py:1416: FutureWarning:\n",
      "\n",
      "The default value of `n_init` will change from 10 to 'auto' in 1.4. Set the value of `n_init` explicitly to suppress the warning\n",
      "\n"
     ]
    },
    {
     "data": {
      "application/vnd.plotly.v1+json": {
       "config": {
        "plotlyServerURL": "https://plot.ly"
       },
       "data": [
        {
         "hovertemplate": "<b>%{hovertext}</b>",
         "hovertext": [
          "Baldur's Gate 3",
          "Cyberpunk 2077",
          "Rust",
          "Grand Theft Auto V",
          "DAVE THE DIVER",
          "ELDEN RING",
          "Red Dead Redemption 2",
          "Project Zomboid",
          "Raft",
          "Starfield",
          "Wayfinder",
          "Sea of Thieves 2023 Edition",
          "Metro Exodus",
          "Path of Exile",
          "Call of Duty®: Black Ops III",
          "Terraria",
          "Stellaris",
          "Deep Rock Galactic",
          "Dead Cells",
          "ARK: Survival Evolved",
          "Vampire Survivors",
          "Shadow Gambit: The Cursed Crew",
          "theHunter: Call of the Wild™",
          "DayZ",
          "Darkest Dungeon® II",
          "The Elder Scrolls V: Skyrim Special Edition",
          "It Takes Two",
          "Contraband Police",
          "Don't Starve Together",
          "The Binding of Isaac: Rebirth",
          "New World",
          "Valheim",
          "BlazBlue Entropy Effect"
         ],
         "legendgroup": "6",
         "marker": {
          "color": "#636efa",
          "symbol": "circle"
         },
         "mode": "markers",
         "name": "6",
         "scene": "scene",
         "showlegend": true,
         "type": "scatter3d",
         "x": [
          -0.10283107310533524,
          -0.07892527431249619,
          -0.005367495585232973,
          -0.015262753702700138,
          -0.07430043816566467,
          -0.029200097545981407,
          -0.14465132355690002,
          -0.10824404656887054,
          0.03735233098268509,
          -0.10892320424318314,
          -0.08699414134025574,
          -0.0079676927998662,
          -0.019488481804728508,
          -0.09290958940982819,
          -0.08253195881843567,
          -0.027126213535666466,
          0.01404715608805418,
          -0.12383327633142471,
          -0.1932830512523651,
          -0.010270076803863049,
          -0.16248837113380432,
          -0.0966889038681984,
          -0.029821202158927917,
          -0.08434859663248062,
          -0.07808541506528854,
          -0.06236403062939644,
          -0.015240025706589222,
          0.018071359023451805,
          0.0498875193297863,
          -0.15765684843063354,
          0.007180739194154739,
          -0.06125202775001526,
          -0.12246207147836685
         ],
         "y": [
          -0.04195613041520119,
          0.03755085915327072,
          0.025218846276402473,
          0.08710698038339615,
          0.021013082936406136,
          -0.12703315913677216,
          -0.00896826758980751,
          -0.03645700961351395,
          -0.04049932211637497,
          -0.04400039091706276,
          -0.048074886202812195,
          -0.08714552223682404,
          0.018668949604034424,
          -0.07868135720491409,
          -0.02969442494213581,
          -0.062381841242313385,
          -0.07250308245420456,
          -0.06425066292285919,
          -0.07949341833591461,
          -0.04641694203019142,
          0.02182958647608757,
          -0.015716951340436935,
          0.021255716681480408,
          0.01471134927123785,
          0.16022749245166779,
          -0.039203792810440063,
          -0.06097412109375,
          0.15375752747058868,
          -0.028049582615494728,
          0.028606830164790154,
          -0.041255027055740356,
          0.005717395339161158,
          -0.08108791708946228
         ],
         "z": [
          -0.0976584404706955,
          0.020460624247789383,
          -0.03160052374005318,
          0.11150070279836655,
          -0.07386968284845352,
          -0.11802996695041656,
          0.020721741020679474,
          0.0028331000357866287,
          -0.023550329729914665,
          -0.04108910635113716,
          -0.041140370070934296,
          -0.06795250624418259,
          -0.003181315725669265,
          -0.054169680923223495,
          0.06083520129323006,
          -0.09807423502206802,
          -0.06631387025117874,
          -0.026296909898519516,
          -0.01461862400174141,
          -0.10655581206083298,
          -0.011513548903167248,
          -0.15169593691825867,
          0.021413711830973625,
          0.012929576449096203,
          -0.04395657777786255,
          -0.08736439049243927,
          0.019035186618566513,
          0.060710351914167404,
          -0.10608386993408203,
          -0.047246698290109634,
          -0.09356967359781265,
          -0.16923433542251587,
          0.012418818660080433
         ]
        },
        {
         "hovertemplate": "<b>%{hovertext}</b>",
         "hovertext": [
          "Counter-Strike: Global Offensive",
          "Apex Legends™",
          "Call of Duty®",
          "PUBG: BATTLEGROUNDS",
          "NARAKA: BLADEPOINT",
          "Tom Clancy's Rainbow Six® Siege",
          "Team Fortress 2",
          "Dota 2",
          "Warframe",
          "BattleBit Remastered",
          "Street Fighter™ 6",
          "Destiny 2",
          "ARMORED CORE™ VI FIRES OF RUBICON™",
          "World of Tanks Blitz",
          "Ratchet & Clank: Rift Apart",
          "Eternal Return",
          "Brawlhalla",
          "DRAGON BALL Z: KAKAROT",
          "Garry's Mod"
         ],
         "legendgroup": "5",
         "marker": {
          "color": "#EF553B",
          "symbol": "circle"
         },
         "mode": "markers",
         "name": "5",
         "scene": "scene",
         "showlegend": true,
         "type": "scatter3d",
         "x": [
          0.04168879613280296,
          -0.02662971056997776,
          0.11281418055295944,
          0.09596659988164902,
          -0.11185230314731598,
          -0.018076516687870026,
          0.06289604306221008,
          -0.08149783313274384,
          -0.07749081403017044,
          -0.0037408657371997833,
          0.006698342505842447,
          0.05551934614777565,
          -0.003453858895227313,
          0.11361752450466156,
          -0.17558680474758148,
          0.03509816527366638,
          -0.014076738618314266,
          -0.02164820395410061,
          0.023589935153722763
         ],
         "y": [
          -0.16334374248981476,
          -0.13473254442214966,
          -0.076272152364254,
          -0.16286951303482056,
          -0.13296093046665192,
          -0.12707623839378357,
          -0.0665711835026741,
          -0.13993625342845917,
          -0.11241436749696732,
          -0.0777631625533104,
          -0.1495152860879898,
          -0.07039456814527512,
          -0.0711779072880745,
          -0.10310887545347214,
          -0.13536769151687622,
          -0.0943828821182251,
          -0.20914149284362793,
          -0.1739863157272339,
          -0.11061956733465195
         ],
         "z": [
          0.12641115486621857,
          0.07465559989213943,
          0.04594877362251282,
          0.03858082368969917,
          0.05309185013175011,
          0.15081870555877686,
          -0.01395946741104126,
          0.06876745820045471,
          0.05360075458884239,
          0.14100682735443115,
          0.12635992467403412,
          -0.010867316275835037,
          0.07903225719928741,
          0.07128946483135223,
          0.07581579685211182,
          -0.0034414646215736866,
          0.09348330646753311,
          0.07653645426034927,
          0.13186027109622955
         ]
        },
        {
         "hovertemplate": "<b>%{hovertext}</b>",
         "hovertext": [
          "Forza Horizon 5",
          "War Thunder",
          "Forza Horizon 4",
          "Euro Truck Simulator 2",
          "American Truck Simulator",
          "Cities: Skylines",
          "Microsoft Flight Simulator 40th Anniversary Edition",
          "F1® 23",
          "BeamNG.drive",
          "Planet Zoo"
         ],
         "legendgroup": "2",
         "marker": {
          "color": "#00cc96",
          "symbol": "circle"
         },
         "mode": "markers",
         "name": "2",
         "scene": "scene",
         "showlegend": true,
         "type": "scatter3d",
         "x": [
          0.19662465155124664,
          0.28378647565841675,
          0.23787185549736023,
          0.2759173512458801,
          0.32037782669067383,
          0.228445902466774,
          0.3068736493587494,
          0.15848714113235474,
          0.28486356139183044,
          0.25171542167663574
         ],
         "y": [
          0.04247085377573967,
          0.038971103727817535,
          0.09993528574705124,
          0.2008039951324463,
          0.3392975628376007,
          0.10781639814376831,
          0.10260158777236938,
          0.028231432661414146,
          0.18925875425338745,
          0.16751419007778168
         ],
         "z": [
          0.14361613988876343,
          0.11521641165018082,
          0.07521577924489975,
          0.12270554155111313,
          0.09620384871959686,
          0.04419488459825516,
          0.0451478436589241,
          0.24172824621200562,
          0.17007097601890564,
          -0.08545703440904617
         ]
        },
        {
         "hovertemplate": "<b>%{hovertext}</b>",
         "hovertext": [
          "Remnant II",
          "Dead by Daylight",
          "Phasmophobia",
          "Sons Of The Forest",
          "The Texas Chain Saw Massacre",
          "Fallout 76",
          "SCP: 5K",
          "The Outlast Trials",
          "Escape the Backrooms",
          "Six Days in Fallujah",
          "Resident Evil 4",
          "Dying Light",
          "Marvel’s Spider-Man Remastered"
         ],
         "legendgroup": "1",
         "marker": {
          "color": "#ab63fa",
          "symbol": "circle"
         },
         "mode": "markers",
         "name": "1",
         "scene": "scene",
         "showlegend": true,
         "type": "scatter3d",
         "x": [
          -0.1479906290769577,
          -0.25820133090019226,
          -0.24895621836185455,
          -0.12295101583003998,
          -0.2654658854007721,
          -0.2002326101064682,
          -0.22458770871162415,
          -0.24540722370147705,
          -0.23910173773765564,
          -0.10537191480398178,
          -0.16741816699504852,
          -0.18658143281936646,
          -0.203172966837883
         ],
         "y": [
          0.09382039308547974,
          0.13477087020874023,
          0.2561320960521698,
          0.17057393491268158,
          0.24489566683769226,
          0.0920344814658165,
          0.12302496284246445,
          0.17494335770606995,
          0.08950864523649216,
          0.1434296816587448,
          0.18479883670806885,
          0.044573698192834854,
          -0.029842548072338104
         ],
         "z": [
          -0.00023482178221456707,
          0.06221264600753784,
          -0.00729030417278409,
          -0.024330493062734604,
          0.07418694347143173,
          0.003066060598939657,
          0.028629817068576813,
          0.01215787697583437,
          -0.03738708049058914,
          0.13429276645183563,
          0.024603325873613358,
          0.013302359730005264,
          0.09762062877416611
         ]
        },
        {
         "hovertemplate": "<b>%{hovertext}</b>",
         "hovertext": [
          "FINAL FANTASY XIV Online",
          "The Elder Scrolls® Online",
          "Hearts of Iron IV",
          "Yu-Gi-Oh! Master Duel",
          "Total War: WARHAMMER III",
          "World of Warships",
          "The Sims™ 4",
          "Hogwarts Legacy",
          "Farming Simulator 22",
          "Mount & Blade II: Bannerlord",
          "Stardew Valley",
          "Sengoku Dynasty",
          "RimWorld",
          "Crusader Kings III",
          "Graveyard Keeper",
          "Sid Meier’s Civilization® VI",
          "BOOK OF HOURS",
          "Guild Wars 2"
         ],
         "legendgroup": "4",
         "marker": {
          "color": "#FFA15A",
          "symbol": "circle"
         },
         "mode": "markers",
         "name": "4",
         "scene": "scene",
         "showlegend": true,
         "type": "scatter3d",
         "x": [
          0.12323760241270065,
          0.05508771538734436,
          0.19739820063114166,
          0.133037269115448,
          -0.036089349538087845,
          0.10597552359104156,
          0.12853236496448517,
          -0.039812106639146805,
          0.24679061770439148,
          0.22462953627109528,
          0.06296847015619278,
          0.1259080469608307,
          0.09759094566106796,
          0.13487939536571503,
          0.07888326048851013,
          0.116416335105896,
          -0.05118915066123009,
          0.06459715962409973
         ],
         "y": [
          -0.01638035662472248,
          -0.08276187628507614,
          -0.06452084332704544,
          -0.10534971207380295,
          0.17781029641628265,
          -0.023999027907848358,
          0.08950488269329071,
          -0.06964247673749924,
          0.0933886393904686,
          -0.054191939532756805,
          0.10399815440177917,
          -0.03546756133437157,
          0.10414165258407593,
          0.038342587649822235,
          0.08635012805461884,
          -0.07545752078294754,
          0.057372260838747025,
          -0.1077004075050354
         ],
         "z": [
          -0.1645989716053009,
          -0.12972719967365265,
          -0.02341422252357006,
          -0.12706774473190308,
          -0.1464058756828308,
          -0.002939322730526328,
          -0.12675116956233978,
          -0.14746370911598206,
          -0.14252378046512604,
          -0.18463052809238434,
          -0.11473405361175537,
          -0.20398221909999847,
          -0.09117354452610016,
          -0.15556176006793976,
          -0.17155300080776215,
          -0.09231992065906525,
          -0.1950649619102478,
          -0.062438007444143295
         ]
        },
        {
         "hovertemplate": "<b>%{hovertext}</b>",
         "hovertext": [
          "EA SPORTS™ FIFA 23",
          "Football Manager 2023",
          "Madden NFL 24",
          "EA SPORTS FC™ 24"
         ],
         "legendgroup": "0",
         "marker": {
          "color": "#19d3f3",
          "symbol": "circle"
         },
         "mode": "markers",
         "name": "0",
         "scene": "scene",
         "showlegend": true,
         "type": "scatter3d",
         "x": [
          0.20123137533664703,
          0.19665472209453583,
          0.12824688851833344,
          0.1018441841006279
         ],
         "y": [
          -0.09432048350572586,
          -0.08614238351583481,
          -0.07782291620969772,
          -0.07857879996299744
         ],
         "z": [
          0.04538626968860626,
          0.0904424861073494,
          0.06384298950433731,
          0.08145099133253098
         ]
        },
        {
         "hovertemplate": "<b>%{hovertext}</b>",
         "hovertext": [
          "PAYDAY 2",
          "Hunt: Showdown",
          "Ready or Not"
         ],
         "legendgroup": "3",
         "marker": {
          "color": "#FF6692",
          "symbol": "circle"
         },
         "mode": "markers",
         "name": "3",
         "scene": "scene",
         "showlegend": true,
         "type": "scatter3d",
         "x": [
          -0.11196592450141907,
          -0.12141339480876923,
          -0.05081982910633087
         ],
         "y": [
          -0.04302959889173508,
          -0.015776420012116432,
          0.09048326313495636
         ],
         "z": [
          0.12265997380018234,
          0.13260312378406525,
          0.24940834939479828
         ]
        }
       ],
       "layout": {
        "height": 720,
        "legend": {
         "title": {
          "text": "cluster"
         },
         "tracegroupgap": 0
        },
        "margin": {
         "t": 60
        },
        "scene": {
         "domain": {
          "x": [
           0,
           1
          ],
          "y": [
           0,
           1
          ]
         },
         "xaxis": {
          "range": [
           -0.7654658854007721,
           0.8203778266906738
          ],
          "title": {
           "text": "x"
          }
         },
         "yaxis": {
          "range": [
           -0.7091414928436279,
           0.8392975628376007
          ],
          "title": {
           "text": "y"
          }
         },
         "zaxis": {
          "range": [
           -0.7039822190999985,
           0.7494083493947983
          ],
          "title": {
           "text": "z"
          }
         }
        },
        "template": {
         "data": {
          "bar": [
           {
            "error_x": {
             "color": "#2a3f5f"
            },
            "error_y": {
             "color": "#2a3f5f"
            },
            "marker": {
             "line": {
              "color": "#E5ECF6",
              "width": 0.5
             },
             "pattern": {
              "fillmode": "overlay",
              "size": 10,
              "solidity": 0.2
             }
            },
            "type": "bar"
           }
          ],
          "barpolar": [
           {
            "marker": {
             "line": {
              "color": "#E5ECF6",
              "width": 0.5
             },
             "pattern": {
              "fillmode": "overlay",
              "size": 10,
              "solidity": 0.2
             }
            },
            "type": "barpolar"
           }
          ],
          "carpet": [
           {
            "aaxis": {
             "endlinecolor": "#2a3f5f",
             "gridcolor": "white",
             "linecolor": "white",
             "minorgridcolor": "white",
             "startlinecolor": "#2a3f5f"
            },
            "baxis": {
             "endlinecolor": "#2a3f5f",
             "gridcolor": "white",
             "linecolor": "white",
             "minorgridcolor": "white",
             "startlinecolor": "#2a3f5f"
            },
            "type": "carpet"
           }
          ],
          "choropleth": [
           {
            "colorbar": {
             "outlinewidth": 0,
             "ticks": ""
            },
            "type": "choropleth"
           }
          ],
          "contour": [
           {
            "colorbar": {
             "outlinewidth": 0,
             "ticks": ""
            },
            "colorscale": [
             [
              0,
              "#0d0887"
             ],
             [
              0.1111111111111111,
              "#46039f"
             ],
             [
              0.2222222222222222,
              "#7201a8"
             ],
             [
              0.3333333333333333,
              "#9c179e"
             ],
             [
              0.4444444444444444,
              "#bd3786"
             ],
             [
              0.5555555555555556,
              "#d8576b"
             ],
             [
              0.6666666666666666,
              "#ed7953"
             ],
             [
              0.7777777777777778,
              "#fb9f3a"
             ],
             [
              0.8888888888888888,
              "#fdca26"
             ],
             [
              1,
              "#f0f921"
             ]
            ],
            "type": "contour"
           }
          ],
          "contourcarpet": [
           {
            "colorbar": {
             "outlinewidth": 0,
             "ticks": ""
            },
            "type": "contourcarpet"
           }
          ],
          "heatmap": [
           {
            "colorbar": {
             "outlinewidth": 0,
             "ticks": ""
            },
            "colorscale": [
             [
              0,
              "#0d0887"
             ],
             [
              0.1111111111111111,
              "#46039f"
             ],
             [
              0.2222222222222222,
              "#7201a8"
             ],
             [
              0.3333333333333333,
              "#9c179e"
             ],
             [
              0.4444444444444444,
              "#bd3786"
             ],
             [
              0.5555555555555556,
              "#d8576b"
             ],
             [
              0.6666666666666666,
              "#ed7953"
             ],
             [
              0.7777777777777778,
              "#fb9f3a"
             ],
             [
              0.8888888888888888,
              "#fdca26"
             ],
             [
              1,
              "#f0f921"
             ]
            ],
            "type": "heatmap"
           }
          ],
          "heatmapgl": [
           {
            "colorbar": {
             "outlinewidth": 0,
             "ticks": ""
            },
            "colorscale": [
             [
              0,
              "#0d0887"
             ],
             [
              0.1111111111111111,
              "#46039f"
             ],
             [
              0.2222222222222222,
              "#7201a8"
             ],
             [
              0.3333333333333333,
              "#9c179e"
             ],
             [
              0.4444444444444444,
              "#bd3786"
             ],
             [
              0.5555555555555556,
              "#d8576b"
             ],
             [
              0.6666666666666666,
              "#ed7953"
             ],
             [
              0.7777777777777778,
              "#fb9f3a"
             ],
             [
              0.8888888888888888,
              "#fdca26"
             ],
             [
              1,
              "#f0f921"
             ]
            ],
            "type": "heatmapgl"
           }
          ],
          "histogram": [
           {
            "marker": {
             "pattern": {
              "fillmode": "overlay",
              "size": 10,
              "solidity": 0.2
             }
            },
            "type": "histogram"
           }
          ],
          "histogram2d": [
           {
            "colorbar": {
             "outlinewidth": 0,
             "ticks": ""
            },
            "colorscale": [
             [
              0,
              "#0d0887"
             ],
             [
              0.1111111111111111,
              "#46039f"
             ],
             [
              0.2222222222222222,
              "#7201a8"
             ],
             [
              0.3333333333333333,
              "#9c179e"
             ],
             [
              0.4444444444444444,
              "#bd3786"
             ],
             [
              0.5555555555555556,
              "#d8576b"
             ],
             [
              0.6666666666666666,
              "#ed7953"
             ],
             [
              0.7777777777777778,
              "#fb9f3a"
             ],
             [
              0.8888888888888888,
              "#fdca26"
             ],
             [
              1,
              "#f0f921"
             ]
            ],
            "type": "histogram2d"
           }
          ],
          "histogram2dcontour": [
           {
            "colorbar": {
             "outlinewidth": 0,
             "ticks": ""
            },
            "colorscale": [
             [
              0,
              "#0d0887"
             ],
             [
              0.1111111111111111,
              "#46039f"
             ],
             [
              0.2222222222222222,
              "#7201a8"
             ],
             [
              0.3333333333333333,
              "#9c179e"
             ],
             [
              0.4444444444444444,
              "#bd3786"
             ],
             [
              0.5555555555555556,
              "#d8576b"
             ],
             [
              0.6666666666666666,
              "#ed7953"
             ],
             [
              0.7777777777777778,
              "#fb9f3a"
             ],
             [
              0.8888888888888888,
              "#fdca26"
             ],
             [
              1,
              "#f0f921"
             ]
            ],
            "type": "histogram2dcontour"
           }
          ],
          "mesh3d": [
           {
            "colorbar": {
             "outlinewidth": 0,
             "ticks": ""
            },
            "type": "mesh3d"
           }
          ],
          "parcoords": [
           {
            "line": {
             "colorbar": {
              "outlinewidth": 0,
              "ticks": ""
             }
            },
            "type": "parcoords"
           }
          ],
          "pie": [
           {
            "automargin": true,
            "type": "pie"
           }
          ],
          "scatter": [
           {
            "fillpattern": {
             "fillmode": "overlay",
             "size": 10,
             "solidity": 0.2
            },
            "type": "scatter"
           }
          ],
          "scatter3d": [
           {
            "line": {
             "colorbar": {
              "outlinewidth": 0,
              "ticks": ""
             }
            },
            "marker": {
             "colorbar": {
              "outlinewidth": 0,
              "ticks": ""
             }
            },
            "type": "scatter3d"
           }
          ],
          "scattercarpet": [
           {
            "marker": {
             "colorbar": {
              "outlinewidth": 0,
              "ticks": ""
             }
            },
            "type": "scattercarpet"
           }
          ],
          "scattergeo": [
           {
            "marker": {
             "colorbar": {
              "outlinewidth": 0,
              "ticks": ""
             }
            },
            "type": "scattergeo"
           }
          ],
          "scattergl": [
           {
            "marker": {
             "colorbar": {
              "outlinewidth": 0,
              "ticks": ""
             }
            },
            "type": "scattergl"
           }
          ],
          "scattermapbox": [
           {
            "marker": {
             "colorbar": {
              "outlinewidth": 0,
              "ticks": ""
             }
            },
            "type": "scattermapbox"
           }
          ],
          "scatterpolar": [
           {
            "marker": {
             "colorbar": {
              "outlinewidth": 0,
              "ticks": ""
             }
            },
            "type": "scatterpolar"
           }
          ],
          "scatterpolargl": [
           {
            "marker": {
             "colorbar": {
              "outlinewidth": 0,
              "ticks": ""
             }
            },
            "type": "scatterpolargl"
           }
          ],
          "scatterternary": [
           {
            "marker": {
             "colorbar": {
              "outlinewidth": 0,
              "ticks": ""
             }
            },
            "type": "scatterternary"
           }
          ],
          "surface": [
           {
            "colorbar": {
             "outlinewidth": 0,
             "ticks": ""
            },
            "colorscale": [
             [
              0,
              "#0d0887"
             ],
             [
              0.1111111111111111,
              "#46039f"
             ],
             [
              0.2222222222222222,
              "#7201a8"
             ],
             [
              0.3333333333333333,
              "#9c179e"
             ],
             [
              0.4444444444444444,
              "#bd3786"
             ],
             [
              0.5555555555555556,
              "#d8576b"
             ],
             [
              0.6666666666666666,
              "#ed7953"
             ],
             [
              0.7777777777777778,
              "#fb9f3a"
             ],
             [
              0.8888888888888888,
              "#fdca26"
             ],
             [
              1,
              "#f0f921"
             ]
            ],
            "type": "surface"
           }
          ],
          "table": [
           {
            "cells": {
             "fill": {
              "color": "#EBF0F8"
             },
             "line": {
              "color": "white"
             }
            },
            "header": {
             "fill": {
              "color": "#C8D4E3"
             },
             "line": {
              "color": "white"
             }
            },
            "type": "table"
           }
          ]
         },
         "layout": {
          "annotationdefaults": {
           "arrowcolor": "#2a3f5f",
           "arrowhead": 0,
           "arrowwidth": 1
          },
          "autotypenumbers": "strict",
          "coloraxis": {
           "colorbar": {
            "outlinewidth": 0,
            "ticks": ""
           }
          },
          "colorscale": {
           "diverging": [
            [
             0,
             "#8e0152"
            ],
            [
             0.1,
             "#c51b7d"
            ],
            [
             0.2,
             "#de77ae"
            ],
            [
             0.3,
             "#f1b6da"
            ],
            [
             0.4,
             "#fde0ef"
            ],
            [
             0.5,
             "#f7f7f7"
            ],
            [
             0.6,
             "#e6f5d0"
            ],
            [
             0.7,
             "#b8e186"
            ],
            [
             0.8,
             "#7fbc41"
            ],
            [
             0.9,
             "#4d9221"
            ],
            [
             1,
             "#276419"
            ]
           ],
           "sequential": [
            [
             0,
             "#0d0887"
            ],
            [
             0.1111111111111111,
             "#46039f"
            ],
            [
             0.2222222222222222,
             "#7201a8"
            ],
            [
             0.3333333333333333,
             "#9c179e"
            ],
            [
             0.4444444444444444,
             "#bd3786"
            ],
            [
             0.5555555555555556,
             "#d8576b"
            ],
            [
             0.6666666666666666,
             "#ed7953"
            ],
            [
             0.7777777777777778,
             "#fb9f3a"
            ],
            [
             0.8888888888888888,
             "#fdca26"
            ],
            [
             1,
             "#f0f921"
            ]
           ],
           "sequentialminus": [
            [
             0,
             "#0d0887"
            ],
            [
             0.1111111111111111,
             "#46039f"
            ],
            [
             0.2222222222222222,
             "#7201a8"
            ],
            [
             0.3333333333333333,
             "#9c179e"
            ],
            [
             0.4444444444444444,
             "#bd3786"
            ],
            [
             0.5555555555555556,
             "#d8576b"
            ],
            [
             0.6666666666666666,
             "#ed7953"
            ],
            [
             0.7777777777777778,
             "#fb9f3a"
            ],
            [
             0.8888888888888888,
             "#fdca26"
            ],
            [
             1,
             "#f0f921"
            ]
           ]
          },
          "colorway": [
           "#636efa",
           "#EF553B",
           "#00cc96",
           "#ab63fa",
           "#FFA15A",
           "#19d3f3",
           "#FF6692",
           "#B6E880",
           "#FF97FF",
           "#FECB52"
          ],
          "font": {
           "color": "#2a3f5f"
          },
          "geo": {
           "bgcolor": "white",
           "lakecolor": "white",
           "landcolor": "#E5ECF6",
           "showlakes": true,
           "showland": true,
           "subunitcolor": "white"
          },
          "hoverlabel": {
           "align": "left"
          },
          "hovermode": "closest",
          "mapbox": {
           "style": "light"
          },
          "paper_bgcolor": "white",
          "plot_bgcolor": "#E5ECF6",
          "polar": {
           "angularaxis": {
            "gridcolor": "white",
            "linecolor": "white",
            "ticks": ""
           },
           "bgcolor": "#E5ECF6",
           "radialaxis": {
            "gridcolor": "white",
            "linecolor": "white",
            "ticks": ""
           }
          },
          "scene": {
           "xaxis": {
            "backgroundcolor": "#E5ECF6",
            "gridcolor": "white",
            "gridwidth": 2,
            "linecolor": "white",
            "showbackground": true,
            "ticks": "",
            "zerolinecolor": "white"
           },
           "yaxis": {
            "backgroundcolor": "#E5ECF6",
            "gridcolor": "white",
            "gridwidth": 2,
            "linecolor": "white",
            "showbackground": true,
            "ticks": "",
            "zerolinecolor": "white"
           },
           "zaxis": {
            "backgroundcolor": "#E5ECF6",
            "gridcolor": "white",
            "gridwidth": 2,
            "linecolor": "white",
            "showbackground": true,
            "ticks": "",
            "zerolinecolor": "white"
           }
          },
          "shapedefaults": {
           "line": {
            "color": "#2a3f5f"
           }
          },
          "ternary": {
           "aaxis": {
            "gridcolor": "white",
            "linecolor": "white",
            "ticks": ""
           },
           "baxis": {
            "gridcolor": "white",
            "linecolor": "white",
            "ticks": ""
           },
           "bgcolor": "#E5ECF6",
           "caxis": {
            "gridcolor": "white",
            "linecolor": "white",
            "ticks": ""
           }
          },
          "title": {
           "x": 0.05
          },
          "xaxis": {
           "automargin": true,
           "gridcolor": "white",
           "linecolor": "white",
           "ticks": "",
           "title": {
            "standoff": 15
           },
           "zerolinecolor": "white",
           "zerolinewidth": 2
          },
          "yaxis": {
           "automargin": true,
           "gridcolor": "white",
           "linecolor": "white",
           "ticks": "",
           "title": {
            "standoff": 15
           },
           "zerolinecolor": "white",
           "zerolinewidth": 2
          }
         }
        },
        "width": 1280
       }
      }
     },
     "metadata": {},
     "output_type": "display_data"
    }
   ],
   "source": [
    "visualize_pca(model, sample_df, \"tokenize_desc_tag\", 7)"
   ]
  },
  {
   "cell_type": "code",
   "execution_count": 26,
   "metadata": {},
   "outputs": [
    {
     "name": "stderr",
     "output_type": "stream",
     "text": [
      "/Library/Frameworks/Python.framework/Versions/3.12/lib/python3.12/site-packages/huggingface_hub/file_download.py:1132: FutureWarning:\n",
      "\n",
      "`resume_download` is deprecated and will be removed in version 1.0.0. Downloads always resume when possible. If you want to force a new download, use `force_download=True`.\n",
      "\n"
     ]
    },
    {
     "name": "stdout",
     "output_type": "stream",
     "text": [
      "Baldur ’ s Gate 3 is a story - rich , party - based RPG set in the universe of Dungeons & Dragons , where your choices shape a tale of fellowship and betrayal , survival and sacrifice , and the lure of absolute power .\n",
      "Counter - Strike : Global_Offensive ( CS : GO ) expands upon the team - based action gameplay that it pioneered when it was launched 19 years ago . CS : GO features new maps , characters , weapons , and game modes , and delivers updated versions of the classic CS content ( de_dust2 , etc . ) .\n",
      "tensor([[0.1416]])\n",
      "tensor([[0.8682]])\n"
     ]
    }
   ],
   "source": [
    "old_model = SentenceTransformer(\"all-mpnet-base-v2\")\n",
    "\n",
    "game1_desc = descriptions.loc[0, \"tokenize_desc\"]\n",
    "game2_desc = descriptions.loc[1, \"tokenize_desc\"]\n",
    "\n",
    "print(game1_desc)\n",
    "print(game2_desc)\n",
    "\n",
    "old_enc_game1 = old_model.encode(game1_desc)\n",
    "old_enc_game2 = old_model.encode(game2_desc)\n",
    "new_enc_game1 = model.encode(game1_desc)\n",
    "new_enc_game2 = model.encode(game2_desc)\n",
    "\n",
    "print(util.cos_sim(old_enc_game1, old_enc_game2))\n",
    "print(util.cos_sim(new_enc_game1, new_enc_game2))"
   ]
  },
  {
   "cell_type": "markdown",
   "metadata": {},
   "source": [
    "# Embedding Visualization: TSNE"
   ]
  },
  {
   "cell_type": "code",
   "execution_count": 27,
   "metadata": {},
   "outputs": [],
   "source": [
    "from sklearn.manifold import TSNE"
   ]
  },
  {
   "cell_type": "code",
   "execution_count": 28,
   "metadata": {},
   "outputs": [
    {
     "name": "stderr",
     "output_type": "stream",
     "text": [
      "/var/folders/p_/m397w35d7z9fks5tyvbp93480000gn/T/ipykernel_24543/519513145.py:1: SettingWithCopyWarning:\n",
      "\n",
      "\n",
      "A value is trying to be set on a copy of a slice from a DataFrame.\n",
      "Try using .loc[row_indexer,col_indexer] = value instead\n",
      "\n",
      "See the caveats in the documentation: https://pandas.pydata.org/pandas-docs/stable/user_guide/indexing.html#returning-a-view-versus-a-copy\n",
      "\n"
     ]
    }
   ],
   "source": [
    "sample_df[\"enc_desc_tag\"] = list(model.encode(sample_df[\"tokenize_desc_tag\"]))"
   ]
  },
  {
   "cell_type": "code",
   "execution_count": 29,
   "metadata": {},
   "outputs": [],
   "source": [
    "def visualization_tsne(descriptions, embeddings, n_cluster=6):\n",
    "    X = np.array(embeddings)\n",
    "    tsne = TSNE(n_components=2, random_state=RANDOM_STATE)\n",
    "    result = tsne.fit_transform(X)\n",
    "    df = pd.DataFrame({\n",
    "    'sent': descriptions[\"Title\"],\n",
    "    'cluster': clustering(embeddings, n_cluster).astype(str),\n",
    "    'x': result[:, 0],\n",
    "    'y': result[:, 1],\n",
    "    })\n",
    "    fig = px.scatter(df, x='x', y='y',\n",
    "              color='cluster', hover_name='sent',\n",
    "              range_x = [df.x.min()-1, df.x.max()+1],\n",
    "              range_y = [df.y.min()-1, df.y.max()+1])\n",
    "    fig.update_layout(\n",
    "    width=1280,   # Set the desired width\n",
    "    height=720   # Set the desired height\n",
    "    )\n",
    "    fig.update_traces(hovertemplate= '<b>%{hovertext}</b>')\n",
    "    fig.show()\n",
    "\n",
    "def visualize_tsne(model, df, col, n_cluster=6):\n",
    "    embeddings = model.encode(df[col].to_numpy())\n",
    "    visualization_tsne(df, embeddings, n_cluster)"
   ]
  },
  {
   "cell_type": "code",
   "execution_count": 30,
   "metadata": {},
   "outputs": [
    {
     "name": "stderr",
     "output_type": "stream",
     "text": [
      "/Library/Frameworks/Python.framework/Versions/3.12/lib/python3.12/site-packages/sklearn/cluster/_kmeans.py:1416: FutureWarning:\n",
      "\n",
      "The default value of `n_init` will change from 10 to 'auto' in 1.4. Set the value of `n_init` explicitly to suppress the warning\n",
      "\n"
     ]
    },
    {
     "data": {
      "application/vnd.plotly.v1+json": {
       "config": {
        "plotlyServerURL": "https://plot.ly"
       },
       "data": [
        {
         "hovertemplate": "<b>%{hovertext}</b>",
         "hovertext": [
          "Baldur's Gate 3",
          "Cyberpunk 2077",
          "Rust",
          "Grand Theft Auto V",
          "DAVE THE DIVER",
          "ELDEN RING",
          "Red Dead Redemption 2",
          "Project Zomboid",
          "Raft",
          "Starfield",
          "Wayfinder",
          "Sea of Thieves 2023 Edition",
          "Metro Exodus",
          "Path of Exile",
          "Call of Duty®: Black Ops III",
          "Terraria",
          "Stellaris",
          "Deep Rock Galactic",
          "Dead Cells",
          "ARK: Survival Evolved",
          "Vampire Survivors",
          "Shadow Gambit: The Cursed Crew",
          "theHunter: Call of the Wild™",
          "DayZ",
          "Darkest Dungeon® II",
          "The Elder Scrolls V: Skyrim Special Edition",
          "It Takes Two",
          "Contraband Police",
          "Don't Starve Together",
          "The Binding of Isaac: Rebirth",
          "New World",
          "Valheim",
          "BlazBlue Entropy Effect"
         ],
         "legendgroup": "6",
         "marker": {
          "color": "#636efa",
          "symbol": "circle"
         },
         "mode": "markers",
         "name": "6",
         "orientation": "v",
         "showlegend": true,
         "type": "scatter",
         "x": [
          0.8464522957801819,
          2.8347153663635254,
          -1.226601481437683,
          -2.8896543979644775,
          -0.985710084438324,
          1.687690019607544,
          3.3357555866241455,
          -0.01733284816145897,
          -0.7106255888938904,
          1.0282292366027832,
          0.9945247173309326,
          0.5454630255699158,
          -2.074493885040283,
          1.0589839220046997,
          1.7047169208526611,
          -0.06895899772644043,
          0.1640409380197525,
          1.4263947010040283,
          2.040295362472534,
          -0.22017310559749603,
          -0.07674688845872879,
          0.8887561559677124,
          5.065260410308838,
          -0.0365467369556427,
          0.3828072249889374,
          0.6717519164085388,
          1.2355204820632935,
          -3.346484422683716,
          -0.765937089920044,
          0.25666743516921997,
          0.28397810459136963,
          -0.4845369756221771,
          1.763565182685852
         ],
         "xaxis": "x",
         "y": [
          -1.4511092901229858,
          -3.2892796993255615,
          -0.6521459817886353,
          1.8415355682373047,
          -1.5017940998077393,
          -1.7649215459823608,
          -2.354614734649658,
          -1.530834674835205,
          0.1905381828546524,
          -1.198347806930542,
          -1.0281915664672852,
          -0.18033429980278015,
          -1.3303807973861694,
          -0.9211809635162354,
          0.2533455789089203,
          -0.31473788619041443,
          0.5794855356216431,
          -1.1656116247177124,
          -1.2679537534713745,
          -0.2230035811662674,
          -2.351055383682251,
          -2.3702659606933594,
          -0.28551024198532104,
          -1.487998366355896,
          -3.6475186347961426,
          -0.6864909529685974,
          0.030960988253355026,
          2.0620298385620117,
          0.1919291913509369,
          -2.743990421295166,
          0.9132238626480103,
          -0.8205147981643677,
          -0.6600079536437988
         ],
         "yaxis": "y"
        },
        {
         "hovertemplate": "<b>%{hovertext}</b>",
         "hovertext": [
          "Counter-Strike: Global Offensive",
          "Apex Legends™",
          "Call of Duty®",
          "PUBG: BATTLEGROUNDS",
          "NARAKA: BLADEPOINT",
          "Tom Clancy's Rainbow Six® Siege",
          "Team Fortress 2",
          "Dota 2",
          "Warframe",
          "BattleBit Remastered",
          "Street Fighter™ 6",
          "Destiny 2",
          "ARMORED CORE™ VI FIRES OF RUBICON™",
          "World of Tanks Blitz",
          "Ratchet & Clank: Rift Apart",
          "Eternal Return",
          "Brawlhalla",
          "DRAGON BALL Z: KAKAROT",
          "Garry's Mod"
         ],
         "legendgroup": "5",
         "marker": {
          "color": "#EF553B",
          "symbol": "circle"
         },
         "mode": "markers",
         "name": "5",
         "orientation": "v",
         "showlegend": true,
         "type": "scatter",
         "x": [
          3.4567859172821045,
          2.1284775733947754,
          1.0647449493408203,
          1.3726329803466797,
          2.6564199924468994,
          2.566338062286377,
          2.368837594985962,
          2.488046884536743,
          2.0903279781341553,
          2.86552095413208,
          3.0708060264587402,
          0.73382967710495,
          2.2884366512298584,
          1.5912598371505737,
          2.6109166145324707,
          1.3925950527191162,
          2.8246583938598633,
          3.7735135555267334,
          3.695188283920288
         ],
         "xaxis": "x",
         "y": [
          1.9098907709121704,
          1.049958348274231,
          2.610731363296509,
          2.3349788188934326,
          -0.35121867060661316,
          1.3078664541244507,
          2.5044608116149902,
          0.05399521067738533,
          0.4214581251144409,
          1.6729744672775269,
          0.72728031873703,
          1.594437837600708,
          1.1553140878677368,
          2.6747801303863525,
          -0.7625027894973755,
          1.5842759609222412,
          0.5863832235336304,
          -0.7688395977020264,
          0.019553348422050476
         ],
         "yaxis": "y"
        },
        {
         "hovertemplate": "<b>%{hovertext}</b>",
         "hovertext": [
          "Forza Horizon 5",
          "War Thunder",
          "Forza Horizon 4",
          "Euro Truck Simulator 2",
          "American Truck Simulator",
          "Cities: Skylines",
          "Microsoft Flight Simulator 40th Anniversary Edition",
          "F1® 23",
          "BeamNG.drive",
          "Planet Zoo"
         ],
         "legendgroup": "2",
         "marker": {
          "color": "#00cc96",
          "symbol": "circle"
         },
         "mode": "markers",
         "name": "2",
         "orientation": "v",
         "showlegend": true,
         "type": "scatter",
         "x": [
          2.804429054260254,
          1.8665505647659302,
          2.6611673831939697,
          2.498128890991211,
          2.483081102371216,
          -3.3077375888824463,
          1.9710034132003784,
          3.2274882793426514,
          2.4337985515594482,
          -3.2303786277770996
         ],
         "xaxis": "x",
         "y": [
          4.809065341949463,
          4.247068881988525,
          4.940907955169678,
          6.098484992980957,
          6.072691917419434,
          0.9354764223098755,
          5.044582366943359,
          4.533801078796387,
          5.388243675231934,
          0.11897430568933487
         ],
         "yaxis": "y"
        },
        {
         "hovertemplate": "<b>%{hovertext}</b>",
         "hovertext": [
          "Remnant II",
          "Dead by Daylight",
          "Phasmophobia",
          "Sons Of The Forest",
          "The Texas Chain Saw Massacre",
          "Fallout 76",
          "SCP: 5K",
          "The Outlast Trials",
          "Escape the Backrooms",
          "Six Days in Fallujah",
          "Resident Evil 4",
          "Dying Light",
          "Marvel’s Spider-Man Remastered"
         ],
         "legendgroup": "1",
         "marker": {
          "color": "#ab63fa",
          "symbol": "circle"
         },
         "mode": "markers",
         "name": "1",
         "orientation": "v",
         "showlegend": true,
         "type": "scatter",
         "x": [
          0.0037668878212571144,
          -1.0622190237045288,
          -1.9986209869384766,
          -1.2134268283843994,
          -1.496747612953186,
          -0.4628142714500427,
          -1.3560763597488403,
          -1.719150424003601,
          -0.7431488037109375,
          -0.728434681892395,
          -0.8453820943832397,
          -0.40775951743125916,
          2.8875393867492676
         ],
         "xaxis": "x",
         "y": [
          -4.215941905975342,
          -3.6562957763671875,
          -4.004003047943115,
          -3.1269030570983887,
          -4.196731090545654,
          -3.1984188556671143,
          -3.6754798889160156,
          -3.9414479732513428,
          -3.152766227722168,
          -5.286623954772949,
          -4.101889610290527,
          -2.6897647380828857,
          -1.6571036577224731
         ],
         "yaxis": "y"
        },
        {
         "hovertemplate": "<b>%{hovertext}</b>",
         "hovertext": [
          "FINAL FANTASY XIV Online",
          "The Elder Scrolls® Online",
          "Hearts of Iron IV",
          "Yu-Gi-Oh! Master Duel",
          "Total War: WARHAMMER III",
          "World of Warships",
          "The Sims™ 4",
          "Hogwarts Legacy",
          "Farming Simulator 22",
          "Mount & Blade II: Bannerlord",
          "Stardew Valley",
          "Sengoku Dynasty",
          "RimWorld",
          "Crusader Kings III",
          "Graveyard Keeper",
          "Sid Meier’s Civilization® VI",
          "BOOK OF HOURS",
          "Guild Wars 2"
         ],
         "legendgroup": "4",
         "marker": {
          "color": "#FFA15A",
          "symbol": "circle"
         },
         "mode": "markers",
         "name": "4",
         "orientation": "v",
         "showlegend": true,
         "type": "scatter",
         "x": [
          -0.535783052444458,
          -0.1382286250591278,
          -0.03758580610156059,
          4.8044352531433105,
          -2.333491325378418,
          0.8992277979850769,
          -2.3817238807678223,
          1.8889893293380737,
          1.9292335510253906,
          -1.3695008754730225,
          1.8898459672927856,
          -1.2678987979888916,
          -2.015181303024292,
          -1.3133320808410645,
          -1.976930856704712,
          -0.3631425201892853,
          1.4156694412231445,
          0.06007254123687744
         ],
         "xaxis": "x",
         "y": [
          1.6763184070587158,
          1.4428282976150513,
          3.2477104663848877,
          -1.7176700830459595,
          -2.673072576522827,
          3.30378794670105,
          0.45937925577163696,
          -2.3313794136047363,
          -4.750365734100342,
          2.571176528930664,
          -4.698375701904297,
          1.7724153995513916,
          0.43225499987602234,
          2.6767587661743164,
          1.0639992952346802,
          2.4033477306365967,
          -3.1057446002960205,
          1.5798579454421997
         ],
         "yaxis": "y"
        },
        {
         "hovertemplate": "<b>%{hovertext}</b>",
         "hovertext": [
          "EA SPORTS™ FIFA 23",
          "Football Manager 2023",
          "Madden NFL 24",
          "EA SPORTS FC™ 24"
         ],
         "legendgroup": "0",
         "marker": {
          "color": "#19d3f3",
          "symbol": "circle"
         },
         "mode": "markers",
         "name": "0",
         "orientation": "v",
         "showlegend": true,
         "type": "scatter",
         "x": [
          -0.5396552085876465,
          -0.09101246297359467,
          -0.6402847170829773,
          -0.5268687009811401
         ],
         "xaxis": "x",
         "y": [
          5.1509318351745605,
          4.883785724639893,
          5.047614574432373,
          5.08474063873291
         ],
         "yaxis": "y"
        },
        {
         "hovertemplate": "<b>%{hovertext}</b>",
         "hovertext": [
          "PAYDAY 2",
          "Hunt: Showdown",
          "Ready or Not"
         ],
         "legendgroup": "3",
         "marker": {
          "color": "#FF6692",
          "symbol": "circle"
         },
         "mode": "markers",
         "name": "3",
         "orientation": "v",
         "showlegend": true,
         "type": "scatter",
         "x": [
          4.004537582397461,
          4.427646160125732,
          4.892160415649414
         ],
         "xaxis": "x",
         "y": [
          0.8163726329803467,
          0.8387163281440735,
          1.360379934310913
         ],
         "yaxis": "y"
        }
       ],
       "layout": {
        "height": 720,
        "legend": {
         "title": {
          "text": "cluster"
         },
         "tracegroupgap": 0
        },
        "margin": {
         "t": 60
        },
        "template": {
         "data": {
          "bar": [
           {
            "error_x": {
             "color": "#2a3f5f"
            },
            "error_y": {
             "color": "#2a3f5f"
            },
            "marker": {
             "line": {
              "color": "#E5ECF6",
              "width": 0.5
             },
             "pattern": {
              "fillmode": "overlay",
              "size": 10,
              "solidity": 0.2
             }
            },
            "type": "bar"
           }
          ],
          "barpolar": [
           {
            "marker": {
             "line": {
              "color": "#E5ECF6",
              "width": 0.5
             },
             "pattern": {
              "fillmode": "overlay",
              "size": 10,
              "solidity": 0.2
             }
            },
            "type": "barpolar"
           }
          ],
          "carpet": [
           {
            "aaxis": {
             "endlinecolor": "#2a3f5f",
             "gridcolor": "white",
             "linecolor": "white",
             "minorgridcolor": "white",
             "startlinecolor": "#2a3f5f"
            },
            "baxis": {
             "endlinecolor": "#2a3f5f",
             "gridcolor": "white",
             "linecolor": "white",
             "minorgridcolor": "white",
             "startlinecolor": "#2a3f5f"
            },
            "type": "carpet"
           }
          ],
          "choropleth": [
           {
            "colorbar": {
             "outlinewidth": 0,
             "ticks": ""
            },
            "type": "choropleth"
           }
          ],
          "contour": [
           {
            "colorbar": {
             "outlinewidth": 0,
             "ticks": ""
            },
            "colorscale": [
             [
              0,
              "#0d0887"
             ],
             [
              0.1111111111111111,
              "#46039f"
             ],
             [
              0.2222222222222222,
              "#7201a8"
             ],
             [
              0.3333333333333333,
              "#9c179e"
             ],
             [
              0.4444444444444444,
              "#bd3786"
             ],
             [
              0.5555555555555556,
              "#d8576b"
             ],
             [
              0.6666666666666666,
              "#ed7953"
             ],
             [
              0.7777777777777778,
              "#fb9f3a"
             ],
             [
              0.8888888888888888,
              "#fdca26"
             ],
             [
              1,
              "#f0f921"
             ]
            ],
            "type": "contour"
           }
          ],
          "contourcarpet": [
           {
            "colorbar": {
             "outlinewidth": 0,
             "ticks": ""
            },
            "type": "contourcarpet"
           }
          ],
          "heatmap": [
           {
            "colorbar": {
             "outlinewidth": 0,
             "ticks": ""
            },
            "colorscale": [
             [
              0,
              "#0d0887"
             ],
             [
              0.1111111111111111,
              "#46039f"
             ],
             [
              0.2222222222222222,
              "#7201a8"
             ],
             [
              0.3333333333333333,
              "#9c179e"
             ],
             [
              0.4444444444444444,
              "#bd3786"
             ],
             [
              0.5555555555555556,
              "#d8576b"
             ],
             [
              0.6666666666666666,
              "#ed7953"
             ],
             [
              0.7777777777777778,
              "#fb9f3a"
             ],
             [
              0.8888888888888888,
              "#fdca26"
             ],
             [
              1,
              "#f0f921"
             ]
            ],
            "type": "heatmap"
           }
          ],
          "heatmapgl": [
           {
            "colorbar": {
             "outlinewidth": 0,
             "ticks": ""
            },
            "colorscale": [
             [
              0,
              "#0d0887"
             ],
             [
              0.1111111111111111,
              "#46039f"
             ],
             [
              0.2222222222222222,
              "#7201a8"
             ],
             [
              0.3333333333333333,
              "#9c179e"
             ],
             [
              0.4444444444444444,
              "#bd3786"
             ],
             [
              0.5555555555555556,
              "#d8576b"
             ],
             [
              0.6666666666666666,
              "#ed7953"
             ],
             [
              0.7777777777777778,
              "#fb9f3a"
             ],
             [
              0.8888888888888888,
              "#fdca26"
             ],
             [
              1,
              "#f0f921"
             ]
            ],
            "type": "heatmapgl"
           }
          ],
          "histogram": [
           {
            "marker": {
             "pattern": {
              "fillmode": "overlay",
              "size": 10,
              "solidity": 0.2
             }
            },
            "type": "histogram"
           }
          ],
          "histogram2d": [
           {
            "colorbar": {
             "outlinewidth": 0,
             "ticks": ""
            },
            "colorscale": [
             [
              0,
              "#0d0887"
             ],
             [
              0.1111111111111111,
              "#46039f"
             ],
             [
              0.2222222222222222,
              "#7201a8"
             ],
             [
              0.3333333333333333,
              "#9c179e"
             ],
             [
              0.4444444444444444,
              "#bd3786"
             ],
             [
              0.5555555555555556,
              "#d8576b"
             ],
             [
              0.6666666666666666,
              "#ed7953"
             ],
             [
              0.7777777777777778,
              "#fb9f3a"
             ],
             [
              0.8888888888888888,
              "#fdca26"
             ],
             [
              1,
              "#f0f921"
             ]
            ],
            "type": "histogram2d"
           }
          ],
          "histogram2dcontour": [
           {
            "colorbar": {
             "outlinewidth": 0,
             "ticks": ""
            },
            "colorscale": [
             [
              0,
              "#0d0887"
             ],
             [
              0.1111111111111111,
              "#46039f"
             ],
             [
              0.2222222222222222,
              "#7201a8"
             ],
             [
              0.3333333333333333,
              "#9c179e"
             ],
             [
              0.4444444444444444,
              "#bd3786"
             ],
             [
              0.5555555555555556,
              "#d8576b"
             ],
             [
              0.6666666666666666,
              "#ed7953"
             ],
             [
              0.7777777777777778,
              "#fb9f3a"
             ],
             [
              0.8888888888888888,
              "#fdca26"
             ],
             [
              1,
              "#f0f921"
             ]
            ],
            "type": "histogram2dcontour"
           }
          ],
          "mesh3d": [
           {
            "colorbar": {
             "outlinewidth": 0,
             "ticks": ""
            },
            "type": "mesh3d"
           }
          ],
          "parcoords": [
           {
            "line": {
             "colorbar": {
              "outlinewidth": 0,
              "ticks": ""
             }
            },
            "type": "parcoords"
           }
          ],
          "pie": [
           {
            "automargin": true,
            "type": "pie"
           }
          ],
          "scatter": [
           {
            "fillpattern": {
             "fillmode": "overlay",
             "size": 10,
             "solidity": 0.2
            },
            "type": "scatter"
           }
          ],
          "scatter3d": [
           {
            "line": {
             "colorbar": {
              "outlinewidth": 0,
              "ticks": ""
             }
            },
            "marker": {
             "colorbar": {
              "outlinewidth": 0,
              "ticks": ""
             }
            },
            "type": "scatter3d"
           }
          ],
          "scattercarpet": [
           {
            "marker": {
             "colorbar": {
              "outlinewidth": 0,
              "ticks": ""
             }
            },
            "type": "scattercarpet"
           }
          ],
          "scattergeo": [
           {
            "marker": {
             "colorbar": {
              "outlinewidth": 0,
              "ticks": ""
             }
            },
            "type": "scattergeo"
           }
          ],
          "scattergl": [
           {
            "marker": {
             "colorbar": {
              "outlinewidth": 0,
              "ticks": ""
             }
            },
            "type": "scattergl"
           }
          ],
          "scattermapbox": [
           {
            "marker": {
             "colorbar": {
              "outlinewidth": 0,
              "ticks": ""
             }
            },
            "type": "scattermapbox"
           }
          ],
          "scatterpolar": [
           {
            "marker": {
             "colorbar": {
              "outlinewidth": 0,
              "ticks": ""
             }
            },
            "type": "scatterpolar"
           }
          ],
          "scatterpolargl": [
           {
            "marker": {
             "colorbar": {
              "outlinewidth": 0,
              "ticks": ""
             }
            },
            "type": "scatterpolargl"
           }
          ],
          "scatterternary": [
           {
            "marker": {
             "colorbar": {
              "outlinewidth": 0,
              "ticks": ""
             }
            },
            "type": "scatterternary"
           }
          ],
          "surface": [
           {
            "colorbar": {
             "outlinewidth": 0,
             "ticks": ""
            },
            "colorscale": [
             [
              0,
              "#0d0887"
             ],
             [
              0.1111111111111111,
              "#46039f"
             ],
             [
              0.2222222222222222,
              "#7201a8"
             ],
             [
              0.3333333333333333,
              "#9c179e"
             ],
             [
              0.4444444444444444,
              "#bd3786"
             ],
             [
              0.5555555555555556,
              "#d8576b"
             ],
             [
              0.6666666666666666,
              "#ed7953"
             ],
             [
              0.7777777777777778,
              "#fb9f3a"
             ],
             [
              0.8888888888888888,
              "#fdca26"
             ],
             [
              1,
              "#f0f921"
             ]
            ],
            "type": "surface"
           }
          ],
          "table": [
           {
            "cells": {
             "fill": {
              "color": "#EBF0F8"
             },
             "line": {
              "color": "white"
             }
            },
            "header": {
             "fill": {
              "color": "#C8D4E3"
             },
             "line": {
              "color": "white"
             }
            },
            "type": "table"
           }
          ]
         },
         "layout": {
          "annotationdefaults": {
           "arrowcolor": "#2a3f5f",
           "arrowhead": 0,
           "arrowwidth": 1
          },
          "autotypenumbers": "strict",
          "coloraxis": {
           "colorbar": {
            "outlinewidth": 0,
            "ticks": ""
           }
          },
          "colorscale": {
           "diverging": [
            [
             0,
             "#8e0152"
            ],
            [
             0.1,
             "#c51b7d"
            ],
            [
             0.2,
             "#de77ae"
            ],
            [
             0.3,
             "#f1b6da"
            ],
            [
             0.4,
             "#fde0ef"
            ],
            [
             0.5,
             "#f7f7f7"
            ],
            [
             0.6,
             "#e6f5d0"
            ],
            [
             0.7,
             "#b8e186"
            ],
            [
             0.8,
             "#7fbc41"
            ],
            [
             0.9,
             "#4d9221"
            ],
            [
             1,
             "#276419"
            ]
           ],
           "sequential": [
            [
             0,
             "#0d0887"
            ],
            [
             0.1111111111111111,
             "#46039f"
            ],
            [
             0.2222222222222222,
             "#7201a8"
            ],
            [
             0.3333333333333333,
             "#9c179e"
            ],
            [
             0.4444444444444444,
             "#bd3786"
            ],
            [
             0.5555555555555556,
             "#d8576b"
            ],
            [
             0.6666666666666666,
             "#ed7953"
            ],
            [
             0.7777777777777778,
             "#fb9f3a"
            ],
            [
             0.8888888888888888,
             "#fdca26"
            ],
            [
             1,
             "#f0f921"
            ]
           ],
           "sequentialminus": [
            [
             0,
             "#0d0887"
            ],
            [
             0.1111111111111111,
             "#46039f"
            ],
            [
             0.2222222222222222,
             "#7201a8"
            ],
            [
             0.3333333333333333,
             "#9c179e"
            ],
            [
             0.4444444444444444,
             "#bd3786"
            ],
            [
             0.5555555555555556,
             "#d8576b"
            ],
            [
             0.6666666666666666,
             "#ed7953"
            ],
            [
             0.7777777777777778,
             "#fb9f3a"
            ],
            [
             0.8888888888888888,
             "#fdca26"
            ],
            [
             1,
             "#f0f921"
            ]
           ]
          },
          "colorway": [
           "#636efa",
           "#EF553B",
           "#00cc96",
           "#ab63fa",
           "#FFA15A",
           "#19d3f3",
           "#FF6692",
           "#B6E880",
           "#FF97FF",
           "#FECB52"
          ],
          "font": {
           "color": "#2a3f5f"
          },
          "geo": {
           "bgcolor": "white",
           "lakecolor": "white",
           "landcolor": "#E5ECF6",
           "showlakes": true,
           "showland": true,
           "subunitcolor": "white"
          },
          "hoverlabel": {
           "align": "left"
          },
          "hovermode": "closest",
          "mapbox": {
           "style": "light"
          },
          "paper_bgcolor": "white",
          "plot_bgcolor": "#E5ECF6",
          "polar": {
           "angularaxis": {
            "gridcolor": "white",
            "linecolor": "white",
            "ticks": ""
           },
           "bgcolor": "#E5ECF6",
           "radialaxis": {
            "gridcolor": "white",
            "linecolor": "white",
            "ticks": ""
           }
          },
          "scene": {
           "xaxis": {
            "backgroundcolor": "#E5ECF6",
            "gridcolor": "white",
            "gridwidth": 2,
            "linecolor": "white",
            "showbackground": true,
            "ticks": "",
            "zerolinecolor": "white"
           },
           "yaxis": {
            "backgroundcolor": "#E5ECF6",
            "gridcolor": "white",
            "gridwidth": 2,
            "linecolor": "white",
            "showbackground": true,
            "ticks": "",
            "zerolinecolor": "white"
           },
           "zaxis": {
            "backgroundcolor": "#E5ECF6",
            "gridcolor": "white",
            "gridwidth": 2,
            "linecolor": "white",
            "showbackground": true,
            "ticks": "",
            "zerolinecolor": "white"
           }
          },
          "shapedefaults": {
           "line": {
            "color": "#2a3f5f"
           }
          },
          "ternary": {
           "aaxis": {
            "gridcolor": "white",
            "linecolor": "white",
            "ticks": ""
           },
           "baxis": {
            "gridcolor": "white",
            "linecolor": "white",
            "ticks": ""
           },
           "bgcolor": "#E5ECF6",
           "caxis": {
            "gridcolor": "white",
            "linecolor": "white",
            "ticks": ""
           }
          },
          "title": {
           "x": 0.05
          },
          "xaxis": {
           "automargin": true,
           "gridcolor": "white",
           "linecolor": "white",
           "ticks": "",
           "title": {
            "standoff": 15
           },
           "zerolinecolor": "white",
           "zerolinewidth": 2
          },
          "yaxis": {
           "automargin": true,
           "gridcolor": "white",
           "linecolor": "white",
           "ticks": "",
           "title": {
            "standoff": 15
           },
           "zerolinecolor": "white",
           "zerolinewidth": 2
          }
         }
        },
        "width": 1280,
        "xaxis": {
         "anchor": "y",
         "domain": [
          0,
          1
         ],
         "range": [
          -4.346484422683716,
          6.065260410308838
         ],
         "title": {
          "text": "x"
         }
        },
        "yaxis": {
         "anchor": "x",
         "domain": [
          0,
          1
         ],
         "range": [
          -6.286623954772949,
          7.098484992980957
         ],
         "title": {
          "text": "y"
         }
        }
       }
      }
     },
     "metadata": {},
     "output_type": "display_data"
    }
   ],
   "source": [
    "visualize_tsne(model, sample_df, \"tokenize_desc_tag\", 7)"
   ]
  }
 ],
 "metadata": {
  "kernelspec": {
   "display_name": "Python 3",
   "language": "python",
   "name": "python3"
  },
  "language_info": {
   "codemirror_mode": {
    "name": "ipython",
    "version": 3
   },
   "file_extension": ".py",
   "mimetype": "text/x-python",
   "name": "python",
   "nbconvert_exporter": "python",
   "pygments_lexer": "ipython3",
   "version": "3.12.1"
  }
 },
 "nbformat": 4,
 "nbformat_minor": 2
}
