{
 "cells": [
  {
   "cell_type": "markdown",
   "metadata": {},
   "source": [
    "# Embedding Visualization: PCA"
   ]
  },
  {
   "cell_type": "code",
   "execution_count": 1,
   "metadata": {},
   "outputs": [
    {
     "name": "stderr",
     "output_type": "stream",
     "text": [
      "/Library/Frameworks/Python.framework/Versions/3.12/lib/python3.12/site-packages/sentence_transformers/cross_encoder/CrossEncoder.py:11: TqdmExperimentalWarning: Using `tqdm.autonotebook.tqdm` in notebook mode. Use `tqdm.tqdm` instead to force console mode (e.g. in jupyter console)\n",
      "  from tqdm.autonotebook import tqdm, trange\n"
     ]
    }
   ],
   "source": [
    "import pandas as pd\n",
    "from sentence_transformers import SentenceTransformer, util\n",
    "from pyvi.ViTokenizer import tokenize\n",
    "\n",
    "import random\n",
    "RANDOM_STATE = 42\n",
    "random.seed(RANDOM_STATE)"
   ]
  },
  {
   "cell_type": "code",
   "execution_count": 2,
   "metadata": {},
   "outputs": [
    {
     "name": "stderr",
     "output_type": "stream",
     "text": [
      "/Library/Frameworks/Python.framework/Versions/3.12/lib/python3.12/site-packages/huggingface_hub/file_download.py:1132: FutureWarning: `resume_download` is deprecated and will be removed in version 1.0.0. Downloads always resume when possible. If you want to force a new download, use `force_download=True`.\n",
      "  warnings.warn(\n"
     ]
    }
   ],
   "source": [
    "# TODO find a better model mp or mpe?\n",
    "# TODO TSNE\n",
    "# Ideas:\n",
    "# ngrams\n",
    "# train better lmao\n",
    "\n",
    "model = SentenceTransformer(\"all-mpnet-base-v2\") # BAAI/bge-m3 "
   ]
  },
  {
   "cell_type": "markdown",
   "metadata": {},
   "source": [
    "## Loading Data"
   ]
  },
  {
   "cell_type": "code",
   "execution_count": 3,
   "metadata": {},
   "outputs": [
    {
     "data": {
      "text/html": [
       "<div>\n",
       "<style scoped>\n",
       "    .dataframe tbody tr th:only-of-type {\n",
       "        vertical-align: middle;\n",
       "    }\n",
       "\n",
       "    .dataframe tbody tr th {\n",
       "        vertical-align: top;\n",
       "    }\n",
       "\n",
       "    .dataframe thead th {\n",
       "        text-align: right;\n",
       "    }\n",
       "</style>\n",
       "<table border=\"1\" class=\"dataframe\">\n",
       "  <thead>\n",
       "    <tr style=\"text-align: right;\">\n",
       "      <th></th>\n",
       "      <th>Title</th>\n",
       "      <th>Original Price</th>\n",
       "      <th>Discounted Price</th>\n",
       "      <th>Release Date</th>\n",
       "      <th>Link</th>\n",
       "      <th>Game Description</th>\n",
       "      <th>Recent Reviews Summary</th>\n",
       "      <th>All Reviews Summary</th>\n",
       "      <th>Recent Reviews Number</th>\n",
       "      <th>All Reviews Number</th>\n",
       "      <th>Developer</th>\n",
       "      <th>Publisher</th>\n",
       "      <th>Supported Languages</th>\n",
       "      <th>Popular Tags</th>\n",
       "      <th>Game Features</th>\n",
       "      <th>Minimum Requirements</th>\n",
       "    </tr>\n",
       "  </thead>\n",
       "  <tbody>\n",
       "    <tr>\n",
       "      <th>0</th>\n",
       "      <td>Baldur's Gate 3</td>\n",
       "      <td>$29.99</td>\n",
       "      <td>$29.99</td>\n",
       "      <td>3 Aug, 2023</td>\n",
       "      <td>https://store.steampowered.com/app/1086940/Bal...</td>\n",
       "      <td>Baldur’s Gate 3 is a story-rich, party-based R...</td>\n",
       "      <td>Overwhelmingly Positive</td>\n",
       "      <td>Very Positive</td>\n",
       "      <td>- 96% of the 128,900 user reviews in the last ...</td>\n",
       "      <td>- 94% of the 188,617 user reviews for this gam...</td>\n",
       "      <td>Larian Studios</td>\n",
       "      <td>Larian Studios</td>\n",
       "      <td>['English', 'French', 'German', 'Spanish - Spa...</td>\n",
       "      <td>['RPG', 'Choices Matter', 'Character Customiza...</td>\n",
       "      <td>['Single-player', 'Online Co-op', 'LAN Co-op',...</td>\n",
       "      <td>Requires a 64-bit processor and operating syst...</td>\n",
       "    </tr>\n",
       "    <tr>\n",
       "      <th>1</th>\n",
       "      <td>Counter-Strike: Global Offensive</td>\n",
       "      <td>$14.99</td>\n",
       "      <td>$14.99</td>\n",
       "      <td>21 Aug, 2012</td>\n",
       "      <td>https://store.steampowered.com/app/730/Counter...</td>\n",
       "      <td>Counter-Strike: Global Offensive (CS: GO) expa...</td>\n",
       "      <td>Very Positive</td>\n",
       "      <td>Very Positive</td>\n",
       "      <td>- 89% of the 75,284 user reviews in the last 3...</td>\n",
       "      <td>- 88% of the 7,428,921 user reviews for this g...</td>\n",
       "      <td>Valve, Hidden Path Entertainment</td>\n",
       "      <td>Valve</td>\n",
       "      <td>['English', 'Czech', 'Danish', 'Dutch', 'Finni...</td>\n",
       "      <td>['FPS', 'Shooter', 'Multiplayer', 'Competitive...</td>\n",
       "      <td>['Steam Achievements', 'Full controller suppor...</td>\n",
       "      <td>OS: |  Windows® 7/Vista/XP | Processor: |  Int...</td>\n",
       "    </tr>\n",
       "    <tr>\n",
       "      <th>2</th>\n",
       "      <td>Apex Legends™</td>\n",
       "      <td>Free</td>\n",
       "      <td>Free</td>\n",
       "      <td>4 Nov, 2020</td>\n",
       "      <td>https://store.steampowered.com/app/1172470/Ape...</td>\n",
       "      <td>Apex Legends is the award-winning, free-to-pla...</td>\n",
       "      <td>Mixed</td>\n",
       "      <td>Very Positive</td>\n",
       "      <td>- 65% of the 18,581 user reviews in the last 3...</td>\n",
       "      <td>- 80% of the 701,597 user reviews for this gam...</td>\n",
       "      <td>Respawn Entertainment</td>\n",
       "      <td>Electronic Arts</td>\n",
       "      <td>['English', 'French', 'Italian', 'German', 'Sp...</td>\n",
       "      <td>['Free to Play', 'Multiplayer', 'Battle Royale...</td>\n",
       "      <td>['Online PvP', 'Online Co-op', 'Steam Achievem...</td>\n",
       "      <td>Requires a 64-bit processor and operating syst...</td>\n",
       "    </tr>\n",
       "    <tr>\n",
       "      <th>3</th>\n",
       "      <td>Forza Horizon 5</td>\n",
       "      <td>$34.78</td>\n",
       "      <td>$17.39</td>\n",
       "      <td>8 Nov, 2021</td>\n",
       "      <td>https://store.steampowered.com/app/1551360/For...</td>\n",
       "      <td>Your Ultimate Horizon Adventure awaits! Explor...</td>\n",
       "      <td>Very Positive</td>\n",
       "      <td>Very Positive</td>\n",
       "      <td>- 87% of the 4,120 user reviews in the last 30...</td>\n",
       "      <td>- 88% of the 123,162 user reviews for this gam...</td>\n",
       "      <td>Playground Games</td>\n",
       "      <td>Xbox Game Studios</td>\n",
       "      <td>['English', 'French', 'Italian', 'German', 'Sp...</td>\n",
       "      <td>['Racing', 'Open World', 'Driving', 'Multiplay...</td>\n",
       "      <td>['Single-player', 'Online PvP', 'Online Co-op'...</td>\n",
       "      <td>Requires a 64-bit processor and operating syst...</td>\n",
       "    </tr>\n",
       "    <tr>\n",
       "      <th>4</th>\n",
       "      <td>Call of Duty®</td>\n",
       "      <td>Free</td>\n",
       "      <td>Free</td>\n",
       "      <td>27 Oct, 2022</td>\n",
       "      <td>https://store.steampowered.com/app/1938090/Cal...</td>\n",
       "      <td>Welcome to Call of Duty® HQ, the home of Call ...</td>\n",
       "      <td>Mixed</td>\n",
       "      <td>Mixed</td>\n",
       "      <td>- 49% of the 8,257 user reviews in the last 30...</td>\n",
       "      <td>- 57% of the 236,876 user reviews for this gam...</td>\n",
       "      <td>Infinity Ward, Raven Software, Beenox, Treyarc...</td>\n",
       "      <td>Activision</td>\n",
       "      <td>['English', 'French', 'Italian', 'German', 'Sp...</td>\n",
       "      <td>['FPS', 'Multiplayer', 'Shooter', 'Action', 'S...</td>\n",
       "      <td>['Single-player', 'Online PvP', 'Online Co-op'...</td>\n",
       "      <td>Requires a 64-bit processor and operating syst...</td>\n",
       "    </tr>\n",
       "  </tbody>\n",
       "</table>\n",
       "</div>"
      ],
      "text/plain": [
       "                              Title Original Price Discounted Price  \\\n",
       "0                   Baldur's Gate 3         $29.99           $29.99   \n",
       "1  Counter-Strike: Global Offensive         $14.99           $14.99   \n",
       "2                     Apex Legends™           Free             Free   \n",
       "3                   Forza Horizon 5         $34.78           $17.39   \n",
       "4                     Call of Duty®           Free             Free   \n",
       "\n",
       "   Release Date                                               Link  \\\n",
       "0   3 Aug, 2023  https://store.steampowered.com/app/1086940/Bal...   \n",
       "1  21 Aug, 2012  https://store.steampowered.com/app/730/Counter...   \n",
       "2   4 Nov, 2020  https://store.steampowered.com/app/1172470/Ape...   \n",
       "3   8 Nov, 2021  https://store.steampowered.com/app/1551360/For...   \n",
       "4  27 Oct, 2022  https://store.steampowered.com/app/1938090/Cal...   \n",
       "\n",
       "                                    Game Description   Recent Reviews Summary  \\\n",
       "0  Baldur’s Gate 3 is a story-rich, party-based R...  Overwhelmingly Positive   \n",
       "1  Counter-Strike: Global Offensive (CS: GO) expa...            Very Positive   \n",
       "2  Apex Legends is the award-winning, free-to-pla...                    Mixed   \n",
       "3  Your Ultimate Horizon Adventure awaits! Explor...            Very Positive   \n",
       "4  Welcome to Call of Duty® HQ, the home of Call ...                    Mixed   \n",
       "\n",
       "  All Reviews Summary                              Recent Reviews Number  \\\n",
       "0       Very Positive  - 96% of the 128,900 user reviews in the last ...   \n",
       "1       Very Positive  - 89% of the 75,284 user reviews in the last 3...   \n",
       "2       Very Positive  - 65% of the 18,581 user reviews in the last 3...   \n",
       "3       Very Positive  - 87% of the 4,120 user reviews in the last 30...   \n",
       "4               Mixed  - 49% of the 8,257 user reviews in the last 30...   \n",
       "\n",
       "                                  All Reviews Number  \\\n",
       "0  - 94% of the 188,617 user reviews for this gam...   \n",
       "1  - 88% of the 7,428,921 user reviews for this g...   \n",
       "2  - 80% of the 701,597 user reviews for this gam...   \n",
       "3  - 88% of the 123,162 user reviews for this gam...   \n",
       "4  - 57% of the 236,876 user reviews for this gam...   \n",
       "\n",
       "                                           Developer          Publisher  \\\n",
       "0                                     Larian Studios     Larian Studios   \n",
       "1                   Valve, Hidden Path Entertainment              Valve   \n",
       "2                              Respawn Entertainment    Electronic Arts   \n",
       "3                                   Playground Games  Xbox Game Studios   \n",
       "4  Infinity Ward, Raven Software, Beenox, Treyarc...         Activision   \n",
       "\n",
       "                                 Supported Languages  \\\n",
       "0  ['English', 'French', 'German', 'Spanish - Spa...   \n",
       "1  ['English', 'Czech', 'Danish', 'Dutch', 'Finni...   \n",
       "2  ['English', 'French', 'Italian', 'German', 'Sp...   \n",
       "3  ['English', 'French', 'Italian', 'German', 'Sp...   \n",
       "4  ['English', 'French', 'Italian', 'German', 'Sp...   \n",
       "\n",
       "                                        Popular Tags  \\\n",
       "0  ['RPG', 'Choices Matter', 'Character Customiza...   \n",
       "1  ['FPS', 'Shooter', 'Multiplayer', 'Competitive...   \n",
       "2  ['Free to Play', 'Multiplayer', 'Battle Royale...   \n",
       "3  ['Racing', 'Open World', 'Driving', 'Multiplay...   \n",
       "4  ['FPS', 'Multiplayer', 'Shooter', 'Action', 'S...   \n",
       "\n",
       "                                       Game Features  \\\n",
       "0  ['Single-player', 'Online Co-op', 'LAN Co-op',...   \n",
       "1  ['Steam Achievements', 'Full controller suppor...   \n",
       "2  ['Online PvP', 'Online Co-op', 'Steam Achievem...   \n",
       "3  ['Single-player', 'Online PvP', 'Online Co-op'...   \n",
       "4  ['Single-player', 'Online PvP', 'Online Co-op'...   \n",
       "\n",
       "                                Minimum Requirements  \n",
       "0  Requires a 64-bit processor and operating syst...  \n",
       "1  OS: |  Windows® 7/Vista/XP | Processor: |  Int...  \n",
       "2  Requires a 64-bit processor and operating syst...  \n",
       "3  Requires a 64-bit processor and operating syst...  \n",
       "4  Requires a 64-bit processor and operating syst...  "
      ]
     },
     "execution_count": 3,
     "metadata": {},
     "output_type": "execute_result"
    }
   ],
   "source": [
    "game_df = pd.read_csv(\"steam_games.csv\")\n",
    "game_df.head(5)"
   ]
  },
  {
   "cell_type": "code",
   "execution_count": 4,
   "metadata": {},
   "outputs": [],
   "source": [
    "game_df.drop_duplicates(\"Title\", inplace=True)\n",
    "game_df[\"Game Description\"] = game_df[\"Game Description\"].astype(str)\n",
    "\n",
    "descriptions = game_df[[\"Title\", \"Game Description\", \"Popular Tags\"]]"
   ]
  },
  {
   "cell_type": "code",
   "execution_count": 5,
   "metadata": {},
   "outputs": [],
   "source": [
    "def deacronym(tags):\n",
    "    new_tags = []\n",
    "    for tag in tags:\n",
    "        match tag.split():\n",
    "            case [\"MMORPG\"]:\n",
    "                new_tag = \"Massively Multiplayer Online Role-Playing Game\"\n",
    "            case [s1, \"RPG\", s2]:\n",
    "                new_tag = s1.strip() + \" Role-Playing Game \" + s2.strip()\n",
    "            case [\"RPG\"]:\n",
    "                new_tag = \"Role-Playing Game\"\n",
    "            case [\"FPS\"]:\n",
    "                new_tag = \"First Person Shooter\"\n",
    "            case [\"Sci-fi\"]:\n",
    "                new_tag = \"Science Fiction\"\n",
    "            case [\"PvP\"]:\n",
    "                new_tag = \"Player versus Player\"\n",
    "            case [\"PvE\"]:\n",
    "                new_tag = \"Player versus Entity\"\n",
    "            case [\"MOBA\"]:\n",
    "                new_tag = \"Multiplayer Online Battle Arena Video Games\"\n",
    "            case _:\n",
    "                new_tag = tag\n",
    "        new_tags.append(new_tag)\n",
    "    return new_tags"
   ]
  },
  {
   "cell_type": "code",
   "execution_count": 6,
   "metadata": {},
   "outputs": [
    {
     "name": "stderr",
     "output_type": "stream",
     "text": [
      "/var/folders/p_/m397w35d7z9fks5tyvbp93480000gn/T/ipykernel_24543/2068819577.py:18: SettingWithCopyWarning: \n",
      "A value is trying to be set on a copy of a slice from a DataFrame.\n",
      "Try using .loc[row_indexer,col_indexer] = value instead\n",
      "\n",
      "See the caveats in the documentation: https://pandas.pydata.org/pandas-docs/stable/user_guide/indexing.html#returning-a-view-versus-a-copy\n",
      "  descriptions.loc[idx, \"Description and Tags\"] = desc + \" \" + tag\n"
     ]
    }
   ],
   "source": [
    "from ast import literal_eval\n",
    "\n",
    "# Combines descriptions and tags for each game\n",
    "for idx, (tag, desc) in enumerate(zip(descriptions[\"Popular Tags\"], descriptions[\"Game Description\"])):\n",
    "    tag = deacronym(literal_eval(tag))\n",
    "    if \"Free to Play\" in tag:\n",
    "        tag.remove(\"Free to Play\")\n",
    "    if \"Early Access\" in tag:\n",
    "        tag.remove(\"Early Access\")\n",
    "    if \"Online Co-Op\" in tag:\n",
    "        tag.remove(\"Online Co-Op\")\n",
    "    if \"Co-op\" in tag:\n",
    "        tag.remove(\"Co-op\")\n",
    "\n",
    "    tag = \", \".join(tag[:7])\n",
    "\n",
    "    descriptions.loc[idx, \"Popular Tags\"] = tag\n",
    "    descriptions.loc[idx, \"Description and Tags\"] = desc + \" \" + tag"
   ]
  },
  {
   "cell_type": "code",
   "execution_count": 7,
   "metadata": {},
   "outputs": [
    {
     "data": {
      "text/html": [
       "<div>\n",
       "<style scoped>\n",
       "    .dataframe tbody tr th:only-of-type {\n",
       "        vertical-align: middle;\n",
       "    }\n",
       "\n",
       "    .dataframe tbody tr th {\n",
       "        vertical-align: top;\n",
       "    }\n",
       "\n",
       "    .dataframe thead th {\n",
       "        text-align: right;\n",
       "    }\n",
       "</style>\n",
       "<table border=\"1\" class=\"dataframe\">\n",
       "  <thead>\n",
       "    <tr style=\"text-align: right;\">\n",
       "      <th></th>\n",
       "      <th>Title</th>\n",
       "      <th>Game Description</th>\n",
       "      <th>Popular Tags</th>\n",
       "      <th>Description and Tags</th>\n",
       "    </tr>\n",
       "  </thead>\n",
       "  <tbody>\n",
       "    <tr>\n",
       "      <th>0</th>\n",
       "      <td>Baldur's Gate 3</td>\n",
       "      <td>Baldur’s Gate 3 is a story-rich, party-based RPG set in the universe of Dungeons &amp; Dragons, where your choices shape a tale of fellowship and betrayal, survival and sacrifice, and the lure of absolute power.</td>\n",
       "      <td>Role-Playing Game, Choices Matter, Character Customization, Story Rich, Adventure, CRPG, Multiplayer</td>\n",
       "      <td>Baldur’s Gate 3 is a story-rich, party-based RPG set in the universe of Dungeons &amp; Dragons, where your choices shape a tale of fellowship and betrayal, survival and sacrifice, and the lure of absolute power. Role-Playing Game, Choices Matter, Character Customization, Story Rich, Adventure, CRPG, Multiplayer</td>\n",
       "    </tr>\n",
       "    <tr>\n",
       "      <th>1</th>\n",
       "      <td>Counter-Strike: Global Offensive</td>\n",
       "      <td>Counter-Strike: Global Offensive (CS: GO) expands upon the team-based action gameplay that it pioneered when it was launched 19 years ago. CS: GO features new maps, characters, weapons, and game modes, and delivers updated versions of the classic CS content (de_dust2, etc.).</td>\n",
       "      <td>First Person Shooter, Shooter, Multiplayer, Competitive, Action, Team-Based, eSports</td>\n",
       "      <td>Counter-Strike: Global Offensive (CS: GO) expands upon the team-based action gameplay that it pioneered when it was launched 19 years ago. CS: GO features new maps, characters, weapons, and game modes, and delivers updated versions of the classic CS content (de_dust2, etc.). First Person Shooter, Shooter, Multiplayer, Competitive, Action, Team-Based, eSports</td>\n",
       "    </tr>\n",
       "    <tr>\n",
       "      <th>2</th>\n",
       "      <td>Apex Legends™</td>\n",
       "      <td>Apex Legends is the award-winning, free-to-play Hero Shooter from Respawn Entertainment. Master an ever-growing roster of legendary characters with powerful abilities, and experience strategic squad play and innovative gameplay in the next evolution of Hero Shooter and Battle Royale.</td>\n",
       "      <td>Multiplayer, Battle Royale, Shooter, First Person Shooter, First-Person, Player versus Player, Action</td>\n",
       "      <td>Apex Legends is the award-winning, free-to-play Hero Shooter from Respawn Entertainment. Master an ever-growing roster of legendary characters with powerful abilities, and experience strategic squad play and innovative gameplay in the next evolution of Hero Shooter and Battle Royale. Multiplayer, Battle Royale, Shooter, First Person Shooter, First-Person, Player versus Player, Action</td>\n",
       "    </tr>\n",
       "    <tr>\n",
       "      <th>3</th>\n",
       "      <td>Forza Horizon 5</td>\n",
       "      <td>Your Ultimate Horizon Adventure awaits! Explore the vibrant open world landscapes of Mexico with limitless, fun driving action in the world’s greatest cars. Conquer the rugged Sierra Nueva in the ultimate Horizon Rally experience. Requires Forza Horizon 5 game, expansion sold separately.</td>\n",
       "      <td>Racing, Open World, Driving, Multiplayer, Automobile Sim, Realistic, Adventure</td>\n",
       "      <td>Your Ultimate Horizon Adventure awaits! Explore the vibrant open world landscapes of Mexico with limitless, fun driving action in the world’s greatest cars. Conquer the rugged Sierra Nueva in the ultimate Horizon Rally experience. Requires Forza Horizon 5 game, expansion sold separately. Racing, Open World, Driving, Multiplayer, Automobile Sim, Realistic, Adventure</td>\n",
       "    </tr>\n",
       "    <tr>\n",
       "      <th>4</th>\n",
       "      <td>Call of Duty®</td>\n",
       "      <td>Welcome to Call of Duty® HQ, the home of Call of Duty®: Modern Warfare® III, Call of Duty®: Modern Warfare® II and Warzone™.</td>\n",
       "      <td>First Person Shooter, Multiplayer, Shooter, Action, Singleplayer, Military, First-Person</td>\n",
       "      <td>Welcome to Call of Duty® HQ, the home of Call of Duty®: Modern Warfare® III, Call of Duty®: Modern Warfare® II and Warzone™. First Person Shooter, Multiplayer, Shooter, Action, Singleplayer, Military, First-Person</td>\n",
       "    </tr>\n",
       "    <tr>\n",
       "      <th>...</th>\n",
       "      <td>...</td>\n",
       "      <td>...</td>\n",
       "      <td>...</td>\n",
       "      <td>...</td>\n",
       "    </tr>\n",
       "    <tr>\n",
       "      <th>71695</th>\n",
       "      <td>The Front</td>\n",
       "      <td>The Front is a survival-open-world-crafting (SOC) shooter game. Players will assume the role of a resistance fighter sent back in time to stop the rise of a tyrannical empire that has conquered the world using technology based on unknown relics.</td>\n",
       "      <td>Survival, Building, Sandbox, Post-apocalyptic, Shooter, Simulation, Crafting</td>\n",
       "      <td>The Front is a survival-open-world-crafting (SOC) shooter game. Players will assume the role of a resistance fighter sent back in time to stop the rise of a tyrannical empire that has conquered the world using technology based on unknown relics. Survival, Building, Sandbox, Post-apocalyptic, Shooter, Simulation, Crafting</td>\n",
       "    </tr>\n",
       "    <tr>\n",
       "      <th>71696</th>\n",
       "      <td>The Bornless</td>\n",
       "      <td>Welcome to The Bornless, an action horror FPS. Face off against other players, summon demons, and build factions in a Lovecraftian world. Use Black Magick, acquire powerful weapons, upgrade your Safehouse, and strategize to survive.</td>\n",
       "      <td>Horror, First Person Shooter, Shooter, Multiplayer, Action, Adventure, Survival Horror</td>\n",
       "      <td>Welcome to The Bornless, an action horror FPS. Face off against other players, summon demons, and build factions in a Lovecraftian world. Use Black Magick, acquire powerful weapons, upgrade your Safehouse, and strategize to survive. Horror, First Person Shooter, Shooter, Multiplayer, Action, Adventure, Survival Horror</td>\n",
       "    </tr>\n",
       "    <tr>\n",
       "      <th>71697</th>\n",
       "      <td>Winter Memories</td>\n",
       "      <td>After the unforgettable summer memories you’ve made half a year ago, Yui, Rio, and Miyuki are back. With the change of seasons and the cold falling snow, a new page to your story is about to begin.</td>\n",
       "      <td>Casual, Role-Playing Game, Simulation, Sexual Content, Hentai, Anime, JRPG</td>\n",
       "      <td>After the unforgettable summer memories you’ve made half a year ago, Yui, Rio, and Miyuki are back. With the change of seasons and the cold falling snow, a new page to your story is about to begin. Casual, Role-Playing Game, Simulation, Sexual Content, Hentai, Anime, JRPG</td>\n",
       "    </tr>\n",
       "    <tr>\n",
       "      <th>71698</th>\n",
       "      <td>Call of Duty®: Modern Warfare® III</td>\n",
       "      <td>In the direct sequel to the record-breaking Call of Duty®: Modern Warfare® II, Captain Price and Task Force 141 face off against the ultimate threat.</td>\n",
       "      <td>Action, First Person Shooter, Shooter, First-Person, Military, Modern, Multiplayer</td>\n",
       "      <td>In the direct sequel to the record-breaking Call of Duty®: Modern Warfare® II, Captain Price and Task Force 141 face off against the ultimate threat. Action, First Person Shooter, Shooter, First-Person, Military, Modern, Multiplayer</td>\n",
       "    </tr>\n",
       "    <tr>\n",
       "      <th>71699</th>\n",
       "      <td>Pixel Gun 3D: PC Edition</td>\n",
       "      <td>Pixel Gun 3D is a near complete PC port of a legendary multiplayer FPS with blocky and colorful graphics. Fight in multiple game modes, unlock dozens of maps and collect more than 1500 unique guns</td>\n",
       "      <td>Action, Shooter, Pixel Graphics, Battle Royale, First Person Shooter, 3D, Adventure</td>\n",
       "      <td>Pixel Gun 3D is a near complete PC port of a legendary multiplayer FPS with blocky and colorful graphics. Fight in multiple game modes, unlock dozens of maps and collect more than 1500 unique guns Action, Shooter, Pixel Graphics, Battle Royale, First Person Shooter, 3D, Adventure</td>\n",
       "    </tr>\n",
       "  </tbody>\n",
       "</table>\n",
       "<p>71700 rows × 4 columns</p>\n",
       "</div>"
      ],
      "text/plain": [
       "                                    Title  \\\n",
       "0                         Baldur's Gate 3   \n",
       "1        Counter-Strike: Global Offensive   \n",
       "2                           Apex Legends™   \n",
       "3                         Forza Horizon 5   \n",
       "4                           Call of Duty®   \n",
       "...                                   ...   \n",
       "71695                           The Front   \n",
       "71696                        The Bornless   \n",
       "71697                     Winter Memories   \n",
       "71698  Call of Duty®: Modern Warfare® III   \n",
       "71699            Pixel Gun 3D: PC Edition   \n",
       "\n",
       "                                                                                                                                                                                                                                                                                       Game Description  \\\n",
       "0                                                                                       Baldur’s Gate 3 is a story-rich, party-based RPG set in the universe of Dungeons & Dragons, where your choices shape a tale of fellowship and betrayal, survival and sacrifice, and the lure of absolute power.   \n",
       "1                   Counter-Strike: Global Offensive (CS: GO) expands upon the team-based action gameplay that it pioneered when it was launched 19 years ago. CS: GO features new maps, characters, weapons, and game modes, and delivers updated versions of the classic CS content (de_dust2, etc.).   \n",
       "2          Apex Legends is the award-winning, free-to-play Hero Shooter from Respawn Entertainment. Master an ever-growing roster of legendary characters with powerful abilities, and experience strategic squad play and innovative gameplay in the next evolution of Hero Shooter and Battle Royale.   \n",
       "3      Your Ultimate Horizon Adventure awaits! Explore the vibrant open world landscapes of Mexico with limitless, fun driving action in the world’s greatest cars. Conquer the rugged Sierra Nueva in the ultimate Horizon Rally experience. Requires Forza Horizon 5 game, expansion sold separately.   \n",
       "4                                                                                                                                                                          Welcome to Call of Duty® HQ, the home of Call of Duty®: Modern Warfare® III, Call of Duty®: Modern Warfare® II and Warzone™.   \n",
       "...                                                                                                                                                                                                                                                                                                 ...   \n",
       "71695                                             The Front is a survival-open-world-crafting (SOC) shooter game. Players will assume the role of a resistance fighter sent back in time to stop the rise of a tyrannical empire that has conquered the world using technology based on unknown relics.   \n",
       "71696                                                          Welcome to The Bornless, an action horror FPS. Face off against other players, summon demons, and build factions in a Lovecraftian world. Use Black Magick, acquire powerful weapons, upgrade your Safehouse, and strategize to survive.   \n",
       "71697                                                                                             After the unforgettable summer memories you’ve made half a year ago, Yui, Rio, and Miyuki are back. With the change of seasons and the cold falling snow, a new page to your story is about to begin.   \n",
       "71698                                                                                                                                             In the direct sequel to the record-breaking Call of Duty®: Modern Warfare® II, Captain Price and Task Force 141 face off against the ultimate threat.   \n",
       "71699                                                                                              Pixel Gun 3D is a near complete PC port of a legendary multiplayer FPS with blocky and colorful graphics. Fight in multiple game modes, unlock dozens of maps and collect more than 1500 unique guns   \n",
       "\n",
       "                                                                                                Popular Tags  \\\n",
       "0       Role-Playing Game, Choices Matter, Character Customization, Story Rich, Adventure, CRPG, Multiplayer   \n",
       "1                       First Person Shooter, Shooter, Multiplayer, Competitive, Action, Team-Based, eSports   \n",
       "2      Multiplayer, Battle Royale, Shooter, First Person Shooter, First-Person, Player versus Player, Action   \n",
       "3                             Racing, Open World, Driving, Multiplayer, Automobile Sim, Realistic, Adventure   \n",
       "4                   First Person Shooter, Multiplayer, Shooter, Action, Singleplayer, Military, First-Person   \n",
       "...                                                                                                      ...   \n",
       "71695                           Survival, Building, Sandbox, Post-apocalyptic, Shooter, Simulation, Crafting   \n",
       "71696                 Horror, First Person Shooter, Shooter, Multiplayer, Action, Adventure, Survival Horror   \n",
       "71697                             Casual, Role-Playing Game, Simulation, Sexual Content, Hentai, Anime, JRPG   \n",
       "71698                     Action, First Person Shooter, Shooter, First-Person, Military, Modern, Multiplayer   \n",
       "71699                    Action, Shooter, Pixel Graphics, Battle Royale, First Person Shooter, 3D, Adventure   \n",
       "\n",
       "                                                                                                                                                                                                                                                                                                                                                                                     Description and Tags  \n",
       "0                                                                                    Baldur’s Gate 3 is a story-rich, party-based RPG set in the universe of Dungeons & Dragons, where your choices shape a tale of fellowship and betrayal, survival and sacrifice, and the lure of absolute power. Role-Playing Game, Choices Matter, Character Customization, Story Rich, Adventure, CRPG, Multiplayer  \n",
       "1                                Counter-Strike: Global Offensive (CS: GO) expands upon the team-based action gameplay that it pioneered when it was launched 19 years ago. CS: GO features new maps, characters, weapons, and game modes, and delivers updated versions of the classic CS content (de_dust2, etc.). First Person Shooter, Shooter, Multiplayer, Competitive, Action, Team-Based, eSports  \n",
       "2      Apex Legends is the award-winning, free-to-play Hero Shooter from Respawn Entertainment. Master an ever-growing roster of legendary characters with powerful abilities, and experience strategic squad play and innovative gameplay in the next evolution of Hero Shooter and Battle Royale. Multiplayer, Battle Royale, Shooter, First Person Shooter, First-Person, Player versus Player, Action  \n",
       "3                         Your Ultimate Horizon Adventure awaits! Explore the vibrant open world landscapes of Mexico with limitless, fun driving action in the world’s greatest cars. Conquer the rugged Sierra Nueva in the ultimate Horizon Rally experience. Requires Forza Horizon 5 game, expansion sold separately. Racing, Open World, Driving, Multiplayer, Automobile Sim, Realistic, Adventure  \n",
       "4                                                                                                                                                                                   Welcome to Call of Duty® HQ, the home of Call of Duty®: Modern Warfare® III, Call of Duty®: Modern Warfare® II and Warzone™. First Person Shooter, Multiplayer, Shooter, Action, Singleplayer, Military, First-Person  \n",
       "...                                                                                                                                                                                                                                                                                                                                                                                                   ...  \n",
       "71695                                                                  The Front is a survival-open-world-crafting (SOC) shooter game. Players will assume the role of a resistance fighter sent back in time to stop the rise of a tyrannical empire that has conquered the world using technology based on unknown relics. Survival, Building, Sandbox, Post-apocalyptic, Shooter, Simulation, Crafting  \n",
       "71696                                                                     Welcome to The Bornless, an action horror FPS. Face off against other players, summon demons, and build factions in a Lovecraftian world. Use Black Magick, acquire powerful weapons, upgrade your Safehouse, and strategize to survive. Horror, First Person Shooter, Shooter, Multiplayer, Action, Adventure, Survival Horror  \n",
       "71697                                                                                                                    After the unforgettable summer memories you’ve made half a year ago, Yui, Rio, and Miyuki are back. With the change of seasons and the cold falling snow, a new page to your story is about to begin. Casual, Role-Playing Game, Simulation, Sexual Content, Hentai, Anime, JRPG  \n",
       "71698                                                                                                                                                            In the direct sequel to the record-breaking Call of Duty®: Modern Warfare® II, Captain Price and Task Force 141 face off against the ultimate threat. Action, First Person Shooter, Shooter, First-Person, Military, Modern, Multiplayer  \n",
       "71699                                                                                                            Pixel Gun 3D is a near complete PC port of a legendary multiplayer FPS with blocky and colorful graphics. Fight in multiple game modes, unlock dozens of maps and collect more than 1500 unique guns Action, Shooter, Pixel Graphics, Battle Royale, First Person Shooter, 3D, Adventure  \n",
       "\n",
       "[71700 rows x 4 columns]"
      ]
     },
     "execution_count": 7,
     "metadata": {},
     "output_type": "execute_result"
    }
   ],
   "source": [
    "pd.set_option('display.max_colwidth', None)\n",
    "descriptions"
   ]
  },
  {
   "cell_type": "code",
   "execution_count": 8,
   "metadata": {},
   "outputs": [],
   "source": [
    "descriptions[\"tokenize_desc\"] = descriptions[\"Game Description\"].apply(tokenize)\n",
    "\n",
    "descriptions[\"tokenize_tag\"] = descriptions[\"Popular Tags\"].apply(tokenize)\n",
    "\n",
    "descriptions[\"tokenize_desc_tag\"] = descriptions[\"Description and Tags\"].apply(tokenize)"
   ]
  },
  {
   "cell_type": "markdown",
   "metadata": {},
   "source": [
    "## Visualization"
   ]
  },
  {
   "cell_type": "markdown",
   "metadata": {},
   "source": [
    "Checking cosine similarity of tags."
   ]
  },
  {
   "cell_type": "code",
   "execution_count": null,
   "metadata": {},
   "outputs": [],
   "source": [
    "# for i in range(10):\n",
    "#     s1, t1 = descriptions.loc[i, [\"Title\", \"tokenize_tag\"]]\n",
    "#     s2, t2 = descriptions.loc[i + 1, [\"Title\", \"tokenize_tag\"]]\n",
    "#     print(s1 + \" | \" + s2 + \" | \" + str(int(util.cos_sim(model.encode(t1), model.encode(t2)))))\n",
    "#     print()"
   ]
  },
  {
   "cell_type": "code",
   "execution_count": null,
   "metadata": {},
   "outputs": [],
   "source": [
    "from sklearn.cluster import KMeans\n",
    "from sklearn.decomposition import PCA\n",
    "import numpy as np\n",
    "import pandas as pd\n",
    "import plotly.express as px"
   ]
  },
  {
   "cell_type": "code",
   "execution_count": null,
   "metadata": {},
   "outputs": [],
   "source": [
    "sample_df = descriptions.head(100)"
   ]
  },
  {
   "cell_type": "code",
   "execution_count": null,
   "metadata": {},
   "outputs": [],
   "source": [
    "def clustering(embeddings, num_clusters):\n",
    "    model = KMeans(n_clusters=num_clusters, random_state=RANDOM_STATE)\n",
    "    model.fit(embeddings)\n",
    "    return model.labels_\n",
    "\n",
    "def visualization_pca(descriptions, embeddings, n_cluster=6):\n",
    "    X = np.array(embeddings)\n",
    "    pca = PCA(n_components=3, random_state=RANDOM_STATE)\n",
    "    result = pca.fit_transform(X)\n",
    "    df = pd.DataFrame({\n",
    "    'sent': descriptions[\"Title\"],\n",
    "    'cluster': clustering(embeddings, n_cluster).astype(str),\n",
    "    'x': result[:, 0],\n",
    "    'y': result[:, 1],\n",
    "    'z': result[:, 2]\n",
    "    })\n",
    "    fig = px.scatter_3d(df, x='x', y='y', z='z',\n",
    "              color='cluster', hover_name='sent',\n",
    "              range_x = [df.x.min()-0.5, df.x.max()+0.5],\n",
    "              range_y = [df.y.min()-0.5, df.y.max()+0.5],\n",
    "              range_z = [df.z.min()-0.5, df.z.max()+0.5])\n",
    "    fig.update_layout(\n",
    "    width=1280,   # Set the desired width\n",
    "    height=720   # Set the desired height\n",
    "    )\n",
    "    fig.update_traces(hovertemplate= '<b>%{hovertext}</b>')\n",
    "    fig.show()\n",
    "\n",
    "def visualize_pca(model, df, col, n_cluster=6):\n",
    "    embeddings = model.encode(df[col].to_numpy())\n",
    "    visualization_pca(df, embeddings, n_cluster)"
   ]
  },
  {
   "cell_type": "markdown",
   "metadata": {},
   "source": [
    "### Visualizing Descriptions"
   ]
  },
  {
   "cell_type": "code",
   "execution_count": null,
   "metadata": {},
   "outputs": [],
   "source": [
    "visualize_pca(model, sample_df, \"tokenize_desc\", 8)"
   ]
  },
  {
   "cell_type": "markdown",
   "metadata": {},
   "source": [
    "### Visualizing Tags"
   ]
  },
  {
   "cell_type": "code",
   "execution_count": null,
   "metadata": {},
   "outputs": [],
   "source": [
    "visualize_pca(model, sample_df, \"tokenize_tag\", 8)"
   ]
  },
  {
   "cell_type": "markdown",
   "metadata": {},
   "source": []
  },
  {
   "cell_type": "markdown",
   "metadata": {},
   "source": [
    "### Visualizing Combination: Description + Tags"
   ]
  },
  {
   "cell_type": "code",
   "execution_count": null,
   "metadata": {},
   "outputs": [],
   "source": [
    "visualize_pca(model, sample_df, \"tokenize_desc_tag\", 7)"
   ]
  },
  {
   "cell_type": "markdown",
   "metadata": {},
   "source": [
    "## Fine Tuning"
   ]
  },
  {
   "cell_type": "code",
   "execution_count": null,
   "metadata": {},
   "outputs": [],
   "source": [
    "import datasets\n",
    "from sentence_transformers import(\n",
    "    losses,\n",
    "    evaluation,\n",
    "    SentenceTransformerTrainer,\n",
    "    SentenceTransformerTrainingArguments, \n",
    ")\n",
    "from tqdm import tqdm"
   ]
  },
  {
   "cell_type": "markdown",
   "metadata": {},
   "source": [
    "Create the training data"
   ]
  },
  {
   "cell_type": "code",
   "execution_count": null,
   "metadata": {},
   "outputs": [],
   "source": [
    "train_df = descriptions.sample(1000, random_state=RANDOM_STATE).reset_index()\n",
    "\n",
    "train_df[\"enc_tag\"] = list(model.encode(train_df[\"tokenize_tag\"]))"
   ]
  },
  {
   "cell_type": "code",
   "execution_count": null,
   "metadata": {},
   "outputs": [],
   "source": [
    "# Uses Contrastive Loss\n",
    "# train_examples = []\n",
    "# for i in tqdm(range(len(train_df)), desc=\"Creating Training Examples\"):\n",
    "#         for j in random.sample(range(len(train_df)), 50):\n",
    "#         # Make an input with the similarity of their tags as the label\n",
    "#                 example = InputExample(\n",
    "#                         texts=[train_df.loc[i, \"Game Description\"], train_df.loc[j, \"Game Description\"]], \n",
    "#                         label=int(util.cos_sim(train_df.loc[i, \"enc_tag\"], train_df.loc[j, \"enc_tag\"])> 0.75))\n",
    "#                 train_examples.append(example)\n",
    "\n",
    "train_cols = [\"desc1\", \"desc2\", \"score\"]\n",
    "train_examples = []\n",
    "for i in tqdm(range(len(train_df)), desc=\"Creating Training Examples\"):\n",
    "        for j in random.sample(range(len(train_df)), 50):\n",
    "        # Make an input with the similarity of their tags as the label\n",
    "                example = [train_df.loc[i, \"Game Description\"], train_df.loc[j, \"Game Description\"], util.cos_sim(train_df.loc[i, \"enc_tag\"], train_df.loc[j, \"enc_tag\"]).item()]\n",
    "                train_examples.append(example)\n",
    "\n",
    "train_examples = pd.DataFrame(train_examples, columns=train_cols)\n",
    "train_dataset =  datasets.Dataset.from_pandas(train_examples)"
   ]
  },
  {
   "cell_type": "markdown",
   "metadata": {},
   "source": [
    "Creates arguments for training/tuning the model and specifies the loss function."
   ]
  },
  {
   "cell_type": "code",
   "execution_count": null,
   "metadata": {},
   "outputs": [],
   "source": [
    "args = SentenceTransformerTrainingArguments(\n",
    "    # Required parameter:\n",
    "    output_dir=\"models/mpnet-base\",\n",
    "    # Optional training parameters:\n",
    "    num_train_epochs=1,\n",
    "    per_device_train_batch_size=8,\n",
    "    per_device_eval_batch_size=8,\n",
    "    warmup_ratio=0.1,\n",
    "    # Optional tracking/debugging parameters:\n",
    "    eval_strategy=\"steps\",\n",
    "    eval_steps=500,\n",
    "    save_strategy=\"steps\",\n",
    "    save_steps=500,\n",
    "    save_total_limit=3,\n",
    "    run_name=\"mpnet-base\",\n",
    ")\n",
    "\n",
    "train_loss = losses.CoSENTLoss(model)"
   ]
  },
  {
   "cell_type": "markdown",
   "metadata": {},
   "source": [
    "Creates an evaluator for the training/tuning."
   ]
  },
  {
   "cell_type": "code",
   "execution_count": null,
   "metadata": {},
   "outputs": [],
   "source": [
    "sentences1 = [\n",
    "    \"Super Mario Galaxy 2, the sequel to the galaxy-hopping original game, includes the gravity-defying, physics-based exploration from the first game, but is loaded with entirely new galaxies and features to challenge players. On some stages, Mario can pair up with his dinosaur buddy Yoshi and use his tongue to grab items and spit them back at enemies. Players can also have fun with new items such as a drill that lets our hero tunnel through solid rock.\",\n",
    "    \"Going beyond 'run and gun corridors,' 'monster-closet AIs' and static worlds, BioShock creates a living, unique and unpredictable FPS experience. After your plane crashes into icy uncharted waters, you discover a rusted bathysphere and descend into Rapture, a city hidden beneath the sea. Constructed as an idealistic society for a hand picked group of scientists, artists and industrialists, the idealism is no more. Now the city is littered with corpses, wildly powerful guardians roam the corridors as little girls loot the dead, and genetically mutated citizens ambush you at every turn. Take control of your world by hacking mechanical devices, commandeering security turrets and crafting unique items critical to your very survival. Upgrade your weapons with ionic gels, explosives and toxins to customize them to the enemy and environment. Genetically modify your body through dozens of Plasmid Stations scattered throughout the city, empowering you with fantastic and often grotesque abilities. Explore a living world powered by Ecological A.I., where the inhabitants have interesting and consequential relationships with one another that impact your gameplay experience. Experience truly next generation graphics that vividly illustrate the forlorn art deco city, highlighted by the most detailed and realistic water effects ever developed in a video game. Make meaningful choices and mature decisions, ultimately culminating in the grand question: do you exploit the innocent survivors of Rapture...or save them?\",\n",
    "    \"Forget everything you know about The Legend of Zelda games. Step into a world of discovery, exploration and adventure in The Legend of Zelda: Breath of the Wild, a boundary-breaking new game in the acclaimed series. Travel across fields, through forests and to mountain peaks as you discover what has become of the ruined kingdom of Hyrule in this open-air adventure. Explore the wilds of Hyrule any way you like - Climb up towers and mountain peaks in search of new destinations, then set your own path to get there and plunge into the wilderness. Along the way, you'll battle towering enemies, hunt wild beasts and gather ingredients for the food and elixirs you'll need to sustain you on your journey. More than 100 Shrines of Trials to discover and explore - Shrines dot the landscape, waiting to be discovered in any order you want. Search for them in various ways, and solve a variety of puzzles inside. Work your way through the traps and devices inside to earn special items and other rewards that will help you on your adventure.\",\n",
    "    \"Developed by Rockstar San Diego, as a follow up to the 2004 hit game Red Dead Revolver, Red Dead Redemption is a Western epic, set at the turn of the 20th century when the lawless and chaotic badlands began to give way to the expanding reach of government and the spread of the Industrial Age. The story of former outlaw, John Marston, Red Dead Redemption takes players on a great adventure across the American frontier. Utilizing Rockstar's proprietary Rockstar Advanced Game Engine (RAGE), Red Dead Redemption features an open-world environment for players to explore, including frontier towns, rolling prairies teeming with wildlife, and perilous mountain passes - each packed with an endless flow of varied distractions. Along the way, players experience the heat of gunfights and battles, meet a host of unique characters, struggle against the harshness of one of the world’s last remaining wildernesses, and ultimately pick their own precarious path through an epic story about the death of the Wild West and the gunslingers that inhabited it.\",\n",
    "    \"Take Your Game Online: Access an online community where you can meet, chat, and play head-to-head against other gamers. Audio Dream Team: Dynamic play-by-play and analysis by Madden and Michaels. All-New Mini-camp: Hop on John Madden's Cruiser Tour Bus and travel to all NFL cities to complete skilled tasks. Create-A-Playbook: Customize receiver routes, player formations, and your team's entire playbook. Deepest Franchise Mode Ever: Play 30 years of Franchise mode and draft players each season with tips from your scouts.\",\n",
    "    \"The Covenant alien race threatens to destroy all humankind, and the only thing standing in its way is Master Chief, a genetically enhanced supersoldier. Master Chief returns in Halo 2, which features new vehicles, weapons, environments, and more. This time, you can interact with your environment, wield two weapons at the same time, board opponents' vehicles, and even switch sides to play the role of a Covenant Elite. Halo 2 also supports broadband multiplayer action via Xbox Live.\",\n",
    "    \"First Person Shooter\", \"Building\", \"Shooter\", \"Horror\", \"First Person\",\n",
    "    \"Shooter\", \"Zombie\", \"Farming\", \"Blood\", \"Horror\", \"Card\",\n",
    "    \"Survival\", \"Horror\", \"Life Sim\", \"Puzzle\", \"Fighting\", \"Magic\"\n",
    "]\n",
    "sentences2 = [\n",
    "    \"The ultimate Nintendo hero is taking the ultimate step ... out into space. Join Mario as he ushers in a new era of video games, defying gravity across all the planets in the galaxy. When some creature escapes into space with Princess Peach, Mario gives chase, exploring bizarre planets all across the galaxy. Mario, Peach and enemies new and old are here. Players run, jump and battle enemies as they explore all the planets in the galaxy. Since this game makes full use of all the features of the Wii Remote, players have to do all kinds of things to succeed: pressing buttons, swinging the Wii Remote and the Nunchuk, and even pointing at and dragging things with the pointer. Since he's in space, Mario can perform mind-bending jumps unlike anything he's done before. He'll also have a wealth of new moves that are all based around tilting, pointing and shaking the Wii Remote. Shake, tilt and point! Mario takes advantage of all the unique aspects of the Wii Remote and Nunchuk controller, unleashing new moves as players shake the controller and even point at and drag items with the pointer.\",\n",
    "    \"By taking the suspense, challenge and visceral charge of the original, and adding startling new realism and responsiveness, Half-Life 2 opens the door to a world where the player's presence affects everything around him, from the physical environment to the behaviors -- even the emotions -- of both friends and enemies. The player again picks up the crowbar of research scientist Gordon Freeman, who finds himself on an alien-infested Earth being picked to the bone, its resources depleted, its populace dwindling. Freeman is thrust into the unenviable role of rescuing the world from the wrong he unleashed back at Black Mesa. And a lot of people -- people he cares about -- are counting on him.\",\n",
    "    \"As a young boy, Link is tricked by Ganondorf, the King of the Gerudo Thieves. The evil human uses Link to gain access to the Sacred Realm, where he places his tainted hands on Triforce and transforms the beautiful Hyrulean landscape into a barren wasteland. Link is determined to fix the problems he helped to create, so with the help of Rauru he travels through time gathering the powers of the Seven Sages.\",\n",
    "    \"An ancient evil force has reawakened, attacking in secret and feeding on the souls of mighty warriors. To lure it out of hiding will take the greatest fighting contest the world has ever seen...Tekken 3. Some are fighting for revenge, some for honor, Ultimately, all are fighting for their lives and the fate of all mankind.\",\n",
    "    \"Prepare for an all-new RPG experience in Persona 5 Royal based in the universe of the award-winning series, Persona! Don the mask of Joker and join the Phantom Thieves of Hearts. Break free from the chains of modern society and stage grand heists to infiltrate the minds of the corrupt and make them change their ways! Persona 5 Royal is packed with new characters, confidants, story depth, new locations to explore, and a new grappling hook mechanic for stealthy access to new areas. With a new semester at Shujin Academy, get ready to strengthen your abilities in the metaverse and in your daily life. Persona 5 Royal presents a unique visual style and award nominated composer Shoji Meguro returns with an all-new soundtrack. Explore Tokyo, unlock new Personas, customize your own personal Thieves Den, discover a never-before-seen story arc, cutscenes, alternate endings, and more! Even for the most seasoned Phantom Thieves among us, Persona 5 Royal is a new challenge to defy conventions, discover the power within, and fight for justice. Wear the mask. Reveal your truth.\",\n",
    "    \"With the addition of two new courses (a downtown Tokyo circuit and the Monte Carlo Grand Prix course), an impressive range of cars (from Vipers to Cooper Minis), and a soundtrack featuring everything from Lenny Kravitz to Jimi Hendrix, this highly anticipated title is finally ready to be driven.\",\n",
    "    \"Racing\",\"Exploration\",\"Open World\",\"Sandbox\",\"Third Person\",\"Sports\",\n",
    "    \"Horror\",\"Military\",\"Gore\",\"Casual\",\"Shooter\",\"Sports\",\n",
    "    \"Card\",\"Fighting\",\"Battle Royale\",\"Shooter\", \"Fantasy\"\n",
    "]\n",
    "scores = [0.99, 0.7, 0.9, 0.2, 0.1, 0.1, 0, 0.6, 0.3, 0.2, 0.7, 0.1, 0.9, 0.1, 0.99, 0.3, 0.1, 0.1, 0.1, 0.2, 0.2, 0.1, 0.8]\n",
    "\n",
    "eval_cols = [\"sentence1\", \"sentence2\", \"score\"]\n",
    "eval_examples = []\n",
    "for s1, s2, score in zip(sentences1, sentences2, scores):\n",
    "    example = [s1, s2, score]\n",
    "    eval_examples.append(example)\n",
    "eval_df = pd.DataFrame(eval_examples, columns=eval_cols)\n",
    "eval_dataset = datasets.Dataset.from_pandas(eval_df)\n",
    "\n",
    "evaluator = evaluation.EmbeddingSimilarityEvaluator(\n",
    "    sentences1=eval_dataset[\"sentence1\"],\n",
    "    sentences2=eval_dataset[\"sentence2\"],\n",
    "    scores=eval_dataset[\"score\"],\n",
    "    main_similarity=evaluation.SimilarityFunction.COSINE,\n",
    "    name=\"sts-dev\",\n",
    ")"
   ]
  },
  {
   "cell_type": "markdown",
   "metadata": {},
   "source": [
    "Trains the model."
   ]
  },
  {
   "cell_type": "code",
   "execution_count": null,
   "metadata": {},
   "outputs": [],
   "source": [
    "trainer = SentenceTransformerTrainer(\n",
    "    model=model,\n",
    "    args=args,\n",
    "    train_dataset=train_dataset,\n",
    "    eval_dataset=eval_dataset,\n",
    "    loss=train_loss,\n",
    "    evaluator=evaluator,\n",
    ")\n",
    "\n",
    "trainer.train()"
   ]
  },
  {
   "cell_type": "markdown",
   "metadata": {},
   "source": [
    "## Fine Tuning Alternative: Load Trained Model"
   ]
  },
  {
   "cell_type": "code",
   "execution_count": null,
   "metadata": {},
   "outputs": [],
   "source": [
    "# model = SentenceTransformer(\"models/mpnet-game\")"
   ]
  },
  {
   "cell_type": "markdown",
   "metadata": {},
   "source": [
    "## Visualization Pt. 2"
   ]
  },
  {
   "cell_type": "markdown",
   "metadata": {},
   "source": [
    "### Visualizing Descriptions"
   ]
  },
  {
   "cell_type": "code",
   "execution_count": null,
   "metadata": {},
   "outputs": [],
   "source": [
    "visualize_pca(model, sample_df, \"tokenize_desc\", 7)"
   ]
  },
  {
   "cell_type": "markdown",
   "metadata": {},
   "source": [
    "### Visualizing Tags"
   ]
  },
  {
   "cell_type": "code",
   "execution_count": null,
   "metadata": {},
   "outputs": [],
   "source": [
    "visualize_pca(model, sample_df, \"tokenize_tag\", 7)"
   ]
  },
  {
   "cell_type": "markdown",
   "metadata": {},
   "source": [
    "### Visualizing Combination: Description + Tags"
   ]
  },
  {
   "cell_type": "code",
   "execution_count": null,
   "metadata": {},
   "outputs": [],
   "source": [
    "visualize_pca(model, sample_df, \"tokenize_desc_tag\", 7)"
   ]
  },
  {
   "cell_type": "code",
   "execution_count": null,
   "metadata": {},
   "outputs": [],
   "source": [
    "old_model = SentenceTransformer(\"all-mpnet-base-v2\")\n",
    "\n",
    "game1_desc = descriptions.loc[0, \"tokenize_desc\"]\n",
    "game2_desc = descriptions.loc[1, \"tokenize_desc\"]\n",
    "\n",
    "print(game1_desc)\n",
    "print(game2_desc)\n",
    "\n",
    "old_enc_game1 = old_model.encode(game1_desc)\n",
    "old_enc_game2 = old_model.encode(game2_desc)\n",
    "new_enc_game1 = model.encode(game1_desc)\n",
    "new_enc_game2 = model.encode(game2_desc)\n",
    "\n",
    "print(util.cos_sim(old_enc_game1, old_enc_game2))\n",
    "print(util.cos_sim(new_enc_game1, new_enc_game2))"
   ]
  },
  {
   "cell_type": "markdown",
   "metadata": {},
   "source": [
    "# Embedding Visualization: TSNE"
   ]
  },
  {
   "cell_type": "code",
   "execution_count": null,
   "metadata": {},
   "outputs": [],
   "source": [
    "from sklearn.manifold import TSNE"
   ]
  },
  {
   "cell_type": "code",
   "execution_count": null,
   "metadata": {},
   "outputs": [],
   "source": [
    "sample_df[\"enc_desc_tag\"] = list(model.encode(sample_df[\"tokenize_desc_tag\"]))"
   ]
  },
  {
   "cell_type": "code",
   "execution_count": null,
   "metadata": {},
   "outputs": [],
   "source": [
    "def visualization_tsne(descriptions, embeddings, n_cluster=6):\n",
    "    X = np.array(embeddings)\n",
    "    tsne = TSNE(n_components=2, random_state=RANDOM_STATE)\n",
    "    result = tsne.fit_transform(X)\n",
    "    df = pd.DataFrame({\n",
    "    'sent': descriptions[\"Title\"],\n",
    "    'cluster': clustering(embeddings, n_cluster).astype(str),\n",
    "    'x': result[:, 0],\n",
    "    'y': result[:, 1],\n",
    "    })\n",
    "    fig = px.scatter(df, x='x', y='y',\n",
    "              color='cluster', hover_name='sent',\n",
    "              range_x = [df.x.min()-1, df.x.max()+1],\n",
    "              range_y = [df.y.min()-1, df.y.max()+1])\n",
    "    fig.update_layout(\n",
    "    width=1280,   # Set the desired width\n",
    "    height=720   # Set the desired height\n",
    "    )\n",
    "    fig.update_traces(hovertemplate= '<b>%{hovertext}</b>')\n",
    "    fig.show()\n",
    "\n",
    "def visualize_tsne(model, df, col, n_cluster=6):\n",
    "    embeddings = model.encode(df[col].to_numpy())\n",
    "    visualization_tsne(df, embeddings, n_cluster)"
   ]
  },
  {
   "cell_type": "code",
   "execution_count": null,
   "metadata": {},
   "outputs": [],
   "source": [
    "visualize_tsne(model, sample_df, \"tokenize_desc_tag\", 7)"
   ]
  }
 ],
 "metadata": {
  "kernelspec": {
   "display_name": "Python 3",
   "language": "python",
   "name": "python3"
  },
  "language_info": {
   "codemirror_mode": {
    "name": "ipython",
    "version": 3
   },
   "file_extension": ".py",
   "mimetype": "text/x-python",
   "name": "python",
   "nbconvert_exporter": "python",
   "pygments_lexer": "ipython3",
   "version": "3.12.1"
  }
 },
 "nbformat": 4,
 "nbformat_minor": 2
}
