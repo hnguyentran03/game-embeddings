{
 "cells": [
  {
   "cell_type": "markdown",
   "metadata": {},
   "source": [
    "# Embedding Models: Steam Game Descriptions"
   ]
  },
  {
   "cell_type": "code",
   "execution_count": 1,
   "metadata": {},
   "outputs": [
    {
     "name": "stderr",
     "output_type": "stream",
     "text": [
      "/Library/Frameworks/Python.framework/Versions/3.12/lib/python3.12/site-packages/sentence_transformers/cross_encoder/CrossEncoder.py:11: TqdmExperimentalWarning: Using `tqdm.autonotebook.tqdm` in notebook mode. Use `tqdm.tqdm` instead to force console mode (e.g. in jupyter console)\n",
      "  from tqdm.autonotebook import tqdm, trange\n"
     ]
    }
   ],
   "source": [
    "import pandas as pd\n",
    "from sentence_transformers import SentenceTransformer, util\n",
    "from pyvi.ViTokenizer import tokenize\n",
    "\n",
    "import random\n",
    "RANDOM_STATE = 42\n",
    "random.seed(RANDOM_STATE)"
   ]
  },
  {
   "cell_type": "code",
   "execution_count": 2,
   "metadata": {},
   "outputs": [
    {
     "name": "stderr",
     "output_type": "stream",
     "text": [
      "/Library/Frameworks/Python.framework/Versions/3.12/lib/python3.12/site-packages/huggingface_hub/file_download.py:1132: FutureWarning: `resume_download` is deprecated and will be removed in version 1.0.0. Downloads always resume when possible. If you want to force a new download, use `force_download=True`.\n",
      "  warnings.warn(\n"
     ]
    }
   ],
   "source": [
    "# TODO find a better model mp or mpe?\n",
    "# TODO TSNE\n",
    "model = SentenceTransformer(\"BAAI/bge-m3\")"
   ]
  },
  {
   "cell_type": "markdown",
   "metadata": {},
   "source": [
    "## Loading Data"
   ]
  },
  {
   "cell_type": "code",
   "execution_count": 3,
   "metadata": {},
   "outputs": [
    {
     "data": {
      "text/html": [
       "<div>\n",
       "<style scoped>\n",
       "    .dataframe tbody tr th:only-of-type {\n",
       "        vertical-align: middle;\n",
       "    }\n",
       "\n",
       "    .dataframe tbody tr th {\n",
       "        vertical-align: top;\n",
       "    }\n",
       "\n",
       "    .dataframe thead th {\n",
       "        text-align: right;\n",
       "    }\n",
       "</style>\n",
       "<table border=\"1\" class=\"dataframe\">\n",
       "  <thead>\n",
       "    <tr style=\"text-align: right;\">\n",
       "      <th></th>\n",
       "      <th>Title</th>\n",
       "      <th>Original Price</th>\n",
       "      <th>Discounted Price</th>\n",
       "      <th>Release Date</th>\n",
       "      <th>Link</th>\n",
       "      <th>Game Description</th>\n",
       "      <th>Recent Reviews Summary</th>\n",
       "      <th>All Reviews Summary</th>\n",
       "      <th>Recent Reviews Number</th>\n",
       "      <th>All Reviews Number</th>\n",
       "      <th>Developer</th>\n",
       "      <th>Publisher</th>\n",
       "      <th>Supported Languages</th>\n",
       "      <th>Popular Tags</th>\n",
       "      <th>Game Features</th>\n",
       "      <th>Minimum Requirements</th>\n",
       "    </tr>\n",
       "  </thead>\n",
       "  <tbody>\n",
       "    <tr>\n",
       "      <th>0</th>\n",
       "      <td>Baldur's Gate 3</td>\n",
       "      <td>$29.99</td>\n",
       "      <td>$29.99</td>\n",
       "      <td>3 Aug, 2023</td>\n",
       "      <td>https://store.steampowered.com/app/1086940/Bal...</td>\n",
       "      <td>Baldur’s Gate 3 is a story-rich, party-based R...</td>\n",
       "      <td>Overwhelmingly Positive</td>\n",
       "      <td>Very Positive</td>\n",
       "      <td>- 96% of the 128,900 user reviews in the last ...</td>\n",
       "      <td>- 94% of the 188,617 user reviews for this gam...</td>\n",
       "      <td>Larian Studios</td>\n",
       "      <td>Larian Studios</td>\n",
       "      <td>['English', 'French', 'German', 'Spanish - Spa...</td>\n",
       "      <td>['RPG', 'Choices Matter', 'Character Customiza...</td>\n",
       "      <td>['Single-player', 'Online Co-op', 'LAN Co-op',...</td>\n",
       "      <td>Requires a 64-bit processor and operating syst...</td>\n",
       "    </tr>\n",
       "    <tr>\n",
       "      <th>1</th>\n",
       "      <td>Counter-Strike: Global Offensive</td>\n",
       "      <td>$14.99</td>\n",
       "      <td>$14.99</td>\n",
       "      <td>21 Aug, 2012</td>\n",
       "      <td>https://store.steampowered.com/app/730/Counter...</td>\n",
       "      <td>Counter-Strike: Global Offensive (CS: GO) expa...</td>\n",
       "      <td>Very Positive</td>\n",
       "      <td>Very Positive</td>\n",
       "      <td>- 89% of the 75,284 user reviews in the last 3...</td>\n",
       "      <td>- 88% of the 7,428,921 user reviews for this g...</td>\n",
       "      <td>Valve, Hidden Path Entertainment</td>\n",
       "      <td>Valve</td>\n",
       "      <td>['English', 'Czech', 'Danish', 'Dutch', 'Finni...</td>\n",
       "      <td>['FPS', 'Shooter', 'Multiplayer', 'Competitive...</td>\n",
       "      <td>['Steam Achievements', 'Full controller suppor...</td>\n",
       "      <td>OS: |  Windows® 7/Vista/XP | Processor: |  Int...</td>\n",
       "    </tr>\n",
       "    <tr>\n",
       "      <th>2</th>\n",
       "      <td>Apex Legends™</td>\n",
       "      <td>Free</td>\n",
       "      <td>Free</td>\n",
       "      <td>4 Nov, 2020</td>\n",
       "      <td>https://store.steampowered.com/app/1172470/Ape...</td>\n",
       "      <td>Apex Legends is the award-winning, free-to-pla...</td>\n",
       "      <td>Mixed</td>\n",
       "      <td>Very Positive</td>\n",
       "      <td>- 65% of the 18,581 user reviews in the last 3...</td>\n",
       "      <td>- 80% of the 701,597 user reviews for this gam...</td>\n",
       "      <td>Respawn Entertainment</td>\n",
       "      <td>Electronic Arts</td>\n",
       "      <td>['English', 'French', 'Italian', 'German', 'Sp...</td>\n",
       "      <td>['Free to Play', 'Multiplayer', 'Battle Royale...</td>\n",
       "      <td>['Online PvP', 'Online Co-op', 'Steam Achievem...</td>\n",
       "      <td>Requires a 64-bit processor and operating syst...</td>\n",
       "    </tr>\n",
       "    <tr>\n",
       "      <th>3</th>\n",
       "      <td>Forza Horizon 5</td>\n",
       "      <td>$34.78</td>\n",
       "      <td>$17.39</td>\n",
       "      <td>8 Nov, 2021</td>\n",
       "      <td>https://store.steampowered.com/app/1551360/For...</td>\n",
       "      <td>Your Ultimate Horizon Adventure awaits! Explor...</td>\n",
       "      <td>Very Positive</td>\n",
       "      <td>Very Positive</td>\n",
       "      <td>- 87% of the 4,120 user reviews in the last 30...</td>\n",
       "      <td>- 88% of the 123,162 user reviews for this gam...</td>\n",
       "      <td>Playground Games</td>\n",
       "      <td>Xbox Game Studios</td>\n",
       "      <td>['English', 'French', 'Italian', 'German', 'Sp...</td>\n",
       "      <td>['Racing', 'Open World', 'Driving', 'Multiplay...</td>\n",
       "      <td>['Single-player', 'Online PvP', 'Online Co-op'...</td>\n",
       "      <td>Requires a 64-bit processor and operating syst...</td>\n",
       "    </tr>\n",
       "    <tr>\n",
       "      <th>4</th>\n",
       "      <td>Call of Duty®</td>\n",
       "      <td>Free</td>\n",
       "      <td>Free</td>\n",
       "      <td>27 Oct, 2022</td>\n",
       "      <td>https://store.steampowered.com/app/1938090/Cal...</td>\n",
       "      <td>Welcome to Call of Duty® HQ, the home of Call ...</td>\n",
       "      <td>Mixed</td>\n",
       "      <td>Mixed</td>\n",
       "      <td>- 49% of the 8,257 user reviews in the last 30...</td>\n",
       "      <td>- 57% of the 236,876 user reviews for this gam...</td>\n",
       "      <td>Infinity Ward, Raven Software, Beenox, Treyarc...</td>\n",
       "      <td>Activision</td>\n",
       "      <td>['English', 'French', 'Italian', 'German', 'Sp...</td>\n",
       "      <td>['FPS', 'Multiplayer', 'Shooter', 'Action', 'S...</td>\n",
       "      <td>['Single-player', 'Online PvP', 'Online Co-op'...</td>\n",
       "      <td>Requires a 64-bit processor and operating syst...</td>\n",
       "    </tr>\n",
       "  </tbody>\n",
       "</table>\n",
       "</div>"
      ],
      "text/plain": [
       "                              Title Original Price Discounted Price  \\\n",
       "0                   Baldur's Gate 3         $29.99           $29.99   \n",
       "1  Counter-Strike: Global Offensive         $14.99           $14.99   \n",
       "2                     Apex Legends™           Free             Free   \n",
       "3                   Forza Horizon 5         $34.78           $17.39   \n",
       "4                     Call of Duty®           Free             Free   \n",
       "\n",
       "   Release Date                                               Link  \\\n",
       "0   3 Aug, 2023  https://store.steampowered.com/app/1086940/Bal...   \n",
       "1  21 Aug, 2012  https://store.steampowered.com/app/730/Counter...   \n",
       "2   4 Nov, 2020  https://store.steampowered.com/app/1172470/Ape...   \n",
       "3   8 Nov, 2021  https://store.steampowered.com/app/1551360/For...   \n",
       "4  27 Oct, 2022  https://store.steampowered.com/app/1938090/Cal...   \n",
       "\n",
       "                                    Game Description   Recent Reviews Summary  \\\n",
       "0  Baldur’s Gate 3 is a story-rich, party-based R...  Overwhelmingly Positive   \n",
       "1  Counter-Strike: Global Offensive (CS: GO) expa...            Very Positive   \n",
       "2  Apex Legends is the award-winning, free-to-pla...                    Mixed   \n",
       "3  Your Ultimate Horizon Adventure awaits! Explor...            Very Positive   \n",
       "4  Welcome to Call of Duty® HQ, the home of Call ...                    Mixed   \n",
       "\n",
       "  All Reviews Summary                              Recent Reviews Number  \\\n",
       "0       Very Positive  - 96% of the 128,900 user reviews in the last ...   \n",
       "1       Very Positive  - 89% of the 75,284 user reviews in the last 3...   \n",
       "2       Very Positive  - 65% of the 18,581 user reviews in the last 3...   \n",
       "3       Very Positive  - 87% of the 4,120 user reviews in the last 30...   \n",
       "4               Mixed  - 49% of the 8,257 user reviews in the last 30...   \n",
       "\n",
       "                                  All Reviews Number  \\\n",
       "0  - 94% of the 188,617 user reviews for this gam...   \n",
       "1  - 88% of the 7,428,921 user reviews for this g...   \n",
       "2  - 80% of the 701,597 user reviews for this gam...   \n",
       "3  - 88% of the 123,162 user reviews for this gam...   \n",
       "4  - 57% of the 236,876 user reviews for this gam...   \n",
       "\n",
       "                                           Developer          Publisher  \\\n",
       "0                                     Larian Studios     Larian Studios   \n",
       "1                   Valve, Hidden Path Entertainment              Valve   \n",
       "2                              Respawn Entertainment    Electronic Arts   \n",
       "3                                   Playground Games  Xbox Game Studios   \n",
       "4  Infinity Ward, Raven Software, Beenox, Treyarc...         Activision   \n",
       "\n",
       "                                 Supported Languages  \\\n",
       "0  ['English', 'French', 'German', 'Spanish - Spa...   \n",
       "1  ['English', 'Czech', 'Danish', 'Dutch', 'Finni...   \n",
       "2  ['English', 'French', 'Italian', 'German', 'Sp...   \n",
       "3  ['English', 'French', 'Italian', 'German', 'Sp...   \n",
       "4  ['English', 'French', 'Italian', 'German', 'Sp...   \n",
       "\n",
       "                                        Popular Tags  \\\n",
       "0  ['RPG', 'Choices Matter', 'Character Customiza...   \n",
       "1  ['FPS', 'Shooter', 'Multiplayer', 'Competitive...   \n",
       "2  ['Free to Play', 'Multiplayer', 'Battle Royale...   \n",
       "3  ['Racing', 'Open World', 'Driving', 'Multiplay...   \n",
       "4  ['FPS', 'Multiplayer', 'Shooter', 'Action', 'S...   \n",
       "\n",
       "                                       Game Features  \\\n",
       "0  ['Single-player', 'Online Co-op', 'LAN Co-op',...   \n",
       "1  ['Steam Achievements', 'Full controller suppor...   \n",
       "2  ['Online PvP', 'Online Co-op', 'Steam Achievem...   \n",
       "3  ['Single-player', 'Online PvP', 'Online Co-op'...   \n",
       "4  ['Single-player', 'Online PvP', 'Online Co-op'...   \n",
       "\n",
       "                                Minimum Requirements  \n",
       "0  Requires a 64-bit processor and operating syst...  \n",
       "1  OS: |  Windows® 7/Vista/XP | Processor: |  Int...  \n",
       "2  Requires a 64-bit processor and operating syst...  \n",
       "3  Requires a 64-bit processor and operating syst...  \n",
       "4  Requires a 64-bit processor and operating syst...  "
      ]
     },
     "execution_count": 3,
     "metadata": {},
     "output_type": "execute_result"
    }
   ],
   "source": [
    "game_df = pd.read_csv(\"steam_games.csv\")\n",
    "game_df.head(5)"
   ]
  },
  {
   "cell_type": "code",
   "execution_count": 4,
   "metadata": {},
   "outputs": [],
   "source": [
    "game_df.drop_duplicates(\"Title\", inplace=True)\n",
    "game_df[\"Game Description\"] = game_df[\"Game Description\"].astype(str)\n",
    "\n",
    "sample_descriptions = game_df[[\"Title\", \"Game Description\", \"Popular Tags\"]].head(100).reset_index()"
   ]
  },
  {
   "cell_type": "code",
   "execution_count": 5,
   "metadata": {},
   "outputs": [],
   "source": [
    "def deacronym(tags):\n",
    "    new_tags = []\n",
    "    for tag in tags:\n",
    "        match tag.split():\n",
    "            case [\"MMORPG\"]:\n",
    "                new_tag = \"Massively Multiplayer Online Role-Playing Game\"\n",
    "            case [s1, \"RPG\", s2]:\n",
    "                new_tag = s1.strip() + \" Role-Playing Game \" + s2.strip()\n",
    "            case [\"RPG\"]:\n",
    "                new_tag = \"Role-Playing Game\"\n",
    "            case [\"FPS\"]:\n",
    "                new_tag = \"First Person Shooter\"\n",
    "            case [\"Sci-fi\"]:\n",
    "                new_tag = \"Science Fiction\"\n",
    "            case [\"PvP\"]:\n",
    "                new_tag = \"Player versus Player\"\n",
    "            case [\"PvE\"]:\n",
    "                new_tag = \"Player versus Entity\"\n",
    "            case [\"MOBA\"]:\n",
    "                new_tag = \"Multiplayer Online Battle Arena Video Games\"\n",
    "            case _:\n",
    "                new_tag = tag\n",
    "        new_tags.append(new_tag)\n",
    "    return new_tags"
   ]
  },
  {
   "cell_type": "code",
   "execution_count": 6,
   "metadata": {},
   "outputs": [],
   "source": [
    "from ast import literal_eval\n",
    "\n",
    "# Combines descriptions and tags for each game\n",
    "for idx, (tag, desc) in enumerate(zip(sample_descriptions[\"Popular Tags\"], sample_descriptions[\"Game Description\"])):\n",
    "    tag = deacronym(literal_eval(tag))\n",
    "    if \"Free to Play\" in tag:\n",
    "        tag.remove(\"Free to Play\")\n",
    "    if \"Early Access\" in tag:\n",
    "        tag.remove(\"Early Access\")\n",
    "    if \"Online Co-Op\" in tag:\n",
    "        tag.remove(\"Online Co-Op\")\n",
    "    if \"Co-op\" in tag:\n",
    "        tag.remove(\"Co-op\")\n",
    "\n",
    "    tag = \", \".join(tag[:7])\n",
    "\n",
    "    sample_descriptions.loc[idx, \"Popular Tags\"] = tag\n",
    "    sample_descriptions.loc[idx, \"Description and Tags\"] = desc + \" \" + tag"
   ]
  },
  {
   "cell_type": "code",
   "execution_count": 7,
   "metadata": {},
   "outputs": [
    {
     "data": {
      "text/html": [
       "<div>\n",
       "<style scoped>\n",
       "    .dataframe tbody tr th:only-of-type {\n",
       "        vertical-align: middle;\n",
       "    }\n",
       "\n",
       "    .dataframe tbody tr th {\n",
       "        vertical-align: top;\n",
       "    }\n",
       "\n",
       "    .dataframe thead th {\n",
       "        text-align: right;\n",
       "    }\n",
       "</style>\n",
       "<table border=\"1\" class=\"dataframe\">\n",
       "  <thead>\n",
       "    <tr style=\"text-align: right;\">\n",
       "      <th></th>\n",
       "      <th>index</th>\n",
       "      <th>Title</th>\n",
       "      <th>Game Description</th>\n",
       "      <th>Popular Tags</th>\n",
       "      <th>Description and Tags</th>\n",
       "    </tr>\n",
       "  </thead>\n",
       "  <tbody>\n",
       "    <tr>\n",
       "      <th>0</th>\n",
       "      <td>0</td>\n",
       "      <td>Baldur's Gate 3</td>\n",
       "      <td>Baldur’s Gate 3 is a story-rich, party-based RPG set in the universe of Dungeons &amp; Dragons, where your choices shape a tale of fellowship and betrayal, survival and sacrifice, and the lure of absolute power.</td>\n",
       "      <td>Role-Playing Game, Choices Matter, Character Customization, Story Rich, Adventure, CRPG, Multiplayer</td>\n",
       "      <td>Baldur’s Gate 3 is a story-rich, party-based RPG set in the universe of Dungeons &amp; Dragons, where your choices shape a tale of fellowship and betrayal, survival and sacrifice, and the lure of absolute power. Role-Playing Game, Choices Matter, Character Customization, Story Rich, Adventure, CRPG, Multiplayer</td>\n",
       "    </tr>\n",
       "    <tr>\n",
       "      <th>1</th>\n",
       "      <td>1</td>\n",
       "      <td>Counter-Strike: Global Offensive</td>\n",
       "      <td>Counter-Strike: Global Offensive (CS: GO) expands upon the team-based action gameplay that it pioneered when it was launched 19 years ago. CS: GO features new maps, characters, weapons, and game modes, and delivers updated versions of the classic CS content (de_dust2, etc.).</td>\n",
       "      <td>First Person Shooter, Shooter, Multiplayer, Competitive, Action, Team-Based, eSports</td>\n",
       "      <td>Counter-Strike: Global Offensive (CS: GO) expands upon the team-based action gameplay that it pioneered when it was launched 19 years ago. CS: GO features new maps, characters, weapons, and game modes, and delivers updated versions of the classic CS content (de_dust2, etc.). First Person Shooter, Shooter, Multiplayer, Competitive, Action, Team-Based, eSports</td>\n",
       "    </tr>\n",
       "    <tr>\n",
       "      <th>2</th>\n",
       "      <td>2</td>\n",
       "      <td>Apex Legends™</td>\n",
       "      <td>Apex Legends is the award-winning, free-to-play Hero Shooter from Respawn Entertainment. Master an ever-growing roster of legendary characters with powerful abilities, and experience strategic squad play and innovative gameplay in the next evolution of Hero Shooter and Battle Royale.</td>\n",
       "      <td>Multiplayer, Battle Royale, Shooter, First Person Shooter, First-Person, Player versus Player, Action</td>\n",
       "      <td>Apex Legends is the award-winning, free-to-play Hero Shooter from Respawn Entertainment. Master an ever-growing roster of legendary characters with powerful abilities, and experience strategic squad play and innovative gameplay in the next evolution of Hero Shooter and Battle Royale. Multiplayer, Battle Royale, Shooter, First Person Shooter, First-Person, Player versus Player, Action</td>\n",
       "    </tr>\n",
       "    <tr>\n",
       "      <th>3</th>\n",
       "      <td>3</td>\n",
       "      <td>Forza Horizon 5</td>\n",
       "      <td>Your Ultimate Horizon Adventure awaits! Explore the vibrant open world landscapes of Mexico with limitless, fun driving action in the world’s greatest cars. Conquer the rugged Sierra Nueva in the ultimate Horizon Rally experience. Requires Forza Horizon 5 game, expansion sold separately.</td>\n",
       "      <td>Racing, Open World, Driving, Multiplayer, Automobile Sim, Realistic, Adventure</td>\n",
       "      <td>Your Ultimate Horizon Adventure awaits! Explore the vibrant open world landscapes of Mexico with limitless, fun driving action in the world’s greatest cars. Conquer the rugged Sierra Nueva in the ultimate Horizon Rally experience. Requires Forza Horizon 5 game, expansion sold separately. Racing, Open World, Driving, Multiplayer, Automobile Sim, Realistic, Adventure</td>\n",
       "    </tr>\n",
       "    <tr>\n",
       "      <th>4</th>\n",
       "      <td>4</td>\n",
       "      <td>Call of Duty®</td>\n",
       "      <td>Welcome to Call of Duty® HQ, the home of Call of Duty®: Modern Warfare® III, Call of Duty®: Modern Warfare® II and Warzone™.</td>\n",
       "      <td>First Person Shooter, Multiplayer, Shooter, Action, Singleplayer, Military, First-Person</td>\n",
       "      <td>Welcome to Call of Duty® HQ, the home of Call of Duty®: Modern Warfare® III, Call of Duty®: Modern Warfare® II and Warzone™. First Person Shooter, Multiplayer, Shooter, Action, Singleplayer, Military, First-Person</td>\n",
       "    </tr>\n",
       "    <tr>\n",
       "      <th>...</th>\n",
       "      <td>...</td>\n",
       "      <td>...</td>\n",
       "      <td>...</td>\n",
       "      <td>...</td>\n",
       "      <td>...</td>\n",
       "    </tr>\n",
       "    <tr>\n",
       "      <th>95</th>\n",
       "      <td>95</td>\n",
       "      <td>Valheim</td>\n",
       "      <td>A brutal exploration and survival game for 1-10 players, set in a procedurally-generated purgatory inspired by viking culture. Battle, build, and conquer your way to a saga worthy of Odin’s patronage!</td>\n",
       "      <td>Open World Survival Craft, Survival, Open World, Multiplayer, Building, Crafting, Exploration</td>\n",
       "      <td>A brutal exploration and survival game for 1-10 players, set in a procedurally-generated purgatory inspired by viking culture. Battle, build, and conquer your way to a saga worthy of Odin’s patronage! Open World Survival Craft, Survival, Open World, Multiplayer, Building, Crafting, Exploration</td>\n",
       "    </tr>\n",
       "    <tr>\n",
       "      <th>96</th>\n",
       "      <td>96</td>\n",
       "      <td>Guild Wars 2</td>\n",
       "      <td>Guild Wars 2 is an award-winning online roleplaying game with fast-paced action combat, deep character customization, and no subscription fee required. Choose from an arsenal of professions and weapons, explore a vast open world, compete in PVP modes and more. Join over 16 million players now!</td>\n",
       "      <td>Massively Multiplayer Online Role-Playing Game, Adventure, Role-Playing Game, Fantasy, Character Customization, Third Person, 3D</td>\n",
       "      <td>Guild Wars 2 is an award-winning online roleplaying game with fast-paced action combat, deep character customization, and no subscription fee required. Choose from an arsenal of professions and weapons, explore a vast open world, compete in PVP modes and more. Join over 16 million players now! Massively Multiplayer Online Role-Playing Game, Adventure, Role-Playing Game, Fantasy, Character Customization, Third Person, 3D</td>\n",
       "    </tr>\n",
       "    <tr>\n",
       "      <th>97</th>\n",
       "      <td>97</td>\n",
       "      <td>Dying Light</td>\n",
       "      <td>First-person action survival game set in a post-apocalyptic open world overrun by flesh-hungry zombies. Roam a city devastated by a mysterious virus epidemic. Scavenge for supplies, craft weapons, and face hordes of the infected.</td>\n",
       "      <td>Zombies, Survival Horror, Horror, Open World, Parkour, First-Person, Survival</td>\n",
       "      <td>First-person action survival game set in a post-apocalyptic open world overrun by flesh-hungry zombies. Roam a city devastated by a mysterious virus epidemic. Scavenge for supplies, craft weapons, and face hordes of the infected. Zombies, Survival Horror, Horror, Open World, Parkour, First-Person, Survival</td>\n",
       "    </tr>\n",
       "    <tr>\n",
       "      <th>98</th>\n",
       "      <td>98</td>\n",
       "      <td>BlazBlue Entropy Effect</td>\n",
       "      <td>Experience the brilliant action combat gameplay! The pinnacle of roguelite action games!</td>\n",
       "      <td>Action Roguelike, Action-Adventure, Platformer, Metroidvania, Pixel Graphics, Replay Value, Procedural Generation</td>\n",
       "      <td>Experience the brilliant action combat gameplay! The pinnacle of roguelite action games! Action Roguelike, Action-Adventure, Platformer, Metroidvania, Pixel Graphics, Replay Value, Procedural Generation</td>\n",
       "    </tr>\n",
       "    <tr>\n",
       "      <th>99</th>\n",
       "      <td>99</td>\n",
       "      <td>Marvel’s Spider-Man Remastered</td>\n",
       "      <td>In Marvel’s Spider-Man Remastered, the worlds of Peter Parker and Spider-Man collide in an original action-packed story. Play as an experienced Peter Parker, fighting big crime and iconic villains in Marvel’s New York. Web-swing through vibrant neighborhoods and defeat villains with epic takedowns.</td>\n",
       "      <td>Superhero, Open World, Action, Singleplayer, Story Rich, Adventure, Combat</td>\n",
       "      <td>In Marvel’s Spider-Man Remastered, the worlds of Peter Parker and Spider-Man collide in an original action-packed story. Play as an experienced Peter Parker, fighting big crime and iconic villains in Marvel’s New York. Web-swing through vibrant neighborhoods and defeat villains with epic takedowns. Superhero, Open World, Action, Singleplayer, Story Rich, Adventure, Combat</td>\n",
       "    </tr>\n",
       "  </tbody>\n",
       "</table>\n",
       "<p>100 rows × 5 columns</p>\n",
       "</div>"
      ],
      "text/plain": [
       "    index                             Title  \\\n",
       "0       0                   Baldur's Gate 3   \n",
       "1       1  Counter-Strike: Global Offensive   \n",
       "2       2                     Apex Legends™   \n",
       "3       3                   Forza Horizon 5   \n",
       "4       4                     Call of Duty®   \n",
       "..    ...                               ...   \n",
       "95     95                           Valheim   \n",
       "96     96                      Guild Wars 2   \n",
       "97     97                       Dying Light   \n",
       "98     98           BlazBlue Entropy Effect   \n",
       "99     99    Marvel’s Spider-Man Remastered   \n",
       "\n",
       "                                                                                                                                                                                                                                                                                               Game Description  \\\n",
       "0                                                                                               Baldur’s Gate 3 is a story-rich, party-based RPG set in the universe of Dungeons & Dragons, where your choices shape a tale of fellowship and betrayal, survival and sacrifice, and the lure of absolute power.   \n",
       "1                           Counter-Strike: Global Offensive (CS: GO) expands upon the team-based action gameplay that it pioneered when it was launched 19 years ago. CS: GO features new maps, characters, weapons, and game modes, and delivers updated versions of the classic CS content (de_dust2, etc.).   \n",
       "2                  Apex Legends is the award-winning, free-to-play Hero Shooter from Respawn Entertainment. Master an ever-growing roster of legendary characters with powerful abilities, and experience strategic squad play and innovative gameplay in the next evolution of Hero Shooter and Battle Royale.   \n",
       "3              Your Ultimate Horizon Adventure awaits! Explore the vibrant open world landscapes of Mexico with limitless, fun driving action in the world’s greatest cars. Conquer the rugged Sierra Nueva in the ultimate Horizon Rally experience. Requires Forza Horizon 5 game, expansion sold separately.   \n",
       "4                                                                                                                                                                                  Welcome to Call of Duty® HQ, the home of Call of Duty®: Modern Warfare® III, Call of Duty®: Modern Warfare® II and Warzone™.   \n",
       "..                                                                                                                                                                                                                                                                                                          ...   \n",
       "95                                                                                                     A brutal exploration and survival game for 1-10 players, set in a procedurally-generated purgatory inspired by viking culture. Battle, build, and conquer your way to a saga worthy of Odin’s patronage!   \n",
       "96       Guild Wars 2 is an award-winning online roleplaying game with fast-paced action combat, deep character customization, and no subscription fee required. Choose from an arsenal of professions and weapons, explore a vast open world, compete in PVP modes and more. Join over 16 million players now!   \n",
       "97                                                                        First-person action survival game set in a post-apocalyptic open world overrun by flesh-hungry zombies. Roam a city devastated by a mysterious virus epidemic. Scavenge for supplies, craft weapons, and face hordes of the infected.   \n",
       "98                                                                                                                                                                                                                     Experience the brilliant action combat gameplay! The pinnacle of roguelite action games!   \n",
       "99  In Marvel’s Spider-Man Remastered, the worlds of Peter Parker and Spider-Man collide in an original action-packed story. Play as an experienced Peter Parker, fighting big crime and iconic villains in Marvel’s New York. Web-swing through vibrant neighborhoods and defeat villains with epic takedowns.   \n",
       "\n",
       "                                                                                                                        Popular Tags  \\\n",
       "0                               Role-Playing Game, Choices Matter, Character Customization, Story Rich, Adventure, CRPG, Multiplayer   \n",
       "1                                               First Person Shooter, Shooter, Multiplayer, Competitive, Action, Team-Based, eSports   \n",
       "2                              Multiplayer, Battle Royale, Shooter, First Person Shooter, First-Person, Player versus Player, Action   \n",
       "3                                                     Racing, Open World, Driving, Multiplayer, Automobile Sim, Realistic, Adventure   \n",
       "4                                           First Person Shooter, Multiplayer, Shooter, Action, Singleplayer, Military, First-Person   \n",
       "..                                                                                                                               ...   \n",
       "95                                     Open World Survival Craft, Survival, Open World, Multiplayer, Building, Crafting, Exploration   \n",
       "96  Massively Multiplayer Online Role-Playing Game, Adventure, Role-Playing Game, Fantasy, Character Customization, Third Person, 3D   \n",
       "97                                                     Zombies, Survival Horror, Horror, Open World, Parkour, First-Person, Survival   \n",
       "98                 Action Roguelike, Action-Adventure, Platformer, Metroidvania, Pixel Graphics, Replay Value, Procedural Generation   \n",
       "99                                                        Superhero, Open World, Action, Singleplayer, Story Rich, Adventure, Combat   \n",
       "\n",
       "                                                                                                                                                                                                                                                                                                                                                                                                                       Description and Tags  \n",
       "0                                                                                                                      Baldur’s Gate 3 is a story-rich, party-based RPG set in the universe of Dungeons & Dragons, where your choices shape a tale of fellowship and betrayal, survival and sacrifice, and the lure of absolute power. Role-Playing Game, Choices Matter, Character Customization, Story Rich, Adventure, CRPG, Multiplayer  \n",
       "1                                                                  Counter-Strike: Global Offensive (CS: GO) expands upon the team-based action gameplay that it pioneered when it was launched 19 years ago. CS: GO features new maps, characters, weapons, and game modes, and delivers updated versions of the classic CS content (de_dust2, etc.). First Person Shooter, Shooter, Multiplayer, Competitive, Action, Team-Based, eSports  \n",
       "2                                        Apex Legends is the award-winning, free-to-play Hero Shooter from Respawn Entertainment. Master an ever-growing roster of legendary characters with powerful abilities, and experience strategic squad play and innovative gameplay in the next evolution of Hero Shooter and Battle Royale. Multiplayer, Battle Royale, Shooter, First Person Shooter, First-Person, Player versus Player, Action  \n",
       "3                                                           Your Ultimate Horizon Adventure awaits! Explore the vibrant open world landscapes of Mexico with limitless, fun driving action in the world’s greatest cars. Conquer the rugged Sierra Nueva in the ultimate Horizon Rally experience. Requires Forza Horizon 5 game, expansion sold separately. Racing, Open World, Driving, Multiplayer, Automobile Sim, Realistic, Adventure  \n",
       "4                                                                                                                                                                                                                     Welcome to Call of Duty® HQ, the home of Call of Duty®: Modern Warfare® III, Call of Duty®: Modern Warfare® II and Warzone™. First Person Shooter, Multiplayer, Shooter, Action, Singleplayer, Military, First-Person  \n",
       "..                                                                                                                                                                                                                                                                                                                                                                                                                                      ...  \n",
       "95                                                                                                                                   A brutal exploration and survival game for 1-10 players, set in a procedurally-generated purgatory inspired by viking culture. Battle, build, and conquer your way to a saga worthy of Odin’s patronage! Open World Survival Craft, Survival, Open World, Multiplayer, Building, Crafting, Exploration  \n",
       "96  Guild Wars 2 is an award-winning online roleplaying game with fast-paced action combat, deep character customization, and no subscription fee required. Choose from an arsenal of professions and weapons, explore a vast open world, compete in PVP modes and more. Join over 16 million players now! Massively Multiplayer Online Role-Playing Game, Adventure, Role-Playing Game, Fantasy, Character Customization, Third Person, 3D  \n",
       "97                                                                                                                      First-person action survival game set in a post-apocalyptic open world overrun by flesh-hungry zombies. Roam a city devastated by a mysterious virus epidemic. Scavenge for supplies, craft weapons, and face hordes of the infected. Zombies, Survival Horror, Horror, Open World, Parkour, First-Person, Survival  \n",
       "98                                                                                                                                                                                                                               Experience the brilliant action combat gameplay! The pinnacle of roguelite action games! Action Roguelike, Action-Adventure, Platformer, Metroidvania, Pixel Graphics, Replay Value, Procedural Generation  \n",
       "99                                                   In Marvel’s Spider-Man Remastered, the worlds of Peter Parker and Spider-Man collide in an original action-packed story. Play as an experienced Peter Parker, fighting big crime and iconic villains in Marvel’s New York. Web-swing through vibrant neighborhoods and defeat villains with epic takedowns. Superhero, Open World, Action, Singleplayer, Story Rich, Adventure, Combat  \n",
       "\n",
       "[100 rows x 5 columns]"
      ]
     },
     "execution_count": 7,
     "metadata": {},
     "output_type": "execute_result"
    }
   ],
   "source": [
    "# Ideas:\n",
    "# ngrams\n",
    "# train better lmao\n",
    "\n",
    "pd.set_option('display.max_colwidth', None)\n",
    "sample_descriptions"
   ]
  },
  {
   "cell_type": "code",
   "execution_count": 8,
   "metadata": {},
   "outputs": [],
   "source": [
    "sample_descriptions[\"tokenize_desc\"] = sample_descriptions[\"Game Description\"].apply(tokenize)\n",
    "\n",
    "sample_descriptions[\"tokenize_tag\"] = sample_descriptions[\"Popular Tags\"].apply(tokenize)\n",
    "\n",
    "sample_descriptions[\"tokenize_desc_tag\"] = sample_descriptions[\"Description and Tags\"].apply(tokenize)"
   ]
  },
  {
   "cell_type": "markdown",
   "metadata": {},
   "source": [
    "## Visualization"
   ]
  },
  {
   "cell_type": "markdown",
   "metadata": {},
   "source": [
    "Checking cosine similarity of tags."
   ]
  },
  {
   "cell_type": "code",
   "execution_count": 9,
   "metadata": {},
   "outputs": [],
   "source": [
    "# for i in range(10):\n",
    "#     s1, t1 = sample_descriptions.loc[i, [\"Title\", \"tokenize_tag\"]]\n",
    "#     s2, t2 = sample_descriptions.loc[i + 1, [\"Title\", \"tokenize_tag\"]]\n",
    "#     print(s1 + \" | \" + s2 + \" | \" + str(int(util.cos_sim(model.encode(t1), model.encode(t2)))))\n",
    "#     print()"
   ]
  },
  {
   "cell_type": "code",
   "execution_count": 10,
   "metadata": {},
   "outputs": [],
   "source": [
    "from sklearn.cluster import KMeans\n",
    "from sklearn.decomposition import PCA\n",
    "import numpy as np\n",
    "import pandas as pd\n",
    "import plotly.express as px"
   ]
  },
  {
   "cell_type": "code",
   "execution_count": 11,
   "metadata": {},
   "outputs": [],
   "source": [
    "def clustering(embeddings, num_clusters):\n",
    "    model = KMeans(n_clusters=num_clusters, random_state=RANDOM_STATE)\n",
    "    model.fit(embeddings)\n",
    "    return model.labels_\n",
    "\n",
    "def visualization(descriptions, embeddings, n_cluster=6):\n",
    "    X = np.array(embeddings)\n",
    "    pca = PCA(n_components=3, random_state=RANDOM_STATE)\n",
    "    result = pca.fit_transform(X)\n",
    "    df = pd.DataFrame({\n",
    "    'sent': descriptions[\"Title\"],\n",
    "    'cluster': clustering(embeddings, n_cluster).astype(str),\n",
    "    'x': result[:, 0],\n",
    "    'y': result[:, 1],\n",
    "    'z': result[:, 2]\n",
    "    })\n",
    "    fig = px.scatter_3d(df, x='x', y='y', z='z',\n",
    "              color='cluster', hover_name='sent',\n",
    "              range_x = [df.x.min()-0.5, df.x.max()+0.5],\n",
    "              range_y = [df.y.min()-0.5, df.y.max()+0.5],\n",
    "              range_z = [df.z.min()-0.5, df.z.max()+0.5])\n",
    "    fig.update_layout(\n",
    "    width=1280,   # Set the desired width\n",
    "    height=720   # Set the desired height\n",
    "    )\n",
    "    fig.update_traces(hovertemplate= '<b>%{hovertext}</b>')\n",
    "    fig.show()\n",
    "\n",
    "def visualize(model, df, col, n_cluster=6):\n",
    "    embeddings = model.encode(df[col].to_numpy())\n",
    "    visualization(df, embeddings, n_cluster)"
   ]
  },
  {
   "cell_type": "markdown",
   "metadata": {},
   "source": [
    "### Visualizing Descriptions"
   ]
  },
  {
   "cell_type": "code",
   "execution_count": 12,
   "metadata": {},
   "outputs": [
    {
     "name": "stderr",
     "output_type": "stream",
     "text": [
      "/Library/Frameworks/Python.framework/Versions/3.12/lib/python3.12/site-packages/transformers/models/mpnet/modeling_mpnet.py:1052: UserWarning: cumsum_out_mps supported by MPS on MacOS 13+, please upgrade (Triggered internally at /Users/runner/work/pytorch/pytorch/pytorch/aten/src/ATen/native/mps/operations/UnaryOps.mm:422.)\n",
      "  incremental_indices = torch.cumsum(mask, dim=1).type_as(mask) * mask\n",
      "/Library/Frameworks/Python.framework/Versions/3.12/lib/python3.12/site-packages/sklearn/cluster/_kmeans.py:1416: FutureWarning: The default value of `n_init` will change from 10 to 'auto' in 1.4. Set the value of `n_init` explicitly to suppress the warning\n",
      "  super()._check_params_vs_input(X, default_n_init=10)\n",
      "huggingface/tokenizers: The current process just got forked, after parallelism has already been used. Disabling parallelism to avoid deadlocks...\n",
      "To disable this warning, you can either:\n",
      "\t- Avoid using `tokenizers` before the fork if possible\n",
      "\t- Explicitly set the environment variable TOKENIZERS_PARALLELISM=(true | false)\n"
     ]
    },
    {
     "data": {
      "application/vnd.plotly.v1+json": {
       "config": {
        "plotlyServerURL": "https://plot.ly"
       },
       "data": [
        {
         "hovertemplate": "<b>%{hovertext}</b>",
         "hovertext": [
          "Baldur's Gate 3",
          "Counter-Strike: Global Offensive",
          "Apex Legends™",
          "PUBG: BATTLEGROUNDS",
          "Remnant II",
          "NARAKA: BLADEPOINT",
          "Tom Clancy's Rainbow Six® Siege",
          "Team Fortress 2",
          "Dota 2",
          "War Thunder",
          "FINAL FANTASY XIV Online",
          "The Elder Scrolls® Online",
          "Warframe",
          "BattleBit Remastered",
          "Street Fighter™ 6",
          "Destiny 2",
          "ELDEN RING",
          "Hearts of Iron IV",
          "Yu-Gi-Oh! Master Duel",
          "World of Warships",
          "Red Dead Redemption 2",
          "Hunt: Showdown",
          "Hogwarts Legacy",
          "Ready or Not",
          "Mount & Blade II: Bannerlord",
          "Sengoku Dynasty",
          "Wayfinder",
          "ARMORED CORE™ VI FIRES OF RUBICON™",
          "Path of Exile",
          "Terraria",
          "Stellaris",
          "Deep Rock Galactic",
          "World of Tanks Blitz",
          "Ratchet & Clank: Rift Apart",
          "Eternal Return",
          "The Elder Scrolls V: Skyrim Special Edition",
          "It Takes Two",
          "The Binding of Isaac: Rebirth",
          "Brawlhalla",
          "DRAGON BALL Z: KAKAROT",
          "New World",
          "Guild Wars 2",
          "BlazBlue Entropy Effect",
          "Marvel’s Spider-Man Remastered"
         ],
         "legendgroup": "1",
         "marker": {
          "color": "#636efa",
          "symbol": "circle"
         },
         "mode": "markers",
         "name": "1",
         "scene": "scene",
         "showlegend": true,
         "type": "scatter3d",
         "x": [
          -0.0678412914276123,
          0.2957114279270172,
          0.1392422765493393,
          0.19939671456813812,
          -0.14061543345451355,
          0.17176192998886108,
          0.10440050810575485,
          0.19225753843784332,
          0.24021314084529877,
          0.24282220005989075,
          0.05642426386475563,
          0.01722433604300022,
          0.06192335486412048,
          0.14649701118469238,
          0.3593868911266327,
          0.04868922755122185,
          -0.05439939349889755,
          0.06312134861946106,
          0.1459769457578659,
          0.1911582201719284,
          -0.015436805784702301,
          -0.00919900182634592,
          0.010172626934945583,
          0.02528320997953415,
          0.02003096044063568,
          -0.13577117025852203,
          -0.03407392278313637,
          0.1773960292339325,
          -0.16023749113082886,
          -0.0734279453754425,
          0.09548406302928925,
          0.01833490841090679,
          0.13605447113513947,
          0.05884268134832382,
          0.014113903045654297,
          0.15511715412139893,
          -0.04400109499692917,
          -0.08068976551294327,
          0.19415046274662018,
          0.1612798124551773,
          -0.1883331537246704,
          0.1792229413986206,
          0.07149559259414673,
          0.11692167073488235
         ],
         "y": [
          -0.18650071322917938,
          -0.05453832820057869,
          -0.17653368413448334,
          -0.13556253910064697,
          -0.21531251072883606,
          -0.29125723242759705,
          -0.06992336362600327,
          -0.12162377685308456,
          -0.09462898224592209,
          -0.14586086571216583,
          -0.23200909793376923,
          -0.3254188001155853,
          -0.40813905000686646,
          -0.10926893353462219,
          0.051289550960063934,
          -0.24143919348716736,
          -0.3251866102218628,
          -0.1584431231021881,
          -0.1519172638654709,
          -0.03757728263735771,
          -0.02938258834183216,
          0.01767067238688469,
          -0.16320140659809113,
          0.19931960105895996,
          -0.32810258865356445,
          -0.2016787827014923,
          -0.2501969039440155,
          -0.18634717166423798,
          -0.27328139543533325,
          -0.1448783129453659,
          -0.16226932406425476,
          -0.13722527027130127,
          -0.11680116504430771,
          -0.060049571096897125,
          -0.19613827764987946,
          -0.04684050753712654,
          -0.06293470412492752,
          -0.2197016328573227,
          -0.3095022737979889,
          -0.06951682269573212,
          -0.2731248438358307,
          -0.28546154499053955,
          -0.23320278525352478,
          -0.0010443705832585692
         ],
         "z": [
          0.11905774474143982,
          -0.14644397795200348,
          -0.2687044143676758,
          -0.17756769061088562,
          -0.17509222030639648,
          -0.029638024047017097,
          -0.24844767153263092,
          0.050846509635448456,
          -0.03488441929221153,
          -0.11906778067350388,
          0.27435263991355896,
          0.02944062277674675,
          -0.08751648664474487,
          -0.27393364906311035,
          -0.19838561117649078,
          -0.16290335357189178,
          0.29583773016929626,
          0.15663163363933563,
          -0.1445743590593338,
          0.1326719969511032,
          -0.1511535495519638,
          -0.3209457993507385,
          0.10482987016439438,
          -0.25134193897247314,
          0.16431058943271637,
          0.19021746516227722,
          0.1943596452474594,
          0.03150208294391632,
          0.1629427820444107,
          0.11884094029664993,
          0.14451175928115845,
          -0.1606919914484024,
          0.17877867817878723,
          -0.04507101699709892,
          -0.044336799532175064,
          0.06244105100631714,
          -0.059509675949811935,
          0.043337780982255936,
          -0.153655543923378,
          -0.04143339395523071,
          0.14491184055805206,
          -0.07208246737718582,
          0.0737503245472908,
          -0.2645845413208008
         ]
        },
        {
         "hovertemplate": "<b>%{hovertext}</b>",
         "hovertext": [
          "Forza Horizon 5",
          "The Sims™ 4",
          "Farming Simulator 22",
          "Cities: Skylines",
          "Microsoft Flight Simulator 40th Anniversary Edition",
          "BeamNG.drive",
          "Planet Zoo",
          "Garry's Mod"
         ],
         "legendgroup": "2",
         "marker": {
          "color": "#EF553B",
          "symbol": "circle"
         },
         "mode": "markers",
         "name": "2",
         "scene": "scene",
         "showlegend": true,
         "type": "scatter3d",
         "x": [
          0.305023729801178,
          0.039264384657144547,
          -0.13959196209907532,
          0.1432095170021057,
          0.3124922215938568,
          0.23575100302696228,
          0.04484036564826965,
          0.12141706049442291
         ],
         "y": [
          0.35577401518821716,
          0.1139487773180008,
          0.23495861887931824,
          0.1484752744436264,
          0.18073052167892456,
          0.425067275762558,
          0.2379039227962494,
          0.2281331866979599
         ],
         "z": [
          0.0019574835896492004,
          0.19028255343437195,
          0.3350399434566498,
          -0.04307563975453377,
          0.005112085957080126,
          0.10684213787317276,
          0.1401263177394867,
          0.2624736428260803
         ]
        },
        {
         "hovertemplate": "<b>%{hovertext}</b>",
         "hovertext": [
          "Call of Duty®",
          "Dead by Daylight",
          "PAYDAY 2",
          "Project Zomboid",
          "Fallout 76",
          "Call of Duty®: Black Ops III",
          "Dead Cells",
          "Vampire Survivors",
          "DayZ",
          "Dying Light"
         ],
         "legendgroup": "6",
         "marker": {
          "color": "#00cc96",
          "symbol": "circle"
         },
         "mode": "markers",
         "name": "6",
         "scene": "scene",
         "showlegend": true,
         "type": "scatter3d",
         "x": [
          0.13016976416110992,
          -0.21878668665885925,
          -0.015529077500104904,
          -0.327827125787735,
          -0.11449790000915527,
          -0.027858277782797813,
          -0.16041229665279388,
          -0.3276771605014801,
          -0.33902642130851746,
          -0.28331679105758667
         ],
         "y": [
          0.004868313204497099,
          0.10863953083753586,
          0.080257847905159,
          0.17181217670440674,
          0.05207819491624832,
          0.05352906510233879,
          0.009714570827782154,
          0.0665295422077179,
          0.14774970710277557,
          0.07997068762779236
         ],
         "z": [
          -0.1717480570077896,
          -0.2914808392524719,
          -0.44523540139198303,
          -0.1579202562570572,
          -0.19510307908058167,
          -0.2902434766292572,
          -0.12448515743017197,
          -0.22534987330436707,
          -0.20857639610767365,
          -0.25786346197128296
         ]
        },
        {
         "hovertemplate": "<b>%{hovertext}</b>",
         "hovertext": [
          "Cyberpunk 2077",
          "Rust",
          "Phasmophobia",
          "DAVE THE DIVER",
          "Sons Of The Forest",
          "The Texas Chain Saw Massacre",
          "Raft",
          "Sea of Thieves 2023 Edition",
          "Metro Exodus",
          "RimWorld",
          "ARK: Survival Evolved",
          "SCP: 5K",
          "Shadow Gambit: The Cursed Crew",
          "theHunter: Call of the Wild™",
          "Darkest Dungeon® II",
          "Graveyard Keeper",
          "Escape the Backrooms",
          "Don't Starve Together",
          "BOOK OF HOURS",
          "Valheim"
         ],
         "legendgroup": "7",
         "marker": {
          "color": "#ab63fa",
          "symbol": "circle"
         },
         "mode": "markers",
         "name": "7",
         "scene": "scene",
         "showlegend": true,
         "type": "scatter3d",
         "x": [
          0.016957463696599007,
          -0.4057137370109558,
          -0.25069430470466614,
          -0.11327999830245972,
          -0.37642887234687805,
          -0.2797282338142395,
          -0.2826181650161743,
          -0.0002575271937530488,
          -0.14305250346660614,
          -0.044805895537137985,
          -0.3745797872543335,
          -0.09326555579900742,
          -0.25011858344078064,
          -0.07222797721624374,
          -0.33634281158447266,
          -0.22666557133197784,
          -0.26529166102409363,
          -0.3052201271057129,
          -0.2568216919898987,
          -0.31358546018600464
         ],
         "y": [
          0.028513263911008835,
          0.17199112474918365,
          0.13598784804344177,
          0.026405388489365578,
          0.12252394109964371,
          0.3309881091117859,
          0.04744735732674599,
          0.10318580269813538,
          0.12926141917705536,
          0.09683456271886826,
          -0.11685622483491898,
          0.02521931752562523,
          -0.03825514763593674,
          0.032815925776958466,
          0.015490120276808739,
          0.1380009949207306,
          0.0007708321791142225,
          -0.09240973740816116,
          -0.05241761729121208,
          -0.22569993138313293
         ],
         "z": [
          0.0025946185924112797,
          0.07607079297304153,
          -0.18068887293338776,
          -0.015566506423056126,
          -0.05612226948142052,
          -0.19857501983642578,
          -0.05259303003549576,
          0.05819731578230858,
          0.09612585604190826,
          0.16119298338890076,
          0.04508715495467186,
          -0.13368777930736542,
          0.010218796320259571,
          -0.046163160353899,
          0.08604980260133743,
          0.28986600041389465,
          -0.18715998530387878,
          -0.032011259347200394,
          0.31762945652008057,
          0.08454611897468567
         ]
        },
        {
         "hovertemplate": "<b>%{hovertext}</b>",
         "hovertext": [
          "Grand Theft Auto V",
          "EA SPORTS™ FIFA 23",
          "Football Manager 2023",
          "Starfield",
          "Madden NFL 24",
          "F1® 23",
          "EA SPORTS FC™ 24"
         ],
         "legendgroup": "4",
         "marker": {
          "color": "#FFA15A",
          "symbol": "circle"
         },
         "mode": "markers",
         "name": "4",
         "scene": "scene",
         "showlegend": true,
         "type": "scatter3d",
         "x": [
          0.2764010727405548,
          0.4812472462654114,
          0.2019505351781845,
          0.2554902732372284,
          0.47690549492836,
          0.3535197973251343,
          0.3979153335094452
         ],
         "y": [
          0.254229336977005,
          0.12137997895479202,
          0.13281449675559998,
          -0.025564275681972504,
          0.22444532811641693,
          0.24661888182163239,
          0.0831088274717331
         ],
         "z": [
          -0.17042802274227142,
          0.004235238768160343,
          0.2159990519285202,
          0.05991757661104202,
          -0.011870753020048141,
          0.056652434170246124,
          0.0010157659417018294
         ]
        },
        {
         "hovertemplate": "<b>%{hovertext}</b>",
         "hovertext": [
          "Total War: WARHAMMER III",
          "Stardew Valley",
          "Crusader Kings III",
          "Sid Meier’s Civilization® VI"
         ],
         "legendgroup": "0",
         "marker": {
          "color": "#19d3f3",
          "symbol": "circle"
         },
         "mode": "markers",
         "name": "0",
         "scene": "scene",
         "showlegend": true,
         "type": "scatter3d",
         "x": [
          -0.05704384669661522,
          -0.1351429969072342,
          -0.10052892565727234,
          0.061126258224248886
         ],
         "y": [
          -0.12481535226106644,
          0.2869831323623657,
          -0.12846145033836365,
          -0.004926642868667841
         ],
         "z": [
          0.3102762699127197,
          0.286398708820343,
          0.45178738236427307,
          0.32550162076950073
         ]
        },
        {
         "hovertemplate": "<b>%{hovertext}</b>",
         "hovertext": [
          "Forza Horizon 4",
          "Euro Truck Simulator 2",
          "American Truck Simulator",
          "Contraband Police"
         ],
         "legendgroup": "3",
         "marker": {
          "color": "#FF6692",
          "symbol": "circle"
         },
         "mode": "markers",
         "name": "3",
         "scene": "scene",
         "showlegend": true,
         "type": "scatter3d",
         "x": [
          0.07421228289604187,
          0.16860303282737732,
          0.24293667078018188,
          -0.08291569352149963
         ],
         "y": [
          0.3732311725616455,
          0.40660345554351807,
          0.4744267165660858,
          0.3869093656539917
         ],
         "z": [
          0.2816466987133026,
          0.26370927691459656,
          0.02826792746782303,
          0.2944907546043396
         ]
        },
        {
         "hovertemplate": "<b>%{hovertext}</b>",
         "hovertext": [
          "The Outlast Trials",
          "Six Days in Fallujah",
          "Resident Evil 4"
         ],
         "legendgroup": "5",
         "marker": {
          "color": "#B6E880",
          "symbol": "circle"
         },
         "mode": "markers",
         "name": "5",
         "scene": "scene",
         "showlegend": true,
         "type": "scatter3d",
         "x": [
          -0.2751659154891968,
          -0.07625016570091248,
          -0.373245507478714
         ],
         "y": [
          0.15373468399047852,
          0.15048401057720184,
          0.3726039230823517
         ],
         "z": [
          -0.03991314023733139,
          -0.2595357298851013,
          -0.0955219715833664
         ]
        }
       ],
       "layout": {
        "height": 720,
        "legend": {
         "title": {
          "text": "cluster"
         },
         "tracegroupgap": 0
        },
        "margin": {
         "t": 60
        },
        "scene": {
         "domain": {
          "x": [
           0,
           1
          ],
          "y": [
           0,
           1
          ]
         },
         "xaxis": {
          "range": [
           -0.9057137370109558,
           0.9812472462654114
          ],
          "title": {
           "text": "x"
          }
         },
         "yaxis": {
          "range": [
           -0.9081390500068665,
           0.9744267165660858
          ],
          "title": {
           "text": "y"
          }
         },
         "zaxis": {
          "range": [
           -0.945235401391983,
           0.9517873823642731
          ],
          "title": {
           "text": "z"
          }
         }
        },
        "template": {
         "data": {
          "bar": [
           {
            "error_x": {
             "color": "#2a3f5f"
            },
            "error_y": {
             "color": "#2a3f5f"
            },
            "marker": {
             "line": {
              "color": "#E5ECF6",
              "width": 0.5
             },
             "pattern": {
              "fillmode": "overlay",
              "size": 10,
              "solidity": 0.2
             }
            },
            "type": "bar"
           }
          ],
          "barpolar": [
           {
            "marker": {
             "line": {
              "color": "#E5ECF6",
              "width": 0.5
             },
             "pattern": {
              "fillmode": "overlay",
              "size": 10,
              "solidity": 0.2
             }
            },
            "type": "barpolar"
           }
          ],
          "carpet": [
           {
            "aaxis": {
             "endlinecolor": "#2a3f5f",
             "gridcolor": "white",
             "linecolor": "white",
             "minorgridcolor": "white",
             "startlinecolor": "#2a3f5f"
            },
            "baxis": {
             "endlinecolor": "#2a3f5f",
             "gridcolor": "white",
             "linecolor": "white",
             "minorgridcolor": "white",
             "startlinecolor": "#2a3f5f"
            },
            "type": "carpet"
           }
          ],
          "choropleth": [
           {
            "colorbar": {
             "outlinewidth": 0,
             "ticks": ""
            },
            "type": "choropleth"
           }
          ],
          "contour": [
           {
            "colorbar": {
             "outlinewidth": 0,
             "ticks": ""
            },
            "colorscale": [
             [
              0,
              "#0d0887"
             ],
             [
              0.1111111111111111,
              "#46039f"
             ],
             [
              0.2222222222222222,
              "#7201a8"
             ],
             [
              0.3333333333333333,
              "#9c179e"
             ],
             [
              0.4444444444444444,
              "#bd3786"
             ],
             [
              0.5555555555555556,
              "#d8576b"
             ],
             [
              0.6666666666666666,
              "#ed7953"
             ],
             [
              0.7777777777777778,
              "#fb9f3a"
             ],
             [
              0.8888888888888888,
              "#fdca26"
             ],
             [
              1,
              "#f0f921"
             ]
            ],
            "type": "contour"
           }
          ],
          "contourcarpet": [
           {
            "colorbar": {
             "outlinewidth": 0,
             "ticks": ""
            },
            "type": "contourcarpet"
           }
          ],
          "heatmap": [
           {
            "colorbar": {
             "outlinewidth": 0,
             "ticks": ""
            },
            "colorscale": [
             [
              0,
              "#0d0887"
             ],
             [
              0.1111111111111111,
              "#46039f"
             ],
             [
              0.2222222222222222,
              "#7201a8"
             ],
             [
              0.3333333333333333,
              "#9c179e"
             ],
             [
              0.4444444444444444,
              "#bd3786"
             ],
             [
              0.5555555555555556,
              "#d8576b"
             ],
             [
              0.6666666666666666,
              "#ed7953"
             ],
             [
              0.7777777777777778,
              "#fb9f3a"
             ],
             [
              0.8888888888888888,
              "#fdca26"
             ],
             [
              1,
              "#f0f921"
             ]
            ],
            "type": "heatmap"
           }
          ],
          "heatmapgl": [
           {
            "colorbar": {
             "outlinewidth": 0,
             "ticks": ""
            },
            "colorscale": [
             [
              0,
              "#0d0887"
             ],
             [
              0.1111111111111111,
              "#46039f"
             ],
             [
              0.2222222222222222,
              "#7201a8"
             ],
             [
              0.3333333333333333,
              "#9c179e"
             ],
             [
              0.4444444444444444,
              "#bd3786"
             ],
             [
              0.5555555555555556,
              "#d8576b"
             ],
             [
              0.6666666666666666,
              "#ed7953"
             ],
             [
              0.7777777777777778,
              "#fb9f3a"
             ],
             [
              0.8888888888888888,
              "#fdca26"
             ],
             [
              1,
              "#f0f921"
             ]
            ],
            "type": "heatmapgl"
           }
          ],
          "histogram": [
           {
            "marker": {
             "pattern": {
              "fillmode": "overlay",
              "size": 10,
              "solidity": 0.2
             }
            },
            "type": "histogram"
           }
          ],
          "histogram2d": [
           {
            "colorbar": {
             "outlinewidth": 0,
             "ticks": ""
            },
            "colorscale": [
             [
              0,
              "#0d0887"
             ],
             [
              0.1111111111111111,
              "#46039f"
             ],
             [
              0.2222222222222222,
              "#7201a8"
             ],
             [
              0.3333333333333333,
              "#9c179e"
             ],
             [
              0.4444444444444444,
              "#bd3786"
             ],
             [
              0.5555555555555556,
              "#d8576b"
             ],
             [
              0.6666666666666666,
              "#ed7953"
             ],
             [
              0.7777777777777778,
              "#fb9f3a"
             ],
             [
              0.8888888888888888,
              "#fdca26"
             ],
             [
              1,
              "#f0f921"
             ]
            ],
            "type": "histogram2d"
           }
          ],
          "histogram2dcontour": [
           {
            "colorbar": {
             "outlinewidth": 0,
             "ticks": ""
            },
            "colorscale": [
             [
              0,
              "#0d0887"
             ],
             [
              0.1111111111111111,
              "#46039f"
             ],
             [
              0.2222222222222222,
              "#7201a8"
             ],
             [
              0.3333333333333333,
              "#9c179e"
             ],
             [
              0.4444444444444444,
              "#bd3786"
             ],
             [
              0.5555555555555556,
              "#d8576b"
             ],
             [
              0.6666666666666666,
              "#ed7953"
             ],
             [
              0.7777777777777778,
              "#fb9f3a"
             ],
             [
              0.8888888888888888,
              "#fdca26"
             ],
             [
              1,
              "#f0f921"
             ]
            ],
            "type": "histogram2dcontour"
           }
          ],
          "mesh3d": [
           {
            "colorbar": {
             "outlinewidth": 0,
             "ticks": ""
            },
            "type": "mesh3d"
           }
          ],
          "parcoords": [
           {
            "line": {
             "colorbar": {
              "outlinewidth": 0,
              "ticks": ""
             }
            },
            "type": "parcoords"
           }
          ],
          "pie": [
           {
            "automargin": true,
            "type": "pie"
           }
          ],
          "scatter": [
           {
            "fillpattern": {
             "fillmode": "overlay",
             "size": 10,
             "solidity": 0.2
            },
            "type": "scatter"
           }
          ],
          "scatter3d": [
           {
            "line": {
             "colorbar": {
              "outlinewidth": 0,
              "ticks": ""
             }
            },
            "marker": {
             "colorbar": {
              "outlinewidth": 0,
              "ticks": ""
             }
            },
            "type": "scatter3d"
           }
          ],
          "scattercarpet": [
           {
            "marker": {
             "colorbar": {
              "outlinewidth": 0,
              "ticks": ""
             }
            },
            "type": "scattercarpet"
           }
          ],
          "scattergeo": [
           {
            "marker": {
             "colorbar": {
              "outlinewidth": 0,
              "ticks": ""
             }
            },
            "type": "scattergeo"
           }
          ],
          "scattergl": [
           {
            "marker": {
             "colorbar": {
              "outlinewidth": 0,
              "ticks": ""
             }
            },
            "type": "scattergl"
           }
          ],
          "scattermapbox": [
           {
            "marker": {
             "colorbar": {
              "outlinewidth": 0,
              "ticks": ""
             }
            },
            "type": "scattermapbox"
           }
          ],
          "scatterpolar": [
           {
            "marker": {
             "colorbar": {
              "outlinewidth": 0,
              "ticks": ""
             }
            },
            "type": "scatterpolar"
           }
          ],
          "scatterpolargl": [
           {
            "marker": {
             "colorbar": {
              "outlinewidth": 0,
              "ticks": ""
             }
            },
            "type": "scatterpolargl"
           }
          ],
          "scatterternary": [
           {
            "marker": {
             "colorbar": {
              "outlinewidth": 0,
              "ticks": ""
             }
            },
            "type": "scatterternary"
           }
          ],
          "surface": [
           {
            "colorbar": {
             "outlinewidth": 0,
             "ticks": ""
            },
            "colorscale": [
             [
              0,
              "#0d0887"
             ],
             [
              0.1111111111111111,
              "#46039f"
             ],
             [
              0.2222222222222222,
              "#7201a8"
             ],
             [
              0.3333333333333333,
              "#9c179e"
             ],
             [
              0.4444444444444444,
              "#bd3786"
             ],
             [
              0.5555555555555556,
              "#d8576b"
             ],
             [
              0.6666666666666666,
              "#ed7953"
             ],
             [
              0.7777777777777778,
              "#fb9f3a"
             ],
             [
              0.8888888888888888,
              "#fdca26"
             ],
             [
              1,
              "#f0f921"
             ]
            ],
            "type": "surface"
           }
          ],
          "table": [
           {
            "cells": {
             "fill": {
              "color": "#EBF0F8"
             },
             "line": {
              "color": "white"
             }
            },
            "header": {
             "fill": {
              "color": "#C8D4E3"
             },
             "line": {
              "color": "white"
             }
            },
            "type": "table"
           }
          ]
         },
         "layout": {
          "annotationdefaults": {
           "arrowcolor": "#2a3f5f",
           "arrowhead": 0,
           "arrowwidth": 1
          },
          "autotypenumbers": "strict",
          "coloraxis": {
           "colorbar": {
            "outlinewidth": 0,
            "ticks": ""
           }
          },
          "colorscale": {
           "diverging": [
            [
             0,
             "#8e0152"
            ],
            [
             0.1,
             "#c51b7d"
            ],
            [
             0.2,
             "#de77ae"
            ],
            [
             0.3,
             "#f1b6da"
            ],
            [
             0.4,
             "#fde0ef"
            ],
            [
             0.5,
             "#f7f7f7"
            ],
            [
             0.6,
             "#e6f5d0"
            ],
            [
             0.7,
             "#b8e186"
            ],
            [
             0.8,
             "#7fbc41"
            ],
            [
             0.9,
             "#4d9221"
            ],
            [
             1,
             "#276419"
            ]
           ],
           "sequential": [
            [
             0,
             "#0d0887"
            ],
            [
             0.1111111111111111,
             "#46039f"
            ],
            [
             0.2222222222222222,
             "#7201a8"
            ],
            [
             0.3333333333333333,
             "#9c179e"
            ],
            [
             0.4444444444444444,
             "#bd3786"
            ],
            [
             0.5555555555555556,
             "#d8576b"
            ],
            [
             0.6666666666666666,
             "#ed7953"
            ],
            [
             0.7777777777777778,
             "#fb9f3a"
            ],
            [
             0.8888888888888888,
             "#fdca26"
            ],
            [
             1,
             "#f0f921"
            ]
           ],
           "sequentialminus": [
            [
             0,
             "#0d0887"
            ],
            [
             0.1111111111111111,
             "#46039f"
            ],
            [
             0.2222222222222222,
             "#7201a8"
            ],
            [
             0.3333333333333333,
             "#9c179e"
            ],
            [
             0.4444444444444444,
             "#bd3786"
            ],
            [
             0.5555555555555556,
             "#d8576b"
            ],
            [
             0.6666666666666666,
             "#ed7953"
            ],
            [
             0.7777777777777778,
             "#fb9f3a"
            ],
            [
             0.8888888888888888,
             "#fdca26"
            ],
            [
             1,
             "#f0f921"
            ]
           ]
          },
          "colorway": [
           "#636efa",
           "#EF553B",
           "#00cc96",
           "#ab63fa",
           "#FFA15A",
           "#19d3f3",
           "#FF6692",
           "#B6E880",
           "#FF97FF",
           "#FECB52"
          ],
          "font": {
           "color": "#2a3f5f"
          },
          "geo": {
           "bgcolor": "white",
           "lakecolor": "white",
           "landcolor": "#E5ECF6",
           "showlakes": true,
           "showland": true,
           "subunitcolor": "white"
          },
          "hoverlabel": {
           "align": "left"
          },
          "hovermode": "closest",
          "mapbox": {
           "style": "light"
          },
          "paper_bgcolor": "white",
          "plot_bgcolor": "#E5ECF6",
          "polar": {
           "angularaxis": {
            "gridcolor": "white",
            "linecolor": "white",
            "ticks": ""
           },
           "bgcolor": "#E5ECF6",
           "radialaxis": {
            "gridcolor": "white",
            "linecolor": "white",
            "ticks": ""
           }
          },
          "scene": {
           "xaxis": {
            "backgroundcolor": "#E5ECF6",
            "gridcolor": "white",
            "gridwidth": 2,
            "linecolor": "white",
            "showbackground": true,
            "ticks": "",
            "zerolinecolor": "white"
           },
           "yaxis": {
            "backgroundcolor": "#E5ECF6",
            "gridcolor": "white",
            "gridwidth": 2,
            "linecolor": "white",
            "showbackground": true,
            "ticks": "",
            "zerolinecolor": "white"
           },
           "zaxis": {
            "backgroundcolor": "#E5ECF6",
            "gridcolor": "white",
            "gridwidth": 2,
            "linecolor": "white",
            "showbackground": true,
            "ticks": "",
            "zerolinecolor": "white"
           }
          },
          "shapedefaults": {
           "line": {
            "color": "#2a3f5f"
           }
          },
          "ternary": {
           "aaxis": {
            "gridcolor": "white",
            "linecolor": "white",
            "ticks": ""
           },
           "baxis": {
            "gridcolor": "white",
            "linecolor": "white",
            "ticks": ""
           },
           "bgcolor": "#E5ECF6",
           "caxis": {
            "gridcolor": "white",
            "linecolor": "white",
            "ticks": ""
           }
          },
          "title": {
           "x": 0.05
          },
          "xaxis": {
           "automargin": true,
           "gridcolor": "white",
           "linecolor": "white",
           "ticks": "",
           "title": {
            "standoff": 15
           },
           "zerolinecolor": "white",
           "zerolinewidth": 2
          },
          "yaxis": {
           "automargin": true,
           "gridcolor": "white",
           "linecolor": "white",
           "ticks": "",
           "title": {
            "standoff": 15
           },
           "zerolinecolor": "white",
           "zerolinewidth": 2
          }
         }
        },
        "width": 1280
       }
      }
     },
     "metadata": {},
     "output_type": "display_data"
    }
   ],
   "source": [
    "visualize(model, sample_descriptions, \"tokenize_desc\", 8)"
   ]
  },
  {
   "cell_type": "markdown",
   "metadata": {},
   "source": [
    "### Visualizing Tags"
   ]
  },
  {
   "cell_type": "code",
   "execution_count": 13,
   "metadata": {},
   "outputs": [
    {
     "name": "stderr",
     "output_type": "stream",
     "text": [
      "/Library/Frameworks/Python.framework/Versions/3.12/lib/python3.12/site-packages/sklearn/cluster/_kmeans.py:1416: FutureWarning:\n",
      "\n",
      "The default value of `n_init` will change from 10 to 'auto' in 1.4. Set the value of `n_init` explicitly to suppress the warning\n",
      "\n"
     ]
    },
    {
     "data": {
      "application/vnd.plotly.v1+json": {
       "config": {
        "plotlyServerURL": "https://plot.ly"
       },
       "data": [
        {
         "hovertemplate": "<b>%{hovertext}</b>",
         "hovertext": [
          "Baldur's Gate 3",
          "Warframe",
          "DAVE THE DIVER",
          "Yu-Gi-Oh! Master Duel",
          "The Sims™ 4",
          "Red Dead Redemption 2",
          "Hogwarts Legacy",
          "Starfield",
          "Stardew Valley",
          "Sengoku Dynasty",
          "Sea of Thieves 2023 Edition",
          "Path of Exile",
          "Dead Cells",
          "Ratchet & Clank: Rift Apart",
          "Vampire Survivors",
          "Darkest Dungeon® II",
          "Graveyard Keeper",
          "The Elder Scrolls V: Skyrim Special Edition",
          "It Takes Two",
          "The Binding of Isaac: Rebirth",
          "DRAGON BALL Z: KAKAROT",
          "BOOK OF HOURS",
          "BlazBlue Entropy Effect",
          "Marvel’s Spider-Man Remastered"
         ],
         "legendgroup": "7",
         "marker": {
          "color": "#636efa",
          "symbol": "circle"
         },
         "mode": "markers",
         "name": "7",
         "scene": "scene",
         "showlegend": true,
         "type": "scatter3d",
         "x": [
          -0.034596800804138184,
          -0.1776987761259079,
          0.027515603229403496,
          -0.03038526140153408,
          0.1721017062664032,
          -0.09497208148241043,
          -0.026769815012812614,
          -0.07678956538438797,
          0.21029385924339294,
          0.08568622916936874,
          -0.027486640959978104,
          -0.1823219209909439,
          -0.2543562650680542,
          -0.24318724870681763,
          -0.2621459364891052,
          -0.2275325506925583,
          0.1290290504693985,
          0.007174273487180471,
          -0.13290640711784363,
          -0.19250817596912384,
          -0.14082194864749908,
          0.00001858576069935225,
          -0.11685246229171753,
          -0.17235217988491058
         ],
         "y": [
          -0.19375252723693848,
          -0.07313615083694458,
          -0.18342699110507965,
          0.07818952202796936,
          -0.06556914001703262,
          -0.16091938316822052,
          -0.2874261736869812,
          -0.31795117259025574,
          -0.15946316719055176,
          -0.3266823887825012,
          0.01849285326898098,
          -0.09929143637418747,
          -0.18756899237632751,
          -0.06514094769954681,
          -0.042581167072057724,
          -0.12635916471481323,
          -0.08067593723535538,
          -0.3239162862300873,
          0.024524925276637077,
          -0.33187103271484375,
          0.07495181262493134,
          -0.1734696626663208,
          -0.1570120006799698,
          -0.022121107205748558
         ],
         "z": [
          0.23224583268165588,
          0.23264548182487488,
          0.07359917461872101,
          0.13016122579574585,
          -0.13589951395988464,
          -0.07394950836896896,
          0.15805669128894806,
          0.15567399561405182,
          -0.02986021712422371,
          0.1483788639307022,
          -0.08197184652090073,
          0.14897313714027405,
          -0.07154204696416855,
          -0.06159145012497902,
          -0.1007034108042717,
          0.09451165050268173,
          -0.09250064939260483,
          0.18550942838191986,
          -0.05647501349449158,
          0.1346150040626526,
          0.04817478358745575,
          0.08829982578754425,
          -0.023146776482462883,
          -0.09050842374563217
         ]
        },
        {
         "hovertemplate": "<b>%{hovertext}</b>",
         "hovertext": [
          "Counter-Strike: Global Offensive",
          "Apex Legends™",
          "Call of Duty®",
          "PUBG: BATTLEGROUNDS",
          "NARAKA: BLADEPOINT",
          "Grand Theft Auto V",
          "Tom Clancy's Rainbow Six® Siege",
          "Team Fortress 2",
          "BattleBit Remastered",
          "Street Fighter™ 6",
          "Destiny 2",
          "PAYDAY 2",
          "Hunt: Showdown",
          "Ready or Not",
          "ARMORED CORE™ VI FIRES OF RUBICON™",
          "Microsoft Flight Simulator 40th Anniversary Edition",
          "Call of Duty®: Black Ops III",
          "Deep Rock Galactic",
          "World of Tanks Blitz",
          "SCP: 5K",
          "theHunter: Call of the Wild™",
          "DayZ",
          "Six Days in Fallujah",
          "Brawlhalla"
         ],
         "legendgroup": "0",
         "marker": {
          "color": "#EF553B",
          "symbol": "circle"
         },
         "mode": "markers",
         "name": "0",
         "scene": "scene",
         "showlegend": true,
         "type": "scatter3d",
         "x": [
          -0.08996620774269104,
          -0.19136691093444824,
          -0.18210533261299133,
          -0.20962829887866974,
          -0.14164716005325317,
          0.06688661873340607,
          -0.082891084253788,
          -0.20167970657348633,
          -0.10006089508533478,
          -0.12508618831634521,
          -0.15452997386455536,
          -0.20591433346271515,
          -0.12497371435165405,
          -0.12382213026285172,
          0.1355583667755127,
          0.16129188239574432,
          -0.24456524848937988,
          -0.07113313674926758,
          -0.07120127230882645,
          -0.28731727600097656,
          -0.02871481515467167,
          -0.1665496975183487,
          -0.09945138543844223,
          -0.17152881622314453
         ],
         "y": [
          0.3307327628135681,
          0.3512728810310364,
          0.26415741443634033,
          0.24621231853961945,
          0.18912926316261292,
          0.030079185962677002,
          0.3559880554676056,
          0.29205071926116943,
          0.30996736884117126,
          0.1684451550245285,
          0.1052756980061531,
          0.25954288244247437,
          0.10572594404220581,
          0.262337327003479,
          0.1957937777042389,
          0.10220614820718765,
          0.2716645896434784,
          0.18635611236095428,
          0.3314230740070343,
          0.23650267720222473,
          0.06995969265699387,
          0.13342373073101044,
          0.276875376701355,
          0.2201928049325943
         ],
         "z": [
          -0.014362340793013573,
          -0.018134161829948425,
          -0.013156299479305744,
          -0.12319987267255783,
          0.15784607827663422,
          -0.15703904628753662,
          -0.0063964626751840115,
          -0.008971895091235638,
          0.033015280961990356,
          -0.003656539134681225,
          0.13324567675590515,
          -0.15269102156162262,
          -0.08921542763710022,
          -0.02350752241909504,
          -0.04596860706806183,
          -0.2222767472267151,
          -0.1136038526892662,
          -0.15190383791923523,
          0.07218751311302185,
          -0.12945795059204102,
          -0.1857091188430786,
          -0.26621562242507935,
          0.04460720717906952,
          -0.0073151737451553345
         ]
        },
        {
         "hovertemplate": "<b>%{hovertext}</b>",
         "hovertext": [
          "Forza Horizon 5",
          "War Thunder",
          "Forza Horizon 4",
          "Euro Truck Simulator 2",
          "American Truck Simulator",
          "F1® 23",
          "BeamNG.drive"
         ],
         "legendgroup": "4",
         "marker": {
          "color": "#00cc96",
          "symbol": "circle"
         },
         "mode": "markers",
         "name": "4",
         "scene": "scene",
         "showlegend": true,
         "type": "scatter3d",
         "x": [
          0.22389477491378784,
          0.4300738275051117,
          0.2589254677295685,
          0.5429086089134216,
          0.5989793539047241,
          0.2241651564836502,
          0.5027880668640137
         ],
         "y": [
          -0.029174016788601875,
          0.15683726966381073,
          0.0375143364071846,
          -0.20450346171855927,
          -0.2080339640378952,
          0.17250722646713257,
          -0.13959640264511108
         ],
         "z": [
          -0.19334344565868378,
          0.16411182284355164,
          -0.19547471404075623,
          0.006519351154565811,
          0.009120967239141464,
          -0.2091352939605713,
          -0.10979094356298447
         ]
        },
        {
         "hovertemplate": "<b>%{hovertext}</b>",
         "hovertext": [
          "Remnant II",
          "Cyberpunk 2077",
          "Dead by Daylight",
          "Phasmophobia",
          "ELDEN RING",
          "Sons Of The Forest",
          "The Texas Chain Saw Massacre",
          "Fallout 76",
          "Metro Exodus",
          "The Outlast Trials",
          "Escape the Backrooms",
          "Contraband Police",
          "Resident Evil 4",
          "Dying Light"
         ],
         "legendgroup": "5",
         "marker": {
          "color": "#ab63fa",
          "symbol": "circle"
         },
         "mode": "markers",
         "name": "5",
         "scene": "scene",
         "showlegend": true,
         "type": "scatter3d",
         "x": [
          -0.32367023825645447,
          -0.02041678875684738,
          -0.23909711837768555,
          -0.1683133989572525,
          -0.23790231347084045,
          -0.11965691298246384,
          -0.2190680056810379,
          -0.09889417141675949,
          -0.19636566936969757,
          -0.22527877986431122,
          -0.271207720041275,
          0.12582778930664062,
          -0.31104525923728943,
          -0.11018963158130646
         ],
         "y": [
          -0.19339194893836975,
          -0.22572281956672668,
          -0.13649733364582062,
          -0.13805919885635376,
          -0.35785746574401855,
          -0.18628448247909546,
          -0.10243088006973267,
          -0.22976727783679962,
          -0.08518855273723602,
          -0.20174571871757507,
          -0.2511143088340759,
          -0.24023005366325378,
          -0.0185464508831501,
          -0.26572322845458984
         ],
         "z": [
          0.009326118975877762,
          0.053456325083971024,
          -0.22220589220523834,
          -0.2108943611383438,
          0.087271548807621,
          -0.29478418827056885,
          -0.03747004270553589,
          0.03132885694503784,
          -0.20274925231933594,
          -0.1396053582429886,
          -0.15963345766067505,
          -0.04802772402763367,
          -0.14986325800418854,
          -0.07753773778676987
         ]
        },
        {
         "hovertemplate": "<b>%{hovertext}</b>",
         "hovertext": [
          "Rust",
          "Project Zomboid",
          "Raft",
          "Farming Simulator 22",
          "Cities: Skylines",
          "RimWorld",
          "Terraria",
          "ARK: Survival Evolved",
          "Don't Starve Together",
          "Planet Zoo",
          "Garry's Mod",
          "Valheim"
         ],
         "legendgroup": "1",
         "marker": {
          "color": "#FFA15A",
          "symbol": "circle"
         },
         "mode": "markers",
         "name": "1",
         "scene": "scene",
         "showlegend": true,
         "type": "scatter3d",
         "x": [
          0.055905938148498535,
          -0.005969441030174494,
          0.13884848356246948,
          0.3927968144416809,
          0.34713947772979736,
          0.4146832227706909,
          0.04121419042348862,
          0.13638783991336823,
          0.0623859278857708,
          0.42539918422698975,
          0.13904045522212982,
          0.1001548022031784
         ],
         "y": [
          -0.035506196320056915,
          -0.07333922386169434,
          -0.13250304758548737,
          0.007732539437711239,
          0.06976620107889175,
          0.0159536674618721,
          -0.14111751317977905,
          -0.21942320466041565,
          -0.12604935467243195,
          -0.03210430592298508,
          -0.09646137058734894,
          -0.24704141914844513
         ],
         "z": [
          -0.23992450535297394,
          -0.3212207555770874,
          -0.2204972207546234,
          -0.19843563437461853,
          -0.2360135018825531,
          -0.18697988986968994,
          -0.32404741644859314,
          -0.20209035277366638,
          -0.26881712675094604,
          -0.23032456636428833,
          -0.03413830325007439,
          -0.13816191256046295
         ]
        },
        {
         "hovertemplate": "<b>%{hovertext}</b>",
         "hovertext": [
          "Dota 2",
          "FINAL FANTASY XIV Online",
          "The Elder Scrolls® Online",
          "World of Warships",
          "Wayfinder",
          "Eternal Return",
          "New World",
          "Guild Wars 2"
         ],
         "legendgroup": "2",
         "marker": {
          "color": "#19d3f3",
          "symbol": "circle"
         },
         "mode": "markers",
         "name": "2",
         "scene": "scene",
         "showlegend": true,
         "type": "scatter3d",
         "x": [
          0.0497678741812706,
          -0.01055537536740303,
          -0.05580313876271248,
          0.15434610843658447,
          -0.11280887573957443,
          -0.08254483342170715,
          -0.03973398357629776,
          -0.027736548334360123
         ],
         "y": [
          0.3475159704685211,
          -0.18807950615882874,
          -0.15828920900821686,
          0.1540462076663971,
          -0.0357360765337944,
          0.25106897950172424,
          -0.06060630828142166,
          -0.0354483388364315
         ],
         "z": [
          0.2912524938583374,
          0.44033339619636536,
          0.3324003219604492,
          0.35414940118789673,
          0.3714495897293091,
          0.14253033697605133,
          0.3734067380428314,
          0.28126442432403564
         ]
        },
        {
         "hovertemplate": "<b>%{hovertext}</b>",
         "hovertext": [
          "EA SPORTS™ FIFA 23",
          "Football Manager 2023",
          "Madden NFL 24",
          "EA SPORTS FC™ 24"
         ],
         "legendgroup": "6",
         "marker": {
          "color": "#FF6692",
          "symbol": "circle"
         },
         "mode": "markers",
         "name": "6",
         "scene": "scene",
         "showlegend": true,
         "type": "scatter3d",
         "x": [
          0.3405192196369171,
          0.33528101444244385,
          0.20070450007915497,
          0.15493471920490265
         ],
         "y": [
          0.3660745918750763,
          0.36928030848503113,
          0.3169495761394501,
          0.35771429538726807
         ],
         "z": [
          0.04211941733956337,
          -0.04591613635420799,
          0.015313374809920788,
          0.10772406309843063
         ]
        },
        {
         "hovertemplate": "<b>%{hovertext}</b>",
         "hovertext": [
          "Hearts of Iron IV",
          "Total War: WARHAMMER III",
          "Mount & Blade II: Bannerlord",
          "Stellaris",
          "Crusader Kings III",
          "Shadow Gambit: The Cursed Crew",
          "Sid Meier’s Civilization® VI"
         ],
         "legendgroup": "3",
         "marker": {
          "color": "#B6E880",
          "symbol": "circle"
         },
         "mode": "markers",
         "name": "3",
         "scene": "scene",
         "showlegend": true,
         "type": "scatter3d",
         "x": [
          0.30943095684051514,
          0.048725977540016174,
          0.08636511117219925,
          0.24499256908893585,
          0.2234678417444229,
          0.033571455627679825,
          0.0048943329602479935
         ],
         "y": [
          0.08504308760166168,
          -0.034993190318346024,
          0.022094106301665306,
          -0.11795339733362198,
          -0.0519750751554966,
          0.07296321541070938,
          0.08429327607154846
         ],
         "z": [
          0.44457945227622986,
          0.35883283615112305,
          0.10974068939685822,
          0.1841103881597519,
          0.3318493962287903,
          0.32372811436653137,
          0.31034615635871887
         ]
        }
       ],
       "layout": {
        "height": 720,
        "legend": {
         "title": {
          "text": "cluster"
         },
         "tracegroupgap": 0
        },
        "margin": {
         "t": 60
        },
        "scene": {
         "domain": {
          "x": [
           0,
           1
          ],
          "y": [
           0,
           1
          ]
         },
         "xaxis": {
          "range": [
           -0.8236702382564545,
           1.0989793539047241
          ],
          "title": {
           "text": "x"
          }
         },
         "yaxis": {
          "range": [
           -0.8578574657440186,
           0.8692803084850311
          ],
          "title": {
           "text": "y"
          }
         },
         "zaxis": {
          "range": [
           -0.8240474164485931,
           0.9445794522762299
          ],
          "title": {
           "text": "z"
          }
         }
        },
        "template": {
         "data": {
          "bar": [
           {
            "error_x": {
             "color": "#2a3f5f"
            },
            "error_y": {
             "color": "#2a3f5f"
            },
            "marker": {
             "line": {
              "color": "#E5ECF6",
              "width": 0.5
             },
             "pattern": {
              "fillmode": "overlay",
              "size": 10,
              "solidity": 0.2
             }
            },
            "type": "bar"
           }
          ],
          "barpolar": [
           {
            "marker": {
             "line": {
              "color": "#E5ECF6",
              "width": 0.5
             },
             "pattern": {
              "fillmode": "overlay",
              "size": 10,
              "solidity": 0.2
             }
            },
            "type": "barpolar"
           }
          ],
          "carpet": [
           {
            "aaxis": {
             "endlinecolor": "#2a3f5f",
             "gridcolor": "white",
             "linecolor": "white",
             "minorgridcolor": "white",
             "startlinecolor": "#2a3f5f"
            },
            "baxis": {
             "endlinecolor": "#2a3f5f",
             "gridcolor": "white",
             "linecolor": "white",
             "minorgridcolor": "white",
             "startlinecolor": "#2a3f5f"
            },
            "type": "carpet"
           }
          ],
          "choropleth": [
           {
            "colorbar": {
             "outlinewidth": 0,
             "ticks": ""
            },
            "type": "choropleth"
           }
          ],
          "contour": [
           {
            "colorbar": {
             "outlinewidth": 0,
             "ticks": ""
            },
            "colorscale": [
             [
              0,
              "#0d0887"
             ],
             [
              0.1111111111111111,
              "#46039f"
             ],
             [
              0.2222222222222222,
              "#7201a8"
             ],
             [
              0.3333333333333333,
              "#9c179e"
             ],
             [
              0.4444444444444444,
              "#bd3786"
             ],
             [
              0.5555555555555556,
              "#d8576b"
             ],
             [
              0.6666666666666666,
              "#ed7953"
             ],
             [
              0.7777777777777778,
              "#fb9f3a"
             ],
             [
              0.8888888888888888,
              "#fdca26"
             ],
             [
              1,
              "#f0f921"
             ]
            ],
            "type": "contour"
           }
          ],
          "contourcarpet": [
           {
            "colorbar": {
             "outlinewidth": 0,
             "ticks": ""
            },
            "type": "contourcarpet"
           }
          ],
          "heatmap": [
           {
            "colorbar": {
             "outlinewidth": 0,
             "ticks": ""
            },
            "colorscale": [
             [
              0,
              "#0d0887"
             ],
             [
              0.1111111111111111,
              "#46039f"
             ],
             [
              0.2222222222222222,
              "#7201a8"
             ],
             [
              0.3333333333333333,
              "#9c179e"
             ],
             [
              0.4444444444444444,
              "#bd3786"
             ],
             [
              0.5555555555555556,
              "#d8576b"
             ],
             [
              0.6666666666666666,
              "#ed7953"
             ],
             [
              0.7777777777777778,
              "#fb9f3a"
             ],
             [
              0.8888888888888888,
              "#fdca26"
             ],
             [
              1,
              "#f0f921"
             ]
            ],
            "type": "heatmap"
           }
          ],
          "heatmapgl": [
           {
            "colorbar": {
             "outlinewidth": 0,
             "ticks": ""
            },
            "colorscale": [
             [
              0,
              "#0d0887"
             ],
             [
              0.1111111111111111,
              "#46039f"
             ],
             [
              0.2222222222222222,
              "#7201a8"
             ],
             [
              0.3333333333333333,
              "#9c179e"
             ],
             [
              0.4444444444444444,
              "#bd3786"
             ],
             [
              0.5555555555555556,
              "#d8576b"
             ],
             [
              0.6666666666666666,
              "#ed7953"
             ],
             [
              0.7777777777777778,
              "#fb9f3a"
             ],
             [
              0.8888888888888888,
              "#fdca26"
             ],
             [
              1,
              "#f0f921"
             ]
            ],
            "type": "heatmapgl"
           }
          ],
          "histogram": [
           {
            "marker": {
             "pattern": {
              "fillmode": "overlay",
              "size": 10,
              "solidity": 0.2
             }
            },
            "type": "histogram"
           }
          ],
          "histogram2d": [
           {
            "colorbar": {
             "outlinewidth": 0,
             "ticks": ""
            },
            "colorscale": [
             [
              0,
              "#0d0887"
             ],
             [
              0.1111111111111111,
              "#46039f"
             ],
             [
              0.2222222222222222,
              "#7201a8"
             ],
             [
              0.3333333333333333,
              "#9c179e"
             ],
             [
              0.4444444444444444,
              "#bd3786"
             ],
             [
              0.5555555555555556,
              "#d8576b"
             ],
             [
              0.6666666666666666,
              "#ed7953"
             ],
             [
              0.7777777777777778,
              "#fb9f3a"
             ],
             [
              0.8888888888888888,
              "#fdca26"
             ],
             [
              1,
              "#f0f921"
             ]
            ],
            "type": "histogram2d"
           }
          ],
          "histogram2dcontour": [
           {
            "colorbar": {
             "outlinewidth": 0,
             "ticks": ""
            },
            "colorscale": [
             [
              0,
              "#0d0887"
             ],
             [
              0.1111111111111111,
              "#46039f"
             ],
             [
              0.2222222222222222,
              "#7201a8"
             ],
             [
              0.3333333333333333,
              "#9c179e"
             ],
             [
              0.4444444444444444,
              "#bd3786"
             ],
             [
              0.5555555555555556,
              "#d8576b"
             ],
             [
              0.6666666666666666,
              "#ed7953"
             ],
             [
              0.7777777777777778,
              "#fb9f3a"
             ],
             [
              0.8888888888888888,
              "#fdca26"
             ],
             [
              1,
              "#f0f921"
             ]
            ],
            "type": "histogram2dcontour"
           }
          ],
          "mesh3d": [
           {
            "colorbar": {
             "outlinewidth": 0,
             "ticks": ""
            },
            "type": "mesh3d"
           }
          ],
          "parcoords": [
           {
            "line": {
             "colorbar": {
              "outlinewidth": 0,
              "ticks": ""
             }
            },
            "type": "parcoords"
           }
          ],
          "pie": [
           {
            "automargin": true,
            "type": "pie"
           }
          ],
          "scatter": [
           {
            "fillpattern": {
             "fillmode": "overlay",
             "size": 10,
             "solidity": 0.2
            },
            "type": "scatter"
           }
          ],
          "scatter3d": [
           {
            "line": {
             "colorbar": {
              "outlinewidth": 0,
              "ticks": ""
             }
            },
            "marker": {
             "colorbar": {
              "outlinewidth": 0,
              "ticks": ""
             }
            },
            "type": "scatter3d"
           }
          ],
          "scattercarpet": [
           {
            "marker": {
             "colorbar": {
              "outlinewidth": 0,
              "ticks": ""
             }
            },
            "type": "scattercarpet"
           }
          ],
          "scattergeo": [
           {
            "marker": {
             "colorbar": {
              "outlinewidth": 0,
              "ticks": ""
             }
            },
            "type": "scattergeo"
           }
          ],
          "scattergl": [
           {
            "marker": {
             "colorbar": {
              "outlinewidth": 0,
              "ticks": ""
             }
            },
            "type": "scattergl"
           }
          ],
          "scattermapbox": [
           {
            "marker": {
             "colorbar": {
              "outlinewidth": 0,
              "ticks": ""
             }
            },
            "type": "scattermapbox"
           }
          ],
          "scatterpolar": [
           {
            "marker": {
             "colorbar": {
              "outlinewidth": 0,
              "ticks": ""
             }
            },
            "type": "scatterpolar"
           }
          ],
          "scatterpolargl": [
           {
            "marker": {
             "colorbar": {
              "outlinewidth": 0,
              "ticks": ""
             }
            },
            "type": "scatterpolargl"
           }
          ],
          "scatterternary": [
           {
            "marker": {
             "colorbar": {
              "outlinewidth": 0,
              "ticks": ""
             }
            },
            "type": "scatterternary"
           }
          ],
          "surface": [
           {
            "colorbar": {
             "outlinewidth": 0,
             "ticks": ""
            },
            "colorscale": [
             [
              0,
              "#0d0887"
             ],
             [
              0.1111111111111111,
              "#46039f"
             ],
             [
              0.2222222222222222,
              "#7201a8"
             ],
             [
              0.3333333333333333,
              "#9c179e"
             ],
             [
              0.4444444444444444,
              "#bd3786"
             ],
             [
              0.5555555555555556,
              "#d8576b"
             ],
             [
              0.6666666666666666,
              "#ed7953"
             ],
             [
              0.7777777777777778,
              "#fb9f3a"
             ],
             [
              0.8888888888888888,
              "#fdca26"
             ],
             [
              1,
              "#f0f921"
             ]
            ],
            "type": "surface"
           }
          ],
          "table": [
           {
            "cells": {
             "fill": {
              "color": "#EBF0F8"
             },
             "line": {
              "color": "white"
             }
            },
            "header": {
             "fill": {
              "color": "#C8D4E3"
             },
             "line": {
              "color": "white"
             }
            },
            "type": "table"
           }
          ]
         },
         "layout": {
          "annotationdefaults": {
           "arrowcolor": "#2a3f5f",
           "arrowhead": 0,
           "arrowwidth": 1
          },
          "autotypenumbers": "strict",
          "coloraxis": {
           "colorbar": {
            "outlinewidth": 0,
            "ticks": ""
           }
          },
          "colorscale": {
           "diverging": [
            [
             0,
             "#8e0152"
            ],
            [
             0.1,
             "#c51b7d"
            ],
            [
             0.2,
             "#de77ae"
            ],
            [
             0.3,
             "#f1b6da"
            ],
            [
             0.4,
             "#fde0ef"
            ],
            [
             0.5,
             "#f7f7f7"
            ],
            [
             0.6,
             "#e6f5d0"
            ],
            [
             0.7,
             "#b8e186"
            ],
            [
             0.8,
             "#7fbc41"
            ],
            [
             0.9,
             "#4d9221"
            ],
            [
             1,
             "#276419"
            ]
           ],
           "sequential": [
            [
             0,
             "#0d0887"
            ],
            [
             0.1111111111111111,
             "#46039f"
            ],
            [
             0.2222222222222222,
             "#7201a8"
            ],
            [
             0.3333333333333333,
             "#9c179e"
            ],
            [
             0.4444444444444444,
             "#bd3786"
            ],
            [
             0.5555555555555556,
             "#d8576b"
            ],
            [
             0.6666666666666666,
             "#ed7953"
            ],
            [
             0.7777777777777778,
             "#fb9f3a"
            ],
            [
             0.8888888888888888,
             "#fdca26"
            ],
            [
             1,
             "#f0f921"
            ]
           ],
           "sequentialminus": [
            [
             0,
             "#0d0887"
            ],
            [
             0.1111111111111111,
             "#46039f"
            ],
            [
             0.2222222222222222,
             "#7201a8"
            ],
            [
             0.3333333333333333,
             "#9c179e"
            ],
            [
             0.4444444444444444,
             "#bd3786"
            ],
            [
             0.5555555555555556,
             "#d8576b"
            ],
            [
             0.6666666666666666,
             "#ed7953"
            ],
            [
             0.7777777777777778,
             "#fb9f3a"
            ],
            [
             0.8888888888888888,
             "#fdca26"
            ],
            [
             1,
             "#f0f921"
            ]
           ]
          },
          "colorway": [
           "#636efa",
           "#EF553B",
           "#00cc96",
           "#ab63fa",
           "#FFA15A",
           "#19d3f3",
           "#FF6692",
           "#B6E880",
           "#FF97FF",
           "#FECB52"
          ],
          "font": {
           "color": "#2a3f5f"
          },
          "geo": {
           "bgcolor": "white",
           "lakecolor": "white",
           "landcolor": "#E5ECF6",
           "showlakes": true,
           "showland": true,
           "subunitcolor": "white"
          },
          "hoverlabel": {
           "align": "left"
          },
          "hovermode": "closest",
          "mapbox": {
           "style": "light"
          },
          "paper_bgcolor": "white",
          "plot_bgcolor": "#E5ECF6",
          "polar": {
           "angularaxis": {
            "gridcolor": "white",
            "linecolor": "white",
            "ticks": ""
           },
           "bgcolor": "#E5ECF6",
           "radialaxis": {
            "gridcolor": "white",
            "linecolor": "white",
            "ticks": ""
           }
          },
          "scene": {
           "xaxis": {
            "backgroundcolor": "#E5ECF6",
            "gridcolor": "white",
            "gridwidth": 2,
            "linecolor": "white",
            "showbackground": true,
            "ticks": "",
            "zerolinecolor": "white"
           },
           "yaxis": {
            "backgroundcolor": "#E5ECF6",
            "gridcolor": "white",
            "gridwidth": 2,
            "linecolor": "white",
            "showbackground": true,
            "ticks": "",
            "zerolinecolor": "white"
           },
           "zaxis": {
            "backgroundcolor": "#E5ECF6",
            "gridcolor": "white",
            "gridwidth": 2,
            "linecolor": "white",
            "showbackground": true,
            "ticks": "",
            "zerolinecolor": "white"
           }
          },
          "shapedefaults": {
           "line": {
            "color": "#2a3f5f"
           }
          },
          "ternary": {
           "aaxis": {
            "gridcolor": "white",
            "linecolor": "white",
            "ticks": ""
           },
           "baxis": {
            "gridcolor": "white",
            "linecolor": "white",
            "ticks": ""
           },
           "bgcolor": "#E5ECF6",
           "caxis": {
            "gridcolor": "white",
            "linecolor": "white",
            "ticks": ""
           }
          },
          "title": {
           "x": 0.05
          },
          "xaxis": {
           "automargin": true,
           "gridcolor": "white",
           "linecolor": "white",
           "ticks": "",
           "title": {
            "standoff": 15
           },
           "zerolinecolor": "white",
           "zerolinewidth": 2
          },
          "yaxis": {
           "automargin": true,
           "gridcolor": "white",
           "linecolor": "white",
           "ticks": "",
           "title": {
            "standoff": 15
           },
           "zerolinecolor": "white",
           "zerolinewidth": 2
          }
         }
        },
        "width": 1280
       }
      }
     },
     "metadata": {},
     "output_type": "display_data"
    }
   ],
   "source": [
    "visualize(model, sample_descriptions, \"tokenize_tag\", 8)"
   ]
  },
  {
   "cell_type": "markdown",
   "metadata": {},
   "source": []
  },
  {
   "cell_type": "markdown",
   "metadata": {},
   "source": [
    "### Visualizing Combination: Description + Tags"
   ]
  },
  {
   "cell_type": "code",
   "execution_count": 14,
   "metadata": {},
   "outputs": [
    {
     "name": "stderr",
     "output_type": "stream",
     "text": [
      "/Library/Frameworks/Python.framework/Versions/3.12/lib/python3.12/site-packages/sklearn/cluster/_kmeans.py:1416: FutureWarning:\n",
      "\n",
      "The default value of `n_init` will change from 10 to 'auto' in 1.4. Set the value of `n_init` explicitly to suppress the warning\n",
      "\n"
     ]
    },
    {
     "data": {
      "application/vnd.plotly.v1+json": {
       "config": {
        "plotlyServerURL": "https://plot.ly"
       },
       "data": [
        {
         "hovertemplate": "<b>%{hovertext}</b>",
         "hovertext": [
          "Baldur's Gate 3",
          "Remnant II",
          "Phasmophobia",
          "DAVE THE DIVER",
          "ELDEN RING",
          "Sons Of The Forest",
          "Hogwarts Legacy",
          "Raft",
          "Sea of Thieves 2023 Edition",
          "Path of Exile",
          "Terraria",
          "Deep Rock Galactic",
          "Dead Cells",
          "Crusader Kings III",
          "ARK: Survival Evolved",
          "SCP: 5K",
          "Shadow Gambit: The Cursed Crew",
          "theHunter: Call of the Wild™",
          "Darkest Dungeon® II",
          "Graveyard Keeper",
          "The Elder Scrolls V: Skyrim Special Edition",
          "Escape the Backrooms",
          "Don't Starve Together",
          "The Binding of Isaac: Rebirth",
          "BOOK OF HOURS",
          "New World",
          "Valheim"
         ],
         "legendgroup": "3",
         "marker": {
          "color": "#636efa",
          "symbol": "circle"
         },
         "mode": "markers",
         "name": "3",
         "scene": "scene",
         "showlegend": true,
         "type": "scatter3d",
         "x": [
          -0.1636311560869217,
          -0.22607837617397308,
          -0.21414418518543243,
          -0.16034093499183655,
          -0.18173955380916595,
          -0.27289479970932007,
          -0.08199027180671692,
          -0.19938300549983978,
          0.04210353270173073,
          -0.20843921601772308,
          -0.17684830725193024,
          -0.09290997684001923,
          -0.22454461455345154,
          -0.05645264685153961,
          -0.347343385219574,
          -0.10300382971763611,
          -0.2311149537563324,
          -0.06104673072695732,
          -0.27253565192222595,
          -0.17984360456466675,
          0.07687874883413315,
          -0.29119327664375305,
          -0.27384456992149353,
          -0.21327628195285797,
          -0.2610459327697754,
          -0.23824411630630493,
          -0.38408347964286804
         ],
         "y": [
          -0.1799539178609848,
          -0.16044364869594574,
          0.22275742888450623,
          0.0453341118991375,
          -0.2650851607322693,
          0.31904980540275574,
          -0.14814577996730804,
          0.17451614141464233,
          0.087547667324543,
          -0.18017210066318512,
          -0.009599336422979832,
          -0.05626382678747177,
          0.06757895648479462,
          -0.14742012321949005,
          0.10394731909036636,
          0.08611968904733658,
          -0.02692708745598793,
          0.12821266055107117,
          0.14293161034584045,
          0.23475462198257446,
          -0.07246099412441254,
          0.1978200227022171,
          0.07219168543815613,
          -0.10263112187385559,
          -0.018050890415906906,
          -0.18174955248832703,
          -0.013186695985496044
         ],
         "z": [
          -0.10262582451105118,
          0.12984254956245422,
          0.18454338610172272,
          -0.06899066269397736,
          -0.2817859649658203,
          -0.04654527083039284,
          -0.11127334088087082,
          -0.10577794164419174,
          0.004379021469503641,
          -0.12523673474788666,
          -0.1526378095149994,
          0.12577937543392181,
          0.030295539647340775,
          -0.3925757110118866,
          -0.12505008280277252,
          0.13854829967021942,
          -0.047641780227422714,
          0.01356546115130186,
          0.04202020913362503,
          -0.31216275691986084,
          -0.06853426247835159,
          0.1526963859796524,
          -0.03266455605626106,
          -0.0733758732676506,
          -0.28036850690841675,
          -0.15962663292884827,
          -0.13137708604335785
         ]
        },
        {
         "hovertemplate": "<b>%{hovertext}</b>",
         "hovertext": [
          "Counter-Strike: Global Offensive",
          "Call of Duty®",
          "PUBG: BATTLEGROUNDS",
          "Dota 2",
          "War Thunder",
          "The Elder Scrolls® Online",
          "BattleBit Remastered",
          "Destiny 2",
          "Hearts of Iron IV",
          "Total War: WARHAMMER III",
          "World of Warships",
          "Red Dead Redemption 2",
          "Mount & Blade II: Bannerlord",
          "Wayfinder",
          "Stellaris",
          "Sid Meier’s Civilization® VI",
          "Guild Wars 2"
         ],
         "legendgroup": "2",
         "marker": {
          "color": "#EF553B",
          "symbol": "circle"
         },
         "mode": "markers",
         "name": "2",
         "scene": "scene",
         "showlegend": true,
         "type": "scatter3d",
         "x": [
          0.26324328780174255,
          0.13512173295021057,
          0.0736631378531456,
          0.21137461066246033,
          0.1933273822069168,
          -0.12782743573188782,
          0.0654129758477211,
          -0.05124838277697563,
          0.0545208714902401,
          -0.060573335736989975,
          0.12388750910758972,
          0.006304063368588686,
          -0.11972138285636902,
          -0.1446571797132492,
          0.028849119320511818,
          0.08952153474092484,
          0.01757672242820263
         ],
         "y": [
          -0.18860076367855072,
          -0.1263047158718109,
          -0.17653077840805054,
          -0.2577143907546997,
          -0.20536594092845917,
          -0.2671809196472168,
          -0.14990533888339996,
          -0.18904893100261688,
          -0.2508133053779602,
          -0.21214750409126282,
          -0.166116863489151,
          -0.021929306909441948,
          -0.2986868619918823,
          -0.23063665628433228,
          -0.1469700187444687,
          -0.16738930344581604,
          -0.33143535256385803
         ],
         "z": [
          0.1342153698205948,
          0.14810410141944885,
          0.1001003235578537,
          0.08724668622016907,
          0.11343666166067123,
          -0.1299000382423401,
          0.21897169947624207,
          0.15126635134220123,
          -0.05177804455161095,
          -0.1856137216091156,
          -0.08827624469995499,
          0.18763035535812378,
          -0.23219110071659088,
          -0.14928676187992096,
          -0.21087490022182465,
          -0.1462656557559967,
          -0.02072075940668583
         ]
        },
        {
         "hovertemplate": "<b>%{hovertext}</b>",
         "hovertext": [
          "Apex Legends™",
          "NARAKA: BLADEPOINT",
          "Tom Clancy's Rainbow Six® Siege",
          "Team Fortress 2",
          "FINAL FANTASY XIV Online",
          "Warframe",
          "Street Fighter™ 6",
          "Yu-Gi-Oh! Master Duel",
          "Hunt: Showdown",
          "Starfield",
          "ARMORED CORE™ VI FIRES OF RUBICON™",
          "World of Tanks Blitz",
          "Ratchet & Clank: Rift Apart",
          "Eternal Return",
          "It Takes Two",
          "Brawlhalla",
          "DRAGON BALL Z: KAKAROT",
          "BlazBlue Entropy Effect",
          "Marvel’s Spider-Man Remastered"
         ],
         "legendgroup": "6",
         "marker": {
          "color": "#00cc96",
          "symbol": "circle"
         },
         "mode": "markers",
         "name": "6",
         "scene": "scene",
         "showlegend": true,
         "type": "scatter3d",
         "x": [
          0.07327553629875183,
          0.04297168180346489,
          0.12203478068113327,
          0.1280663013458252,
          -0.03142572566866875,
          -0.09522701054811478,
          0.3348822295665741,
          0.05869590863585472,
          -0.026356231421232224,
          0.151075080037117,
          0.1727598011493683,
          0.11036287248134613,
          -0.06737332791090012,
          -0.07934390753507614,
          -0.022774770855903625,
          0.0455000139772892,
          0.06121416762471199,
          -0.06155497208237648,
          0.05208209902048111
         ],
         "y": [
          -0.2283504158258438,
          -0.34735816717147827,
          -0.1409495621919632,
          -0.20987381041049957,
          -0.2494303286075592,
          -0.29927384853363037,
          -0.08693021535873413,
          -0.252084344625473,
          0.03734676539897919,
          -0.11054090410470963,
          -0.16414570808410645,
          -0.26581522822380066,
          -0.03808624669909477,
          -0.235788494348526,
          0.013853956013917923,
          -0.29203125834465027,
          -0.2143470197916031,
          -0.17811521887779236,
          -0.07196506857872009
         ],
         "z": [
          0.2722328305244446,
          0.07102197408676147,
          0.30615222454071045,
          0.12089069932699203,
          -0.2048851102590561,
          0.0728112980723381,
          0.24974294006824493,
          0.1016867533326149,
          0.31470775604248047,
          -0.1034809947013855,
          0.028367752209305763,
          -0.003154501784592867,
          0.055696967989206314,
          0.032166142016649246,
          0.11235333234071732,
          0.11089577525854111,
          -0.014014950022101402,
          -0.043242622166872025,
          0.23559443652629852
         ]
        },
        {
         "hovertemplate": "<b>%{hovertext}</b>",
         "hovertext": [
          "Forza Horizon 5",
          "Grand Theft Auto V",
          "Forza Horizon 4",
          "Euro Truck Simulator 2",
          "American Truck Simulator",
          "F1® 23",
          "BeamNG.drive",
          "Contraband Police"
         ],
         "legendgroup": "4",
         "marker": {
          "color": "#ab63fa",
          "symbol": "circle"
         },
         "mode": "markers",
         "name": "4",
         "scene": "scene",
         "showlegend": true,
         "type": "scatter3d",
         "x": [
          0.41250115633010864,
          0.34790554642677307,
          0.23621752858161926,
          0.33947184681892395,
          0.4274117946624756,
          0.5023977160453796,
          0.4108985662460327,
          0.09550780057907104
         ],
         "y": [
          0.2665630280971527,
          0.18640165030956268,
          0.28896233439445496,
          0.2844683527946472,
          0.3763485848903656,
          0.15941812098026276,
          0.3596818447113037,
          0.3019925653934479
         ],
         "z": [
          -0.02980782650411129,
          0.149232879281044,
          -0.20035558938980103,
          -0.2881217300891876,
          -0.08518488705158234,
          -0.032989319413900375,
          -0.1503640115261078,
          -0.24534359574317932
         ]
        },
        {
         "hovertemplate": "<b>%{hovertext}</b>",
         "hovertext": [
          "Cyberpunk 2077",
          "Rust",
          "Dead by Daylight",
          "The Texas Chain Saw Massacre",
          "PAYDAY 2",
          "Project Zomboid",
          "Ready or Not",
          "Fallout 76",
          "Metro Exodus",
          "Call of Duty®: Black Ops III",
          "Vampire Survivors",
          "The Outlast Trials",
          "DayZ",
          "Six Days in Fallujah",
          "Resident Evil 4",
          "Dying Light"
         ],
         "legendgroup": "1",
         "marker": {
          "color": "#FFA15A",
          "symbol": "circle"
         },
         "mode": "markers",
         "name": "1",
         "scene": "scene",
         "showlegend": true,
         "type": "scatter3d",
         "x": [
          -0.020946016535162926,
          -0.17724765837192535,
          -0.17732542753219604,
          -0.1587597131729126,
          0.022182635962963104,
          -0.2614173889160156,
          0.10987861454486847,
          -0.1292974203824997,
          -0.0938514694571495,
          -0.036438461393117905,
          -0.3209982216358185,
          -0.2342236489057541,
          -0.21568724513053894,
          0.022725602611899376,
          -0.21288326382637024,
          -0.19393576681613922
         ],
         "y": [
          0.02734927088022232,
          0.24667492508888245,
          0.2053336203098297,
          0.28348228335380554,
          0.07307855784893036,
          0.2381768524646759,
          0.1444081813097,
          0.0897950530052185,
          0.1381675750017166,
          0.05283840000629425,
          0.17638514935970306,
          0.24796997010707855,
          0.25109508633613586,
          0.06246572732925415,
          0.35279932618141174,
          0.2505593001842499
         ],
         "z": [
          -0.023087147623300552,
          -0.0009224924724549055,
          0.31655943393707275,
          0.27331098914146423,
          0.43301260471343994,
          0.11511281877756119,
          0.27311971783638,
          0.11995415389537811,
          -0.027857327833771706,
          0.3176596164703369,
          0.23708175122737885,
          0.21881061792373657,
          0.2640129625797272,
          0.26032137870788574,
          0.24298498034477234,
          0.2392890453338623
         ]
        },
        {
         "hovertemplate": "<b>%{hovertext}</b>",
         "hovertext": [
          "EA SPORTS™ FIFA 23",
          "Football Manager 2023",
          "Madden NFL 24",
          "EA SPORTS FC™ 24"
         ],
         "legendgroup": "5",
         "marker": {
          "color": "#19d3f3",
          "symbol": "circle"
         },
         "mode": "markers",
         "name": "5",
         "scene": "scene",
         "showlegend": true,
         "type": "scatter3d",
         "x": [
          0.5214946269989014,
          0.4086512327194214,
          0.51674884557724,
          0.43910714983940125
         ],
         "y": [
          -0.009514461271464825,
          0.01457901205867529,
          0.02085324376821518,
          -0.04427936673164368
         ],
         "z": [
          0.04886876046657562,
          -0.069678895175457,
          0.0765981525182724,
          0.04528002440929413
         ]
        },
        {
         "hovertemplate": "<b>%{hovertext}</b>",
         "hovertext": [
          "The Sims™ 4",
          "Farming Simulator 22",
          "Stardew Valley",
          "Sengoku Dynasty",
          "Cities: Skylines",
          "Microsoft Flight Simulator 40th Anniversary Edition",
          "RimWorld",
          "Planet Zoo",
          "Garry's Mod"
         ],
         "legendgroup": "0",
         "marker": {
          "color": "#FF6692",
          "symbol": "circle"
         },
         "mode": "markers",
         "name": "0",
         "scene": "scene",
         "showlegend": true,
         "type": "scatter3d",
         "x": [
          0.026743967086076736,
          0.030112111940979958,
          -0.022300362586975098,
          -0.19842572510242462,
          0.1939881145954132,
          0.36128655076026917,
          0.020179251208901405,
          0.11953967809677124,
          0.15813714265823364
         ],
         "y": [
          0.09254526346921921,
          0.27027109265327454,
          0.2563857436180115,
          -0.12168180197477341,
          0.12067284435033798,
          0.10967117547988892,
          0.161397784948349,
          0.279127299785614,
          0.1855468451976776
         ],
         "z": [
          -0.3774377703666687,
          -0.36734244227409363,
          -0.36306440830230713,
          -0.2930019795894623,
          -0.05892326682806015,
          -0.04369764402508736,
          -0.2661537230014801,
          -0.2918662428855896,
          -0.2610359489917755
         ]
        }
       ],
       "layout": {
        "height": 720,
        "legend": {
         "title": {
          "text": "cluster"
         },
         "tracegroupgap": 0
        },
        "margin": {
         "t": 60
        },
        "scene": {
         "domain": {
          "x": [
           0,
           1
          ],
          "y": [
           0,
           1
          ]
         },
         "xaxis": {
          "range": [
           -0.884083479642868,
           1.0214946269989014
          ],
          "title": {
           "text": "x"
          }
         },
         "yaxis": {
          "range": [
           -0.8473581671714783,
           0.8763485848903656
          ],
          "title": {
           "text": "y"
          }
         },
         "zaxis": {
          "range": [
           -0.8925757110118866,
           0.9330126047134399
          ],
          "title": {
           "text": "z"
          }
         }
        },
        "template": {
         "data": {
          "bar": [
           {
            "error_x": {
             "color": "#2a3f5f"
            },
            "error_y": {
             "color": "#2a3f5f"
            },
            "marker": {
             "line": {
              "color": "#E5ECF6",
              "width": 0.5
             },
             "pattern": {
              "fillmode": "overlay",
              "size": 10,
              "solidity": 0.2
             }
            },
            "type": "bar"
           }
          ],
          "barpolar": [
           {
            "marker": {
             "line": {
              "color": "#E5ECF6",
              "width": 0.5
             },
             "pattern": {
              "fillmode": "overlay",
              "size": 10,
              "solidity": 0.2
             }
            },
            "type": "barpolar"
           }
          ],
          "carpet": [
           {
            "aaxis": {
             "endlinecolor": "#2a3f5f",
             "gridcolor": "white",
             "linecolor": "white",
             "minorgridcolor": "white",
             "startlinecolor": "#2a3f5f"
            },
            "baxis": {
             "endlinecolor": "#2a3f5f",
             "gridcolor": "white",
             "linecolor": "white",
             "minorgridcolor": "white",
             "startlinecolor": "#2a3f5f"
            },
            "type": "carpet"
           }
          ],
          "choropleth": [
           {
            "colorbar": {
             "outlinewidth": 0,
             "ticks": ""
            },
            "type": "choropleth"
           }
          ],
          "contour": [
           {
            "colorbar": {
             "outlinewidth": 0,
             "ticks": ""
            },
            "colorscale": [
             [
              0,
              "#0d0887"
             ],
             [
              0.1111111111111111,
              "#46039f"
             ],
             [
              0.2222222222222222,
              "#7201a8"
             ],
             [
              0.3333333333333333,
              "#9c179e"
             ],
             [
              0.4444444444444444,
              "#bd3786"
             ],
             [
              0.5555555555555556,
              "#d8576b"
             ],
             [
              0.6666666666666666,
              "#ed7953"
             ],
             [
              0.7777777777777778,
              "#fb9f3a"
             ],
             [
              0.8888888888888888,
              "#fdca26"
             ],
             [
              1,
              "#f0f921"
             ]
            ],
            "type": "contour"
           }
          ],
          "contourcarpet": [
           {
            "colorbar": {
             "outlinewidth": 0,
             "ticks": ""
            },
            "type": "contourcarpet"
           }
          ],
          "heatmap": [
           {
            "colorbar": {
             "outlinewidth": 0,
             "ticks": ""
            },
            "colorscale": [
             [
              0,
              "#0d0887"
             ],
             [
              0.1111111111111111,
              "#46039f"
             ],
             [
              0.2222222222222222,
              "#7201a8"
             ],
             [
              0.3333333333333333,
              "#9c179e"
             ],
             [
              0.4444444444444444,
              "#bd3786"
             ],
             [
              0.5555555555555556,
              "#d8576b"
             ],
             [
              0.6666666666666666,
              "#ed7953"
             ],
             [
              0.7777777777777778,
              "#fb9f3a"
             ],
             [
              0.8888888888888888,
              "#fdca26"
             ],
             [
              1,
              "#f0f921"
             ]
            ],
            "type": "heatmap"
           }
          ],
          "heatmapgl": [
           {
            "colorbar": {
             "outlinewidth": 0,
             "ticks": ""
            },
            "colorscale": [
             [
              0,
              "#0d0887"
             ],
             [
              0.1111111111111111,
              "#46039f"
             ],
             [
              0.2222222222222222,
              "#7201a8"
             ],
             [
              0.3333333333333333,
              "#9c179e"
             ],
             [
              0.4444444444444444,
              "#bd3786"
             ],
             [
              0.5555555555555556,
              "#d8576b"
             ],
             [
              0.6666666666666666,
              "#ed7953"
             ],
             [
              0.7777777777777778,
              "#fb9f3a"
             ],
             [
              0.8888888888888888,
              "#fdca26"
             ],
             [
              1,
              "#f0f921"
             ]
            ],
            "type": "heatmapgl"
           }
          ],
          "histogram": [
           {
            "marker": {
             "pattern": {
              "fillmode": "overlay",
              "size": 10,
              "solidity": 0.2
             }
            },
            "type": "histogram"
           }
          ],
          "histogram2d": [
           {
            "colorbar": {
             "outlinewidth": 0,
             "ticks": ""
            },
            "colorscale": [
             [
              0,
              "#0d0887"
             ],
             [
              0.1111111111111111,
              "#46039f"
             ],
             [
              0.2222222222222222,
              "#7201a8"
             ],
             [
              0.3333333333333333,
              "#9c179e"
             ],
             [
              0.4444444444444444,
              "#bd3786"
             ],
             [
              0.5555555555555556,
              "#d8576b"
             ],
             [
              0.6666666666666666,
              "#ed7953"
             ],
             [
              0.7777777777777778,
              "#fb9f3a"
             ],
             [
              0.8888888888888888,
              "#fdca26"
             ],
             [
              1,
              "#f0f921"
             ]
            ],
            "type": "histogram2d"
           }
          ],
          "histogram2dcontour": [
           {
            "colorbar": {
             "outlinewidth": 0,
             "ticks": ""
            },
            "colorscale": [
             [
              0,
              "#0d0887"
             ],
             [
              0.1111111111111111,
              "#46039f"
             ],
             [
              0.2222222222222222,
              "#7201a8"
             ],
             [
              0.3333333333333333,
              "#9c179e"
             ],
             [
              0.4444444444444444,
              "#bd3786"
             ],
             [
              0.5555555555555556,
              "#d8576b"
             ],
             [
              0.6666666666666666,
              "#ed7953"
             ],
             [
              0.7777777777777778,
              "#fb9f3a"
             ],
             [
              0.8888888888888888,
              "#fdca26"
             ],
             [
              1,
              "#f0f921"
             ]
            ],
            "type": "histogram2dcontour"
           }
          ],
          "mesh3d": [
           {
            "colorbar": {
             "outlinewidth": 0,
             "ticks": ""
            },
            "type": "mesh3d"
           }
          ],
          "parcoords": [
           {
            "line": {
             "colorbar": {
              "outlinewidth": 0,
              "ticks": ""
             }
            },
            "type": "parcoords"
           }
          ],
          "pie": [
           {
            "automargin": true,
            "type": "pie"
           }
          ],
          "scatter": [
           {
            "fillpattern": {
             "fillmode": "overlay",
             "size": 10,
             "solidity": 0.2
            },
            "type": "scatter"
           }
          ],
          "scatter3d": [
           {
            "line": {
             "colorbar": {
              "outlinewidth": 0,
              "ticks": ""
             }
            },
            "marker": {
             "colorbar": {
              "outlinewidth": 0,
              "ticks": ""
             }
            },
            "type": "scatter3d"
           }
          ],
          "scattercarpet": [
           {
            "marker": {
             "colorbar": {
              "outlinewidth": 0,
              "ticks": ""
             }
            },
            "type": "scattercarpet"
           }
          ],
          "scattergeo": [
           {
            "marker": {
             "colorbar": {
              "outlinewidth": 0,
              "ticks": ""
             }
            },
            "type": "scattergeo"
           }
          ],
          "scattergl": [
           {
            "marker": {
             "colorbar": {
              "outlinewidth": 0,
              "ticks": ""
             }
            },
            "type": "scattergl"
           }
          ],
          "scattermapbox": [
           {
            "marker": {
             "colorbar": {
              "outlinewidth": 0,
              "ticks": ""
             }
            },
            "type": "scattermapbox"
           }
          ],
          "scatterpolar": [
           {
            "marker": {
             "colorbar": {
              "outlinewidth": 0,
              "ticks": ""
             }
            },
            "type": "scatterpolar"
           }
          ],
          "scatterpolargl": [
           {
            "marker": {
             "colorbar": {
              "outlinewidth": 0,
              "ticks": ""
             }
            },
            "type": "scatterpolargl"
           }
          ],
          "scatterternary": [
           {
            "marker": {
             "colorbar": {
              "outlinewidth": 0,
              "ticks": ""
             }
            },
            "type": "scatterternary"
           }
          ],
          "surface": [
           {
            "colorbar": {
             "outlinewidth": 0,
             "ticks": ""
            },
            "colorscale": [
             [
              0,
              "#0d0887"
             ],
             [
              0.1111111111111111,
              "#46039f"
             ],
             [
              0.2222222222222222,
              "#7201a8"
             ],
             [
              0.3333333333333333,
              "#9c179e"
             ],
             [
              0.4444444444444444,
              "#bd3786"
             ],
             [
              0.5555555555555556,
              "#d8576b"
             ],
             [
              0.6666666666666666,
              "#ed7953"
             ],
             [
              0.7777777777777778,
              "#fb9f3a"
             ],
             [
              0.8888888888888888,
              "#fdca26"
             ],
             [
              1,
              "#f0f921"
             ]
            ],
            "type": "surface"
           }
          ],
          "table": [
           {
            "cells": {
             "fill": {
              "color": "#EBF0F8"
             },
             "line": {
              "color": "white"
             }
            },
            "header": {
             "fill": {
              "color": "#C8D4E3"
             },
             "line": {
              "color": "white"
             }
            },
            "type": "table"
           }
          ]
         },
         "layout": {
          "annotationdefaults": {
           "arrowcolor": "#2a3f5f",
           "arrowhead": 0,
           "arrowwidth": 1
          },
          "autotypenumbers": "strict",
          "coloraxis": {
           "colorbar": {
            "outlinewidth": 0,
            "ticks": ""
           }
          },
          "colorscale": {
           "diverging": [
            [
             0,
             "#8e0152"
            ],
            [
             0.1,
             "#c51b7d"
            ],
            [
             0.2,
             "#de77ae"
            ],
            [
             0.3,
             "#f1b6da"
            ],
            [
             0.4,
             "#fde0ef"
            ],
            [
             0.5,
             "#f7f7f7"
            ],
            [
             0.6,
             "#e6f5d0"
            ],
            [
             0.7,
             "#b8e186"
            ],
            [
             0.8,
             "#7fbc41"
            ],
            [
             0.9,
             "#4d9221"
            ],
            [
             1,
             "#276419"
            ]
           ],
           "sequential": [
            [
             0,
             "#0d0887"
            ],
            [
             0.1111111111111111,
             "#46039f"
            ],
            [
             0.2222222222222222,
             "#7201a8"
            ],
            [
             0.3333333333333333,
             "#9c179e"
            ],
            [
             0.4444444444444444,
             "#bd3786"
            ],
            [
             0.5555555555555556,
             "#d8576b"
            ],
            [
             0.6666666666666666,
             "#ed7953"
            ],
            [
             0.7777777777777778,
             "#fb9f3a"
            ],
            [
             0.8888888888888888,
             "#fdca26"
            ],
            [
             1,
             "#f0f921"
            ]
           ],
           "sequentialminus": [
            [
             0,
             "#0d0887"
            ],
            [
             0.1111111111111111,
             "#46039f"
            ],
            [
             0.2222222222222222,
             "#7201a8"
            ],
            [
             0.3333333333333333,
             "#9c179e"
            ],
            [
             0.4444444444444444,
             "#bd3786"
            ],
            [
             0.5555555555555556,
             "#d8576b"
            ],
            [
             0.6666666666666666,
             "#ed7953"
            ],
            [
             0.7777777777777778,
             "#fb9f3a"
            ],
            [
             0.8888888888888888,
             "#fdca26"
            ],
            [
             1,
             "#f0f921"
            ]
           ]
          },
          "colorway": [
           "#636efa",
           "#EF553B",
           "#00cc96",
           "#ab63fa",
           "#FFA15A",
           "#19d3f3",
           "#FF6692",
           "#B6E880",
           "#FF97FF",
           "#FECB52"
          ],
          "font": {
           "color": "#2a3f5f"
          },
          "geo": {
           "bgcolor": "white",
           "lakecolor": "white",
           "landcolor": "#E5ECF6",
           "showlakes": true,
           "showland": true,
           "subunitcolor": "white"
          },
          "hoverlabel": {
           "align": "left"
          },
          "hovermode": "closest",
          "mapbox": {
           "style": "light"
          },
          "paper_bgcolor": "white",
          "plot_bgcolor": "#E5ECF6",
          "polar": {
           "angularaxis": {
            "gridcolor": "white",
            "linecolor": "white",
            "ticks": ""
           },
           "bgcolor": "#E5ECF6",
           "radialaxis": {
            "gridcolor": "white",
            "linecolor": "white",
            "ticks": ""
           }
          },
          "scene": {
           "xaxis": {
            "backgroundcolor": "#E5ECF6",
            "gridcolor": "white",
            "gridwidth": 2,
            "linecolor": "white",
            "showbackground": true,
            "ticks": "",
            "zerolinecolor": "white"
           },
           "yaxis": {
            "backgroundcolor": "#E5ECF6",
            "gridcolor": "white",
            "gridwidth": 2,
            "linecolor": "white",
            "showbackground": true,
            "ticks": "",
            "zerolinecolor": "white"
           },
           "zaxis": {
            "backgroundcolor": "#E5ECF6",
            "gridcolor": "white",
            "gridwidth": 2,
            "linecolor": "white",
            "showbackground": true,
            "ticks": "",
            "zerolinecolor": "white"
           }
          },
          "shapedefaults": {
           "line": {
            "color": "#2a3f5f"
           }
          },
          "ternary": {
           "aaxis": {
            "gridcolor": "white",
            "linecolor": "white",
            "ticks": ""
           },
           "baxis": {
            "gridcolor": "white",
            "linecolor": "white",
            "ticks": ""
           },
           "bgcolor": "#E5ECF6",
           "caxis": {
            "gridcolor": "white",
            "linecolor": "white",
            "ticks": ""
           }
          },
          "title": {
           "x": 0.05
          },
          "xaxis": {
           "automargin": true,
           "gridcolor": "white",
           "linecolor": "white",
           "ticks": "",
           "title": {
            "standoff": 15
           },
           "zerolinecolor": "white",
           "zerolinewidth": 2
          },
          "yaxis": {
           "automargin": true,
           "gridcolor": "white",
           "linecolor": "white",
           "ticks": "",
           "title": {
            "standoff": 15
           },
           "zerolinecolor": "white",
           "zerolinewidth": 2
          }
         }
        },
        "width": 1280
       }
      }
     },
     "metadata": {},
     "output_type": "display_data"
    }
   ],
   "source": [
    "visualize(model, sample_descriptions, \"tokenize_desc_tag\", 7)"
   ]
  },
  {
   "cell_type": "markdown",
   "metadata": {},
   "source": [
    "## Fine Tuning"
   ]
  },
  {
   "cell_type": "code",
   "execution_count": 15,
   "metadata": {},
   "outputs": [],
   "source": [
    "import datasets\n",
    "import torch\n",
    "from sentence_transformers import(\n",
    "    losses,\n",
    "    evaluation,\n",
    "    SentenceTransformerTrainer,\n",
    "    SentenceTransformerTrainingArguments, \n",
    ")\n",
    "from tqdm import tqdm"
   ]
  },
  {
   "cell_type": "markdown",
   "metadata": {},
   "source": [
    "Create the training data"
   ]
  },
  {
   "cell_type": "code",
   "execution_count": 16,
   "metadata": {},
   "outputs": [],
   "source": [
    "train_df = game_df.sample(1000, random_state=RANDOM_STATE).reset_index()\n",
    "\n",
    "for idx, (tag, desc) in enumerate(zip(train_df[\"Popular Tags\"], train_df[\"Game Description\"])):\n",
    "    tag = deacronym(literal_eval(tag))\n",
    "    if \"Free to Play\" in tag:\n",
    "        tag.remove(\"Free to Play\")\n",
    "    if \"Early Access\" in tag:\n",
    "        tag.remove(\"Early Access\")\n",
    "    if \"Online Co-Op\" in tag:\n",
    "        tag.remove(\"Online Co-Op\")\n",
    "    if \"Co-Op\" in tag:\n",
    "        tag.remove(\"Co-Op\")\n",
    "\n",
    "    tag = \", \".join(tag[:7])\n",
    "\n",
    "    train_df.loc[idx, \"Popular Tags\"] = tag\n",
    "    train_df.loc[idx, \"Description and Tags\"] = desc + \" \" + tag\n",
    "\n",
    "train_df[\"tokenize_tag\"] = train_df[\"Popular Tags\"].apply(tokenize)\n",
    "train_df[\"enc_tag\"] = train_df[\"tokenize_tag\"].apply(model.encode)"
   ]
  },
  {
   "cell_type": "code",
   "execution_count": 17,
   "metadata": {},
   "outputs": [
    {
     "name": "stderr",
     "output_type": "stream",
     "text": [
      "Creating Training Examples: 100%|██████████| 1000/1000 [00:02<00:00, 441.48it/s]\n"
     ]
    }
   ],
   "source": [
    "# Uses Contrastive Loss\n",
    "# train_examples = []\n",
    "# for i in tqdm(range(len(train_df)), desc=\"Creating Training Examples\"):\n",
    "#         for j in random.sample(range(len(train_df)), 50):\n",
    "#         # Make an input with the similarity of their tags as the label\n",
    "#                 example = InputExample(\n",
    "#                         texts=[train_df.loc[i, \"Game Description\"], train_df.loc[j, \"Game Description\"]], \n",
    "#                         label=int(util.cos_sim(train_df.loc[i, \"enc_tag\"], train_df.loc[j, \"enc_tag\"])> 0.75))\n",
    "#                 train_examples.append(example)\n",
    "\n",
    "train_cols = [\"desc1\", \"desc2\", \"score\"]\n",
    "train_examples = []\n",
    "for i in tqdm(range(len(train_df)), desc=\"Creating Training Examples\"):\n",
    "        for j in random.sample(range(len(train_df)), 50):\n",
    "        # Make an input with the similarity of their tags as the label\n",
    "                example = [train_df.loc[i, \"Game Description\"], train_df.loc[j, \"Game Description\"], util.cos_sim(train_df.loc[i, \"enc_tag\"], train_df.loc[j, \"enc_tag\"]).item()]\n",
    "                train_examples.append(example)\n",
    "\n",
    "train_examples = pd.DataFrame(train_examples, columns=train_cols)\n",
    "train_dataset =  datasets.Dataset.from_pandas(train_examples)"
   ]
  },
  {
   "cell_type": "markdown",
   "metadata": {},
   "source": [
    "Creates arguments for training/tuning the model and specifies the loss function."
   ]
  },
  {
   "cell_type": "code",
   "execution_count": 18,
   "metadata": {},
   "outputs": [],
   "source": [
    "args = SentenceTransformerTrainingArguments(\n",
    "    # Required parameter:\n",
    "    output_dir=\"models/mpnet-base\",\n",
    "    # Optional training parameters:\n",
    "    num_train_epochs=1,\n",
    "    per_device_train_batch_size=16,\n",
    "    per_device_eval_batch_size=16,\n",
    "    warmup_ratio=0.1,\n",
    "    # Optional tracking/debugging parameters:\n",
    "    eval_strategy=\"steps\",\n",
    "    eval_steps=500,\n",
    "    save_strategy=\"steps\",\n",
    "    save_steps=500,\n",
    "    save_total_limit=2,\n",
    "    run_name=\"mpnet-base\",\n",
    ")\n",
    "\n",
    "train_loss = losses.CoSENTLoss(model)"
   ]
  },
  {
   "cell_type": "markdown",
   "metadata": {},
   "source": [
    "Creates an evaluator for the training/tuning."
   ]
  },
  {
   "cell_type": "code",
   "execution_count": 19,
   "metadata": {},
   "outputs": [],
   "source": [
    "sentences1 = [\n",
    "    \"Super Mario Galaxy 2, the sequel to the galaxy-hopping original game, includes the gravity-defying, physics-based exploration from the first game, but is loaded with entirely new galaxies and features to challenge players. On some stages, Mario can pair up with his dinosaur buddy Yoshi and use his tongue to grab items and spit them back at enemies. Players can also have fun with new items such as a drill that lets our hero tunnel through solid rock.\",\n",
    "    \"Going beyond 'run and gun corridors,' 'monster-closet AIs' and static worlds, BioShock creates a living, unique and unpredictable FPS experience. After your plane crashes into icy uncharted waters, you discover a rusted bathysphere and descend into Rapture, a city hidden beneath the sea. Constructed as an idealistic society for a hand picked group of scientists, artists and industrialists, the idealism is no more. Now the city is littered with corpses, wildly powerful guardians roam the corridors as little girls loot the dead, and genetically mutated citizens ambush you at every turn. Take control of your world by hacking mechanical devices, commandeering security turrets and crafting unique items critical to your very survival. Upgrade your weapons with ionic gels, explosives and toxins to customize them to the enemy and environment. Genetically modify your body through dozens of Plasmid Stations scattered throughout the city, empowering you with fantastic and often grotesque abilities. Explore a living world powered by Ecological A.I., where the inhabitants have interesting and consequential relationships with one another that impact your gameplay experience. Experience truly next generation graphics that vividly illustrate the forlorn art deco city, highlighted by the most detailed and realistic water effects ever developed in a video game. Make meaningful choices and mature decisions, ultimately culminating in the grand question: do you exploit the innocent survivors of Rapture...or save them?\",\n",
    "    \"Forget everything you know about The Legend of Zelda games. Step into a world of discovery, exploration and adventure in The Legend of Zelda: Breath of the Wild, a boundary-breaking new game in the acclaimed series. Travel across fields, through forests and to mountain peaks as you discover what has become of the ruined kingdom of Hyrule in this open-air adventure. Explore the wilds of Hyrule any way you like - Climb up towers and mountain peaks in search of new destinations, then set your own path to get there and plunge into the wilderness. Along the way, you'll battle towering enemies, hunt wild beasts and gather ingredients for the food and elixirs you'll need to sustain you on your journey. More than 100 Shrines of Trials to discover and explore - Shrines dot the landscape, waiting to be discovered in any order you want. Search for them in various ways, and solve a variety of puzzles inside. Work your way through the traps and devices inside to earn special items and other rewards that will help you on your adventure.\",\n",
    "    \"Developed by Rockstar San Diego, as a follow up to the 2004 hit game Red Dead Revolver, Red Dead Redemption is a Western epic, set at the turn of the 20th century when the lawless and chaotic badlands began to give way to the expanding reach of government and the spread of the Industrial Age. The story of former outlaw, John Marston, Red Dead Redemption takes players on a great adventure across the American frontier. Utilizing Rockstar's proprietary Rockstar Advanced Game Engine (RAGE), Red Dead Redemption features an open-world environment for players to explore, including frontier towns, rolling prairies teeming with wildlife, and perilous mountain passes - each packed with an endless flow of varied distractions. Along the way, players experience the heat of gunfights and battles, meet a host of unique characters, struggle against the harshness of one of the world’s last remaining wildernesses, and ultimately pick their own precarious path through an epic story about the death of the Wild West and the gunslingers that inhabited it.\",\n",
    "    \"Take Your Game Online: Access an online community where you can meet, chat, and play head-to-head against other gamers. Audio Dream Team: Dynamic play-by-play and analysis by Madden and Michaels. All-New Mini-camp: Hop on John Madden's Cruiser Tour Bus and travel to all NFL cities to complete skilled tasks. Create-A-Playbook: Customize receiver routes, player formations, and your team's entire playbook. Deepest Franchise Mode Ever: Play 30 years of Franchise mode and draft players each season with tips from your scouts.\",\n",
    "    \"The Covenant alien race threatens to destroy all humankind, and the only thing standing in its way is Master Chief, a genetically enhanced supersoldier. Master Chief returns in Halo 2, which features new vehicles, weapons, environments, and more. This time, you can interact with your environment, wield two weapons at the same time, board opponents' vehicles, and even switch sides to play the role of a Covenant Elite. Halo 2 also supports broadband multiplayer action via Xbox Live.\",\n",
    "    \"First Person Shooter\", \"Building\", \"Shooter\", \"Horror\", \"First Person\",\n",
    "    \"Shooter\", \"Zombie\", \"Farming\", \"Blood\", \"Horror\", \"Card\",\n",
    "    \"Survival\", \"Horror\", \"Life Sim\", \"Puzzle\", \"Fighting\", \"Magic\"\n",
    "]\n",
    "sentences2 = [\n",
    "    \"The ultimate Nintendo hero is taking the ultimate step ... out into space. Join Mario as he ushers in a new era of video games, defying gravity across all the planets in the galaxy. When some creature escapes into space with Princess Peach, Mario gives chase, exploring bizarre planets all across the galaxy. Mario, Peach and enemies new and old are here. Players run, jump and battle enemies as they explore all the planets in the galaxy. Since this game makes full use of all the features of the Wii Remote, players have to do all kinds of things to succeed: pressing buttons, swinging the Wii Remote and the Nunchuk, and even pointing at and dragging things with the pointer. Since he's in space, Mario can perform mind-bending jumps unlike anything he's done before. He'll also have a wealth of new moves that are all based around tilting, pointing and shaking the Wii Remote. Shake, tilt and point! Mario takes advantage of all the unique aspects of the Wii Remote and Nunchuk controller, unleashing new moves as players shake the controller and even point at and drag items with the pointer.\",\n",
    "    \"By taking the suspense, challenge and visceral charge of the original, and adding startling new realism and responsiveness, Half-Life 2 opens the door to a world where the player's presence affects everything around him, from the physical environment to the behaviors -- even the emotions -- of both friends and enemies. The player again picks up the crowbar of research scientist Gordon Freeman, who finds himself on an alien-infested Earth being picked to the bone, its resources depleted, its populace dwindling. Freeman is thrust into the unenviable role of rescuing the world from the wrong he unleashed back at Black Mesa. And a lot of people -- people he cares about -- are counting on him.\",\n",
    "    \"As a young boy, Link is tricked by Ganondorf, the King of the Gerudo Thieves. The evil human uses Link to gain access to the Sacred Realm, where he places his tainted hands on Triforce and transforms the beautiful Hyrulean landscape into a barren wasteland. Link is determined to fix the problems he helped to create, so with the help of Rauru he travels through time gathering the powers of the Seven Sages.\",\n",
    "    \"An ancient evil force has reawakened, attacking in secret and feeding on the souls of mighty warriors. To lure it out of hiding will take the greatest fighting contest the world has ever seen...Tekken 3. Some are fighting for revenge, some for honor, Ultimately, all are fighting for their lives and the fate of all mankind.\",\n",
    "    \"Prepare for an all-new RPG experience in Persona 5 Royal based in the universe of the award-winning series, Persona! Don the mask of Joker and join the Phantom Thieves of Hearts. Break free from the chains of modern society and stage grand heists to infiltrate the minds of the corrupt and make them change their ways! Persona 5 Royal is packed with new characters, confidants, story depth, new locations to explore, and a new grappling hook mechanic for stealthy access to new areas. With a new semester at Shujin Academy, get ready to strengthen your abilities in the metaverse and in your daily life. Persona 5 Royal presents a unique visual style and award nominated composer Shoji Meguro returns with an all-new soundtrack. Explore Tokyo, unlock new Personas, customize your own personal Thieves Den, discover a never-before-seen story arc, cutscenes, alternate endings, and more! Even for the most seasoned Phantom Thieves among us, Persona 5 Royal is a new challenge to defy conventions, discover the power within, and fight for justice. Wear the mask. Reveal your truth.\",\n",
    "    \"With the addition of two new courses (a downtown Tokyo circuit and the Monte Carlo Grand Prix course), an impressive range of cars (from Vipers to Cooper Minis), and a soundtrack featuring everything from Lenny Kravitz to Jimi Hendrix, this highly anticipated title is finally ready to be driven.\",\n",
    "    \"Racing\",\"Exploration\",\"Open World\",\"Sandbox\",\"Third Person\",\"Sports\",\n",
    "    \"Horror\",\"Military\",\"Gore\",\"Casual\",\"Shooter\",\"Sports\",\n",
    "    \"Card\",\"Fighting\",\"Battle Royale\",\"Shooter\", \"Fantasy\"\n",
    "]\n",
    "scores = [0.99, 0.7, 0.9, 0.2, 0.1, 0.1, 0, 0.6, 0.3, 0.2, 0.7, 0.1, 0.9, 0.1, 0.99, 0.3, 0.1, 0.1, 0.1, 0.2, 0.2, 0.1, 0.8]\n",
    "\n",
    "eval_cols = [\"sentence1\", \"sentence2\", \"score\"]\n",
    "eval_examples = []\n",
    "for s1, s2, score in zip(sentences1, sentences2, scores):\n",
    "    example = [s1, s2, score]\n",
    "    eval_examples.append(example)\n",
    "eval_df = pd.DataFrame(eval_examples, columns=eval_cols)\n",
    "eval_dataset = datasets.Dataset.from_pandas(eval_df)\n",
    "\n",
    "evaluator = evaluation.EmbeddingSimilarityEvaluator(\n",
    "    sentences1=eval_dataset[\"sentence1\"],\n",
    "    sentences2=eval_dataset[\"sentence2\"],\n",
    "    scores=eval_dataset[\"score\"],\n",
    "    main_similarity=evaluation.SimilarityFunction.COSINE,\n",
    "    name=\"sts-dev\",\n",
    ")"
   ]
  },
  {
   "cell_type": "markdown",
   "metadata": {},
   "source": [
    "Trains the model."
   ]
  },
  {
   "cell_type": "code",
   "execution_count": 20,
   "metadata": {},
   "outputs": [
    {
     "data": {
      "application/vnd.jupyter.widget-view+json": {
       "model_id": "09bf3d523db74b359262fb90cd53a8c5",
       "version_major": 2,
       "version_minor": 0
      },
      "text/plain": [
       "  0%|          | 0/3125 [00:00<?, ?it/s]"
      ]
     },
     "metadata": {},
     "output_type": "display_data"
    },
    {
     "name": "stdout",
     "output_type": "stream",
     "text": [
      "{'loss': 5.2574, 'grad_norm': 3.5983774662017822, 'learning_rate': 4.6674964438122335e-05, 'epoch': 0.16}\n"
     ]
    },
    {
     "data": {
      "application/vnd.jupyter.widget-view+json": {
       "model_id": "bfa2e1ba6b3f4e55a360ff57994274a4",
       "version_major": 2,
       "version_minor": 0
      },
      "text/plain": [
       "  0%|          | 0/2 [00:00<?, ?it/s]"
      ]
     },
     "metadata": {},
     "output_type": "display_data"
    },
    {
     "name": "stdout",
     "output_type": "stream",
     "text": [
      "{'eval_loss': 3.9525256156921387, 'eval_sts-dev_pearson_cosine': 0.6536184060886655, 'eval_sts-dev_spearman_cosine': 0.5611854015137666, 'eval_sts-dev_pearson_manhattan': 0.6957708854270734, 'eval_sts-dev_spearman_manhattan': 0.5794188622127698, 'eval_sts-dev_pearson_euclidean': 0.6801493649968607, 'eval_sts-dev_spearman_euclidean': 0.5611854015137666, 'eval_sts-dev_pearson_dot': 0.6536180832022925, 'eval_sts-dev_spearman_dot': 0.5611854015137666, 'eval_sts-dev_pearson_max': 0.6957708854270734, 'eval_sts-dev_spearman_max': 0.5794188622127698, 'eval_runtime': 2.4192, 'eval_samples_per_second': 9.507, 'eval_steps_per_second': 0.827, 'epoch': 0.16}\n"
     ]
    },
    {
     "data": {
      "application/vnd.jupyter.widget-view+json": {
       "model_id": "984a8aa71c884b899b2e588edfa96a2d",
       "version_major": 2,
       "version_minor": 0
      },
      "text/plain": [
       "Computing widget examples:   0%|          | 0/5 [00:00<?, ?example/s]"
      ]
     },
     "metadata": {},
     "output_type": "display_data"
    },
    {
     "name": "stdout",
     "output_type": "stream",
     "text": [
      "{'loss': 4.5292, 'grad_norm': 7.098065376281738, 'learning_rate': 3.778449502133713e-05, 'epoch': 0.32}\n"
     ]
    },
    {
     "data": {
      "application/vnd.jupyter.widget-view+json": {
       "model_id": "687be2c81d9149c88de641018470d734",
       "version_major": 2,
       "version_minor": 0
      },
      "text/plain": [
       "  0%|          | 0/2 [00:00<?, ?it/s]"
      ]
     },
     "metadata": {},
     "output_type": "display_data"
    },
    {
     "name": "stdout",
     "output_type": "stream",
     "text": [
      "{'eval_loss': 4.091797351837158, 'eval_sts-dev_pearson_cosine': 0.6429984955362845, 'eval_sts-dev_spearman_cosine': 0.6878066563679558, 'eval_sts-dev_pearson_manhattan': 0.6872126024580746, 'eval_sts-dev_spearman_manhattan': 0.7136373923582104, 'eval_sts-dev_pearson_euclidean': 0.6791975577056762, 'eval_sts-dev_spearman_euclidean': 0.6878066563679558, 'eval_sts-dev_pearson_dot': 0.6429978206615842, 'eval_sts-dev_spearman_dot': 0.6878066563679558, 'eval_sts-dev_pearson_max': 0.6872126024580746, 'eval_sts-dev_spearman_max': 0.7136373923582104, 'eval_runtime': 1.6244, 'eval_samples_per_second': 14.159, 'eval_steps_per_second': 1.231, 'epoch': 0.32}\n"
     ]
    },
    {
     "data": {
      "application/vnd.jupyter.widget-view+json": {
       "model_id": "11e5b147e8d44bb2b19136ece0236e6a",
       "version_major": 2,
       "version_minor": 0
      },
      "text/plain": [
       "Computing widget examples:   0%|          | 0/5 [00:00<?, ?example/s]"
      ]
     },
     "metadata": {},
     "output_type": "display_data"
    },
    {
     "name": "stdout",
     "output_type": "stream",
     "text": [
      "{'loss': 4.4269, 'grad_norm': 6.960878849029541, 'learning_rate': 2.889402560455192e-05, 'epoch': 0.48}\n"
     ]
    },
    {
     "data": {
      "application/vnd.jupyter.widget-view+json": {
       "model_id": "0089836b5b894e08b408ac9a57abecc0",
       "version_major": 2,
       "version_minor": 0
      },
      "text/plain": [
       "  0%|          | 0/2 [00:00<?, ?it/s]"
      ]
     },
     "metadata": {},
     "output_type": "display_data"
    },
    {
     "name": "stdout",
     "output_type": "stream",
     "text": [
      "{'eval_loss': 5.222257137298584, 'eval_sts-dev_pearson_cosine': 0.5588759416594626, 'eval_sts-dev_spearman_cosine': 0.5399130306982627, 'eval_sts-dev_pearson_manhattan': 0.6387499319522302, 'eval_sts-dev_spearman_manhattan': 0.5616918865331834, 'eval_sts-dev_pearson_euclidean': 0.6226191934793659, 'eval_sts-dev_spearman_euclidean': 0.5399130306982627, 'eval_sts-dev_pearson_dot': 0.5588758234300756, 'eval_sts-dev_spearman_dot': 0.5399130306982627, 'eval_sts-dev_pearson_max': 0.6387499319522302, 'eval_sts-dev_spearman_max': 0.5616918865331834, 'eval_runtime': 1.6722, 'eval_samples_per_second': 13.754, 'eval_steps_per_second': 1.196, 'epoch': 0.48}\n"
     ]
    },
    {
     "data": {
      "application/vnd.jupyter.widget-view+json": {
       "model_id": "c316db6b62c94abe87894ebdba0435a4",
       "version_major": 2,
       "version_minor": 0
      },
      "text/plain": [
       "Computing widget examples:   0%|          | 0/5 [00:00<?, ?example/s]"
      ]
     },
     "metadata": {},
     "output_type": "display_data"
    },
    {
     "name": "stdout",
     "output_type": "stream",
     "text": [
      "{'loss': 4.4055, 'grad_norm': 6.671798229217529, 'learning_rate': 2.0003556187766715e-05, 'epoch': 0.64}\n"
     ]
    },
    {
     "data": {
      "application/vnd.jupyter.widget-view+json": {
       "model_id": "11aa2964dc834ab1aa537c811be2d15f",
       "version_major": 2,
       "version_minor": 0
      },
      "text/plain": [
       "  0%|          | 0/2 [00:00<?, ?it/s]"
      ]
     },
     "metadata": {},
     "output_type": "display_data"
    },
    {
     "name": "stdout",
     "output_type": "stream",
     "text": [
      "{'eval_loss': 4.451331615447998, 'eval_sts-dev_pearson_cosine': 0.6900262184943017, 'eval_sts-dev_spearman_cosine': 0.6528591900281996, 'eval_sts-dev_pearson_manhattan': 0.7325532402415352, 'eval_sts-dev_spearman_manhattan': 0.6670407705718688, 'eval_sts-dev_pearson_euclidean': 0.7281781235541821, 'eval_sts-dev_spearman_euclidean': 0.6528591900281996, 'eval_sts-dev_pearson_dot': 0.6900262650416124, 'eval_sts-dev_spearman_dot': 0.6528591900281996, 'eval_sts-dev_pearson_max': 0.7325532402415352, 'eval_sts-dev_spearman_max': 0.6670407705718688, 'eval_runtime': 2.0558, 'eval_samples_per_second': 11.188, 'eval_steps_per_second': 0.973, 'epoch': 0.64}\n"
     ]
    },
    {
     "data": {
      "application/vnd.jupyter.widget-view+json": {
       "model_id": "493828dcf7564f2f9868a85be52cf273",
       "version_major": 2,
       "version_minor": 0
      },
      "text/plain": [
       "Computing widget examples:   0%|          | 0/5 [00:00<?, ?example/s]"
      ]
     },
     "metadata": {},
     "output_type": "display_data"
    },
    {
     "name": "stdout",
     "output_type": "stream",
     "text": [
      "{'loss': 4.2789, 'grad_norm': 8.181411743164062, 'learning_rate': 1.1113086770981508e-05, 'epoch': 0.8}\n"
     ]
    },
    {
     "data": {
      "application/vnd.jupyter.widget-view+json": {
       "model_id": "48df117a9e5c4fb7a5b887a6235efb17",
       "version_major": 2,
       "version_minor": 0
      },
      "text/plain": [
       "  0%|          | 0/2 [00:00<?, ?it/s]"
      ]
     },
     "metadata": {},
     "output_type": "display_data"
    },
    {
     "name": "stdout",
     "output_type": "stream",
     "text": [
      "{'eval_loss': 4.895749092102051, 'eval_sts-dev_pearson_cosine': 0.6530161920065299, 'eval_sts-dev_spearman_cosine': 0.6128468734942758, 'eval_sts-dev_pearson_manhattan': 0.7075630463544212, 'eval_sts-dev_spearman_manhattan': 0.6447554297175315, 'eval_sts-dev_pearson_euclidean': 0.6989194039963298, 'eval_sts-dev_spearman_euclidean': 0.6128468734942758, 'eval_sts-dev_pearson_dot': 0.6530161017099383, 'eval_sts-dev_spearman_dot': 0.6128468734942758, 'eval_sts-dev_pearson_max': 0.7075630463544212, 'eval_sts-dev_spearman_max': 0.6447554297175315, 'eval_runtime': 1.8832, 'eval_samples_per_second': 12.213, 'eval_steps_per_second': 1.062, 'epoch': 0.8}\n"
     ]
    },
    {
     "data": {
      "application/vnd.jupyter.widget-view+json": {
       "model_id": "7b92a4fe12e74500afa4e0d970a85b5a",
       "version_major": 2,
       "version_minor": 0
      },
      "text/plain": [
       "Computing widget examples:   0%|          | 0/5 [00:00<?, ?example/s]"
      ]
     },
     "metadata": {},
     "output_type": "display_data"
    },
    {
     "name": "stdout",
     "output_type": "stream",
     "text": [
      "{'loss': 4.2064, 'grad_norm': 8.782552719116211, 'learning_rate': 2.2226173541963018e-06, 'epoch': 0.96}\n"
     ]
    },
    {
     "data": {
      "application/vnd.jupyter.widget-view+json": {
       "model_id": "5daaedb8ad9948bea1297a77b8e41a94",
       "version_major": 2,
       "version_minor": 0
      },
      "text/plain": [
       "  0%|          | 0/2 [00:00<?, ?it/s]"
      ]
     },
     "metadata": {},
     "output_type": "display_data"
    },
    {
     "name": "stdout",
     "output_type": "stream",
     "text": [
      "{'eval_loss': 4.971919536590576, 'eval_sts-dev_pearson_cosine': 0.6696191933172672, 'eval_sts-dev_spearman_cosine': 0.6234830589020276, 'eval_sts-dev_pearson_manhattan': 0.7216885903735909, 'eval_sts-dev_spearman_manhattan': 0.625002513960278, 'eval_sts-dev_pearson_euclidean': 0.7182480760481353, 'eval_sts-dev_spearman_euclidean': 0.6234830589020276, 'eval_sts-dev_pearson_dot': 0.6696194142628452, 'eval_sts-dev_spearman_dot': 0.6234830589020276, 'eval_sts-dev_pearson_max': 0.7216885903735909, 'eval_sts-dev_spearman_max': 0.625002513960278, 'eval_runtime': 2.0452, 'eval_samples_per_second': 11.246, 'eval_steps_per_second': 0.978, 'epoch': 0.96}\n"
     ]
    },
    {
     "data": {
      "application/vnd.jupyter.widget-view+json": {
       "model_id": "0a29b8baa11b4a019a79830f6e43533b",
       "version_major": 2,
       "version_minor": 0
      },
      "text/plain": [
       "Computing widget examples:   0%|          | 0/5 [00:00<?, ?example/s]"
      ]
     },
     "metadata": {},
     "output_type": "display_data"
    },
    {
     "name": "stdout",
     "output_type": "stream",
     "text": [
      "{'train_runtime': 2501.9322, 'train_samples_per_second': 19.985, 'train_steps_per_second': 1.249, 'train_loss': 4.50460994140625, 'epoch': 1.0}\n"
     ]
    },
    {
     "data": {
      "text/plain": [
       "TrainOutput(global_step=3125, training_loss=4.50460994140625, metrics={'train_runtime': 2501.9322, 'train_samples_per_second': 19.985, 'train_steps_per_second': 1.249, 'total_flos': 0.0, 'train_loss': 4.50460994140625, 'epoch': 1.0})"
      ]
     },
     "execution_count": 20,
     "metadata": {},
     "output_type": "execute_result"
    }
   ],
   "source": [
    "trainer = SentenceTransformerTrainer(\n",
    "    model=model,\n",
    "    args=args,\n",
    "    train_dataset=train_dataset,\n",
    "    eval_dataset=eval_dataset,\n",
    "    loss=train_loss,\n",
    "    evaluator=evaluator,\n",
    ")\n",
    "\n",
    "trainer.train()"
   ]
  },
  {
   "cell_type": "markdown",
   "metadata": {},
   "source": [
    "## Visualization Pt. 2"
   ]
  },
  {
   "cell_type": "markdown",
   "metadata": {},
   "source": [
    "### Visualizing Descriptions"
   ]
  },
  {
   "cell_type": "code",
   "execution_count": 21,
   "metadata": {},
   "outputs": [
    {
     "name": "stderr",
     "output_type": "stream",
     "text": [
      "/Library/Frameworks/Python.framework/Versions/3.12/lib/python3.12/site-packages/sklearn/cluster/_kmeans.py:1416: FutureWarning:\n",
      "\n",
      "The default value of `n_init` will change from 10 to 'auto' in 1.4. Set the value of `n_init` explicitly to suppress the warning\n",
      "\n"
     ]
    },
    {
     "data": {
      "application/vnd.plotly.v1+json": {
       "config": {
        "plotlyServerURL": "https://plot.ly"
       },
       "data": [
        {
         "hovertemplate": "<b>%{hovertext}</b>",
         "hovertext": [
          "Baldur's Gate 3",
          "Cyberpunk 2077",
          "FINAL FANTASY XIV Online",
          "DAVE THE DIVER",
          "ELDEN RING",
          "Total War: WARHAMMER III",
          "Hogwarts Legacy",
          "Stardew Valley",
          "Wayfinder",
          "Metro Exodus",
          "RimWorld",
          "Stellaris",
          "Crusader Kings III",
          "ARK: Survival Evolved",
          "Shadow Gambit: The Cursed Crew",
          "Sid Meier’s Civilization® VI",
          "Contraband Police",
          "Don't Starve Together",
          "BOOK OF HOURS",
          "Valheim"
         ],
         "legendgroup": "5",
         "marker": {
          "color": "#636efa",
          "symbol": "circle"
         },
         "mode": "markers",
         "name": "5",
         "scene": "scene",
         "showlegend": true,
         "type": "scatter3d",
         "x": [
          -0.01804027520120144,
          -0.006852678954601288,
          0.061204709112644196,
          -0.10616438835859299,
          -0.009891736321151257,
          0.001212150789797306,
          -0.07248566299676895,
          0.04103356599807739,
          -0.005006198771297932,
          0.10250723361968994,
          0.07248864322900772,
          0.03867829218506813,
          0.04420128092169762,
          -0.03003835678100586,
          -0.11050233989953995,
          0.09134098142385483,
          0.019519057124853134,
          0.007463980931788683,
          0.042180173099040985,
          -0.03559659793972969
         ],
         "y": [
          -0.04234493523836136,
          0.014930389821529388,
          -0.018800117075443268,
          0.04273911938071251,
          -0.1295323520898819,
          0.07937606424093246,
          -0.04757813364267349,
          0.09774590283632278,
          -0.021637987345457077,
          0.16148892045021057,
          0.19114626944065094,
          -0.07924558222293854,
          0.007924017496407032,
          -0.02351250685751438,
          -0.008580179885029793,
          -0.06170503422617912,
          0.07642265409231186,
          -0.04718954116106033,
          0.10163029283285141,
          -0.04477842152118683
         ],
         "z": [
          -0.1272774189710617,
          -0.0741904228925705,
          -0.15237417817115784,
          -0.07204316556453705,
          -0.07351099699735641,
          -0.17168332636356354,
          -0.03699745237827301,
          -0.12262295186519623,
          -0.09476209431886673,
          -0.014882439747452736,
          -0.06993699818849564,
          -0.06651733070611954,
          -0.12012151628732681,
          -0.09109581261873245,
          -0.05777910724282265,
          -0.0493311807513237,
          -0.017552880570292473,
          -0.0927421897649765,
          -0.18003025650978088,
          -0.11079122871160507
         ]
        },
        {
         "hovertemplate": "<b>%{hovertext}</b>",
         "hovertext": [
          "Counter-Strike: Global Offensive",
          "Call of Duty®",
          "Rust",
          "Grand Theft Auto V",
          "Tom Clancy's Rainbow Six® Siege",
          "BattleBit Remastered",
          "Street Fighter™ 6",
          "PAYDAY 2",
          "Red Dead Redemption 2",
          "Hunt: Showdown",
          "Project Zomboid",
          "Ready or Not",
          "Raft",
          "Fallout 76",
          "ARMORED CORE™ VI FIRES OF RUBICON™",
          "Call of Duty®: Black Ops III",
          "World of Tanks Blitz",
          "theHunter: Call of the Wild™",
          "DRAGON BALL Z: KAKAROT"
         ],
         "legendgroup": "3",
         "marker": {
          "color": "#EF553B",
          "symbol": "circle"
         },
         "mode": "markers",
         "name": "3",
         "scene": "scene",
         "showlegend": true,
         "type": "scatter3d",
         "x": [
          -0.018021881580352783,
          0.03983733803033829,
          -0.03748062998056412,
          -0.09288404136896133,
          -0.07199615985155106,
          -0.03409573435783386,
          -0.01758204959332943,
          -0.1300734132528305,
          -0.1430690884590149,
          -0.1913813054561615,
          -0.09348200261592865,
          -0.0860222801566124,
          0.013024079613387585,
          -0.06150902435183525,
          -0.06054660677909851,
          -0.14619474112987518,
          0.021949002519249916,
          -0.018819835036993027,
          -0.09062601625919342
         ],
         "y": [
          -0.16074120998382568,
          -0.0978235974907875,
          0.04358528554439545,
          0.011583713814616203,
          -0.08563270419836044,
          -0.12864908576011658,
          -0.09961766749620438,
          -0.043876491487026215,
          -0.0090895164757967,
          0.04021148011088371,
          0.02231113240122795,
          0.09087222069501877,
          -0.015133866108953953,
          -0.009411023929715157,
          -0.10268691927194595,
          -0.0035842531360685825,
          -0.17385365068912506,
          0.048337172716856,
          0.007343686651438475
         ],
         "z": [
          0.12600357830524445,
          0.009626566432416439,
          -0.0036947729531675577,
          0.15967115759849548,
          0.06602868437767029,
          0.12267701327800751,
          0.1777772456407547,
          0.07589754462242126,
          0.1374737173318863,
          0.07939581573009491,
          -0.030917856842279434,
          0.09457342326641083,
          -0.007075634319335222,
          -0.00013116150512360036,
          0.12383098900318146,
          0.07696615159511566,
          0.07069844007492065,
          0.02987898327410221,
          0.06890495866537094
         ]
        },
        {
         "hovertemplate": "<b>%{hovertext}</b>",
         "hovertext": [
          "Apex Legends™",
          "Dota 2",
          "Warframe",
          "Starfield",
          "Sea of Thieves 2023 Edition",
          "Path of Exile",
          "Terraria",
          "Deep Rock Galactic",
          "Dead Cells",
          "Ratchet & Clank: Rift Apart",
          "The Elder Scrolls V: Skyrim Special Edition",
          "It Takes Two",
          "Brawlhalla",
          "BlazBlue Entropy Effect",
          "Marvel’s Spider-Man Remastered"
         ],
         "legendgroup": "0",
         "marker": {
          "color": "#00cc96",
          "symbol": "circle"
         },
         "mode": "markers",
         "name": "0",
         "scene": "scene",
         "showlegend": true,
         "type": "scatter3d",
         "x": [
          -0.05619592219591141,
          -0.07999210059642792,
          -0.05558710917830467,
          -0.033708278089761734,
          -0.10429776459932327,
          -0.09034086763858795,
          -0.08654096722602844,
          -0.09381415694952011,
          -0.19082243740558624,
          -0.1281128227710724,
          -0.06164732575416565,
          0.0020767657551914454,
          -0.10728222131729126,
          -0.11386602371931076,
          -0.16344338655471802
         ],
         "y": [
          -0.15603265166282654,
          -0.14736872911453247,
          -0.1921548694372177,
          -0.08322897553443909,
          -0.0246269591152668,
          -0.10034395754337311,
          -0.0580391064286232,
          -0.10902927070856094,
          -0.07673203945159912,
          -0.14511638879776,
          -0.0405571423470974,
          -0.048839155584573746,
          -0.17865177989006042,
          -0.12460305541753769,
          -0.0005659802700392902
         ],
         "z": [
          0.01564554125070572,
          0.08873449265956879,
          0.033878449350595474,
          0.011131870560348034,
          -0.002040581312030554,
          -0.06239815801382065,
          0.021356215700507164,
          0.015286733396351337,
          0.059528838843107224,
          0.11644654721021652,
          0.011509998701512814,
          0.09152351319789886,
          0.1305992752313614,
          0.04671857878565788,
          0.1384708434343338
         ]
        },
        {
         "hovertemplate": "<b>%{hovertext}</b>",
         "hovertext": [
          "Forza Horizon 5",
          "The Sims™ 4",
          "Forza Horizon 4",
          "American Truck Simulator",
          "Cities: Skylines",
          "Microsoft Flight Simulator 40th Anniversary Edition",
          "BeamNG.drive",
          "Graveyard Keeper",
          "Planet Zoo"
         ],
         "legendgroup": "2",
         "marker": {
          "color": "#ab63fa",
          "symbol": "circle"
         },
         "mode": "markers",
         "name": "2",
         "scene": "scene",
         "showlegend": true,
         "type": "scatter3d",
         "x": [
          0.21295489370822906,
          0.21948619186878204,
          0.2464633733034134,
          0.34507566690444946,
          0.283324271440506,
          0.3468620479106903,
          0.257656455039978,
          0.13389380276203156,
          0.3312542140483856
         ],
         "y": [
          0.041825685650110245,
          0.12230730056762695,
          0.15459193289279938,
          0.3271355926990509,
          0.14745616912841797,
          0.1280708611011505,
          0.2069278359413147,
          0.18694540858268738,
          0.2021992802619934
         ],
         "z": [
          0.20365022122859955,
          -0.06354586035013199,
          0.02674613706767559,
          0.1257074773311615,
          0.021620510146021843,
          0.1431090533733368,
          0.2792508900165558,
          -0.14492091536521912,
          -0.01301618292927742
         ]
        },
        {
         "hovertemplate": "<b>%{hovertext}</b>",
         "hovertext": [
          "PUBG: BATTLEGROUNDS",
          "NARAKA: BLADEPOINT",
          "War Thunder",
          "The Elder Scrolls® Online",
          "Destiny 2",
          "Hearts of Iron IV",
          "Yu-Gi-Oh! Master Duel",
          "Farming Simulator 22",
          "Mount & Blade II: Bannerlord",
          "Sengoku Dynasty",
          "Eternal Return",
          "New World",
          "Guild Wars 2"
         ],
         "legendgroup": "4",
         "marker": {
          "color": "#FFA15A",
          "symbol": "circle"
         },
         "mode": "markers",
         "name": "4",
         "scene": "scene",
         "showlegend": true,
         "type": "scatter3d",
         "x": [
          0.1262509971857071,
          -0.020078476518392563,
          0.12057709693908691,
          0.05679665505886078,
          0.12325796484947205,
          0.14921778440475464,
          0.07758308947086334,
          0.23142820596694946,
          0.16356965899467468,
          0.13053995370864868,
          0.05395280569791794,
          0.030976466834545135,
          0.0727495551109314
         ],
         "y": [
          -0.20313473045825958,
          -0.12769535183906555,
          -0.17355623841285706,
          -0.10620266944169998,
          -0.15049369633197784,
          -0.10456661880016327,
          -0.170183002948761,
          0.007718431297689676,
          -0.08499561995267868,
          0.01817462593317032,
          -0.12305550277233124,
          -0.1177128404378891,
          -0.1861264407634735
         ],
         "z": [
          -0.10008382797241211,
          -0.09186244010925293,
          -0.01592707447707653,
          -0.09584378451108932,
          -0.11598042398691177,
          -0.05518752709031105,
          -0.08986146748065948,
          -0.14704357087612152,
          -0.1989276111125946,
          -0.2238665372133255,
          -0.04531274363398552,
          -0.1435760110616684,
          -0.08840242773294449
         ]
        },
        {
         "hovertemplate": "<b>%{hovertext}</b>",
         "hovertext": [
          "Remnant II",
          "Dead by Daylight",
          "Phasmophobia",
          "Sons Of The Forest",
          "The Texas Chain Saw Massacre",
          "Vampire Survivors",
          "SCP: 5K",
          "The Outlast Trials",
          "DayZ",
          "Darkest Dungeon® II",
          "Escape the Backrooms",
          "Six Days in Fallujah",
          "The Binding of Isaac: Rebirth",
          "Resident Evil 4",
          "Dying Light"
         ],
         "legendgroup": "1",
         "marker": {
          "color": "#19d3f3",
          "symbol": "circle"
         },
         "mode": "markers",
         "name": "1",
         "scene": "scene",
         "showlegend": true,
         "type": "scatter3d",
         "x": [
          -0.10429700464010239,
          -0.27472251653671265,
          -0.20972414314746857,
          -0.14228513836860657,
          -0.2795136868953705,
          -0.15292513370513916,
          -0.2372274547815323,
          -0.15859942138195038,
          -0.05766095221042633,
          -0.07245882600545883,
          -0.21929152309894562,
          -0.13617606461048126,
          -0.1226438581943512,
          -0.09091868996620178,
          -0.23220668733119965
         ],
         "y": [
          0.011255281046032906,
          0.16809341311454773,
          0.21087247133255005,
          0.2571393847465515,
          0.33495500683784485,
          0.10214833915233612,
          0.09863753616809845,
          0.2116696685552597,
          0.08519375324249268,
          0.12628133594989777,
          0.1536615490913391,
          0.14793363213539124,
          0.01721263863146305,
          0.23941510915756226,
          0.12048223614692688
         ],
         "z": [
          -0.08118868619203568,
          0.059147752821445465,
          -0.007066754624247551,
          -0.047731563448905945,
          0.03159472718834877,
          -0.09089598804712296,
          0.04597312957048416,
          -0.0518229603767395,
          -0.09403318911790848,
          -0.08142579346895218,
          -0.025086475536227226,
          0.023175658658146858,
          -0.10630664229393005,
          -0.0488712377846241,
          0.05007731541991234
         ]
        },
        {
         "hovertemplate": "<b>%{hovertext}</b>",
         "hovertext": [
          "Team Fortress 2",
          "EA SPORTS™ FIFA 23",
          "World of Warships",
          "Football Manager 2023",
          "Euro Truck Simulator 2",
          "Madden NFL 24",
          "F1® 23",
          "EA SPORTS FC™ 24",
          "Garry's Mod"
         ],
         "legendgroup": "6",
         "marker": {
          "color": "#FF6692",
          "symbol": "circle"
         },
         "mode": "markers",
         "name": "6",
         "scene": "scene",
         "showlegend": true,
         "type": "scatter3d",
         "x": [
          0.05409594252705574,
          0.15359416604042053,
          0.1610497683286667,
          0.1543034464120865,
          0.21551939845085144,
          0.1299174576997757,
          0.18074564635753632,
          0.09956955164670944,
          0.10336041450500488
         ],
         "y": [
          -0.06979123502969742,
          -0.12967588007450104,
          -0.0529991090297699,
          -0.08679831773042679,
          0.06770846247673035,
          -0.04613586515188217,
          0.06886912137269974,
          -0.08030387759208679,
          -0.04820921644568443
         ],
         "z": [
          -0.02247830294072628,
          0.15440116822719574,
          -0.03856249898672104,
          0.03619346022605896,
          0.11934493482112885,
          0.12066645920276642,
          0.2746073007583618,
          0.17043110728263855,
          0.14539702236652374
         ]
        }
       ],
       "layout": {
        "height": 720,
        "legend": {
         "title": {
          "text": "cluster"
         },
         "tracegroupgap": 0
        },
        "margin": {
         "t": 60
        },
        "scene": {
         "domain": {
          "x": [
           0,
           1
          ],
          "y": [
           0,
           1
          ]
         },
         "xaxis": {
          "range": [
           -0.7795136868953705,
           0.8468620479106903
          ],
          "title": {
           "text": "x"
          }
         },
         "yaxis": {
          "range": [
           -0.7031347304582596,
           0.8349550068378448
          ],
          "title": {
           "text": "y"
          }
         },
         "zaxis": {
          "range": [
           -0.7238665372133255,
           0.7792508900165558
          ],
          "title": {
           "text": "z"
          }
         }
        },
        "template": {
         "data": {
          "bar": [
           {
            "error_x": {
             "color": "#2a3f5f"
            },
            "error_y": {
             "color": "#2a3f5f"
            },
            "marker": {
             "line": {
              "color": "#E5ECF6",
              "width": 0.5
             },
             "pattern": {
              "fillmode": "overlay",
              "size": 10,
              "solidity": 0.2
             }
            },
            "type": "bar"
           }
          ],
          "barpolar": [
           {
            "marker": {
             "line": {
              "color": "#E5ECF6",
              "width": 0.5
             },
             "pattern": {
              "fillmode": "overlay",
              "size": 10,
              "solidity": 0.2
             }
            },
            "type": "barpolar"
           }
          ],
          "carpet": [
           {
            "aaxis": {
             "endlinecolor": "#2a3f5f",
             "gridcolor": "white",
             "linecolor": "white",
             "minorgridcolor": "white",
             "startlinecolor": "#2a3f5f"
            },
            "baxis": {
             "endlinecolor": "#2a3f5f",
             "gridcolor": "white",
             "linecolor": "white",
             "minorgridcolor": "white",
             "startlinecolor": "#2a3f5f"
            },
            "type": "carpet"
           }
          ],
          "choropleth": [
           {
            "colorbar": {
             "outlinewidth": 0,
             "ticks": ""
            },
            "type": "choropleth"
           }
          ],
          "contour": [
           {
            "colorbar": {
             "outlinewidth": 0,
             "ticks": ""
            },
            "colorscale": [
             [
              0,
              "#0d0887"
             ],
             [
              0.1111111111111111,
              "#46039f"
             ],
             [
              0.2222222222222222,
              "#7201a8"
             ],
             [
              0.3333333333333333,
              "#9c179e"
             ],
             [
              0.4444444444444444,
              "#bd3786"
             ],
             [
              0.5555555555555556,
              "#d8576b"
             ],
             [
              0.6666666666666666,
              "#ed7953"
             ],
             [
              0.7777777777777778,
              "#fb9f3a"
             ],
             [
              0.8888888888888888,
              "#fdca26"
             ],
             [
              1,
              "#f0f921"
             ]
            ],
            "type": "contour"
           }
          ],
          "contourcarpet": [
           {
            "colorbar": {
             "outlinewidth": 0,
             "ticks": ""
            },
            "type": "contourcarpet"
           }
          ],
          "heatmap": [
           {
            "colorbar": {
             "outlinewidth": 0,
             "ticks": ""
            },
            "colorscale": [
             [
              0,
              "#0d0887"
             ],
             [
              0.1111111111111111,
              "#46039f"
             ],
             [
              0.2222222222222222,
              "#7201a8"
             ],
             [
              0.3333333333333333,
              "#9c179e"
             ],
             [
              0.4444444444444444,
              "#bd3786"
             ],
             [
              0.5555555555555556,
              "#d8576b"
             ],
             [
              0.6666666666666666,
              "#ed7953"
             ],
             [
              0.7777777777777778,
              "#fb9f3a"
             ],
             [
              0.8888888888888888,
              "#fdca26"
             ],
             [
              1,
              "#f0f921"
             ]
            ],
            "type": "heatmap"
           }
          ],
          "heatmapgl": [
           {
            "colorbar": {
             "outlinewidth": 0,
             "ticks": ""
            },
            "colorscale": [
             [
              0,
              "#0d0887"
             ],
             [
              0.1111111111111111,
              "#46039f"
             ],
             [
              0.2222222222222222,
              "#7201a8"
             ],
             [
              0.3333333333333333,
              "#9c179e"
             ],
             [
              0.4444444444444444,
              "#bd3786"
             ],
             [
              0.5555555555555556,
              "#d8576b"
             ],
             [
              0.6666666666666666,
              "#ed7953"
             ],
             [
              0.7777777777777778,
              "#fb9f3a"
             ],
             [
              0.8888888888888888,
              "#fdca26"
             ],
             [
              1,
              "#f0f921"
             ]
            ],
            "type": "heatmapgl"
           }
          ],
          "histogram": [
           {
            "marker": {
             "pattern": {
              "fillmode": "overlay",
              "size": 10,
              "solidity": 0.2
             }
            },
            "type": "histogram"
           }
          ],
          "histogram2d": [
           {
            "colorbar": {
             "outlinewidth": 0,
             "ticks": ""
            },
            "colorscale": [
             [
              0,
              "#0d0887"
             ],
             [
              0.1111111111111111,
              "#46039f"
             ],
             [
              0.2222222222222222,
              "#7201a8"
             ],
             [
              0.3333333333333333,
              "#9c179e"
             ],
             [
              0.4444444444444444,
              "#bd3786"
             ],
             [
              0.5555555555555556,
              "#d8576b"
             ],
             [
              0.6666666666666666,
              "#ed7953"
             ],
             [
              0.7777777777777778,
              "#fb9f3a"
             ],
             [
              0.8888888888888888,
              "#fdca26"
             ],
             [
              1,
              "#f0f921"
             ]
            ],
            "type": "histogram2d"
           }
          ],
          "histogram2dcontour": [
           {
            "colorbar": {
             "outlinewidth": 0,
             "ticks": ""
            },
            "colorscale": [
             [
              0,
              "#0d0887"
             ],
             [
              0.1111111111111111,
              "#46039f"
             ],
             [
              0.2222222222222222,
              "#7201a8"
             ],
             [
              0.3333333333333333,
              "#9c179e"
             ],
             [
              0.4444444444444444,
              "#bd3786"
             ],
             [
              0.5555555555555556,
              "#d8576b"
             ],
             [
              0.6666666666666666,
              "#ed7953"
             ],
             [
              0.7777777777777778,
              "#fb9f3a"
             ],
             [
              0.8888888888888888,
              "#fdca26"
             ],
             [
              1,
              "#f0f921"
             ]
            ],
            "type": "histogram2dcontour"
           }
          ],
          "mesh3d": [
           {
            "colorbar": {
             "outlinewidth": 0,
             "ticks": ""
            },
            "type": "mesh3d"
           }
          ],
          "parcoords": [
           {
            "line": {
             "colorbar": {
              "outlinewidth": 0,
              "ticks": ""
             }
            },
            "type": "parcoords"
           }
          ],
          "pie": [
           {
            "automargin": true,
            "type": "pie"
           }
          ],
          "scatter": [
           {
            "fillpattern": {
             "fillmode": "overlay",
             "size": 10,
             "solidity": 0.2
            },
            "type": "scatter"
           }
          ],
          "scatter3d": [
           {
            "line": {
             "colorbar": {
              "outlinewidth": 0,
              "ticks": ""
             }
            },
            "marker": {
             "colorbar": {
              "outlinewidth": 0,
              "ticks": ""
             }
            },
            "type": "scatter3d"
           }
          ],
          "scattercarpet": [
           {
            "marker": {
             "colorbar": {
              "outlinewidth": 0,
              "ticks": ""
             }
            },
            "type": "scattercarpet"
           }
          ],
          "scattergeo": [
           {
            "marker": {
             "colorbar": {
              "outlinewidth": 0,
              "ticks": ""
             }
            },
            "type": "scattergeo"
           }
          ],
          "scattergl": [
           {
            "marker": {
             "colorbar": {
              "outlinewidth": 0,
              "ticks": ""
             }
            },
            "type": "scattergl"
           }
          ],
          "scattermapbox": [
           {
            "marker": {
             "colorbar": {
              "outlinewidth": 0,
              "ticks": ""
             }
            },
            "type": "scattermapbox"
           }
          ],
          "scatterpolar": [
           {
            "marker": {
             "colorbar": {
              "outlinewidth": 0,
              "ticks": ""
             }
            },
            "type": "scatterpolar"
           }
          ],
          "scatterpolargl": [
           {
            "marker": {
             "colorbar": {
              "outlinewidth": 0,
              "ticks": ""
             }
            },
            "type": "scatterpolargl"
           }
          ],
          "scatterternary": [
           {
            "marker": {
             "colorbar": {
              "outlinewidth": 0,
              "ticks": ""
             }
            },
            "type": "scatterternary"
           }
          ],
          "surface": [
           {
            "colorbar": {
             "outlinewidth": 0,
             "ticks": ""
            },
            "colorscale": [
             [
              0,
              "#0d0887"
             ],
             [
              0.1111111111111111,
              "#46039f"
             ],
             [
              0.2222222222222222,
              "#7201a8"
             ],
             [
              0.3333333333333333,
              "#9c179e"
             ],
             [
              0.4444444444444444,
              "#bd3786"
             ],
             [
              0.5555555555555556,
              "#d8576b"
             ],
             [
              0.6666666666666666,
              "#ed7953"
             ],
             [
              0.7777777777777778,
              "#fb9f3a"
             ],
             [
              0.8888888888888888,
              "#fdca26"
             ],
             [
              1,
              "#f0f921"
             ]
            ],
            "type": "surface"
           }
          ],
          "table": [
           {
            "cells": {
             "fill": {
              "color": "#EBF0F8"
             },
             "line": {
              "color": "white"
             }
            },
            "header": {
             "fill": {
              "color": "#C8D4E3"
             },
             "line": {
              "color": "white"
             }
            },
            "type": "table"
           }
          ]
         },
         "layout": {
          "annotationdefaults": {
           "arrowcolor": "#2a3f5f",
           "arrowhead": 0,
           "arrowwidth": 1
          },
          "autotypenumbers": "strict",
          "coloraxis": {
           "colorbar": {
            "outlinewidth": 0,
            "ticks": ""
           }
          },
          "colorscale": {
           "diverging": [
            [
             0,
             "#8e0152"
            ],
            [
             0.1,
             "#c51b7d"
            ],
            [
             0.2,
             "#de77ae"
            ],
            [
             0.3,
             "#f1b6da"
            ],
            [
             0.4,
             "#fde0ef"
            ],
            [
             0.5,
             "#f7f7f7"
            ],
            [
             0.6,
             "#e6f5d0"
            ],
            [
             0.7,
             "#b8e186"
            ],
            [
             0.8,
             "#7fbc41"
            ],
            [
             0.9,
             "#4d9221"
            ],
            [
             1,
             "#276419"
            ]
           ],
           "sequential": [
            [
             0,
             "#0d0887"
            ],
            [
             0.1111111111111111,
             "#46039f"
            ],
            [
             0.2222222222222222,
             "#7201a8"
            ],
            [
             0.3333333333333333,
             "#9c179e"
            ],
            [
             0.4444444444444444,
             "#bd3786"
            ],
            [
             0.5555555555555556,
             "#d8576b"
            ],
            [
             0.6666666666666666,
             "#ed7953"
            ],
            [
             0.7777777777777778,
             "#fb9f3a"
            ],
            [
             0.8888888888888888,
             "#fdca26"
            ],
            [
             1,
             "#f0f921"
            ]
           ],
           "sequentialminus": [
            [
             0,
             "#0d0887"
            ],
            [
             0.1111111111111111,
             "#46039f"
            ],
            [
             0.2222222222222222,
             "#7201a8"
            ],
            [
             0.3333333333333333,
             "#9c179e"
            ],
            [
             0.4444444444444444,
             "#bd3786"
            ],
            [
             0.5555555555555556,
             "#d8576b"
            ],
            [
             0.6666666666666666,
             "#ed7953"
            ],
            [
             0.7777777777777778,
             "#fb9f3a"
            ],
            [
             0.8888888888888888,
             "#fdca26"
            ],
            [
             1,
             "#f0f921"
            ]
           ]
          },
          "colorway": [
           "#636efa",
           "#EF553B",
           "#00cc96",
           "#ab63fa",
           "#FFA15A",
           "#19d3f3",
           "#FF6692",
           "#B6E880",
           "#FF97FF",
           "#FECB52"
          ],
          "font": {
           "color": "#2a3f5f"
          },
          "geo": {
           "bgcolor": "white",
           "lakecolor": "white",
           "landcolor": "#E5ECF6",
           "showlakes": true,
           "showland": true,
           "subunitcolor": "white"
          },
          "hoverlabel": {
           "align": "left"
          },
          "hovermode": "closest",
          "mapbox": {
           "style": "light"
          },
          "paper_bgcolor": "white",
          "plot_bgcolor": "#E5ECF6",
          "polar": {
           "angularaxis": {
            "gridcolor": "white",
            "linecolor": "white",
            "ticks": ""
           },
           "bgcolor": "#E5ECF6",
           "radialaxis": {
            "gridcolor": "white",
            "linecolor": "white",
            "ticks": ""
           }
          },
          "scene": {
           "xaxis": {
            "backgroundcolor": "#E5ECF6",
            "gridcolor": "white",
            "gridwidth": 2,
            "linecolor": "white",
            "showbackground": true,
            "ticks": "",
            "zerolinecolor": "white"
           },
           "yaxis": {
            "backgroundcolor": "#E5ECF6",
            "gridcolor": "white",
            "gridwidth": 2,
            "linecolor": "white",
            "showbackground": true,
            "ticks": "",
            "zerolinecolor": "white"
           },
           "zaxis": {
            "backgroundcolor": "#E5ECF6",
            "gridcolor": "white",
            "gridwidth": 2,
            "linecolor": "white",
            "showbackground": true,
            "ticks": "",
            "zerolinecolor": "white"
           }
          },
          "shapedefaults": {
           "line": {
            "color": "#2a3f5f"
           }
          },
          "ternary": {
           "aaxis": {
            "gridcolor": "white",
            "linecolor": "white",
            "ticks": ""
           },
           "baxis": {
            "gridcolor": "white",
            "linecolor": "white",
            "ticks": ""
           },
           "bgcolor": "#E5ECF6",
           "caxis": {
            "gridcolor": "white",
            "linecolor": "white",
            "ticks": ""
           }
          },
          "title": {
           "x": 0.05
          },
          "xaxis": {
           "automargin": true,
           "gridcolor": "white",
           "linecolor": "white",
           "ticks": "",
           "title": {
            "standoff": 15
           },
           "zerolinecolor": "white",
           "zerolinewidth": 2
          },
          "yaxis": {
           "automargin": true,
           "gridcolor": "white",
           "linecolor": "white",
           "ticks": "",
           "title": {
            "standoff": 15
           },
           "zerolinecolor": "white",
           "zerolinewidth": 2
          }
         }
        },
        "width": 1280
       }
      }
     },
     "metadata": {},
     "output_type": "display_data"
    }
   ],
   "source": [
    "visualize(model, sample_descriptions, \"tokenize_desc\", 7)"
   ]
  },
  {
   "cell_type": "markdown",
   "metadata": {},
   "source": [
    "### Visualizing Tags"
   ]
  },
  {
   "cell_type": "code",
   "execution_count": 22,
   "metadata": {},
   "outputs": [
    {
     "name": "stderr",
     "output_type": "stream",
     "text": [
      "/Library/Frameworks/Python.framework/Versions/3.12/lib/python3.12/site-packages/sklearn/cluster/_kmeans.py:1416: FutureWarning:\n",
      "\n",
      "The default value of `n_init` will change from 10 to 'auto' in 1.4. Set the value of `n_init` explicitly to suppress the warning\n",
      "\n"
     ]
    },
    {
     "data": {
      "application/vnd.plotly.v1+json": {
       "config": {
        "plotlyServerURL": "https://plot.ly"
       },
       "data": [
        {
         "hovertemplate": "<b>%{hovertext}</b>",
         "hovertext": [
          "Baldur's Gate 3",
          "Remnant II",
          "Cyberpunk 2077",
          "Dead by Daylight",
          "Street Fighter™ 6",
          "Phasmophobia",
          "DAVE THE DIVER",
          "ELDEN RING",
          "Sons Of The Forest",
          "The Texas Chain Saw Massacre",
          "Red Dead Redemption 2",
          "Hogwarts Legacy",
          "Starfield",
          "Sea of Thieves 2023 Edition",
          "Fallout 76",
          "Path of Exile",
          "Dead Cells",
          "Ratchet & Clank: Rift Apart",
          "The Outlast Trials",
          "theHunter: Call of the Wild™",
          "The Elder Scrolls V: Skyrim Special Edition",
          "Escape the Backrooms",
          "It Takes Two",
          "The Binding of Isaac: Rebirth",
          "Brawlhalla",
          "DRAGON BALL Z: KAKAROT",
          "Garry's Mod",
          "Dying Light",
          "BlazBlue Entropy Effect",
          "Marvel’s Spider-Man Remastered"
         ],
         "legendgroup": "0",
         "marker": {
          "color": "#636efa",
          "symbol": "circle"
         },
         "mode": "markers",
         "name": "0",
         "scene": "scene",
         "showlegend": true,
         "type": "scatter3d",
         "x": [
          0.023738078773021698,
          -0.274387925863266,
          -0.09757760167121887,
          -0.20119629800319672,
          -0.13917772471904755,
          -0.30113914608955383,
          0.01632349193096161,
          -0.2481239140033722,
          -0.09644787758588791,
          -0.1949581652879715,
          -0.015121367760002613,
          0.023354342207312584,
          -0.03003770112991333,
          0.006219889968633652,
          -0.02255406603217125,
          -0.07997160404920578,
          -0.23340068757534027,
          -0.17569641768932343,
          -0.2852817475795746,
          -0.028036076575517654,
          0.04079701378941536,
          -0.2438916116952896,
          -0.03550877422094345,
          -0.15287625789642334,
          -0.11871375888586044,
          -0.08988884091377258,
          -0.04690643399953842,
          -0.18818925321102142,
          -0.09655685722827911,
          -0.13442429900169373
         ],
         "y": [
          -0.08394014835357666,
          0.03837631642818451,
          0.0402618832886219,
          0.031192785128951073,
          -0.018209043890237808,
          0.11215675622224808,
          -0.03597765043377876,
          0.024783087894320488,
          -0.0024729459546506405,
          0.03197670355439186,
          0.009689745493233204,
          -0.08159436285495758,
          -0.03174649551510811,
          -0.03537120297551155,
          -0.032001741230487823,
          -0.06078958511352539,
          -0.003191514639183879,
          0.011638944037258625,
          0.04287176951766014,
          0.016229411587119102,
          -0.08738240599632263,
          0.05385103076696396,
          -0.04792642220854759,
          -0.04457428306341171,
          -0.007369847036898136,
          -0.04996102675795555,
          0.03226490691304207,
          0.05006878077983856,
          -0.059756770730018616,
          -0.009329848922789097
         ],
         "z": [
          -0.11426973342895508,
          -0.010454811155796051,
          -0.08639425784349442,
          -0.05205390602350235,
          0.014174295589327812,
          -0.125747948884964,
          -0.13860414922237396,
          -0.07099597156047821,
          -0.14558163285255432,
          -0.08527421951293945,
          -0.1165788546204567,
          -0.12025520950555801,
          -0.10600124299526215,
          0.006808305159211159,
          -0.11198288947343826,
          -0.03898594155907631,
          -0.09150087833404541,
          -0.05495224520564079,
          -0.10713915526866913,
          -0.07009775936603546,
          -0.106979601085186,
          -0.16194990277290344,
          -0.06446429342031479,
          -0.07105422019958496,
          0.08096899092197418,
          0.014135248027741909,
          -0.056629911065101624,
          -0.08112407475709915,
          -0.09582393616437912,
          -0.0034776953980326653
         ]
        },
        {
         "hovertemplate": "<b>%{hovertext}</b>",
         "hovertext": [
          "Counter-Strike: Global Offensive",
          "Apex Legends™",
          "Call of Duty®",
          "PUBG: BATTLEGROUNDS",
          "NARAKA: BLADEPOINT",
          "Tom Clancy's Rainbow Six® Siege",
          "Team Fortress 2",
          "Warframe",
          "BattleBit Remastered",
          "Destiny 2",
          "PAYDAY 2",
          "Hunt: Showdown",
          "Ready or Not",
          "ARMORED CORE™ VI FIRES OF RUBICON™",
          "Metro Exodus",
          "Call of Duty®: Black Ops III",
          "Deep Rock Galactic",
          "World of Tanks Blitz",
          "Vampire Survivors",
          "SCP: 5K",
          "DayZ",
          "Six Days in Fallujah",
          "Resident Evil 4"
         ],
         "legendgroup": "4",
         "marker": {
          "color": "#EF553B",
          "symbol": "circle"
         },
         "mode": "markers",
         "name": "4",
         "scene": "scene",
         "showlegend": true,
         "type": "scatter3d",
         "x": [
          -0.08062874525785446,
          -0.1376136988401413,
          -0.15056295692920685,
          -0.12232188135385513,
          -0.13700242340564728,
          -0.10822474956512451,
          -0.07640568166971207,
          -0.1484314501285553,
          -0.15495777130126953,
          -0.12323340028524399,
          -0.2365778535604477,
          -0.14044582843780518,
          -0.12133525311946869,
          -0.0925932303071022,
          -0.14435900747776031,
          -0.17835672199726105,
          -0.17629867792129517,
          -0.0834323987364769,
          -0.18671594560146332,
          -0.19585919380187988,
          -0.0852464810013771,
          -0.15254053473472595,
          -0.21976014971733093
         ],
         "y": [
          0.009232385084033012,
          -0.018542760983109474,
          0.048073604702949524,
          0.004118914715945721,
          -0.025072267279028893,
          0.018472742289304733,
          -0.02221888117492199,
          -0.023177549242973328,
          0.016883864998817444,
          -0.028621651232242584,
          0.041020918637514114,
          0.04979954659938812,
          0.023330606520175934,
          -0.01654496230185032,
          0.019982129335403442,
          0.04104136675596237,
          0.004163410514593124,
          -0.04403752088546753,
          -0.00902569480240345,
          0.0148772606626153,
          -0.011263407766819,
          0.013689006678760052,
          0.041580554097890854
         ],
         "z": [
          0.0887739509344101,
          0.13338127732276917,
          0.04093153774738312,
          0.08227424323558807,
          0.04109097272157669,
          0.12731461226940155,
          0.054193273186683655,
          0.039201200008392334,
          0.14692232012748718,
          0.1468493491411209,
          0.07408265024423599,
          0.05791785195469856,
          0.07290005683898926,
          0.02784121036529541,
          -0.005295665469020605,
          0.04957098141312599,
          0.06761117279529572,
          0.16362839937210083,
          0.028811920434236526,
          0.06454870849847794,
          0.0470811203122139,
          0.18199141323566437,
          -0.010350916534662247
         ]
        },
        {
         "hovertemplate": "<b>%{hovertext}</b>",
         "hovertext": [
          "Forza Horizon 5",
          "Grand Theft Auto V",
          "War Thunder",
          "Forza Horizon 4",
          "Euro Truck Simulator 2",
          "American Truck Simulator",
          "F1® 23",
          "BeamNG.drive",
          "Contraband Police"
         ],
         "legendgroup": "2",
         "marker": {
          "color": "#00cc96",
          "symbol": "circle"
         },
         "mode": "markers",
         "name": "2",
         "scene": "scene",
         "showlegend": true,
         "type": "scatter3d",
         "x": [
          0.14746825397014618,
          0.046835437417030334,
          0.13451272249221802,
          0.155912846326828,
          0.26520854234695435,
          0.2837047278881073,
          0.17418649792671204,
          0.2721952497959137,
          0.10398996621370316
         ],
         "y": [
          0.23153911530971527,
          0.21553781628608704,
          0.2999638319015503,
          0.2838169038295746,
          0.2850000858306885,
          0.29414865374565125,
          0.3113664984703064,
          0.2875549793243408,
          0.25871503353118896
         ],
         "z": [
          -0.001221609185449779,
          -0.05147490277886391,
          0.26749387383461,
          0.06594464182853699,
          -0.031123703345656395,
          -0.003974536433815956,
          0.10987602174282074,
          -0.012221043929457664,
          -0.08957581967115402
         ]
        },
        {
         "hovertemplate": "<b>%{hovertext}</b>",
         "hovertext": [
          "Rust",
          "The Sims™ 4",
          "Project Zomboid",
          "Raft",
          "Farming Simulator 22",
          "Stardew Valley",
          "Sengoku Dynasty",
          "Cities: Skylines",
          "Microsoft Flight Simulator 40th Anniversary Edition",
          "RimWorld",
          "Terraria",
          "ARK: Survival Evolved",
          "Graveyard Keeper",
          "Don't Starve Together",
          "Planet Zoo",
          "BOOK OF HOURS",
          "Valheim"
         ],
         "legendgroup": "1",
         "marker": {
          "color": "#ab63fa",
          "symbol": "circle"
         },
         "mode": "markers",
         "name": "1",
         "scene": "scene",
         "showlegend": true,
         "type": "scatter3d",
         "x": [
          0.04954668506979942,
          0.13518691062927246,
          0.06040345877408981,
          0.14555244147777557,
          0.2705402374267578,
          0.18935438990592957,
          0.1103174015879631,
          0.23420141637325287,
          0.06999706476926804,
          0.26958680152893066,
          0.09748375415802002,
          0.16780084371566772,
          0.07047748565673828,
          0.12388844788074493,
          0.3155171871185303,
          0.1447962373495102,
          0.1313362866640091
         ],
         "y": [
          -0.04927156865596771,
          0.09814237803220749,
          -0.03705830127000809,
          -0.06658294796943665,
          0.06709098815917969,
          0.0294367503374815,
          0.004063708242028952,
          0.04809490591287613,
          0.13133548200130463,
          -0.00808840524405241,
          -0.05898251757025719,
          -0.062455687671899796,
          -0.03457995876669884,
          -0.06463711708784103,
          0.033867597579956055,
          -0.10006498545408249,
          -0.05231092497706413
         ],
         "z": [
          -0.007516698446124792,
          -0.13274413347244263,
          -0.09559473395347595,
          -0.1142318993806839,
          -0.0689837783575058,
          -0.15864038467407227,
          -0.1384260207414627,
          -0.04740748181939125,
          -0.02236354351043701,
          -0.03329034149646759,
          -0.1193288117647171,
          -0.12127614766359329,
          -0.07915093004703522,
          -0.11034150421619415,
          -0.091743104159832,
          -0.11942712962627411,
          -0.14319925010204315
         ]
        },
        {
         "hovertemplate": "<b>%{hovertext}</b>",
         "hovertext": [
          "Dota 2",
          "FINAL FANTASY XIV Online",
          "The Elder Scrolls® Online",
          "Wayfinder",
          "Eternal Return",
          "New World",
          "Guild Wars 2"
         ],
         "legendgroup": "5",
         "marker": {
          "color": "#FFA15A",
          "symbol": "circle"
         },
         "mode": "markers",
         "name": "5",
         "scene": "scene",
         "showlegend": true,
         "type": "scatter3d",
         "x": [
          0.048159923404455185,
          0.09594447165727615,
          0.08950557559728622,
          0.0211790818721056,
          -0.0049528018571436405,
          -0.00013077599578537047,
          0.03927707299590111
         ],
         "y": [
          -0.11358655989170074,
          -0.11184775084257126,
          -0.09931391477584839,
          -0.12587343156337738,
          -0.09429164230823517,
          -0.0763813927769661,
          -0.07817236334085464
         ],
         "z": [
          0.23425407707691193,
          0.025752272456884384,
          0.02881368063390255,
          0.05612890422344208,
          0.16727787256240845,
          0.14871421456336975,
          0.02752387337386608
         ]
        },
        {
         "hovertemplate": "<b>%{hovertext}</b>",
         "hovertext": [
          "EA SPORTS™ FIFA 23",
          "Football Manager 2023",
          "Madden NFL 24",
          "EA SPORTS FC™ 24"
         ],
         "legendgroup": "6",
         "marker": {
          "color": "#19d3f3",
          "symbol": "circle"
         },
         "mode": "markers",
         "name": "6",
         "scene": "scene",
         "showlegend": true,
         "type": "scatter3d",
         "x": [
          0.13482694327831268,
          0.27254804968833923,
          0.14438608288764954,
          -0.04055709019303322
         ],
         "y": [
          0.07770586758852005,
          0.0683273896574974,
          0.030324237421154976,
          0.06057228893041611
         ],
         "z": [
          0.15847349166870117,
          0.14708255231380463,
          0.14352087676525116,
          0.18558791279792786
         ]
        },
        {
         "hovertemplate": "<b>%{hovertext}</b>",
         "hovertext": [
          "Hearts of Iron IV",
          "Yu-Gi-Oh! Master Duel",
          "Total War: WARHAMMER III",
          "World of Warships",
          "Mount & Blade II: Bannerlord",
          "Stellaris",
          "Crusader Kings III",
          "Shadow Gambit: The Cursed Crew",
          "Darkest Dungeon® II",
          "Sid Meier’s Civilization® VI"
         ],
         "legendgroup": "3",
         "marker": {
          "color": "#FF6692",
          "symbol": "circle"
         },
         "mode": "markers",
         "name": "3",
         "scene": "scene",
         "showlegend": true,
         "type": "scatter3d",
         "x": [
          0.26992067694664,
          0.09848164767026901,
          0.2135489583015442,
          0.1315164566040039,
          0.23766377568244934,
          0.16560038924217224,
          0.33059415221214294,
          0.15551254153251648,
          -0.02386504039168358,
          0.12337447702884674
         ],
         "y": [
          -0.20510776340961456,
          -0.16327404975891113,
          -0.21545860171318054,
          -0.10942094027996063,
          -0.2575807571411133,
          -0.07857390493154526,
          -0.22913680970668793,
          -0.2168302834033966,
          -0.17840291559696198,
          -0.1808479130268097
         ],
         "z": [
          0.1246950551867485,
          0.05901040509343147,
          0.045006461441516876,
          0.14382989704608917,
          0.039065804332494736,
          -0.022814150899648666,
          0.02772233635187149,
          0.07107870280742645,
          -0.06619243323802948,
          0.05642774701118469
         ]
        }
       ],
       "layout": {
        "height": 720,
        "legend": {
         "title": {
          "text": "cluster"
         },
         "tracegroupgap": 0
        },
        "margin": {
         "t": 60
        },
        "scene": {
         "domain": {
          "x": [
           0,
           1
          ],
          "y": [
           0,
           1
          ]
         },
         "xaxis": {
          "range": [
           -0.8011391460895538,
           0.8305941522121429
          ],
          "title": {
           "text": "x"
          }
         },
         "yaxis": {
          "range": [
           -0.7575807571411133,
           0.8113664984703064
          ],
          "title": {
           "text": "y"
          }
         },
         "zaxis": {
          "range": [
           -0.6619499027729034,
           0.76749387383461
          ],
          "title": {
           "text": "z"
          }
         }
        },
        "template": {
         "data": {
          "bar": [
           {
            "error_x": {
             "color": "#2a3f5f"
            },
            "error_y": {
             "color": "#2a3f5f"
            },
            "marker": {
             "line": {
              "color": "#E5ECF6",
              "width": 0.5
             },
             "pattern": {
              "fillmode": "overlay",
              "size": 10,
              "solidity": 0.2
             }
            },
            "type": "bar"
           }
          ],
          "barpolar": [
           {
            "marker": {
             "line": {
              "color": "#E5ECF6",
              "width": 0.5
             },
             "pattern": {
              "fillmode": "overlay",
              "size": 10,
              "solidity": 0.2
             }
            },
            "type": "barpolar"
           }
          ],
          "carpet": [
           {
            "aaxis": {
             "endlinecolor": "#2a3f5f",
             "gridcolor": "white",
             "linecolor": "white",
             "minorgridcolor": "white",
             "startlinecolor": "#2a3f5f"
            },
            "baxis": {
             "endlinecolor": "#2a3f5f",
             "gridcolor": "white",
             "linecolor": "white",
             "minorgridcolor": "white",
             "startlinecolor": "#2a3f5f"
            },
            "type": "carpet"
           }
          ],
          "choropleth": [
           {
            "colorbar": {
             "outlinewidth": 0,
             "ticks": ""
            },
            "type": "choropleth"
           }
          ],
          "contour": [
           {
            "colorbar": {
             "outlinewidth": 0,
             "ticks": ""
            },
            "colorscale": [
             [
              0,
              "#0d0887"
             ],
             [
              0.1111111111111111,
              "#46039f"
             ],
             [
              0.2222222222222222,
              "#7201a8"
             ],
             [
              0.3333333333333333,
              "#9c179e"
             ],
             [
              0.4444444444444444,
              "#bd3786"
             ],
             [
              0.5555555555555556,
              "#d8576b"
             ],
             [
              0.6666666666666666,
              "#ed7953"
             ],
             [
              0.7777777777777778,
              "#fb9f3a"
             ],
             [
              0.8888888888888888,
              "#fdca26"
             ],
             [
              1,
              "#f0f921"
             ]
            ],
            "type": "contour"
           }
          ],
          "contourcarpet": [
           {
            "colorbar": {
             "outlinewidth": 0,
             "ticks": ""
            },
            "type": "contourcarpet"
           }
          ],
          "heatmap": [
           {
            "colorbar": {
             "outlinewidth": 0,
             "ticks": ""
            },
            "colorscale": [
             [
              0,
              "#0d0887"
             ],
             [
              0.1111111111111111,
              "#46039f"
             ],
             [
              0.2222222222222222,
              "#7201a8"
             ],
             [
              0.3333333333333333,
              "#9c179e"
             ],
             [
              0.4444444444444444,
              "#bd3786"
             ],
             [
              0.5555555555555556,
              "#d8576b"
             ],
             [
              0.6666666666666666,
              "#ed7953"
             ],
             [
              0.7777777777777778,
              "#fb9f3a"
             ],
             [
              0.8888888888888888,
              "#fdca26"
             ],
             [
              1,
              "#f0f921"
             ]
            ],
            "type": "heatmap"
           }
          ],
          "heatmapgl": [
           {
            "colorbar": {
             "outlinewidth": 0,
             "ticks": ""
            },
            "colorscale": [
             [
              0,
              "#0d0887"
             ],
             [
              0.1111111111111111,
              "#46039f"
             ],
             [
              0.2222222222222222,
              "#7201a8"
             ],
             [
              0.3333333333333333,
              "#9c179e"
             ],
             [
              0.4444444444444444,
              "#bd3786"
             ],
             [
              0.5555555555555556,
              "#d8576b"
             ],
             [
              0.6666666666666666,
              "#ed7953"
             ],
             [
              0.7777777777777778,
              "#fb9f3a"
             ],
             [
              0.8888888888888888,
              "#fdca26"
             ],
             [
              1,
              "#f0f921"
             ]
            ],
            "type": "heatmapgl"
           }
          ],
          "histogram": [
           {
            "marker": {
             "pattern": {
              "fillmode": "overlay",
              "size": 10,
              "solidity": 0.2
             }
            },
            "type": "histogram"
           }
          ],
          "histogram2d": [
           {
            "colorbar": {
             "outlinewidth": 0,
             "ticks": ""
            },
            "colorscale": [
             [
              0,
              "#0d0887"
             ],
             [
              0.1111111111111111,
              "#46039f"
             ],
             [
              0.2222222222222222,
              "#7201a8"
             ],
             [
              0.3333333333333333,
              "#9c179e"
             ],
             [
              0.4444444444444444,
              "#bd3786"
             ],
             [
              0.5555555555555556,
              "#d8576b"
             ],
             [
              0.6666666666666666,
              "#ed7953"
             ],
             [
              0.7777777777777778,
              "#fb9f3a"
             ],
             [
              0.8888888888888888,
              "#fdca26"
             ],
             [
              1,
              "#f0f921"
             ]
            ],
            "type": "histogram2d"
           }
          ],
          "histogram2dcontour": [
           {
            "colorbar": {
             "outlinewidth": 0,
             "ticks": ""
            },
            "colorscale": [
             [
              0,
              "#0d0887"
             ],
             [
              0.1111111111111111,
              "#46039f"
             ],
             [
              0.2222222222222222,
              "#7201a8"
             ],
             [
              0.3333333333333333,
              "#9c179e"
             ],
             [
              0.4444444444444444,
              "#bd3786"
             ],
             [
              0.5555555555555556,
              "#d8576b"
             ],
             [
              0.6666666666666666,
              "#ed7953"
             ],
             [
              0.7777777777777778,
              "#fb9f3a"
             ],
             [
              0.8888888888888888,
              "#fdca26"
             ],
             [
              1,
              "#f0f921"
             ]
            ],
            "type": "histogram2dcontour"
           }
          ],
          "mesh3d": [
           {
            "colorbar": {
             "outlinewidth": 0,
             "ticks": ""
            },
            "type": "mesh3d"
           }
          ],
          "parcoords": [
           {
            "line": {
             "colorbar": {
              "outlinewidth": 0,
              "ticks": ""
             }
            },
            "type": "parcoords"
           }
          ],
          "pie": [
           {
            "automargin": true,
            "type": "pie"
           }
          ],
          "scatter": [
           {
            "fillpattern": {
             "fillmode": "overlay",
             "size": 10,
             "solidity": 0.2
            },
            "type": "scatter"
           }
          ],
          "scatter3d": [
           {
            "line": {
             "colorbar": {
              "outlinewidth": 0,
              "ticks": ""
             }
            },
            "marker": {
             "colorbar": {
              "outlinewidth": 0,
              "ticks": ""
             }
            },
            "type": "scatter3d"
           }
          ],
          "scattercarpet": [
           {
            "marker": {
             "colorbar": {
              "outlinewidth": 0,
              "ticks": ""
             }
            },
            "type": "scattercarpet"
           }
          ],
          "scattergeo": [
           {
            "marker": {
             "colorbar": {
              "outlinewidth": 0,
              "ticks": ""
             }
            },
            "type": "scattergeo"
           }
          ],
          "scattergl": [
           {
            "marker": {
             "colorbar": {
              "outlinewidth": 0,
              "ticks": ""
             }
            },
            "type": "scattergl"
           }
          ],
          "scattermapbox": [
           {
            "marker": {
             "colorbar": {
              "outlinewidth": 0,
              "ticks": ""
             }
            },
            "type": "scattermapbox"
           }
          ],
          "scatterpolar": [
           {
            "marker": {
             "colorbar": {
              "outlinewidth": 0,
              "ticks": ""
             }
            },
            "type": "scatterpolar"
           }
          ],
          "scatterpolargl": [
           {
            "marker": {
             "colorbar": {
              "outlinewidth": 0,
              "ticks": ""
             }
            },
            "type": "scatterpolargl"
           }
          ],
          "scatterternary": [
           {
            "marker": {
             "colorbar": {
              "outlinewidth": 0,
              "ticks": ""
             }
            },
            "type": "scatterternary"
           }
          ],
          "surface": [
           {
            "colorbar": {
             "outlinewidth": 0,
             "ticks": ""
            },
            "colorscale": [
             [
              0,
              "#0d0887"
             ],
             [
              0.1111111111111111,
              "#46039f"
             ],
             [
              0.2222222222222222,
              "#7201a8"
             ],
             [
              0.3333333333333333,
              "#9c179e"
             ],
             [
              0.4444444444444444,
              "#bd3786"
             ],
             [
              0.5555555555555556,
              "#d8576b"
             ],
             [
              0.6666666666666666,
              "#ed7953"
             ],
             [
              0.7777777777777778,
              "#fb9f3a"
             ],
             [
              0.8888888888888888,
              "#fdca26"
             ],
             [
              1,
              "#f0f921"
             ]
            ],
            "type": "surface"
           }
          ],
          "table": [
           {
            "cells": {
             "fill": {
              "color": "#EBF0F8"
             },
             "line": {
              "color": "white"
             }
            },
            "header": {
             "fill": {
              "color": "#C8D4E3"
             },
             "line": {
              "color": "white"
             }
            },
            "type": "table"
           }
          ]
         },
         "layout": {
          "annotationdefaults": {
           "arrowcolor": "#2a3f5f",
           "arrowhead": 0,
           "arrowwidth": 1
          },
          "autotypenumbers": "strict",
          "coloraxis": {
           "colorbar": {
            "outlinewidth": 0,
            "ticks": ""
           }
          },
          "colorscale": {
           "diverging": [
            [
             0,
             "#8e0152"
            ],
            [
             0.1,
             "#c51b7d"
            ],
            [
             0.2,
             "#de77ae"
            ],
            [
             0.3,
             "#f1b6da"
            ],
            [
             0.4,
             "#fde0ef"
            ],
            [
             0.5,
             "#f7f7f7"
            ],
            [
             0.6,
             "#e6f5d0"
            ],
            [
             0.7,
             "#b8e186"
            ],
            [
             0.8,
             "#7fbc41"
            ],
            [
             0.9,
             "#4d9221"
            ],
            [
             1,
             "#276419"
            ]
           ],
           "sequential": [
            [
             0,
             "#0d0887"
            ],
            [
             0.1111111111111111,
             "#46039f"
            ],
            [
             0.2222222222222222,
             "#7201a8"
            ],
            [
             0.3333333333333333,
             "#9c179e"
            ],
            [
             0.4444444444444444,
             "#bd3786"
            ],
            [
             0.5555555555555556,
             "#d8576b"
            ],
            [
             0.6666666666666666,
             "#ed7953"
            ],
            [
             0.7777777777777778,
             "#fb9f3a"
            ],
            [
             0.8888888888888888,
             "#fdca26"
            ],
            [
             1,
             "#f0f921"
            ]
           ],
           "sequentialminus": [
            [
             0,
             "#0d0887"
            ],
            [
             0.1111111111111111,
             "#46039f"
            ],
            [
             0.2222222222222222,
             "#7201a8"
            ],
            [
             0.3333333333333333,
             "#9c179e"
            ],
            [
             0.4444444444444444,
             "#bd3786"
            ],
            [
             0.5555555555555556,
             "#d8576b"
            ],
            [
             0.6666666666666666,
             "#ed7953"
            ],
            [
             0.7777777777777778,
             "#fb9f3a"
            ],
            [
             0.8888888888888888,
             "#fdca26"
            ],
            [
             1,
             "#f0f921"
            ]
           ]
          },
          "colorway": [
           "#636efa",
           "#EF553B",
           "#00cc96",
           "#ab63fa",
           "#FFA15A",
           "#19d3f3",
           "#FF6692",
           "#B6E880",
           "#FF97FF",
           "#FECB52"
          ],
          "font": {
           "color": "#2a3f5f"
          },
          "geo": {
           "bgcolor": "white",
           "lakecolor": "white",
           "landcolor": "#E5ECF6",
           "showlakes": true,
           "showland": true,
           "subunitcolor": "white"
          },
          "hoverlabel": {
           "align": "left"
          },
          "hovermode": "closest",
          "mapbox": {
           "style": "light"
          },
          "paper_bgcolor": "white",
          "plot_bgcolor": "#E5ECF6",
          "polar": {
           "angularaxis": {
            "gridcolor": "white",
            "linecolor": "white",
            "ticks": ""
           },
           "bgcolor": "#E5ECF6",
           "radialaxis": {
            "gridcolor": "white",
            "linecolor": "white",
            "ticks": ""
           }
          },
          "scene": {
           "xaxis": {
            "backgroundcolor": "#E5ECF6",
            "gridcolor": "white",
            "gridwidth": 2,
            "linecolor": "white",
            "showbackground": true,
            "ticks": "",
            "zerolinecolor": "white"
           },
           "yaxis": {
            "backgroundcolor": "#E5ECF6",
            "gridcolor": "white",
            "gridwidth": 2,
            "linecolor": "white",
            "showbackground": true,
            "ticks": "",
            "zerolinecolor": "white"
           },
           "zaxis": {
            "backgroundcolor": "#E5ECF6",
            "gridcolor": "white",
            "gridwidth": 2,
            "linecolor": "white",
            "showbackground": true,
            "ticks": "",
            "zerolinecolor": "white"
           }
          },
          "shapedefaults": {
           "line": {
            "color": "#2a3f5f"
           }
          },
          "ternary": {
           "aaxis": {
            "gridcolor": "white",
            "linecolor": "white",
            "ticks": ""
           },
           "baxis": {
            "gridcolor": "white",
            "linecolor": "white",
            "ticks": ""
           },
           "bgcolor": "#E5ECF6",
           "caxis": {
            "gridcolor": "white",
            "linecolor": "white",
            "ticks": ""
           }
          },
          "title": {
           "x": 0.05
          },
          "xaxis": {
           "automargin": true,
           "gridcolor": "white",
           "linecolor": "white",
           "ticks": "",
           "title": {
            "standoff": 15
           },
           "zerolinecolor": "white",
           "zerolinewidth": 2
          },
          "yaxis": {
           "automargin": true,
           "gridcolor": "white",
           "linecolor": "white",
           "ticks": "",
           "title": {
            "standoff": 15
           },
           "zerolinecolor": "white",
           "zerolinewidth": 2
          }
         }
        },
        "width": 1280
       }
      }
     },
     "metadata": {},
     "output_type": "display_data"
    }
   ],
   "source": [
    "visualize(model, sample_descriptions, \"tokenize_tag\", 7)"
   ]
  },
  {
   "cell_type": "markdown",
   "metadata": {},
   "source": [
    "### Visualizing Combination: Description + Tags"
   ]
  },
  {
   "cell_type": "code",
   "execution_count": 23,
   "metadata": {},
   "outputs": [
    {
     "name": "stderr",
     "output_type": "stream",
     "text": [
      "/Library/Frameworks/Python.framework/Versions/3.12/lib/python3.12/site-packages/sklearn/cluster/_kmeans.py:1416: FutureWarning:\n",
      "\n",
      "The default value of `n_init` will change from 10 to 'auto' in 1.4. Set the value of `n_init` explicitly to suppress the warning\n",
      "\n"
     ]
    },
    {
     "data": {
      "application/vnd.plotly.v1+json": {
       "config": {
        "plotlyServerURL": "https://plot.ly"
       },
       "data": [
        {
         "hovertemplate": "<b>%{hovertext}</b>",
         "hovertext": [
          "Baldur's Gate 3",
          "Remnant II",
          "Cyberpunk 2077",
          "Rust",
          "Team Fortress 2",
          "DAVE THE DIVER",
          "Total War: WARHAMMER III",
          "Project Zomboid",
          "Raft",
          "Sea of Thieves 2023 Edition",
          "Fallout 76",
          "Metro Exodus",
          "Terraria",
          "ARK: Survival Evolved",
          "Vampire Survivors",
          "Shadow Gambit: The Cursed Crew",
          "theHunter: Call of the Wild™",
          "DayZ",
          "Darkest Dungeon® II",
          "Contraband Police",
          "Don't Starve Together",
          "The Binding of Isaac: Rebirth",
          "BOOK OF HOURS",
          "Valheim"
         ],
         "legendgroup": "3",
         "marker": {
          "color": "#636efa",
          "symbol": "circle"
         },
         "mode": "markers",
         "name": "3",
         "scene": "scene",
         "showlegend": true,
         "type": "scatter3d",
         "x": [
          -0.01608445681631565,
          -0.15614192187786102,
          -0.020579351112246513,
          -0.012048348784446716,
          -0.020969366654753685,
          -0.08622383326292038,
          0.05764222517609596,
          -0.09515760838985443,
          0.015325806103646755,
          -0.10924074053764343,
          -0.068049855530262,
          0.06327696889638901,
          -0.0717993676662445,
          0.0035294760018587112,
          -0.15270599722862244,
          -0.0674506425857544,
          -0.020192723721265793,
          -0.05436750873923302,
          -0.07115713506937027,
          0.06791379302740097,
          0.021383419632911682,
          -0.14058896899223328,
          0.05511704832315445,
          -0.021629206836223602
         ],
         "y": [
          -0.04465246573090553,
          0.03695353493094444,
          0.04030992090702057,
          0.018607167527079582,
          -0.06106274202466011,
          0.07044064998626709,
          0.06190280616283417,
          0.01948314905166626,
          -0.029440324753522873,
          -0.020141784101724625,
          -0.0023964890278875828,
          0.1221923753619194,
          -0.02866712026298046,
          -0.018300872296094894,
          0.09033773094415665,
          -0.0298016220331192,
          0.05591217428445816,
          0.06545882672071457,
          0.12940330803394318,
          0.15450716018676758,
          -0.05368507653474808,
          0.03681541606783867,
          0.09653171896934509,
          -0.035875096917152405
         ],
         "z": [
          -0.12455867975950241,
          -0.061505917459726334,
          -0.06783505529165268,
          -0.007799643557518721,
          0.004176374524831772,
          -0.09958331286907196,
          -0.1994570940732956,
          -0.024312198162078857,
          -0.029211165383458138,
          -0.014427874237298965,
          -0.011186251416802406,
          0.00022860444732941687,
          -0.05184055119752884,
          -0.10478341579437256,
          -0.08407746255397797,
          -0.09745631366968155,
          0.009872490540146828,
          -0.07219995558261871,
          -0.11842793226242065,
          -0.003021025564521551,
          -0.1042170375585556,
          -0.1068950816988945,
          -0.193580761551857,
          -0.11966121941804886
         ]
        },
        {
         "hovertemplate": "<b>%{hovertext}</b>",
         "hovertext": [
          "Counter-Strike: Global Offensive",
          "Apex Legends™",
          "Call of Duty®",
          "Tom Clancy's Rainbow Six® Siege",
          "Dota 2",
          "Warframe",
          "BattleBit Remastered",
          "Street Fighter™ 6",
          "ELDEN RING",
          "Red Dead Redemption 2",
          "Hogwarts Legacy",
          "Starfield",
          "ARMORED CORE™ VI FIRES OF RUBICON™",
          "Path of Exile",
          "Call of Duty®: Black Ops III",
          "Stellaris",
          "Deep Rock Galactic",
          "Dead Cells",
          "World of Tanks Blitz",
          "Ratchet & Clank: Rift Apart",
          "The Elder Scrolls V: Skyrim Special Edition",
          "It Takes Two",
          "Brawlhalla",
          "DRAGON BALL Z: KAKAROT",
          "Garry's Mod",
          "BlazBlue Entropy Effect",
          "Marvel’s Spider-Man Remastered"
         ],
         "legendgroup": "0",
         "marker": {
          "color": "#EF553B",
          "symbol": "circle"
         },
         "mode": "markers",
         "name": "0",
         "scene": "scene",
         "showlegend": true,
         "type": "scatter3d",
         "x": [
          -0.06693275272846222,
          -0.09440527111291885,
          -0.04978425055742264,
          -0.10959772020578384,
          -0.09937385469675064,
          -0.10748400539159775,
          -0.08299988508224487,
          -0.04471592232584953,
          -0.08304309099912643,
          -0.1467161625623703,
          -0.0782109722495079,
          -0.042896658182144165,
          -0.06539183855056763,
          -0.1305086761713028,
          -0.17500737309455872,
          0.03974967449903488,
          -0.15216930210590363,
          -0.2192063182592392,
          -0.05224455147981644,
          -0.17245744168758392,
          -0.07942071557044983,
          -0.038572873920202255,
          -0.13533219695091248,
          -0.0927535742521286,
          0.02887759543955326,
          -0.1357949674129486,
          -0.17174004018306732
         ],
         "y": [
          -0.1456790715456009,
          -0.13767747581005096,
          -0.04163925722241402,
          -0.07671509683132172,
          -0.16772252321243286,
          -0.166608527302742,
          -0.1105533242225647,
          -0.10925816744565964,
          -0.0900949165225029,
          -0.011325445957481861,
          -0.03914172574877739,
          -0.07435114681720734,
          -0.09244243800640106,
          -0.09464739263057709,
          0.007101563271135092,
          -0.08775687217712402,
          -0.05706529691815376,
          -0.048847492784261703,
          -0.16882102191448212,
          -0.11747375875711441,
          -0.04359585791826248,
          -0.057477764785289764,
          -0.16208723187446594,
          0.0059145777486264706,
          -0.05506395921111107,
          -0.09775011241436005,
          0.019883718341588974
         ],
         "z": [
          0.12483778595924377,
          0.03386281803250313,
          0.04005168378353119,
          0.10377134382724762,
          0.08426231890916824,
          0.019881917163729668,
          0.1291416436433792,
          0.1716708391904831,
          -0.07511987537145615,
          0.11889811605215073,
          -0.04779604449868202,
          -0.009306271560490131,
          0.09772089123725891,
          -0.04269833862781525,
          0.10696633905172348,
          -0.054272983223199844,
          0.02459106780588627,
          0.05898621305823326,
          0.07235731929540634,
          0.11788453161716461,
          -0.014251671731472015,
          0.07191979885101318,
          0.1267421543598175,
          0.051740098744630814,
          0.13933108747005463,
          0.016212232410907745,
          0.12704883515834808
         ]
        },
        {
         "hovertemplate": "<b>%{hovertext}</b>",
         "hovertext": [
          "Forza Horizon 5",
          "Forza Horizon 4",
          "Euro Truck Simulator 2",
          "American Truck Simulator",
          "Microsoft Flight Simulator 40th Anniversary Edition",
          "F1® 23",
          "BeamNG.drive"
         ],
         "legendgroup": "2",
         "marker": {
          "color": "#00cc96",
          "symbol": "circle"
         },
         "mode": "markers",
         "name": "2",
         "scene": "scene",
         "showlegend": true,
         "type": "scatter3d",
         "x": [
          0.2274610847234726,
          0.27362117171287537,
          0.3030897378921509,
          0.42735692858695984,
          0.36452755331993103,
          0.18453878164291382,
          0.35422781109809875
         ],
         "y": [
          0.005257158074527979,
          0.09489578008651733,
          0.07244785875082016,
          0.28238755464553833,
          0.08153585344552994,
          0.0401015430688858,
          0.1630820333957672
         ],
         "z": [
          0.1894310563802719,
          0.0762954130768776,
          0.124458447098732,
          0.13303513824939728,
          0.15470139682292938,
          0.26886439323425293,
          0.24692553281784058
         ]
        },
        {
         "hovertemplate": "<b>%{hovertext}</b>",
         "hovertext": [
          "PUBG: BATTLEGROUNDS",
          "NARAKA: BLADEPOINT",
          "War Thunder",
          "FINAL FANTASY XIV Online",
          "The Elder Scrolls® Online",
          "Destiny 2",
          "Hearts of Iron IV",
          "Yu-Gi-Oh! Master Duel",
          "World of Warships",
          "Mount & Blade II: Bannerlord",
          "Wayfinder",
          "Eternal Return",
          "Sid Meier’s Civilization® VI",
          "New World",
          "Guild Wars 2"
         ],
         "legendgroup": "4",
         "marker": {
          "color": "#ab63fa",
          "symbol": "circle"
         },
         "mode": "markers",
         "name": "4",
         "scene": "scene",
         "showlegend": true,
         "type": "scatter3d",
         "x": [
          0.07645345479249954,
          -0.052273571491241455,
          0.19220878183841705,
          0.08698571473360062,
          0.04586423933506012,
          0.0628085732460022,
          0.1808565855026245,
          0.06074016913771629,
          0.1577276587486267,
          0.181369811296463,
          -0.003783917985856533,
          0.05248422175645828,
          0.09459669142961502,
          0.014122849330306053,
          0.03255654126405716
         ],
         "y": [
          -0.20834305882453918,
          -0.12318411469459534,
          -0.10801483690738678,
          -0.09904973208904266,
          -0.14048296213150024,
          -0.1577506959438324,
          -0.11853327602148056,
          -0.186692476272583,
          -0.07960524410009384,
          -0.11490080505609512,
          -0.07976793497800827,
          -0.14385229349136353,
          -0.09433590620756149,
          -0.16719239950180054,
          -0.20226356387138367
         ],
         "z": [
          -0.0644943043589592,
          -0.08190872520208359,
          0.10199565440416336,
          -0.12916643917560577,
          -0.07500715553760529,
          -0.08996943384408951,
          -0.07013080269098282,
          -0.09930793195962906,
          -0.04732491448521614,
          -0.21879495680332184,
          -0.12458720058202744,
          -0.06447434425354004,
          -0.0902252197265625,
          -0.11281095445156097,
          -0.05961473658680916
         ]
        },
        {
         "hovertemplate": "<b>%{hovertext}</b>",
         "hovertext": [
          "Grand Theft Auto V",
          "Dead by Daylight",
          "Phasmophobia",
          "Sons Of The Forest",
          "The Texas Chain Saw Massacre",
          "PAYDAY 2",
          "Hunt: Showdown",
          "Ready or Not",
          "SCP: 5K",
          "The Outlast Trials",
          "Escape the Backrooms",
          "Six Days in Fallujah",
          "Resident Evil 4",
          "Dying Light"
         ],
         "legendgroup": "6",
         "marker": {
          "color": "#FFA15A",
          "symbol": "circle"
         },
         "mode": "markers",
         "name": "6",
         "scene": "scene",
         "showlegend": true,
         "type": "scatter3d",
         "x": [
          -0.06079738959670067,
          -0.24497978389263153,
          -0.18474619090557098,
          -0.07136113196611404,
          -0.22676022350788116,
          -0.15176546573638916,
          -0.1948898285627365,
          -0.08472417294979095,
          -0.2524843215942383,
          -0.17017899453639984,
          -0.1950044333934784,
          -0.14193159341812134,
          -0.11123400926589966,
          -0.21404190361499786
         ],
         "y": [
          0.05237037315964699,
          0.209009051322937,
          0.2252906709909439,
          0.28450271487236023,
          0.34412574768066406,
          -0.009653326123952866,
          0.06823453307151794,
          0.07841383665800095,
          0.12897467613220215,
          0.24273671209812164,
          0.1888057440519333,
          0.1786479502916336,
          0.24101077020168304,
          0.16088101267814636
         ],
         "z": [
          0.16736574470996857,
          0.05511121824383736,
          0.0026952459011226892,
          -0.04766513779759407,
          0.026732375845313072,
          0.09825829416513443,
          0.08978975564241409,
          0.12095227092504501,
          0.06353841722011566,
          -0.06614251434803009,
          -0.03450649231672287,
          0.05133091285824776,
          -0.030542397871613503,
          0.0526241771876812
         ]
        },
        {
         "hovertemplate": "<b>%{hovertext}</b>",
         "hovertext": [
          "EA SPORTS™ FIFA 23",
          "Football Manager 2023",
          "Madden NFL 24",
          "EA SPORTS FC™ 24"
         ],
         "legendgroup": "5",
         "marker": {
          "color": "#19d3f3",
          "symbol": "circle"
         },
         "mode": "markers",
         "name": "5",
         "scene": "scene",
         "showlegend": true,
         "type": "scatter3d",
         "x": [
          0.1766582727432251,
          0.21226809918880463,
          0.14904600381851196,
          0.0958918035030365
         ],
         "y": [
          -0.13852520287036896,
          -0.10216415673494339,
          -0.07418342679738998,
          -0.10902995616197586
         ],
         "z": [
          0.1515083611011505,
          0.07656009495258331,
          0.0958210676908493,
          0.17962795495986938
         ]
        },
        {
         "hovertemplate": "<b>%{hovertext}</b>",
         "hovertext": [
          "The Sims™ 4",
          "Farming Simulator 22",
          "Stardew Valley",
          "Sengoku Dynasty",
          "Cities: Skylines",
          "RimWorld",
          "Crusader Kings III",
          "Graveyard Keeper",
          "Planet Zoo"
         ],
         "legendgroup": "1",
         "marker": {
          "color": "#FF6692",
          "symbol": "circle"
         },
         "mode": "markers",
         "name": "1",
         "scene": "scene",
         "showlegend": true,
         "type": "scatter3d",
         "x": [
          0.22643764317035675,
          0.2861318290233612,
          0.10345527529716492,
          0.1503465175628662,
          0.29750561714172363,
          0.11686094105243683,
          0.1293078511953354,
          0.14261917769908905,
          0.35916122794151306
         ],
         "y": [
          0.11503327637910843,
          0.012315204367041588,
          0.08699138462543488,
          0.006645527668297291,
          0.10739612579345703,
          0.18405331671237946,
          0.00775846466422081,
          0.17808717489242554,
          0.16259604692459106
         ],
         "z": [
          -0.08576565235853195,
          -0.10408953577280045,
          -0.12015366554260254,
          -0.24028654396533966,
          0.0339212492108345,
          -0.07659832388162613,
          -0.15944966673851013,
          -0.15661059319972992,
          -0.024590104818344116
         ]
        }
       ],
       "layout": {
        "height": 720,
        "legend": {
         "title": {
          "text": "cluster"
         },
         "tracegroupgap": 0
        },
        "margin": {
         "t": 60
        },
        "scene": {
         "domain": {
          "x": [
           0,
           1
          ],
          "y": [
           0,
           1
          ]
         },
         "xaxis": {
          "range": [
           -0.7524843215942383,
           0.9273569285869598
          ],
          "title": {
           "text": "x"
          }
         },
         "yaxis": {
          "range": [
           -0.7083430588245392,
           0.8441257476806641
          ],
          "title": {
           "text": "y"
          }
         },
         "zaxis": {
          "range": [
           -0.7402865439653397,
           0.7688643932342529
          ],
          "title": {
           "text": "z"
          }
         }
        },
        "template": {
         "data": {
          "bar": [
           {
            "error_x": {
             "color": "#2a3f5f"
            },
            "error_y": {
             "color": "#2a3f5f"
            },
            "marker": {
             "line": {
              "color": "#E5ECF6",
              "width": 0.5
             },
             "pattern": {
              "fillmode": "overlay",
              "size": 10,
              "solidity": 0.2
             }
            },
            "type": "bar"
           }
          ],
          "barpolar": [
           {
            "marker": {
             "line": {
              "color": "#E5ECF6",
              "width": 0.5
             },
             "pattern": {
              "fillmode": "overlay",
              "size": 10,
              "solidity": 0.2
             }
            },
            "type": "barpolar"
           }
          ],
          "carpet": [
           {
            "aaxis": {
             "endlinecolor": "#2a3f5f",
             "gridcolor": "white",
             "linecolor": "white",
             "minorgridcolor": "white",
             "startlinecolor": "#2a3f5f"
            },
            "baxis": {
             "endlinecolor": "#2a3f5f",
             "gridcolor": "white",
             "linecolor": "white",
             "minorgridcolor": "white",
             "startlinecolor": "#2a3f5f"
            },
            "type": "carpet"
           }
          ],
          "choropleth": [
           {
            "colorbar": {
             "outlinewidth": 0,
             "ticks": ""
            },
            "type": "choropleth"
           }
          ],
          "contour": [
           {
            "colorbar": {
             "outlinewidth": 0,
             "ticks": ""
            },
            "colorscale": [
             [
              0,
              "#0d0887"
             ],
             [
              0.1111111111111111,
              "#46039f"
             ],
             [
              0.2222222222222222,
              "#7201a8"
             ],
             [
              0.3333333333333333,
              "#9c179e"
             ],
             [
              0.4444444444444444,
              "#bd3786"
             ],
             [
              0.5555555555555556,
              "#d8576b"
             ],
             [
              0.6666666666666666,
              "#ed7953"
             ],
             [
              0.7777777777777778,
              "#fb9f3a"
             ],
             [
              0.8888888888888888,
              "#fdca26"
             ],
             [
              1,
              "#f0f921"
             ]
            ],
            "type": "contour"
           }
          ],
          "contourcarpet": [
           {
            "colorbar": {
             "outlinewidth": 0,
             "ticks": ""
            },
            "type": "contourcarpet"
           }
          ],
          "heatmap": [
           {
            "colorbar": {
             "outlinewidth": 0,
             "ticks": ""
            },
            "colorscale": [
             [
              0,
              "#0d0887"
             ],
             [
              0.1111111111111111,
              "#46039f"
             ],
             [
              0.2222222222222222,
              "#7201a8"
             ],
             [
              0.3333333333333333,
              "#9c179e"
             ],
             [
              0.4444444444444444,
              "#bd3786"
             ],
             [
              0.5555555555555556,
              "#d8576b"
             ],
             [
              0.6666666666666666,
              "#ed7953"
             ],
             [
              0.7777777777777778,
              "#fb9f3a"
             ],
             [
              0.8888888888888888,
              "#fdca26"
             ],
             [
              1,
              "#f0f921"
             ]
            ],
            "type": "heatmap"
           }
          ],
          "heatmapgl": [
           {
            "colorbar": {
             "outlinewidth": 0,
             "ticks": ""
            },
            "colorscale": [
             [
              0,
              "#0d0887"
             ],
             [
              0.1111111111111111,
              "#46039f"
             ],
             [
              0.2222222222222222,
              "#7201a8"
             ],
             [
              0.3333333333333333,
              "#9c179e"
             ],
             [
              0.4444444444444444,
              "#bd3786"
             ],
             [
              0.5555555555555556,
              "#d8576b"
             ],
             [
              0.6666666666666666,
              "#ed7953"
             ],
             [
              0.7777777777777778,
              "#fb9f3a"
             ],
             [
              0.8888888888888888,
              "#fdca26"
             ],
             [
              1,
              "#f0f921"
             ]
            ],
            "type": "heatmapgl"
           }
          ],
          "histogram": [
           {
            "marker": {
             "pattern": {
              "fillmode": "overlay",
              "size": 10,
              "solidity": 0.2
             }
            },
            "type": "histogram"
           }
          ],
          "histogram2d": [
           {
            "colorbar": {
             "outlinewidth": 0,
             "ticks": ""
            },
            "colorscale": [
             [
              0,
              "#0d0887"
             ],
             [
              0.1111111111111111,
              "#46039f"
             ],
             [
              0.2222222222222222,
              "#7201a8"
             ],
             [
              0.3333333333333333,
              "#9c179e"
             ],
             [
              0.4444444444444444,
              "#bd3786"
             ],
             [
              0.5555555555555556,
              "#d8576b"
             ],
             [
              0.6666666666666666,
              "#ed7953"
             ],
             [
              0.7777777777777778,
              "#fb9f3a"
             ],
             [
              0.8888888888888888,
              "#fdca26"
             ],
             [
              1,
              "#f0f921"
             ]
            ],
            "type": "histogram2d"
           }
          ],
          "histogram2dcontour": [
           {
            "colorbar": {
             "outlinewidth": 0,
             "ticks": ""
            },
            "colorscale": [
             [
              0,
              "#0d0887"
             ],
             [
              0.1111111111111111,
              "#46039f"
             ],
             [
              0.2222222222222222,
              "#7201a8"
             ],
             [
              0.3333333333333333,
              "#9c179e"
             ],
             [
              0.4444444444444444,
              "#bd3786"
             ],
             [
              0.5555555555555556,
              "#d8576b"
             ],
             [
              0.6666666666666666,
              "#ed7953"
             ],
             [
              0.7777777777777778,
              "#fb9f3a"
             ],
             [
              0.8888888888888888,
              "#fdca26"
             ],
             [
              1,
              "#f0f921"
             ]
            ],
            "type": "histogram2dcontour"
           }
          ],
          "mesh3d": [
           {
            "colorbar": {
             "outlinewidth": 0,
             "ticks": ""
            },
            "type": "mesh3d"
           }
          ],
          "parcoords": [
           {
            "line": {
             "colorbar": {
              "outlinewidth": 0,
              "ticks": ""
             }
            },
            "type": "parcoords"
           }
          ],
          "pie": [
           {
            "automargin": true,
            "type": "pie"
           }
          ],
          "scatter": [
           {
            "fillpattern": {
             "fillmode": "overlay",
             "size": 10,
             "solidity": 0.2
            },
            "type": "scatter"
           }
          ],
          "scatter3d": [
           {
            "line": {
             "colorbar": {
              "outlinewidth": 0,
              "ticks": ""
             }
            },
            "marker": {
             "colorbar": {
              "outlinewidth": 0,
              "ticks": ""
             }
            },
            "type": "scatter3d"
           }
          ],
          "scattercarpet": [
           {
            "marker": {
             "colorbar": {
              "outlinewidth": 0,
              "ticks": ""
             }
            },
            "type": "scattercarpet"
           }
          ],
          "scattergeo": [
           {
            "marker": {
             "colorbar": {
              "outlinewidth": 0,
              "ticks": ""
             }
            },
            "type": "scattergeo"
           }
          ],
          "scattergl": [
           {
            "marker": {
             "colorbar": {
              "outlinewidth": 0,
              "ticks": ""
             }
            },
            "type": "scattergl"
           }
          ],
          "scattermapbox": [
           {
            "marker": {
             "colorbar": {
              "outlinewidth": 0,
              "ticks": ""
             }
            },
            "type": "scattermapbox"
           }
          ],
          "scatterpolar": [
           {
            "marker": {
             "colorbar": {
              "outlinewidth": 0,
              "ticks": ""
             }
            },
            "type": "scatterpolar"
           }
          ],
          "scatterpolargl": [
           {
            "marker": {
             "colorbar": {
              "outlinewidth": 0,
              "ticks": ""
             }
            },
            "type": "scatterpolargl"
           }
          ],
          "scatterternary": [
           {
            "marker": {
             "colorbar": {
              "outlinewidth": 0,
              "ticks": ""
             }
            },
            "type": "scatterternary"
           }
          ],
          "surface": [
           {
            "colorbar": {
             "outlinewidth": 0,
             "ticks": ""
            },
            "colorscale": [
             [
              0,
              "#0d0887"
             ],
             [
              0.1111111111111111,
              "#46039f"
             ],
             [
              0.2222222222222222,
              "#7201a8"
             ],
             [
              0.3333333333333333,
              "#9c179e"
             ],
             [
              0.4444444444444444,
              "#bd3786"
             ],
             [
              0.5555555555555556,
              "#d8576b"
             ],
             [
              0.6666666666666666,
              "#ed7953"
             ],
             [
              0.7777777777777778,
              "#fb9f3a"
             ],
             [
              0.8888888888888888,
              "#fdca26"
             ],
             [
              1,
              "#f0f921"
             ]
            ],
            "type": "surface"
           }
          ],
          "table": [
           {
            "cells": {
             "fill": {
              "color": "#EBF0F8"
             },
             "line": {
              "color": "white"
             }
            },
            "header": {
             "fill": {
              "color": "#C8D4E3"
             },
             "line": {
              "color": "white"
             }
            },
            "type": "table"
           }
          ]
         },
         "layout": {
          "annotationdefaults": {
           "arrowcolor": "#2a3f5f",
           "arrowhead": 0,
           "arrowwidth": 1
          },
          "autotypenumbers": "strict",
          "coloraxis": {
           "colorbar": {
            "outlinewidth": 0,
            "ticks": ""
           }
          },
          "colorscale": {
           "diverging": [
            [
             0,
             "#8e0152"
            ],
            [
             0.1,
             "#c51b7d"
            ],
            [
             0.2,
             "#de77ae"
            ],
            [
             0.3,
             "#f1b6da"
            ],
            [
             0.4,
             "#fde0ef"
            ],
            [
             0.5,
             "#f7f7f7"
            ],
            [
             0.6,
             "#e6f5d0"
            ],
            [
             0.7,
             "#b8e186"
            ],
            [
             0.8,
             "#7fbc41"
            ],
            [
             0.9,
             "#4d9221"
            ],
            [
             1,
             "#276419"
            ]
           ],
           "sequential": [
            [
             0,
             "#0d0887"
            ],
            [
             0.1111111111111111,
             "#46039f"
            ],
            [
             0.2222222222222222,
             "#7201a8"
            ],
            [
             0.3333333333333333,
             "#9c179e"
            ],
            [
             0.4444444444444444,
             "#bd3786"
            ],
            [
             0.5555555555555556,
             "#d8576b"
            ],
            [
             0.6666666666666666,
             "#ed7953"
            ],
            [
             0.7777777777777778,
             "#fb9f3a"
            ],
            [
             0.8888888888888888,
             "#fdca26"
            ],
            [
             1,
             "#f0f921"
            ]
           ],
           "sequentialminus": [
            [
             0,
             "#0d0887"
            ],
            [
             0.1111111111111111,
             "#46039f"
            ],
            [
             0.2222222222222222,
             "#7201a8"
            ],
            [
             0.3333333333333333,
             "#9c179e"
            ],
            [
             0.4444444444444444,
             "#bd3786"
            ],
            [
             0.5555555555555556,
             "#d8576b"
            ],
            [
             0.6666666666666666,
             "#ed7953"
            ],
            [
             0.7777777777777778,
             "#fb9f3a"
            ],
            [
             0.8888888888888888,
             "#fdca26"
            ],
            [
             1,
             "#f0f921"
            ]
           ]
          },
          "colorway": [
           "#636efa",
           "#EF553B",
           "#00cc96",
           "#ab63fa",
           "#FFA15A",
           "#19d3f3",
           "#FF6692",
           "#B6E880",
           "#FF97FF",
           "#FECB52"
          ],
          "font": {
           "color": "#2a3f5f"
          },
          "geo": {
           "bgcolor": "white",
           "lakecolor": "white",
           "landcolor": "#E5ECF6",
           "showlakes": true,
           "showland": true,
           "subunitcolor": "white"
          },
          "hoverlabel": {
           "align": "left"
          },
          "hovermode": "closest",
          "mapbox": {
           "style": "light"
          },
          "paper_bgcolor": "white",
          "plot_bgcolor": "#E5ECF6",
          "polar": {
           "angularaxis": {
            "gridcolor": "white",
            "linecolor": "white",
            "ticks": ""
           },
           "bgcolor": "#E5ECF6",
           "radialaxis": {
            "gridcolor": "white",
            "linecolor": "white",
            "ticks": ""
           }
          },
          "scene": {
           "xaxis": {
            "backgroundcolor": "#E5ECF6",
            "gridcolor": "white",
            "gridwidth": 2,
            "linecolor": "white",
            "showbackground": true,
            "ticks": "",
            "zerolinecolor": "white"
           },
           "yaxis": {
            "backgroundcolor": "#E5ECF6",
            "gridcolor": "white",
            "gridwidth": 2,
            "linecolor": "white",
            "showbackground": true,
            "ticks": "",
            "zerolinecolor": "white"
           },
           "zaxis": {
            "backgroundcolor": "#E5ECF6",
            "gridcolor": "white",
            "gridwidth": 2,
            "linecolor": "white",
            "showbackground": true,
            "ticks": "",
            "zerolinecolor": "white"
           }
          },
          "shapedefaults": {
           "line": {
            "color": "#2a3f5f"
           }
          },
          "ternary": {
           "aaxis": {
            "gridcolor": "white",
            "linecolor": "white",
            "ticks": ""
           },
           "baxis": {
            "gridcolor": "white",
            "linecolor": "white",
            "ticks": ""
           },
           "bgcolor": "#E5ECF6",
           "caxis": {
            "gridcolor": "white",
            "linecolor": "white",
            "ticks": ""
           }
          },
          "title": {
           "x": 0.05
          },
          "xaxis": {
           "automargin": true,
           "gridcolor": "white",
           "linecolor": "white",
           "ticks": "",
           "title": {
            "standoff": 15
           },
           "zerolinecolor": "white",
           "zerolinewidth": 2
          },
          "yaxis": {
           "automargin": true,
           "gridcolor": "white",
           "linecolor": "white",
           "ticks": "",
           "title": {
            "standoff": 15
           },
           "zerolinecolor": "white",
           "zerolinewidth": 2
          }
         }
        },
        "width": 1280
       }
      }
     },
     "metadata": {},
     "output_type": "display_data"
    }
   ],
   "source": [
    "visualize(model, sample_descriptions, \"tokenize_desc_tag\", 7)"
   ]
  },
  {
   "cell_type": "code",
   "execution_count": 24,
   "metadata": {},
   "outputs": [
    {
     "name": "stderr",
     "output_type": "stream",
     "text": [
      "/Library/Frameworks/Python.framework/Versions/3.12/lib/python3.12/site-packages/huggingface_hub/file_download.py:1132: FutureWarning:\n",
      "\n",
      "`resume_download` is deprecated and will be removed in version 1.0.0. Downloads always resume when possible. If you want to force a new download, use `force_download=True`.\n",
      "\n"
     ]
    },
    {
     "name": "stdout",
     "output_type": "stream",
     "text": [
      "Baldur ’ s Gate 3 is a story - rich , party - based RPG set in the universe of Dungeons & Dragons , where your choices shape a tale of fellowship and betrayal , survival and sacrifice , and the lure of absolute power .\n",
      "Counter - Strike : Global_Offensive ( CS : GO ) expands upon the team - based action gameplay that it pioneered when it was launched 19 years ago . CS : GO features new maps , characters , weapons , and game modes , and delivers updated versions of the classic CS content ( de_dust2 , etc . ) .\n",
      "tensor([[0.1416]])\n",
      "tensor([[0.8680]])\n"
     ]
    }
   ],
   "source": [
    "old_model = SentenceTransformer(\"all-mpnet-base-v2\")\n",
    "\n",
    "game1_desc = sample_descriptions.loc[0, \"tokenize_desc\"]\n",
    "game2_desc = sample_descriptions.loc[1, \"tokenize_desc\"]\n",
    "\n",
    "print(game1_desc)\n",
    "print(game2_desc)\n",
    "\n",
    "old_enc_game1 = old_model.encode(game1_desc)\n",
    "old_enc_game2 = old_model.encode(game2_desc)\n",
    "new_enc_game1 = model.encode(game1_desc)\n",
    "new_enc_game2 = model.encode(game2_desc)\n",
    "\n",
    "print(util.cos_sim(old_enc_game1, old_enc_game2))\n",
    "print(util.cos_sim(new_enc_game1, new_enc_game2))"
   ]
  },
  {
   "cell_type": "code",
   "execution_count": 25,
   "metadata": {},
   "outputs": [],
   "source": [
    "# for i in range(len(sample_descriptions) - 1):\n",
    "#     s1, t1 = sample_descriptions.loc[i, [\"Title\", \"tokenize_tag\"]]\n",
    "#     s2, t2 = sample_descriptions.loc[i + 1, [\"Title\", \"tokenize_tag\"]]\n",
    "#     print(s1, s2, (score := util.cos_sim(model.encode(t1), model.encode(t2))), score > 0.75)\n",
    "#     print()"
   ]
  },
  {
   "cell_type": "code",
   "execution_count": 26,
   "metadata": {},
   "outputs": [],
   "source": [
    "# from openTSNE import TSNE\n",
    "# import matplotlib.pyplot as plt"
   ]
  },
  {
   "cell_type": "code",
   "execution_count": 27,
   "metadata": {},
   "outputs": [],
   "source": [
    "# tsne = TSNE(\n",
    "#     perplexity=6.33,\n",
    "#     metric=cosine_similarity,\n",
    "#     random_state=RANDOM_STATE,\n",
    "#     verbose=True,\n",
    "# )\n",
    "\n",
    "# embeddings_tsne = tsne.fit(sample_descriptions[\"tokenize_desc\"])\n",
    "\n",
    "# res = tsne.transform(sample_descriptions[\"tokenize_desc\"])"
   ]
  },
  {
   "cell_type": "code",
   "execution_count": 28,
   "metadata": {},
   "outputs": [],
   "source": [
    "# plt.scatter(res[:, 0], res[:, 1])"
   ]
  }
 ],
 "metadata": {
  "kernelspec": {
   "display_name": "Python 3",
   "language": "python",
   "name": "python3"
  },
  "language_info": {
   "codemirror_mode": {
    "name": "ipython",
    "version": 3
   },
   "file_extension": ".py",
   "mimetype": "text/x-python",
   "name": "python",
   "nbconvert_exporter": "python",
   "pygments_lexer": "ipython3",
   "version": "3.12.1"
  }
 },
 "nbformat": 4,
 "nbformat_minor": 2
}
