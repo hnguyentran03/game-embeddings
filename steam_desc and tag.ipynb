{
 "cells": [
  {
   "cell_type": "markdown",
   "metadata": {},
   "source": [
    "# Embedding Models: Steam Game Descriptions"
   ]
  },
  {
   "cell_type": "code",
   "execution_count": 1,
   "metadata": {},
   "outputs": [
    {
     "name": "stderr",
     "output_type": "stream",
     "text": [
      "/Library/Frameworks/Python.framework/Versions/3.12/lib/python3.12/site-packages/sentence_transformers/cross_encoder/CrossEncoder.py:11: TqdmExperimentalWarning: Using `tqdm.autonotebook.tqdm` in notebook mode. Use `tqdm.tqdm` instead to force console mode (e.g. in jupyter console)\n",
      "  from tqdm.autonotebook import tqdm, trange\n"
     ]
    }
   ],
   "source": [
    "import pandas as pd\n",
    "from sentence_transformers import SentenceTransformer, util, evaluation\n",
    "from pyvi.ViTokenizer import tokenize\n",
    "\n",
    "import random\n",
    "RANDOM_STATE = 42\n",
    "random.seed(RANDOM_STATE)"
   ]
  },
  {
   "cell_type": "code",
   "execution_count": 2,
   "metadata": {},
   "outputs": [
    {
     "name": "stderr",
     "output_type": "stream",
     "text": [
      "/Library/Frameworks/Python.framework/Versions/3.12/lib/python3.12/site-packages/huggingface_hub/file_download.py:1132: FutureWarning: `resume_download` is deprecated and will be removed in version 1.0.0. Downloads always resume when possible. If you want to force a new download, use `force_download=True`.\n",
      "  warnings.warn(\n"
     ]
    }
   ],
   "source": [
    "model = SentenceTransformer(\"all-mpnet-base-v2\")"
   ]
  },
  {
   "cell_type": "markdown",
   "metadata": {},
   "source": [
    "## Loading Data"
   ]
  },
  {
   "cell_type": "code",
   "execution_count": 3,
   "metadata": {},
   "outputs": [
    {
     "data": {
      "text/html": [
       "<div>\n",
       "<style scoped>\n",
       "    .dataframe tbody tr th:only-of-type {\n",
       "        vertical-align: middle;\n",
       "    }\n",
       "\n",
       "    .dataframe tbody tr th {\n",
       "        vertical-align: top;\n",
       "    }\n",
       "\n",
       "    .dataframe thead th {\n",
       "        text-align: right;\n",
       "    }\n",
       "</style>\n",
       "<table border=\"1\" class=\"dataframe\">\n",
       "  <thead>\n",
       "    <tr style=\"text-align: right;\">\n",
       "      <th></th>\n",
       "      <th>Title</th>\n",
       "      <th>Original Price</th>\n",
       "      <th>Discounted Price</th>\n",
       "      <th>Release Date</th>\n",
       "      <th>Link</th>\n",
       "      <th>Game Description</th>\n",
       "      <th>Recent Reviews Summary</th>\n",
       "      <th>All Reviews Summary</th>\n",
       "      <th>Recent Reviews Number</th>\n",
       "      <th>All Reviews Number</th>\n",
       "      <th>Developer</th>\n",
       "      <th>Publisher</th>\n",
       "      <th>Supported Languages</th>\n",
       "      <th>Popular Tags</th>\n",
       "      <th>Game Features</th>\n",
       "      <th>Minimum Requirements</th>\n",
       "    </tr>\n",
       "  </thead>\n",
       "  <tbody>\n",
       "    <tr>\n",
       "      <th>0</th>\n",
       "      <td>Baldur's Gate 3</td>\n",
       "      <td>$29.99</td>\n",
       "      <td>$29.99</td>\n",
       "      <td>3 Aug, 2023</td>\n",
       "      <td>https://store.steampowered.com/app/1086940/Bal...</td>\n",
       "      <td>Baldur’s Gate 3 is a story-rich, party-based R...</td>\n",
       "      <td>Overwhelmingly Positive</td>\n",
       "      <td>Very Positive</td>\n",
       "      <td>- 96% of the 128,900 user reviews in the last ...</td>\n",
       "      <td>- 94% of the 188,617 user reviews for this gam...</td>\n",
       "      <td>Larian Studios</td>\n",
       "      <td>Larian Studios</td>\n",
       "      <td>['English', 'French', 'German', 'Spanish - Spa...</td>\n",
       "      <td>['RPG', 'Choices Matter', 'Character Customiza...</td>\n",
       "      <td>['Single-player', 'Online Co-op', 'LAN Co-op',...</td>\n",
       "      <td>Requires a 64-bit processor and operating syst...</td>\n",
       "    </tr>\n",
       "    <tr>\n",
       "      <th>1</th>\n",
       "      <td>Counter-Strike: Global Offensive</td>\n",
       "      <td>$14.99</td>\n",
       "      <td>$14.99</td>\n",
       "      <td>21 Aug, 2012</td>\n",
       "      <td>https://store.steampowered.com/app/730/Counter...</td>\n",
       "      <td>Counter-Strike: Global Offensive (CS: GO) expa...</td>\n",
       "      <td>Very Positive</td>\n",
       "      <td>Very Positive</td>\n",
       "      <td>- 89% of the 75,284 user reviews in the last 3...</td>\n",
       "      <td>- 88% of the 7,428,921 user reviews for this g...</td>\n",
       "      <td>Valve, Hidden Path Entertainment</td>\n",
       "      <td>Valve</td>\n",
       "      <td>['English', 'Czech', 'Danish', 'Dutch', 'Finni...</td>\n",
       "      <td>['FPS', 'Shooter', 'Multiplayer', 'Competitive...</td>\n",
       "      <td>['Steam Achievements', 'Full controller suppor...</td>\n",
       "      <td>OS: |  Windows® 7/Vista/XP | Processor: |  Int...</td>\n",
       "    </tr>\n",
       "    <tr>\n",
       "      <th>2</th>\n",
       "      <td>Apex Legends™</td>\n",
       "      <td>Free</td>\n",
       "      <td>Free</td>\n",
       "      <td>4 Nov, 2020</td>\n",
       "      <td>https://store.steampowered.com/app/1172470/Ape...</td>\n",
       "      <td>Apex Legends is the award-winning, free-to-pla...</td>\n",
       "      <td>Mixed</td>\n",
       "      <td>Very Positive</td>\n",
       "      <td>- 65% of the 18,581 user reviews in the last 3...</td>\n",
       "      <td>- 80% of the 701,597 user reviews for this gam...</td>\n",
       "      <td>Respawn Entertainment</td>\n",
       "      <td>Electronic Arts</td>\n",
       "      <td>['English', 'French', 'Italian', 'German', 'Sp...</td>\n",
       "      <td>['Free to Play', 'Multiplayer', 'Battle Royale...</td>\n",
       "      <td>['Online PvP', 'Online Co-op', 'Steam Achievem...</td>\n",
       "      <td>Requires a 64-bit processor and operating syst...</td>\n",
       "    </tr>\n",
       "    <tr>\n",
       "      <th>3</th>\n",
       "      <td>Forza Horizon 5</td>\n",
       "      <td>$34.78</td>\n",
       "      <td>$17.39</td>\n",
       "      <td>8 Nov, 2021</td>\n",
       "      <td>https://store.steampowered.com/app/1551360/For...</td>\n",
       "      <td>Your Ultimate Horizon Adventure awaits! Explor...</td>\n",
       "      <td>Very Positive</td>\n",
       "      <td>Very Positive</td>\n",
       "      <td>- 87% of the 4,120 user reviews in the last 30...</td>\n",
       "      <td>- 88% of the 123,162 user reviews for this gam...</td>\n",
       "      <td>Playground Games</td>\n",
       "      <td>Xbox Game Studios</td>\n",
       "      <td>['English', 'French', 'Italian', 'German', 'Sp...</td>\n",
       "      <td>['Racing', 'Open World', 'Driving', 'Multiplay...</td>\n",
       "      <td>['Single-player', 'Online PvP', 'Online Co-op'...</td>\n",
       "      <td>Requires a 64-bit processor and operating syst...</td>\n",
       "    </tr>\n",
       "    <tr>\n",
       "      <th>4</th>\n",
       "      <td>Call of Duty®</td>\n",
       "      <td>Free</td>\n",
       "      <td>Free</td>\n",
       "      <td>27 Oct, 2022</td>\n",
       "      <td>https://store.steampowered.com/app/1938090/Cal...</td>\n",
       "      <td>Welcome to Call of Duty® HQ, the home of Call ...</td>\n",
       "      <td>Mixed</td>\n",
       "      <td>Mixed</td>\n",
       "      <td>- 49% of the 8,257 user reviews in the last 30...</td>\n",
       "      <td>- 57% of the 236,876 user reviews for this gam...</td>\n",
       "      <td>Infinity Ward, Raven Software, Beenox, Treyarc...</td>\n",
       "      <td>Activision</td>\n",
       "      <td>['English', 'French', 'Italian', 'German', 'Sp...</td>\n",
       "      <td>['FPS', 'Multiplayer', 'Shooter', 'Action', 'S...</td>\n",
       "      <td>['Single-player', 'Online PvP', 'Online Co-op'...</td>\n",
       "      <td>Requires a 64-bit processor and operating syst...</td>\n",
       "    </tr>\n",
       "  </tbody>\n",
       "</table>\n",
       "</div>"
      ],
      "text/plain": [
       "                              Title Original Price Discounted Price  \\\n",
       "0                   Baldur's Gate 3         $29.99           $29.99   \n",
       "1  Counter-Strike: Global Offensive         $14.99           $14.99   \n",
       "2                     Apex Legends™           Free             Free   \n",
       "3                   Forza Horizon 5         $34.78           $17.39   \n",
       "4                     Call of Duty®           Free             Free   \n",
       "\n",
       "   Release Date                                               Link  \\\n",
       "0   3 Aug, 2023  https://store.steampowered.com/app/1086940/Bal...   \n",
       "1  21 Aug, 2012  https://store.steampowered.com/app/730/Counter...   \n",
       "2   4 Nov, 2020  https://store.steampowered.com/app/1172470/Ape...   \n",
       "3   8 Nov, 2021  https://store.steampowered.com/app/1551360/For...   \n",
       "4  27 Oct, 2022  https://store.steampowered.com/app/1938090/Cal...   \n",
       "\n",
       "                                    Game Description   Recent Reviews Summary  \\\n",
       "0  Baldur’s Gate 3 is a story-rich, party-based R...  Overwhelmingly Positive   \n",
       "1  Counter-Strike: Global Offensive (CS: GO) expa...            Very Positive   \n",
       "2  Apex Legends is the award-winning, free-to-pla...                    Mixed   \n",
       "3  Your Ultimate Horizon Adventure awaits! Explor...            Very Positive   \n",
       "4  Welcome to Call of Duty® HQ, the home of Call ...                    Mixed   \n",
       "\n",
       "  All Reviews Summary                              Recent Reviews Number  \\\n",
       "0       Very Positive  - 96% of the 128,900 user reviews in the last ...   \n",
       "1       Very Positive  - 89% of the 75,284 user reviews in the last 3...   \n",
       "2       Very Positive  - 65% of the 18,581 user reviews in the last 3...   \n",
       "3       Very Positive  - 87% of the 4,120 user reviews in the last 30...   \n",
       "4               Mixed  - 49% of the 8,257 user reviews in the last 30...   \n",
       "\n",
       "                                  All Reviews Number  \\\n",
       "0  - 94% of the 188,617 user reviews for this gam...   \n",
       "1  - 88% of the 7,428,921 user reviews for this g...   \n",
       "2  - 80% of the 701,597 user reviews for this gam...   \n",
       "3  - 88% of the 123,162 user reviews for this gam...   \n",
       "4  - 57% of the 236,876 user reviews for this gam...   \n",
       "\n",
       "                                           Developer          Publisher  \\\n",
       "0                                     Larian Studios     Larian Studios   \n",
       "1                   Valve, Hidden Path Entertainment              Valve   \n",
       "2                              Respawn Entertainment    Electronic Arts   \n",
       "3                                   Playground Games  Xbox Game Studios   \n",
       "4  Infinity Ward, Raven Software, Beenox, Treyarc...         Activision   \n",
       "\n",
       "                                 Supported Languages  \\\n",
       "0  ['English', 'French', 'German', 'Spanish - Spa...   \n",
       "1  ['English', 'Czech', 'Danish', 'Dutch', 'Finni...   \n",
       "2  ['English', 'French', 'Italian', 'German', 'Sp...   \n",
       "3  ['English', 'French', 'Italian', 'German', 'Sp...   \n",
       "4  ['English', 'French', 'Italian', 'German', 'Sp...   \n",
       "\n",
       "                                        Popular Tags  \\\n",
       "0  ['RPG', 'Choices Matter', 'Character Customiza...   \n",
       "1  ['FPS', 'Shooter', 'Multiplayer', 'Competitive...   \n",
       "2  ['Free to Play', 'Multiplayer', 'Battle Royale...   \n",
       "3  ['Racing', 'Open World', 'Driving', 'Multiplay...   \n",
       "4  ['FPS', 'Multiplayer', 'Shooter', 'Action', 'S...   \n",
       "\n",
       "                                       Game Features  \\\n",
       "0  ['Single-player', 'Online Co-op', 'LAN Co-op',...   \n",
       "1  ['Steam Achievements', 'Full controller suppor...   \n",
       "2  ['Online PvP', 'Online Co-op', 'Steam Achievem...   \n",
       "3  ['Single-player', 'Online PvP', 'Online Co-op'...   \n",
       "4  ['Single-player', 'Online PvP', 'Online Co-op'...   \n",
       "\n",
       "                                Minimum Requirements  \n",
       "0  Requires a 64-bit processor and operating syst...  \n",
       "1  OS: |  Windows® 7/Vista/XP | Processor: |  Int...  \n",
       "2  Requires a 64-bit processor and operating syst...  \n",
       "3  Requires a 64-bit processor and operating syst...  \n",
       "4  Requires a 64-bit processor and operating syst...  "
      ]
     },
     "execution_count": 3,
     "metadata": {},
     "output_type": "execute_result"
    }
   ],
   "source": [
    "game_df = pd.read_csv(\"steam_games.csv\")\n",
    "game_df.head(5)"
   ]
  },
  {
   "cell_type": "code",
   "execution_count": 4,
   "metadata": {},
   "outputs": [],
   "source": [
    "game_df.drop_duplicates(\"Title\", inplace=True)\n",
    "game_df[\"Game Description\"] = game_df[\"Game Description\"].astype(str)\n",
    "\n",
    "sample_descriptions = game_df[[\"Title\", \"Game Description\", \"Popular Tags\"]].head(100).reset_index()"
   ]
  },
  {
   "cell_type": "code",
   "execution_count": 5,
   "metadata": {},
   "outputs": [],
   "source": [
    "def deacronym(tags):\n",
    "    new_tags = []\n",
    "    for tag in tags:\n",
    "        match tag.split():\n",
    "            case [\"MMORPG\"]:\n",
    "                new_tag = \"Massively Multiplayer Online Role-Playing Game\"\n",
    "            case [s1, \"RPG\", s2]:\n",
    "                new_tag = s1.strip() + \" Role-Playing Game \" + s2.strip()\n",
    "            case [\"RPG\"]:\n",
    "                new_tag = \"Role-Playing Game\"\n",
    "            case [\"FPS\"]:\n",
    "                new_tag = \"First Person Shooter\"\n",
    "            case [\"Sci-fi\"]:\n",
    "                new_tag = \"Science Fiction\"\n",
    "            case [\"PvP\"]:\n",
    "                new_tag = \"Player versus Player\"\n",
    "            case [\"PvE\"]:\n",
    "                new_tag = \"Player versus Entity\"\n",
    "            case [\"MOBA\"]:\n",
    "                new_tag = \"Multiplayer Online Battle Arena Video Games\"\n",
    "            case _:\n",
    "                new_tag = tag\n",
    "        new_tags.append(new_tag)\n",
    "    return new_tags"
   ]
  },
  {
   "cell_type": "code",
   "execution_count": 6,
   "metadata": {},
   "outputs": [],
   "source": [
    "from ast import literal_eval\n",
    "\n",
    "# Combines descriptions and tags for each game\n",
    "for idx, (tag, desc) in enumerate(zip(sample_descriptions[\"Popular Tags\"], sample_descriptions[\"Game Description\"])):\n",
    "    tag = deacronym(literal_eval(tag))\n",
    "    if \"Free to Play\" in tag:\n",
    "        tag.remove(\"Free to Play\")\n",
    "    if \"Early Access\" in tag:\n",
    "        tag.remove(\"Early Access\")\n",
    "    if \"Online Co-Op\" in tag:\n",
    "        tag.remove(\"Online Co-Op\")\n",
    "    if \"Co-op\" in tag:\n",
    "        tag.remove(\"Co-op\")\n",
    "\n",
    "    tag = \", \".join(tag[:7])\n",
    "\n",
    "    sample_descriptions.loc[idx, \"Popular Tags\"] = tag\n",
    "    sample_descriptions.loc[idx, \"Description and Tags\"] = desc + \" \" + tag"
   ]
  },
  {
   "cell_type": "code",
   "execution_count": 7,
   "metadata": {},
   "outputs": [
    {
     "data": {
      "text/html": [
       "<div>\n",
       "<style scoped>\n",
       "    .dataframe tbody tr th:only-of-type {\n",
       "        vertical-align: middle;\n",
       "    }\n",
       "\n",
       "    .dataframe tbody tr th {\n",
       "        vertical-align: top;\n",
       "    }\n",
       "\n",
       "    .dataframe thead th {\n",
       "        text-align: right;\n",
       "    }\n",
       "</style>\n",
       "<table border=\"1\" class=\"dataframe\">\n",
       "  <thead>\n",
       "    <tr style=\"text-align: right;\">\n",
       "      <th></th>\n",
       "      <th>index</th>\n",
       "      <th>Title</th>\n",
       "      <th>Game Description</th>\n",
       "      <th>Popular Tags</th>\n",
       "      <th>Description and Tags</th>\n",
       "    </tr>\n",
       "  </thead>\n",
       "  <tbody>\n",
       "    <tr>\n",
       "      <th>0</th>\n",
       "      <td>0</td>\n",
       "      <td>Baldur's Gate 3</td>\n",
       "      <td>Baldur’s Gate 3 is a story-rich, party-based RPG set in the universe of Dungeons &amp; Dragons, where your choices shape a tale of fellowship and betrayal, survival and sacrifice, and the lure of absolute power.</td>\n",
       "      <td>Role-Playing Game, Choices Matter, Character Customization, Story Rich, Adventure, CRPG, Multiplayer</td>\n",
       "      <td>Baldur’s Gate 3 is a story-rich, party-based RPG set in the universe of Dungeons &amp; Dragons, where your choices shape a tale of fellowship and betrayal, survival and sacrifice, and the lure of absolute power. Role-Playing Game, Choices Matter, Character Customization, Story Rich, Adventure, CRPG, Multiplayer</td>\n",
       "    </tr>\n",
       "    <tr>\n",
       "      <th>1</th>\n",
       "      <td>1</td>\n",
       "      <td>Counter-Strike: Global Offensive</td>\n",
       "      <td>Counter-Strike: Global Offensive (CS: GO) expands upon the team-based action gameplay that it pioneered when it was launched 19 years ago. CS: GO features new maps, characters, weapons, and game modes, and delivers updated versions of the classic CS content (de_dust2, etc.).</td>\n",
       "      <td>First Person Shooter, Shooter, Multiplayer, Competitive, Action, Team-Based, eSports</td>\n",
       "      <td>Counter-Strike: Global Offensive (CS: GO) expands upon the team-based action gameplay that it pioneered when it was launched 19 years ago. CS: GO features new maps, characters, weapons, and game modes, and delivers updated versions of the classic CS content (de_dust2, etc.). First Person Shooter, Shooter, Multiplayer, Competitive, Action, Team-Based, eSports</td>\n",
       "    </tr>\n",
       "    <tr>\n",
       "      <th>2</th>\n",
       "      <td>2</td>\n",
       "      <td>Apex Legends™</td>\n",
       "      <td>Apex Legends is the award-winning, free-to-play Hero Shooter from Respawn Entertainment. Master an ever-growing roster of legendary characters with powerful abilities, and experience strategic squad play and innovative gameplay in the next evolution of Hero Shooter and Battle Royale.</td>\n",
       "      <td>Multiplayer, Battle Royale, Shooter, First Person Shooter, First-Person, Player versus Player, Action</td>\n",
       "      <td>Apex Legends is the award-winning, free-to-play Hero Shooter from Respawn Entertainment. Master an ever-growing roster of legendary characters with powerful abilities, and experience strategic squad play and innovative gameplay in the next evolution of Hero Shooter and Battle Royale. Multiplayer, Battle Royale, Shooter, First Person Shooter, First-Person, Player versus Player, Action</td>\n",
       "    </tr>\n",
       "    <tr>\n",
       "      <th>3</th>\n",
       "      <td>3</td>\n",
       "      <td>Forza Horizon 5</td>\n",
       "      <td>Your Ultimate Horizon Adventure awaits! Explore the vibrant open world landscapes of Mexico with limitless, fun driving action in the world’s greatest cars. Conquer the rugged Sierra Nueva in the ultimate Horizon Rally experience. Requires Forza Horizon 5 game, expansion sold separately.</td>\n",
       "      <td>Racing, Open World, Driving, Multiplayer, Automobile Sim, Realistic, Adventure</td>\n",
       "      <td>Your Ultimate Horizon Adventure awaits! Explore the vibrant open world landscapes of Mexico with limitless, fun driving action in the world’s greatest cars. Conquer the rugged Sierra Nueva in the ultimate Horizon Rally experience. Requires Forza Horizon 5 game, expansion sold separately. Racing, Open World, Driving, Multiplayer, Automobile Sim, Realistic, Adventure</td>\n",
       "    </tr>\n",
       "    <tr>\n",
       "      <th>4</th>\n",
       "      <td>4</td>\n",
       "      <td>Call of Duty®</td>\n",
       "      <td>Welcome to Call of Duty® HQ, the home of Call of Duty®: Modern Warfare® III, Call of Duty®: Modern Warfare® II and Warzone™.</td>\n",
       "      <td>First Person Shooter, Multiplayer, Shooter, Action, Singleplayer, Military, First-Person</td>\n",
       "      <td>Welcome to Call of Duty® HQ, the home of Call of Duty®: Modern Warfare® III, Call of Duty®: Modern Warfare® II and Warzone™. First Person Shooter, Multiplayer, Shooter, Action, Singleplayer, Military, First-Person</td>\n",
       "    </tr>\n",
       "    <tr>\n",
       "      <th>...</th>\n",
       "      <td>...</td>\n",
       "      <td>...</td>\n",
       "      <td>...</td>\n",
       "      <td>...</td>\n",
       "      <td>...</td>\n",
       "    </tr>\n",
       "    <tr>\n",
       "      <th>95</th>\n",
       "      <td>95</td>\n",
       "      <td>Valheim</td>\n",
       "      <td>A brutal exploration and survival game for 1-10 players, set in a procedurally-generated purgatory inspired by viking culture. Battle, build, and conquer your way to a saga worthy of Odin’s patronage!</td>\n",
       "      <td>Open World Survival Craft, Survival, Open World, Multiplayer, Building, Crafting, Exploration</td>\n",
       "      <td>A brutal exploration and survival game for 1-10 players, set in a procedurally-generated purgatory inspired by viking culture. Battle, build, and conquer your way to a saga worthy of Odin’s patronage! Open World Survival Craft, Survival, Open World, Multiplayer, Building, Crafting, Exploration</td>\n",
       "    </tr>\n",
       "    <tr>\n",
       "      <th>96</th>\n",
       "      <td>96</td>\n",
       "      <td>Guild Wars 2</td>\n",
       "      <td>Guild Wars 2 is an award-winning online roleplaying game with fast-paced action combat, deep character customization, and no subscription fee required. Choose from an arsenal of professions and weapons, explore a vast open world, compete in PVP modes and more. Join over 16 million players now!</td>\n",
       "      <td>Massively Multiplayer Online Role-Playing Game, Adventure, Role-Playing Game, Fantasy, Character Customization, Third Person, 3D</td>\n",
       "      <td>Guild Wars 2 is an award-winning online roleplaying game with fast-paced action combat, deep character customization, and no subscription fee required. Choose from an arsenal of professions and weapons, explore a vast open world, compete in PVP modes and more. Join over 16 million players now! Massively Multiplayer Online Role-Playing Game, Adventure, Role-Playing Game, Fantasy, Character Customization, Third Person, 3D</td>\n",
       "    </tr>\n",
       "    <tr>\n",
       "      <th>97</th>\n",
       "      <td>97</td>\n",
       "      <td>Dying Light</td>\n",
       "      <td>First-person action survival game set in a post-apocalyptic open world overrun by flesh-hungry zombies. Roam a city devastated by a mysterious virus epidemic. Scavenge for supplies, craft weapons, and face hordes of the infected.</td>\n",
       "      <td>Zombies, Survival Horror, Horror, Open World, Parkour, First-Person, Survival</td>\n",
       "      <td>First-person action survival game set in a post-apocalyptic open world overrun by flesh-hungry zombies. Roam a city devastated by a mysterious virus epidemic. Scavenge for supplies, craft weapons, and face hordes of the infected. Zombies, Survival Horror, Horror, Open World, Parkour, First-Person, Survival</td>\n",
       "    </tr>\n",
       "    <tr>\n",
       "      <th>98</th>\n",
       "      <td>98</td>\n",
       "      <td>BlazBlue Entropy Effect</td>\n",
       "      <td>Experience the brilliant action combat gameplay! The pinnacle of roguelite action games!</td>\n",
       "      <td>Action Roguelike, Action-Adventure, Platformer, Metroidvania, Pixel Graphics, Replay Value, Procedural Generation</td>\n",
       "      <td>Experience the brilliant action combat gameplay! The pinnacle of roguelite action games! Action Roguelike, Action-Adventure, Platformer, Metroidvania, Pixel Graphics, Replay Value, Procedural Generation</td>\n",
       "    </tr>\n",
       "    <tr>\n",
       "      <th>99</th>\n",
       "      <td>99</td>\n",
       "      <td>Marvel’s Spider-Man Remastered</td>\n",
       "      <td>In Marvel’s Spider-Man Remastered, the worlds of Peter Parker and Spider-Man collide in an original action-packed story. Play as an experienced Peter Parker, fighting big crime and iconic villains in Marvel’s New York. Web-swing through vibrant neighborhoods and defeat villains with epic takedowns.</td>\n",
       "      <td>Superhero, Open World, Action, Singleplayer, Story Rich, Adventure, Combat</td>\n",
       "      <td>In Marvel’s Spider-Man Remastered, the worlds of Peter Parker and Spider-Man collide in an original action-packed story. Play as an experienced Peter Parker, fighting big crime and iconic villains in Marvel’s New York. Web-swing through vibrant neighborhoods and defeat villains with epic takedowns. Superhero, Open World, Action, Singleplayer, Story Rich, Adventure, Combat</td>\n",
       "    </tr>\n",
       "  </tbody>\n",
       "</table>\n",
       "<p>100 rows × 5 columns</p>\n",
       "</div>"
      ],
      "text/plain": [
       "    index                             Title  \\\n",
       "0       0                   Baldur's Gate 3   \n",
       "1       1  Counter-Strike: Global Offensive   \n",
       "2       2                     Apex Legends™   \n",
       "3       3                   Forza Horizon 5   \n",
       "4       4                     Call of Duty®   \n",
       "..    ...                               ...   \n",
       "95     95                           Valheim   \n",
       "96     96                      Guild Wars 2   \n",
       "97     97                       Dying Light   \n",
       "98     98           BlazBlue Entropy Effect   \n",
       "99     99    Marvel’s Spider-Man Remastered   \n",
       "\n",
       "                                                                                                                                                                                                                                                                                               Game Description  \\\n",
       "0                                                                                               Baldur’s Gate 3 is a story-rich, party-based RPG set in the universe of Dungeons & Dragons, where your choices shape a tale of fellowship and betrayal, survival and sacrifice, and the lure of absolute power.   \n",
       "1                           Counter-Strike: Global Offensive (CS: GO) expands upon the team-based action gameplay that it pioneered when it was launched 19 years ago. CS: GO features new maps, characters, weapons, and game modes, and delivers updated versions of the classic CS content (de_dust2, etc.).   \n",
       "2                  Apex Legends is the award-winning, free-to-play Hero Shooter from Respawn Entertainment. Master an ever-growing roster of legendary characters with powerful abilities, and experience strategic squad play and innovative gameplay in the next evolution of Hero Shooter and Battle Royale.   \n",
       "3              Your Ultimate Horizon Adventure awaits! Explore the vibrant open world landscapes of Mexico with limitless, fun driving action in the world’s greatest cars. Conquer the rugged Sierra Nueva in the ultimate Horizon Rally experience. Requires Forza Horizon 5 game, expansion sold separately.   \n",
       "4                                                                                                                                                                                  Welcome to Call of Duty® HQ, the home of Call of Duty®: Modern Warfare® III, Call of Duty®: Modern Warfare® II and Warzone™.   \n",
       "..                                                                                                                                                                                                                                                                                                          ...   \n",
       "95                                                                                                     A brutal exploration and survival game for 1-10 players, set in a procedurally-generated purgatory inspired by viking culture. Battle, build, and conquer your way to a saga worthy of Odin’s patronage!   \n",
       "96       Guild Wars 2 is an award-winning online roleplaying game with fast-paced action combat, deep character customization, and no subscription fee required. Choose from an arsenal of professions and weapons, explore a vast open world, compete in PVP modes and more. Join over 16 million players now!   \n",
       "97                                                                        First-person action survival game set in a post-apocalyptic open world overrun by flesh-hungry zombies. Roam a city devastated by a mysterious virus epidemic. Scavenge for supplies, craft weapons, and face hordes of the infected.   \n",
       "98                                                                                                                                                                                                                     Experience the brilliant action combat gameplay! The pinnacle of roguelite action games!   \n",
       "99  In Marvel’s Spider-Man Remastered, the worlds of Peter Parker and Spider-Man collide in an original action-packed story. Play as an experienced Peter Parker, fighting big crime and iconic villains in Marvel’s New York. Web-swing through vibrant neighborhoods and defeat villains with epic takedowns.   \n",
       "\n",
       "                                                                                                                        Popular Tags  \\\n",
       "0                               Role-Playing Game, Choices Matter, Character Customization, Story Rich, Adventure, CRPG, Multiplayer   \n",
       "1                                               First Person Shooter, Shooter, Multiplayer, Competitive, Action, Team-Based, eSports   \n",
       "2                              Multiplayer, Battle Royale, Shooter, First Person Shooter, First-Person, Player versus Player, Action   \n",
       "3                                                     Racing, Open World, Driving, Multiplayer, Automobile Sim, Realistic, Adventure   \n",
       "4                                           First Person Shooter, Multiplayer, Shooter, Action, Singleplayer, Military, First-Person   \n",
       "..                                                                                                                               ...   \n",
       "95                                     Open World Survival Craft, Survival, Open World, Multiplayer, Building, Crafting, Exploration   \n",
       "96  Massively Multiplayer Online Role-Playing Game, Adventure, Role-Playing Game, Fantasy, Character Customization, Third Person, 3D   \n",
       "97                                                     Zombies, Survival Horror, Horror, Open World, Parkour, First-Person, Survival   \n",
       "98                 Action Roguelike, Action-Adventure, Platformer, Metroidvania, Pixel Graphics, Replay Value, Procedural Generation   \n",
       "99                                                        Superhero, Open World, Action, Singleplayer, Story Rich, Adventure, Combat   \n",
       "\n",
       "                                                                                                                                                                                                                                                                                                                                                                                                                       Description and Tags  \n",
       "0                                                                                                                      Baldur’s Gate 3 is a story-rich, party-based RPG set in the universe of Dungeons & Dragons, where your choices shape a tale of fellowship and betrayal, survival and sacrifice, and the lure of absolute power. Role-Playing Game, Choices Matter, Character Customization, Story Rich, Adventure, CRPG, Multiplayer  \n",
       "1                                                                  Counter-Strike: Global Offensive (CS: GO) expands upon the team-based action gameplay that it pioneered when it was launched 19 years ago. CS: GO features new maps, characters, weapons, and game modes, and delivers updated versions of the classic CS content (de_dust2, etc.). First Person Shooter, Shooter, Multiplayer, Competitive, Action, Team-Based, eSports  \n",
       "2                                        Apex Legends is the award-winning, free-to-play Hero Shooter from Respawn Entertainment. Master an ever-growing roster of legendary characters with powerful abilities, and experience strategic squad play and innovative gameplay in the next evolution of Hero Shooter and Battle Royale. Multiplayer, Battle Royale, Shooter, First Person Shooter, First-Person, Player versus Player, Action  \n",
       "3                                                           Your Ultimate Horizon Adventure awaits! Explore the vibrant open world landscapes of Mexico with limitless, fun driving action in the world’s greatest cars. Conquer the rugged Sierra Nueva in the ultimate Horizon Rally experience. Requires Forza Horizon 5 game, expansion sold separately. Racing, Open World, Driving, Multiplayer, Automobile Sim, Realistic, Adventure  \n",
       "4                                                                                                                                                                                                                     Welcome to Call of Duty® HQ, the home of Call of Duty®: Modern Warfare® III, Call of Duty®: Modern Warfare® II and Warzone™. First Person Shooter, Multiplayer, Shooter, Action, Singleplayer, Military, First-Person  \n",
       "..                                                                                                                                                                                                                                                                                                                                                                                                                                      ...  \n",
       "95                                                                                                                                   A brutal exploration and survival game for 1-10 players, set in a procedurally-generated purgatory inspired by viking culture. Battle, build, and conquer your way to a saga worthy of Odin’s patronage! Open World Survival Craft, Survival, Open World, Multiplayer, Building, Crafting, Exploration  \n",
       "96  Guild Wars 2 is an award-winning online roleplaying game with fast-paced action combat, deep character customization, and no subscription fee required. Choose from an arsenal of professions and weapons, explore a vast open world, compete in PVP modes and more. Join over 16 million players now! Massively Multiplayer Online Role-Playing Game, Adventure, Role-Playing Game, Fantasy, Character Customization, Third Person, 3D  \n",
       "97                                                                                                                      First-person action survival game set in a post-apocalyptic open world overrun by flesh-hungry zombies. Roam a city devastated by a mysterious virus epidemic. Scavenge for supplies, craft weapons, and face hordes of the infected. Zombies, Survival Horror, Horror, Open World, Parkour, First-Person, Survival  \n",
       "98                                                                                                                                                                                                                               Experience the brilliant action combat gameplay! The pinnacle of roguelite action games! Action Roguelike, Action-Adventure, Platformer, Metroidvania, Pixel Graphics, Replay Value, Procedural Generation  \n",
       "99                                                   In Marvel’s Spider-Man Remastered, the worlds of Peter Parker and Spider-Man collide in an original action-packed story. Play as an experienced Peter Parker, fighting big crime and iconic villains in Marvel’s New York. Web-swing through vibrant neighborhoods and defeat villains with epic takedowns. Superhero, Open World, Action, Singleplayer, Story Rich, Adventure, Combat  \n",
       "\n",
       "[100 rows x 5 columns]"
      ]
     },
     "execution_count": 7,
     "metadata": {},
     "output_type": "execute_result"
    }
   ],
   "source": [
    "# Ideas:\n",
    "# ngrams\n",
    "# train better lmao\n",
    "\n",
    "pd.set_option('display.max_colwidth', None)\n",
    "sample_descriptions"
   ]
  },
  {
   "cell_type": "code",
   "execution_count": 8,
   "metadata": {},
   "outputs": [],
   "source": [
    "sample_descriptions[\"tokenize_desc\"] = sample_descriptions[\"Game Description\"].apply(tokenize)\n",
    "\n",
    "sample_descriptions[\"tokenize_tag\"] = sample_descriptions[\"Popular Tags\"].apply(tokenize)\n",
    "\n",
    "sample_descriptions[\"tokenize_desc_tag\"] = sample_descriptions[\"Description and Tags\"].apply(tokenize)"
   ]
  },
  {
   "cell_type": "markdown",
   "metadata": {},
   "source": [
    "## Visualization"
   ]
  },
  {
   "cell_type": "markdown",
   "metadata": {},
   "source": [
    "Checking cosine similarity of tags."
   ]
  },
  {
   "cell_type": "code",
   "execution_count": 9,
   "metadata": {},
   "outputs": [],
   "source": [
    "# for i in range(10):\n",
    "#     s1, t1 = sample_descriptions.loc[i, [\"Title\", \"tokenize_tag\"]]\n",
    "#     s2, t2 = sample_descriptions.loc[i + 1, [\"Title\", \"tokenize_tag\"]]\n",
    "#     print(s1 + \" | \" + s2 + \" | \" + str(int(util.cos_sim(model.encode(t1), model.encode(t2)))))\n",
    "#     print()"
   ]
  },
  {
   "cell_type": "code",
   "execution_count": 10,
   "metadata": {},
   "outputs": [],
   "source": [
    "from sklearn.cluster import KMeans\n",
    "from sklearn.decomposition import PCA\n",
    "import numpy as np\n",
    "import pandas as pd\n",
    "import plotly.express as px"
   ]
  },
  {
   "cell_type": "code",
   "execution_count": 11,
   "metadata": {},
   "outputs": [],
   "source": [
    "def clustering(embeddings, num_clusters):\n",
    "    model = KMeans(n_clusters=num_clusters, random_state=RANDOM_STATE)\n",
    "    model.fit(embeddings)\n",
    "    return model.labels_\n",
    "\n",
    "def visualization(descriptions, embeddings, n_cluster=6):\n",
    "    X = np.array(embeddings)\n",
    "    pca = PCA(n_components=3, random_state=RANDOM_STATE)\n",
    "    result = pca.fit_transform(X)\n",
    "    df = pd.DataFrame({\n",
    "    'sent': descriptions[\"Title\"],\n",
    "    'cluster': clustering(embeddings, n_cluster).astype(str),\n",
    "    'x': result[:, 0],\n",
    "    'y': result[:, 1],\n",
    "    'z': result[:, 2]\n",
    "    })\n",
    "    fig = px.scatter_3d(df, x='x', y='y', z='z',\n",
    "              color='cluster', hover_name='sent',\n",
    "              range_x = [df.x.min()-0.5, df.x.max()+0.5],\n",
    "              range_y = [df.y.min()-0.5, df.y.max()+0.5],\n",
    "              range_z = [df.z.min()-0.5, df.z.max()+0.5])\n",
    "    fig.update_layout(\n",
    "    width=1280,   # Set the desired width\n",
    "    height=720   # Set the desired height\n",
    "    )\n",
    "    fig.update_traces(hovertemplate= '<b>%{hovertext}</b>')\n",
    "    fig.show()\n",
    "\n",
    "def visualize(model, df, col, n_cluster=6):\n",
    "    embeddings = model.encode(df[col].to_numpy())\n",
    "    visualization(df, embeddings, n_cluster)"
   ]
  },
  {
   "cell_type": "markdown",
   "metadata": {},
   "source": [
    "### Visualizing Descriptions"
   ]
  },
  {
   "cell_type": "code",
   "execution_count": 12,
   "metadata": {},
   "outputs": [
    {
     "name": "stderr",
     "output_type": "stream",
     "text": [
      "/Library/Frameworks/Python.framework/Versions/3.12/lib/python3.12/site-packages/transformers/models/mpnet/modeling_mpnet.py:1052: UserWarning: cumsum_out_mps supported by MPS on MacOS 13+, please upgrade (Triggered internally at /Users/runner/work/pytorch/pytorch/pytorch/aten/src/ATen/native/mps/operations/UnaryOps.mm:422.)\n",
      "  incremental_indices = torch.cumsum(mask, dim=1).type_as(mask) * mask\n",
      "/Library/Frameworks/Python.framework/Versions/3.12/lib/python3.12/site-packages/sklearn/cluster/_kmeans.py:1416: FutureWarning: The default value of `n_init` will change from 10 to 'auto' in 1.4. Set the value of `n_init` explicitly to suppress the warning\n",
      "  super()._check_params_vs_input(X, default_n_init=10)\n",
      "huggingface/tokenizers: The current process just got forked, after parallelism has already been used. Disabling parallelism to avoid deadlocks...\n",
      "To disable this warning, you can either:\n",
      "\t- Avoid using `tokenizers` before the fork if possible\n",
      "\t- Explicitly set the environment variable TOKENIZERS_PARALLELISM=(true | false)\n"
     ]
    },
    {
     "data": {
      "application/vnd.plotly.v1+json": {
       "config": {
        "plotlyServerURL": "https://plot.ly"
       },
       "data": [
        {
         "hovertemplate": "<b>%{hovertext}</b>",
         "hovertext": [
          "Baldur's Gate 3",
          "Counter-Strike: Global Offensive",
          "Apex Legends™",
          "PUBG: BATTLEGROUNDS",
          "Remnant II",
          "NARAKA: BLADEPOINT",
          "Tom Clancy's Rainbow Six® Siege",
          "Team Fortress 2",
          "Dota 2",
          "War Thunder",
          "FINAL FANTASY XIV Online",
          "The Elder Scrolls® Online",
          "Warframe",
          "BattleBit Remastered",
          "Street Fighter™ 6",
          "Destiny 2",
          "ELDEN RING",
          "Hearts of Iron IV",
          "Yu-Gi-Oh! Master Duel",
          "World of Warships",
          "Red Dead Redemption 2",
          "Hunt: Showdown",
          "Hogwarts Legacy",
          "Ready or Not",
          "Mount & Blade II: Bannerlord",
          "Sengoku Dynasty",
          "Wayfinder",
          "ARMORED CORE™ VI FIRES OF RUBICON™",
          "Path of Exile",
          "Terraria",
          "Stellaris",
          "Deep Rock Galactic",
          "World of Tanks Blitz",
          "Ratchet & Clank: Rift Apart",
          "Eternal Return",
          "The Elder Scrolls V: Skyrim Special Edition",
          "It Takes Two",
          "The Binding of Isaac: Rebirth",
          "Brawlhalla",
          "DRAGON BALL Z: KAKAROT",
          "New World",
          "Guild Wars 2",
          "BlazBlue Entropy Effect",
          "Marvel’s Spider-Man Remastered"
         ],
         "legendgroup": "1",
         "marker": {
          "color": "#636efa",
          "symbol": "circle"
         },
         "mode": "markers",
         "name": "1",
         "scene": "scene",
         "showlegend": true,
         "type": "scatter3d",
         "x": [
          -0.0678412914276123,
          0.2957114279270172,
          0.1392422765493393,
          0.19939671456813812,
          -0.14061543345451355,
          0.17176192998886108,
          0.10440050810575485,
          0.19225753843784332,
          0.24021314084529877,
          0.24282220005989075,
          0.05642426386475563,
          0.01722433604300022,
          0.06192335486412048,
          0.14649701118469238,
          0.3593868911266327,
          0.04868922755122185,
          -0.05439939349889755,
          0.06312134861946106,
          0.1459769457578659,
          0.1911582201719284,
          -0.015436805784702301,
          -0.00919900182634592,
          0.010172626934945583,
          0.02528320997953415,
          0.02003096044063568,
          -0.13577117025852203,
          -0.03407392278313637,
          0.1773960292339325,
          -0.16023749113082886,
          -0.0734279453754425,
          0.09548406302928925,
          0.01833490841090679,
          0.13605447113513947,
          0.05884268134832382,
          0.014113903045654297,
          0.15511715412139893,
          -0.04400109499692917,
          -0.08068976551294327,
          0.19415046274662018,
          0.1612798124551773,
          -0.1883331537246704,
          0.1792229413986206,
          0.07149559259414673,
          0.11692167073488235
         ],
         "y": [
          -0.18650071322917938,
          -0.05453832820057869,
          -0.17653368413448334,
          -0.13556253910064697,
          -0.21531251072883606,
          -0.29125723242759705,
          -0.06992336362600327,
          -0.12162377685308456,
          -0.09462898224592209,
          -0.14586086571216583,
          -0.23200909793376923,
          -0.3254188001155853,
          -0.40813905000686646,
          -0.10926893353462219,
          0.051289550960063934,
          -0.24143919348716736,
          -0.3251866102218628,
          -0.1584431231021881,
          -0.1519172638654709,
          -0.03757728263735771,
          -0.02938258834183216,
          0.01767067238688469,
          -0.16320140659809113,
          0.19931960105895996,
          -0.32810258865356445,
          -0.2016787827014923,
          -0.2501969039440155,
          -0.18634717166423798,
          -0.27328139543533325,
          -0.1448783129453659,
          -0.16226932406425476,
          -0.13722527027130127,
          -0.11680116504430771,
          -0.060049571096897125,
          -0.19613827764987946,
          -0.04684050753712654,
          -0.06293470412492752,
          -0.2197016328573227,
          -0.3095022737979889,
          -0.06951682269573212,
          -0.2731248438358307,
          -0.28546154499053955,
          -0.23320278525352478,
          -0.0010443705832585692
         ],
         "z": [
          0.11905774474143982,
          -0.14644397795200348,
          -0.2687044143676758,
          -0.17756769061088562,
          -0.17509222030639648,
          -0.029638024047017097,
          -0.24844767153263092,
          0.050846509635448456,
          -0.03488441929221153,
          -0.11906778067350388,
          0.27435263991355896,
          0.02944062277674675,
          -0.08751648664474487,
          -0.27393364906311035,
          -0.19838561117649078,
          -0.16290335357189178,
          0.29583773016929626,
          0.15663163363933563,
          -0.1445743590593338,
          0.1326719969511032,
          -0.1511535495519638,
          -0.3209457993507385,
          0.10482987016439438,
          -0.25134193897247314,
          0.16431058943271637,
          0.19021746516227722,
          0.1943596452474594,
          0.03150208294391632,
          0.1629427820444107,
          0.11884094029664993,
          0.14451175928115845,
          -0.1606919914484024,
          0.17877867817878723,
          -0.04507101699709892,
          -0.044336799532175064,
          0.06244105100631714,
          -0.059509675949811935,
          0.043337780982255936,
          -0.153655543923378,
          -0.04143339395523071,
          0.14491184055805206,
          -0.07208246737718582,
          0.0737503245472908,
          -0.2645845413208008
         ]
        },
        {
         "hovertemplate": "<b>%{hovertext}</b>",
         "hovertext": [
          "Forza Horizon 5",
          "The Sims™ 4",
          "Farming Simulator 22",
          "Cities: Skylines",
          "Microsoft Flight Simulator 40th Anniversary Edition",
          "BeamNG.drive",
          "Planet Zoo",
          "Garry's Mod"
         ],
         "legendgroup": "2",
         "marker": {
          "color": "#EF553B",
          "symbol": "circle"
         },
         "mode": "markers",
         "name": "2",
         "scene": "scene",
         "showlegend": true,
         "type": "scatter3d",
         "x": [
          0.305023729801178,
          0.039264384657144547,
          -0.13959196209907532,
          0.1432095170021057,
          0.3124922215938568,
          0.23575100302696228,
          0.04484036564826965,
          0.12141706049442291
         ],
         "y": [
          0.35577401518821716,
          0.1139487773180008,
          0.23495861887931824,
          0.1484752744436264,
          0.18073052167892456,
          0.425067275762558,
          0.2379039227962494,
          0.2281331866979599
         ],
         "z": [
          0.0019574835896492004,
          0.19028255343437195,
          0.3350399434566498,
          -0.04307563975453377,
          0.005112085957080126,
          0.10684213787317276,
          0.1401263177394867,
          0.2624736428260803
         ]
        },
        {
         "hovertemplate": "<b>%{hovertext}</b>",
         "hovertext": [
          "Call of Duty®",
          "Dead by Daylight",
          "PAYDAY 2",
          "Project Zomboid",
          "Fallout 76",
          "Call of Duty®: Black Ops III",
          "Dead Cells",
          "Vampire Survivors",
          "DayZ",
          "Dying Light"
         ],
         "legendgroup": "6",
         "marker": {
          "color": "#00cc96",
          "symbol": "circle"
         },
         "mode": "markers",
         "name": "6",
         "scene": "scene",
         "showlegend": true,
         "type": "scatter3d",
         "x": [
          0.13016976416110992,
          -0.21878668665885925,
          -0.015529077500104904,
          -0.327827125787735,
          -0.11449790000915527,
          -0.027858277782797813,
          -0.16041229665279388,
          -0.3276771605014801,
          -0.33902642130851746,
          -0.28331679105758667
         ],
         "y": [
          0.004868313204497099,
          0.10863953083753586,
          0.080257847905159,
          0.17181217670440674,
          0.05207819491624832,
          0.05352906510233879,
          0.009714570827782154,
          0.0665295422077179,
          0.14774970710277557,
          0.07997068762779236
         ],
         "z": [
          -0.1717480570077896,
          -0.2914808392524719,
          -0.44523540139198303,
          -0.1579202562570572,
          -0.19510307908058167,
          -0.2902434766292572,
          -0.12448515743017197,
          -0.22534987330436707,
          -0.20857639610767365,
          -0.25786346197128296
         ]
        },
        {
         "hovertemplate": "<b>%{hovertext}</b>",
         "hovertext": [
          "Cyberpunk 2077",
          "Rust",
          "Phasmophobia",
          "DAVE THE DIVER",
          "Sons Of The Forest",
          "The Texas Chain Saw Massacre",
          "Raft",
          "Sea of Thieves 2023 Edition",
          "Metro Exodus",
          "RimWorld",
          "ARK: Survival Evolved",
          "SCP: 5K",
          "Shadow Gambit: The Cursed Crew",
          "theHunter: Call of the Wild™",
          "Darkest Dungeon® II",
          "Graveyard Keeper",
          "Escape the Backrooms",
          "Don't Starve Together",
          "BOOK OF HOURS",
          "Valheim"
         ],
         "legendgroup": "7",
         "marker": {
          "color": "#ab63fa",
          "symbol": "circle"
         },
         "mode": "markers",
         "name": "7",
         "scene": "scene",
         "showlegend": true,
         "type": "scatter3d",
         "x": [
          0.016957463696599007,
          -0.4057137370109558,
          -0.25069430470466614,
          -0.11327999830245972,
          -0.37642887234687805,
          -0.2797282338142395,
          -0.2826181650161743,
          -0.0002575271937530488,
          -0.14305250346660614,
          -0.044805895537137985,
          -0.3745797872543335,
          -0.09326555579900742,
          -0.25011858344078064,
          -0.07222797721624374,
          -0.33634281158447266,
          -0.22666557133197784,
          -0.26529166102409363,
          -0.3052201271057129,
          -0.2568216919898987,
          -0.31358546018600464
         ],
         "y": [
          0.028513263911008835,
          0.17199112474918365,
          0.13598784804344177,
          0.026405388489365578,
          0.12252394109964371,
          0.3309881091117859,
          0.04744735732674599,
          0.10318580269813538,
          0.12926141917705536,
          0.09683456271886826,
          -0.11685622483491898,
          0.02521931752562523,
          -0.03825514763593674,
          0.032815925776958466,
          0.015490120276808739,
          0.1380009949207306,
          0.0007708321791142225,
          -0.09240973740816116,
          -0.05241761729121208,
          -0.22569993138313293
         ],
         "z": [
          0.0025946185924112797,
          0.07607079297304153,
          -0.18068887293338776,
          -0.015566506423056126,
          -0.05612226948142052,
          -0.19857501983642578,
          -0.05259303003549576,
          0.05819731578230858,
          0.09612585604190826,
          0.16119298338890076,
          0.04508715495467186,
          -0.13368777930736542,
          0.010218796320259571,
          -0.046163160353899,
          0.08604980260133743,
          0.28986600041389465,
          -0.18715998530387878,
          -0.032011259347200394,
          0.31762945652008057,
          0.08454611897468567
         ]
        },
        {
         "hovertemplate": "<b>%{hovertext}</b>",
         "hovertext": [
          "Grand Theft Auto V",
          "EA SPORTS™ FIFA 23",
          "Football Manager 2023",
          "Starfield",
          "Madden NFL 24",
          "F1® 23",
          "EA SPORTS FC™ 24"
         ],
         "legendgroup": "4",
         "marker": {
          "color": "#FFA15A",
          "symbol": "circle"
         },
         "mode": "markers",
         "name": "4",
         "scene": "scene",
         "showlegend": true,
         "type": "scatter3d",
         "x": [
          0.2764010727405548,
          0.4812472462654114,
          0.2019505351781845,
          0.2554902732372284,
          0.47690549492836,
          0.3535197973251343,
          0.3979153335094452
         ],
         "y": [
          0.254229336977005,
          0.12137997895479202,
          0.13281449675559998,
          -0.025564275681972504,
          0.22444532811641693,
          0.24661888182163239,
          0.0831088274717331
         ],
         "z": [
          -0.17042802274227142,
          0.004235238768160343,
          0.2159990519285202,
          0.05991757661104202,
          -0.011870753020048141,
          0.056652434170246124,
          0.0010157659417018294
         ]
        },
        {
         "hovertemplate": "<b>%{hovertext}</b>",
         "hovertext": [
          "Total War: WARHAMMER III",
          "Stardew Valley",
          "Crusader Kings III",
          "Sid Meier’s Civilization® VI"
         ],
         "legendgroup": "0",
         "marker": {
          "color": "#19d3f3",
          "symbol": "circle"
         },
         "mode": "markers",
         "name": "0",
         "scene": "scene",
         "showlegend": true,
         "type": "scatter3d",
         "x": [
          -0.05704384669661522,
          -0.1351429969072342,
          -0.10052892565727234,
          0.061126258224248886
         ],
         "y": [
          -0.12481535226106644,
          0.2869831323623657,
          -0.12846145033836365,
          -0.004926642868667841
         ],
         "z": [
          0.3102762699127197,
          0.286398708820343,
          0.45178738236427307,
          0.32550162076950073
         ]
        },
        {
         "hovertemplate": "<b>%{hovertext}</b>",
         "hovertext": [
          "Forza Horizon 4",
          "Euro Truck Simulator 2",
          "American Truck Simulator",
          "Contraband Police"
         ],
         "legendgroup": "3",
         "marker": {
          "color": "#FF6692",
          "symbol": "circle"
         },
         "mode": "markers",
         "name": "3",
         "scene": "scene",
         "showlegend": true,
         "type": "scatter3d",
         "x": [
          0.07421228289604187,
          0.16860303282737732,
          0.24293667078018188,
          -0.08291569352149963
         ],
         "y": [
          0.3732311725616455,
          0.40660345554351807,
          0.4744267165660858,
          0.3869093656539917
         ],
         "z": [
          0.2816466987133026,
          0.26370927691459656,
          0.02826792746782303,
          0.2944907546043396
         ]
        },
        {
         "hovertemplate": "<b>%{hovertext}</b>",
         "hovertext": [
          "The Outlast Trials",
          "Six Days in Fallujah",
          "Resident Evil 4"
         ],
         "legendgroup": "5",
         "marker": {
          "color": "#B6E880",
          "symbol": "circle"
         },
         "mode": "markers",
         "name": "5",
         "scene": "scene",
         "showlegend": true,
         "type": "scatter3d",
         "x": [
          -0.2751659154891968,
          -0.07625016570091248,
          -0.373245507478714
         ],
         "y": [
          0.15373468399047852,
          0.15048401057720184,
          0.3726039230823517
         ],
         "z": [
          -0.03991314023733139,
          -0.2595357298851013,
          -0.0955219715833664
         ]
        }
       ],
       "layout": {
        "height": 720,
        "legend": {
         "title": {
          "text": "cluster"
         },
         "tracegroupgap": 0
        },
        "margin": {
         "t": 60
        },
        "scene": {
         "domain": {
          "x": [
           0,
           1
          ],
          "y": [
           0,
           1
          ]
         },
         "xaxis": {
          "range": [
           -0.9057137370109558,
           0.9812472462654114
          ],
          "title": {
           "text": "x"
          }
         },
         "yaxis": {
          "range": [
           -0.9081390500068665,
           0.9744267165660858
          ],
          "title": {
           "text": "y"
          }
         },
         "zaxis": {
          "range": [
           -0.945235401391983,
           0.9517873823642731
          ],
          "title": {
           "text": "z"
          }
         }
        },
        "template": {
         "data": {
          "bar": [
           {
            "error_x": {
             "color": "#2a3f5f"
            },
            "error_y": {
             "color": "#2a3f5f"
            },
            "marker": {
             "line": {
              "color": "#E5ECF6",
              "width": 0.5
             },
             "pattern": {
              "fillmode": "overlay",
              "size": 10,
              "solidity": 0.2
             }
            },
            "type": "bar"
           }
          ],
          "barpolar": [
           {
            "marker": {
             "line": {
              "color": "#E5ECF6",
              "width": 0.5
             },
             "pattern": {
              "fillmode": "overlay",
              "size": 10,
              "solidity": 0.2
             }
            },
            "type": "barpolar"
           }
          ],
          "carpet": [
           {
            "aaxis": {
             "endlinecolor": "#2a3f5f",
             "gridcolor": "white",
             "linecolor": "white",
             "minorgridcolor": "white",
             "startlinecolor": "#2a3f5f"
            },
            "baxis": {
             "endlinecolor": "#2a3f5f",
             "gridcolor": "white",
             "linecolor": "white",
             "minorgridcolor": "white",
             "startlinecolor": "#2a3f5f"
            },
            "type": "carpet"
           }
          ],
          "choropleth": [
           {
            "colorbar": {
             "outlinewidth": 0,
             "ticks": ""
            },
            "type": "choropleth"
           }
          ],
          "contour": [
           {
            "colorbar": {
             "outlinewidth": 0,
             "ticks": ""
            },
            "colorscale": [
             [
              0,
              "#0d0887"
             ],
             [
              0.1111111111111111,
              "#46039f"
             ],
             [
              0.2222222222222222,
              "#7201a8"
             ],
             [
              0.3333333333333333,
              "#9c179e"
             ],
             [
              0.4444444444444444,
              "#bd3786"
             ],
             [
              0.5555555555555556,
              "#d8576b"
             ],
             [
              0.6666666666666666,
              "#ed7953"
             ],
             [
              0.7777777777777778,
              "#fb9f3a"
             ],
             [
              0.8888888888888888,
              "#fdca26"
             ],
             [
              1,
              "#f0f921"
             ]
            ],
            "type": "contour"
           }
          ],
          "contourcarpet": [
           {
            "colorbar": {
             "outlinewidth": 0,
             "ticks": ""
            },
            "type": "contourcarpet"
           }
          ],
          "heatmap": [
           {
            "colorbar": {
             "outlinewidth": 0,
             "ticks": ""
            },
            "colorscale": [
             [
              0,
              "#0d0887"
             ],
             [
              0.1111111111111111,
              "#46039f"
             ],
             [
              0.2222222222222222,
              "#7201a8"
             ],
             [
              0.3333333333333333,
              "#9c179e"
             ],
             [
              0.4444444444444444,
              "#bd3786"
             ],
             [
              0.5555555555555556,
              "#d8576b"
             ],
             [
              0.6666666666666666,
              "#ed7953"
             ],
             [
              0.7777777777777778,
              "#fb9f3a"
             ],
             [
              0.8888888888888888,
              "#fdca26"
             ],
             [
              1,
              "#f0f921"
             ]
            ],
            "type": "heatmap"
           }
          ],
          "heatmapgl": [
           {
            "colorbar": {
             "outlinewidth": 0,
             "ticks": ""
            },
            "colorscale": [
             [
              0,
              "#0d0887"
             ],
             [
              0.1111111111111111,
              "#46039f"
             ],
             [
              0.2222222222222222,
              "#7201a8"
             ],
             [
              0.3333333333333333,
              "#9c179e"
             ],
             [
              0.4444444444444444,
              "#bd3786"
             ],
             [
              0.5555555555555556,
              "#d8576b"
             ],
             [
              0.6666666666666666,
              "#ed7953"
             ],
             [
              0.7777777777777778,
              "#fb9f3a"
             ],
             [
              0.8888888888888888,
              "#fdca26"
             ],
             [
              1,
              "#f0f921"
             ]
            ],
            "type": "heatmapgl"
           }
          ],
          "histogram": [
           {
            "marker": {
             "pattern": {
              "fillmode": "overlay",
              "size": 10,
              "solidity": 0.2
             }
            },
            "type": "histogram"
           }
          ],
          "histogram2d": [
           {
            "colorbar": {
             "outlinewidth": 0,
             "ticks": ""
            },
            "colorscale": [
             [
              0,
              "#0d0887"
             ],
             [
              0.1111111111111111,
              "#46039f"
             ],
             [
              0.2222222222222222,
              "#7201a8"
             ],
             [
              0.3333333333333333,
              "#9c179e"
             ],
             [
              0.4444444444444444,
              "#bd3786"
             ],
             [
              0.5555555555555556,
              "#d8576b"
             ],
             [
              0.6666666666666666,
              "#ed7953"
             ],
             [
              0.7777777777777778,
              "#fb9f3a"
             ],
             [
              0.8888888888888888,
              "#fdca26"
             ],
             [
              1,
              "#f0f921"
             ]
            ],
            "type": "histogram2d"
           }
          ],
          "histogram2dcontour": [
           {
            "colorbar": {
             "outlinewidth": 0,
             "ticks": ""
            },
            "colorscale": [
             [
              0,
              "#0d0887"
             ],
             [
              0.1111111111111111,
              "#46039f"
             ],
             [
              0.2222222222222222,
              "#7201a8"
             ],
             [
              0.3333333333333333,
              "#9c179e"
             ],
             [
              0.4444444444444444,
              "#bd3786"
             ],
             [
              0.5555555555555556,
              "#d8576b"
             ],
             [
              0.6666666666666666,
              "#ed7953"
             ],
             [
              0.7777777777777778,
              "#fb9f3a"
             ],
             [
              0.8888888888888888,
              "#fdca26"
             ],
             [
              1,
              "#f0f921"
             ]
            ],
            "type": "histogram2dcontour"
           }
          ],
          "mesh3d": [
           {
            "colorbar": {
             "outlinewidth": 0,
             "ticks": ""
            },
            "type": "mesh3d"
           }
          ],
          "parcoords": [
           {
            "line": {
             "colorbar": {
              "outlinewidth": 0,
              "ticks": ""
             }
            },
            "type": "parcoords"
           }
          ],
          "pie": [
           {
            "automargin": true,
            "type": "pie"
           }
          ],
          "scatter": [
           {
            "fillpattern": {
             "fillmode": "overlay",
             "size": 10,
             "solidity": 0.2
            },
            "type": "scatter"
           }
          ],
          "scatter3d": [
           {
            "line": {
             "colorbar": {
              "outlinewidth": 0,
              "ticks": ""
             }
            },
            "marker": {
             "colorbar": {
              "outlinewidth": 0,
              "ticks": ""
             }
            },
            "type": "scatter3d"
           }
          ],
          "scattercarpet": [
           {
            "marker": {
             "colorbar": {
              "outlinewidth": 0,
              "ticks": ""
             }
            },
            "type": "scattercarpet"
           }
          ],
          "scattergeo": [
           {
            "marker": {
             "colorbar": {
              "outlinewidth": 0,
              "ticks": ""
             }
            },
            "type": "scattergeo"
           }
          ],
          "scattergl": [
           {
            "marker": {
             "colorbar": {
              "outlinewidth": 0,
              "ticks": ""
             }
            },
            "type": "scattergl"
           }
          ],
          "scattermapbox": [
           {
            "marker": {
             "colorbar": {
              "outlinewidth": 0,
              "ticks": ""
             }
            },
            "type": "scattermapbox"
           }
          ],
          "scatterpolar": [
           {
            "marker": {
             "colorbar": {
              "outlinewidth": 0,
              "ticks": ""
             }
            },
            "type": "scatterpolar"
           }
          ],
          "scatterpolargl": [
           {
            "marker": {
             "colorbar": {
              "outlinewidth": 0,
              "ticks": ""
             }
            },
            "type": "scatterpolargl"
           }
          ],
          "scatterternary": [
           {
            "marker": {
             "colorbar": {
              "outlinewidth": 0,
              "ticks": ""
             }
            },
            "type": "scatterternary"
           }
          ],
          "surface": [
           {
            "colorbar": {
             "outlinewidth": 0,
             "ticks": ""
            },
            "colorscale": [
             [
              0,
              "#0d0887"
             ],
             [
              0.1111111111111111,
              "#46039f"
             ],
             [
              0.2222222222222222,
              "#7201a8"
             ],
             [
              0.3333333333333333,
              "#9c179e"
             ],
             [
              0.4444444444444444,
              "#bd3786"
             ],
             [
              0.5555555555555556,
              "#d8576b"
             ],
             [
              0.6666666666666666,
              "#ed7953"
             ],
             [
              0.7777777777777778,
              "#fb9f3a"
             ],
             [
              0.8888888888888888,
              "#fdca26"
             ],
             [
              1,
              "#f0f921"
             ]
            ],
            "type": "surface"
           }
          ],
          "table": [
           {
            "cells": {
             "fill": {
              "color": "#EBF0F8"
             },
             "line": {
              "color": "white"
             }
            },
            "header": {
             "fill": {
              "color": "#C8D4E3"
             },
             "line": {
              "color": "white"
             }
            },
            "type": "table"
           }
          ]
         },
         "layout": {
          "annotationdefaults": {
           "arrowcolor": "#2a3f5f",
           "arrowhead": 0,
           "arrowwidth": 1
          },
          "autotypenumbers": "strict",
          "coloraxis": {
           "colorbar": {
            "outlinewidth": 0,
            "ticks": ""
           }
          },
          "colorscale": {
           "diverging": [
            [
             0,
             "#8e0152"
            ],
            [
             0.1,
             "#c51b7d"
            ],
            [
             0.2,
             "#de77ae"
            ],
            [
             0.3,
             "#f1b6da"
            ],
            [
             0.4,
             "#fde0ef"
            ],
            [
             0.5,
             "#f7f7f7"
            ],
            [
             0.6,
             "#e6f5d0"
            ],
            [
             0.7,
             "#b8e186"
            ],
            [
             0.8,
             "#7fbc41"
            ],
            [
             0.9,
             "#4d9221"
            ],
            [
             1,
             "#276419"
            ]
           ],
           "sequential": [
            [
             0,
             "#0d0887"
            ],
            [
             0.1111111111111111,
             "#46039f"
            ],
            [
             0.2222222222222222,
             "#7201a8"
            ],
            [
             0.3333333333333333,
             "#9c179e"
            ],
            [
             0.4444444444444444,
             "#bd3786"
            ],
            [
             0.5555555555555556,
             "#d8576b"
            ],
            [
             0.6666666666666666,
             "#ed7953"
            ],
            [
             0.7777777777777778,
             "#fb9f3a"
            ],
            [
             0.8888888888888888,
             "#fdca26"
            ],
            [
             1,
             "#f0f921"
            ]
           ],
           "sequentialminus": [
            [
             0,
             "#0d0887"
            ],
            [
             0.1111111111111111,
             "#46039f"
            ],
            [
             0.2222222222222222,
             "#7201a8"
            ],
            [
             0.3333333333333333,
             "#9c179e"
            ],
            [
             0.4444444444444444,
             "#bd3786"
            ],
            [
             0.5555555555555556,
             "#d8576b"
            ],
            [
             0.6666666666666666,
             "#ed7953"
            ],
            [
             0.7777777777777778,
             "#fb9f3a"
            ],
            [
             0.8888888888888888,
             "#fdca26"
            ],
            [
             1,
             "#f0f921"
            ]
           ]
          },
          "colorway": [
           "#636efa",
           "#EF553B",
           "#00cc96",
           "#ab63fa",
           "#FFA15A",
           "#19d3f3",
           "#FF6692",
           "#B6E880",
           "#FF97FF",
           "#FECB52"
          ],
          "font": {
           "color": "#2a3f5f"
          },
          "geo": {
           "bgcolor": "white",
           "lakecolor": "white",
           "landcolor": "#E5ECF6",
           "showlakes": true,
           "showland": true,
           "subunitcolor": "white"
          },
          "hoverlabel": {
           "align": "left"
          },
          "hovermode": "closest",
          "mapbox": {
           "style": "light"
          },
          "paper_bgcolor": "white",
          "plot_bgcolor": "#E5ECF6",
          "polar": {
           "angularaxis": {
            "gridcolor": "white",
            "linecolor": "white",
            "ticks": ""
           },
           "bgcolor": "#E5ECF6",
           "radialaxis": {
            "gridcolor": "white",
            "linecolor": "white",
            "ticks": ""
           }
          },
          "scene": {
           "xaxis": {
            "backgroundcolor": "#E5ECF6",
            "gridcolor": "white",
            "gridwidth": 2,
            "linecolor": "white",
            "showbackground": true,
            "ticks": "",
            "zerolinecolor": "white"
           },
           "yaxis": {
            "backgroundcolor": "#E5ECF6",
            "gridcolor": "white",
            "gridwidth": 2,
            "linecolor": "white",
            "showbackground": true,
            "ticks": "",
            "zerolinecolor": "white"
           },
           "zaxis": {
            "backgroundcolor": "#E5ECF6",
            "gridcolor": "white",
            "gridwidth": 2,
            "linecolor": "white",
            "showbackground": true,
            "ticks": "",
            "zerolinecolor": "white"
           }
          },
          "shapedefaults": {
           "line": {
            "color": "#2a3f5f"
           }
          },
          "ternary": {
           "aaxis": {
            "gridcolor": "white",
            "linecolor": "white",
            "ticks": ""
           },
           "baxis": {
            "gridcolor": "white",
            "linecolor": "white",
            "ticks": ""
           },
           "bgcolor": "#E5ECF6",
           "caxis": {
            "gridcolor": "white",
            "linecolor": "white",
            "ticks": ""
           }
          },
          "title": {
           "x": 0.05
          },
          "xaxis": {
           "automargin": true,
           "gridcolor": "white",
           "linecolor": "white",
           "ticks": "",
           "title": {
            "standoff": 15
           },
           "zerolinecolor": "white",
           "zerolinewidth": 2
          },
          "yaxis": {
           "automargin": true,
           "gridcolor": "white",
           "linecolor": "white",
           "ticks": "",
           "title": {
            "standoff": 15
           },
           "zerolinecolor": "white",
           "zerolinewidth": 2
          }
         }
        },
        "width": 1280
       }
      }
     },
     "metadata": {},
     "output_type": "display_data"
    }
   ],
   "source": [
    "visualize(model, sample_descriptions, \"tokenize_desc\", 8)"
   ]
  },
  {
   "cell_type": "markdown",
   "metadata": {},
   "source": [
    "### Visualizing Tags"
   ]
  },
  {
   "cell_type": "code",
   "execution_count": 13,
   "metadata": {},
   "outputs": [
    {
     "name": "stderr",
     "output_type": "stream",
     "text": [
      "/Library/Frameworks/Python.framework/Versions/3.12/lib/python3.12/site-packages/sklearn/cluster/_kmeans.py:1416: FutureWarning:\n",
      "\n",
      "The default value of `n_init` will change from 10 to 'auto' in 1.4. Set the value of `n_init` explicitly to suppress the warning\n",
      "\n"
     ]
    },
    {
     "data": {
      "application/vnd.plotly.v1+json": {
       "config": {
        "plotlyServerURL": "https://plot.ly"
       },
       "data": [
        {
         "hovertemplate": "<b>%{hovertext}</b>",
         "hovertext": [
          "Baldur's Gate 3",
          "Warframe",
          "DAVE THE DIVER",
          "Yu-Gi-Oh! Master Duel",
          "The Sims™ 4",
          "Red Dead Redemption 2",
          "Hogwarts Legacy",
          "Starfield",
          "Stardew Valley",
          "Sengoku Dynasty",
          "Sea of Thieves 2023 Edition",
          "Path of Exile",
          "Dead Cells",
          "Ratchet & Clank: Rift Apart",
          "Vampire Survivors",
          "Darkest Dungeon® II",
          "Graveyard Keeper",
          "The Elder Scrolls V: Skyrim Special Edition",
          "It Takes Two",
          "The Binding of Isaac: Rebirth",
          "DRAGON BALL Z: KAKAROT",
          "BOOK OF HOURS",
          "BlazBlue Entropy Effect",
          "Marvel’s Spider-Man Remastered"
         ],
         "legendgroup": "7",
         "marker": {
          "color": "#636efa",
          "symbol": "circle"
         },
         "mode": "markers",
         "name": "7",
         "scene": "scene",
         "showlegend": true,
         "type": "scatter3d",
         "x": [
          -0.034596800804138184,
          -0.1776987761259079,
          0.027515603229403496,
          -0.03038526140153408,
          0.1721017062664032,
          -0.09497208148241043,
          -0.026769815012812614,
          -0.07678956538438797,
          0.21029385924339294,
          0.08568622916936874,
          -0.027486640959978104,
          -0.1823219209909439,
          -0.2543562650680542,
          -0.24318724870681763,
          -0.2621459364891052,
          -0.2275325506925583,
          0.1290290504693985,
          0.007174273487180471,
          -0.13290640711784363,
          -0.19250817596912384,
          -0.14082194864749908,
          0.00001858576069935225,
          -0.11685246229171753,
          -0.17235217988491058
         ],
         "y": [
          -0.19375252723693848,
          -0.07313615083694458,
          -0.18342699110507965,
          0.07818952202796936,
          -0.06556914001703262,
          -0.16091938316822052,
          -0.2874261736869812,
          -0.31795117259025574,
          -0.15946316719055176,
          -0.3266823887825012,
          0.01849285326898098,
          -0.09929143637418747,
          -0.18756899237632751,
          -0.06514094769954681,
          -0.042581167072057724,
          -0.12635916471481323,
          -0.08067593723535538,
          -0.3239162862300873,
          0.024524925276637077,
          -0.33187103271484375,
          0.07495181262493134,
          -0.1734696626663208,
          -0.1570120006799698,
          -0.022121107205748558
         ],
         "z": [
          0.23224583268165588,
          0.23264548182487488,
          0.07359917461872101,
          0.13016122579574585,
          -0.13589951395988464,
          -0.07394950836896896,
          0.15805669128894806,
          0.15567399561405182,
          -0.02986021712422371,
          0.1483788639307022,
          -0.08197184652090073,
          0.14897313714027405,
          -0.07154204696416855,
          -0.06159145012497902,
          -0.1007034108042717,
          0.09451165050268173,
          -0.09250064939260483,
          0.18550942838191986,
          -0.05647501349449158,
          0.1346150040626526,
          0.04817478358745575,
          0.08829982578754425,
          -0.023146776482462883,
          -0.09050842374563217
         ]
        },
        {
         "hovertemplate": "<b>%{hovertext}</b>",
         "hovertext": [
          "Counter-Strike: Global Offensive",
          "Apex Legends™",
          "Call of Duty®",
          "PUBG: BATTLEGROUNDS",
          "NARAKA: BLADEPOINT",
          "Grand Theft Auto V",
          "Tom Clancy's Rainbow Six® Siege",
          "Team Fortress 2",
          "BattleBit Remastered",
          "Street Fighter™ 6",
          "Destiny 2",
          "PAYDAY 2",
          "Hunt: Showdown",
          "Ready or Not",
          "ARMORED CORE™ VI FIRES OF RUBICON™",
          "Microsoft Flight Simulator 40th Anniversary Edition",
          "Call of Duty®: Black Ops III",
          "Deep Rock Galactic",
          "World of Tanks Blitz",
          "SCP: 5K",
          "theHunter: Call of the Wild™",
          "DayZ",
          "Six Days in Fallujah",
          "Brawlhalla"
         ],
         "legendgroup": "0",
         "marker": {
          "color": "#EF553B",
          "symbol": "circle"
         },
         "mode": "markers",
         "name": "0",
         "scene": "scene",
         "showlegend": true,
         "type": "scatter3d",
         "x": [
          -0.08996620774269104,
          -0.19136691093444824,
          -0.18210533261299133,
          -0.20962829887866974,
          -0.14164716005325317,
          0.06688661873340607,
          -0.082891084253788,
          -0.20167970657348633,
          -0.10006089508533478,
          -0.12508618831634521,
          -0.15452997386455536,
          -0.20591433346271515,
          -0.12497371435165405,
          -0.12382213026285172,
          0.1355583667755127,
          0.16129188239574432,
          -0.24456524848937988,
          -0.07113313674926758,
          -0.07120127230882645,
          -0.28731727600097656,
          -0.02871481515467167,
          -0.1665496975183487,
          -0.09945138543844223,
          -0.17152881622314453
         ],
         "y": [
          0.3307327628135681,
          0.3512728810310364,
          0.26415741443634033,
          0.24621231853961945,
          0.18912926316261292,
          0.030079185962677002,
          0.3559880554676056,
          0.29205071926116943,
          0.30996736884117126,
          0.1684451550245285,
          0.1052756980061531,
          0.25954288244247437,
          0.10572594404220581,
          0.262337327003479,
          0.1957937777042389,
          0.10220614820718765,
          0.2716645896434784,
          0.18635611236095428,
          0.3314230740070343,
          0.23650267720222473,
          0.06995969265699387,
          0.13342373073101044,
          0.276875376701355,
          0.2201928049325943
         ],
         "z": [
          -0.014362340793013573,
          -0.018134161829948425,
          -0.013156299479305744,
          -0.12319987267255783,
          0.15784607827663422,
          -0.15703904628753662,
          -0.0063964626751840115,
          -0.008971895091235638,
          0.033015280961990356,
          -0.003656539134681225,
          0.13324567675590515,
          -0.15269102156162262,
          -0.08921542763710022,
          -0.02350752241909504,
          -0.04596860706806183,
          -0.2222767472267151,
          -0.1136038526892662,
          -0.15190383791923523,
          0.07218751311302185,
          -0.12945795059204102,
          -0.1857091188430786,
          -0.26621562242507935,
          0.04460720717906952,
          -0.0073151737451553345
         ]
        },
        {
         "hovertemplate": "<b>%{hovertext}</b>",
         "hovertext": [
          "Forza Horizon 5",
          "War Thunder",
          "Forza Horizon 4",
          "Euro Truck Simulator 2",
          "American Truck Simulator",
          "F1® 23",
          "BeamNG.drive"
         ],
         "legendgroup": "4",
         "marker": {
          "color": "#00cc96",
          "symbol": "circle"
         },
         "mode": "markers",
         "name": "4",
         "scene": "scene",
         "showlegend": true,
         "type": "scatter3d",
         "x": [
          0.22389477491378784,
          0.4300738275051117,
          0.2589254677295685,
          0.5429086089134216,
          0.5989793539047241,
          0.2241651564836502,
          0.5027880668640137
         ],
         "y": [
          -0.029174016788601875,
          0.15683726966381073,
          0.0375143364071846,
          -0.20450346171855927,
          -0.2080339640378952,
          0.17250722646713257,
          -0.13959640264511108
         ],
         "z": [
          -0.19334344565868378,
          0.16411182284355164,
          -0.19547471404075623,
          0.006519351154565811,
          0.009120967239141464,
          -0.2091352939605713,
          -0.10979094356298447
         ]
        },
        {
         "hovertemplate": "<b>%{hovertext}</b>",
         "hovertext": [
          "Remnant II",
          "Cyberpunk 2077",
          "Dead by Daylight",
          "Phasmophobia",
          "ELDEN RING",
          "Sons Of The Forest",
          "The Texas Chain Saw Massacre",
          "Fallout 76",
          "Metro Exodus",
          "The Outlast Trials",
          "Escape the Backrooms",
          "Contraband Police",
          "Resident Evil 4",
          "Dying Light"
         ],
         "legendgroup": "5",
         "marker": {
          "color": "#ab63fa",
          "symbol": "circle"
         },
         "mode": "markers",
         "name": "5",
         "scene": "scene",
         "showlegend": true,
         "type": "scatter3d",
         "x": [
          -0.32367023825645447,
          -0.02041678875684738,
          -0.23909711837768555,
          -0.1683133989572525,
          -0.23790231347084045,
          -0.11965691298246384,
          -0.2190680056810379,
          -0.09889417141675949,
          -0.19636566936969757,
          -0.22527877986431122,
          -0.271207720041275,
          0.12582778930664062,
          -0.31104525923728943,
          -0.11018963158130646
         ],
         "y": [
          -0.19339194893836975,
          -0.22572281956672668,
          -0.13649733364582062,
          -0.13805919885635376,
          -0.35785746574401855,
          -0.18628448247909546,
          -0.10243088006973267,
          -0.22976727783679962,
          -0.08518855273723602,
          -0.20174571871757507,
          -0.2511143088340759,
          -0.24023005366325378,
          -0.0185464508831501,
          -0.26572322845458984
         ],
         "z": [
          0.009326118975877762,
          0.053456325083971024,
          -0.22220589220523834,
          -0.2108943611383438,
          0.087271548807621,
          -0.29478418827056885,
          -0.03747004270553589,
          0.03132885694503784,
          -0.20274925231933594,
          -0.1396053582429886,
          -0.15963345766067505,
          -0.04802772402763367,
          -0.14986325800418854,
          -0.07753773778676987
         ]
        },
        {
         "hovertemplate": "<b>%{hovertext}</b>",
         "hovertext": [
          "Rust",
          "Project Zomboid",
          "Raft",
          "Farming Simulator 22",
          "Cities: Skylines",
          "RimWorld",
          "Terraria",
          "ARK: Survival Evolved",
          "Don't Starve Together",
          "Planet Zoo",
          "Garry's Mod",
          "Valheim"
         ],
         "legendgroup": "1",
         "marker": {
          "color": "#FFA15A",
          "symbol": "circle"
         },
         "mode": "markers",
         "name": "1",
         "scene": "scene",
         "showlegend": true,
         "type": "scatter3d",
         "x": [
          0.055905938148498535,
          -0.005969441030174494,
          0.13884848356246948,
          0.3927968144416809,
          0.34713947772979736,
          0.4146832227706909,
          0.04121419042348862,
          0.13638783991336823,
          0.0623859278857708,
          0.42539918422698975,
          0.13904045522212982,
          0.1001548022031784
         ],
         "y": [
          -0.035506196320056915,
          -0.07333922386169434,
          -0.13250304758548737,
          0.007732539437711239,
          0.06976620107889175,
          0.0159536674618721,
          -0.14111751317977905,
          -0.21942320466041565,
          -0.12604935467243195,
          -0.03210430592298508,
          -0.09646137058734894,
          -0.24704141914844513
         ],
         "z": [
          -0.23992450535297394,
          -0.3212207555770874,
          -0.2204972207546234,
          -0.19843563437461853,
          -0.2360135018825531,
          -0.18697988986968994,
          -0.32404741644859314,
          -0.20209035277366638,
          -0.26881712675094604,
          -0.23032456636428833,
          -0.03413830325007439,
          -0.13816191256046295
         ]
        },
        {
         "hovertemplate": "<b>%{hovertext}</b>",
         "hovertext": [
          "Dota 2",
          "FINAL FANTASY XIV Online",
          "The Elder Scrolls® Online",
          "World of Warships",
          "Wayfinder",
          "Eternal Return",
          "New World",
          "Guild Wars 2"
         ],
         "legendgroup": "2",
         "marker": {
          "color": "#19d3f3",
          "symbol": "circle"
         },
         "mode": "markers",
         "name": "2",
         "scene": "scene",
         "showlegend": true,
         "type": "scatter3d",
         "x": [
          0.0497678741812706,
          -0.01055537536740303,
          -0.05580313876271248,
          0.15434610843658447,
          -0.11280887573957443,
          -0.08254483342170715,
          -0.03973398357629776,
          -0.027736548334360123
         ],
         "y": [
          0.3475159704685211,
          -0.18807950615882874,
          -0.15828920900821686,
          0.1540462076663971,
          -0.0357360765337944,
          0.25106897950172424,
          -0.06060630828142166,
          -0.0354483388364315
         ],
         "z": [
          0.2912524938583374,
          0.44033339619636536,
          0.3324003219604492,
          0.35414940118789673,
          0.3714495897293091,
          0.14253033697605133,
          0.3734067380428314,
          0.28126442432403564
         ]
        },
        {
         "hovertemplate": "<b>%{hovertext}</b>",
         "hovertext": [
          "EA SPORTS™ FIFA 23",
          "Football Manager 2023",
          "Madden NFL 24",
          "EA SPORTS FC™ 24"
         ],
         "legendgroup": "6",
         "marker": {
          "color": "#FF6692",
          "symbol": "circle"
         },
         "mode": "markers",
         "name": "6",
         "scene": "scene",
         "showlegend": true,
         "type": "scatter3d",
         "x": [
          0.3405192196369171,
          0.33528101444244385,
          0.20070450007915497,
          0.15493471920490265
         ],
         "y": [
          0.3660745918750763,
          0.36928030848503113,
          0.3169495761394501,
          0.35771429538726807
         ],
         "z": [
          0.04211941733956337,
          -0.04591613635420799,
          0.015313374809920788,
          0.10772406309843063
         ]
        },
        {
         "hovertemplate": "<b>%{hovertext}</b>",
         "hovertext": [
          "Hearts of Iron IV",
          "Total War: WARHAMMER III",
          "Mount & Blade II: Bannerlord",
          "Stellaris",
          "Crusader Kings III",
          "Shadow Gambit: The Cursed Crew",
          "Sid Meier’s Civilization® VI"
         ],
         "legendgroup": "3",
         "marker": {
          "color": "#B6E880",
          "symbol": "circle"
         },
         "mode": "markers",
         "name": "3",
         "scene": "scene",
         "showlegend": true,
         "type": "scatter3d",
         "x": [
          0.30943095684051514,
          0.048725977540016174,
          0.08636511117219925,
          0.24499256908893585,
          0.2234678417444229,
          0.033571455627679825,
          0.0048943329602479935
         ],
         "y": [
          0.08504308760166168,
          -0.034993190318346024,
          0.022094106301665306,
          -0.11795339733362198,
          -0.0519750751554966,
          0.07296321541070938,
          0.08429327607154846
         ],
         "z": [
          0.44457945227622986,
          0.35883283615112305,
          0.10974068939685822,
          0.1841103881597519,
          0.3318493962287903,
          0.32372811436653137,
          0.31034615635871887
         ]
        }
       ],
       "layout": {
        "height": 720,
        "legend": {
         "title": {
          "text": "cluster"
         },
         "tracegroupgap": 0
        },
        "margin": {
         "t": 60
        },
        "scene": {
         "domain": {
          "x": [
           0,
           1
          ],
          "y": [
           0,
           1
          ]
         },
         "xaxis": {
          "range": [
           -0.8236702382564545,
           1.0989793539047241
          ],
          "title": {
           "text": "x"
          }
         },
         "yaxis": {
          "range": [
           -0.8578574657440186,
           0.8692803084850311
          ],
          "title": {
           "text": "y"
          }
         },
         "zaxis": {
          "range": [
           -0.8240474164485931,
           0.9445794522762299
          ],
          "title": {
           "text": "z"
          }
         }
        },
        "template": {
         "data": {
          "bar": [
           {
            "error_x": {
             "color": "#2a3f5f"
            },
            "error_y": {
             "color": "#2a3f5f"
            },
            "marker": {
             "line": {
              "color": "#E5ECF6",
              "width": 0.5
             },
             "pattern": {
              "fillmode": "overlay",
              "size": 10,
              "solidity": 0.2
             }
            },
            "type": "bar"
           }
          ],
          "barpolar": [
           {
            "marker": {
             "line": {
              "color": "#E5ECF6",
              "width": 0.5
             },
             "pattern": {
              "fillmode": "overlay",
              "size": 10,
              "solidity": 0.2
             }
            },
            "type": "barpolar"
           }
          ],
          "carpet": [
           {
            "aaxis": {
             "endlinecolor": "#2a3f5f",
             "gridcolor": "white",
             "linecolor": "white",
             "minorgridcolor": "white",
             "startlinecolor": "#2a3f5f"
            },
            "baxis": {
             "endlinecolor": "#2a3f5f",
             "gridcolor": "white",
             "linecolor": "white",
             "minorgridcolor": "white",
             "startlinecolor": "#2a3f5f"
            },
            "type": "carpet"
           }
          ],
          "choropleth": [
           {
            "colorbar": {
             "outlinewidth": 0,
             "ticks": ""
            },
            "type": "choropleth"
           }
          ],
          "contour": [
           {
            "colorbar": {
             "outlinewidth": 0,
             "ticks": ""
            },
            "colorscale": [
             [
              0,
              "#0d0887"
             ],
             [
              0.1111111111111111,
              "#46039f"
             ],
             [
              0.2222222222222222,
              "#7201a8"
             ],
             [
              0.3333333333333333,
              "#9c179e"
             ],
             [
              0.4444444444444444,
              "#bd3786"
             ],
             [
              0.5555555555555556,
              "#d8576b"
             ],
             [
              0.6666666666666666,
              "#ed7953"
             ],
             [
              0.7777777777777778,
              "#fb9f3a"
             ],
             [
              0.8888888888888888,
              "#fdca26"
             ],
             [
              1,
              "#f0f921"
             ]
            ],
            "type": "contour"
           }
          ],
          "contourcarpet": [
           {
            "colorbar": {
             "outlinewidth": 0,
             "ticks": ""
            },
            "type": "contourcarpet"
           }
          ],
          "heatmap": [
           {
            "colorbar": {
             "outlinewidth": 0,
             "ticks": ""
            },
            "colorscale": [
             [
              0,
              "#0d0887"
             ],
             [
              0.1111111111111111,
              "#46039f"
             ],
             [
              0.2222222222222222,
              "#7201a8"
             ],
             [
              0.3333333333333333,
              "#9c179e"
             ],
             [
              0.4444444444444444,
              "#bd3786"
             ],
             [
              0.5555555555555556,
              "#d8576b"
             ],
             [
              0.6666666666666666,
              "#ed7953"
             ],
             [
              0.7777777777777778,
              "#fb9f3a"
             ],
             [
              0.8888888888888888,
              "#fdca26"
             ],
             [
              1,
              "#f0f921"
             ]
            ],
            "type": "heatmap"
           }
          ],
          "heatmapgl": [
           {
            "colorbar": {
             "outlinewidth": 0,
             "ticks": ""
            },
            "colorscale": [
             [
              0,
              "#0d0887"
             ],
             [
              0.1111111111111111,
              "#46039f"
             ],
             [
              0.2222222222222222,
              "#7201a8"
             ],
             [
              0.3333333333333333,
              "#9c179e"
             ],
             [
              0.4444444444444444,
              "#bd3786"
             ],
             [
              0.5555555555555556,
              "#d8576b"
             ],
             [
              0.6666666666666666,
              "#ed7953"
             ],
             [
              0.7777777777777778,
              "#fb9f3a"
             ],
             [
              0.8888888888888888,
              "#fdca26"
             ],
             [
              1,
              "#f0f921"
             ]
            ],
            "type": "heatmapgl"
           }
          ],
          "histogram": [
           {
            "marker": {
             "pattern": {
              "fillmode": "overlay",
              "size": 10,
              "solidity": 0.2
             }
            },
            "type": "histogram"
           }
          ],
          "histogram2d": [
           {
            "colorbar": {
             "outlinewidth": 0,
             "ticks": ""
            },
            "colorscale": [
             [
              0,
              "#0d0887"
             ],
             [
              0.1111111111111111,
              "#46039f"
             ],
             [
              0.2222222222222222,
              "#7201a8"
             ],
             [
              0.3333333333333333,
              "#9c179e"
             ],
             [
              0.4444444444444444,
              "#bd3786"
             ],
             [
              0.5555555555555556,
              "#d8576b"
             ],
             [
              0.6666666666666666,
              "#ed7953"
             ],
             [
              0.7777777777777778,
              "#fb9f3a"
             ],
             [
              0.8888888888888888,
              "#fdca26"
             ],
             [
              1,
              "#f0f921"
             ]
            ],
            "type": "histogram2d"
           }
          ],
          "histogram2dcontour": [
           {
            "colorbar": {
             "outlinewidth": 0,
             "ticks": ""
            },
            "colorscale": [
             [
              0,
              "#0d0887"
             ],
             [
              0.1111111111111111,
              "#46039f"
             ],
             [
              0.2222222222222222,
              "#7201a8"
             ],
             [
              0.3333333333333333,
              "#9c179e"
             ],
             [
              0.4444444444444444,
              "#bd3786"
             ],
             [
              0.5555555555555556,
              "#d8576b"
             ],
             [
              0.6666666666666666,
              "#ed7953"
             ],
             [
              0.7777777777777778,
              "#fb9f3a"
             ],
             [
              0.8888888888888888,
              "#fdca26"
             ],
             [
              1,
              "#f0f921"
             ]
            ],
            "type": "histogram2dcontour"
           }
          ],
          "mesh3d": [
           {
            "colorbar": {
             "outlinewidth": 0,
             "ticks": ""
            },
            "type": "mesh3d"
           }
          ],
          "parcoords": [
           {
            "line": {
             "colorbar": {
              "outlinewidth": 0,
              "ticks": ""
             }
            },
            "type": "parcoords"
           }
          ],
          "pie": [
           {
            "automargin": true,
            "type": "pie"
           }
          ],
          "scatter": [
           {
            "fillpattern": {
             "fillmode": "overlay",
             "size": 10,
             "solidity": 0.2
            },
            "type": "scatter"
           }
          ],
          "scatter3d": [
           {
            "line": {
             "colorbar": {
              "outlinewidth": 0,
              "ticks": ""
             }
            },
            "marker": {
             "colorbar": {
              "outlinewidth": 0,
              "ticks": ""
             }
            },
            "type": "scatter3d"
           }
          ],
          "scattercarpet": [
           {
            "marker": {
             "colorbar": {
              "outlinewidth": 0,
              "ticks": ""
             }
            },
            "type": "scattercarpet"
           }
          ],
          "scattergeo": [
           {
            "marker": {
             "colorbar": {
              "outlinewidth": 0,
              "ticks": ""
             }
            },
            "type": "scattergeo"
           }
          ],
          "scattergl": [
           {
            "marker": {
             "colorbar": {
              "outlinewidth": 0,
              "ticks": ""
             }
            },
            "type": "scattergl"
           }
          ],
          "scattermapbox": [
           {
            "marker": {
             "colorbar": {
              "outlinewidth": 0,
              "ticks": ""
             }
            },
            "type": "scattermapbox"
           }
          ],
          "scatterpolar": [
           {
            "marker": {
             "colorbar": {
              "outlinewidth": 0,
              "ticks": ""
             }
            },
            "type": "scatterpolar"
           }
          ],
          "scatterpolargl": [
           {
            "marker": {
             "colorbar": {
              "outlinewidth": 0,
              "ticks": ""
             }
            },
            "type": "scatterpolargl"
           }
          ],
          "scatterternary": [
           {
            "marker": {
             "colorbar": {
              "outlinewidth": 0,
              "ticks": ""
             }
            },
            "type": "scatterternary"
           }
          ],
          "surface": [
           {
            "colorbar": {
             "outlinewidth": 0,
             "ticks": ""
            },
            "colorscale": [
             [
              0,
              "#0d0887"
             ],
             [
              0.1111111111111111,
              "#46039f"
             ],
             [
              0.2222222222222222,
              "#7201a8"
             ],
             [
              0.3333333333333333,
              "#9c179e"
             ],
             [
              0.4444444444444444,
              "#bd3786"
             ],
             [
              0.5555555555555556,
              "#d8576b"
             ],
             [
              0.6666666666666666,
              "#ed7953"
             ],
             [
              0.7777777777777778,
              "#fb9f3a"
             ],
             [
              0.8888888888888888,
              "#fdca26"
             ],
             [
              1,
              "#f0f921"
             ]
            ],
            "type": "surface"
           }
          ],
          "table": [
           {
            "cells": {
             "fill": {
              "color": "#EBF0F8"
             },
             "line": {
              "color": "white"
             }
            },
            "header": {
             "fill": {
              "color": "#C8D4E3"
             },
             "line": {
              "color": "white"
             }
            },
            "type": "table"
           }
          ]
         },
         "layout": {
          "annotationdefaults": {
           "arrowcolor": "#2a3f5f",
           "arrowhead": 0,
           "arrowwidth": 1
          },
          "autotypenumbers": "strict",
          "coloraxis": {
           "colorbar": {
            "outlinewidth": 0,
            "ticks": ""
           }
          },
          "colorscale": {
           "diverging": [
            [
             0,
             "#8e0152"
            ],
            [
             0.1,
             "#c51b7d"
            ],
            [
             0.2,
             "#de77ae"
            ],
            [
             0.3,
             "#f1b6da"
            ],
            [
             0.4,
             "#fde0ef"
            ],
            [
             0.5,
             "#f7f7f7"
            ],
            [
             0.6,
             "#e6f5d0"
            ],
            [
             0.7,
             "#b8e186"
            ],
            [
             0.8,
             "#7fbc41"
            ],
            [
             0.9,
             "#4d9221"
            ],
            [
             1,
             "#276419"
            ]
           ],
           "sequential": [
            [
             0,
             "#0d0887"
            ],
            [
             0.1111111111111111,
             "#46039f"
            ],
            [
             0.2222222222222222,
             "#7201a8"
            ],
            [
             0.3333333333333333,
             "#9c179e"
            ],
            [
             0.4444444444444444,
             "#bd3786"
            ],
            [
             0.5555555555555556,
             "#d8576b"
            ],
            [
             0.6666666666666666,
             "#ed7953"
            ],
            [
             0.7777777777777778,
             "#fb9f3a"
            ],
            [
             0.8888888888888888,
             "#fdca26"
            ],
            [
             1,
             "#f0f921"
            ]
           ],
           "sequentialminus": [
            [
             0,
             "#0d0887"
            ],
            [
             0.1111111111111111,
             "#46039f"
            ],
            [
             0.2222222222222222,
             "#7201a8"
            ],
            [
             0.3333333333333333,
             "#9c179e"
            ],
            [
             0.4444444444444444,
             "#bd3786"
            ],
            [
             0.5555555555555556,
             "#d8576b"
            ],
            [
             0.6666666666666666,
             "#ed7953"
            ],
            [
             0.7777777777777778,
             "#fb9f3a"
            ],
            [
             0.8888888888888888,
             "#fdca26"
            ],
            [
             1,
             "#f0f921"
            ]
           ]
          },
          "colorway": [
           "#636efa",
           "#EF553B",
           "#00cc96",
           "#ab63fa",
           "#FFA15A",
           "#19d3f3",
           "#FF6692",
           "#B6E880",
           "#FF97FF",
           "#FECB52"
          ],
          "font": {
           "color": "#2a3f5f"
          },
          "geo": {
           "bgcolor": "white",
           "lakecolor": "white",
           "landcolor": "#E5ECF6",
           "showlakes": true,
           "showland": true,
           "subunitcolor": "white"
          },
          "hoverlabel": {
           "align": "left"
          },
          "hovermode": "closest",
          "mapbox": {
           "style": "light"
          },
          "paper_bgcolor": "white",
          "plot_bgcolor": "#E5ECF6",
          "polar": {
           "angularaxis": {
            "gridcolor": "white",
            "linecolor": "white",
            "ticks": ""
           },
           "bgcolor": "#E5ECF6",
           "radialaxis": {
            "gridcolor": "white",
            "linecolor": "white",
            "ticks": ""
           }
          },
          "scene": {
           "xaxis": {
            "backgroundcolor": "#E5ECF6",
            "gridcolor": "white",
            "gridwidth": 2,
            "linecolor": "white",
            "showbackground": true,
            "ticks": "",
            "zerolinecolor": "white"
           },
           "yaxis": {
            "backgroundcolor": "#E5ECF6",
            "gridcolor": "white",
            "gridwidth": 2,
            "linecolor": "white",
            "showbackground": true,
            "ticks": "",
            "zerolinecolor": "white"
           },
           "zaxis": {
            "backgroundcolor": "#E5ECF6",
            "gridcolor": "white",
            "gridwidth": 2,
            "linecolor": "white",
            "showbackground": true,
            "ticks": "",
            "zerolinecolor": "white"
           }
          },
          "shapedefaults": {
           "line": {
            "color": "#2a3f5f"
           }
          },
          "ternary": {
           "aaxis": {
            "gridcolor": "white",
            "linecolor": "white",
            "ticks": ""
           },
           "baxis": {
            "gridcolor": "white",
            "linecolor": "white",
            "ticks": ""
           },
           "bgcolor": "#E5ECF6",
           "caxis": {
            "gridcolor": "white",
            "linecolor": "white",
            "ticks": ""
           }
          },
          "title": {
           "x": 0.05
          },
          "xaxis": {
           "automargin": true,
           "gridcolor": "white",
           "linecolor": "white",
           "ticks": "",
           "title": {
            "standoff": 15
           },
           "zerolinecolor": "white",
           "zerolinewidth": 2
          },
          "yaxis": {
           "automargin": true,
           "gridcolor": "white",
           "linecolor": "white",
           "ticks": "",
           "title": {
            "standoff": 15
           },
           "zerolinecolor": "white",
           "zerolinewidth": 2
          }
         }
        },
        "width": 1280
       }
      }
     },
     "metadata": {},
     "output_type": "display_data"
    }
   ],
   "source": [
    "visualize(model, sample_descriptions, \"tokenize_tag\", 8)"
   ]
  },
  {
   "cell_type": "markdown",
   "metadata": {},
   "source": [
    "### Visualizing Combination: Description + Tags"
   ]
  },
  {
   "cell_type": "code",
   "execution_count": 14,
   "metadata": {},
   "outputs": [
    {
     "name": "stderr",
     "output_type": "stream",
     "text": [
      "/Library/Frameworks/Python.framework/Versions/3.12/lib/python3.12/site-packages/sklearn/cluster/_kmeans.py:1416: FutureWarning:\n",
      "\n",
      "The default value of `n_init` will change from 10 to 'auto' in 1.4. Set the value of `n_init` explicitly to suppress the warning\n",
      "\n"
     ]
    },
    {
     "data": {
      "application/vnd.plotly.v1+json": {
       "config": {
        "plotlyServerURL": "https://plot.ly"
       },
       "data": [
        {
         "hovertemplate": "<b>%{hovertext}</b>",
         "hovertext": [
          "Baldur's Gate 3",
          "Remnant II",
          "Phasmophobia",
          "DAVE THE DIVER",
          "ELDEN RING",
          "Sons Of The Forest",
          "Hogwarts Legacy",
          "Raft",
          "Sea of Thieves 2023 Edition",
          "Path of Exile",
          "Terraria",
          "Deep Rock Galactic",
          "Dead Cells",
          "Crusader Kings III",
          "ARK: Survival Evolved",
          "SCP: 5K",
          "Shadow Gambit: The Cursed Crew",
          "theHunter: Call of the Wild™",
          "Darkest Dungeon® II",
          "Graveyard Keeper",
          "The Elder Scrolls V: Skyrim Special Edition",
          "Escape the Backrooms",
          "Don't Starve Together",
          "The Binding of Isaac: Rebirth",
          "BOOK OF HOURS",
          "New World",
          "Valheim"
         ],
         "legendgroup": "3",
         "marker": {
          "color": "#636efa",
          "symbol": "circle"
         },
         "mode": "markers",
         "name": "3",
         "scene": "scene",
         "showlegend": true,
         "type": "scatter3d",
         "x": [
          -0.1636311560869217,
          -0.22607837617397308,
          -0.21414418518543243,
          -0.16034093499183655,
          -0.18173955380916595,
          -0.27289479970932007,
          -0.08199027180671692,
          -0.19938300549983978,
          0.04210353270173073,
          -0.20843921601772308,
          -0.17684830725193024,
          -0.09290997684001923,
          -0.22454461455345154,
          -0.05645264685153961,
          -0.347343385219574,
          -0.10300382971763611,
          -0.2311149537563324,
          -0.06104673072695732,
          -0.27253565192222595,
          -0.17984360456466675,
          0.07687874883413315,
          -0.29119327664375305,
          -0.27384456992149353,
          -0.21327628195285797,
          -0.2610459327697754,
          -0.23824411630630493,
          -0.38408347964286804
         ],
         "y": [
          -0.1799539178609848,
          -0.16044364869594574,
          0.22275742888450623,
          0.0453341118991375,
          -0.2650851607322693,
          0.31904980540275574,
          -0.14814577996730804,
          0.17451614141464233,
          0.087547667324543,
          -0.18017210066318512,
          -0.009599336422979832,
          -0.05626382678747177,
          0.06757895648479462,
          -0.14742012321949005,
          0.10394731909036636,
          0.08611968904733658,
          -0.02692708745598793,
          0.12821266055107117,
          0.14293161034584045,
          0.23475462198257446,
          -0.07246099412441254,
          0.1978200227022171,
          0.07219168543815613,
          -0.10263112187385559,
          -0.018050890415906906,
          -0.18174955248832703,
          -0.013186695985496044
         ],
         "z": [
          -0.10262582451105118,
          0.12984254956245422,
          0.18454338610172272,
          -0.06899066269397736,
          -0.2817859649658203,
          -0.04654527083039284,
          -0.11127334088087082,
          -0.10577794164419174,
          0.004379021469503641,
          -0.12523673474788666,
          -0.1526378095149994,
          0.12577937543392181,
          0.030295539647340775,
          -0.3925757110118866,
          -0.12505008280277252,
          0.13854829967021942,
          -0.047641780227422714,
          0.01356546115130186,
          0.04202020913362503,
          -0.31216275691986084,
          -0.06853426247835159,
          0.1526963859796524,
          -0.03266455605626106,
          -0.0733758732676506,
          -0.28036850690841675,
          -0.15962663292884827,
          -0.13137708604335785
         ]
        },
        {
         "hovertemplate": "<b>%{hovertext}</b>",
         "hovertext": [
          "Counter-Strike: Global Offensive",
          "Call of Duty®",
          "PUBG: BATTLEGROUNDS",
          "Dota 2",
          "War Thunder",
          "The Elder Scrolls® Online",
          "BattleBit Remastered",
          "Destiny 2",
          "Hearts of Iron IV",
          "Total War: WARHAMMER III",
          "World of Warships",
          "Red Dead Redemption 2",
          "Mount & Blade II: Bannerlord",
          "Wayfinder",
          "Stellaris",
          "Sid Meier’s Civilization® VI",
          "Guild Wars 2"
         ],
         "legendgroup": "2",
         "marker": {
          "color": "#EF553B",
          "symbol": "circle"
         },
         "mode": "markers",
         "name": "2",
         "scene": "scene",
         "showlegend": true,
         "type": "scatter3d",
         "x": [
          0.26324328780174255,
          0.13512173295021057,
          0.0736631378531456,
          0.21137461066246033,
          0.1933273822069168,
          -0.12782743573188782,
          0.0654129758477211,
          -0.05124838277697563,
          0.0545208714902401,
          -0.060573335736989975,
          0.12388750910758972,
          0.006304063368588686,
          -0.11972138285636902,
          -0.1446571797132492,
          0.028849119320511818,
          0.08952153474092484,
          0.01757672242820263
         ],
         "y": [
          -0.18860076367855072,
          -0.1263047158718109,
          -0.17653077840805054,
          -0.2577143907546997,
          -0.20536594092845917,
          -0.2671809196472168,
          -0.14990533888339996,
          -0.18904893100261688,
          -0.2508133053779602,
          -0.21214750409126282,
          -0.166116863489151,
          -0.021929306909441948,
          -0.2986868619918823,
          -0.23063665628433228,
          -0.1469700187444687,
          -0.16738930344581604,
          -0.33143535256385803
         ],
         "z": [
          0.1342153698205948,
          0.14810410141944885,
          0.1001003235578537,
          0.08724668622016907,
          0.11343666166067123,
          -0.1299000382423401,
          0.21897169947624207,
          0.15126635134220123,
          -0.05177804455161095,
          -0.1856137216091156,
          -0.08827624469995499,
          0.18763035535812378,
          -0.23219110071659088,
          -0.14928676187992096,
          -0.21087490022182465,
          -0.1462656557559967,
          -0.02072075940668583
         ]
        },
        {
         "hovertemplate": "<b>%{hovertext}</b>",
         "hovertext": [
          "Apex Legends™",
          "NARAKA: BLADEPOINT",
          "Tom Clancy's Rainbow Six® Siege",
          "Team Fortress 2",
          "FINAL FANTASY XIV Online",
          "Warframe",
          "Street Fighter™ 6",
          "Yu-Gi-Oh! Master Duel",
          "Hunt: Showdown",
          "Starfield",
          "ARMORED CORE™ VI FIRES OF RUBICON™",
          "World of Tanks Blitz",
          "Ratchet & Clank: Rift Apart",
          "Eternal Return",
          "It Takes Two",
          "Brawlhalla",
          "DRAGON BALL Z: KAKAROT",
          "BlazBlue Entropy Effect",
          "Marvel’s Spider-Man Remastered"
         ],
         "legendgroup": "6",
         "marker": {
          "color": "#00cc96",
          "symbol": "circle"
         },
         "mode": "markers",
         "name": "6",
         "scene": "scene",
         "showlegend": true,
         "type": "scatter3d",
         "x": [
          0.07327553629875183,
          0.04297168180346489,
          0.12203478068113327,
          0.1280663013458252,
          -0.03142572566866875,
          -0.09522701054811478,
          0.3348822295665741,
          0.05869590863585472,
          -0.026356231421232224,
          0.151075080037117,
          0.1727598011493683,
          0.11036287248134613,
          -0.06737332791090012,
          -0.07934390753507614,
          -0.022774770855903625,
          0.0455000139772892,
          0.06121416762471199,
          -0.06155497208237648,
          0.05208209902048111
         ],
         "y": [
          -0.2283504158258438,
          -0.34735816717147827,
          -0.1409495621919632,
          -0.20987381041049957,
          -0.2494303286075592,
          -0.29927384853363037,
          -0.08693021535873413,
          -0.252084344625473,
          0.03734676539897919,
          -0.11054090410470963,
          -0.16414570808410645,
          -0.26581522822380066,
          -0.03808624669909477,
          -0.235788494348526,
          0.013853956013917923,
          -0.29203125834465027,
          -0.2143470197916031,
          -0.17811521887779236,
          -0.07196506857872009
         ],
         "z": [
          0.2722328305244446,
          0.07102197408676147,
          0.30615222454071045,
          0.12089069932699203,
          -0.2048851102590561,
          0.0728112980723381,
          0.24974294006824493,
          0.1016867533326149,
          0.31470775604248047,
          -0.1034809947013855,
          0.028367752209305763,
          -0.003154501784592867,
          0.055696967989206314,
          0.032166142016649246,
          0.11235333234071732,
          0.11089577525854111,
          -0.014014950022101402,
          -0.043242622166872025,
          0.23559443652629852
         ]
        },
        {
         "hovertemplate": "<b>%{hovertext}</b>",
         "hovertext": [
          "Forza Horizon 5",
          "Grand Theft Auto V",
          "Forza Horizon 4",
          "Euro Truck Simulator 2",
          "American Truck Simulator",
          "F1® 23",
          "BeamNG.drive",
          "Contraband Police"
         ],
         "legendgroup": "4",
         "marker": {
          "color": "#ab63fa",
          "symbol": "circle"
         },
         "mode": "markers",
         "name": "4",
         "scene": "scene",
         "showlegend": true,
         "type": "scatter3d",
         "x": [
          0.41250115633010864,
          0.34790554642677307,
          0.23621752858161926,
          0.33947184681892395,
          0.4274117946624756,
          0.5023977160453796,
          0.4108985662460327,
          0.09550780057907104
         ],
         "y": [
          0.2665630280971527,
          0.18640165030956268,
          0.28896233439445496,
          0.2844683527946472,
          0.3763485848903656,
          0.15941812098026276,
          0.3596818447113037,
          0.3019925653934479
         ],
         "z": [
          -0.02980782650411129,
          0.149232879281044,
          -0.20035558938980103,
          -0.2881217300891876,
          -0.08518488705158234,
          -0.032989319413900375,
          -0.1503640115261078,
          -0.24534359574317932
         ]
        },
        {
         "hovertemplate": "<b>%{hovertext}</b>",
         "hovertext": [
          "Cyberpunk 2077",
          "Rust",
          "Dead by Daylight",
          "The Texas Chain Saw Massacre",
          "PAYDAY 2",
          "Project Zomboid",
          "Ready or Not",
          "Fallout 76",
          "Metro Exodus",
          "Call of Duty®: Black Ops III",
          "Vampire Survivors",
          "The Outlast Trials",
          "DayZ",
          "Six Days in Fallujah",
          "Resident Evil 4",
          "Dying Light"
         ],
         "legendgroup": "1",
         "marker": {
          "color": "#FFA15A",
          "symbol": "circle"
         },
         "mode": "markers",
         "name": "1",
         "scene": "scene",
         "showlegend": true,
         "type": "scatter3d",
         "x": [
          -0.020946016535162926,
          -0.17724765837192535,
          -0.17732542753219604,
          -0.1587597131729126,
          0.022182635962963104,
          -0.2614173889160156,
          0.10987861454486847,
          -0.1292974203824997,
          -0.0938514694571495,
          -0.036438461393117905,
          -0.3209982216358185,
          -0.2342236489057541,
          -0.21568724513053894,
          0.022725602611899376,
          -0.21288326382637024,
          -0.19393576681613922
         ],
         "y": [
          0.02734927088022232,
          0.24667492508888245,
          0.2053336203098297,
          0.28348228335380554,
          0.07307855784893036,
          0.2381768524646759,
          0.1444081813097,
          0.0897950530052185,
          0.1381675750017166,
          0.05283840000629425,
          0.17638514935970306,
          0.24796997010707855,
          0.25109508633613586,
          0.06246572732925415,
          0.35279932618141174,
          0.2505593001842499
         ],
         "z": [
          -0.023087147623300552,
          -0.0009224924724549055,
          0.31655943393707275,
          0.27331098914146423,
          0.43301260471343994,
          0.11511281877756119,
          0.27311971783638,
          0.11995415389537811,
          -0.027857327833771706,
          0.3176596164703369,
          0.23708175122737885,
          0.21881061792373657,
          0.2640129625797272,
          0.26032137870788574,
          0.24298498034477234,
          0.2392890453338623
         ]
        },
        {
         "hovertemplate": "<b>%{hovertext}</b>",
         "hovertext": [
          "EA SPORTS™ FIFA 23",
          "Football Manager 2023",
          "Madden NFL 24",
          "EA SPORTS FC™ 24"
         ],
         "legendgroup": "5",
         "marker": {
          "color": "#19d3f3",
          "symbol": "circle"
         },
         "mode": "markers",
         "name": "5",
         "scene": "scene",
         "showlegend": true,
         "type": "scatter3d",
         "x": [
          0.5214946269989014,
          0.4086512327194214,
          0.51674884557724,
          0.43910714983940125
         ],
         "y": [
          -0.009514461271464825,
          0.01457901205867529,
          0.02085324376821518,
          -0.04427936673164368
         ],
         "z": [
          0.04886876046657562,
          -0.069678895175457,
          0.0765981525182724,
          0.04528002440929413
         ]
        },
        {
         "hovertemplate": "<b>%{hovertext}</b>",
         "hovertext": [
          "The Sims™ 4",
          "Farming Simulator 22",
          "Stardew Valley",
          "Sengoku Dynasty",
          "Cities: Skylines",
          "Microsoft Flight Simulator 40th Anniversary Edition",
          "RimWorld",
          "Planet Zoo",
          "Garry's Mod"
         ],
         "legendgroup": "0",
         "marker": {
          "color": "#FF6692",
          "symbol": "circle"
         },
         "mode": "markers",
         "name": "0",
         "scene": "scene",
         "showlegend": true,
         "type": "scatter3d",
         "x": [
          0.026743967086076736,
          0.030112111940979958,
          -0.022300362586975098,
          -0.19842572510242462,
          0.1939881145954132,
          0.36128655076026917,
          0.020179251208901405,
          0.11953967809677124,
          0.15813714265823364
         ],
         "y": [
          0.09254526346921921,
          0.27027109265327454,
          0.2563857436180115,
          -0.12168180197477341,
          0.12067284435033798,
          0.10967117547988892,
          0.161397784948349,
          0.279127299785614,
          0.1855468451976776
         ],
         "z": [
          -0.3774377703666687,
          -0.36734244227409363,
          -0.36306440830230713,
          -0.2930019795894623,
          -0.05892326682806015,
          -0.04369764402508736,
          -0.2661537230014801,
          -0.2918662428855896,
          -0.2610359489917755
         ]
        }
       ],
       "layout": {
        "height": 720,
        "legend": {
         "title": {
          "text": "cluster"
         },
         "tracegroupgap": 0
        },
        "margin": {
         "t": 60
        },
        "scene": {
         "domain": {
          "x": [
           0,
           1
          ],
          "y": [
           0,
           1
          ]
         },
         "xaxis": {
          "range": [
           -0.884083479642868,
           1.0214946269989014
          ],
          "title": {
           "text": "x"
          }
         },
         "yaxis": {
          "range": [
           -0.8473581671714783,
           0.8763485848903656
          ],
          "title": {
           "text": "y"
          }
         },
         "zaxis": {
          "range": [
           -0.8925757110118866,
           0.9330126047134399
          ],
          "title": {
           "text": "z"
          }
         }
        },
        "template": {
         "data": {
          "bar": [
           {
            "error_x": {
             "color": "#2a3f5f"
            },
            "error_y": {
             "color": "#2a3f5f"
            },
            "marker": {
             "line": {
              "color": "#E5ECF6",
              "width": 0.5
             },
             "pattern": {
              "fillmode": "overlay",
              "size": 10,
              "solidity": 0.2
             }
            },
            "type": "bar"
           }
          ],
          "barpolar": [
           {
            "marker": {
             "line": {
              "color": "#E5ECF6",
              "width": 0.5
             },
             "pattern": {
              "fillmode": "overlay",
              "size": 10,
              "solidity": 0.2
             }
            },
            "type": "barpolar"
           }
          ],
          "carpet": [
           {
            "aaxis": {
             "endlinecolor": "#2a3f5f",
             "gridcolor": "white",
             "linecolor": "white",
             "minorgridcolor": "white",
             "startlinecolor": "#2a3f5f"
            },
            "baxis": {
             "endlinecolor": "#2a3f5f",
             "gridcolor": "white",
             "linecolor": "white",
             "minorgridcolor": "white",
             "startlinecolor": "#2a3f5f"
            },
            "type": "carpet"
           }
          ],
          "choropleth": [
           {
            "colorbar": {
             "outlinewidth": 0,
             "ticks": ""
            },
            "type": "choropleth"
           }
          ],
          "contour": [
           {
            "colorbar": {
             "outlinewidth": 0,
             "ticks": ""
            },
            "colorscale": [
             [
              0,
              "#0d0887"
             ],
             [
              0.1111111111111111,
              "#46039f"
             ],
             [
              0.2222222222222222,
              "#7201a8"
             ],
             [
              0.3333333333333333,
              "#9c179e"
             ],
             [
              0.4444444444444444,
              "#bd3786"
             ],
             [
              0.5555555555555556,
              "#d8576b"
             ],
             [
              0.6666666666666666,
              "#ed7953"
             ],
             [
              0.7777777777777778,
              "#fb9f3a"
             ],
             [
              0.8888888888888888,
              "#fdca26"
             ],
             [
              1,
              "#f0f921"
             ]
            ],
            "type": "contour"
           }
          ],
          "contourcarpet": [
           {
            "colorbar": {
             "outlinewidth": 0,
             "ticks": ""
            },
            "type": "contourcarpet"
           }
          ],
          "heatmap": [
           {
            "colorbar": {
             "outlinewidth": 0,
             "ticks": ""
            },
            "colorscale": [
             [
              0,
              "#0d0887"
             ],
             [
              0.1111111111111111,
              "#46039f"
             ],
             [
              0.2222222222222222,
              "#7201a8"
             ],
             [
              0.3333333333333333,
              "#9c179e"
             ],
             [
              0.4444444444444444,
              "#bd3786"
             ],
             [
              0.5555555555555556,
              "#d8576b"
             ],
             [
              0.6666666666666666,
              "#ed7953"
             ],
             [
              0.7777777777777778,
              "#fb9f3a"
             ],
             [
              0.8888888888888888,
              "#fdca26"
             ],
             [
              1,
              "#f0f921"
             ]
            ],
            "type": "heatmap"
           }
          ],
          "heatmapgl": [
           {
            "colorbar": {
             "outlinewidth": 0,
             "ticks": ""
            },
            "colorscale": [
             [
              0,
              "#0d0887"
             ],
             [
              0.1111111111111111,
              "#46039f"
             ],
             [
              0.2222222222222222,
              "#7201a8"
             ],
             [
              0.3333333333333333,
              "#9c179e"
             ],
             [
              0.4444444444444444,
              "#bd3786"
             ],
             [
              0.5555555555555556,
              "#d8576b"
             ],
             [
              0.6666666666666666,
              "#ed7953"
             ],
             [
              0.7777777777777778,
              "#fb9f3a"
             ],
             [
              0.8888888888888888,
              "#fdca26"
             ],
             [
              1,
              "#f0f921"
             ]
            ],
            "type": "heatmapgl"
           }
          ],
          "histogram": [
           {
            "marker": {
             "pattern": {
              "fillmode": "overlay",
              "size": 10,
              "solidity": 0.2
             }
            },
            "type": "histogram"
           }
          ],
          "histogram2d": [
           {
            "colorbar": {
             "outlinewidth": 0,
             "ticks": ""
            },
            "colorscale": [
             [
              0,
              "#0d0887"
             ],
             [
              0.1111111111111111,
              "#46039f"
             ],
             [
              0.2222222222222222,
              "#7201a8"
             ],
             [
              0.3333333333333333,
              "#9c179e"
             ],
             [
              0.4444444444444444,
              "#bd3786"
             ],
             [
              0.5555555555555556,
              "#d8576b"
             ],
             [
              0.6666666666666666,
              "#ed7953"
             ],
             [
              0.7777777777777778,
              "#fb9f3a"
             ],
             [
              0.8888888888888888,
              "#fdca26"
             ],
             [
              1,
              "#f0f921"
             ]
            ],
            "type": "histogram2d"
           }
          ],
          "histogram2dcontour": [
           {
            "colorbar": {
             "outlinewidth": 0,
             "ticks": ""
            },
            "colorscale": [
             [
              0,
              "#0d0887"
             ],
             [
              0.1111111111111111,
              "#46039f"
             ],
             [
              0.2222222222222222,
              "#7201a8"
             ],
             [
              0.3333333333333333,
              "#9c179e"
             ],
             [
              0.4444444444444444,
              "#bd3786"
             ],
             [
              0.5555555555555556,
              "#d8576b"
             ],
             [
              0.6666666666666666,
              "#ed7953"
             ],
             [
              0.7777777777777778,
              "#fb9f3a"
             ],
             [
              0.8888888888888888,
              "#fdca26"
             ],
             [
              1,
              "#f0f921"
             ]
            ],
            "type": "histogram2dcontour"
           }
          ],
          "mesh3d": [
           {
            "colorbar": {
             "outlinewidth": 0,
             "ticks": ""
            },
            "type": "mesh3d"
           }
          ],
          "parcoords": [
           {
            "line": {
             "colorbar": {
              "outlinewidth": 0,
              "ticks": ""
             }
            },
            "type": "parcoords"
           }
          ],
          "pie": [
           {
            "automargin": true,
            "type": "pie"
           }
          ],
          "scatter": [
           {
            "fillpattern": {
             "fillmode": "overlay",
             "size": 10,
             "solidity": 0.2
            },
            "type": "scatter"
           }
          ],
          "scatter3d": [
           {
            "line": {
             "colorbar": {
              "outlinewidth": 0,
              "ticks": ""
             }
            },
            "marker": {
             "colorbar": {
              "outlinewidth": 0,
              "ticks": ""
             }
            },
            "type": "scatter3d"
           }
          ],
          "scattercarpet": [
           {
            "marker": {
             "colorbar": {
              "outlinewidth": 0,
              "ticks": ""
             }
            },
            "type": "scattercarpet"
           }
          ],
          "scattergeo": [
           {
            "marker": {
             "colorbar": {
              "outlinewidth": 0,
              "ticks": ""
             }
            },
            "type": "scattergeo"
           }
          ],
          "scattergl": [
           {
            "marker": {
             "colorbar": {
              "outlinewidth": 0,
              "ticks": ""
             }
            },
            "type": "scattergl"
           }
          ],
          "scattermapbox": [
           {
            "marker": {
             "colorbar": {
              "outlinewidth": 0,
              "ticks": ""
             }
            },
            "type": "scattermapbox"
           }
          ],
          "scatterpolar": [
           {
            "marker": {
             "colorbar": {
              "outlinewidth": 0,
              "ticks": ""
             }
            },
            "type": "scatterpolar"
           }
          ],
          "scatterpolargl": [
           {
            "marker": {
             "colorbar": {
              "outlinewidth": 0,
              "ticks": ""
             }
            },
            "type": "scatterpolargl"
           }
          ],
          "scatterternary": [
           {
            "marker": {
             "colorbar": {
              "outlinewidth": 0,
              "ticks": ""
             }
            },
            "type": "scatterternary"
           }
          ],
          "surface": [
           {
            "colorbar": {
             "outlinewidth": 0,
             "ticks": ""
            },
            "colorscale": [
             [
              0,
              "#0d0887"
             ],
             [
              0.1111111111111111,
              "#46039f"
             ],
             [
              0.2222222222222222,
              "#7201a8"
             ],
             [
              0.3333333333333333,
              "#9c179e"
             ],
             [
              0.4444444444444444,
              "#bd3786"
             ],
             [
              0.5555555555555556,
              "#d8576b"
             ],
             [
              0.6666666666666666,
              "#ed7953"
             ],
             [
              0.7777777777777778,
              "#fb9f3a"
             ],
             [
              0.8888888888888888,
              "#fdca26"
             ],
             [
              1,
              "#f0f921"
             ]
            ],
            "type": "surface"
           }
          ],
          "table": [
           {
            "cells": {
             "fill": {
              "color": "#EBF0F8"
             },
             "line": {
              "color": "white"
             }
            },
            "header": {
             "fill": {
              "color": "#C8D4E3"
             },
             "line": {
              "color": "white"
             }
            },
            "type": "table"
           }
          ]
         },
         "layout": {
          "annotationdefaults": {
           "arrowcolor": "#2a3f5f",
           "arrowhead": 0,
           "arrowwidth": 1
          },
          "autotypenumbers": "strict",
          "coloraxis": {
           "colorbar": {
            "outlinewidth": 0,
            "ticks": ""
           }
          },
          "colorscale": {
           "diverging": [
            [
             0,
             "#8e0152"
            ],
            [
             0.1,
             "#c51b7d"
            ],
            [
             0.2,
             "#de77ae"
            ],
            [
             0.3,
             "#f1b6da"
            ],
            [
             0.4,
             "#fde0ef"
            ],
            [
             0.5,
             "#f7f7f7"
            ],
            [
             0.6,
             "#e6f5d0"
            ],
            [
             0.7,
             "#b8e186"
            ],
            [
             0.8,
             "#7fbc41"
            ],
            [
             0.9,
             "#4d9221"
            ],
            [
             1,
             "#276419"
            ]
           ],
           "sequential": [
            [
             0,
             "#0d0887"
            ],
            [
             0.1111111111111111,
             "#46039f"
            ],
            [
             0.2222222222222222,
             "#7201a8"
            ],
            [
             0.3333333333333333,
             "#9c179e"
            ],
            [
             0.4444444444444444,
             "#bd3786"
            ],
            [
             0.5555555555555556,
             "#d8576b"
            ],
            [
             0.6666666666666666,
             "#ed7953"
            ],
            [
             0.7777777777777778,
             "#fb9f3a"
            ],
            [
             0.8888888888888888,
             "#fdca26"
            ],
            [
             1,
             "#f0f921"
            ]
           ],
           "sequentialminus": [
            [
             0,
             "#0d0887"
            ],
            [
             0.1111111111111111,
             "#46039f"
            ],
            [
             0.2222222222222222,
             "#7201a8"
            ],
            [
             0.3333333333333333,
             "#9c179e"
            ],
            [
             0.4444444444444444,
             "#bd3786"
            ],
            [
             0.5555555555555556,
             "#d8576b"
            ],
            [
             0.6666666666666666,
             "#ed7953"
            ],
            [
             0.7777777777777778,
             "#fb9f3a"
            ],
            [
             0.8888888888888888,
             "#fdca26"
            ],
            [
             1,
             "#f0f921"
            ]
           ]
          },
          "colorway": [
           "#636efa",
           "#EF553B",
           "#00cc96",
           "#ab63fa",
           "#FFA15A",
           "#19d3f3",
           "#FF6692",
           "#B6E880",
           "#FF97FF",
           "#FECB52"
          ],
          "font": {
           "color": "#2a3f5f"
          },
          "geo": {
           "bgcolor": "white",
           "lakecolor": "white",
           "landcolor": "#E5ECF6",
           "showlakes": true,
           "showland": true,
           "subunitcolor": "white"
          },
          "hoverlabel": {
           "align": "left"
          },
          "hovermode": "closest",
          "mapbox": {
           "style": "light"
          },
          "paper_bgcolor": "white",
          "plot_bgcolor": "#E5ECF6",
          "polar": {
           "angularaxis": {
            "gridcolor": "white",
            "linecolor": "white",
            "ticks": ""
           },
           "bgcolor": "#E5ECF6",
           "radialaxis": {
            "gridcolor": "white",
            "linecolor": "white",
            "ticks": ""
           }
          },
          "scene": {
           "xaxis": {
            "backgroundcolor": "#E5ECF6",
            "gridcolor": "white",
            "gridwidth": 2,
            "linecolor": "white",
            "showbackground": true,
            "ticks": "",
            "zerolinecolor": "white"
           },
           "yaxis": {
            "backgroundcolor": "#E5ECF6",
            "gridcolor": "white",
            "gridwidth": 2,
            "linecolor": "white",
            "showbackground": true,
            "ticks": "",
            "zerolinecolor": "white"
           },
           "zaxis": {
            "backgroundcolor": "#E5ECF6",
            "gridcolor": "white",
            "gridwidth": 2,
            "linecolor": "white",
            "showbackground": true,
            "ticks": "",
            "zerolinecolor": "white"
           }
          },
          "shapedefaults": {
           "line": {
            "color": "#2a3f5f"
           }
          },
          "ternary": {
           "aaxis": {
            "gridcolor": "white",
            "linecolor": "white",
            "ticks": ""
           },
           "baxis": {
            "gridcolor": "white",
            "linecolor": "white",
            "ticks": ""
           },
           "bgcolor": "#E5ECF6",
           "caxis": {
            "gridcolor": "white",
            "linecolor": "white",
            "ticks": ""
           }
          },
          "title": {
           "x": 0.05
          },
          "xaxis": {
           "automargin": true,
           "gridcolor": "white",
           "linecolor": "white",
           "ticks": "",
           "title": {
            "standoff": 15
           },
           "zerolinecolor": "white",
           "zerolinewidth": 2
          },
          "yaxis": {
           "automargin": true,
           "gridcolor": "white",
           "linecolor": "white",
           "ticks": "",
           "title": {
            "standoff": 15
           },
           "zerolinecolor": "white",
           "zerolinewidth": 2
          }
         }
        },
        "width": 1280
       }
      }
     },
     "metadata": {},
     "output_type": "display_data"
    }
   ],
   "source": [
    "visualize(model, sample_descriptions, \"tokenize_desc_tag\", 7)"
   ]
  },
  {
   "cell_type": "markdown",
   "metadata": {},
   "source": [
    "## Fine Tuning"
   ]
  },
  {
   "cell_type": "code",
   "execution_count": 15,
   "metadata": {},
   "outputs": [],
   "source": [
    "import datasets\n",
    "import torch\n",
    "from sentence_transformers import(\n",
    "    losses,\n",
    "    evaluation,\n",
    "    SentenceTransformerTrainer,\n",
    "    SentenceTransformerTrainingArguments, \n",
    ")\n",
    "from tqdm import tqdm"
   ]
  },
  {
   "cell_type": "markdown",
   "metadata": {},
   "source": [
    "Create the training data"
   ]
  },
  {
   "cell_type": "code",
   "execution_count": 16,
   "metadata": {},
   "outputs": [],
   "source": [
    "train_df = game_df.sample(1000, random_state=RANDOM_STATE).reset_index()\n",
    "\n",
    "for idx, (tag, desc) in enumerate(zip(train_df[\"Popular Tags\"], train_df[\"Game Description\"])):\n",
    "    tag = deacronym(literal_eval(tag))\n",
    "    if \"Free to Play\" in tag:\n",
    "        tag.remove(\"Free to Play\")\n",
    "    if \"Early Access\" in tag:\n",
    "        tag.remove(\"Early Access\")\n",
    "    if \"Online Co-Op\" in tag:\n",
    "        tag.remove(\"Online Co-Op\")\n",
    "    if \"Co-Op\" in tag:\n",
    "        tag.remove(\"Co-Op\")\n",
    "\n",
    "    tag = \", \".join(tag[:7])\n",
    "\n",
    "    train_df.loc[idx, \"Popular Tags\"] = tag\n",
    "    train_df.loc[idx, \"Description and Tags\"] = desc + \" \" + tag\n",
    "\n",
    "train_df[\"tokenize_tag\"] = train_df[\"Description and Tags\"].apply(tokenize)\n",
    "train_df[\"enc_tag\"] = train_df[\"tokenize_tag\"].apply(model.encode)"
   ]
  },
  {
   "cell_type": "code",
   "execution_count": 17,
   "metadata": {},
   "outputs": [
    {
     "name": "stderr",
     "output_type": "stream",
     "text": [
      "Creating Training Examples: 100%|██████████| 1000/1000 [00:02<00:00, 441.24it/s]\n"
     ]
    }
   ],
   "source": [
    "# Uses Contrastive Loss\n",
    "# train_examples = []\n",
    "# for i in tqdm(range(len(train_df)), desc=\"Creating Training Examples\"):\n",
    "#         for j in random.sample(range(len(train_df)), 50):\n",
    "#         # Make an input with the similarity of their tags as the label\n",
    "#                 example = InputExample(\n",
    "#                         texts=[train_df.loc[i, \"Game Description\"], train_df.loc[j, \"Game Description\"]], \n",
    "#                         label=int(util.cos_sim(train_df.loc[i, \"enc_tag\"], train_df.loc[j, \"enc_tag\"])> 0.75))\n",
    "#                 train_examples.append(example)\n",
    "\n",
    "train_cols = [\"desc1\", \"desc2\", \"score\"]\n",
    "train_examples = []\n",
    "for i in tqdm(range(len(train_df)), desc=\"Creating Training Examples\"):\n",
    "        for j in random.sample(range(len(train_df)), 50):\n",
    "        # Make an input with the similarity of their tags as the label\n",
    "                example = [train_df.loc[i, \"Game Description\"], train_df.loc[j, \"Game Description\"], util.cos_sim(train_df.loc[i, \"enc_tag\"], train_df.loc[j, \"enc_tag\"]).item()]\n",
    "                train_examples.append(example)\n",
    "\n",
    "train_examples = pd.DataFrame(train_examples, columns=train_cols)\n",
    "train_dataset =  datasets.Dataset.from_pandas(train_examples)"
   ]
  },
  {
   "cell_type": "markdown",
   "metadata": {},
   "source": [
    "Creates arguments for training/tuning the model and specifies the loss function."
   ]
  },
  {
   "cell_type": "code",
   "execution_count": 18,
   "metadata": {},
   "outputs": [],
   "source": [
    "args = SentenceTransformerTrainingArguments(\n",
    "    # Required parameter:\n",
    "    output_dir=\"models/mpnet-base\",\n",
    "    # Optional training parameters:\n",
    "    num_train_epochs=1,\n",
    "    per_device_train_batch_size=16,\n",
    "    per_device_eval_batch_size=16,\n",
    "    warmup_ratio=0.1,\n",
    "    # Optional tracking/debugging parameters:\n",
    "    eval_strategy=\"steps\",\n",
    "    eval_steps=500,\n",
    "    save_strategy=\"steps\",\n",
    "    save_steps=500,\n",
    "    save_total_limit=2,\n",
    "    run_name=\"mpnet-base\",\n",
    ")\n",
    "\n",
    "train_loss = losses.CoSENTLoss(model)"
   ]
  },
  {
   "cell_type": "markdown",
   "metadata": {},
   "source": [
    "Creates an evaluator for the training/tuning."
   ]
  },
  {
   "cell_type": "code",
   "execution_count": 19,
   "metadata": {},
   "outputs": [],
   "source": [
    "sentences1 = [\n",
    "    \"Super Mario Galaxy 2, the sequel to the galaxy-hopping original game, includes the gravity-defying, physics-based exploration from the first game, but is loaded with entirely new galaxies and features to challenge players. On some stages, Mario can pair up with his dinosaur buddy Yoshi and use his tongue to grab items and spit them back at enemies. Players can also have fun with new items such as a drill that lets our hero tunnel through solid rock.\",\n",
    "    \"Going beyond 'run and gun corridors,' 'monster-closet AIs' and static worlds, BioShock creates a living, unique and unpredictable FPS experience. After your plane crashes into icy uncharted waters, you discover a rusted bathysphere and descend into Rapture, a city hidden beneath the sea. Constructed as an idealistic society for a hand picked group of scientists, artists and industrialists, the idealism is no more. Now the city is littered with corpses, wildly powerful guardians roam the corridors as little girls loot the dead, and genetically mutated citizens ambush you at every turn. Take control of your world by hacking mechanical devices, commandeering security turrets and crafting unique items critical to your very survival. Upgrade your weapons with ionic gels, explosives and toxins to customize them to the enemy and environment. Genetically modify your body through dozens of Plasmid Stations scattered throughout the city, empowering you with fantastic and often grotesque abilities. Explore a living world powered by Ecological A.I., where the inhabitants have interesting and consequential relationships with one another that impact your gameplay experience. Experience truly next generation graphics that vividly illustrate the forlorn art deco city, highlighted by the most detailed and realistic water effects ever developed in a video game. Make meaningful choices and mature decisions, ultimately culminating in the grand question: do you exploit the innocent survivors of Rapture...or save them?\",\n",
    "    \"Forget everything you know about The Legend of Zelda games. Step into a world of discovery, exploration and adventure in The Legend of Zelda: Breath of the Wild, a boundary-breaking new game in the acclaimed series. Travel across fields, through forests and to mountain peaks as you discover what has become of the ruined kingdom of Hyrule in this open-air adventure. Explore the wilds of Hyrule any way you like - Climb up towers and mountain peaks in search of new destinations, then set your own path to get there and plunge into the wilderness. Along the way, you'll battle towering enemies, hunt wild beasts and gather ingredients for the food and elixirs you'll need to sustain you on your journey. More than 100 Shrines of Trials to discover and explore - Shrines dot the landscape, waiting to be discovered in any order you want. Search for them in various ways, and solve a variety of puzzles inside. Work your way through the traps and devices inside to earn special items and other rewards that will help you on your adventure.\",\n",
    "    \"Developed by Rockstar San Diego, as a follow up to the 2004 hit game Red Dead Revolver, Red Dead Redemption is a Western epic, set at the turn of the 20th century when the lawless and chaotic badlands began to give way to the expanding reach of government and the spread of the Industrial Age. The story of former outlaw, John Marston, Red Dead Redemption takes players on a great adventure across the American frontier. Utilizing Rockstar's proprietary Rockstar Advanced Game Engine (RAGE), Red Dead Redemption features an open-world environment for players to explore, including frontier towns, rolling prairies teeming with wildlife, and perilous mountain passes - each packed with an endless flow of varied distractions. Along the way, players experience the heat of gunfights and battles, meet a host of unique characters, struggle against the harshness of one of the world’s last remaining wildernesses, and ultimately pick their own precarious path through an epic story about the death of the Wild West and the gunslingers that inhabited it.\",\n",
    "    \"Take Your Game Online: Access an online community where you can meet, chat, and play head-to-head against other gamers. Audio Dream Team: Dynamic play-by-play and analysis by Madden and Michaels. All-New Mini-camp: Hop on John Madden's Cruiser Tour Bus and travel to all NFL cities to complete skilled tasks. Create-A-Playbook: Customize receiver routes, player formations, and your team's entire playbook. Deepest Franchise Mode Ever: Play 30 years of Franchise mode and draft players each season with tips from your scouts.\",\n",
    "    \"The Covenant alien race threatens to destroy all humankind, and the only thing standing in its way is Master Chief, a genetically enhanced supersoldier. Master Chief returns in Halo 2, which features new vehicles, weapons, environments, and more. This time, you can interact with your environment, wield two weapons at the same time, board opponents' vehicles, and even switch sides to play the role of a Covenant Elite. Halo 2 also supports broadband multiplayer action via Xbox Live.\",\n",
    "    \"First Person Shooter\", \"Building\", \"Shooter\", \"Horror\", \"First Person\",\n",
    "    \"Shooter\", \"Zombie\", \"Farming\", \"Blood\", \"Horror\", \"Card\",\n",
    "    \"Survival\", \"Horror\", \"Life Sim\", \"Puzzle\", \"Fighting\", \"Magic\"\n",
    "]\n",
    "sentences2 = [\n",
    "    \"The ultimate Nintendo hero is taking the ultimate step ... out into space. Join Mario as he ushers in a new era of video games, defying gravity across all the planets in the galaxy. When some creature escapes into space with Princess Peach, Mario gives chase, exploring bizarre planets all across the galaxy. Mario, Peach and enemies new and old are here. Players run, jump and battle enemies as they explore all the planets in the galaxy. Since this game makes full use of all the features of the Wii Remote, players have to do all kinds of things to succeed: pressing buttons, swinging the Wii Remote and the Nunchuk, and even pointing at and dragging things with the pointer. Since he's in space, Mario can perform mind-bending jumps unlike anything he's done before. He'll also have a wealth of new moves that are all based around tilting, pointing and shaking the Wii Remote. Shake, tilt and point! Mario takes advantage of all the unique aspects of the Wii Remote and Nunchuk controller, unleashing new moves as players shake the controller and even point at and drag items with the pointer.\",\n",
    "    \"By taking the suspense, challenge and visceral charge of the original, and adding startling new realism and responsiveness, Half-Life 2 opens the door to a world where the player's presence affects everything around him, from the physical environment to the behaviors -- even the emotions -- of both friends and enemies. The player again picks up the crowbar of research scientist Gordon Freeman, who finds himself on an alien-infested Earth being picked to the bone, its resources depleted, its populace dwindling. Freeman is thrust into the unenviable role of rescuing the world from the wrong he unleashed back at Black Mesa. And a lot of people -- people he cares about -- are counting on him.\",\n",
    "    \"As a young boy, Link is tricked by Ganondorf, the King of the Gerudo Thieves. The evil human uses Link to gain access to the Sacred Realm, where he places his tainted hands on Triforce and transforms the beautiful Hyrulean landscape into a barren wasteland. Link is determined to fix the problems he helped to create, so with the help of Rauru he travels through time gathering the powers of the Seven Sages.\",\n",
    "    \"An ancient evil force has reawakened, attacking in secret and feeding on the souls of mighty warriors. To lure it out of hiding will take the greatest fighting contest the world has ever seen...Tekken 3. Some are fighting for revenge, some for honor, Ultimately, all are fighting for their lives and the fate of all mankind.\",\n",
    "    \"Prepare for an all-new RPG experience in Persona 5 Royal based in the universe of the award-winning series, Persona! Don the mask of Joker and join the Phantom Thieves of Hearts. Break free from the chains of modern society and stage grand heists to infiltrate the minds of the corrupt and make them change their ways! Persona 5 Royal is packed with new characters, confidants, story depth, new locations to explore, and a new grappling hook mechanic for stealthy access to new areas. With a new semester at Shujin Academy, get ready to strengthen your abilities in the metaverse and in your daily life. Persona 5 Royal presents a unique visual style and award nominated composer Shoji Meguro returns with an all-new soundtrack. Explore Tokyo, unlock new Personas, customize your own personal Thieves Den, discover a never-before-seen story arc, cutscenes, alternate endings, and more! Even for the most seasoned Phantom Thieves among us, Persona 5 Royal is a new challenge to defy conventions, discover the power within, and fight for justice. Wear the mask. Reveal your truth.\",\n",
    "    \"With the addition of two new courses (a downtown Tokyo circuit and the Monte Carlo Grand Prix course), an impressive range of cars (from Vipers to Cooper Minis), and a soundtrack featuring everything from Lenny Kravitz to Jimi Hendrix, this highly anticipated title is finally ready to be driven.\",\n",
    "    \"Racing\",\"Exploration\",\"Open World\",\"Sandbox\",\"Third Person\",\"Sports\",\n",
    "    \"Horror\",\"Military\",\"Gore\",\"Casual\",\"Shooter\",\"Sports\",\n",
    "    \"Card\",\"Fighting\",\"Battle Royale\",\"Shooter\", \"Fantasy\"\n",
    "]\n",
    "scores = [0.99, 0.7, 0.9, 0.2, 0.1, 0.1, 0, 0.6, 0.3, 0.2, 0.7, 0.1, 0.9, 0.1, 0.99, 0.3, 0.1, 0.1, 0.1, 0.2, 0.2, 0.1, 0.8]\n",
    "\n",
    "eval_cols = [\"sentence1\", \"sentence2\", \"score\"]\n",
    "eval_examples = []\n",
    "for s1, s2, score in zip(sentences1, sentences2, scores):\n",
    "    example = [s1, s2, score]\n",
    "    eval_examples.append(example)\n",
    "eval_df = pd.DataFrame(eval_examples, columns=eval_cols)\n",
    "eval_dataset = datasets.Dataset.from_pandas(eval_df)\n",
    "\n",
    "evaluator = evaluation.EmbeddingSimilarityEvaluator(\n",
    "    sentences1=eval_dataset[\"sentence1\"],\n",
    "    sentences2=eval_dataset[\"sentence2\"],\n",
    "    scores=eval_dataset[\"score\"],\n",
    "    main_similarity=evaluation.SimilarityFunction.COSINE,\n",
    "    name=\"sts-dev\",\n",
    ")"
   ]
  },
  {
   "cell_type": "markdown",
   "metadata": {},
   "source": [
    "Trains the model."
   ]
  },
  {
   "cell_type": "code",
   "execution_count": 20,
   "metadata": {},
   "outputs": [
    {
     "data": {
      "application/vnd.jupyter.widget-view+json": {
       "model_id": "efbbdb2a634342519f5658a6d1dca0a4",
       "version_major": 2,
       "version_minor": 0
      },
      "text/plain": [
       "  0%|          | 0/3125 [00:00<?, ?it/s]"
      ]
     },
     "metadata": {},
     "output_type": "display_data"
    },
    {
     "name": "stdout",
     "output_type": "stream",
     "text": [
      "{'loss': 4.5441, 'grad_norm': 9.817761421203613, 'learning_rate': 4.6674964438122335e-05, 'epoch': 0.16}\n"
     ]
    },
    {
     "data": {
      "application/vnd.jupyter.widget-view+json": {
       "model_id": "d6008dda60234b9b9c10c6fe14423149",
       "version_major": 2,
       "version_minor": 0
      },
      "text/plain": [
       "  0%|          | 0/2 [00:00<?, ?it/s]"
      ]
     },
     "metadata": {},
     "output_type": "display_data"
    },
    {
     "name": "stdout",
     "output_type": "stream",
     "text": [
      "{'eval_loss': 3.994645833969116, 'eval_sts-dev_pearson_cosine': 0.6225395057161004, 'eval_sts-dev_spearman_cosine': 0.6118339034554422, 'eval_sts-dev_pearson_manhattan': 0.6688436205811445, 'eval_sts-dev_spearman_manhattan': 0.6224700888631942, 'eval_sts-dev_pearson_euclidean': 0.6448447059463852, 'eval_sts-dev_spearman_euclidean': 0.6118339034554422, 'eval_sts-dev_pearson_dot': 0.622538892636651, 'eval_sts-dev_spearman_dot': 0.6118339034554422, 'eval_sts-dev_pearson_max': 0.6688436205811445, 'eval_sts-dev_spearman_max': 0.6224700888631942, 'eval_runtime': 3.2118, 'eval_samples_per_second': 7.161, 'eval_steps_per_second': 0.623, 'epoch': 0.16}\n"
     ]
    },
    {
     "data": {
      "application/vnd.jupyter.widget-view+json": {
       "model_id": "50d9c7a5fb01434390b2669de10033ab",
       "version_major": 2,
       "version_minor": 0
      },
      "text/plain": [
       "Computing widget examples:   0%|          | 0/5 [00:00<?, ?example/s]"
      ]
     },
     "metadata": {},
     "output_type": "display_data"
    },
    {
     "name": "stdout",
     "output_type": "stream",
     "text": [
      "{'loss': 4.3091, 'grad_norm': 14.47024917602539, 'learning_rate': 3.778449502133713e-05, 'epoch': 0.32}\n"
     ]
    },
    {
     "data": {
      "application/vnd.jupyter.widget-view+json": {
       "model_id": "937674fc4e334e8b8dc2bb9c48426e0d",
       "version_major": 2,
       "version_minor": 0
      },
      "text/plain": [
       "  0%|          | 0/2 [00:00<?, ?it/s]"
      ]
     },
     "metadata": {},
     "output_type": "display_data"
    },
    {
     "name": "stdout",
     "output_type": "stream",
     "text": [
      "{'eval_loss': 3.7729568481445312, 'eval_sts-dev_pearson_cosine': 0.7810199366141438, 'eval_sts-dev_spearman_cosine': 0.676663985940787, 'eval_sts-dev_pearson_manhattan': 0.8076611826372855, 'eval_sts-dev_spearman_manhattan': 0.7359227332125478, 'eval_sts-dev_pearson_euclidean': 0.7845198145106501, 'eval_sts-dev_spearman_euclidean': 0.676663985940787, 'eval_sts-dev_pearson_dot': 0.7810199591534603, 'eval_sts-dev_spearman_dot': 0.676663985940787, 'eval_sts-dev_pearson_max': 0.8076611826372855, 'eval_sts-dev_spearman_max': 0.7359227332125478, 'eval_runtime': 1.7462, 'eval_samples_per_second': 13.172, 'eval_steps_per_second': 1.145, 'epoch': 0.32}\n"
     ]
    },
    {
     "data": {
      "application/vnd.jupyter.widget-view+json": {
       "model_id": "36d1e952cd2e47f889adf837f5ae527a",
       "version_major": 2,
       "version_minor": 0
      },
      "text/plain": [
       "Computing widget examples:   0%|          | 0/5 [00:00<?, ?example/s]"
      ]
     },
     "metadata": {},
     "output_type": "display_data"
    },
    {
     "name": "stdout",
     "output_type": "stream",
     "text": [
      "{'loss': 4.212, 'grad_norm': 14.670931816101074, 'learning_rate': 2.889402560455192e-05, 'epoch': 0.48}\n"
     ]
    },
    {
     "data": {
      "application/vnd.jupyter.widget-view+json": {
       "model_id": "49dae211e6df4c52b179604a1a6ebc27",
       "version_major": 2,
       "version_minor": 0
      },
      "text/plain": [
       "  0%|          | 0/2 [00:00<?, ?it/s]"
      ]
     },
     "metadata": {},
     "output_type": "display_data"
    },
    {
     "name": "stdout",
     "output_type": "stream",
     "text": [
      "{'eval_loss': 4.1785664558410645, 'eval_sts-dev_pearson_cosine': 0.6655749780053747, 'eval_sts-dev_spearman_cosine': 0.5849901974263542, 'eval_sts-dev_pearson_manhattan': 0.6937543018610881, 'eval_sts-dev_spearman_manhattan': 0.6108209334166088, 'eval_sts-dev_pearson_euclidean': 0.6740535521326294, 'eval_sts-dev_spearman_euclidean': 0.5849901974263542, 'eval_sts-dev_pearson_dot': 0.6655749937011821, 'eval_sts-dev_spearman_dot': 0.5849901974263542, 'eval_sts-dev_pearson_max': 0.6937543018610881, 'eval_sts-dev_spearman_max': 0.6108209334166088, 'eval_runtime': 2.9767, 'eval_samples_per_second': 7.727, 'eval_steps_per_second': 0.672, 'epoch': 0.48}\n"
     ]
    },
    {
     "data": {
      "application/vnd.jupyter.widget-view+json": {
       "model_id": "a67742ce88ce410d95722452792fd62a",
       "version_major": 2,
       "version_minor": 0
      },
      "text/plain": [
       "Computing widget examples:   0%|          | 0/5 [00:00<?, ?example/s]"
      ]
     },
     "metadata": {},
     "output_type": "display_data"
    },
    {
     "name": "stdout",
     "output_type": "stream",
     "text": [
      "{'loss': 4.1184, 'grad_norm': 18.86264419555664, 'learning_rate': 2.0003556187766715e-05, 'epoch': 0.64}\n"
     ]
    },
    {
     "data": {
      "application/vnd.jupyter.widget-view+json": {
       "model_id": "e26ac8722b5d4631853e347a905790b5",
       "version_major": 2,
       "version_minor": 0
      },
      "text/plain": [
       "  0%|          | 0/2 [00:00<?, ?it/s]"
      ]
     },
     "metadata": {},
     "output_type": "display_data"
    },
    {
     "name": "stdout",
     "output_type": "stream",
     "text": [
      "{'eval_loss': 3.9823625087738037, 'eval_sts-dev_pearson_cosine': 0.7783009719739403, 'eval_sts-dev_spearman_cosine': 0.6584305252417838, 'eval_sts-dev_pearson_manhattan': 0.7777988558021804, 'eval_sts-dev_spearman_manhattan': 0.6827418061737882, 'eval_sts-dev_pearson_euclidean': 0.7620155971327204, 'eval_sts-dev_spearman_euclidean': 0.6584305252417838, 'eval_sts-dev_pearson_dot': 0.7783009210077015, 'eval_sts-dev_spearman_dot': 0.6584305252417838, 'eval_sts-dev_pearson_max': 0.7783009719739403, 'eval_sts-dev_spearman_max': 0.6827418061737882, 'eval_runtime': 2.5665, 'eval_samples_per_second': 8.962, 'eval_steps_per_second': 0.779, 'epoch': 0.64}\n"
     ]
    },
    {
     "data": {
      "application/vnd.jupyter.widget-view+json": {
       "model_id": "6f09097be67e401a9fc04e5a30fe0705",
       "version_major": 2,
       "version_minor": 0
      },
      "text/plain": [
       "Computing widget examples:   0%|          | 0/5 [00:00<?, ?example/s]"
      ]
     },
     "metadata": {},
     "output_type": "display_data"
    },
    {
     "name": "stdout",
     "output_type": "stream",
     "text": [
      "{'loss': 4.0421, 'grad_norm': 15.764335632324219, 'learning_rate': 1.1113086770981508e-05, 'epoch': 0.8}\n"
     ]
    },
    {
     "data": {
      "application/vnd.jupyter.widget-view+json": {
       "model_id": "91f7266502eb4d0984228228f9f1eb28",
       "version_major": 2,
       "version_minor": 0
      },
      "text/plain": [
       "  0%|          | 0/2 [00:00<?, ?it/s]"
      ]
     },
     "metadata": {},
     "output_type": "display_data"
    },
    {
     "name": "stdout",
     "output_type": "stream",
     "text": [
      "{'eval_loss': 4.353075981140137, 'eval_sts-dev_pearson_cosine': 0.733084438897596, 'eval_sts-dev_spearman_cosine': 0.6736250758242865, 'eval_sts-dev_pearson_manhattan': 0.7484172889693568, 'eval_sts-dev_spearman_manhattan': 0.6781834409990374, 'eval_sts-dev_pearson_euclidean': 0.7312940781234872, 'eval_sts-dev_spearman_euclidean': 0.6736250758242865, 'eval_sts-dev_pearson_dot': 0.7330844005143234, 'eval_sts-dev_spearman_dot': 0.6736250758242865, 'eval_sts-dev_pearson_max': 0.7484172889693568, 'eval_sts-dev_spearman_max': 0.6781834409990374, 'eval_runtime': 1.9202, 'eval_samples_per_second': 11.978, 'eval_steps_per_second': 1.042, 'epoch': 0.8}\n"
     ]
    },
    {
     "data": {
      "application/vnd.jupyter.widget-view+json": {
       "model_id": "2c0514b1f5804d25bea0bf238a0b6321",
       "version_major": 2,
       "version_minor": 0
      },
      "text/plain": [
       "Computing widget examples:   0%|          | 0/5 [00:00<?, ?example/s]"
      ]
     },
     "metadata": {},
     "output_type": "display_data"
    },
    {
     "name": "stdout",
     "output_type": "stream",
     "text": [
      "{'loss': 3.9714, 'grad_norm': 17.78158187866211, 'learning_rate': 2.2226173541963018e-06, 'epoch': 0.96}\n"
     ]
    },
    {
     "data": {
      "application/vnd.jupyter.widget-view+json": {
       "model_id": "498d158206f7423abd28ccbf62fbc553",
       "version_major": 2,
       "version_minor": 0
      },
      "text/plain": [
       "  0%|          | 0/2 [00:00<?, ?it/s]"
      ]
     },
     "metadata": {},
     "output_type": "display_data"
    },
    {
     "name": "stdout",
     "output_type": "stream",
     "text": [
      "{'eval_loss': 4.312633514404297, 'eval_sts-dev_pearson_cosine': 0.7734348171426415, 'eval_sts-dev_spearman_cosine': 0.6690667106495358, 'eval_sts-dev_pearson_manhattan': 0.7812164687022565, 'eval_sts-dev_spearman_manhattan': 0.6690667106495358, 'eval_sts-dev_pearson_euclidean': 0.762102322138226, 'eval_sts-dev_spearman_euclidean': 0.6690667106495358, 'eval_sts-dev_pearson_dot': 0.7734348071576602, 'eval_sts-dev_spearman_dot': 0.6690667106495358, 'eval_sts-dev_pearson_max': 0.7812164687022565, 'eval_sts-dev_spearman_max': 0.6690667106495358, 'eval_runtime': 1.9445, 'eval_samples_per_second': 11.828, 'eval_steps_per_second': 1.029, 'epoch': 0.96}\n"
     ]
    },
    {
     "data": {
      "application/vnd.jupyter.widget-view+json": {
       "model_id": "5cd49bfacf004d05a9f35591aa728773",
       "version_major": 2,
       "version_minor": 0
      },
      "text/plain": [
       "Computing widget examples:   0%|          | 0/5 [00:00<?, ?example/s]"
      ]
     },
     "metadata": {},
     "output_type": "display_data"
    },
    {
     "name": "stdout",
     "output_type": "stream",
     "text": [
      "{'train_runtime': 6061.2461, 'train_samples_per_second': 8.249, 'train_steps_per_second': 0.516, 'train_loss': 4.18740248046875, 'epoch': 1.0}\n"
     ]
    },
    {
     "data": {
      "text/plain": [
       "TrainOutput(global_step=3125, training_loss=4.18740248046875, metrics={'train_runtime': 6061.2461, 'train_samples_per_second': 8.249, 'train_steps_per_second': 0.516, 'total_flos': 0.0, 'train_loss': 4.18740248046875, 'epoch': 1.0})"
      ]
     },
     "execution_count": 20,
     "metadata": {},
     "output_type": "execute_result"
    }
   ],
   "source": [
    "trainer = SentenceTransformerTrainer(\n",
    "    model=model,\n",
    "    args=args,\n",
    "    train_dataset=train_dataset,\n",
    "    eval_dataset=eval_dataset,\n",
    "    loss=train_loss,\n",
    "    evaluator=evaluator,\n",
    ")\n",
    "\n",
    "trainer.train()"
   ]
  },
  {
   "cell_type": "code",
   "execution_count": 21,
   "metadata": {},
   "outputs": [
    {
     "name": "stderr",
     "output_type": "stream",
     "text": [
      "/Library/Frameworks/Python.framework/Versions/3.12/lib/python3.12/site-packages/sklearn/cluster/_kmeans.py:1416: FutureWarning:\n",
      "\n",
      "The default value of `n_init` will change from 10 to 'auto' in 1.4. Set the value of `n_init` explicitly to suppress the warning\n",
      "\n"
     ]
    },
    {
     "data": {
      "application/vnd.plotly.v1+json": {
       "config": {
        "plotlyServerURL": "https://plot.ly"
       },
       "data": [
        {
         "hovertemplate": "<b>%{hovertext}</b>",
         "hovertext": [
          "Baldur's Gate 3",
          "Remnant II",
          "Cyberpunk 2077",
          "Destiny 2",
          "ELDEN RING",
          "Total War: WARHAMMER III",
          "Red Dead Redemption 2",
          "Hogwarts Legacy",
          "Starfield",
          "Wayfinder",
          "Fallout 76",
          "Metro Exodus",
          "Path of Exile",
          "Stellaris",
          "Deep Rock Galactic",
          "Eternal Return",
          "Darkest Dungeon® II",
          "Sid Meier’s Civilization® VI",
          "The Elder Scrolls V: Skyrim Special Edition",
          "It Takes Two",
          "The Binding of Isaac: Rebirth",
          "New World",
          "Valheim"
         ],
         "legendgroup": "3",
         "marker": {
          "color": "#636efa",
          "symbol": "circle"
         },
         "mode": "markers",
         "name": "3",
         "scene": "scene",
         "showlegend": true,
         "type": "scatter3d",
         "x": [
          -0.26251307129859924,
          -0.24471203982830048,
          0.024184081703424454,
          -0.08185424655675888,
          -0.14637477695941925,
          -0.10779867321252823,
          -0.07416889816522598,
          -0.16747385263442993,
          0.09964063763618469,
          -0.11721251904964447,
          -0.09507006406784058,
          -0.0037644642870873213,
          -0.21574240922927856,
          0.11476374417543411,
          -0.07546549290418625,
          -0.05820523202419281,
          -0.25948047637939453,
          0.1169225350022316,
          -0.0327424630522728,
          -0.029323462396860123,
          -0.18656323850154877,
          -0.1815686672925949,
          -0.2659086585044861
         ],
         "y": [
          -0.14252033829689026,
          -0.10145916789770126,
          0.012587967328727245,
          -0.17869845032691956,
          -0.14508852362632751,
          -0.21951888501644135,
          -0.038968153297901154,
          -0.12274923175573349,
          -0.007129567675292492,
          -0.05596041679382324,
          0.12499184906482697,
          0.24115824699401855,
          -0.1535283923149109,
          -0.05317258462309837,
          -0.10866919904947281,
          -0.12097126990556717,
          0.11943122744560242,
          -0.14360326528549194,
          -0.056233786046504974,
          0.010136183351278305,
          -0.07268013805150986,
          0.03245992213487625,
          -0.012663503177464008
         ],
         "z": [
          -0.12288625538349152,
          0.02835450880229473,
          0.06260885298252106,
          -0.03715997189283371,
          -0.31881898641586304,
          -0.014198189601302147,
          0.1294962763786316,
          -0.1880234330892563,
          -0.14426875114440918,
          -0.1799076646566391,
          0.12199826538562775,
          -0.03225812315940857,
          -0.17332608997821808,
          -0.1677057296037674,
          0.06065783649682999,
          0.000164423807291314,
          0.04166292026638985,
          -0.12008218467235565,
          -0.17137376964092255,
          0.0034527285024523735,
          -0.04127578064799309,
          -0.2081054300069809,
          -0.13760679960250854
         ]
        },
        {
         "hovertemplate": "<b>%{hovertext}</b>",
         "hovertext": [
          "Counter-Strike: Global Offensive",
          "Grand Theft Auto V",
          "Dota 2",
          "EA SPORTS™ FIFA 23",
          "Football Manager 2023",
          "Madden NFL 24",
          "F1® 23",
          "EA SPORTS FC™ 24"
         ],
         "legendgroup": "0",
         "marker": {
          "color": "#EF553B",
          "symbol": "circle"
         },
         "mode": "markers",
         "name": "0",
         "scene": "scene",
         "showlegend": true,
         "type": "scatter3d",
         "x": [
          0.30582892894744873,
          0.19827890396118164,
          0.15711380541324615,
          0.3593917191028595,
          0.24877874553203583,
          0.4344753921031952,
          0.40493932366371155,
          0.3924678862094879
         ],
         "y": [
          -0.1720990687608719,
          0.07980543375015259,
          -0.1716931164264679,
          0.029161008074879646,
          -0.007822929881513119,
          0.055306192487478256,
          0.14900967478752136,
          0.043696559965610504
         ],
         "z": [
          0.1524195522069931,
          0.20874753594398499,
          0.015203835442662239,
          0.07898291945457458,
          -0.0472857840359211,
          0.0754275694489479,
          0.09359373152256012,
          0.06820406019687653
         ]
        },
        {
         "hovertemplate": "<b>%{hovertext}</b>",
         "hovertext": [
          "Apex Legends™",
          "Call of Duty®",
          "PUBG: BATTLEGROUNDS",
          "NARAKA: BLADEPOINT",
          "Tom Clancy's Rainbow Six® Siege",
          "Team Fortress 2",
          "War Thunder",
          "Warframe",
          "BattleBit Remastered",
          "Street Fighter™ 6",
          "Hearts of Iron IV",
          "Yu-Gi-Oh! Master Duel",
          "PAYDAY 2",
          "Hunt: Showdown",
          "Ready or Not",
          "Mount & Blade II: Bannerlord",
          "Sea of Thieves 2023 Edition",
          "ARMORED CORE™ VI FIRES OF RUBICON™",
          "Call of Duty®: Black Ops III",
          "Ratchet & Clank: Rift Apart",
          "Six Days in Fallujah",
          "Brawlhalla",
          "DRAGON BALL Z: KAKAROT",
          "Guild Wars 2",
          "BlazBlue Entropy Effect",
          "Marvel’s Spider-Man Remastered"
         ],
         "legendgroup": "1",
         "marker": {
          "color": "#00cc96",
          "symbol": "circle"
         },
         "mode": "markers",
         "name": "1",
         "scene": "scene",
         "showlegend": true,
         "type": "scatter3d",
         "x": [
          0.006959796417504549,
          0.2149277925491333,
          0.14443284273147583,
          0.026504885405302048,
          0.09785927087068558,
          0.05927387997508049,
          0.15349717438220978,
          -0.0884801372885704,
          0.03690072521567345,
          0.23017072677612305,
          0.1140289306640625,
          0.04748810455203056,
          -0.035637710243463516,
          -0.04268382117152214,
          0.08307519555091858,
          0.013108278624713421,
          -0.12552258372306824,
          0.06996489316225052,
          -0.09849617630243301,
          -0.008789053186774254,
          -0.0029154475778341293,
          0.04682569578289986,
          0.07268446683883667,
          0.033081814646720886,
          -0.06644294410943985,
          -0.009511069394648075
         ],
         "y": [
          -0.18143081665039062,
          -0.12487472593784332,
          -0.168806791305542,
          -0.23765027523040771,
          -0.18457622826099396,
          -0.20386098325252533,
          -0.31900104880332947,
          -0.2570267915725708,
          -0.21302781999111176,
          -0.134712815284729,
          -0.2681230306625366,
          -0.2491420954465866,
          -0.06807728111743927,
          -0.05356033518910408,
          -0.020335927605628967,
          -0.21076594293117523,
          -0.02136574685573578,
          -0.12966220080852509,
          -0.019468965008854866,
          -0.0836673453450203,
          -0.0647452101111412,
          -0.22631153464317322,
          -0.15798155963420868,
          -0.32273563742637634,
          -0.12550662457942963,
          -0.033610258251428604
         ],
         "z": [
          0.0554671473801136,
          0.19409681856632233,
          0.01625843718647957,
          -0.04613032191991806,
          0.26708298921585083,
          -0.038823410868644714,
          0.13905316591262817,
          -0.026573028415441513,
          0.19538767635822296,
          0.18830469250679016,
          -0.022880548611283302,
          0.0185847207903862,
          0.22119469940662384,
          0.21816416084766388,
          0.27773356437683105,
          -0.19118990004062653,
          -0.05016132444143295,
          -0.017861781641840935,
          0.27252042293548584,
          0.057124197483062744,
          0.21791040897369385,
          -0.008899381384253502,
          -0.021781891584396362,
          -0.036476366221904755,
          -0.03868843615055084,
          0.16428551077842712
         ]
        },
        {
         "hovertemplate": "<b>%{hovertext}</b>",
         "hovertext": [
          "Forza Horizon 5",
          "World of Warships",
          "Forza Horizon 4",
          "Euro Truck Simulator 2",
          "American Truck Simulator",
          "Microsoft Flight Simulator 40th Anniversary Edition",
          "BeamNG.drive",
          "World of Tanks Blitz",
          "Garry's Mod"
         ],
         "legendgroup": "4",
         "marker": {
          "color": "#ab63fa",
          "symbol": "circle"
         },
         "mode": "markers",
         "name": "4",
         "scene": "scene",
         "showlegend": true,
         "type": "scatter3d",
         "x": [
          0.31916388869285583,
          0.1597800999879837,
          0.2427588552236557,
          0.30532851815223694,
          0.3265747129917145,
          0.34866151213645935,
          0.3150502145290375,
          0.14901898801326752,
          0.17187868058681488
         ],
         "y": [
          0.20636604726314545,
          -0.1262098252773285,
          0.24670864641666412,
          0.17370860278606415,
          0.3030969202518463,
          0.08821044117212296,
          0.20827847719192505,
          -0.08424606919288635,
          0.13383997976779938
         ],
         "z": [
          -0.01971685141324997,
          -0.06421080231666565,
          -0.1413160115480423,
          -0.0771617665886879,
          0.029864007607102394,
          0.01838892698287964,
          0.02239900827407837,
          -0.08650752902030945,
          -0.0582200288772583
         ]
        },
        {
         "hovertemplate": "<b>%{hovertext}</b>",
         "hovertext": [
          "Rust",
          "Dead by Daylight",
          "Phasmophobia",
          "DAVE THE DIVER",
          "Sons Of The Forest",
          "The Texas Chain Saw Massacre",
          "Project Zomboid",
          "Dead Cells",
          "Vampire Survivors",
          "SCP: 5K",
          "The Outlast Trials",
          "DayZ",
          "Escape the Backrooms",
          "Resident Evil 4",
          "Dying Light"
         ],
         "legendgroup": "5",
         "marker": {
          "color": "#FFA15A",
          "symbol": "circle"
         },
         "mode": "markers",
         "name": "5",
         "scene": "scene",
         "showlegend": true,
         "type": "scatter3d",
         "x": [
          -0.17658860981464386,
          -0.23328569531440735,
          -0.21327315270900726,
          -0.19954772293567657,
          -0.1804497390985489,
          -0.18416929244995117,
          -0.2119438648223877,
          -0.19202885031700134,
          -0.3511159420013428,
          -0.057994741946458817,
          -0.2101168930530548,
          -0.2220790535211563,
          -0.2150762677192688,
          -0.23626847565174103,
          -0.18857131898403168
         ],
         "y": [
          0.17986992001533508,
          0.05855274572968483,
          0.11205156147480011,
          0.06397390365600586,
          0.28692516684532166,
          0.20793266594409943,
          0.16594083607196808,
          0.011963912285864353,
          0.0644945278763771,
          0.029059963300824165,
          0.09799840301275253,
          0.1904805451631546,
          0.12806859612464905,
          0.354636549949646,
          0.16335174441337585
         ],
         "z": [
          0.01881980709731579,
          0.3193919360637665,
          0.256181001663208,
          -0.07719080150127411,
          0.043946754187345505,
          0.27625271677970886,
          0.15456685423851013,
          0.1464957445859909,
          0.20224323868751526,
          0.25438499450683594,
          0.20665717124938965,
          0.14799503982067108,
          0.13104063272476196,
          0.1525258868932724,
          0.20736925303936005
         ]
        },
        {
         "hovertemplate": "<b>%{hovertext}</b>",
         "hovertext": [
          "FINAL FANTASY XIV Online",
          "The Elder Scrolls® Online",
          "The Sims™ 4",
          "Raft",
          "Farming Simulator 22",
          "Sengoku Dynasty",
          "Cities: Skylines",
          "RimWorld",
          "Terraria",
          "ARK: Survival Evolved",
          "theHunter: Call of the Wild™",
          "Don't Starve Together",
          "Planet Zoo"
         ],
         "legendgroup": "2",
         "marker": {
          "color": "#19d3f3",
          "symbol": "circle"
         },
         "mode": "markers",
         "name": "2",
         "scene": "scene",
         "showlegend": true,
         "type": "scatter3d",
         "x": [
          -0.06332671642303467,
          -0.09583871066570282,
          0.13059449195861816,
          -0.11089475452899933,
          0.10527274757623672,
          -0.026957402005791664,
          0.21475090086460114,
          0.15459515154361725,
          -0.10421206057071686,
          -0.22607310116291046,
          -0.03720681369304657,
          -0.15131856501102448,
          0.21824511885643005
         ],
         "y": [
          -0.04068278521299362,
          -0.0917973667383194,
          0.1761886477470398,
          0.18867936730384827,
          0.28589481115341187,
          -0.02968479134142399,
          0.14162293076515198,
          0.1357649713754654,
          0.049817558377981186,
          0.14762622117996216,
          0.15256242454051971,
          0.08754990994930267,
          0.3161870837211609
         ],
         "z": [
          -0.27049779891967773,
          -0.1921808272600174,
          -0.2205079048871994,
          -0.08282763510942459,
          -0.2882179319858551,
          -0.2882353961467743,
          -0.07979240268468857,
          -0.13938561081886292,
          -0.17437972128391266,
          -0.1274065226316452,
          -0.04595489054918289,
          -0.102717824280262,
          -0.18027251958847046
         ]
        },
        {
         "hovertemplate": "<b>%{hovertext}</b>",
         "hovertext": [
          "Stardew Valley",
          "Crusader Kings III",
          "Shadow Gambit: The Cursed Crew",
          "Graveyard Keeper",
          "Contraband Police",
          "BOOK OF HOURS"
         ],
         "legendgroup": "6",
         "marker": {
          "color": "#FF6692",
          "symbol": "circle"
         },
         "mode": "markers",
         "name": "6",
         "scene": "scene",
         "showlegend": true,
         "type": "scatter3d",
         "x": [
          -0.0027106627821922302,
          -0.06173314154148102,
          -0.2146347314119339,
          -0.08350390195846558,
          0.10838229954242706,
          -0.24228475987911224
         ],
         "y": [
          0.2894599139690399,
          -0.18094511330127716,
          -0.016946928575634956,
          0.20733776688575745,
          0.1340494453907013,
          0.04977590590715408
         ],
         "z": [
          -0.26547732949256897,
          -0.24827714264392853,
          -0.033732108771800995,
          -0.14348143339157104,
          0.040005046874284744,
          -0.26125359535217285
         ]
        }
       ],
       "layout": {
        "height": 720,
        "legend": {
         "title": {
          "text": "cluster"
         },
         "tracegroupgap": 0
        },
        "margin": {
         "t": 60
        },
        "scene": {
         "domain": {
          "x": [
           0,
           1
          ],
          "y": [
           0,
           1
          ]
         },
         "xaxis": {
          "range": [
           -0.8511159420013428,
           0.9344753921031952
          ],
          "title": {
           "text": "x"
          }
         },
         "yaxis": {
          "range": [
           -0.8227356374263763,
           0.854636549949646
          ],
          "title": {
           "text": "y"
          }
         },
         "zaxis": {
          "range": [
           -0.818818986415863,
           0.8193919360637665
          ],
          "title": {
           "text": "z"
          }
         }
        },
        "template": {
         "data": {
          "bar": [
           {
            "error_x": {
             "color": "#2a3f5f"
            },
            "error_y": {
             "color": "#2a3f5f"
            },
            "marker": {
             "line": {
              "color": "#E5ECF6",
              "width": 0.5
             },
             "pattern": {
              "fillmode": "overlay",
              "size": 10,
              "solidity": 0.2
             }
            },
            "type": "bar"
           }
          ],
          "barpolar": [
           {
            "marker": {
             "line": {
              "color": "#E5ECF6",
              "width": 0.5
             },
             "pattern": {
              "fillmode": "overlay",
              "size": 10,
              "solidity": 0.2
             }
            },
            "type": "barpolar"
           }
          ],
          "carpet": [
           {
            "aaxis": {
             "endlinecolor": "#2a3f5f",
             "gridcolor": "white",
             "linecolor": "white",
             "minorgridcolor": "white",
             "startlinecolor": "#2a3f5f"
            },
            "baxis": {
             "endlinecolor": "#2a3f5f",
             "gridcolor": "white",
             "linecolor": "white",
             "minorgridcolor": "white",
             "startlinecolor": "#2a3f5f"
            },
            "type": "carpet"
           }
          ],
          "choropleth": [
           {
            "colorbar": {
             "outlinewidth": 0,
             "ticks": ""
            },
            "type": "choropleth"
           }
          ],
          "contour": [
           {
            "colorbar": {
             "outlinewidth": 0,
             "ticks": ""
            },
            "colorscale": [
             [
              0,
              "#0d0887"
             ],
             [
              0.1111111111111111,
              "#46039f"
             ],
             [
              0.2222222222222222,
              "#7201a8"
             ],
             [
              0.3333333333333333,
              "#9c179e"
             ],
             [
              0.4444444444444444,
              "#bd3786"
             ],
             [
              0.5555555555555556,
              "#d8576b"
             ],
             [
              0.6666666666666666,
              "#ed7953"
             ],
             [
              0.7777777777777778,
              "#fb9f3a"
             ],
             [
              0.8888888888888888,
              "#fdca26"
             ],
             [
              1,
              "#f0f921"
             ]
            ],
            "type": "contour"
           }
          ],
          "contourcarpet": [
           {
            "colorbar": {
             "outlinewidth": 0,
             "ticks": ""
            },
            "type": "contourcarpet"
           }
          ],
          "heatmap": [
           {
            "colorbar": {
             "outlinewidth": 0,
             "ticks": ""
            },
            "colorscale": [
             [
              0,
              "#0d0887"
             ],
             [
              0.1111111111111111,
              "#46039f"
             ],
             [
              0.2222222222222222,
              "#7201a8"
             ],
             [
              0.3333333333333333,
              "#9c179e"
             ],
             [
              0.4444444444444444,
              "#bd3786"
             ],
             [
              0.5555555555555556,
              "#d8576b"
             ],
             [
              0.6666666666666666,
              "#ed7953"
             ],
             [
              0.7777777777777778,
              "#fb9f3a"
             ],
             [
              0.8888888888888888,
              "#fdca26"
             ],
             [
              1,
              "#f0f921"
             ]
            ],
            "type": "heatmap"
           }
          ],
          "heatmapgl": [
           {
            "colorbar": {
             "outlinewidth": 0,
             "ticks": ""
            },
            "colorscale": [
             [
              0,
              "#0d0887"
             ],
             [
              0.1111111111111111,
              "#46039f"
             ],
             [
              0.2222222222222222,
              "#7201a8"
             ],
             [
              0.3333333333333333,
              "#9c179e"
             ],
             [
              0.4444444444444444,
              "#bd3786"
             ],
             [
              0.5555555555555556,
              "#d8576b"
             ],
             [
              0.6666666666666666,
              "#ed7953"
             ],
             [
              0.7777777777777778,
              "#fb9f3a"
             ],
             [
              0.8888888888888888,
              "#fdca26"
             ],
             [
              1,
              "#f0f921"
             ]
            ],
            "type": "heatmapgl"
           }
          ],
          "histogram": [
           {
            "marker": {
             "pattern": {
              "fillmode": "overlay",
              "size": 10,
              "solidity": 0.2
             }
            },
            "type": "histogram"
           }
          ],
          "histogram2d": [
           {
            "colorbar": {
             "outlinewidth": 0,
             "ticks": ""
            },
            "colorscale": [
             [
              0,
              "#0d0887"
             ],
             [
              0.1111111111111111,
              "#46039f"
             ],
             [
              0.2222222222222222,
              "#7201a8"
             ],
             [
              0.3333333333333333,
              "#9c179e"
             ],
             [
              0.4444444444444444,
              "#bd3786"
             ],
             [
              0.5555555555555556,
              "#d8576b"
             ],
             [
              0.6666666666666666,
              "#ed7953"
             ],
             [
              0.7777777777777778,
              "#fb9f3a"
             ],
             [
              0.8888888888888888,
              "#fdca26"
             ],
             [
              1,
              "#f0f921"
             ]
            ],
            "type": "histogram2d"
           }
          ],
          "histogram2dcontour": [
           {
            "colorbar": {
             "outlinewidth": 0,
             "ticks": ""
            },
            "colorscale": [
             [
              0,
              "#0d0887"
             ],
             [
              0.1111111111111111,
              "#46039f"
             ],
             [
              0.2222222222222222,
              "#7201a8"
             ],
             [
              0.3333333333333333,
              "#9c179e"
             ],
             [
              0.4444444444444444,
              "#bd3786"
             ],
             [
              0.5555555555555556,
              "#d8576b"
             ],
             [
              0.6666666666666666,
              "#ed7953"
             ],
             [
              0.7777777777777778,
              "#fb9f3a"
             ],
             [
              0.8888888888888888,
              "#fdca26"
             ],
             [
              1,
              "#f0f921"
             ]
            ],
            "type": "histogram2dcontour"
           }
          ],
          "mesh3d": [
           {
            "colorbar": {
             "outlinewidth": 0,
             "ticks": ""
            },
            "type": "mesh3d"
           }
          ],
          "parcoords": [
           {
            "line": {
             "colorbar": {
              "outlinewidth": 0,
              "ticks": ""
             }
            },
            "type": "parcoords"
           }
          ],
          "pie": [
           {
            "automargin": true,
            "type": "pie"
           }
          ],
          "scatter": [
           {
            "fillpattern": {
             "fillmode": "overlay",
             "size": 10,
             "solidity": 0.2
            },
            "type": "scatter"
           }
          ],
          "scatter3d": [
           {
            "line": {
             "colorbar": {
              "outlinewidth": 0,
              "ticks": ""
             }
            },
            "marker": {
             "colorbar": {
              "outlinewidth": 0,
              "ticks": ""
             }
            },
            "type": "scatter3d"
           }
          ],
          "scattercarpet": [
           {
            "marker": {
             "colorbar": {
              "outlinewidth": 0,
              "ticks": ""
             }
            },
            "type": "scattercarpet"
           }
          ],
          "scattergeo": [
           {
            "marker": {
             "colorbar": {
              "outlinewidth": 0,
              "ticks": ""
             }
            },
            "type": "scattergeo"
           }
          ],
          "scattergl": [
           {
            "marker": {
             "colorbar": {
              "outlinewidth": 0,
              "ticks": ""
             }
            },
            "type": "scattergl"
           }
          ],
          "scattermapbox": [
           {
            "marker": {
             "colorbar": {
              "outlinewidth": 0,
              "ticks": ""
             }
            },
            "type": "scattermapbox"
           }
          ],
          "scatterpolar": [
           {
            "marker": {
             "colorbar": {
              "outlinewidth": 0,
              "ticks": ""
             }
            },
            "type": "scatterpolar"
           }
          ],
          "scatterpolargl": [
           {
            "marker": {
             "colorbar": {
              "outlinewidth": 0,
              "ticks": ""
             }
            },
            "type": "scatterpolargl"
           }
          ],
          "scatterternary": [
           {
            "marker": {
             "colorbar": {
              "outlinewidth": 0,
              "ticks": ""
             }
            },
            "type": "scatterternary"
           }
          ],
          "surface": [
           {
            "colorbar": {
             "outlinewidth": 0,
             "ticks": ""
            },
            "colorscale": [
             [
              0,
              "#0d0887"
             ],
             [
              0.1111111111111111,
              "#46039f"
             ],
             [
              0.2222222222222222,
              "#7201a8"
             ],
             [
              0.3333333333333333,
              "#9c179e"
             ],
             [
              0.4444444444444444,
              "#bd3786"
             ],
             [
              0.5555555555555556,
              "#d8576b"
             ],
             [
              0.6666666666666666,
              "#ed7953"
             ],
             [
              0.7777777777777778,
              "#fb9f3a"
             ],
             [
              0.8888888888888888,
              "#fdca26"
             ],
             [
              1,
              "#f0f921"
             ]
            ],
            "type": "surface"
           }
          ],
          "table": [
           {
            "cells": {
             "fill": {
              "color": "#EBF0F8"
             },
             "line": {
              "color": "white"
             }
            },
            "header": {
             "fill": {
              "color": "#C8D4E3"
             },
             "line": {
              "color": "white"
             }
            },
            "type": "table"
           }
          ]
         },
         "layout": {
          "annotationdefaults": {
           "arrowcolor": "#2a3f5f",
           "arrowhead": 0,
           "arrowwidth": 1
          },
          "autotypenumbers": "strict",
          "coloraxis": {
           "colorbar": {
            "outlinewidth": 0,
            "ticks": ""
           }
          },
          "colorscale": {
           "diverging": [
            [
             0,
             "#8e0152"
            ],
            [
             0.1,
             "#c51b7d"
            ],
            [
             0.2,
             "#de77ae"
            ],
            [
             0.3,
             "#f1b6da"
            ],
            [
             0.4,
             "#fde0ef"
            ],
            [
             0.5,
             "#f7f7f7"
            ],
            [
             0.6,
             "#e6f5d0"
            ],
            [
             0.7,
             "#b8e186"
            ],
            [
             0.8,
             "#7fbc41"
            ],
            [
             0.9,
             "#4d9221"
            ],
            [
             1,
             "#276419"
            ]
           ],
           "sequential": [
            [
             0,
             "#0d0887"
            ],
            [
             0.1111111111111111,
             "#46039f"
            ],
            [
             0.2222222222222222,
             "#7201a8"
            ],
            [
             0.3333333333333333,
             "#9c179e"
            ],
            [
             0.4444444444444444,
             "#bd3786"
            ],
            [
             0.5555555555555556,
             "#d8576b"
            ],
            [
             0.6666666666666666,
             "#ed7953"
            ],
            [
             0.7777777777777778,
             "#fb9f3a"
            ],
            [
             0.8888888888888888,
             "#fdca26"
            ],
            [
             1,
             "#f0f921"
            ]
           ],
           "sequentialminus": [
            [
             0,
             "#0d0887"
            ],
            [
             0.1111111111111111,
             "#46039f"
            ],
            [
             0.2222222222222222,
             "#7201a8"
            ],
            [
             0.3333333333333333,
             "#9c179e"
            ],
            [
             0.4444444444444444,
             "#bd3786"
            ],
            [
             0.5555555555555556,
             "#d8576b"
            ],
            [
             0.6666666666666666,
             "#ed7953"
            ],
            [
             0.7777777777777778,
             "#fb9f3a"
            ],
            [
             0.8888888888888888,
             "#fdca26"
            ],
            [
             1,
             "#f0f921"
            ]
           ]
          },
          "colorway": [
           "#636efa",
           "#EF553B",
           "#00cc96",
           "#ab63fa",
           "#FFA15A",
           "#19d3f3",
           "#FF6692",
           "#B6E880",
           "#FF97FF",
           "#FECB52"
          ],
          "font": {
           "color": "#2a3f5f"
          },
          "geo": {
           "bgcolor": "white",
           "lakecolor": "white",
           "landcolor": "#E5ECF6",
           "showlakes": true,
           "showland": true,
           "subunitcolor": "white"
          },
          "hoverlabel": {
           "align": "left"
          },
          "hovermode": "closest",
          "mapbox": {
           "style": "light"
          },
          "paper_bgcolor": "white",
          "plot_bgcolor": "#E5ECF6",
          "polar": {
           "angularaxis": {
            "gridcolor": "white",
            "linecolor": "white",
            "ticks": ""
           },
           "bgcolor": "#E5ECF6",
           "radialaxis": {
            "gridcolor": "white",
            "linecolor": "white",
            "ticks": ""
           }
          },
          "scene": {
           "xaxis": {
            "backgroundcolor": "#E5ECF6",
            "gridcolor": "white",
            "gridwidth": 2,
            "linecolor": "white",
            "showbackground": true,
            "ticks": "",
            "zerolinecolor": "white"
           },
           "yaxis": {
            "backgroundcolor": "#E5ECF6",
            "gridcolor": "white",
            "gridwidth": 2,
            "linecolor": "white",
            "showbackground": true,
            "ticks": "",
            "zerolinecolor": "white"
           },
           "zaxis": {
            "backgroundcolor": "#E5ECF6",
            "gridcolor": "white",
            "gridwidth": 2,
            "linecolor": "white",
            "showbackground": true,
            "ticks": "",
            "zerolinecolor": "white"
           }
          },
          "shapedefaults": {
           "line": {
            "color": "#2a3f5f"
           }
          },
          "ternary": {
           "aaxis": {
            "gridcolor": "white",
            "linecolor": "white",
            "ticks": ""
           },
           "baxis": {
            "gridcolor": "white",
            "linecolor": "white",
            "ticks": ""
           },
           "bgcolor": "#E5ECF6",
           "caxis": {
            "gridcolor": "white",
            "linecolor": "white",
            "ticks": ""
           }
          },
          "title": {
           "x": 0.05
          },
          "xaxis": {
           "automargin": true,
           "gridcolor": "white",
           "linecolor": "white",
           "ticks": "",
           "title": {
            "standoff": 15
           },
           "zerolinecolor": "white",
           "zerolinewidth": 2
          },
          "yaxis": {
           "automargin": true,
           "gridcolor": "white",
           "linecolor": "white",
           "ticks": "",
           "title": {
            "standoff": 15
           },
           "zerolinecolor": "white",
           "zerolinewidth": 2
          }
         }
        },
        "width": 1280
       }
      }
     },
     "metadata": {},
     "output_type": "display_data"
    }
   ],
   "source": [
    "visualize(model, sample_descriptions, \"tokenize_desc\", 7)"
   ]
  },
  {
   "cell_type": "code",
   "execution_count": 22,
   "metadata": {},
   "outputs": [
    {
     "name": "stderr",
     "output_type": "stream",
     "text": [
      "/Library/Frameworks/Python.framework/Versions/3.12/lib/python3.12/site-packages/sklearn/cluster/_kmeans.py:1416: FutureWarning:\n",
      "\n",
      "The default value of `n_init` will change from 10 to 'auto' in 1.4. Set the value of `n_init` explicitly to suppress the warning\n",
      "\n"
     ]
    },
    {
     "data": {
      "application/vnd.plotly.v1+json": {
       "config": {
        "plotlyServerURL": "https://plot.ly"
       },
       "data": [
        {
         "hovertemplate": "<b>%{hovertext}</b>",
         "hovertext": [
          "Baldur's Gate 3",
          "Cyberpunk 2077",
          "Rust",
          "DAVE THE DIVER",
          "Red Dead Redemption 2",
          "Hogwarts Legacy",
          "Raft",
          "Starfield",
          "Sengoku Dynasty",
          "Sea of Thieves 2023 Edition",
          "Terraria",
          "Ratchet & Clank: Rift Apart",
          "ARK: Survival Evolved",
          "theHunter: Call of the Wild™",
          "Graveyard Keeper",
          "The Elder Scrolls V: Skyrim Special Edition",
          "Don't Starve Together",
          "BOOK OF HOURS",
          "Garry's Mod",
          "Valheim",
          "Marvel’s Spider-Man Remastered"
         ],
         "legendgroup": "2",
         "marker": {
          "color": "#636efa",
          "symbol": "circle"
         },
         "mode": "markers",
         "name": "2",
         "scene": "scene",
         "showlegend": true,
         "type": "scatter3d",
         "x": [
          -0.08241082727909088,
          -0.0012137178564444184,
          0.004962068051099777,
          0.058178044855594635,
          -0.017245423048734665,
          -0.09561869502067566,
          0.027003945782780647,
          -0.008586806245148182,
          0.09074989706277847,
          -0.023769041523337364,
          -0.01019602082669735,
          -0.1546151489019394,
          0.021456366404891014,
          -0.02241535298526287,
          0.09436053782701492,
          -0.07189183682203293,
          -0.0003098639426752925,
          0.040026597678661346,
          0.042736850678920746,
          0.014943752437829971,
          -0.11493359506130219
         ],
         "y": [
          -0.03921755775809288,
          -0.08416087925434113,
          -0.20589594542980194,
          -0.1901462972164154,
          -0.12433009594678879,
          -0.12398664653301239,
          -0.26719018816947937,
          -0.11492853611707687,
          -0.16606532037258148,
          -0.006930530536919832,
          -0.28264257311820984,
          -0.08291696757078171,
          -0.29028990864753723,
          -0.0681389719247818,
          -0.1999739706516266,
          -0.13542848825454712,
          -0.2627792954444885,
          -0.08568823337554932,
          -0.1374858170747757,
          -0.29683661460876465,
          -0.03478821739554405
         ],
         "z": [
          -0.15905317664146423,
          0.09736303985118866,
          -0.2138783186674118,
          -0.04566357657313347,
          -0.07137180119752884,
          -0.2012426108121872,
          -0.242046520113945,
          -0.060212571173906326,
          -0.0918622687458992,
          -0.09323352575302124,
          -0.14247633516788483,
          0.04567977413535118,
          -0.2047334611415863,
          0.018112897872924805,
          -0.0698762834072113,
          -0.18547825515270233,
          -0.1935347020626068,
          -0.17465606331825256,
          -0.03537305071949959,
          -0.21522949635982513,
          -0.009711706079542637
         ]
        },
        {
         "hovertemplate": "<b>%{hovertext}</b>",
         "hovertext": [
          "Counter-Strike: Global Offensive",
          "Apex Legends™",
          "Call of Duty®",
          "PUBG: BATTLEGROUNDS",
          "NARAKA: BLADEPOINT",
          "Tom Clancy's Rainbow Six® Siege",
          "Team Fortress 2",
          "Dota 2",
          "FINAL FANTASY XIV Online",
          "The Elder Scrolls® Online",
          "Warframe",
          "BattleBit Remastered",
          "Street Fighter™ 6",
          "Destiny 2",
          "World of Warships",
          "PAYDAY 2",
          "Hunt: Showdown",
          "Ready or Not",
          "Wayfinder",
          "ARMORED CORE™ VI FIRES OF RUBICON™",
          "Path of Exile",
          "Call of Duty®: Black Ops III",
          "Deep Rock Galactic",
          "World of Tanks Blitz",
          "Eternal Return",
          "SCP: 5K",
          "It Takes Two",
          "Six Days in Fallujah",
          "Brawlhalla",
          "DRAGON BALL Z: KAKAROT",
          "New World",
          "Guild Wars 2"
         ],
         "legendgroup": "3",
         "marker": {
          "color": "#EF553B",
          "symbol": "circle"
         },
         "mode": "markers",
         "name": "3",
         "scene": "scene",
         "showlegend": true,
         "type": "scatter3d",
         "x": [
          0.008314386941492558,
          -0.05971488356590271,
          -0.07763025164604187,
          -0.11283504217863083,
          -0.08132696896791458,
          -0.01791096292436123,
          -0.07586416602134705,
          0.06400225311517715,
          -0.052307821810245514,
          -0.06714408844709396,
          -0.1409853994846344,
          -0.07634828984737396,
          -0.09768594801425934,
          -0.0788419172167778,
          0.037811823189258575,
          -0.1306169480085373,
          -0.08753558993339539,
          -0.04696858301758766,
          -0.09624743461608887,
          0.009228339418768883,
          -0.16449064016342163,
          -0.1437835693359375,
          -0.07139754295349121,
          -0.007722591981291771,
          -0.051178429275751114,
          -0.19698147475719452,
          -0.09065985679626465,
          -0.07085651159286499,
          -0.10564576089382172,
          -0.07829856872558594,
          -0.025434743613004684,
          -0.07689037919044495
         ],
         "y": [
          0.2110651284456253,
          0.22444552183151245,
          0.1695091277360916,
          0.13035069406032562,
          0.23951919376850128,
          0.23004640638828278,
          0.22741495072841644,
          0.32752302289009094,
          0.12090341746807098,
          0.03451881185173988,
          0.12853100895881653,
          0.218530535697937,
          0.12846189737319946,
          0.11455929279327393,
          0.29425230622291565,
          0.12039673328399658,
          0.05321362987160683,
          0.17048834264278412,
          0.13842067122459412,
          0.08310683816671371,
          0.017718929797410965,
          0.14541341364383698,
          0.0031470200046896935,
          0.25953152775764465,
          0.1975218504667282,
          0.1285591423511505,
          0.00010598333028610796,
          0.22906409204006195,
          0.19361518323421478,
          0.09384843707084656,
          0.10656557977199554,
          0.07137750834226608
         ],
         "z": [
          0.03831097111105919,
          0.026188645511865616,
          0.13462497293949127,
          0.0334741584956646,
          -0.023616274818778038,
          0.05827662721276283,
          0.05458301678299904,
          -0.10987858474254608,
          -0.16494715213775635,
          -0.18018999695777893,
          0.14886987209320068,
          0.03239580616354942,
          0.005453604273498058,
          0.010848311707377434,
          -0.029520822688937187,
          0.21650861203670502,
          0.08987521380186081,
          0.148928701877594,
          -0.10507682710886002,
          0.06517808139324188,
          -0.017741786316037178,
          0.1796169877052307,
          0.0199135709553957,
          -0.0037333164364099503,
          -0.05597788840532303,
          0.1393987387418747,
          -0.10951634496450424,
          0.06622278690338135,
          0.007826700806617737,
          -0.01833105832338333,
          -0.14101162552833557,
          -0.1266501396894455
         ]
        },
        {
         "hovertemplate": "<b>%{hovertext}</b>",
         "hovertext": [
          "Forza Horizon 5",
          "Grand Theft Auto V",
          "War Thunder",
          "Forza Horizon 4",
          "Euro Truck Simulator 2",
          "American Truck Simulator",
          "Microsoft Flight Simulator 40th Anniversary Edition",
          "F1® 23",
          "BeamNG.drive",
          "Contraband Police"
         ],
         "legendgroup": "0",
         "marker": {
          "color": "#00cc96",
          "symbol": "circle"
         },
         "mode": "markers",
         "name": "0",
         "scene": "scene",
         "showlegend": true,
         "type": "scatter3d",
         "x": [
          0.32368379831314087,
          0.1493377983570099,
          0.21149344742298126,
          0.34726953506469727,
          0.46092379093170166,
          0.4851968288421631,
          0.214482381939888,
          0.38074666261672974,
          0.4374120235443115,
          0.2133617401123047
         ],
         "y": [
          -0.12481179088354111,
          -0.07540729641914368,
          0.17199398577213287,
          -0.07826530188322067,
          -0.17631351947784424,
          -0.1488366425037384,
          -0.04938383027911186,
          -0.009625149890780449,
          -0.1641393005847931,
          -0.16066816449165344
         ],
         "z": [
          0.22219069302082062,
          0.23492908477783203,
          0.22644880414009094,
          0.25189393758773804,
          0.24909116327762604,
          0.2727043330669403,
          0.06609928607940674,
          0.31025296449661255,
          0.2682191729545593,
          0.2628503739833832
         ]
        },
        {
         "hovertemplate": "<b>%{hovertext}</b>",
         "hovertext": [
          "Remnant II",
          "Dead by Daylight",
          "Phasmophobia",
          "ELDEN RING",
          "Sons Of The Forest",
          "The Texas Chain Saw Massacre",
          "Project Zomboid",
          "Fallout 76",
          "Metro Exodus",
          "Dead Cells",
          "Vampire Survivors",
          "The Outlast Trials",
          "DayZ",
          "Darkest Dungeon® II",
          "Escape the Backrooms",
          "The Binding of Isaac: Rebirth",
          "Resident Evil 4",
          "Dying Light",
          "BlazBlue Entropy Effect"
         ],
         "legendgroup": "1",
         "marker": {
          "color": "#ab63fa",
          "symbol": "circle"
         },
         "mode": "markers",
         "name": "1",
         "scene": "scene",
         "showlegend": true,
         "type": "scatter3d",
         "x": [
          -0.29590028524398804,
          -0.2619813084602356,
          -0.22774602472782135,
          -0.28937098383903503,
          -0.17003460228443146,
          -0.22680401802062988,
          -0.07082989066839218,
          -0.1286928653717041,
          -0.12205120176076889,
          -0.2609570622444153,
          -0.228663831949234,
          -0.27865156531333923,
          -0.14719536900520325,
          -0.21532900631427765,
          -0.2801099419593811,
          -0.24752050638198853,
          -0.2613101601600647,
          -0.19111061096191406,
          -0.14775773882865906
         ],
         "y": [
          -0.049721911549568176,
          -0.09807971864938736,
          -0.1386883705854416,
          -0.1175142228603363,
          -0.24418622255325317,
          -0.009022170677781105,
          -0.19577616453170776,
          -0.10296045243740082,
          -0.10519763827323914,
          -0.1665676236152649,
          -0.050382744520902634,
          -0.13260875642299652,
          0.0017792206490412354,
          -0.052883848547935486,
          -0.17417803406715393,
          -0.15358419716358185,
          -0.05705467611551285,
          -0.17994335293769836,
          -0.12559795379638672
         ],
         "z": [
          0.14077958464622498,
          0.10539279133081436,
          0.24538098275661469,
          0.03705594316124916,
          -0.05358593910932541,
          0.09574057906866074,
          -0.02790771797299385,
          -0.0011389689752832055,
          0.09456488490104675,
          0.12571169435977936,
          0.18767467141151428,
          0.15759456157684326,
          0.06238314509391785,
          -0.11427813023328781,
          0.1652172952890396,
          0.09083869308233261,
          0.19449403882026672,
          0.19160199165344238,
          0.10418634116649628
         ]
        },
        {
         "hovertemplate": "<b>%{hovertext}</b>",
         "hovertext": [
          "EA SPORTS™ FIFA 23",
          "Football Manager 2023",
          "Madden NFL 24",
          "EA SPORTS FC™ 24"
         ],
         "legendgroup": "5",
         "marker": {
          "color": "#FFA15A",
          "symbol": "circle"
         },
         "mode": "markers",
         "name": "5",
         "scene": "scene",
         "showlegend": true,
         "type": "scatter3d",
         "x": [
          0.36765050888061523,
          0.36987873911857605,
          0.29166996479034424,
          0.2462049424648285
         ],
         "y": [
          0.2623054087162018,
          0.22787342965602875,
          0.2308637797832489,
          0.302958607673645
         ],
         "z": [
          0.04076818749308586,
          -0.0059689418412745,
          0.0019874651916325092,
          0.005312896799296141
         ]
        },
        {
         "hovertemplate": "<b>%{hovertext}</b>",
         "hovertext": [
          "Hearts of Iron IV",
          "Yu-Gi-Oh! Master Duel",
          "Total War: WARHAMMER III",
          "Mount & Blade II: Bannerlord",
          "Stellaris",
          "Crusader Kings III",
          "Shadow Gambit: The Cursed Crew",
          "Sid Meier’s Civilization® VI"
         ],
         "legendgroup": "4",
         "marker": {
          "color": "#19d3f3",
          "symbol": "circle"
         },
         "mode": "markers",
         "name": "4",
         "scene": "scene",
         "showlegend": true,
         "type": "scatter3d",
         "x": [
          0.08047570288181305,
          0.042886923998594284,
          0.02735769748687744,
          0.008671490475535393,
          0.153085395693779,
          0.1491832733154297,
          0.018953466787934303,
          0.043521683663129807
         ],
         "y": [
          0.2765374779701233,
          0.13479119539260864,
          0.1571149080991745,
          0.10313962399959564,
          -0.003331581363454461,
          0.1087331548333168,
          0.22418594360351562,
          0.21568173170089722
         ],
         "z": [
          -0.15035919845104218,
          -0.2108220010995865,
          -0.23869755864143372,
          -0.2788676917552948,
          -0.08835090696811676,
          -0.28283947706222534,
          -0.15081079304218292,
          -0.23783184587955475
         ]
        },
        {
         "hovertemplate": "<b>%{hovertext}</b>",
         "hovertext": [
          "The Sims™ 4",
          "Farming Simulator 22",
          "Stardew Valley",
          "Cities: Skylines",
          "RimWorld",
          "Planet Zoo"
         ],
         "legendgroup": "6",
         "marker": {
          "color": "#FF6692",
          "symbol": "circle"
         },
         "mode": "markers",
         "name": "6",
         "scene": "scene",
         "showlegend": true,
         "type": "scatter3d",
         "x": [
          0.18086907267570496,
          0.30085939168930054,
          0.2233840525150299,
          0.2553442120552063,
          0.23993870615959167,
          0.30090978741645813
         ],
         "y": [
          -0.1315418928861618,
          -0.12260381132364273,
          -0.15473675727844238,
          -0.12570643424987793,
          -0.13602609932422638,
          -0.21451865136623383
         ],
         "z": [
          -0.011362009681761265,
          -0.1022021546959877,
          -0.08840594440698624,
          -0.14175504446029663,
          -0.19843977689743042,
          -0.16956670582294464
         ]
        }
       ],
       "layout": {
        "height": 720,
        "legend": {
         "title": {
          "text": "cluster"
         },
         "tracegroupgap": 0
        },
        "margin": {
         "t": 60
        },
        "scene": {
         "domain": {
          "x": [
           0,
           1
          ],
          "y": [
           0,
           1
          ]
         },
         "xaxis": {
          "range": [
           -0.795900285243988,
           0.9851968288421631
          ],
          "title": {
           "text": "x"
          }
         },
         "yaxis": {
          "range": [
           -0.7968366146087646,
           0.8275230228900909
          ],
          "title": {
           "text": "y"
          }
         },
         "zaxis": {
          "range": [
           -0.7828394770622253,
           0.8102529644966125
          ],
          "title": {
           "text": "z"
          }
         }
        },
        "template": {
         "data": {
          "bar": [
           {
            "error_x": {
             "color": "#2a3f5f"
            },
            "error_y": {
             "color": "#2a3f5f"
            },
            "marker": {
             "line": {
              "color": "#E5ECF6",
              "width": 0.5
             },
             "pattern": {
              "fillmode": "overlay",
              "size": 10,
              "solidity": 0.2
             }
            },
            "type": "bar"
           }
          ],
          "barpolar": [
           {
            "marker": {
             "line": {
              "color": "#E5ECF6",
              "width": 0.5
             },
             "pattern": {
              "fillmode": "overlay",
              "size": 10,
              "solidity": 0.2
             }
            },
            "type": "barpolar"
           }
          ],
          "carpet": [
           {
            "aaxis": {
             "endlinecolor": "#2a3f5f",
             "gridcolor": "white",
             "linecolor": "white",
             "minorgridcolor": "white",
             "startlinecolor": "#2a3f5f"
            },
            "baxis": {
             "endlinecolor": "#2a3f5f",
             "gridcolor": "white",
             "linecolor": "white",
             "minorgridcolor": "white",
             "startlinecolor": "#2a3f5f"
            },
            "type": "carpet"
           }
          ],
          "choropleth": [
           {
            "colorbar": {
             "outlinewidth": 0,
             "ticks": ""
            },
            "type": "choropleth"
           }
          ],
          "contour": [
           {
            "colorbar": {
             "outlinewidth": 0,
             "ticks": ""
            },
            "colorscale": [
             [
              0,
              "#0d0887"
             ],
             [
              0.1111111111111111,
              "#46039f"
             ],
             [
              0.2222222222222222,
              "#7201a8"
             ],
             [
              0.3333333333333333,
              "#9c179e"
             ],
             [
              0.4444444444444444,
              "#bd3786"
             ],
             [
              0.5555555555555556,
              "#d8576b"
             ],
             [
              0.6666666666666666,
              "#ed7953"
             ],
             [
              0.7777777777777778,
              "#fb9f3a"
             ],
             [
              0.8888888888888888,
              "#fdca26"
             ],
             [
              1,
              "#f0f921"
             ]
            ],
            "type": "contour"
           }
          ],
          "contourcarpet": [
           {
            "colorbar": {
             "outlinewidth": 0,
             "ticks": ""
            },
            "type": "contourcarpet"
           }
          ],
          "heatmap": [
           {
            "colorbar": {
             "outlinewidth": 0,
             "ticks": ""
            },
            "colorscale": [
             [
              0,
              "#0d0887"
             ],
             [
              0.1111111111111111,
              "#46039f"
             ],
             [
              0.2222222222222222,
              "#7201a8"
             ],
             [
              0.3333333333333333,
              "#9c179e"
             ],
             [
              0.4444444444444444,
              "#bd3786"
             ],
             [
              0.5555555555555556,
              "#d8576b"
             ],
             [
              0.6666666666666666,
              "#ed7953"
             ],
             [
              0.7777777777777778,
              "#fb9f3a"
             ],
             [
              0.8888888888888888,
              "#fdca26"
             ],
             [
              1,
              "#f0f921"
             ]
            ],
            "type": "heatmap"
           }
          ],
          "heatmapgl": [
           {
            "colorbar": {
             "outlinewidth": 0,
             "ticks": ""
            },
            "colorscale": [
             [
              0,
              "#0d0887"
             ],
             [
              0.1111111111111111,
              "#46039f"
             ],
             [
              0.2222222222222222,
              "#7201a8"
             ],
             [
              0.3333333333333333,
              "#9c179e"
             ],
             [
              0.4444444444444444,
              "#bd3786"
             ],
             [
              0.5555555555555556,
              "#d8576b"
             ],
             [
              0.6666666666666666,
              "#ed7953"
             ],
             [
              0.7777777777777778,
              "#fb9f3a"
             ],
             [
              0.8888888888888888,
              "#fdca26"
             ],
             [
              1,
              "#f0f921"
             ]
            ],
            "type": "heatmapgl"
           }
          ],
          "histogram": [
           {
            "marker": {
             "pattern": {
              "fillmode": "overlay",
              "size": 10,
              "solidity": 0.2
             }
            },
            "type": "histogram"
           }
          ],
          "histogram2d": [
           {
            "colorbar": {
             "outlinewidth": 0,
             "ticks": ""
            },
            "colorscale": [
             [
              0,
              "#0d0887"
             ],
             [
              0.1111111111111111,
              "#46039f"
             ],
             [
              0.2222222222222222,
              "#7201a8"
             ],
             [
              0.3333333333333333,
              "#9c179e"
             ],
             [
              0.4444444444444444,
              "#bd3786"
             ],
             [
              0.5555555555555556,
              "#d8576b"
             ],
             [
              0.6666666666666666,
              "#ed7953"
             ],
             [
              0.7777777777777778,
              "#fb9f3a"
             ],
             [
              0.8888888888888888,
              "#fdca26"
             ],
             [
              1,
              "#f0f921"
             ]
            ],
            "type": "histogram2d"
           }
          ],
          "histogram2dcontour": [
           {
            "colorbar": {
             "outlinewidth": 0,
             "ticks": ""
            },
            "colorscale": [
             [
              0,
              "#0d0887"
             ],
             [
              0.1111111111111111,
              "#46039f"
             ],
             [
              0.2222222222222222,
              "#7201a8"
             ],
             [
              0.3333333333333333,
              "#9c179e"
             ],
             [
              0.4444444444444444,
              "#bd3786"
             ],
             [
              0.5555555555555556,
              "#d8576b"
             ],
             [
              0.6666666666666666,
              "#ed7953"
             ],
             [
              0.7777777777777778,
              "#fb9f3a"
             ],
             [
              0.8888888888888888,
              "#fdca26"
             ],
             [
              1,
              "#f0f921"
             ]
            ],
            "type": "histogram2dcontour"
           }
          ],
          "mesh3d": [
           {
            "colorbar": {
             "outlinewidth": 0,
             "ticks": ""
            },
            "type": "mesh3d"
           }
          ],
          "parcoords": [
           {
            "line": {
             "colorbar": {
              "outlinewidth": 0,
              "ticks": ""
             }
            },
            "type": "parcoords"
           }
          ],
          "pie": [
           {
            "automargin": true,
            "type": "pie"
           }
          ],
          "scatter": [
           {
            "fillpattern": {
             "fillmode": "overlay",
             "size": 10,
             "solidity": 0.2
            },
            "type": "scatter"
           }
          ],
          "scatter3d": [
           {
            "line": {
             "colorbar": {
              "outlinewidth": 0,
              "ticks": ""
             }
            },
            "marker": {
             "colorbar": {
              "outlinewidth": 0,
              "ticks": ""
             }
            },
            "type": "scatter3d"
           }
          ],
          "scattercarpet": [
           {
            "marker": {
             "colorbar": {
              "outlinewidth": 0,
              "ticks": ""
             }
            },
            "type": "scattercarpet"
           }
          ],
          "scattergeo": [
           {
            "marker": {
             "colorbar": {
              "outlinewidth": 0,
              "ticks": ""
             }
            },
            "type": "scattergeo"
           }
          ],
          "scattergl": [
           {
            "marker": {
             "colorbar": {
              "outlinewidth": 0,
              "ticks": ""
             }
            },
            "type": "scattergl"
           }
          ],
          "scattermapbox": [
           {
            "marker": {
             "colorbar": {
              "outlinewidth": 0,
              "ticks": ""
             }
            },
            "type": "scattermapbox"
           }
          ],
          "scatterpolar": [
           {
            "marker": {
             "colorbar": {
              "outlinewidth": 0,
              "ticks": ""
             }
            },
            "type": "scatterpolar"
           }
          ],
          "scatterpolargl": [
           {
            "marker": {
             "colorbar": {
              "outlinewidth": 0,
              "ticks": ""
             }
            },
            "type": "scatterpolargl"
           }
          ],
          "scatterternary": [
           {
            "marker": {
             "colorbar": {
              "outlinewidth": 0,
              "ticks": ""
             }
            },
            "type": "scatterternary"
           }
          ],
          "surface": [
           {
            "colorbar": {
             "outlinewidth": 0,
             "ticks": ""
            },
            "colorscale": [
             [
              0,
              "#0d0887"
             ],
             [
              0.1111111111111111,
              "#46039f"
             ],
             [
              0.2222222222222222,
              "#7201a8"
             ],
             [
              0.3333333333333333,
              "#9c179e"
             ],
             [
              0.4444444444444444,
              "#bd3786"
             ],
             [
              0.5555555555555556,
              "#d8576b"
             ],
             [
              0.6666666666666666,
              "#ed7953"
             ],
             [
              0.7777777777777778,
              "#fb9f3a"
             ],
             [
              0.8888888888888888,
              "#fdca26"
             ],
             [
              1,
              "#f0f921"
             ]
            ],
            "type": "surface"
           }
          ],
          "table": [
           {
            "cells": {
             "fill": {
              "color": "#EBF0F8"
             },
             "line": {
              "color": "white"
             }
            },
            "header": {
             "fill": {
              "color": "#C8D4E3"
             },
             "line": {
              "color": "white"
             }
            },
            "type": "table"
           }
          ]
         },
         "layout": {
          "annotationdefaults": {
           "arrowcolor": "#2a3f5f",
           "arrowhead": 0,
           "arrowwidth": 1
          },
          "autotypenumbers": "strict",
          "coloraxis": {
           "colorbar": {
            "outlinewidth": 0,
            "ticks": ""
           }
          },
          "colorscale": {
           "diverging": [
            [
             0,
             "#8e0152"
            ],
            [
             0.1,
             "#c51b7d"
            ],
            [
             0.2,
             "#de77ae"
            ],
            [
             0.3,
             "#f1b6da"
            ],
            [
             0.4,
             "#fde0ef"
            ],
            [
             0.5,
             "#f7f7f7"
            ],
            [
             0.6,
             "#e6f5d0"
            ],
            [
             0.7,
             "#b8e186"
            ],
            [
             0.8,
             "#7fbc41"
            ],
            [
             0.9,
             "#4d9221"
            ],
            [
             1,
             "#276419"
            ]
           ],
           "sequential": [
            [
             0,
             "#0d0887"
            ],
            [
             0.1111111111111111,
             "#46039f"
            ],
            [
             0.2222222222222222,
             "#7201a8"
            ],
            [
             0.3333333333333333,
             "#9c179e"
            ],
            [
             0.4444444444444444,
             "#bd3786"
            ],
            [
             0.5555555555555556,
             "#d8576b"
            ],
            [
             0.6666666666666666,
             "#ed7953"
            ],
            [
             0.7777777777777778,
             "#fb9f3a"
            ],
            [
             0.8888888888888888,
             "#fdca26"
            ],
            [
             1,
             "#f0f921"
            ]
           ],
           "sequentialminus": [
            [
             0,
             "#0d0887"
            ],
            [
             0.1111111111111111,
             "#46039f"
            ],
            [
             0.2222222222222222,
             "#7201a8"
            ],
            [
             0.3333333333333333,
             "#9c179e"
            ],
            [
             0.4444444444444444,
             "#bd3786"
            ],
            [
             0.5555555555555556,
             "#d8576b"
            ],
            [
             0.6666666666666666,
             "#ed7953"
            ],
            [
             0.7777777777777778,
             "#fb9f3a"
            ],
            [
             0.8888888888888888,
             "#fdca26"
            ],
            [
             1,
             "#f0f921"
            ]
           ]
          },
          "colorway": [
           "#636efa",
           "#EF553B",
           "#00cc96",
           "#ab63fa",
           "#FFA15A",
           "#19d3f3",
           "#FF6692",
           "#B6E880",
           "#FF97FF",
           "#FECB52"
          ],
          "font": {
           "color": "#2a3f5f"
          },
          "geo": {
           "bgcolor": "white",
           "lakecolor": "white",
           "landcolor": "#E5ECF6",
           "showlakes": true,
           "showland": true,
           "subunitcolor": "white"
          },
          "hoverlabel": {
           "align": "left"
          },
          "hovermode": "closest",
          "mapbox": {
           "style": "light"
          },
          "paper_bgcolor": "white",
          "plot_bgcolor": "#E5ECF6",
          "polar": {
           "angularaxis": {
            "gridcolor": "white",
            "linecolor": "white",
            "ticks": ""
           },
           "bgcolor": "#E5ECF6",
           "radialaxis": {
            "gridcolor": "white",
            "linecolor": "white",
            "ticks": ""
           }
          },
          "scene": {
           "xaxis": {
            "backgroundcolor": "#E5ECF6",
            "gridcolor": "white",
            "gridwidth": 2,
            "linecolor": "white",
            "showbackground": true,
            "ticks": "",
            "zerolinecolor": "white"
           },
           "yaxis": {
            "backgroundcolor": "#E5ECF6",
            "gridcolor": "white",
            "gridwidth": 2,
            "linecolor": "white",
            "showbackground": true,
            "ticks": "",
            "zerolinecolor": "white"
           },
           "zaxis": {
            "backgroundcolor": "#E5ECF6",
            "gridcolor": "white",
            "gridwidth": 2,
            "linecolor": "white",
            "showbackground": true,
            "ticks": "",
            "zerolinecolor": "white"
           }
          },
          "shapedefaults": {
           "line": {
            "color": "#2a3f5f"
           }
          },
          "ternary": {
           "aaxis": {
            "gridcolor": "white",
            "linecolor": "white",
            "ticks": ""
           },
           "baxis": {
            "gridcolor": "white",
            "linecolor": "white",
            "ticks": ""
           },
           "bgcolor": "#E5ECF6",
           "caxis": {
            "gridcolor": "white",
            "linecolor": "white",
            "ticks": ""
           }
          },
          "title": {
           "x": 0.05
          },
          "xaxis": {
           "automargin": true,
           "gridcolor": "white",
           "linecolor": "white",
           "ticks": "",
           "title": {
            "standoff": 15
           },
           "zerolinecolor": "white",
           "zerolinewidth": 2
          },
          "yaxis": {
           "automargin": true,
           "gridcolor": "white",
           "linecolor": "white",
           "ticks": "",
           "title": {
            "standoff": 15
           },
           "zerolinecolor": "white",
           "zerolinewidth": 2
          }
         }
        },
        "width": 1280
       }
      }
     },
     "metadata": {},
     "output_type": "display_data"
    }
   ],
   "source": [
    "visualize(model, sample_descriptions, \"tokenize_tag\", 7)"
   ]
  },
  {
   "cell_type": "code",
   "execution_count": 23,
   "metadata": {},
   "outputs": [
    {
     "name": "stderr",
     "output_type": "stream",
     "text": [
      "/Library/Frameworks/Python.framework/Versions/3.12/lib/python3.12/site-packages/sklearn/cluster/_kmeans.py:1416: FutureWarning:\n",
      "\n",
      "The default value of `n_init` will change from 10 to 'auto' in 1.4. Set the value of `n_init` explicitly to suppress the warning\n",
      "\n"
     ]
    },
    {
     "data": {
      "application/vnd.plotly.v1+json": {
       "config": {
        "plotlyServerURL": "https://plot.ly"
       },
       "data": [
        {
         "hovertemplate": "<b>%{hovertext}</b>",
         "hovertext": [
          "Baldur's Gate 3",
          "Remnant II",
          "Cyberpunk 2077",
          "Rust",
          "FINAL FANTASY XIV Online",
          "The Elder Scrolls® Online",
          "DAVE THE DIVER",
          "Destiny 2",
          "ELDEN RING",
          "Total War: WARHAMMER III",
          "Red Dead Redemption 2",
          "Hogwarts Legacy",
          "Starfield",
          "Wayfinder",
          "Sea of Thieves 2023 Edition",
          "Fallout 76",
          "Metro Exodus",
          "Path of Exile",
          "Terraria",
          "Stellaris",
          "Deep Rock Galactic",
          "Ratchet & Clank: Rift Apart",
          "Eternal Return",
          "Shadow Gambit: The Cursed Crew",
          "Darkest Dungeon® II",
          "Sid Meier’s Civilization® VI",
          "It Takes Two",
          "The Binding of Isaac: Rebirth",
          "New World",
          "Valheim",
          "BlazBlue Entropy Effect"
         ],
         "legendgroup": "3",
         "marker": {
          "color": "#636efa",
          "symbol": "circle"
         },
         "mode": "markers",
         "name": "3",
         "scene": "scene",
         "showlegend": true,
         "type": "scatter3d",
         "x": [
          -0.27567917108535767,
          -0.2765778601169586,
          0.016639193519949913,
          -0.11042044311761856,
          -0.03714483231306076,
          -0.12158304452896118,
          -0.18000419437885284,
          -0.117892786860466,
          -0.1840970516204834,
          -0.1061694398522377,
          -0.09181799739599228,
          -0.18861155211925507,
          0.0740417018532753,
          -0.15161223709583282,
          -0.1413295865058899,
          -0.11589561402797699,
          -0.004301162902265787,
          -0.24586352705955505,
          -0.13589584827423096,
          0.11874029040336609,
          -0.11853840202093124,
          -0.08115275204181671,
          -0.08226469159126282,
          -0.2124297320842743,
          -0.2789022922515869,
          0.0948454812169075,
          -0.0472974069416523,
          -0.23102644085884094,
          -0.1564229279756546,
          -0.2553029954433441,
          -0.12083516269922256
         ],
         "y": [
          -0.06685933470726013,
          -0.08008693903684616,
          0.014136058278381824,
          0.1700114756822586,
          -0.03743533790111542,
          0.012347235344350338,
          0.12431682646274567,
          -0.11646592617034912,
          -0.06529495865106583,
          -0.21607601642608643,
          -0.05525776371359825,
          -0.056208834052085876,
          0.044857993721961975,
          -0.02432933822274208,
          -0.005509441718459129,
          0.11706393957138062,
          0.17474384605884552,
          -0.08735645562410355,
          0.16999530792236328,
          -0.033787067979574203,
          -0.0644759014248848,
          -0.06686120480298996,
          -0.15259775519371033,
          -0.042040783911943436,
          0.06801500171422958,
          -0.16742894053459167,
          -0.0173701923340559,
          -0.02470732480287552,
          0.06838640570640564,
          0.1264866441488266,
          -0.07631256431341171
         ],
         "z": [
          -0.16404004395008087,
          0.0168648362159729,
          0.07409296929836273,
          0.010278351604938507,
          -0.2616150975227356,
          -0.20952463150024414,
          -0.06668762117624283,
          -0.0337616503238678,
          -0.3083397150039673,
          -0.13092413544654846,
          0.11067856103181839,
          -0.21134814620018005,
          -0.13745717704296112,
          -0.18441028892993927,
          -0.061735741794109344,
          0.14020772278308868,
          0.05519748106598854,
          -0.18253208696842194,
          -0.13566765189170837,
          -0.16704457998275757,
          0.028321363031864166,
          0.036436788737773895,
          -0.06939437240362167,
          -0.07466063648462296,
          0.07908333092927933,
          -0.1860221028327942,
          0.036372024565935135,
          -0.0170795526355505,
          -0.18778519332408905,
          -0.13870204985141754,
          -0.014759031124413013
         ]
        },
        {
         "hovertemplate": "<b>%{hovertext}</b>",
         "hovertext": [
          "Counter-Strike: Global Offensive",
          "Apex Legends™",
          "Call of Duty®",
          "PUBG: BATTLEGROUNDS",
          "NARAKA: BLADEPOINT",
          "Tom Clancy's Rainbow Six® Siege",
          "Team Fortress 2",
          "Dota 2",
          "War Thunder",
          "Warframe",
          "BattleBit Remastered",
          "Street Fighter™ 6",
          "Hearts of Iron IV",
          "Yu-Gi-Oh! Master Duel",
          "World of Warships",
          "PAYDAY 2",
          "Hunt: Showdown",
          "Ready or Not",
          "ARMORED CORE™ VI FIRES OF RUBICON™",
          "World of Tanks Blitz",
          "Six Days in Fallujah",
          "Brawlhalla",
          "DRAGON BALL Z: KAKAROT",
          "Guild Wars 2",
          "Marvel’s Spider-Man Remastered"
         ],
         "legendgroup": "1",
         "marker": {
          "color": "#EF553B",
          "symbol": "circle"
         },
         "mode": "markers",
         "name": "1",
         "scene": "scene",
         "showlegend": true,
         "type": "scatter3d",
         "x": [
          0.26808393001556396,
          -0.023018809035420418,
          0.19235043227672577,
          0.10679546743631363,
          -0.01704816333949566,
          0.08964808285236359,
          0.04318523406982422,
          0.1444513350725174,
          0.12252197414636612,
          -0.11456523835659027,
          -0.0015466223703697324,
          0.18045674264431,
          0.10161194205284119,
          0.013279207050800323,
          0.1400069147348404,
          -0.05046891048550606,
          -0.057297032326459885,
          0.092742420732975,
          0.06476904451847076,
          0.13360513746738434,
          0.0025887496303766966,
          0.0005779340281151235,
          0.033888574689626694,
          -0.021177802234888077,
          -0.03558478131890297
         ],
         "y": [
          -0.23422789573669434,
          -0.1989441066980362,
          -0.15603628754615784,
          -0.1557583063840866,
          -0.2555125951766968,
          -0.27265551686286926,
          -0.20274971425533295,
          -0.21239326894283295,
          -0.311826229095459,
          -0.23937587440013885,
          -0.22947531938552856,
          -0.20883429050445557,
          -0.3005909025669098,
          -0.24281829595565796,
          -0.13589049875736237,
          -0.11414624750614166,
          -0.09369952976703644,
          -0.09557584673166275,
          -0.1886778175830841,
          -0.15034139156341553,
          -0.1361047923564911,
          -0.22422799468040466,
          -0.17599958181381226,
          -0.24909968674182892,
          -0.07896143943071365
         ],
         "z": [
          0.0755617618560791,
          0.029544297605752945,
          0.13192416727542877,
          -0.042213074862957,
          -0.09900057315826416,
          0.20293036103248596,
          0.0025319333653897047,
          -0.02723020501434803,
          0.04313680902123451,
          -0.02608651854097843,
          0.12187425792217255,
          0.1516646444797516,
          -0.1263282597064972,
          -0.11343830078840256,
          -0.1002458781003952,
          0.22675584256649017,
          0.21045686304569244,
          0.26527920365333557,
          -0.01766289584338665,
          -0.04605017974972725,
          0.17252661287784576,
          -0.03860824927687645,
          -0.08283358812332153,
          -0.14145903289318085,
          0.13553057610988617
         ]
        },
        {
         "hovertemplate": "<b>%{hovertext}</b>",
         "hovertext": [
          "Forza Horizon 5",
          "Grand Theft Auto V",
          "Forza Horizon 4",
          "Euro Truck Simulator 2",
          "American Truck Simulator",
          "Microsoft Flight Simulator 40th Anniversary Edition",
          "BeamNG.drive",
          "Garry's Mod"
         ],
         "legendgroup": "4",
         "marker": {
          "color": "#00cc96",
          "symbol": "circle"
         },
         "mode": "markers",
         "name": "4",
         "scene": "scene",
         "showlegend": true,
         "type": "scatter3d",
         "x": [
          0.3465834856033325,
          0.2075221687555313,
          0.3225325047969818,
          0.3651593029499054,
          0.38655853271484375,
          0.34057459235191345,
          0.36370205879211426,
          0.17186211049556732
         ],
         "y": [
          0.1623285710811615,
          0.033426135778427124,
          0.20348846912384033,
          0.1749378889799118,
          0.2665445804595947,
          0.06962592154741287,
          0.19238755106925964,
          0.1625833362340927
         ],
         "z": [
          0.05361113324761391,
          0.22301118075847626,
          -0.02392219565808773,
          -0.016794702038168907,
          0.11003556847572327,
          0.03553585335612297,
          0.10747989267110825,
          -0.024333477020263672
         ]
        },
        {
         "hovertemplate": "<b>%{hovertext}</b>",
         "hovertext": [
          "Dead by Daylight",
          "Phasmophobia",
          "Sons Of The Forest",
          "The Texas Chain Saw Massacre",
          "Project Zomboid",
          "Call of Duty®: Black Ops III",
          "Dead Cells",
          "Vampire Survivors",
          "SCP: 5K",
          "The Outlast Trials",
          "DayZ",
          "Escape the Backrooms",
          "Resident Evil 4",
          "Dying Light"
         ],
         "legendgroup": "5",
         "marker": {
          "color": "#ab63fa",
          "symbol": "circle"
         },
         "mode": "markers",
         "name": "5",
         "scene": "scene",
         "showlegend": true,
         "type": "scatter3d",
         "x": [
          -0.22759993374347687,
          -0.1915629506111145,
          -0.14640657603740692,
          -0.15255707502365112,
          -0.17690972983837128,
          -0.09593183547258377,
          -0.227948859333992,
          -0.35316768288612366,
          -0.04909501224756241,
          -0.23172545433044434,
          -0.17388968169689178,
          -0.22652548551559448,
          -0.22167713940143585,
          -0.15837082266807556
         ],
         "y": [
          0.004955905955284834,
          0.0656052902340889,
          0.2999742329120636,
          0.07255951315164566,
          0.18379122018814087,
          -0.04360661283135414,
          0.023750094696879387,
          0.03099890425801277,
          -0.03801942989230156,
          0.05162812024354935,
          0.15496405959129333,
          0.11899033188819885,
          0.23085080087184906,
          0.16112132370471954
         ],
         "z": [
          0.3280116617679596,
          0.2656920254230499,
          0.10178911685943604,
          0.31230175495147705,
          0.18417751789093018,
          0.2766684889793396,
          0.14617955684661865,
          0.22617700695991516,
          0.2657056152820587,
          0.24372507631778717,
          0.20267754793167114,
          0.17283453047275543,
          0.26378029584884644,
          0.26535728573799133
         ]
        },
        {
         "hovertemplate": "<b>%{hovertext}</b>",
         "hovertext": [
          "EA SPORTS™ FIFA 23",
          "Football Manager 2023",
          "Madden NFL 24",
          "F1® 23",
          "EA SPORTS FC™ 24"
         ],
         "legendgroup": "0",
         "marker": {
          "color": "#FFA15A",
          "symbol": "circle"
         },
         "mode": "markers",
         "name": "0",
         "scene": "scene",
         "showlegend": true,
         "type": "scatter3d",
         "x": [
          0.3946574926376343,
          0.3446899950504303,
          0.43759632110595703,
          0.44146502017974854,
          0.39925310015678406
         ],
         "y": [
          -0.055049728602170944,
          -0.08175591379404068,
          -0.03746241331100464,
          0.030692322179675102,
          -0.05854010954499245
         ],
         "z": [
          0.06890339404344559,
          -0.028220877051353455,
          0.0747469887137413,
          0.14020371437072754,
          0.06295304745435715
         ]
        },
        {
         "hovertemplate": "<b>%{hovertext}</b>",
         "hovertext": [
          "The Sims™ 4",
          "Raft",
          "Farming Simulator 22",
          "Stardew Valley",
          "Sengoku Dynasty",
          "Cities: Skylines",
          "RimWorld",
          "ARK: Survival Evolved",
          "theHunter: Call of the Wild™",
          "Don't Starve Together",
          "Planet Zoo"
         ],
         "legendgroup": "2",
         "marker": {
          "color": "#19d3f3",
          "symbol": "circle"
         },
         "mode": "markers",
         "name": "2",
         "scene": "scene",
         "showlegend": true,
         "type": "scatter3d",
         "x": [
          0.15845927596092224,
          -0.08235211670398712,
          0.1982918530702591,
          0.07968583703041077,
          -0.022791219875216484,
          0.2352457046508789,
          0.18576261401176453,
          -0.18631602823734283,
          -0.017218802124261856,
          -0.15085439383983612,
          0.251895934343338
         ],
         "y": [
          0.2668079733848572,
          0.25399601459503174,
          0.3445037603378296,
          0.32922956347465515,
          0.09311269968748093,
          0.15187138319015503,
          0.19009138643741608,
          0.25528645515441895,
          0.18795904517173767,
          0.19975528120994568,
          0.3700686991214752
         ],
         "z": [
          -0.1811331957578659,
          -0.09281054139137268,
          -0.18476463854312897,
          -0.2029160112142563,
          -0.3083830177783966,
          -0.08099915832281113,
          -0.13432078063488007,
          -0.12242725491523743,
          0.014352111145853996,
          -0.07827889174222946,
          -0.14240776002407074
         ]
        },
        {
         "hovertemplate": "<b>%{hovertext}</b>",
         "hovertext": [
          "Mount & Blade II: Bannerlord",
          "Crusader Kings III",
          "Graveyard Keeper",
          "The Elder Scrolls V: Skyrim Special Edition",
          "Contraband Police",
          "BOOK OF HOURS"
         ],
         "legendgroup": "6",
         "marker": {
          "color": "#FF6692",
          "symbol": "circle"
         },
         "mode": "markers",
         "name": "6",
         "scene": "scene",
         "showlegend": true,
         "type": "scatter3d",
         "x": [
          -0.009203978814184666,
          -0.02339434064924717,
          -0.05563240498304367,
          -0.06907978653907776,
          0.1801133006811142,
          -0.20645387470722198
         ],
         "y": [
          -0.15012280642986298,
          -0.114683136343956,
          0.24169690907001495,
          0.0037745842710137367,
          0.10725110024213791,
          0.11865592002868652
         ],
         "z": [
          -0.2725389003753662,
          -0.3180030882358551,
          -0.11245952546596527,
          -0.19363901019096375,
          0.07612891495227814,
          -0.25628897547721863
         ]
        }
       ],
       "layout": {
        "height": 720,
        "legend": {
         "title": {
          "text": "cluster"
         },
         "tracegroupgap": 0
        },
        "margin": {
         "t": 60
        },
        "scene": {
         "domain": {
          "x": [
           0,
           1
          ],
          "y": [
           0,
           1
          ]
         },
         "xaxis": {
          "range": [
           -0.8531676828861237,
           0.9414650201797485
          ],
          "title": {
           "text": "x"
          }
         },
         "yaxis": {
          "range": [
           -0.811826229095459,
           0.8700686991214752
          ],
          "title": {
           "text": "y"
          }
         },
         "zaxis": {
          "range": [
           -0.8180030882358551,
           0.8280116617679596
          ],
          "title": {
           "text": "z"
          }
         }
        },
        "template": {
         "data": {
          "bar": [
           {
            "error_x": {
             "color": "#2a3f5f"
            },
            "error_y": {
             "color": "#2a3f5f"
            },
            "marker": {
             "line": {
              "color": "#E5ECF6",
              "width": 0.5
             },
             "pattern": {
              "fillmode": "overlay",
              "size": 10,
              "solidity": 0.2
             }
            },
            "type": "bar"
           }
          ],
          "barpolar": [
           {
            "marker": {
             "line": {
              "color": "#E5ECF6",
              "width": 0.5
             },
             "pattern": {
              "fillmode": "overlay",
              "size": 10,
              "solidity": 0.2
             }
            },
            "type": "barpolar"
           }
          ],
          "carpet": [
           {
            "aaxis": {
             "endlinecolor": "#2a3f5f",
             "gridcolor": "white",
             "linecolor": "white",
             "minorgridcolor": "white",
             "startlinecolor": "#2a3f5f"
            },
            "baxis": {
             "endlinecolor": "#2a3f5f",
             "gridcolor": "white",
             "linecolor": "white",
             "minorgridcolor": "white",
             "startlinecolor": "#2a3f5f"
            },
            "type": "carpet"
           }
          ],
          "choropleth": [
           {
            "colorbar": {
             "outlinewidth": 0,
             "ticks": ""
            },
            "type": "choropleth"
           }
          ],
          "contour": [
           {
            "colorbar": {
             "outlinewidth": 0,
             "ticks": ""
            },
            "colorscale": [
             [
              0,
              "#0d0887"
             ],
             [
              0.1111111111111111,
              "#46039f"
             ],
             [
              0.2222222222222222,
              "#7201a8"
             ],
             [
              0.3333333333333333,
              "#9c179e"
             ],
             [
              0.4444444444444444,
              "#bd3786"
             ],
             [
              0.5555555555555556,
              "#d8576b"
             ],
             [
              0.6666666666666666,
              "#ed7953"
             ],
             [
              0.7777777777777778,
              "#fb9f3a"
             ],
             [
              0.8888888888888888,
              "#fdca26"
             ],
             [
              1,
              "#f0f921"
             ]
            ],
            "type": "contour"
           }
          ],
          "contourcarpet": [
           {
            "colorbar": {
             "outlinewidth": 0,
             "ticks": ""
            },
            "type": "contourcarpet"
           }
          ],
          "heatmap": [
           {
            "colorbar": {
             "outlinewidth": 0,
             "ticks": ""
            },
            "colorscale": [
             [
              0,
              "#0d0887"
             ],
             [
              0.1111111111111111,
              "#46039f"
             ],
             [
              0.2222222222222222,
              "#7201a8"
             ],
             [
              0.3333333333333333,
              "#9c179e"
             ],
             [
              0.4444444444444444,
              "#bd3786"
             ],
             [
              0.5555555555555556,
              "#d8576b"
             ],
             [
              0.6666666666666666,
              "#ed7953"
             ],
             [
              0.7777777777777778,
              "#fb9f3a"
             ],
             [
              0.8888888888888888,
              "#fdca26"
             ],
             [
              1,
              "#f0f921"
             ]
            ],
            "type": "heatmap"
           }
          ],
          "heatmapgl": [
           {
            "colorbar": {
             "outlinewidth": 0,
             "ticks": ""
            },
            "colorscale": [
             [
              0,
              "#0d0887"
             ],
             [
              0.1111111111111111,
              "#46039f"
             ],
             [
              0.2222222222222222,
              "#7201a8"
             ],
             [
              0.3333333333333333,
              "#9c179e"
             ],
             [
              0.4444444444444444,
              "#bd3786"
             ],
             [
              0.5555555555555556,
              "#d8576b"
             ],
             [
              0.6666666666666666,
              "#ed7953"
             ],
             [
              0.7777777777777778,
              "#fb9f3a"
             ],
             [
              0.8888888888888888,
              "#fdca26"
             ],
             [
              1,
              "#f0f921"
             ]
            ],
            "type": "heatmapgl"
           }
          ],
          "histogram": [
           {
            "marker": {
             "pattern": {
              "fillmode": "overlay",
              "size": 10,
              "solidity": 0.2
             }
            },
            "type": "histogram"
           }
          ],
          "histogram2d": [
           {
            "colorbar": {
             "outlinewidth": 0,
             "ticks": ""
            },
            "colorscale": [
             [
              0,
              "#0d0887"
             ],
             [
              0.1111111111111111,
              "#46039f"
             ],
             [
              0.2222222222222222,
              "#7201a8"
             ],
             [
              0.3333333333333333,
              "#9c179e"
             ],
             [
              0.4444444444444444,
              "#bd3786"
             ],
             [
              0.5555555555555556,
              "#d8576b"
             ],
             [
              0.6666666666666666,
              "#ed7953"
             ],
             [
              0.7777777777777778,
              "#fb9f3a"
             ],
             [
              0.8888888888888888,
              "#fdca26"
             ],
             [
              1,
              "#f0f921"
             ]
            ],
            "type": "histogram2d"
           }
          ],
          "histogram2dcontour": [
           {
            "colorbar": {
             "outlinewidth": 0,
             "ticks": ""
            },
            "colorscale": [
             [
              0,
              "#0d0887"
             ],
             [
              0.1111111111111111,
              "#46039f"
             ],
             [
              0.2222222222222222,
              "#7201a8"
             ],
             [
              0.3333333333333333,
              "#9c179e"
             ],
             [
              0.4444444444444444,
              "#bd3786"
             ],
             [
              0.5555555555555556,
              "#d8576b"
             ],
             [
              0.6666666666666666,
              "#ed7953"
             ],
             [
              0.7777777777777778,
              "#fb9f3a"
             ],
             [
              0.8888888888888888,
              "#fdca26"
             ],
             [
              1,
              "#f0f921"
             ]
            ],
            "type": "histogram2dcontour"
           }
          ],
          "mesh3d": [
           {
            "colorbar": {
             "outlinewidth": 0,
             "ticks": ""
            },
            "type": "mesh3d"
           }
          ],
          "parcoords": [
           {
            "line": {
             "colorbar": {
              "outlinewidth": 0,
              "ticks": ""
             }
            },
            "type": "parcoords"
           }
          ],
          "pie": [
           {
            "automargin": true,
            "type": "pie"
           }
          ],
          "scatter": [
           {
            "fillpattern": {
             "fillmode": "overlay",
             "size": 10,
             "solidity": 0.2
            },
            "type": "scatter"
           }
          ],
          "scatter3d": [
           {
            "line": {
             "colorbar": {
              "outlinewidth": 0,
              "ticks": ""
             }
            },
            "marker": {
             "colorbar": {
              "outlinewidth": 0,
              "ticks": ""
             }
            },
            "type": "scatter3d"
           }
          ],
          "scattercarpet": [
           {
            "marker": {
             "colorbar": {
              "outlinewidth": 0,
              "ticks": ""
             }
            },
            "type": "scattercarpet"
           }
          ],
          "scattergeo": [
           {
            "marker": {
             "colorbar": {
              "outlinewidth": 0,
              "ticks": ""
             }
            },
            "type": "scattergeo"
           }
          ],
          "scattergl": [
           {
            "marker": {
             "colorbar": {
              "outlinewidth": 0,
              "ticks": ""
             }
            },
            "type": "scattergl"
           }
          ],
          "scattermapbox": [
           {
            "marker": {
             "colorbar": {
              "outlinewidth": 0,
              "ticks": ""
             }
            },
            "type": "scattermapbox"
           }
          ],
          "scatterpolar": [
           {
            "marker": {
             "colorbar": {
              "outlinewidth": 0,
              "ticks": ""
             }
            },
            "type": "scatterpolar"
           }
          ],
          "scatterpolargl": [
           {
            "marker": {
             "colorbar": {
              "outlinewidth": 0,
              "ticks": ""
             }
            },
            "type": "scatterpolargl"
           }
          ],
          "scatterternary": [
           {
            "marker": {
             "colorbar": {
              "outlinewidth": 0,
              "ticks": ""
             }
            },
            "type": "scatterternary"
           }
          ],
          "surface": [
           {
            "colorbar": {
             "outlinewidth": 0,
             "ticks": ""
            },
            "colorscale": [
             [
              0,
              "#0d0887"
             ],
             [
              0.1111111111111111,
              "#46039f"
             ],
             [
              0.2222222222222222,
              "#7201a8"
             ],
             [
              0.3333333333333333,
              "#9c179e"
             ],
             [
              0.4444444444444444,
              "#bd3786"
             ],
             [
              0.5555555555555556,
              "#d8576b"
             ],
             [
              0.6666666666666666,
              "#ed7953"
             ],
             [
              0.7777777777777778,
              "#fb9f3a"
             ],
             [
              0.8888888888888888,
              "#fdca26"
             ],
             [
              1,
              "#f0f921"
             ]
            ],
            "type": "surface"
           }
          ],
          "table": [
           {
            "cells": {
             "fill": {
              "color": "#EBF0F8"
             },
             "line": {
              "color": "white"
             }
            },
            "header": {
             "fill": {
              "color": "#C8D4E3"
             },
             "line": {
              "color": "white"
             }
            },
            "type": "table"
           }
          ]
         },
         "layout": {
          "annotationdefaults": {
           "arrowcolor": "#2a3f5f",
           "arrowhead": 0,
           "arrowwidth": 1
          },
          "autotypenumbers": "strict",
          "coloraxis": {
           "colorbar": {
            "outlinewidth": 0,
            "ticks": ""
           }
          },
          "colorscale": {
           "diverging": [
            [
             0,
             "#8e0152"
            ],
            [
             0.1,
             "#c51b7d"
            ],
            [
             0.2,
             "#de77ae"
            ],
            [
             0.3,
             "#f1b6da"
            ],
            [
             0.4,
             "#fde0ef"
            ],
            [
             0.5,
             "#f7f7f7"
            ],
            [
             0.6,
             "#e6f5d0"
            ],
            [
             0.7,
             "#b8e186"
            ],
            [
             0.8,
             "#7fbc41"
            ],
            [
             0.9,
             "#4d9221"
            ],
            [
             1,
             "#276419"
            ]
           ],
           "sequential": [
            [
             0,
             "#0d0887"
            ],
            [
             0.1111111111111111,
             "#46039f"
            ],
            [
             0.2222222222222222,
             "#7201a8"
            ],
            [
             0.3333333333333333,
             "#9c179e"
            ],
            [
             0.4444444444444444,
             "#bd3786"
            ],
            [
             0.5555555555555556,
             "#d8576b"
            ],
            [
             0.6666666666666666,
             "#ed7953"
            ],
            [
             0.7777777777777778,
             "#fb9f3a"
            ],
            [
             0.8888888888888888,
             "#fdca26"
            ],
            [
             1,
             "#f0f921"
            ]
           ],
           "sequentialminus": [
            [
             0,
             "#0d0887"
            ],
            [
             0.1111111111111111,
             "#46039f"
            ],
            [
             0.2222222222222222,
             "#7201a8"
            ],
            [
             0.3333333333333333,
             "#9c179e"
            ],
            [
             0.4444444444444444,
             "#bd3786"
            ],
            [
             0.5555555555555556,
             "#d8576b"
            ],
            [
             0.6666666666666666,
             "#ed7953"
            ],
            [
             0.7777777777777778,
             "#fb9f3a"
            ],
            [
             0.8888888888888888,
             "#fdca26"
            ],
            [
             1,
             "#f0f921"
            ]
           ]
          },
          "colorway": [
           "#636efa",
           "#EF553B",
           "#00cc96",
           "#ab63fa",
           "#FFA15A",
           "#19d3f3",
           "#FF6692",
           "#B6E880",
           "#FF97FF",
           "#FECB52"
          ],
          "font": {
           "color": "#2a3f5f"
          },
          "geo": {
           "bgcolor": "white",
           "lakecolor": "white",
           "landcolor": "#E5ECF6",
           "showlakes": true,
           "showland": true,
           "subunitcolor": "white"
          },
          "hoverlabel": {
           "align": "left"
          },
          "hovermode": "closest",
          "mapbox": {
           "style": "light"
          },
          "paper_bgcolor": "white",
          "plot_bgcolor": "#E5ECF6",
          "polar": {
           "angularaxis": {
            "gridcolor": "white",
            "linecolor": "white",
            "ticks": ""
           },
           "bgcolor": "#E5ECF6",
           "radialaxis": {
            "gridcolor": "white",
            "linecolor": "white",
            "ticks": ""
           }
          },
          "scene": {
           "xaxis": {
            "backgroundcolor": "#E5ECF6",
            "gridcolor": "white",
            "gridwidth": 2,
            "linecolor": "white",
            "showbackground": true,
            "ticks": "",
            "zerolinecolor": "white"
           },
           "yaxis": {
            "backgroundcolor": "#E5ECF6",
            "gridcolor": "white",
            "gridwidth": 2,
            "linecolor": "white",
            "showbackground": true,
            "ticks": "",
            "zerolinecolor": "white"
           },
           "zaxis": {
            "backgroundcolor": "#E5ECF6",
            "gridcolor": "white",
            "gridwidth": 2,
            "linecolor": "white",
            "showbackground": true,
            "ticks": "",
            "zerolinecolor": "white"
           }
          },
          "shapedefaults": {
           "line": {
            "color": "#2a3f5f"
           }
          },
          "ternary": {
           "aaxis": {
            "gridcolor": "white",
            "linecolor": "white",
            "ticks": ""
           },
           "baxis": {
            "gridcolor": "white",
            "linecolor": "white",
            "ticks": ""
           },
           "bgcolor": "#E5ECF6",
           "caxis": {
            "gridcolor": "white",
            "linecolor": "white",
            "ticks": ""
           }
          },
          "title": {
           "x": 0.05
          },
          "xaxis": {
           "automargin": true,
           "gridcolor": "white",
           "linecolor": "white",
           "ticks": "",
           "title": {
            "standoff": 15
           },
           "zerolinecolor": "white",
           "zerolinewidth": 2
          },
          "yaxis": {
           "automargin": true,
           "gridcolor": "white",
           "linecolor": "white",
           "ticks": "",
           "title": {
            "standoff": 15
           },
           "zerolinecolor": "white",
           "zerolinewidth": 2
          }
         }
        },
        "width": 1280
       }
      }
     },
     "metadata": {},
     "output_type": "display_data"
    }
   ],
   "source": [
    "visualize(model, sample_descriptions, \"tokenize_desc_tag\", 7)\n"
   ]
  },
  {
   "cell_type": "code",
   "execution_count": 24,
   "metadata": {},
   "outputs": [
    {
     "name": "stderr",
     "output_type": "stream",
     "text": [
      "/Library/Frameworks/Python.framework/Versions/3.12/lib/python3.12/site-packages/huggingface_hub/file_download.py:1132: FutureWarning:\n",
      "\n",
      "`resume_download` is deprecated and will be removed in version 1.0.0. Downloads always resume when possible. If you want to force a new download, use `force_download=True`.\n",
      "\n"
     ]
    },
    {
     "name": "stdout",
     "output_type": "stream",
     "text": [
      "Baldur ’ s Gate 3 is a story - rich , party - based RPG set in the universe of Dungeons & Dragons , where your choices shape a tale of fellowship and betrayal , survival and sacrifice , and the lure of absolute power .\n",
      "Counter - Strike : Global_Offensive ( CS : GO ) expands upon the team - based action gameplay that it pioneered when it was launched 19 years ago . CS : GO features new maps , characters , weapons , and game modes , and delivers updated versions of the classic CS content ( de_dust2 , etc . ) .\n",
      "tensor([[0.1416]])\n",
      "tensor([[0.4700]])\n"
     ]
    }
   ],
   "source": [
    "old_model = SentenceTransformer(\"all-mpnet-base-v2\")\n",
    "\n",
    "game1_desc = sample_descriptions.loc[0, \"tokenize_desc\"]\n",
    "game2_desc = sample_descriptions.loc[1, \"tokenize_desc\"]\n",
    "\n",
    "print(game1_desc)\n",
    "print(game2_desc)\n",
    "\n",
    "old_enc_game1 = old_model.encode(game1_desc)\n",
    "old_enc_game2 = old_model.encode(game2_desc)\n",
    "new_enc_game1 = model.encode(game1_desc)\n",
    "new_enc_game2 = model.encode(game2_desc)\n",
    "\n",
    "print(util.cos_sim(old_enc_game1, old_enc_game2))\n",
    "print(util.cos_sim(new_enc_game1, new_enc_game2))"
   ]
  },
  {
   "cell_type": "code",
   "execution_count": 25,
   "metadata": {},
   "outputs": [],
   "source": [
    "# for i in range(len(sample_descriptions) - 1):\n",
    "#     s1, t1 = sample_descriptions.loc[i, [\"Title\", \"tokenize_tag\"]]\n",
    "#     s2, t2 = sample_descriptions.loc[i + 1, [\"Title\", \"tokenize_tag\"]]\n",
    "#     print(s1, s2, (score := util.cos_sim(model.encode(t1), model.encode(t2))), score > 0.75)\n",
    "#     print()"
   ]
  },
  {
   "cell_type": "code",
   "execution_count": 26,
   "metadata": {},
   "outputs": [],
   "source": [
    "# from openTSNE import TSNE\n",
    "# import matplotlib.pyplot as plt"
   ]
  },
  {
   "cell_type": "code",
   "execution_count": 27,
   "metadata": {},
   "outputs": [],
   "source": [
    "# tsne = TSNE(\n",
    "#     perplexity=6.33,\n",
    "#     metric=cosine_similarity,\n",
    "#     random_state=RANDOM_STATE,\n",
    "#     verbose=True,\n",
    "# )\n",
    "\n",
    "# embeddings_tsne = tsne.fit(sample_descriptions[\"tokenize_desc\"])\n",
    "\n",
    "# res = tsne.transform(sample_descriptions[\"tokenize_desc\"])"
   ]
  },
  {
   "cell_type": "code",
   "execution_count": 28,
   "metadata": {},
   "outputs": [],
   "source": [
    "# plt.scatter(res[:, 0], res[:, 1])"
   ]
  }
 ],
 "metadata": {
  "kernelspec": {
   "display_name": "Python 3",
   "language": "python",
   "name": "python3"
  },
  "language_info": {
   "codemirror_mode": {
    "name": "ipython",
    "version": 3
   },
   "file_extension": ".py",
   "mimetype": "text/x-python",
   "name": "python",
   "nbconvert_exporter": "python",
   "pygments_lexer": "ipython3",
   "version": "3.12.1"
  }
 },
 "nbformat": 4,
 "nbformat_minor": 2
}
