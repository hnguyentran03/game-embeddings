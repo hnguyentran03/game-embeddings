{
 "cells": [
  {
   "cell_type": "markdown",
   "metadata": {},
   "source": [
    "# Embedding Models: Steam Game Descriptions"
   ]
  },
  {
   "cell_type": "code",
   "execution_count": 1,
   "metadata": {},
   "outputs": [
    {
     "name": "stderr",
     "output_type": "stream",
     "text": [
      "/Library/Frameworks/Python.framework/Versions/3.12/lib/python3.12/site-packages/sentence_transformers/cross_encoder/CrossEncoder.py:11: TqdmExperimentalWarning: Using `tqdm.autonotebook.tqdm` in notebook mode. Use `tqdm.tqdm` instead to force console mode (e.g. in jupyter console)\n",
      "  from tqdm.autonotebook import tqdm, trange\n"
     ]
    }
   ],
   "source": [
    "import pandas as pd\n",
    "from sentence_transformers import SentenceTransformer, util, evaluation\n",
    "from pyvi.ViTokenizer import tokenize\n",
    "\n",
    "import random\n",
    "RANDOM_STATE = 42\n",
    "random.seed(RANDOM_STATE)"
   ]
  },
  {
   "cell_type": "code",
   "execution_count": 2,
   "metadata": {},
   "outputs": [
    {
     "name": "stderr",
     "output_type": "stream",
     "text": [
      "/Library/Frameworks/Python.framework/Versions/3.12/lib/python3.12/site-packages/huggingface_hub/file_download.py:1132: FutureWarning: `resume_download` is deprecated and will be removed in version 1.0.0. Downloads always resume when possible. If you want to force a new download, use `force_download=True`.\n",
      "  warnings.warn(\n"
     ]
    }
   ],
   "source": [
    "model = SentenceTransformer(\"all-mpnet-base-v2\")"
   ]
  },
  {
   "cell_type": "markdown",
   "metadata": {},
   "source": [
    "## Loading Data"
   ]
  },
  {
   "cell_type": "code",
   "execution_count": 3,
   "metadata": {},
   "outputs": [
    {
     "data": {
      "text/html": [
       "<div>\n",
       "<style scoped>\n",
       "    .dataframe tbody tr th:only-of-type {\n",
       "        vertical-align: middle;\n",
       "    }\n",
       "\n",
       "    .dataframe tbody tr th {\n",
       "        vertical-align: top;\n",
       "    }\n",
       "\n",
       "    .dataframe thead th {\n",
       "        text-align: right;\n",
       "    }\n",
       "</style>\n",
       "<table border=\"1\" class=\"dataframe\">\n",
       "  <thead>\n",
       "    <tr style=\"text-align: right;\">\n",
       "      <th></th>\n",
       "      <th>Title</th>\n",
       "      <th>Original Price</th>\n",
       "      <th>Discounted Price</th>\n",
       "      <th>Release Date</th>\n",
       "      <th>Link</th>\n",
       "      <th>Game Description</th>\n",
       "      <th>Recent Reviews Summary</th>\n",
       "      <th>All Reviews Summary</th>\n",
       "      <th>Recent Reviews Number</th>\n",
       "      <th>All Reviews Number</th>\n",
       "      <th>Developer</th>\n",
       "      <th>Publisher</th>\n",
       "      <th>Supported Languages</th>\n",
       "      <th>Popular Tags</th>\n",
       "      <th>Game Features</th>\n",
       "      <th>Minimum Requirements</th>\n",
       "    </tr>\n",
       "  </thead>\n",
       "  <tbody>\n",
       "    <tr>\n",
       "      <th>0</th>\n",
       "      <td>Baldur's Gate 3</td>\n",
       "      <td>$29.99</td>\n",
       "      <td>$29.99</td>\n",
       "      <td>3 Aug, 2023</td>\n",
       "      <td>https://store.steampowered.com/app/1086940/Bal...</td>\n",
       "      <td>Baldur’s Gate 3 is a story-rich, party-based R...</td>\n",
       "      <td>Overwhelmingly Positive</td>\n",
       "      <td>Very Positive</td>\n",
       "      <td>- 96% of the 128,900 user reviews in the last ...</td>\n",
       "      <td>- 94% of the 188,617 user reviews for this gam...</td>\n",
       "      <td>Larian Studios</td>\n",
       "      <td>Larian Studios</td>\n",
       "      <td>['English', 'French', 'German', 'Spanish - Spa...</td>\n",
       "      <td>['RPG', 'Choices Matter', 'Character Customiza...</td>\n",
       "      <td>['Single-player', 'Online Co-op', 'LAN Co-op',...</td>\n",
       "      <td>Requires a 64-bit processor and operating syst...</td>\n",
       "    </tr>\n",
       "    <tr>\n",
       "      <th>1</th>\n",
       "      <td>Counter-Strike: Global Offensive</td>\n",
       "      <td>$14.99</td>\n",
       "      <td>$14.99</td>\n",
       "      <td>21 Aug, 2012</td>\n",
       "      <td>https://store.steampowered.com/app/730/Counter...</td>\n",
       "      <td>Counter-Strike: Global Offensive (CS: GO) expa...</td>\n",
       "      <td>Very Positive</td>\n",
       "      <td>Very Positive</td>\n",
       "      <td>- 89% of the 75,284 user reviews in the last 3...</td>\n",
       "      <td>- 88% of the 7,428,921 user reviews for this g...</td>\n",
       "      <td>Valve, Hidden Path Entertainment</td>\n",
       "      <td>Valve</td>\n",
       "      <td>['English', 'Czech', 'Danish', 'Dutch', 'Finni...</td>\n",
       "      <td>['FPS', 'Shooter', 'Multiplayer', 'Competitive...</td>\n",
       "      <td>['Steam Achievements', 'Full controller suppor...</td>\n",
       "      <td>OS: |  Windows® 7/Vista/XP | Processor: |  Int...</td>\n",
       "    </tr>\n",
       "    <tr>\n",
       "      <th>2</th>\n",
       "      <td>Apex Legends™</td>\n",
       "      <td>Free</td>\n",
       "      <td>Free</td>\n",
       "      <td>4 Nov, 2020</td>\n",
       "      <td>https://store.steampowered.com/app/1172470/Ape...</td>\n",
       "      <td>Apex Legends is the award-winning, free-to-pla...</td>\n",
       "      <td>Mixed</td>\n",
       "      <td>Very Positive</td>\n",
       "      <td>- 65% of the 18,581 user reviews in the last 3...</td>\n",
       "      <td>- 80% of the 701,597 user reviews for this gam...</td>\n",
       "      <td>Respawn Entertainment</td>\n",
       "      <td>Electronic Arts</td>\n",
       "      <td>['English', 'French', 'Italian', 'German', 'Sp...</td>\n",
       "      <td>['Free to Play', 'Multiplayer', 'Battle Royale...</td>\n",
       "      <td>['Online PvP', 'Online Co-op', 'Steam Achievem...</td>\n",
       "      <td>Requires a 64-bit processor and operating syst...</td>\n",
       "    </tr>\n",
       "    <tr>\n",
       "      <th>3</th>\n",
       "      <td>Forza Horizon 5</td>\n",
       "      <td>$34.78</td>\n",
       "      <td>$17.39</td>\n",
       "      <td>8 Nov, 2021</td>\n",
       "      <td>https://store.steampowered.com/app/1551360/For...</td>\n",
       "      <td>Your Ultimate Horizon Adventure awaits! Explor...</td>\n",
       "      <td>Very Positive</td>\n",
       "      <td>Very Positive</td>\n",
       "      <td>- 87% of the 4,120 user reviews in the last 30...</td>\n",
       "      <td>- 88% of the 123,162 user reviews for this gam...</td>\n",
       "      <td>Playground Games</td>\n",
       "      <td>Xbox Game Studios</td>\n",
       "      <td>['English', 'French', 'Italian', 'German', 'Sp...</td>\n",
       "      <td>['Racing', 'Open World', 'Driving', 'Multiplay...</td>\n",
       "      <td>['Single-player', 'Online PvP', 'Online Co-op'...</td>\n",
       "      <td>Requires a 64-bit processor and operating syst...</td>\n",
       "    </tr>\n",
       "    <tr>\n",
       "      <th>4</th>\n",
       "      <td>Call of Duty®</td>\n",
       "      <td>Free</td>\n",
       "      <td>Free</td>\n",
       "      <td>27 Oct, 2022</td>\n",
       "      <td>https://store.steampowered.com/app/1938090/Cal...</td>\n",
       "      <td>Welcome to Call of Duty® HQ, the home of Call ...</td>\n",
       "      <td>Mixed</td>\n",
       "      <td>Mixed</td>\n",
       "      <td>- 49% of the 8,257 user reviews in the last 30...</td>\n",
       "      <td>- 57% of the 236,876 user reviews for this gam...</td>\n",
       "      <td>Infinity Ward, Raven Software, Beenox, Treyarc...</td>\n",
       "      <td>Activision</td>\n",
       "      <td>['English', 'French', 'Italian', 'German', 'Sp...</td>\n",
       "      <td>['FPS', 'Multiplayer', 'Shooter', 'Action', 'S...</td>\n",
       "      <td>['Single-player', 'Online PvP', 'Online Co-op'...</td>\n",
       "      <td>Requires a 64-bit processor and operating syst...</td>\n",
       "    </tr>\n",
       "  </tbody>\n",
       "</table>\n",
       "</div>"
      ],
      "text/plain": [
       "                              Title Original Price Discounted Price  \\\n",
       "0                   Baldur's Gate 3         $29.99           $29.99   \n",
       "1  Counter-Strike: Global Offensive         $14.99           $14.99   \n",
       "2                     Apex Legends™           Free             Free   \n",
       "3                   Forza Horizon 5         $34.78           $17.39   \n",
       "4                     Call of Duty®           Free             Free   \n",
       "\n",
       "   Release Date                                               Link  \\\n",
       "0   3 Aug, 2023  https://store.steampowered.com/app/1086940/Bal...   \n",
       "1  21 Aug, 2012  https://store.steampowered.com/app/730/Counter...   \n",
       "2   4 Nov, 2020  https://store.steampowered.com/app/1172470/Ape...   \n",
       "3   8 Nov, 2021  https://store.steampowered.com/app/1551360/For...   \n",
       "4  27 Oct, 2022  https://store.steampowered.com/app/1938090/Cal...   \n",
       "\n",
       "                                    Game Description   Recent Reviews Summary  \\\n",
       "0  Baldur’s Gate 3 is a story-rich, party-based R...  Overwhelmingly Positive   \n",
       "1  Counter-Strike: Global Offensive (CS: GO) expa...            Very Positive   \n",
       "2  Apex Legends is the award-winning, free-to-pla...                    Mixed   \n",
       "3  Your Ultimate Horizon Adventure awaits! Explor...            Very Positive   \n",
       "4  Welcome to Call of Duty® HQ, the home of Call ...                    Mixed   \n",
       "\n",
       "  All Reviews Summary                              Recent Reviews Number  \\\n",
       "0       Very Positive  - 96% of the 128,900 user reviews in the last ...   \n",
       "1       Very Positive  - 89% of the 75,284 user reviews in the last 3...   \n",
       "2       Very Positive  - 65% of the 18,581 user reviews in the last 3...   \n",
       "3       Very Positive  - 87% of the 4,120 user reviews in the last 30...   \n",
       "4               Mixed  - 49% of the 8,257 user reviews in the last 30...   \n",
       "\n",
       "                                  All Reviews Number  \\\n",
       "0  - 94% of the 188,617 user reviews for this gam...   \n",
       "1  - 88% of the 7,428,921 user reviews for this g...   \n",
       "2  - 80% of the 701,597 user reviews for this gam...   \n",
       "3  - 88% of the 123,162 user reviews for this gam...   \n",
       "4  - 57% of the 236,876 user reviews for this gam...   \n",
       "\n",
       "                                           Developer          Publisher  \\\n",
       "0                                     Larian Studios     Larian Studios   \n",
       "1                   Valve, Hidden Path Entertainment              Valve   \n",
       "2                              Respawn Entertainment    Electronic Arts   \n",
       "3                                   Playground Games  Xbox Game Studios   \n",
       "4  Infinity Ward, Raven Software, Beenox, Treyarc...         Activision   \n",
       "\n",
       "                                 Supported Languages  \\\n",
       "0  ['English', 'French', 'German', 'Spanish - Spa...   \n",
       "1  ['English', 'Czech', 'Danish', 'Dutch', 'Finni...   \n",
       "2  ['English', 'French', 'Italian', 'German', 'Sp...   \n",
       "3  ['English', 'French', 'Italian', 'German', 'Sp...   \n",
       "4  ['English', 'French', 'Italian', 'German', 'Sp...   \n",
       "\n",
       "                                        Popular Tags  \\\n",
       "0  ['RPG', 'Choices Matter', 'Character Customiza...   \n",
       "1  ['FPS', 'Shooter', 'Multiplayer', 'Competitive...   \n",
       "2  ['Free to Play', 'Multiplayer', 'Battle Royale...   \n",
       "3  ['Racing', 'Open World', 'Driving', 'Multiplay...   \n",
       "4  ['FPS', 'Multiplayer', 'Shooter', 'Action', 'S...   \n",
       "\n",
       "                                       Game Features  \\\n",
       "0  ['Single-player', 'Online Co-op', 'LAN Co-op',...   \n",
       "1  ['Steam Achievements', 'Full controller suppor...   \n",
       "2  ['Online PvP', 'Online Co-op', 'Steam Achievem...   \n",
       "3  ['Single-player', 'Online PvP', 'Online Co-op'...   \n",
       "4  ['Single-player', 'Online PvP', 'Online Co-op'...   \n",
       "\n",
       "                                Minimum Requirements  \n",
       "0  Requires a 64-bit processor and operating syst...  \n",
       "1  OS: |  Windows® 7/Vista/XP | Processor: |  Int...  \n",
       "2  Requires a 64-bit processor and operating syst...  \n",
       "3  Requires a 64-bit processor and operating syst...  \n",
       "4  Requires a 64-bit processor and operating syst...  "
      ]
     },
     "execution_count": 3,
     "metadata": {},
     "output_type": "execute_result"
    }
   ],
   "source": [
    "game_df = pd.read_csv(\"steam_games.csv\")\n",
    "game_df.head(5)"
   ]
  },
  {
   "cell_type": "code",
   "execution_count": 4,
   "metadata": {},
   "outputs": [],
   "source": [
    "game_df.drop_duplicates(\"Title\", inplace=True)\n",
    "game_df[\"Game Description\"] = game_df[\"Game Description\"].astype(str)\n",
    "\n",
    "sample_descriptions = game_df[[\"Title\", \"Game Description\", \"Popular Tags\"]].head(100).reset_index()"
   ]
  },
  {
   "cell_type": "code",
   "execution_count": 5,
   "metadata": {},
   "outputs": [],
   "source": [
    "def deacronym(tags):\n",
    "    new_tags = []\n",
    "    for tag in tags:\n",
    "        match tag.split():\n",
    "            case [\"MMORPG\"]:\n",
    "                new_tag = \"Massively Multiplayer Online Role-Playing Game\"\n",
    "            case [s1, \"RPG\", s2]:\n",
    "                new_tag = s1.strip() + \" Role-Playing Game \" + s2.strip()\n",
    "            case [\"RPG\"]:\n",
    "                new_tag = \"Role-Playing Game\"\n",
    "            case [\"FPS\"]:\n",
    "                new_tag = \"First Person Shooter\"\n",
    "            case [\"Sci-fi\"]:\n",
    "                new_tag = \"Science Fiction\"\n",
    "            case [\"PvP\"]:\n",
    "                new_tag = \"Player versus Player\"\n",
    "            case [\"PvE\"]:\n",
    "                new_tag = \"Player versus Entity\"\n",
    "            case [\"MOBA\"]:\n",
    "                new_tag = \"Multiplayer Online Battle Arena Video Games\"\n",
    "            case _:\n",
    "                new_tag = tag\n",
    "        new_tags.append(new_tag)\n",
    "    return new_tags"
   ]
  },
  {
   "cell_type": "code",
   "execution_count": 6,
   "metadata": {},
   "outputs": [],
   "source": [
    "from ast import literal_eval\n",
    "\n",
    "# Combines descriptions and tags for each game\n",
    "for idx, (tag, desc) in enumerate(zip(sample_descriptions[\"Popular Tags\"], sample_descriptions[\"Game Description\"])):\n",
    "    tag = deacronym(literal_eval(tag))\n",
    "    if \"Free to Play\" in tag:\n",
    "        tag.remove(\"Free to Play\")\n",
    "    if \"Early Access\" in tag:\n",
    "        tag.remove(\"Early Access\")\n",
    "    if \"Online Co-Op\" in tag:\n",
    "        tag.remove(\"Online Co-Op\")\n",
    "    if \"Co-op\" in tag:\n",
    "        tag.remove(\"Co-op\")\n",
    "\n",
    "    tag = \", \".join(tag[:7])\n",
    "\n",
    "    sample_descriptions.loc[idx, \"Popular Tags\"] = tag\n",
    "    sample_descriptions.loc[idx, \"Description and Tags\"] = desc + \" \" + tag"
   ]
  },
  {
   "cell_type": "code",
   "execution_count": 7,
   "metadata": {},
   "outputs": [
    {
     "data": {
      "text/html": [
       "<div>\n",
       "<style scoped>\n",
       "    .dataframe tbody tr th:only-of-type {\n",
       "        vertical-align: middle;\n",
       "    }\n",
       "\n",
       "    .dataframe tbody tr th {\n",
       "        vertical-align: top;\n",
       "    }\n",
       "\n",
       "    .dataframe thead th {\n",
       "        text-align: right;\n",
       "    }\n",
       "</style>\n",
       "<table border=\"1\" class=\"dataframe\">\n",
       "  <thead>\n",
       "    <tr style=\"text-align: right;\">\n",
       "      <th></th>\n",
       "      <th>index</th>\n",
       "      <th>Title</th>\n",
       "      <th>Game Description</th>\n",
       "      <th>Popular Tags</th>\n",
       "      <th>Description and Tags</th>\n",
       "    </tr>\n",
       "  </thead>\n",
       "  <tbody>\n",
       "    <tr>\n",
       "      <th>0</th>\n",
       "      <td>0</td>\n",
       "      <td>Baldur's Gate 3</td>\n",
       "      <td>Baldur’s Gate 3 is a story-rich, party-based RPG set in the universe of Dungeons &amp; Dragons, where your choices shape a tale of fellowship and betrayal, survival and sacrifice, and the lure of absolute power.</td>\n",
       "      <td>Role-Playing Game, Choices Matter, Character Customization, Story Rich, Adventure, CRPG, Multiplayer</td>\n",
       "      <td>Baldur’s Gate 3 is a story-rich, party-based RPG set in the universe of Dungeons &amp; Dragons, where your choices shape a tale of fellowship and betrayal, survival and sacrifice, and the lure of absolute power. Role-Playing Game, Choices Matter, Character Customization, Story Rich, Adventure, CRPG, Multiplayer</td>\n",
       "    </tr>\n",
       "    <tr>\n",
       "      <th>1</th>\n",
       "      <td>1</td>\n",
       "      <td>Counter-Strike: Global Offensive</td>\n",
       "      <td>Counter-Strike: Global Offensive (CS: GO) expands upon the team-based action gameplay that it pioneered when it was launched 19 years ago. CS: GO features new maps, characters, weapons, and game modes, and delivers updated versions of the classic CS content (de_dust2, etc.).</td>\n",
       "      <td>First Person Shooter, Shooter, Multiplayer, Competitive, Action, Team-Based, eSports</td>\n",
       "      <td>Counter-Strike: Global Offensive (CS: GO) expands upon the team-based action gameplay that it pioneered when it was launched 19 years ago. CS: GO features new maps, characters, weapons, and game modes, and delivers updated versions of the classic CS content (de_dust2, etc.). First Person Shooter, Shooter, Multiplayer, Competitive, Action, Team-Based, eSports</td>\n",
       "    </tr>\n",
       "    <tr>\n",
       "      <th>2</th>\n",
       "      <td>2</td>\n",
       "      <td>Apex Legends™</td>\n",
       "      <td>Apex Legends is the award-winning, free-to-play Hero Shooter from Respawn Entertainment. Master an ever-growing roster of legendary characters with powerful abilities, and experience strategic squad play and innovative gameplay in the next evolution of Hero Shooter and Battle Royale.</td>\n",
       "      <td>Multiplayer, Battle Royale, Shooter, First Person Shooter, First-Person, Player versus Player, Action</td>\n",
       "      <td>Apex Legends is the award-winning, free-to-play Hero Shooter from Respawn Entertainment. Master an ever-growing roster of legendary characters with powerful abilities, and experience strategic squad play and innovative gameplay in the next evolution of Hero Shooter and Battle Royale. Multiplayer, Battle Royale, Shooter, First Person Shooter, First-Person, Player versus Player, Action</td>\n",
       "    </tr>\n",
       "    <tr>\n",
       "      <th>3</th>\n",
       "      <td>3</td>\n",
       "      <td>Forza Horizon 5</td>\n",
       "      <td>Your Ultimate Horizon Adventure awaits! Explore the vibrant open world landscapes of Mexico with limitless, fun driving action in the world’s greatest cars. Conquer the rugged Sierra Nueva in the ultimate Horizon Rally experience. Requires Forza Horizon 5 game, expansion sold separately.</td>\n",
       "      <td>Racing, Open World, Driving, Multiplayer, Automobile Sim, Realistic, Adventure</td>\n",
       "      <td>Your Ultimate Horizon Adventure awaits! Explore the vibrant open world landscapes of Mexico with limitless, fun driving action in the world’s greatest cars. Conquer the rugged Sierra Nueva in the ultimate Horizon Rally experience. Requires Forza Horizon 5 game, expansion sold separately. Racing, Open World, Driving, Multiplayer, Automobile Sim, Realistic, Adventure</td>\n",
       "    </tr>\n",
       "    <tr>\n",
       "      <th>4</th>\n",
       "      <td>4</td>\n",
       "      <td>Call of Duty®</td>\n",
       "      <td>Welcome to Call of Duty® HQ, the home of Call of Duty®: Modern Warfare® III, Call of Duty®: Modern Warfare® II and Warzone™.</td>\n",
       "      <td>First Person Shooter, Multiplayer, Shooter, Action, Singleplayer, Military, First-Person</td>\n",
       "      <td>Welcome to Call of Duty® HQ, the home of Call of Duty®: Modern Warfare® III, Call of Duty®: Modern Warfare® II and Warzone™. First Person Shooter, Multiplayer, Shooter, Action, Singleplayer, Military, First-Person</td>\n",
       "    </tr>\n",
       "    <tr>\n",
       "      <th>...</th>\n",
       "      <td>...</td>\n",
       "      <td>...</td>\n",
       "      <td>...</td>\n",
       "      <td>...</td>\n",
       "      <td>...</td>\n",
       "    </tr>\n",
       "    <tr>\n",
       "      <th>95</th>\n",
       "      <td>95</td>\n",
       "      <td>Valheim</td>\n",
       "      <td>A brutal exploration and survival game for 1-10 players, set in a procedurally-generated purgatory inspired by viking culture. Battle, build, and conquer your way to a saga worthy of Odin’s patronage!</td>\n",
       "      <td>Open World Survival Craft, Survival, Open World, Multiplayer, Building, Crafting, Exploration</td>\n",
       "      <td>A brutal exploration and survival game for 1-10 players, set in a procedurally-generated purgatory inspired by viking culture. Battle, build, and conquer your way to a saga worthy of Odin’s patronage! Open World Survival Craft, Survival, Open World, Multiplayer, Building, Crafting, Exploration</td>\n",
       "    </tr>\n",
       "    <tr>\n",
       "      <th>96</th>\n",
       "      <td>96</td>\n",
       "      <td>Guild Wars 2</td>\n",
       "      <td>Guild Wars 2 is an award-winning online roleplaying game with fast-paced action combat, deep character customization, and no subscription fee required. Choose from an arsenal of professions and weapons, explore a vast open world, compete in PVP modes and more. Join over 16 million players now!</td>\n",
       "      <td>Massively Multiplayer Online Role-Playing Game, Adventure, Role-Playing Game, Fantasy, Character Customization, Third Person, 3D</td>\n",
       "      <td>Guild Wars 2 is an award-winning online roleplaying game with fast-paced action combat, deep character customization, and no subscription fee required. Choose from an arsenal of professions and weapons, explore a vast open world, compete in PVP modes and more. Join over 16 million players now! Massively Multiplayer Online Role-Playing Game, Adventure, Role-Playing Game, Fantasy, Character Customization, Third Person, 3D</td>\n",
       "    </tr>\n",
       "    <tr>\n",
       "      <th>97</th>\n",
       "      <td>97</td>\n",
       "      <td>Dying Light</td>\n",
       "      <td>First-person action survival game set in a post-apocalyptic open world overrun by flesh-hungry zombies. Roam a city devastated by a mysterious virus epidemic. Scavenge for supplies, craft weapons, and face hordes of the infected.</td>\n",
       "      <td>Zombies, Survival Horror, Horror, Open World, Parkour, First-Person, Survival</td>\n",
       "      <td>First-person action survival game set in a post-apocalyptic open world overrun by flesh-hungry zombies. Roam a city devastated by a mysterious virus epidemic. Scavenge for supplies, craft weapons, and face hordes of the infected. Zombies, Survival Horror, Horror, Open World, Parkour, First-Person, Survival</td>\n",
       "    </tr>\n",
       "    <tr>\n",
       "      <th>98</th>\n",
       "      <td>98</td>\n",
       "      <td>BlazBlue Entropy Effect</td>\n",
       "      <td>Experience the brilliant action combat gameplay! The pinnacle of roguelite action games!</td>\n",
       "      <td>Action Roguelike, Action-Adventure, Platformer, Metroidvania, Pixel Graphics, Replay Value, Procedural Generation</td>\n",
       "      <td>Experience the brilliant action combat gameplay! The pinnacle of roguelite action games! Action Roguelike, Action-Adventure, Platformer, Metroidvania, Pixel Graphics, Replay Value, Procedural Generation</td>\n",
       "    </tr>\n",
       "    <tr>\n",
       "      <th>99</th>\n",
       "      <td>99</td>\n",
       "      <td>Marvel’s Spider-Man Remastered</td>\n",
       "      <td>In Marvel’s Spider-Man Remastered, the worlds of Peter Parker and Spider-Man collide in an original action-packed story. Play as an experienced Peter Parker, fighting big crime and iconic villains in Marvel’s New York. Web-swing through vibrant neighborhoods and defeat villains with epic takedowns.</td>\n",
       "      <td>Superhero, Open World, Action, Singleplayer, Story Rich, Adventure, Combat</td>\n",
       "      <td>In Marvel’s Spider-Man Remastered, the worlds of Peter Parker and Spider-Man collide in an original action-packed story. Play as an experienced Peter Parker, fighting big crime and iconic villains in Marvel’s New York. Web-swing through vibrant neighborhoods and defeat villains with epic takedowns. Superhero, Open World, Action, Singleplayer, Story Rich, Adventure, Combat</td>\n",
       "    </tr>\n",
       "  </tbody>\n",
       "</table>\n",
       "<p>100 rows × 5 columns</p>\n",
       "</div>"
      ],
      "text/plain": [
       "    index                             Title  \\\n",
       "0       0                   Baldur's Gate 3   \n",
       "1       1  Counter-Strike: Global Offensive   \n",
       "2       2                     Apex Legends™   \n",
       "3       3                   Forza Horizon 5   \n",
       "4       4                     Call of Duty®   \n",
       "..    ...                               ...   \n",
       "95     95                           Valheim   \n",
       "96     96                      Guild Wars 2   \n",
       "97     97                       Dying Light   \n",
       "98     98           BlazBlue Entropy Effect   \n",
       "99     99    Marvel’s Spider-Man Remastered   \n",
       "\n",
       "                                                                                                                                                                                                                                                                                               Game Description  \\\n",
       "0                                                                                               Baldur’s Gate 3 is a story-rich, party-based RPG set in the universe of Dungeons & Dragons, where your choices shape a tale of fellowship and betrayal, survival and sacrifice, and the lure of absolute power.   \n",
       "1                           Counter-Strike: Global Offensive (CS: GO) expands upon the team-based action gameplay that it pioneered when it was launched 19 years ago. CS: GO features new maps, characters, weapons, and game modes, and delivers updated versions of the classic CS content (de_dust2, etc.).   \n",
       "2                  Apex Legends is the award-winning, free-to-play Hero Shooter from Respawn Entertainment. Master an ever-growing roster of legendary characters with powerful abilities, and experience strategic squad play and innovative gameplay in the next evolution of Hero Shooter and Battle Royale.   \n",
       "3              Your Ultimate Horizon Adventure awaits! Explore the vibrant open world landscapes of Mexico with limitless, fun driving action in the world’s greatest cars. Conquer the rugged Sierra Nueva in the ultimate Horizon Rally experience. Requires Forza Horizon 5 game, expansion sold separately.   \n",
       "4                                                                                                                                                                                  Welcome to Call of Duty® HQ, the home of Call of Duty®: Modern Warfare® III, Call of Duty®: Modern Warfare® II and Warzone™.   \n",
       "..                                                                                                                                                                                                                                                                                                          ...   \n",
       "95                                                                                                     A brutal exploration and survival game for 1-10 players, set in a procedurally-generated purgatory inspired by viking culture. Battle, build, and conquer your way to a saga worthy of Odin’s patronage!   \n",
       "96       Guild Wars 2 is an award-winning online roleplaying game with fast-paced action combat, deep character customization, and no subscription fee required. Choose from an arsenal of professions and weapons, explore a vast open world, compete in PVP modes and more. Join over 16 million players now!   \n",
       "97                                                                        First-person action survival game set in a post-apocalyptic open world overrun by flesh-hungry zombies. Roam a city devastated by a mysterious virus epidemic. Scavenge for supplies, craft weapons, and face hordes of the infected.   \n",
       "98                                                                                                                                                                                                                     Experience the brilliant action combat gameplay! The pinnacle of roguelite action games!   \n",
       "99  In Marvel’s Spider-Man Remastered, the worlds of Peter Parker and Spider-Man collide in an original action-packed story. Play as an experienced Peter Parker, fighting big crime and iconic villains in Marvel’s New York. Web-swing through vibrant neighborhoods and defeat villains with epic takedowns.   \n",
       "\n",
       "                                                                                                                        Popular Tags  \\\n",
       "0                               Role-Playing Game, Choices Matter, Character Customization, Story Rich, Adventure, CRPG, Multiplayer   \n",
       "1                                               First Person Shooter, Shooter, Multiplayer, Competitive, Action, Team-Based, eSports   \n",
       "2                              Multiplayer, Battle Royale, Shooter, First Person Shooter, First-Person, Player versus Player, Action   \n",
       "3                                                     Racing, Open World, Driving, Multiplayer, Automobile Sim, Realistic, Adventure   \n",
       "4                                           First Person Shooter, Multiplayer, Shooter, Action, Singleplayer, Military, First-Person   \n",
       "..                                                                                                                               ...   \n",
       "95                                     Open World Survival Craft, Survival, Open World, Multiplayer, Building, Crafting, Exploration   \n",
       "96  Massively Multiplayer Online Role-Playing Game, Adventure, Role-Playing Game, Fantasy, Character Customization, Third Person, 3D   \n",
       "97                                                     Zombies, Survival Horror, Horror, Open World, Parkour, First-Person, Survival   \n",
       "98                 Action Roguelike, Action-Adventure, Platformer, Metroidvania, Pixel Graphics, Replay Value, Procedural Generation   \n",
       "99                                                        Superhero, Open World, Action, Singleplayer, Story Rich, Adventure, Combat   \n",
       "\n",
       "                                                                                                                                                                                                                                                                                                                                                                                                                       Description and Tags  \n",
       "0                                                                                                                      Baldur’s Gate 3 is a story-rich, party-based RPG set in the universe of Dungeons & Dragons, where your choices shape a tale of fellowship and betrayal, survival and sacrifice, and the lure of absolute power. Role-Playing Game, Choices Matter, Character Customization, Story Rich, Adventure, CRPG, Multiplayer  \n",
       "1                                                                  Counter-Strike: Global Offensive (CS: GO) expands upon the team-based action gameplay that it pioneered when it was launched 19 years ago. CS: GO features new maps, characters, weapons, and game modes, and delivers updated versions of the classic CS content (de_dust2, etc.). First Person Shooter, Shooter, Multiplayer, Competitive, Action, Team-Based, eSports  \n",
       "2                                        Apex Legends is the award-winning, free-to-play Hero Shooter from Respawn Entertainment. Master an ever-growing roster of legendary characters with powerful abilities, and experience strategic squad play and innovative gameplay in the next evolution of Hero Shooter and Battle Royale. Multiplayer, Battle Royale, Shooter, First Person Shooter, First-Person, Player versus Player, Action  \n",
       "3                                                           Your Ultimate Horizon Adventure awaits! Explore the vibrant open world landscapes of Mexico with limitless, fun driving action in the world’s greatest cars. Conquer the rugged Sierra Nueva in the ultimate Horizon Rally experience. Requires Forza Horizon 5 game, expansion sold separately. Racing, Open World, Driving, Multiplayer, Automobile Sim, Realistic, Adventure  \n",
       "4                                                                                                                                                                                                                     Welcome to Call of Duty® HQ, the home of Call of Duty®: Modern Warfare® III, Call of Duty®: Modern Warfare® II and Warzone™. First Person Shooter, Multiplayer, Shooter, Action, Singleplayer, Military, First-Person  \n",
       "..                                                                                                                                                                                                                                                                                                                                                                                                                                      ...  \n",
       "95                                                                                                                                   A brutal exploration and survival game for 1-10 players, set in a procedurally-generated purgatory inspired by viking culture. Battle, build, and conquer your way to a saga worthy of Odin’s patronage! Open World Survival Craft, Survival, Open World, Multiplayer, Building, Crafting, Exploration  \n",
       "96  Guild Wars 2 is an award-winning online roleplaying game with fast-paced action combat, deep character customization, and no subscription fee required. Choose from an arsenal of professions and weapons, explore a vast open world, compete in PVP modes and more. Join over 16 million players now! Massively Multiplayer Online Role-Playing Game, Adventure, Role-Playing Game, Fantasy, Character Customization, Third Person, 3D  \n",
       "97                                                                                                                      First-person action survival game set in a post-apocalyptic open world overrun by flesh-hungry zombies. Roam a city devastated by a mysterious virus epidemic. Scavenge for supplies, craft weapons, and face hordes of the infected. Zombies, Survival Horror, Horror, Open World, Parkour, First-Person, Survival  \n",
       "98                                                                                                                                                                                                                               Experience the brilliant action combat gameplay! The pinnacle of roguelite action games! Action Roguelike, Action-Adventure, Platformer, Metroidvania, Pixel Graphics, Replay Value, Procedural Generation  \n",
       "99                                                   In Marvel’s Spider-Man Remastered, the worlds of Peter Parker and Spider-Man collide in an original action-packed story. Play as an experienced Peter Parker, fighting big crime and iconic villains in Marvel’s New York. Web-swing through vibrant neighborhoods and defeat villains with epic takedowns. Superhero, Open World, Action, Singleplayer, Story Rich, Adventure, Combat  \n",
       "\n",
       "[100 rows x 5 columns]"
      ]
     },
     "execution_count": 7,
     "metadata": {},
     "output_type": "execute_result"
    }
   ],
   "source": [
    "# Ideas:\n",
    "# ngrams\n",
    "# train better lmao\n",
    "\n",
    "pd.set_option('display.max_colwidth', None)\n",
    "sample_descriptions"
   ]
  },
  {
   "cell_type": "code",
   "execution_count": 8,
   "metadata": {},
   "outputs": [],
   "source": [
    "sample_descriptions[\"tokenize_desc\"] = sample_descriptions[\"Game Description\"].apply(tokenize)\n",
    "\n",
    "sample_descriptions[\"tokenize_tag\"] = sample_descriptions[\"Popular Tags\"].apply(tokenize)\n",
    "\n",
    "sample_descriptions[\"tokenize_desc_tag\"] = sample_descriptions[\"Description and Tags\"].apply(tokenize)"
   ]
  },
  {
   "cell_type": "markdown",
   "metadata": {},
   "source": [
    "## Visualization"
   ]
  },
  {
   "cell_type": "markdown",
   "metadata": {},
   "source": [
    "Checking cosine similarity of tags."
   ]
  },
  {
   "cell_type": "code",
   "execution_count": 9,
   "metadata": {},
   "outputs": [],
   "source": [
    "# for i in range(10):\n",
    "#     s1, t1 = sample_descriptions.loc[i, [\"Title\", \"tokenize_tag\"]]\n",
    "#     s2, t2 = sample_descriptions.loc[i + 1, [\"Title\", \"tokenize_tag\"]]\n",
    "#     print(s1 + \" | \" + s2 + \" | \" + str(int(util.cos_sim(model.encode(t1), model.encode(t2)))))\n",
    "#     print()"
   ]
  },
  {
   "cell_type": "code",
   "execution_count": 10,
   "metadata": {},
   "outputs": [],
   "source": [
    "from sklearn.cluster import KMeans\n",
    "from sklearn.decomposition import PCA\n",
    "import numpy as np\n",
    "import pandas as pd\n",
    "import plotly.express as px"
   ]
  },
  {
   "cell_type": "code",
   "execution_count": 11,
   "metadata": {},
   "outputs": [],
   "source": [
    "def clustering(embeddings, num_clusters):\n",
    "    model = KMeans(n_clusters=num_clusters, random_state=RANDOM_STATE)\n",
    "    model.fit(embeddings)\n",
    "    return model.labels_\n",
    "\n",
    "def visualization(descriptions, embeddings, n_cluster=6):\n",
    "    X = np.array(embeddings)\n",
    "    pca = PCA(n_components=3, random_state=RANDOM_STATE)\n",
    "    result = pca.fit_transform(X)\n",
    "    df = pd.DataFrame({\n",
    "    'sent': descriptions[\"Title\"],\n",
    "    'cluster': clustering(embeddings, n_cluster).astype(str),\n",
    "    'x': result[:, 0],\n",
    "    'y': result[:, 1],\n",
    "    'z': result[:, 2]\n",
    "    })\n",
    "    fig = px.scatter_3d(df, x='x', y='y', z='z',\n",
    "              color='cluster', hover_name='sent',\n",
    "              range_x = [df.x.min()-0.5, df.x.max()+0.5],\n",
    "              range_y = [df.y.min()-0.5, df.y.max()+0.5],\n",
    "              range_z = [df.z.min()-0.5, df.z.max()+0.5])\n",
    "    fig.update_layout(\n",
    "    width=1280,   # Set the desired width\n",
    "    height=720   # Set the desired height\n",
    "    )\n",
    "    fig.update_traces(hovertemplate= '<b>%{hovertext}</b>')\n",
    "    fig.show()\n",
    "\n",
    "def visualize(model, df, col, n_cluster=6):\n",
    "    embeddings = model.encode(df[col].to_numpy())\n",
    "    visualization(df, embeddings, n_cluster)"
   ]
  },
  {
   "cell_type": "markdown",
   "metadata": {},
   "source": [
    "### Visualizing Descriptions"
   ]
  },
  {
   "cell_type": "code",
   "execution_count": 12,
   "metadata": {},
   "outputs": [
    {
     "name": "stderr",
     "output_type": "stream",
     "text": [
      "/Library/Frameworks/Python.framework/Versions/3.12/lib/python3.12/site-packages/transformers/models/mpnet/modeling_mpnet.py:1052: UserWarning: cumsum_out_mps supported by MPS on MacOS 13+, please upgrade (Triggered internally at /Users/runner/work/pytorch/pytorch/pytorch/aten/src/ATen/native/mps/operations/UnaryOps.mm:422.)\n",
      "  incremental_indices = torch.cumsum(mask, dim=1).type_as(mask) * mask\n",
      "/Library/Frameworks/Python.framework/Versions/3.12/lib/python3.12/site-packages/sklearn/cluster/_kmeans.py:1416: FutureWarning: The default value of `n_init` will change from 10 to 'auto' in 1.4. Set the value of `n_init` explicitly to suppress the warning\n",
      "  super()._check_params_vs_input(X, default_n_init=10)\n",
      "huggingface/tokenizers: The current process just got forked, after parallelism has already been used. Disabling parallelism to avoid deadlocks...\n",
      "To disable this warning, you can either:\n",
      "\t- Avoid using `tokenizers` before the fork if possible\n",
      "\t- Explicitly set the environment variable TOKENIZERS_PARALLELISM=(true | false)\n"
     ]
    },
    {
     "data": {
      "application/vnd.plotly.v1+json": {
       "config": {
        "plotlyServerURL": "https://plot.ly"
       },
       "data": [
        {
         "hovertemplate": "<b>%{hovertext}</b>",
         "hovertext": [
          "Baldur's Gate 3",
          "Counter-Strike: Global Offensive",
          "Apex Legends™",
          "PUBG: BATTLEGROUNDS",
          "Remnant II",
          "NARAKA: BLADEPOINT",
          "Tom Clancy's Rainbow Six® Siege",
          "Team Fortress 2",
          "Dota 2",
          "War Thunder",
          "FINAL FANTASY XIV Online",
          "The Elder Scrolls® Online",
          "Warframe",
          "BattleBit Remastered",
          "Street Fighter™ 6",
          "Destiny 2",
          "ELDEN RING",
          "Hearts of Iron IV",
          "Yu-Gi-Oh! Master Duel",
          "World of Warships",
          "Red Dead Redemption 2",
          "Hunt: Showdown",
          "Hogwarts Legacy",
          "Ready or Not",
          "Mount & Blade II: Bannerlord",
          "Sengoku Dynasty",
          "Wayfinder",
          "ARMORED CORE™ VI FIRES OF RUBICON™",
          "Path of Exile",
          "Terraria",
          "Stellaris",
          "Deep Rock Galactic",
          "World of Tanks Blitz",
          "Ratchet & Clank: Rift Apart",
          "Eternal Return",
          "The Elder Scrolls V: Skyrim Special Edition",
          "It Takes Two",
          "The Binding of Isaac: Rebirth",
          "Brawlhalla",
          "DRAGON BALL Z: KAKAROT",
          "New World",
          "Guild Wars 2",
          "BlazBlue Entropy Effect",
          "Marvel’s Spider-Man Remastered"
         ],
         "legendgroup": "1",
         "marker": {
          "color": "#636efa",
          "symbol": "circle"
         },
         "mode": "markers",
         "name": "1",
         "scene": "scene",
         "showlegend": true,
         "type": "scatter3d",
         "x": [
          -0.0678412914276123,
          0.2957114279270172,
          0.1392422765493393,
          0.19939671456813812,
          -0.14061543345451355,
          0.17176192998886108,
          0.10440050810575485,
          0.19225753843784332,
          0.24021314084529877,
          0.24282220005989075,
          0.05642426386475563,
          0.01722433604300022,
          0.06192335486412048,
          0.14649701118469238,
          0.3593868911266327,
          0.04868922755122185,
          -0.05439939349889755,
          0.06312134861946106,
          0.1459769457578659,
          0.1911582201719284,
          -0.015436805784702301,
          -0.00919900182634592,
          0.010172626934945583,
          0.02528320997953415,
          0.02003096044063568,
          -0.13577117025852203,
          -0.03407392278313637,
          0.1773960292339325,
          -0.16023749113082886,
          -0.0734279453754425,
          0.09548406302928925,
          0.01833490841090679,
          0.13605447113513947,
          0.05884268134832382,
          0.014113903045654297,
          0.15511715412139893,
          -0.04400109499692917,
          -0.08068976551294327,
          0.19415046274662018,
          0.1612798124551773,
          -0.1883331537246704,
          0.1792229413986206,
          0.07149559259414673,
          0.11692167073488235
         ],
         "y": [
          -0.18650071322917938,
          -0.05453832820057869,
          -0.17653368413448334,
          -0.13556253910064697,
          -0.21531251072883606,
          -0.29125723242759705,
          -0.06992336362600327,
          -0.12162377685308456,
          -0.09462898224592209,
          -0.14586086571216583,
          -0.23200909793376923,
          -0.3254188001155853,
          -0.40813905000686646,
          -0.10926893353462219,
          0.051289550960063934,
          -0.24143919348716736,
          -0.3251866102218628,
          -0.1584431231021881,
          -0.1519172638654709,
          -0.03757728263735771,
          -0.02938258834183216,
          0.01767067238688469,
          -0.16320140659809113,
          0.19931960105895996,
          -0.32810258865356445,
          -0.2016787827014923,
          -0.2501969039440155,
          -0.18634717166423798,
          -0.27328139543533325,
          -0.1448783129453659,
          -0.16226932406425476,
          -0.13722527027130127,
          -0.11680116504430771,
          -0.060049571096897125,
          -0.19613827764987946,
          -0.04684050753712654,
          -0.06293470412492752,
          -0.2197016328573227,
          -0.3095022737979889,
          -0.06951682269573212,
          -0.2731248438358307,
          -0.28546154499053955,
          -0.23320278525352478,
          -0.0010443705832585692
         ],
         "z": [
          0.11905774474143982,
          -0.14644397795200348,
          -0.2687044143676758,
          -0.17756769061088562,
          -0.17509222030639648,
          -0.029638024047017097,
          -0.24844767153263092,
          0.050846509635448456,
          -0.03488441929221153,
          -0.11906778067350388,
          0.27435263991355896,
          0.02944062277674675,
          -0.08751648664474487,
          -0.27393364906311035,
          -0.19838561117649078,
          -0.16290335357189178,
          0.29583773016929626,
          0.15663163363933563,
          -0.1445743590593338,
          0.1326719969511032,
          -0.1511535495519638,
          -0.3209457993507385,
          0.10482987016439438,
          -0.25134193897247314,
          0.16431058943271637,
          0.19021746516227722,
          0.1943596452474594,
          0.03150208294391632,
          0.1629427820444107,
          0.11884094029664993,
          0.14451175928115845,
          -0.1606919914484024,
          0.17877867817878723,
          -0.04507101699709892,
          -0.044336799532175064,
          0.06244105100631714,
          -0.059509675949811935,
          0.043337780982255936,
          -0.153655543923378,
          -0.04143339395523071,
          0.14491184055805206,
          -0.07208246737718582,
          0.0737503245472908,
          -0.2645845413208008
         ]
        },
        {
         "hovertemplate": "<b>%{hovertext}</b>",
         "hovertext": [
          "Forza Horizon 5",
          "The Sims™ 4",
          "Farming Simulator 22",
          "Cities: Skylines",
          "Microsoft Flight Simulator 40th Anniversary Edition",
          "BeamNG.drive",
          "Planet Zoo",
          "Garry's Mod"
         ],
         "legendgroup": "2",
         "marker": {
          "color": "#EF553B",
          "symbol": "circle"
         },
         "mode": "markers",
         "name": "2",
         "scene": "scene",
         "showlegend": true,
         "type": "scatter3d",
         "x": [
          0.305023729801178,
          0.039264384657144547,
          -0.13959196209907532,
          0.1432095170021057,
          0.3124922215938568,
          0.23575100302696228,
          0.04484036564826965,
          0.12141706049442291
         ],
         "y": [
          0.35577401518821716,
          0.1139487773180008,
          0.23495861887931824,
          0.1484752744436264,
          0.18073052167892456,
          0.425067275762558,
          0.2379039227962494,
          0.2281331866979599
         ],
         "z": [
          0.0019574835896492004,
          0.19028255343437195,
          0.3350399434566498,
          -0.04307563975453377,
          0.005112085957080126,
          0.10684213787317276,
          0.1401263177394867,
          0.2624736428260803
         ]
        },
        {
         "hovertemplate": "<b>%{hovertext}</b>",
         "hovertext": [
          "Call of Duty®",
          "Dead by Daylight",
          "PAYDAY 2",
          "Project Zomboid",
          "Fallout 76",
          "Call of Duty®: Black Ops III",
          "Dead Cells",
          "Vampire Survivors",
          "DayZ",
          "Dying Light"
         ],
         "legendgroup": "6",
         "marker": {
          "color": "#00cc96",
          "symbol": "circle"
         },
         "mode": "markers",
         "name": "6",
         "scene": "scene",
         "showlegend": true,
         "type": "scatter3d",
         "x": [
          0.13016976416110992,
          -0.21878668665885925,
          -0.015529077500104904,
          -0.327827125787735,
          -0.11449790000915527,
          -0.027858277782797813,
          -0.16041229665279388,
          -0.3276771605014801,
          -0.33902642130851746,
          -0.28331679105758667
         ],
         "y": [
          0.004868313204497099,
          0.10863953083753586,
          0.080257847905159,
          0.17181217670440674,
          0.05207819491624832,
          0.05352906510233879,
          0.009714570827782154,
          0.0665295422077179,
          0.14774970710277557,
          0.07997068762779236
         ],
         "z": [
          -0.1717480570077896,
          -0.2914808392524719,
          -0.44523540139198303,
          -0.1579202562570572,
          -0.19510307908058167,
          -0.2902434766292572,
          -0.12448515743017197,
          -0.22534987330436707,
          -0.20857639610767365,
          -0.25786346197128296
         ]
        },
        {
         "hovertemplate": "<b>%{hovertext}</b>",
         "hovertext": [
          "Cyberpunk 2077",
          "Rust",
          "Phasmophobia",
          "DAVE THE DIVER",
          "Sons Of The Forest",
          "The Texas Chain Saw Massacre",
          "Raft",
          "Sea of Thieves 2023 Edition",
          "Metro Exodus",
          "RimWorld",
          "ARK: Survival Evolved",
          "SCP: 5K",
          "Shadow Gambit: The Cursed Crew",
          "theHunter: Call of the Wild™",
          "Darkest Dungeon® II",
          "Graveyard Keeper",
          "Escape the Backrooms",
          "Don't Starve Together",
          "BOOK OF HOURS",
          "Valheim"
         ],
         "legendgroup": "7",
         "marker": {
          "color": "#ab63fa",
          "symbol": "circle"
         },
         "mode": "markers",
         "name": "7",
         "scene": "scene",
         "showlegend": true,
         "type": "scatter3d",
         "x": [
          0.016957463696599007,
          -0.4057137370109558,
          -0.25069430470466614,
          -0.11327999830245972,
          -0.37642887234687805,
          -0.2797282338142395,
          -0.2826181650161743,
          -0.0002575271937530488,
          -0.14305250346660614,
          -0.044805895537137985,
          -0.3745797872543335,
          -0.09326555579900742,
          -0.25011858344078064,
          -0.07222797721624374,
          -0.33634281158447266,
          -0.22666557133197784,
          -0.26529166102409363,
          -0.3052201271057129,
          -0.2568216919898987,
          -0.31358546018600464
         ],
         "y": [
          0.028513263911008835,
          0.17199112474918365,
          0.13598784804344177,
          0.026405388489365578,
          0.12252394109964371,
          0.3309881091117859,
          0.04744735732674599,
          0.10318580269813538,
          0.12926141917705536,
          0.09683456271886826,
          -0.11685622483491898,
          0.02521931752562523,
          -0.03825514763593674,
          0.032815925776958466,
          0.015490120276808739,
          0.1380009949207306,
          0.0007708321791142225,
          -0.09240973740816116,
          -0.05241761729121208,
          -0.22569993138313293
         ],
         "z": [
          0.0025946185924112797,
          0.07607079297304153,
          -0.18068887293338776,
          -0.015566506423056126,
          -0.05612226948142052,
          -0.19857501983642578,
          -0.05259303003549576,
          0.05819731578230858,
          0.09612585604190826,
          0.16119298338890076,
          0.04508715495467186,
          -0.13368777930736542,
          0.010218796320259571,
          -0.046163160353899,
          0.08604980260133743,
          0.28986600041389465,
          -0.18715998530387878,
          -0.032011259347200394,
          0.31762945652008057,
          0.08454611897468567
         ]
        },
        {
         "hovertemplate": "<b>%{hovertext}</b>",
         "hovertext": [
          "Grand Theft Auto V",
          "EA SPORTS™ FIFA 23",
          "Football Manager 2023",
          "Starfield",
          "Madden NFL 24",
          "F1® 23",
          "EA SPORTS FC™ 24"
         ],
         "legendgroup": "4",
         "marker": {
          "color": "#FFA15A",
          "symbol": "circle"
         },
         "mode": "markers",
         "name": "4",
         "scene": "scene",
         "showlegend": true,
         "type": "scatter3d",
         "x": [
          0.2764010727405548,
          0.4812472462654114,
          0.2019505351781845,
          0.2554902732372284,
          0.47690549492836,
          0.3535197973251343,
          0.3979153335094452
         ],
         "y": [
          0.254229336977005,
          0.12137997895479202,
          0.13281449675559998,
          -0.025564275681972504,
          0.22444532811641693,
          0.24661888182163239,
          0.0831088274717331
         ],
         "z": [
          -0.17042802274227142,
          0.004235238768160343,
          0.2159990519285202,
          0.05991757661104202,
          -0.011870753020048141,
          0.056652434170246124,
          0.0010157659417018294
         ]
        },
        {
         "hovertemplate": "<b>%{hovertext}</b>",
         "hovertext": [
          "Total War: WARHAMMER III",
          "Stardew Valley",
          "Crusader Kings III",
          "Sid Meier’s Civilization® VI"
         ],
         "legendgroup": "0",
         "marker": {
          "color": "#19d3f3",
          "symbol": "circle"
         },
         "mode": "markers",
         "name": "0",
         "scene": "scene",
         "showlegend": true,
         "type": "scatter3d",
         "x": [
          -0.05704384669661522,
          -0.1351429969072342,
          -0.10052892565727234,
          0.061126258224248886
         ],
         "y": [
          -0.12481535226106644,
          0.2869831323623657,
          -0.12846145033836365,
          -0.004926642868667841
         ],
         "z": [
          0.3102762699127197,
          0.286398708820343,
          0.45178738236427307,
          0.32550162076950073
         ]
        },
        {
         "hovertemplate": "<b>%{hovertext}</b>",
         "hovertext": [
          "Forza Horizon 4",
          "Euro Truck Simulator 2",
          "American Truck Simulator",
          "Contraband Police"
         ],
         "legendgroup": "3",
         "marker": {
          "color": "#FF6692",
          "symbol": "circle"
         },
         "mode": "markers",
         "name": "3",
         "scene": "scene",
         "showlegend": true,
         "type": "scatter3d",
         "x": [
          0.07421228289604187,
          0.16860303282737732,
          0.24293667078018188,
          -0.08291569352149963
         ],
         "y": [
          0.3732311725616455,
          0.40660345554351807,
          0.4744267165660858,
          0.3869093656539917
         ],
         "z": [
          0.2816466987133026,
          0.26370927691459656,
          0.02826792746782303,
          0.2944907546043396
         ]
        },
        {
         "hovertemplate": "<b>%{hovertext}</b>",
         "hovertext": [
          "The Outlast Trials",
          "Six Days in Fallujah",
          "Resident Evil 4"
         ],
         "legendgroup": "5",
         "marker": {
          "color": "#B6E880",
          "symbol": "circle"
         },
         "mode": "markers",
         "name": "5",
         "scene": "scene",
         "showlegend": true,
         "type": "scatter3d",
         "x": [
          -0.2751659154891968,
          -0.07625016570091248,
          -0.373245507478714
         ],
         "y": [
          0.15373468399047852,
          0.15048401057720184,
          0.3726039230823517
         ],
         "z": [
          -0.03991314023733139,
          -0.2595357298851013,
          -0.0955219715833664
         ]
        }
       ],
       "layout": {
        "height": 720,
        "legend": {
         "title": {
          "text": "cluster"
         },
         "tracegroupgap": 0
        },
        "margin": {
         "t": 60
        },
        "scene": {
         "domain": {
          "x": [
           0,
           1
          ],
          "y": [
           0,
           1
          ]
         },
         "xaxis": {
          "range": [
           -0.9057137370109558,
           0.9812472462654114
          ],
          "title": {
           "text": "x"
          }
         },
         "yaxis": {
          "range": [
           -0.9081390500068665,
           0.9744267165660858
          ],
          "title": {
           "text": "y"
          }
         },
         "zaxis": {
          "range": [
           -0.945235401391983,
           0.9517873823642731
          ],
          "title": {
           "text": "z"
          }
         }
        },
        "template": {
         "data": {
          "bar": [
           {
            "error_x": {
             "color": "#2a3f5f"
            },
            "error_y": {
             "color": "#2a3f5f"
            },
            "marker": {
             "line": {
              "color": "#E5ECF6",
              "width": 0.5
             },
             "pattern": {
              "fillmode": "overlay",
              "size": 10,
              "solidity": 0.2
             }
            },
            "type": "bar"
           }
          ],
          "barpolar": [
           {
            "marker": {
             "line": {
              "color": "#E5ECF6",
              "width": 0.5
             },
             "pattern": {
              "fillmode": "overlay",
              "size": 10,
              "solidity": 0.2
             }
            },
            "type": "barpolar"
           }
          ],
          "carpet": [
           {
            "aaxis": {
             "endlinecolor": "#2a3f5f",
             "gridcolor": "white",
             "linecolor": "white",
             "minorgridcolor": "white",
             "startlinecolor": "#2a3f5f"
            },
            "baxis": {
             "endlinecolor": "#2a3f5f",
             "gridcolor": "white",
             "linecolor": "white",
             "minorgridcolor": "white",
             "startlinecolor": "#2a3f5f"
            },
            "type": "carpet"
           }
          ],
          "choropleth": [
           {
            "colorbar": {
             "outlinewidth": 0,
             "ticks": ""
            },
            "type": "choropleth"
           }
          ],
          "contour": [
           {
            "colorbar": {
             "outlinewidth": 0,
             "ticks": ""
            },
            "colorscale": [
             [
              0,
              "#0d0887"
             ],
             [
              0.1111111111111111,
              "#46039f"
             ],
             [
              0.2222222222222222,
              "#7201a8"
             ],
             [
              0.3333333333333333,
              "#9c179e"
             ],
             [
              0.4444444444444444,
              "#bd3786"
             ],
             [
              0.5555555555555556,
              "#d8576b"
             ],
             [
              0.6666666666666666,
              "#ed7953"
             ],
             [
              0.7777777777777778,
              "#fb9f3a"
             ],
             [
              0.8888888888888888,
              "#fdca26"
             ],
             [
              1,
              "#f0f921"
             ]
            ],
            "type": "contour"
           }
          ],
          "contourcarpet": [
           {
            "colorbar": {
             "outlinewidth": 0,
             "ticks": ""
            },
            "type": "contourcarpet"
           }
          ],
          "heatmap": [
           {
            "colorbar": {
             "outlinewidth": 0,
             "ticks": ""
            },
            "colorscale": [
             [
              0,
              "#0d0887"
             ],
             [
              0.1111111111111111,
              "#46039f"
             ],
             [
              0.2222222222222222,
              "#7201a8"
             ],
             [
              0.3333333333333333,
              "#9c179e"
             ],
             [
              0.4444444444444444,
              "#bd3786"
             ],
             [
              0.5555555555555556,
              "#d8576b"
             ],
             [
              0.6666666666666666,
              "#ed7953"
             ],
             [
              0.7777777777777778,
              "#fb9f3a"
             ],
             [
              0.8888888888888888,
              "#fdca26"
             ],
             [
              1,
              "#f0f921"
             ]
            ],
            "type": "heatmap"
           }
          ],
          "heatmapgl": [
           {
            "colorbar": {
             "outlinewidth": 0,
             "ticks": ""
            },
            "colorscale": [
             [
              0,
              "#0d0887"
             ],
             [
              0.1111111111111111,
              "#46039f"
             ],
             [
              0.2222222222222222,
              "#7201a8"
             ],
             [
              0.3333333333333333,
              "#9c179e"
             ],
             [
              0.4444444444444444,
              "#bd3786"
             ],
             [
              0.5555555555555556,
              "#d8576b"
             ],
             [
              0.6666666666666666,
              "#ed7953"
             ],
             [
              0.7777777777777778,
              "#fb9f3a"
             ],
             [
              0.8888888888888888,
              "#fdca26"
             ],
             [
              1,
              "#f0f921"
             ]
            ],
            "type": "heatmapgl"
           }
          ],
          "histogram": [
           {
            "marker": {
             "pattern": {
              "fillmode": "overlay",
              "size": 10,
              "solidity": 0.2
             }
            },
            "type": "histogram"
           }
          ],
          "histogram2d": [
           {
            "colorbar": {
             "outlinewidth": 0,
             "ticks": ""
            },
            "colorscale": [
             [
              0,
              "#0d0887"
             ],
             [
              0.1111111111111111,
              "#46039f"
             ],
             [
              0.2222222222222222,
              "#7201a8"
             ],
             [
              0.3333333333333333,
              "#9c179e"
             ],
             [
              0.4444444444444444,
              "#bd3786"
             ],
             [
              0.5555555555555556,
              "#d8576b"
             ],
             [
              0.6666666666666666,
              "#ed7953"
             ],
             [
              0.7777777777777778,
              "#fb9f3a"
             ],
             [
              0.8888888888888888,
              "#fdca26"
             ],
             [
              1,
              "#f0f921"
             ]
            ],
            "type": "histogram2d"
           }
          ],
          "histogram2dcontour": [
           {
            "colorbar": {
             "outlinewidth": 0,
             "ticks": ""
            },
            "colorscale": [
             [
              0,
              "#0d0887"
             ],
             [
              0.1111111111111111,
              "#46039f"
             ],
             [
              0.2222222222222222,
              "#7201a8"
             ],
             [
              0.3333333333333333,
              "#9c179e"
             ],
             [
              0.4444444444444444,
              "#bd3786"
             ],
             [
              0.5555555555555556,
              "#d8576b"
             ],
             [
              0.6666666666666666,
              "#ed7953"
             ],
             [
              0.7777777777777778,
              "#fb9f3a"
             ],
             [
              0.8888888888888888,
              "#fdca26"
             ],
             [
              1,
              "#f0f921"
             ]
            ],
            "type": "histogram2dcontour"
           }
          ],
          "mesh3d": [
           {
            "colorbar": {
             "outlinewidth": 0,
             "ticks": ""
            },
            "type": "mesh3d"
           }
          ],
          "parcoords": [
           {
            "line": {
             "colorbar": {
              "outlinewidth": 0,
              "ticks": ""
             }
            },
            "type": "parcoords"
           }
          ],
          "pie": [
           {
            "automargin": true,
            "type": "pie"
           }
          ],
          "scatter": [
           {
            "fillpattern": {
             "fillmode": "overlay",
             "size": 10,
             "solidity": 0.2
            },
            "type": "scatter"
           }
          ],
          "scatter3d": [
           {
            "line": {
             "colorbar": {
              "outlinewidth": 0,
              "ticks": ""
             }
            },
            "marker": {
             "colorbar": {
              "outlinewidth": 0,
              "ticks": ""
             }
            },
            "type": "scatter3d"
           }
          ],
          "scattercarpet": [
           {
            "marker": {
             "colorbar": {
              "outlinewidth": 0,
              "ticks": ""
             }
            },
            "type": "scattercarpet"
           }
          ],
          "scattergeo": [
           {
            "marker": {
             "colorbar": {
              "outlinewidth": 0,
              "ticks": ""
             }
            },
            "type": "scattergeo"
           }
          ],
          "scattergl": [
           {
            "marker": {
             "colorbar": {
              "outlinewidth": 0,
              "ticks": ""
             }
            },
            "type": "scattergl"
           }
          ],
          "scattermapbox": [
           {
            "marker": {
             "colorbar": {
              "outlinewidth": 0,
              "ticks": ""
             }
            },
            "type": "scattermapbox"
           }
          ],
          "scatterpolar": [
           {
            "marker": {
             "colorbar": {
              "outlinewidth": 0,
              "ticks": ""
             }
            },
            "type": "scatterpolar"
           }
          ],
          "scatterpolargl": [
           {
            "marker": {
             "colorbar": {
              "outlinewidth": 0,
              "ticks": ""
             }
            },
            "type": "scatterpolargl"
           }
          ],
          "scatterternary": [
           {
            "marker": {
             "colorbar": {
              "outlinewidth": 0,
              "ticks": ""
             }
            },
            "type": "scatterternary"
           }
          ],
          "surface": [
           {
            "colorbar": {
             "outlinewidth": 0,
             "ticks": ""
            },
            "colorscale": [
             [
              0,
              "#0d0887"
             ],
             [
              0.1111111111111111,
              "#46039f"
             ],
             [
              0.2222222222222222,
              "#7201a8"
             ],
             [
              0.3333333333333333,
              "#9c179e"
             ],
             [
              0.4444444444444444,
              "#bd3786"
             ],
             [
              0.5555555555555556,
              "#d8576b"
             ],
             [
              0.6666666666666666,
              "#ed7953"
             ],
             [
              0.7777777777777778,
              "#fb9f3a"
             ],
             [
              0.8888888888888888,
              "#fdca26"
             ],
             [
              1,
              "#f0f921"
             ]
            ],
            "type": "surface"
           }
          ],
          "table": [
           {
            "cells": {
             "fill": {
              "color": "#EBF0F8"
             },
             "line": {
              "color": "white"
             }
            },
            "header": {
             "fill": {
              "color": "#C8D4E3"
             },
             "line": {
              "color": "white"
             }
            },
            "type": "table"
           }
          ]
         },
         "layout": {
          "annotationdefaults": {
           "arrowcolor": "#2a3f5f",
           "arrowhead": 0,
           "arrowwidth": 1
          },
          "autotypenumbers": "strict",
          "coloraxis": {
           "colorbar": {
            "outlinewidth": 0,
            "ticks": ""
           }
          },
          "colorscale": {
           "diverging": [
            [
             0,
             "#8e0152"
            ],
            [
             0.1,
             "#c51b7d"
            ],
            [
             0.2,
             "#de77ae"
            ],
            [
             0.3,
             "#f1b6da"
            ],
            [
             0.4,
             "#fde0ef"
            ],
            [
             0.5,
             "#f7f7f7"
            ],
            [
             0.6,
             "#e6f5d0"
            ],
            [
             0.7,
             "#b8e186"
            ],
            [
             0.8,
             "#7fbc41"
            ],
            [
             0.9,
             "#4d9221"
            ],
            [
             1,
             "#276419"
            ]
           ],
           "sequential": [
            [
             0,
             "#0d0887"
            ],
            [
             0.1111111111111111,
             "#46039f"
            ],
            [
             0.2222222222222222,
             "#7201a8"
            ],
            [
             0.3333333333333333,
             "#9c179e"
            ],
            [
             0.4444444444444444,
             "#bd3786"
            ],
            [
             0.5555555555555556,
             "#d8576b"
            ],
            [
             0.6666666666666666,
             "#ed7953"
            ],
            [
             0.7777777777777778,
             "#fb9f3a"
            ],
            [
             0.8888888888888888,
             "#fdca26"
            ],
            [
             1,
             "#f0f921"
            ]
           ],
           "sequentialminus": [
            [
             0,
             "#0d0887"
            ],
            [
             0.1111111111111111,
             "#46039f"
            ],
            [
             0.2222222222222222,
             "#7201a8"
            ],
            [
             0.3333333333333333,
             "#9c179e"
            ],
            [
             0.4444444444444444,
             "#bd3786"
            ],
            [
             0.5555555555555556,
             "#d8576b"
            ],
            [
             0.6666666666666666,
             "#ed7953"
            ],
            [
             0.7777777777777778,
             "#fb9f3a"
            ],
            [
             0.8888888888888888,
             "#fdca26"
            ],
            [
             1,
             "#f0f921"
            ]
           ]
          },
          "colorway": [
           "#636efa",
           "#EF553B",
           "#00cc96",
           "#ab63fa",
           "#FFA15A",
           "#19d3f3",
           "#FF6692",
           "#B6E880",
           "#FF97FF",
           "#FECB52"
          ],
          "font": {
           "color": "#2a3f5f"
          },
          "geo": {
           "bgcolor": "white",
           "lakecolor": "white",
           "landcolor": "#E5ECF6",
           "showlakes": true,
           "showland": true,
           "subunitcolor": "white"
          },
          "hoverlabel": {
           "align": "left"
          },
          "hovermode": "closest",
          "mapbox": {
           "style": "light"
          },
          "paper_bgcolor": "white",
          "plot_bgcolor": "#E5ECF6",
          "polar": {
           "angularaxis": {
            "gridcolor": "white",
            "linecolor": "white",
            "ticks": ""
           },
           "bgcolor": "#E5ECF6",
           "radialaxis": {
            "gridcolor": "white",
            "linecolor": "white",
            "ticks": ""
           }
          },
          "scene": {
           "xaxis": {
            "backgroundcolor": "#E5ECF6",
            "gridcolor": "white",
            "gridwidth": 2,
            "linecolor": "white",
            "showbackground": true,
            "ticks": "",
            "zerolinecolor": "white"
           },
           "yaxis": {
            "backgroundcolor": "#E5ECF6",
            "gridcolor": "white",
            "gridwidth": 2,
            "linecolor": "white",
            "showbackground": true,
            "ticks": "",
            "zerolinecolor": "white"
           },
           "zaxis": {
            "backgroundcolor": "#E5ECF6",
            "gridcolor": "white",
            "gridwidth": 2,
            "linecolor": "white",
            "showbackground": true,
            "ticks": "",
            "zerolinecolor": "white"
           }
          },
          "shapedefaults": {
           "line": {
            "color": "#2a3f5f"
           }
          },
          "ternary": {
           "aaxis": {
            "gridcolor": "white",
            "linecolor": "white",
            "ticks": ""
           },
           "baxis": {
            "gridcolor": "white",
            "linecolor": "white",
            "ticks": ""
           },
           "bgcolor": "#E5ECF6",
           "caxis": {
            "gridcolor": "white",
            "linecolor": "white",
            "ticks": ""
           }
          },
          "title": {
           "x": 0.05
          },
          "xaxis": {
           "automargin": true,
           "gridcolor": "white",
           "linecolor": "white",
           "ticks": "",
           "title": {
            "standoff": 15
           },
           "zerolinecolor": "white",
           "zerolinewidth": 2
          },
          "yaxis": {
           "automargin": true,
           "gridcolor": "white",
           "linecolor": "white",
           "ticks": "",
           "title": {
            "standoff": 15
           },
           "zerolinecolor": "white",
           "zerolinewidth": 2
          }
         }
        },
        "width": 1280
       }
      }
     },
     "metadata": {},
     "output_type": "display_data"
    }
   ],
   "source": [
    "visualize(model, sample_descriptions, \"tokenize_desc\", 8)"
   ]
  },
  {
   "cell_type": "markdown",
   "metadata": {},
   "source": [
    "### Visualizing Tags"
   ]
  },
  {
   "cell_type": "code",
   "execution_count": 13,
   "metadata": {},
   "outputs": [
    {
     "name": "stderr",
     "output_type": "stream",
     "text": [
      "/Library/Frameworks/Python.framework/Versions/3.12/lib/python3.12/site-packages/sklearn/cluster/_kmeans.py:1416: FutureWarning:\n",
      "\n",
      "The default value of `n_init` will change from 10 to 'auto' in 1.4. Set the value of `n_init` explicitly to suppress the warning\n",
      "\n"
     ]
    },
    {
     "data": {
      "application/vnd.plotly.v1+json": {
       "config": {
        "plotlyServerURL": "https://plot.ly"
       },
       "data": [
        {
         "hovertemplate": "<b>%{hovertext}</b>",
         "hovertext": [
          "Baldur's Gate 3",
          "Warframe",
          "DAVE THE DIVER",
          "Yu-Gi-Oh! Master Duel",
          "The Sims™ 4",
          "Red Dead Redemption 2",
          "Hogwarts Legacy",
          "Starfield",
          "Stardew Valley",
          "Sengoku Dynasty",
          "Sea of Thieves 2023 Edition",
          "Path of Exile",
          "Dead Cells",
          "Ratchet & Clank: Rift Apart",
          "Vampire Survivors",
          "Darkest Dungeon® II",
          "Graveyard Keeper",
          "The Elder Scrolls V: Skyrim Special Edition",
          "It Takes Two",
          "The Binding of Isaac: Rebirth",
          "DRAGON BALL Z: KAKAROT",
          "BOOK OF HOURS",
          "BlazBlue Entropy Effect",
          "Marvel’s Spider-Man Remastered"
         ],
         "legendgroup": "7",
         "marker": {
          "color": "#636efa",
          "symbol": "circle"
         },
         "mode": "markers",
         "name": "7",
         "scene": "scene",
         "showlegend": true,
         "type": "scatter3d",
         "x": [
          -0.034596800804138184,
          -0.1776987761259079,
          0.027515603229403496,
          -0.03038526140153408,
          0.1721017062664032,
          -0.09497208148241043,
          -0.026769815012812614,
          -0.07678956538438797,
          0.21029385924339294,
          0.08568622916936874,
          -0.027486640959978104,
          -0.1823219209909439,
          -0.2543562650680542,
          -0.24318724870681763,
          -0.2621459364891052,
          -0.2275325506925583,
          0.1290290504693985,
          0.007174273487180471,
          -0.13290640711784363,
          -0.19250817596912384,
          -0.14082194864749908,
          0.00001858576069935225,
          -0.11685246229171753,
          -0.17235217988491058
         ],
         "y": [
          -0.19375252723693848,
          -0.07313615083694458,
          -0.18342699110507965,
          0.07818952202796936,
          -0.06556914001703262,
          -0.16091938316822052,
          -0.2874261736869812,
          -0.31795117259025574,
          -0.15946316719055176,
          -0.3266823887825012,
          0.01849285326898098,
          -0.09929143637418747,
          -0.18756899237632751,
          -0.06514094769954681,
          -0.042581167072057724,
          -0.12635916471481323,
          -0.08067593723535538,
          -0.3239162862300873,
          0.024524925276637077,
          -0.33187103271484375,
          0.07495181262493134,
          -0.1734696626663208,
          -0.1570120006799698,
          -0.022121107205748558
         ],
         "z": [
          0.23224583268165588,
          0.23264548182487488,
          0.07359917461872101,
          0.13016122579574585,
          -0.13589951395988464,
          -0.07394950836896896,
          0.15805669128894806,
          0.15567399561405182,
          -0.02986021712422371,
          0.1483788639307022,
          -0.08197184652090073,
          0.14897313714027405,
          -0.07154204696416855,
          -0.06159145012497902,
          -0.1007034108042717,
          0.09451165050268173,
          -0.09250064939260483,
          0.18550942838191986,
          -0.05647501349449158,
          0.1346150040626526,
          0.04817478358745575,
          0.08829982578754425,
          -0.023146776482462883,
          -0.09050842374563217
         ]
        },
        {
         "hovertemplate": "<b>%{hovertext}</b>",
         "hovertext": [
          "Counter-Strike: Global Offensive",
          "Apex Legends™",
          "Call of Duty®",
          "PUBG: BATTLEGROUNDS",
          "NARAKA: BLADEPOINT",
          "Grand Theft Auto V",
          "Tom Clancy's Rainbow Six® Siege",
          "Team Fortress 2",
          "BattleBit Remastered",
          "Street Fighter™ 6",
          "Destiny 2",
          "PAYDAY 2",
          "Hunt: Showdown",
          "Ready or Not",
          "ARMORED CORE™ VI FIRES OF RUBICON™",
          "Microsoft Flight Simulator 40th Anniversary Edition",
          "Call of Duty®: Black Ops III",
          "Deep Rock Galactic",
          "World of Tanks Blitz",
          "SCP: 5K",
          "theHunter: Call of the Wild™",
          "DayZ",
          "Six Days in Fallujah",
          "Brawlhalla"
         ],
         "legendgroup": "0",
         "marker": {
          "color": "#EF553B",
          "symbol": "circle"
         },
         "mode": "markers",
         "name": "0",
         "scene": "scene",
         "showlegend": true,
         "type": "scatter3d",
         "x": [
          -0.08996620774269104,
          -0.19136691093444824,
          -0.18210533261299133,
          -0.20962829887866974,
          -0.14164716005325317,
          0.06688661873340607,
          -0.082891084253788,
          -0.20167970657348633,
          -0.10006089508533478,
          -0.12508618831634521,
          -0.15452997386455536,
          -0.20591433346271515,
          -0.12497371435165405,
          -0.12382213026285172,
          0.1355583667755127,
          0.16129188239574432,
          -0.24456524848937988,
          -0.07113313674926758,
          -0.07120127230882645,
          -0.28731727600097656,
          -0.02871481515467167,
          -0.1665496975183487,
          -0.09945138543844223,
          -0.17152881622314453
         ],
         "y": [
          0.3307327628135681,
          0.3512728810310364,
          0.26415741443634033,
          0.24621231853961945,
          0.18912926316261292,
          0.030079185962677002,
          0.3559880554676056,
          0.29205071926116943,
          0.30996736884117126,
          0.1684451550245285,
          0.1052756980061531,
          0.25954288244247437,
          0.10572594404220581,
          0.262337327003479,
          0.1957937777042389,
          0.10220614820718765,
          0.2716645896434784,
          0.18635611236095428,
          0.3314230740070343,
          0.23650267720222473,
          0.06995969265699387,
          0.13342373073101044,
          0.276875376701355,
          0.2201928049325943
         ],
         "z": [
          -0.014362340793013573,
          -0.018134161829948425,
          -0.013156299479305744,
          -0.12319987267255783,
          0.15784607827663422,
          -0.15703904628753662,
          -0.0063964626751840115,
          -0.008971895091235638,
          0.033015280961990356,
          -0.003656539134681225,
          0.13324567675590515,
          -0.15269102156162262,
          -0.08921542763710022,
          -0.02350752241909504,
          -0.04596860706806183,
          -0.2222767472267151,
          -0.1136038526892662,
          -0.15190383791923523,
          0.07218751311302185,
          -0.12945795059204102,
          -0.1857091188430786,
          -0.26621562242507935,
          0.04460720717906952,
          -0.0073151737451553345
         ]
        },
        {
         "hovertemplate": "<b>%{hovertext}</b>",
         "hovertext": [
          "Forza Horizon 5",
          "War Thunder",
          "Forza Horizon 4",
          "Euro Truck Simulator 2",
          "American Truck Simulator",
          "F1® 23",
          "BeamNG.drive"
         ],
         "legendgroup": "4",
         "marker": {
          "color": "#00cc96",
          "symbol": "circle"
         },
         "mode": "markers",
         "name": "4",
         "scene": "scene",
         "showlegend": true,
         "type": "scatter3d",
         "x": [
          0.22389477491378784,
          0.4300738275051117,
          0.2589254677295685,
          0.5429086089134216,
          0.5989793539047241,
          0.2241651564836502,
          0.5027880668640137
         ],
         "y": [
          -0.029174016788601875,
          0.15683726966381073,
          0.0375143364071846,
          -0.20450346171855927,
          -0.2080339640378952,
          0.17250722646713257,
          -0.13959640264511108
         ],
         "z": [
          -0.19334344565868378,
          0.16411182284355164,
          -0.19547471404075623,
          0.006519351154565811,
          0.009120967239141464,
          -0.2091352939605713,
          -0.10979094356298447
         ]
        },
        {
         "hovertemplate": "<b>%{hovertext}</b>",
         "hovertext": [
          "Remnant II",
          "Cyberpunk 2077",
          "Dead by Daylight",
          "Phasmophobia",
          "ELDEN RING",
          "Sons Of The Forest",
          "The Texas Chain Saw Massacre",
          "Fallout 76",
          "Metro Exodus",
          "The Outlast Trials",
          "Escape the Backrooms",
          "Contraband Police",
          "Resident Evil 4",
          "Dying Light"
         ],
         "legendgroup": "5",
         "marker": {
          "color": "#ab63fa",
          "symbol": "circle"
         },
         "mode": "markers",
         "name": "5",
         "scene": "scene",
         "showlegend": true,
         "type": "scatter3d",
         "x": [
          -0.32367023825645447,
          -0.02041678875684738,
          -0.23909711837768555,
          -0.1683133989572525,
          -0.23790231347084045,
          -0.11965691298246384,
          -0.2190680056810379,
          -0.09889417141675949,
          -0.19636566936969757,
          -0.22527877986431122,
          -0.271207720041275,
          0.12582778930664062,
          -0.31104525923728943,
          -0.11018963158130646
         ],
         "y": [
          -0.19339194893836975,
          -0.22572281956672668,
          -0.13649733364582062,
          -0.13805919885635376,
          -0.35785746574401855,
          -0.18628448247909546,
          -0.10243088006973267,
          -0.22976727783679962,
          -0.08518855273723602,
          -0.20174571871757507,
          -0.2511143088340759,
          -0.24023005366325378,
          -0.0185464508831501,
          -0.26572322845458984
         ],
         "z": [
          0.009326118975877762,
          0.053456325083971024,
          -0.22220589220523834,
          -0.2108943611383438,
          0.087271548807621,
          -0.29478418827056885,
          -0.03747004270553589,
          0.03132885694503784,
          -0.20274925231933594,
          -0.1396053582429886,
          -0.15963345766067505,
          -0.04802772402763367,
          -0.14986325800418854,
          -0.07753773778676987
         ]
        },
        {
         "hovertemplate": "<b>%{hovertext}</b>",
         "hovertext": [
          "Rust",
          "Project Zomboid",
          "Raft",
          "Farming Simulator 22",
          "Cities: Skylines",
          "RimWorld",
          "Terraria",
          "ARK: Survival Evolved",
          "Don't Starve Together",
          "Planet Zoo",
          "Garry's Mod",
          "Valheim"
         ],
         "legendgroup": "1",
         "marker": {
          "color": "#FFA15A",
          "symbol": "circle"
         },
         "mode": "markers",
         "name": "1",
         "scene": "scene",
         "showlegend": true,
         "type": "scatter3d",
         "x": [
          0.055905938148498535,
          -0.005969441030174494,
          0.13884848356246948,
          0.3927968144416809,
          0.34713947772979736,
          0.4146832227706909,
          0.04121419042348862,
          0.13638783991336823,
          0.0623859278857708,
          0.42539918422698975,
          0.13904045522212982,
          0.1001548022031784
         ],
         "y": [
          -0.035506196320056915,
          -0.07333922386169434,
          -0.13250304758548737,
          0.007732539437711239,
          0.06976620107889175,
          0.0159536674618721,
          -0.14111751317977905,
          -0.21942320466041565,
          -0.12604935467243195,
          -0.03210430592298508,
          -0.09646137058734894,
          -0.24704141914844513
         ],
         "z": [
          -0.23992450535297394,
          -0.3212207555770874,
          -0.2204972207546234,
          -0.19843563437461853,
          -0.2360135018825531,
          -0.18697988986968994,
          -0.32404741644859314,
          -0.20209035277366638,
          -0.26881712675094604,
          -0.23032456636428833,
          -0.03413830325007439,
          -0.13816191256046295
         ]
        },
        {
         "hovertemplate": "<b>%{hovertext}</b>",
         "hovertext": [
          "Dota 2",
          "FINAL FANTASY XIV Online",
          "The Elder Scrolls® Online",
          "World of Warships",
          "Wayfinder",
          "Eternal Return",
          "New World",
          "Guild Wars 2"
         ],
         "legendgroup": "2",
         "marker": {
          "color": "#19d3f3",
          "symbol": "circle"
         },
         "mode": "markers",
         "name": "2",
         "scene": "scene",
         "showlegend": true,
         "type": "scatter3d",
         "x": [
          0.0497678741812706,
          -0.01055537536740303,
          -0.05580313876271248,
          0.15434610843658447,
          -0.11280887573957443,
          -0.08254483342170715,
          -0.03973398357629776,
          -0.027736548334360123
         ],
         "y": [
          0.3475159704685211,
          -0.18807950615882874,
          -0.15828920900821686,
          0.1540462076663971,
          -0.0357360765337944,
          0.25106897950172424,
          -0.06060630828142166,
          -0.0354483388364315
         ],
         "z": [
          0.2912524938583374,
          0.44033339619636536,
          0.3324003219604492,
          0.35414940118789673,
          0.3714495897293091,
          0.14253033697605133,
          0.3734067380428314,
          0.28126442432403564
         ]
        },
        {
         "hovertemplate": "<b>%{hovertext}</b>",
         "hovertext": [
          "EA SPORTS™ FIFA 23",
          "Football Manager 2023",
          "Madden NFL 24",
          "EA SPORTS FC™ 24"
         ],
         "legendgroup": "6",
         "marker": {
          "color": "#FF6692",
          "symbol": "circle"
         },
         "mode": "markers",
         "name": "6",
         "scene": "scene",
         "showlegend": true,
         "type": "scatter3d",
         "x": [
          0.3405192196369171,
          0.33528101444244385,
          0.20070450007915497,
          0.15493471920490265
         ],
         "y": [
          0.3660745918750763,
          0.36928030848503113,
          0.3169495761394501,
          0.35771429538726807
         ],
         "z": [
          0.04211941733956337,
          -0.04591613635420799,
          0.015313374809920788,
          0.10772406309843063
         ]
        },
        {
         "hovertemplate": "<b>%{hovertext}</b>",
         "hovertext": [
          "Hearts of Iron IV",
          "Total War: WARHAMMER III",
          "Mount & Blade II: Bannerlord",
          "Stellaris",
          "Crusader Kings III",
          "Shadow Gambit: The Cursed Crew",
          "Sid Meier’s Civilization® VI"
         ],
         "legendgroup": "3",
         "marker": {
          "color": "#B6E880",
          "symbol": "circle"
         },
         "mode": "markers",
         "name": "3",
         "scene": "scene",
         "showlegend": true,
         "type": "scatter3d",
         "x": [
          0.30943095684051514,
          0.048725977540016174,
          0.08636511117219925,
          0.24499256908893585,
          0.2234678417444229,
          0.033571455627679825,
          0.0048943329602479935
         ],
         "y": [
          0.08504308760166168,
          -0.034993190318346024,
          0.022094106301665306,
          -0.11795339733362198,
          -0.0519750751554966,
          0.07296321541070938,
          0.08429327607154846
         ],
         "z": [
          0.44457945227622986,
          0.35883283615112305,
          0.10974068939685822,
          0.1841103881597519,
          0.3318493962287903,
          0.32372811436653137,
          0.31034615635871887
         ]
        }
       ],
       "layout": {
        "height": 720,
        "legend": {
         "title": {
          "text": "cluster"
         },
         "tracegroupgap": 0
        },
        "margin": {
         "t": 60
        },
        "scene": {
         "domain": {
          "x": [
           0,
           1
          ],
          "y": [
           0,
           1
          ]
         },
         "xaxis": {
          "range": [
           -0.8236702382564545,
           1.0989793539047241
          ],
          "title": {
           "text": "x"
          }
         },
         "yaxis": {
          "range": [
           -0.8578574657440186,
           0.8692803084850311
          ],
          "title": {
           "text": "y"
          }
         },
         "zaxis": {
          "range": [
           -0.8240474164485931,
           0.9445794522762299
          ],
          "title": {
           "text": "z"
          }
         }
        },
        "template": {
         "data": {
          "bar": [
           {
            "error_x": {
             "color": "#2a3f5f"
            },
            "error_y": {
             "color": "#2a3f5f"
            },
            "marker": {
             "line": {
              "color": "#E5ECF6",
              "width": 0.5
             },
             "pattern": {
              "fillmode": "overlay",
              "size": 10,
              "solidity": 0.2
             }
            },
            "type": "bar"
           }
          ],
          "barpolar": [
           {
            "marker": {
             "line": {
              "color": "#E5ECF6",
              "width": 0.5
             },
             "pattern": {
              "fillmode": "overlay",
              "size": 10,
              "solidity": 0.2
             }
            },
            "type": "barpolar"
           }
          ],
          "carpet": [
           {
            "aaxis": {
             "endlinecolor": "#2a3f5f",
             "gridcolor": "white",
             "linecolor": "white",
             "minorgridcolor": "white",
             "startlinecolor": "#2a3f5f"
            },
            "baxis": {
             "endlinecolor": "#2a3f5f",
             "gridcolor": "white",
             "linecolor": "white",
             "minorgridcolor": "white",
             "startlinecolor": "#2a3f5f"
            },
            "type": "carpet"
           }
          ],
          "choropleth": [
           {
            "colorbar": {
             "outlinewidth": 0,
             "ticks": ""
            },
            "type": "choropleth"
           }
          ],
          "contour": [
           {
            "colorbar": {
             "outlinewidth": 0,
             "ticks": ""
            },
            "colorscale": [
             [
              0,
              "#0d0887"
             ],
             [
              0.1111111111111111,
              "#46039f"
             ],
             [
              0.2222222222222222,
              "#7201a8"
             ],
             [
              0.3333333333333333,
              "#9c179e"
             ],
             [
              0.4444444444444444,
              "#bd3786"
             ],
             [
              0.5555555555555556,
              "#d8576b"
             ],
             [
              0.6666666666666666,
              "#ed7953"
             ],
             [
              0.7777777777777778,
              "#fb9f3a"
             ],
             [
              0.8888888888888888,
              "#fdca26"
             ],
             [
              1,
              "#f0f921"
             ]
            ],
            "type": "contour"
           }
          ],
          "contourcarpet": [
           {
            "colorbar": {
             "outlinewidth": 0,
             "ticks": ""
            },
            "type": "contourcarpet"
           }
          ],
          "heatmap": [
           {
            "colorbar": {
             "outlinewidth": 0,
             "ticks": ""
            },
            "colorscale": [
             [
              0,
              "#0d0887"
             ],
             [
              0.1111111111111111,
              "#46039f"
             ],
             [
              0.2222222222222222,
              "#7201a8"
             ],
             [
              0.3333333333333333,
              "#9c179e"
             ],
             [
              0.4444444444444444,
              "#bd3786"
             ],
             [
              0.5555555555555556,
              "#d8576b"
             ],
             [
              0.6666666666666666,
              "#ed7953"
             ],
             [
              0.7777777777777778,
              "#fb9f3a"
             ],
             [
              0.8888888888888888,
              "#fdca26"
             ],
             [
              1,
              "#f0f921"
             ]
            ],
            "type": "heatmap"
           }
          ],
          "heatmapgl": [
           {
            "colorbar": {
             "outlinewidth": 0,
             "ticks": ""
            },
            "colorscale": [
             [
              0,
              "#0d0887"
             ],
             [
              0.1111111111111111,
              "#46039f"
             ],
             [
              0.2222222222222222,
              "#7201a8"
             ],
             [
              0.3333333333333333,
              "#9c179e"
             ],
             [
              0.4444444444444444,
              "#bd3786"
             ],
             [
              0.5555555555555556,
              "#d8576b"
             ],
             [
              0.6666666666666666,
              "#ed7953"
             ],
             [
              0.7777777777777778,
              "#fb9f3a"
             ],
             [
              0.8888888888888888,
              "#fdca26"
             ],
             [
              1,
              "#f0f921"
             ]
            ],
            "type": "heatmapgl"
           }
          ],
          "histogram": [
           {
            "marker": {
             "pattern": {
              "fillmode": "overlay",
              "size": 10,
              "solidity": 0.2
             }
            },
            "type": "histogram"
           }
          ],
          "histogram2d": [
           {
            "colorbar": {
             "outlinewidth": 0,
             "ticks": ""
            },
            "colorscale": [
             [
              0,
              "#0d0887"
             ],
             [
              0.1111111111111111,
              "#46039f"
             ],
             [
              0.2222222222222222,
              "#7201a8"
             ],
             [
              0.3333333333333333,
              "#9c179e"
             ],
             [
              0.4444444444444444,
              "#bd3786"
             ],
             [
              0.5555555555555556,
              "#d8576b"
             ],
             [
              0.6666666666666666,
              "#ed7953"
             ],
             [
              0.7777777777777778,
              "#fb9f3a"
             ],
             [
              0.8888888888888888,
              "#fdca26"
             ],
             [
              1,
              "#f0f921"
             ]
            ],
            "type": "histogram2d"
           }
          ],
          "histogram2dcontour": [
           {
            "colorbar": {
             "outlinewidth": 0,
             "ticks": ""
            },
            "colorscale": [
             [
              0,
              "#0d0887"
             ],
             [
              0.1111111111111111,
              "#46039f"
             ],
             [
              0.2222222222222222,
              "#7201a8"
             ],
             [
              0.3333333333333333,
              "#9c179e"
             ],
             [
              0.4444444444444444,
              "#bd3786"
             ],
             [
              0.5555555555555556,
              "#d8576b"
             ],
             [
              0.6666666666666666,
              "#ed7953"
             ],
             [
              0.7777777777777778,
              "#fb9f3a"
             ],
             [
              0.8888888888888888,
              "#fdca26"
             ],
             [
              1,
              "#f0f921"
             ]
            ],
            "type": "histogram2dcontour"
           }
          ],
          "mesh3d": [
           {
            "colorbar": {
             "outlinewidth": 0,
             "ticks": ""
            },
            "type": "mesh3d"
           }
          ],
          "parcoords": [
           {
            "line": {
             "colorbar": {
              "outlinewidth": 0,
              "ticks": ""
             }
            },
            "type": "parcoords"
           }
          ],
          "pie": [
           {
            "automargin": true,
            "type": "pie"
           }
          ],
          "scatter": [
           {
            "fillpattern": {
             "fillmode": "overlay",
             "size": 10,
             "solidity": 0.2
            },
            "type": "scatter"
           }
          ],
          "scatter3d": [
           {
            "line": {
             "colorbar": {
              "outlinewidth": 0,
              "ticks": ""
             }
            },
            "marker": {
             "colorbar": {
              "outlinewidth": 0,
              "ticks": ""
             }
            },
            "type": "scatter3d"
           }
          ],
          "scattercarpet": [
           {
            "marker": {
             "colorbar": {
              "outlinewidth": 0,
              "ticks": ""
             }
            },
            "type": "scattercarpet"
           }
          ],
          "scattergeo": [
           {
            "marker": {
             "colorbar": {
              "outlinewidth": 0,
              "ticks": ""
             }
            },
            "type": "scattergeo"
           }
          ],
          "scattergl": [
           {
            "marker": {
             "colorbar": {
              "outlinewidth": 0,
              "ticks": ""
             }
            },
            "type": "scattergl"
           }
          ],
          "scattermapbox": [
           {
            "marker": {
             "colorbar": {
              "outlinewidth": 0,
              "ticks": ""
             }
            },
            "type": "scattermapbox"
           }
          ],
          "scatterpolar": [
           {
            "marker": {
             "colorbar": {
              "outlinewidth": 0,
              "ticks": ""
             }
            },
            "type": "scatterpolar"
           }
          ],
          "scatterpolargl": [
           {
            "marker": {
             "colorbar": {
              "outlinewidth": 0,
              "ticks": ""
             }
            },
            "type": "scatterpolargl"
           }
          ],
          "scatterternary": [
           {
            "marker": {
             "colorbar": {
              "outlinewidth": 0,
              "ticks": ""
             }
            },
            "type": "scatterternary"
           }
          ],
          "surface": [
           {
            "colorbar": {
             "outlinewidth": 0,
             "ticks": ""
            },
            "colorscale": [
             [
              0,
              "#0d0887"
             ],
             [
              0.1111111111111111,
              "#46039f"
             ],
             [
              0.2222222222222222,
              "#7201a8"
             ],
             [
              0.3333333333333333,
              "#9c179e"
             ],
             [
              0.4444444444444444,
              "#bd3786"
             ],
             [
              0.5555555555555556,
              "#d8576b"
             ],
             [
              0.6666666666666666,
              "#ed7953"
             ],
             [
              0.7777777777777778,
              "#fb9f3a"
             ],
             [
              0.8888888888888888,
              "#fdca26"
             ],
             [
              1,
              "#f0f921"
             ]
            ],
            "type": "surface"
           }
          ],
          "table": [
           {
            "cells": {
             "fill": {
              "color": "#EBF0F8"
             },
             "line": {
              "color": "white"
             }
            },
            "header": {
             "fill": {
              "color": "#C8D4E3"
             },
             "line": {
              "color": "white"
             }
            },
            "type": "table"
           }
          ]
         },
         "layout": {
          "annotationdefaults": {
           "arrowcolor": "#2a3f5f",
           "arrowhead": 0,
           "arrowwidth": 1
          },
          "autotypenumbers": "strict",
          "coloraxis": {
           "colorbar": {
            "outlinewidth": 0,
            "ticks": ""
           }
          },
          "colorscale": {
           "diverging": [
            [
             0,
             "#8e0152"
            ],
            [
             0.1,
             "#c51b7d"
            ],
            [
             0.2,
             "#de77ae"
            ],
            [
             0.3,
             "#f1b6da"
            ],
            [
             0.4,
             "#fde0ef"
            ],
            [
             0.5,
             "#f7f7f7"
            ],
            [
             0.6,
             "#e6f5d0"
            ],
            [
             0.7,
             "#b8e186"
            ],
            [
             0.8,
             "#7fbc41"
            ],
            [
             0.9,
             "#4d9221"
            ],
            [
             1,
             "#276419"
            ]
           ],
           "sequential": [
            [
             0,
             "#0d0887"
            ],
            [
             0.1111111111111111,
             "#46039f"
            ],
            [
             0.2222222222222222,
             "#7201a8"
            ],
            [
             0.3333333333333333,
             "#9c179e"
            ],
            [
             0.4444444444444444,
             "#bd3786"
            ],
            [
             0.5555555555555556,
             "#d8576b"
            ],
            [
             0.6666666666666666,
             "#ed7953"
            ],
            [
             0.7777777777777778,
             "#fb9f3a"
            ],
            [
             0.8888888888888888,
             "#fdca26"
            ],
            [
             1,
             "#f0f921"
            ]
           ],
           "sequentialminus": [
            [
             0,
             "#0d0887"
            ],
            [
             0.1111111111111111,
             "#46039f"
            ],
            [
             0.2222222222222222,
             "#7201a8"
            ],
            [
             0.3333333333333333,
             "#9c179e"
            ],
            [
             0.4444444444444444,
             "#bd3786"
            ],
            [
             0.5555555555555556,
             "#d8576b"
            ],
            [
             0.6666666666666666,
             "#ed7953"
            ],
            [
             0.7777777777777778,
             "#fb9f3a"
            ],
            [
             0.8888888888888888,
             "#fdca26"
            ],
            [
             1,
             "#f0f921"
            ]
           ]
          },
          "colorway": [
           "#636efa",
           "#EF553B",
           "#00cc96",
           "#ab63fa",
           "#FFA15A",
           "#19d3f3",
           "#FF6692",
           "#B6E880",
           "#FF97FF",
           "#FECB52"
          ],
          "font": {
           "color": "#2a3f5f"
          },
          "geo": {
           "bgcolor": "white",
           "lakecolor": "white",
           "landcolor": "#E5ECF6",
           "showlakes": true,
           "showland": true,
           "subunitcolor": "white"
          },
          "hoverlabel": {
           "align": "left"
          },
          "hovermode": "closest",
          "mapbox": {
           "style": "light"
          },
          "paper_bgcolor": "white",
          "plot_bgcolor": "#E5ECF6",
          "polar": {
           "angularaxis": {
            "gridcolor": "white",
            "linecolor": "white",
            "ticks": ""
           },
           "bgcolor": "#E5ECF6",
           "radialaxis": {
            "gridcolor": "white",
            "linecolor": "white",
            "ticks": ""
           }
          },
          "scene": {
           "xaxis": {
            "backgroundcolor": "#E5ECF6",
            "gridcolor": "white",
            "gridwidth": 2,
            "linecolor": "white",
            "showbackground": true,
            "ticks": "",
            "zerolinecolor": "white"
           },
           "yaxis": {
            "backgroundcolor": "#E5ECF6",
            "gridcolor": "white",
            "gridwidth": 2,
            "linecolor": "white",
            "showbackground": true,
            "ticks": "",
            "zerolinecolor": "white"
           },
           "zaxis": {
            "backgroundcolor": "#E5ECF6",
            "gridcolor": "white",
            "gridwidth": 2,
            "linecolor": "white",
            "showbackground": true,
            "ticks": "",
            "zerolinecolor": "white"
           }
          },
          "shapedefaults": {
           "line": {
            "color": "#2a3f5f"
           }
          },
          "ternary": {
           "aaxis": {
            "gridcolor": "white",
            "linecolor": "white",
            "ticks": ""
           },
           "baxis": {
            "gridcolor": "white",
            "linecolor": "white",
            "ticks": ""
           },
           "bgcolor": "#E5ECF6",
           "caxis": {
            "gridcolor": "white",
            "linecolor": "white",
            "ticks": ""
           }
          },
          "title": {
           "x": 0.05
          },
          "xaxis": {
           "automargin": true,
           "gridcolor": "white",
           "linecolor": "white",
           "ticks": "",
           "title": {
            "standoff": 15
           },
           "zerolinecolor": "white",
           "zerolinewidth": 2
          },
          "yaxis": {
           "automargin": true,
           "gridcolor": "white",
           "linecolor": "white",
           "ticks": "",
           "title": {
            "standoff": 15
           },
           "zerolinecolor": "white",
           "zerolinewidth": 2
          }
         }
        },
        "width": 1280
       }
      }
     },
     "metadata": {},
     "output_type": "display_data"
    }
   ],
   "source": [
    "visualize(model, sample_descriptions, \"tokenize_tag\", 8)"
   ]
  },
  {
   "cell_type": "markdown",
   "metadata": {},
   "source": [
    "### Visualizing Combination: Description + Tags"
   ]
  },
  {
   "cell_type": "code",
   "execution_count": 14,
   "metadata": {},
   "outputs": [
    {
     "name": "stderr",
     "output_type": "stream",
     "text": [
      "/Library/Frameworks/Python.framework/Versions/3.12/lib/python3.12/site-packages/sklearn/cluster/_kmeans.py:1416: FutureWarning:\n",
      "\n",
      "The default value of `n_init` will change from 10 to 'auto' in 1.4. Set the value of `n_init` explicitly to suppress the warning\n",
      "\n"
     ]
    },
    {
     "data": {
      "application/vnd.plotly.v1+json": {
       "config": {
        "plotlyServerURL": "https://plot.ly"
       },
       "data": [
        {
         "hovertemplate": "<b>%{hovertext}</b>",
         "hovertext": [
          "Baldur's Gate 3",
          "Remnant II",
          "Phasmophobia",
          "DAVE THE DIVER",
          "ELDEN RING",
          "Sons Of The Forest",
          "Hogwarts Legacy",
          "Raft",
          "Sea of Thieves 2023 Edition",
          "Path of Exile",
          "Terraria",
          "Deep Rock Galactic",
          "Dead Cells",
          "Crusader Kings III",
          "ARK: Survival Evolved",
          "SCP: 5K",
          "Shadow Gambit: The Cursed Crew",
          "theHunter: Call of the Wild™",
          "Darkest Dungeon® II",
          "Graveyard Keeper",
          "The Elder Scrolls V: Skyrim Special Edition",
          "Escape the Backrooms",
          "Don't Starve Together",
          "The Binding of Isaac: Rebirth",
          "BOOK OF HOURS",
          "New World",
          "Valheim"
         ],
         "legendgroup": "3",
         "marker": {
          "color": "#636efa",
          "symbol": "circle"
         },
         "mode": "markers",
         "name": "3",
         "scene": "scene",
         "showlegend": true,
         "type": "scatter3d",
         "x": [
          -0.1636311560869217,
          -0.22607837617397308,
          -0.21414418518543243,
          -0.16034093499183655,
          -0.18173955380916595,
          -0.27289479970932007,
          -0.08199027180671692,
          -0.19938300549983978,
          0.04210353270173073,
          -0.20843921601772308,
          -0.17684830725193024,
          -0.09290997684001923,
          -0.22454461455345154,
          -0.05645264685153961,
          -0.347343385219574,
          -0.10300382971763611,
          -0.2311149537563324,
          -0.06104673072695732,
          -0.27253565192222595,
          -0.17984360456466675,
          0.07687874883413315,
          -0.29119327664375305,
          -0.27384456992149353,
          -0.21327628195285797,
          -0.2610459327697754,
          -0.23824411630630493,
          -0.38408347964286804
         ],
         "y": [
          -0.1799539178609848,
          -0.16044364869594574,
          0.22275742888450623,
          0.0453341118991375,
          -0.2650851607322693,
          0.31904980540275574,
          -0.14814577996730804,
          0.17451614141464233,
          0.087547667324543,
          -0.18017210066318512,
          -0.009599336422979832,
          -0.05626382678747177,
          0.06757895648479462,
          -0.14742012321949005,
          0.10394731909036636,
          0.08611968904733658,
          -0.02692708745598793,
          0.12821266055107117,
          0.14293161034584045,
          0.23475462198257446,
          -0.07246099412441254,
          0.1978200227022171,
          0.07219168543815613,
          -0.10263112187385559,
          -0.018050890415906906,
          -0.18174955248832703,
          -0.013186695985496044
         ],
         "z": [
          -0.10262582451105118,
          0.12984254956245422,
          0.18454338610172272,
          -0.06899066269397736,
          -0.2817859649658203,
          -0.04654527083039284,
          -0.11127334088087082,
          -0.10577794164419174,
          0.004379021469503641,
          -0.12523673474788666,
          -0.1526378095149994,
          0.12577937543392181,
          0.030295539647340775,
          -0.3925757110118866,
          -0.12505008280277252,
          0.13854829967021942,
          -0.047641780227422714,
          0.01356546115130186,
          0.04202020913362503,
          -0.31216275691986084,
          -0.06853426247835159,
          0.1526963859796524,
          -0.03266455605626106,
          -0.0733758732676506,
          -0.28036850690841675,
          -0.15962663292884827,
          -0.13137708604335785
         ]
        },
        {
         "hovertemplate": "<b>%{hovertext}</b>",
         "hovertext": [
          "Counter-Strike: Global Offensive",
          "Call of Duty®",
          "PUBG: BATTLEGROUNDS",
          "Dota 2",
          "War Thunder",
          "The Elder Scrolls® Online",
          "BattleBit Remastered",
          "Destiny 2",
          "Hearts of Iron IV",
          "Total War: WARHAMMER III",
          "World of Warships",
          "Red Dead Redemption 2",
          "Mount & Blade II: Bannerlord",
          "Wayfinder",
          "Stellaris",
          "Sid Meier’s Civilization® VI",
          "Guild Wars 2"
         ],
         "legendgroup": "2",
         "marker": {
          "color": "#EF553B",
          "symbol": "circle"
         },
         "mode": "markers",
         "name": "2",
         "scene": "scene",
         "showlegend": true,
         "type": "scatter3d",
         "x": [
          0.26324328780174255,
          0.13512173295021057,
          0.0736631378531456,
          0.21137461066246033,
          0.1933273822069168,
          -0.12782743573188782,
          0.0654129758477211,
          -0.05124838277697563,
          0.0545208714902401,
          -0.060573335736989975,
          0.12388750910758972,
          0.006304063368588686,
          -0.11972138285636902,
          -0.1446571797132492,
          0.028849119320511818,
          0.08952153474092484,
          0.01757672242820263
         ],
         "y": [
          -0.18860076367855072,
          -0.1263047158718109,
          -0.17653077840805054,
          -0.2577143907546997,
          -0.20536594092845917,
          -0.2671809196472168,
          -0.14990533888339996,
          -0.18904893100261688,
          -0.2508133053779602,
          -0.21214750409126282,
          -0.166116863489151,
          -0.021929306909441948,
          -0.2986868619918823,
          -0.23063665628433228,
          -0.1469700187444687,
          -0.16738930344581604,
          -0.33143535256385803
         ],
         "z": [
          0.1342153698205948,
          0.14810410141944885,
          0.1001003235578537,
          0.08724668622016907,
          0.11343666166067123,
          -0.1299000382423401,
          0.21897169947624207,
          0.15126635134220123,
          -0.05177804455161095,
          -0.1856137216091156,
          -0.08827624469995499,
          0.18763035535812378,
          -0.23219110071659088,
          -0.14928676187992096,
          -0.21087490022182465,
          -0.1462656557559967,
          -0.02072075940668583
         ]
        },
        {
         "hovertemplate": "<b>%{hovertext}</b>",
         "hovertext": [
          "Apex Legends™",
          "NARAKA: BLADEPOINT",
          "Tom Clancy's Rainbow Six® Siege",
          "Team Fortress 2",
          "FINAL FANTASY XIV Online",
          "Warframe",
          "Street Fighter™ 6",
          "Yu-Gi-Oh! Master Duel",
          "Hunt: Showdown",
          "Starfield",
          "ARMORED CORE™ VI FIRES OF RUBICON™",
          "World of Tanks Blitz",
          "Ratchet & Clank: Rift Apart",
          "Eternal Return",
          "It Takes Two",
          "Brawlhalla",
          "DRAGON BALL Z: KAKAROT",
          "BlazBlue Entropy Effect",
          "Marvel’s Spider-Man Remastered"
         ],
         "legendgroup": "6",
         "marker": {
          "color": "#00cc96",
          "symbol": "circle"
         },
         "mode": "markers",
         "name": "6",
         "scene": "scene",
         "showlegend": true,
         "type": "scatter3d",
         "x": [
          0.07327553629875183,
          0.04297168180346489,
          0.12203478068113327,
          0.1280663013458252,
          -0.03142572566866875,
          -0.09522701054811478,
          0.3348822295665741,
          0.05869590863585472,
          -0.026356231421232224,
          0.151075080037117,
          0.1727598011493683,
          0.11036287248134613,
          -0.06737332791090012,
          -0.07934390753507614,
          -0.022774770855903625,
          0.0455000139772892,
          0.06121416762471199,
          -0.06155497208237648,
          0.05208209902048111
         ],
         "y": [
          -0.2283504158258438,
          -0.34735816717147827,
          -0.1409495621919632,
          -0.20987381041049957,
          -0.2494303286075592,
          -0.29927384853363037,
          -0.08693021535873413,
          -0.252084344625473,
          0.03734676539897919,
          -0.11054090410470963,
          -0.16414570808410645,
          -0.26581522822380066,
          -0.03808624669909477,
          -0.235788494348526,
          0.013853956013917923,
          -0.29203125834465027,
          -0.2143470197916031,
          -0.17811521887779236,
          -0.07196506857872009
         ],
         "z": [
          0.2722328305244446,
          0.07102197408676147,
          0.30615222454071045,
          0.12089069932699203,
          -0.2048851102590561,
          0.0728112980723381,
          0.24974294006824493,
          0.1016867533326149,
          0.31470775604248047,
          -0.1034809947013855,
          0.028367752209305763,
          -0.003154501784592867,
          0.055696967989206314,
          0.032166142016649246,
          0.11235333234071732,
          0.11089577525854111,
          -0.014014950022101402,
          -0.043242622166872025,
          0.23559443652629852
         ]
        },
        {
         "hovertemplate": "<b>%{hovertext}</b>",
         "hovertext": [
          "Forza Horizon 5",
          "Grand Theft Auto V",
          "Forza Horizon 4",
          "Euro Truck Simulator 2",
          "American Truck Simulator",
          "F1® 23",
          "BeamNG.drive",
          "Contraband Police"
         ],
         "legendgroup": "4",
         "marker": {
          "color": "#ab63fa",
          "symbol": "circle"
         },
         "mode": "markers",
         "name": "4",
         "scene": "scene",
         "showlegend": true,
         "type": "scatter3d",
         "x": [
          0.41250115633010864,
          0.34790554642677307,
          0.23621752858161926,
          0.33947184681892395,
          0.4274117946624756,
          0.5023977160453796,
          0.4108985662460327,
          0.09550780057907104
         ],
         "y": [
          0.2665630280971527,
          0.18640165030956268,
          0.28896233439445496,
          0.2844683527946472,
          0.3763485848903656,
          0.15941812098026276,
          0.3596818447113037,
          0.3019925653934479
         ],
         "z": [
          -0.02980782650411129,
          0.149232879281044,
          -0.20035558938980103,
          -0.2881217300891876,
          -0.08518488705158234,
          -0.032989319413900375,
          -0.1503640115261078,
          -0.24534359574317932
         ]
        },
        {
         "hovertemplate": "<b>%{hovertext}</b>",
         "hovertext": [
          "Cyberpunk 2077",
          "Rust",
          "Dead by Daylight",
          "The Texas Chain Saw Massacre",
          "PAYDAY 2",
          "Project Zomboid",
          "Ready or Not",
          "Fallout 76",
          "Metro Exodus",
          "Call of Duty®: Black Ops III",
          "Vampire Survivors",
          "The Outlast Trials",
          "DayZ",
          "Six Days in Fallujah",
          "Resident Evil 4",
          "Dying Light"
         ],
         "legendgroup": "1",
         "marker": {
          "color": "#FFA15A",
          "symbol": "circle"
         },
         "mode": "markers",
         "name": "1",
         "scene": "scene",
         "showlegend": true,
         "type": "scatter3d",
         "x": [
          -0.020946016535162926,
          -0.17724765837192535,
          -0.17732542753219604,
          -0.1587597131729126,
          0.022182635962963104,
          -0.2614173889160156,
          0.10987861454486847,
          -0.1292974203824997,
          -0.0938514694571495,
          -0.036438461393117905,
          -0.3209982216358185,
          -0.2342236489057541,
          -0.21568724513053894,
          0.022725602611899376,
          -0.21288326382637024,
          -0.19393576681613922
         ],
         "y": [
          0.02734927088022232,
          0.24667492508888245,
          0.2053336203098297,
          0.28348228335380554,
          0.07307855784893036,
          0.2381768524646759,
          0.1444081813097,
          0.0897950530052185,
          0.1381675750017166,
          0.05283840000629425,
          0.17638514935970306,
          0.24796997010707855,
          0.25109508633613586,
          0.06246572732925415,
          0.35279932618141174,
          0.2505593001842499
         ],
         "z": [
          -0.023087147623300552,
          -0.0009224924724549055,
          0.31655943393707275,
          0.27331098914146423,
          0.43301260471343994,
          0.11511281877756119,
          0.27311971783638,
          0.11995415389537811,
          -0.027857327833771706,
          0.3176596164703369,
          0.23708175122737885,
          0.21881061792373657,
          0.2640129625797272,
          0.26032137870788574,
          0.24298498034477234,
          0.2392890453338623
         ]
        },
        {
         "hovertemplate": "<b>%{hovertext}</b>",
         "hovertext": [
          "EA SPORTS™ FIFA 23",
          "Football Manager 2023",
          "Madden NFL 24",
          "EA SPORTS FC™ 24"
         ],
         "legendgroup": "5",
         "marker": {
          "color": "#19d3f3",
          "symbol": "circle"
         },
         "mode": "markers",
         "name": "5",
         "scene": "scene",
         "showlegend": true,
         "type": "scatter3d",
         "x": [
          0.5214946269989014,
          0.4086512327194214,
          0.51674884557724,
          0.43910714983940125
         ],
         "y": [
          -0.009514461271464825,
          0.01457901205867529,
          0.02085324376821518,
          -0.04427936673164368
         ],
         "z": [
          0.04886876046657562,
          -0.069678895175457,
          0.0765981525182724,
          0.04528002440929413
         ]
        },
        {
         "hovertemplate": "<b>%{hovertext}</b>",
         "hovertext": [
          "The Sims™ 4",
          "Farming Simulator 22",
          "Stardew Valley",
          "Sengoku Dynasty",
          "Cities: Skylines",
          "Microsoft Flight Simulator 40th Anniversary Edition",
          "RimWorld",
          "Planet Zoo",
          "Garry's Mod"
         ],
         "legendgroup": "0",
         "marker": {
          "color": "#FF6692",
          "symbol": "circle"
         },
         "mode": "markers",
         "name": "0",
         "scene": "scene",
         "showlegend": true,
         "type": "scatter3d",
         "x": [
          0.026743967086076736,
          0.030112111940979958,
          -0.022300362586975098,
          -0.19842572510242462,
          0.1939881145954132,
          0.36128655076026917,
          0.020179251208901405,
          0.11953967809677124,
          0.15813714265823364
         ],
         "y": [
          0.09254526346921921,
          0.27027109265327454,
          0.2563857436180115,
          -0.12168180197477341,
          0.12067284435033798,
          0.10967117547988892,
          0.161397784948349,
          0.279127299785614,
          0.1855468451976776
         ],
         "z": [
          -0.3774377703666687,
          -0.36734244227409363,
          -0.36306440830230713,
          -0.2930019795894623,
          -0.05892326682806015,
          -0.04369764402508736,
          -0.2661537230014801,
          -0.2918662428855896,
          -0.2610359489917755
         ]
        }
       ],
       "layout": {
        "height": 720,
        "legend": {
         "title": {
          "text": "cluster"
         },
         "tracegroupgap": 0
        },
        "margin": {
         "t": 60
        },
        "scene": {
         "domain": {
          "x": [
           0,
           1
          ],
          "y": [
           0,
           1
          ]
         },
         "xaxis": {
          "range": [
           -0.884083479642868,
           1.0214946269989014
          ],
          "title": {
           "text": "x"
          }
         },
         "yaxis": {
          "range": [
           -0.8473581671714783,
           0.8763485848903656
          ],
          "title": {
           "text": "y"
          }
         },
         "zaxis": {
          "range": [
           -0.8925757110118866,
           0.9330126047134399
          ],
          "title": {
           "text": "z"
          }
         }
        },
        "template": {
         "data": {
          "bar": [
           {
            "error_x": {
             "color": "#2a3f5f"
            },
            "error_y": {
             "color": "#2a3f5f"
            },
            "marker": {
             "line": {
              "color": "#E5ECF6",
              "width": 0.5
             },
             "pattern": {
              "fillmode": "overlay",
              "size": 10,
              "solidity": 0.2
             }
            },
            "type": "bar"
           }
          ],
          "barpolar": [
           {
            "marker": {
             "line": {
              "color": "#E5ECF6",
              "width": 0.5
             },
             "pattern": {
              "fillmode": "overlay",
              "size": 10,
              "solidity": 0.2
             }
            },
            "type": "barpolar"
           }
          ],
          "carpet": [
           {
            "aaxis": {
             "endlinecolor": "#2a3f5f",
             "gridcolor": "white",
             "linecolor": "white",
             "minorgridcolor": "white",
             "startlinecolor": "#2a3f5f"
            },
            "baxis": {
             "endlinecolor": "#2a3f5f",
             "gridcolor": "white",
             "linecolor": "white",
             "minorgridcolor": "white",
             "startlinecolor": "#2a3f5f"
            },
            "type": "carpet"
           }
          ],
          "choropleth": [
           {
            "colorbar": {
             "outlinewidth": 0,
             "ticks": ""
            },
            "type": "choropleth"
           }
          ],
          "contour": [
           {
            "colorbar": {
             "outlinewidth": 0,
             "ticks": ""
            },
            "colorscale": [
             [
              0,
              "#0d0887"
             ],
             [
              0.1111111111111111,
              "#46039f"
             ],
             [
              0.2222222222222222,
              "#7201a8"
             ],
             [
              0.3333333333333333,
              "#9c179e"
             ],
             [
              0.4444444444444444,
              "#bd3786"
             ],
             [
              0.5555555555555556,
              "#d8576b"
             ],
             [
              0.6666666666666666,
              "#ed7953"
             ],
             [
              0.7777777777777778,
              "#fb9f3a"
             ],
             [
              0.8888888888888888,
              "#fdca26"
             ],
             [
              1,
              "#f0f921"
             ]
            ],
            "type": "contour"
           }
          ],
          "contourcarpet": [
           {
            "colorbar": {
             "outlinewidth": 0,
             "ticks": ""
            },
            "type": "contourcarpet"
           }
          ],
          "heatmap": [
           {
            "colorbar": {
             "outlinewidth": 0,
             "ticks": ""
            },
            "colorscale": [
             [
              0,
              "#0d0887"
             ],
             [
              0.1111111111111111,
              "#46039f"
             ],
             [
              0.2222222222222222,
              "#7201a8"
             ],
             [
              0.3333333333333333,
              "#9c179e"
             ],
             [
              0.4444444444444444,
              "#bd3786"
             ],
             [
              0.5555555555555556,
              "#d8576b"
             ],
             [
              0.6666666666666666,
              "#ed7953"
             ],
             [
              0.7777777777777778,
              "#fb9f3a"
             ],
             [
              0.8888888888888888,
              "#fdca26"
             ],
             [
              1,
              "#f0f921"
             ]
            ],
            "type": "heatmap"
           }
          ],
          "heatmapgl": [
           {
            "colorbar": {
             "outlinewidth": 0,
             "ticks": ""
            },
            "colorscale": [
             [
              0,
              "#0d0887"
             ],
             [
              0.1111111111111111,
              "#46039f"
             ],
             [
              0.2222222222222222,
              "#7201a8"
             ],
             [
              0.3333333333333333,
              "#9c179e"
             ],
             [
              0.4444444444444444,
              "#bd3786"
             ],
             [
              0.5555555555555556,
              "#d8576b"
             ],
             [
              0.6666666666666666,
              "#ed7953"
             ],
             [
              0.7777777777777778,
              "#fb9f3a"
             ],
             [
              0.8888888888888888,
              "#fdca26"
             ],
             [
              1,
              "#f0f921"
             ]
            ],
            "type": "heatmapgl"
           }
          ],
          "histogram": [
           {
            "marker": {
             "pattern": {
              "fillmode": "overlay",
              "size": 10,
              "solidity": 0.2
             }
            },
            "type": "histogram"
           }
          ],
          "histogram2d": [
           {
            "colorbar": {
             "outlinewidth": 0,
             "ticks": ""
            },
            "colorscale": [
             [
              0,
              "#0d0887"
             ],
             [
              0.1111111111111111,
              "#46039f"
             ],
             [
              0.2222222222222222,
              "#7201a8"
             ],
             [
              0.3333333333333333,
              "#9c179e"
             ],
             [
              0.4444444444444444,
              "#bd3786"
             ],
             [
              0.5555555555555556,
              "#d8576b"
             ],
             [
              0.6666666666666666,
              "#ed7953"
             ],
             [
              0.7777777777777778,
              "#fb9f3a"
             ],
             [
              0.8888888888888888,
              "#fdca26"
             ],
             [
              1,
              "#f0f921"
             ]
            ],
            "type": "histogram2d"
           }
          ],
          "histogram2dcontour": [
           {
            "colorbar": {
             "outlinewidth": 0,
             "ticks": ""
            },
            "colorscale": [
             [
              0,
              "#0d0887"
             ],
             [
              0.1111111111111111,
              "#46039f"
             ],
             [
              0.2222222222222222,
              "#7201a8"
             ],
             [
              0.3333333333333333,
              "#9c179e"
             ],
             [
              0.4444444444444444,
              "#bd3786"
             ],
             [
              0.5555555555555556,
              "#d8576b"
             ],
             [
              0.6666666666666666,
              "#ed7953"
             ],
             [
              0.7777777777777778,
              "#fb9f3a"
             ],
             [
              0.8888888888888888,
              "#fdca26"
             ],
             [
              1,
              "#f0f921"
             ]
            ],
            "type": "histogram2dcontour"
           }
          ],
          "mesh3d": [
           {
            "colorbar": {
             "outlinewidth": 0,
             "ticks": ""
            },
            "type": "mesh3d"
           }
          ],
          "parcoords": [
           {
            "line": {
             "colorbar": {
              "outlinewidth": 0,
              "ticks": ""
             }
            },
            "type": "parcoords"
           }
          ],
          "pie": [
           {
            "automargin": true,
            "type": "pie"
           }
          ],
          "scatter": [
           {
            "fillpattern": {
             "fillmode": "overlay",
             "size": 10,
             "solidity": 0.2
            },
            "type": "scatter"
           }
          ],
          "scatter3d": [
           {
            "line": {
             "colorbar": {
              "outlinewidth": 0,
              "ticks": ""
             }
            },
            "marker": {
             "colorbar": {
              "outlinewidth": 0,
              "ticks": ""
             }
            },
            "type": "scatter3d"
           }
          ],
          "scattercarpet": [
           {
            "marker": {
             "colorbar": {
              "outlinewidth": 0,
              "ticks": ""
             }
            },
            "type": "scattercarpet"
           }
          ],
          "scattergeo": [
           {
            "marker": {
             "colorbar": {
              "outlinewidth": 0,
              "ticks": ""
             }
            },
            "type": "scattergeo"
           }
          ],
          "scattergl": [
           {
            "marker": {
             "colorbar": {
              "outlinewidth": 0,
              "ticks": ""
             }
            },
            "type": "scattergl"
           }
          ],
          "scattermapbox": [
           {
            "marker": {
             "colorbar": {
              "outlinewidth": 0,
              "ticks": ""
             }
            },
            "type": "scattermapbox"
           }
          ],
          "scatterpolar": [
           {
            "marker": {
             "colorbar": {
              "outlinewidth": 0,
              "ticks": ""
             }
            },
            "type": "scatterpolar"
           }
          ],
          "scatterpolargl": [
           {
            "marker": {
             "colorbar": {
              "outlinewidth": 0,
              "ticks": ""
             }
            },
            "type": "scatterpolargl"
           }
          ],
          "scatterternary": [
           {
            "marker": {
             "colorbar": {
              "outlinewidth": 0,
              "ticks": ""
             }
            },
            "type": "scatterternary"
           }
          ],
          "surface": [
           {
            "colorbar": {
             "outlinewidth": 0,
             "ticks": ""
            },
            "colorscale": [
             [
              0,
              "#0d0887"
             ],
             [
              0.1111111111111111,
              "#46039f"
             ],
             [
              0.2222222222222222,
              "#7201a8"
             ],
             [
              0.3333333333333333,
              "#9c179e"
             ],
             [
              0.4444444444444444,
              "#bd3786"
             ],
             [
              0.5555555555555556,
              "#d8576b"
             ],
             [
              0.6666666666666666,
              "#ed7953"
             ],
             [
              0.7777777777777778,
              "#fb9f3a"
             ],
             [
              0.8888888888888888,
              "#fdca26"
             ],
             [
              1,
              "#f0f921"
             ]
            ],
            "type": "surface"
           }
          ],
          "table": [
           {
            "cells": {
             "fill": {
              "color": "#EBF0F8"
             },
             "line": {
              "color": "white"
             }
            },
            "header": {
             "fill": {
              "color": "#C8D4E3"
             },
             "line": {
              "color": "white"
             }
            },
            "type": "table"
           }
          ]
         },
         "layout": {
          "annotationdefaults": {
           "arrowcolor": "#2a3f5f",
           "arrowhead": 0,
           "arrowwidth": 1
          },
          "autotypenumbers": "strict",
          "coloraxis": {
           "colorbar": {
            "outlinewidth": 0,
            "ticks": ""
           }
          },
          "colorscale": {
           "diverging": [
            [
             0,
             "#8e0152"
            ],
            [
             0.1,
             "#c51b7d"
            ],
            [
             0.2,
             "#de77ae"
            ],
            [
             0.3,
             "#f1b6da"
            ],
            [
             0.4,
             "#fde0ef"
            ],
            [
             0.5,
             "#f7f7f7"
            ],
            [
             0.6,
             "#e6f5d0"
            ],
            [
             0.7,
             "#b8e186"
            ],
            [
             0.8,
             "#7fbc41"
            ],
            [
             0.9,
             "#4d9221"
            ],
            [
             1,
             "#276419"
            ]
           ],
           "sequential": [
            [
             0,
             "#0d0887"
            ],
            [
             0.1111111111111111,
             "#46039f"
            ],
            [
             0.2222222222222222,
             "#7201a8"
            ],
            [
             0.3333333333333333,
             "#9c179e"
            ],
            [
             0.4444444444444444,
             "#bd3786"
            ],
            [
             0.5555555555555556,
             "#d8576b"
            ],
            [
             0.6666666666666666,
             "#ed7953"
            ],
            [
             0.7777777777777778,
             "#fb9f3a"
            ],
            [
             0.8888888888888888,
             "#fdca26"
            ],
            [
             1,
             "#f0f921"
            ]
           ],
           "sequentialminus": [
            [
             0,
             "#0d0887"
            ],
            [
             0.1111111111111111,
             "#46039f"
            ],
            [
             0.2222222222222222,
             "#7201a8"
            ],
            [
             0.3333333333333333,
             "#9c179e"
            ],
            [
             0.4444444444444444,
             "#bd3786"
            ],
            [
             0.5555555555555556,
             "#d8576b"
            ],
            [
             0.6666666666666666,
             "#ed7953"
            ],
            [
             0.7777777777777778,
             "#fb9f3a"
            ],
            [
             0.8888888888888888,
             "#fdca26"
            ],
            [
             1,
             "#f0f921"
            ]
           ]
          },
          "colorway": [
           "#636efa",
           "#EF553B",
           "#00cc96",
           "#ab63fa",
           "#FFA15A",
           "#19d3f3",
           "#FF6692",
           "#B6E880",
           "#FF97FF",
           "#FECB52"
          ],
          "font": {
           "color": "#2a3f5f"
          },
          "geo": {
           "bgcolor": "white",
           "lakecolor": "white",
           "landcolor": "#E5ECF6",
           "showlakes": true,
           "showland": true,
           "subunitcolor": "white"
          },
          "hoverlabel": {
           "align": "left"
          },
          "hovermode": "closest",
          "mapbox": {
           "style": "light"
          },
          "paper_bgcolor": "white",
          "plot_bgcolor": "#E5ECF6",
          "polar": {
           "angularaxis": {
            "gridcolor": "white",
            "linecolor": "white",
            "ticks": ""
           },
           "bgcolor": "#E5ECF6",
           "radialaxis": {
            "gridcolor": "white",
            "linecolor": "white",
            "ticks": ""
           }
          },
          "scene": {
           "xaxis": {
            "backgroundcolor": "#E5ECF6",
            "gridcolor": "white",
            "gridwidth": 2,
            "linecolor": "white",
            "showbackground": true,
            "ticks": "",
            "zerolinecolor": "white"
           },
           "yaxis": {
            "backgroundcolor": "#E5ECF6",
            "gridcolor": "white",
            "gridwidth": 2,
            "linecolor": "white",
            "showbackground": true,
            "ticks": "",
            "zerolinecolor": "white"
           },
           "zaxis": {
            "backgroundcolor": "#E5ECF6",
            "gridcolor": "white",
            "gridwidth": 2,
            "linecolor": "white",
            "showbackground": true,
            "ticks": "",
            "zerolinecolor": "white"
           }
          },
          "shapedefaults": {
           "line": {
            "color": "#2a3f5f"
           }
          },
          "ternary": {
           "aaxis": {
            "gridcolor": "white",
            "linecolor": "white",
            "ticks": ""
           },
           "baxis": {
            "gridcolor": "white",
            "linecolor": "white",
            "ticks": ""
           },
           "bgcolor": "#E5ECF6",
           "caxis": {
            "gridcolor": "white",
            "linecolor": "white",
            "ticks": ""
           }
          },
          "title": {
           "x": 0.05
          },
          "xaxis": {
           "automargin": true,
           "gridcolor": "white",
           "linecolor": "white",
           "ticks": "",
           "title": {
            "standoff": 15
           },
           "zerolinecolor": "white",
           "zerolinewidth": 2
          },
          "yaxis": {
           "automargin": true,
           "gridcolor": "white",
           "linecolor": "white",
           "ticks": "",
           "title": {
            "standoff": 15
           },
           "zerolinecolor": "white",
           "zerolinewidth": 2
          }
         }
        },
        "width": 1280
       }
      }
     },
     "metadata": {},
     "output_type": "display_data"
    }
   ],
   "source": [
    "visualize(model, sample_descriptions, \"tokenize_desc_tag\", 7)"
   ]
  },
  {
   "cell_type": "markdown",
   "metadata": {},
   "source": [
    "## Fine Tuning"
   ]
  },
  {
   "cell_type": "code",
   "execution_count": 15,
   "metadata": {},
   "outputs": [],
   "source": [
    "import datasets\n",
    "import torch\n",
    "from sentence_transformers import(\n",
    "    losses,\n",
    "    evaluation,\n",
    "    SentenceTransformerTrainer,\n",
    "    SentenceTransformerTrainingArguments, \n",
    ")\n",
    "from tqdm import tqdm"
   ]
  },
  {
   "cell_type": "markdown",
   "metadata": {},
   "source": [
    "Create the training data"
   ]
  },
  {
   "cell_type": "code",
   "execution_count": 16,
   "metadata": {},
   "outputs": [],
   "source": [
    "train_df = game_df.sample(1000, random_state=RANDOM_STATE).reset_index()\n",
    "\n",
    "for idx, (tag, desc) in enumerate(zip(train_df[\"Popular Tags\"], train_df[\"Game Description\"])):\n",
    "    tag = deacronym(literal_eval(tag))\n",
    "    if \"Free to Play\" in tag:\n",
    "        tag.remove(\"Free to Play\")\n",
    "    if \"Early Access\" in tag:\n",
    "        tag.remove(\"Early Access\")\n",
    "    if \"Online Co-Op\" in tag:\n",
    "        tag.remove(\"Online Co-Op\")\n",
    "    if \"Co-Op\" in tag:\n",
    "        tag.remove(\"Co-Op\")\n",
    "\n",
    "    tag = \", \".join(tag[:7])\n",
    "\n",
    "    train_df.loc[idx, \"Popular Tags\"] = tag\n",
    "    train_df.loc[idx, \"Description and Tags\"] = tag + \". \" + desc + \" \" + tag\n",
    "\n",
    "train_df[\"tokenize_tag\"] = train_df[\"Description and Tags\"].apply(tokenize)\n",
    "train_df[\"enc_tag\"] = train_df[\"tokenize_tag\"].apply(model.encode)"
   ]
  },
  {
   "cell_type": "code",
   "execution_count": 17,
   "metadata": {},
   "outputs": [
    {
     "name": "stderr",
     "output_type": "stream",
     "text": [
      "Creating Training Examples: 100%|██████████| 1000/1000 [00:02<00:00, 465.90it/s]\n"
     ]
    }
   ],
   "source": [
    "# Uses Contrastive Loss\n",
    "# train_examples = []\n",
    "# for i in tqdm(range(len(train_df)), desc=\"Creating Training Examples\"):\n",
    "#         for j in random.sample(range(len(train_df)), 50):\n",
    "#         # Make an input with the similarity of their tags as the label\n",
    "#                 example = InputExample(\n",
    "#                         texts=[train_df.loc[i, \"Game Description\"], train_df.loc[j, \"Game Description\"]], \n",
    "#                         label=int(util.cos_sim(train_df.loc[i, \"enc_tag\"], train_df.loc[j, \"enc_tag\"])> 0.75))\n",
    "#                 train_examples.append(example)\n",
    "\n",
    "train_cols = [\"desc1\", \"desc2\", \"score\"]\n",
    "train_examples = []\n",
    "for i in tqdm(range(len(train_df)), desc=\"Creating Training Examples\"):\n",
    "        for j in random.sample(range(len(train_df)), 50):\n",
    "        # Make an input with the similarity of their tags as the label\n",
    "                example = [train_df.loc[i, \"Game Description\"], train_df.loc[j, \"Game Description\"], util.cos_sim(train_df.loc[i, \"enc_tag\"], train_df.loc[j, \"enc_tag\"]).item()]\n",
    "                train_examples.append(example)\n",
    "\n",
    "train_examples = pd.DataFrame(train_examples, columns=train_cols)\n",
    "train_dataset =  datasets.Dataset.from_pandas(train_examples)"
   ]
  },
  {
   "cell_type": "markdown",
   "metadata": {},
   "source": [
    "Creates arguments for training/tuning the model and specifies the loss function."
   ]
  },
  {
   "cell_type": "code",
   "execution_count": 18,
   "metadata": {},
   "outputs": [],
   "source": [
    "args = SentenceTransformerTrainingArguments(\n",
    "    # Required parameter:\n",
    "    output_dir=\"models/mpnet-base\",\n",
    "    # Optional training parameters:\n",
    "    num_train_epochs=1,\n",
    "    per_device_train_batch_size=16,\n",
    "    per_device_eval_batch_size=16,\n",
    "    warmup_ratio=0.1,\n",
    "    # Optional tracking/debugging parameters:\n",
    "    eval_strategy=\"steps\",\n",
    "    eval_steps=500,\n",
    "    save_strategy=\"steps\",\n",
    "    save_steps=500,\n",
    "    save_total_limit=2,\n",
    "    run_name=\"mpnet-base\",\n",
    ")\n",
    "\n",
    "train_loss = losses.CoSENTLoss(model)"
   ]
  },
  {
   "cell_type": "markdown",
   "metadata": {},
   "source": [
    "Creates an evaluator for the training/tuning."
   ]
  },
  {
   "cell_type": "code",
   "execution_count": 19,
   "metadata": {},
   "outputs": [],
   "source": [
    "sentences1 = [\n",
    "    \"Super Mario Galaxy 2, the sequel to the galaxy-hopping original game, includes the gravity-defying, physics-based exploration from the first game, but is loaded with entirely new galaxies and features to challenge players. On some stages, Mario can pair up with his dinosaur buddy Yoshi and use his tongue to grab items and spit them back at enemies. Players can also have fun with new items such as a drill that lets our hero tunnel through solid rock.\",\n",
    "    \"Going beyond 'run and gun corridors,' 'monster-closet AIs' and static worlds, BioShock creates a living, unique and unpredictable FPS experience. After your plane crashes into icy uncharted waters, you discover a rusted bathysphere and descend into Rapture, a city hidden beneath the sea. Constructed as an idealistic society for a hand picked group of scientists, artists and industrialists, the idealism is no more. Now the city is littered with corpses, wildly powerful guardians roam the corridors as little girls loot the dead, and genetically mutated citizens ambush you at every turn. Take control of your world by hacking mechanical devices, commandeering security turrets and crafting unique items critical to your very survival. Upgrade your weapons with ionic gels, explosives and toxins to customize them to the enemy and environment. Genetically modify your body through dozens of Plasmid Stations scattered throughout the city, empowering you with fantastic and often grotesque abilities. Explore a living world powered by Ecological A.I., where the inhabitants have interesting and consequential relationships with one another that impact your gameplay experience. Experience truly next generation graphics that vividly illustrate the forlorn art deco city, highlighted by the most detailed and realistic water effects ever developed in a video game. Make meaningful choices and mature decisions, ultimately culminating in the grand question: do you exploit the innocent survivors of Rapture...or save them?\",\n",
    "    \"Forget everything you know about The Legend of Zelda games. Step into a world of discovery, exploration and adventure in The Legend of Zelda: Breath of the Wild, a boundary-breaking new game in the acclaimed series. Travel across fields, through forests and to mountain peaks as you discover what has become of the ruined kingdom of Hyrule in this open-air adventure. Explore the wilds of Hyrule any way you like - Climb up towers and mountain peaks in search of new destinations, then set your own path to get there and plunge into the wilderness. Along the way, you'll battle towering enemies, hunt wild beasts and gather ingredients for the food and elixirs you'll need to sustain you on your journey. More than 100 Shrines of Trials to discover and explore - Shrines dot the landscape, waiting to be discovered in any order you want. Search for them in various ways, and solve a variety of puzzles inside. Work your way through the traps and devices inside to earn special items and other rewards that will help you on your adventure.\",\n",
    "    \"Developed by Rockstar San Diego, as a follow up to the 2004 hit game Red Dead Revolver, Red Dead Redemption is a Western epic, set at the turn of the 20th century when the lawless and chaotic badlands began to give way to the expanding reach of government and the spread of the Industrial Age. The story of former outlaw, John Marston, Red Dead Redemption takes players on a great adventure across the American frontier. Utilizing Rockstar's proprietary Rockstar Advanced Game Engine (RAGE), Red Dead Redemption features an open-world environment for players to explore, including frontier towns, rolling prairies teeming with wildlife, and perilous mountain passes - each packed with an endless flow of varied distractions. Along the way, players experience the heat of gunfights and battles, meet a host of unique characters, struggle against the harshness of one of the world’s last remaining wildernesses, and ultimately pick their own precarious path through an epic story about the death of the Wild West and the gunslingers that inhabited it.\",\n",
    "    \"Take Your Game Online: Access an online community where you can meet, chat, and play head-to-head against other gamers. Audio Dream Team: Dynamic play-by-play and analysis by Madden and Michaels. All-New Mini-camp: Hop on John Madden's Cruiser Tour Bus and travel to all NFL cities to complete skilled tasks. Create-A-Playbook: Customize receiver routes, player formations, and your team's entire playbook. Deepest Franchise Mode Ever: Play 30 years of Franchise mode and draft players each season with tips from your scouts.\",\n",
    "    \"The Covenant alien race threatens to destroy all humankind, and the only thing standing in its way is Master Chief, a genetically enhanced supersoldier. Master Chief returns in Halo 2, which features new vehicles, weapons, environments, and more. This time, you can interact with your environment, wield two weapons at the same time, board opponents' vehicles, and even switch sides to play the role of a Covenant Elite. Halo 2 also supports broadband multiplayer action via Xbox Live.\",\n",
    "    \"First Person Shooter\", \"Building\", \"Shooter\", \"Horror\", \"First Person\",\n",
    "    \"Shooter\", \"Zombie\", \"Farming\", \"Blood\", \"Horror\", \"Card\",\n",
    "    \"Survival\", \"Horror\", \"Life Sim\", \"Puzzle\", \"Fighting\", \"Magic\"\n",
    "]\n",
    "sentences2 = [\n",
    "    \"The ultimate Nintendo hero is taking the ultimate step ... out into space. Join Mario as he ushers in a new era of video games, defying gravity across all the planets in the galaxy. When some creature escapes into space with Princess Peach, Mario gives chase, exploring bizarre planets all across the galaxy. Mario, Peach and enemies new and old are here. Players run, jump and battle enemies as they explore all the planets in the galaxy. Since this game makes full use of all the features of the Wii Remote, players have to do all kinds of things to succeed: pressing buttons, swinging the Wii Remote and the Nunchuk, and even pointing at and dragging things with the pointer. Since he's in space, Mario can perform mind-bending jumps unlike anything he's done before. He'll also have a wealth of new moves that are all based around tilting, pointing and shaking the Wii Remote. Shake, tilt and point! Mario takes advantage of all the unique aspects of the Wii Remote and Nunchuk controller, unleashing new moves as players shake the controller and even point at and drag items with the pointer.\",\n",
    "    \"By taking the suspense, challenge and visceral charge of the original, and adding startling new realism and responsiveness, Half-Life 2 opens the door to a world where the player's presence affects everything around him, from the physical environment to the behaviors -- even the emotions -- of both friends and enemies. The player again picks up the crowbar of research scientist Gordon Freeman, who finds himself on an alien-infested Earth being picked to the bone, its resources depleted, its populace dwindling. Freeman is thrust into the unenviable role of rescuing the world from the wrong he unleashed back at Black Mesa. And a lot of people -- people he cares about -- are counting on him.\",\n",
    "    \"As a young boy, Link is tricked by Ganondorf, the King of the Gerudo Thieves. The evil human uses Link to gain access to the Sacred Realm, where he places his tainted hands on Triforce and transforms the beautiful Hyrulean landscape into a barren wasteland. Link is determined to fix the problems he helped to create, so with the help of Rauru he travels through time gathering the powers of the Seven Sages.\",\n",
    "    \"An ancient evil force has reawakened, attacking in secret and feeding on the souls of mighty warriors. To lure it out of hiding will take the greatest fighting contest the world has ever seen...Tekken 3. Some are fighting for revenge, some for honor, Ultimately, all are fighting for their lives and the fate of all mankind.\",\n",
    "    \"Prepare for an all-new RPG experience in Persona 5 Royal based in the universe of the award-winning series, Persona! Don the mask of Joker and join the Phantom Thieves of Hearts. Break free from the chains of modern society and stage grand heists to infiltrate the minds of the corrupt and make them change their ways! Persona 5 Royal is packed with new characters, confidants, story depth, new locations to explore, and a new grappling hook mechanic for stealthy access to new areas. With a new semester at Shujin Academy, get ready to strengthen your abilities in the metaverse and in your daily life. Persona 5 Royal presents a unique visual style and award nominated composer Shoji Meguro returns with an all-new soundtrack. Explore Tokyo, unlock new Personas, customize your own personal Thieves Den, discover a never-before-seen story arc, cutscenes, alternate endings, and more! Even for the most seasoned Phantom Thieves among us, Persona 5 Royal is a new challenge to defy conventions, discover the power within, and fight for justice. Wear the mask. Reveal your truth.\",\n",
    "    \"With the addition of two new courses (a downtown Tokyo circuit and the Monte Carlo Grand Prix course), an impressive range of cars (from Vipers to Cooper Minis), and a soundtrack featuring everything from Lenny Kravitz to Jimi Hendrix, this highly anticipated title is finally ready to be driven.\",\n",
    "    \"Racing\",\"Exploration\",\"Open World\",\"Sandbox\",\"Third Person\",\"Sports\",\n",
    "    \"Horror\",\"Military\",\"Gore\",\"Casual\",\"Shooter\",\"Sports\",\n",
    "    \"Card\",\"Fighting\",\"Battle Royale\",\"Shooter\", \"Fantasy\"\n",
    "]\n",
    "scores = [0.99, 0.7, 0.9, 0.2, 0.1, 0.1, 0, 0.6, 0.3, 0.2, 0.7, 0.1, 0.9, 0.1, 0.99, 0.3, 0.1, 0.1, 0.1, 0.2, 0.2, 0.1, 0.8]\n",
    "\n",
    "eval_cols = [\"sentence1\", \"sentence2\", \"score\"]\n",
    "eval_examples = []\n",
    "for s1, s2, score in zip(sentences1, sentences2, scores):\n",
    "    example = [s1, s2, score]\n",
    "    eval_examples.append(example)\n",
    "eval_df = pd.DataFrame(eval_examples, columns=eval_cols)\n",
    "eval_dataset = datasets.Dataset.from_pandas(eval_df)\n",
    "\n",
    "evaluator = evaluation.EmbeddingSimilarityEvaluator(\n",
    "    sentences1=eval_dataset[\"sentence1\"],\n",
    "    sentences2=eval_dataset[\"sentence2\"],\n",
    "    scores=eval_dataset[\"score\"],\n",
    "    main_similarity=evaluation.SimilarityFunction.COSINE,\n",
    "    name=\"sts-dev\",\n",
    ")"
   ]
  },
  {
   "cell_type": "markdown",
   "metadata": {},
   "source": [
    "Trains the model."
   ]
  },
  {
   "cell_type": "code",
   "execution_count": 20,
   "metadata": {},
   "outputs": [
    {
     "data": {
      "application/vnd.jupyter.widget-view+json": {
       "model_id": "6ed1b0473c71444eaefe5113980432ab",
       "version_major": 2,
       "version_minor": 0
      },
      "text/plain": [
       "  0%|          | 0/3125 [00:00<?, ?it/s]"
      ]
     },
     "metadata": {},
     "output_type": "display_data"
    },
    {
     "name": "stdout",
     "output_type": "stream",
     "text": [
      "{'loss': 4.6724, 'grad_norm': 10.783743858337402, 'learning_rate': 4.6674964438122335e-05, 'epoch': 0.16}\n"
     ]
    },
    {
     "data": {
      "application/vnd.jupyter.widget-view+json": {
       "model_id": "bea9cef104a147cbb7142abcb0e6a2d7",
       "version_major": 2,
       "version_minor": 0
      },
      "text/plain": [
       "  0%|          | 0/2 [00:00<?, ?it/s]"
      ]
     },
     "metadata": {},
     "output_type": "display_data"
    },
    {
     "name": "stdout",
     "output_type": "stream",
     "text": [
      "{'eval_loss': 4.005044460296631, 'eval_sts-dev_pearson_cosine': 0.5738086752182747, 'eval_sts-dev_spearman_cosine': 0.44114845191199525, 'eval_sts-dev_pearson_manhattan': 0.5986259072215355, 'eval_sts-dev_spearman_manhattan': 0.48521264860125307, 'eval_sts-dev_pearson_euclidean': 0.587066584474308, 'eval_sts-dev_spearman_euclidean': 0.44114845191199525, 'eval_sts-dev_pearson_dot': 0.5738078912842106, 'eval_sts-dev_spearman_dot': 0.44114845191199525, 'eval_sts-dev_pearson_max': 0.5986259072215355, 'eval_sts-dev_spearman_max': 0.48521264860125307, 'eval_runtime': 3.3285, 'eval_samples_per_second': 6.91, 'eval_steps_per_second': 0.601, 'epoch': 0.16}\n"
     ]
    },
    {
     "data": {
      "application/vnd.jupyter.widget-view+json": {
       "model_id": "13c6479fc3494a18961872024a902843",
       "version_major": 2,
       "version_minor": 0
      },
      "text/plain": [
       "Computing widget examples:   0%|          | 0/5 [00:00<?, ?example/s]"
      ]
     },
     "metadata": {},
     "output_type": "display_data"
    },
    {
     "name": "stdout",
     "output_type": "stream",
     "text": [
      "{'loss': 4.3131, 'grad_norm': 11.479540824890137, 'learning_rate': 3.778449502133713e-05, 'epoch': 0.32}\n"
     ]
    },
    {
     "data": {
      "application/vnd.jupyter.widget-view+json": {
       "model_id": "6754de6531444e6985866bc8ef76f1fa",
       "version_major": 2,
       "version_minor": 0
      },
      "text/plain": [
       "  0%|          | 0/2 [00:00<?, ?it/s]"
      ]
     },
     "metadata": {},
     "output_type": "display_data"
    },
    {
     "name": "stdout",
     "output_type": "stream",
     "text": [
      "{'eval_loss': 4.256532192230225, 'eval_sts-dev_pearson_cosine': 0.46326514502009253, 'eval_sts-dev_spearman_cosine': 0.36821460911598225, 'eval_sts-dev_pearson_manhattan': 0.5018310194442815, 'eval_sts-dev_spearman_manhattan': 0.42646038634890926, 'eval_sts-dev_pearson_euclidean': 0.4896913852943567, 'eval_sts-dev_spearman_euclidean': 0.36821460911598225, 'eval_sts-dev_pearson_dot': 0.4632648097879877, 'eval_sts-dev_spearman_dot': 0.36821460911598225, 'eval_sts-dev_pearson_max': 0.5018310194442815, 'eval_sts-dev_spearman_max': 0.42646038634890926, 'eval_runtime': 1.623, 'eval_samples_per_second': 14.171, 'eval_steps_per_second': 1.232, 'epoch': 0.32}\n"
     ]
    },
    {
     "data": {
      "application/vnd.jupyter.widget-view+json": {
       "model_id": "c4fb08493220429b9b670ad723fcf644",
       "version_major": 2,
       "version_minor": 0
      },
      "text/plain": [
       "Computing widget examples:   0%|          | 0/5 [00:00<?, ?example/s]"
      ]
     },
     "metadata": {},
     "output_type": "display_data"
    },
    {
     "name": "stdout",
     "output_type": "stream",
     "text": [
      "{'loss': 4.1948, 'grad_norm': 9.571090698242188, 'learning_rate': 2.889402560455192e-05, 'epoch': 0.48}\n"
     ]
    },
    {
     "data": {
      "application/vnd.jupyter.widget-view+json": {
       "model_id": "50f766864059401baaaa4073dc10684b",
       "version_major": 2,
       "version_minor": 0
      },
      "text/plain": [
       "  0%|          | 0/2 [00:00<?, ?it/s]"
      ]
     },
     "metadata": {},
     "output_type": "display_data"
    },
    {
     "name": "stdout",
     "output_type": "stream",
     "text": [
      "{'eval_loss': 4.7077131271362305, 'eval_sts-dev_pearson_cosine': 0.46008893813674584, 'eval_sts-dev_spearman_cosine': 0.27096948538796495, 'eval_sts-dev_pearson_manhattan': 0.48679889108005336, 'eval_sts-dev_spearman_manhattan': 0.3150336820772227, 'eval_sts-dev_pearson_euclidean': 0.4756745653828944, 'eval_sts-dev_spearman_euclidean': 0.27096948538796495, 'eval_sts-dev_pearson_dot': 0.4600889191434579, 'eval_sts-dev_spearman_dot': 0.27096948538796495, 'eval_sts-dev_pearson_max': 0.48679889108005336, 'eval_sts-dev_spearman_max': 0.3150336820772227, 'eval_runtime': 1.6211, 'eval_samples_per_second': 14.188, 'eval_steps_per_second': 1.234, 'epoch': 0.48}\n"
     ]
    },
    {
     "data": {
      "application/vnd.jupyter.widget-view+json": {
       "model_id": "1fe9dfca3cac42398af42363e66360e6",
       "version_major": 2,
       "version_minor": 0
      },
      "text/plain": [
       "Computing widget examples:   0%|          | 0/5 [00:00<?, ?example/s]"
      ]
     },
     "metadata": {},
     "output_type": "display_data"
    },
    {
     "name": "stdout",
     "output_type": "stream",
     "text": [
      "{'loss': 4.1296, 'grad_norm': 11.812318801879883, 'learning_rate': 2.0003556187766715e-05, 'epoch': 0.64}\n"
     ]
    },
    {
     "data": {
      "application/vnd.jupyter.widget-view+json": {
       "model_id": "5c33f03453524b77a9cbdd3116eba3ed",
       "version_major": 2,
       "version_minor": 0
      },
      "text/plain": [
       "  0%|          | 0/2 [00:00<?, ?it/s]"
      ]
     },
     "metadata": {},
     "output_type": "display_data"
    },
    {
     "name": "stdout",
     "output_type": "stream",
     "text": [
      "{'eval_loss': 4.4049577713012695, 'eval_sts-dev_pearson_cosine': 0.6038004730753506, 'eval_sts-dev_spearman_cosine': 0.5490297610477644, 'eval_sts-dev_pearson_manhattan': 0.6355996042424832, 'eval_sts-dev_spearman_manhattan': 0.5778994071545196, 'eval_sts-dev_pearson_euclidean': 0.6184797364282462, 'eval_sts-dev_spearman_euclidean': 0.5490297610477644, 'eval_sts-dev_pearson_dot': 0.6038005150883305, 'eval_sts-dev_spearman_dot': 0.5490297610477644, 'eval_sts-dev_pearson_max': 0.6355996042424832, 'eval_sts-dev_spearman_max': 0.5778994071545196, 'eval_runtime': 2.0505, 'eval_samples_per_second': 11.217, 'eval_steps_per_second': 0.975, 'epoch': 0.64}\n"
     ]
    },
    {
     "data": {
      "application/vnd.jupyter.widget-view+json": {
       "model_id": "60144ff4773f4a81a07e98db434e897b",
       "version_major": 2,
       "version_minor": 0
      },
      "text/plain": [
       "Computing widget examples:   0%|          | 0/5 [00:00<?, ?example/s]"
      ]
     },
     "metadata": {},
     "output_type": "display_data"
    },
    {
     "name": "stdout",
     "output_type": "stream",
     "text": [
      "{'loss': 4.032, 'grad_norm': 19.08639144897461, 'learning_rate': 1.1113086770981508e-05, 'epoch': 0.8}\n"
     ]
    },
    {
     "data": {
      "application/vnd.jupyter.widget-view+json": {
       "model_id": "9278b1e2d75d48ccbaac835f688d7239",
       "version_major": 2,
       "version_minor": 0
      },
      "text/plain": [
       "  0%|          | 0/2 [00:00<?, ?it/s]"
      ]
     },
     "metadata": {},
     "output_type": "display_data"
    },
    {
     "name": "stdout",
     "output_type": "stream",
     "text": [
      "{'eval_loss': 4.9160261154174805, 'eval_sts-dev_pearson_cosine': 0.5792408225250146, 'eval_sts-dev_spearman_cosine': 0.5049655643585066, 'eval_sts-dev_pearson_manhattan': 0.6083991209095803, 'eval_sts-dev_spearman_manhattan': 0.518640659882759, 'eval_sts-dev_pearson_euclidean': 0.5997451095036523, 'eval_sts-dev_spearman_euclidean': 0.5049655643585066, 'eval_sts-dev_pearson_dot': 0.5792404302245836, 'eval_sts-dev_spearman_dot': 0.5049655643585066, 'eval_sts-dev_pearson_max': 0.6083991209095803, 'eval_sts-dev_spearman_max': 0.518640659882759, 'eval_runtime': 1.9053, 'eval_samples_per_second': 12.072, 'eval_steps_per_second': 1.05, 'epoch': 0.8}\n"
     ]
    },
    {
     "data": {
      "application/vnd.jupyter.widget-view+json": {
       "model_id": "8eb29f8dffc141d3a6c7ec0c080bed9d",
       "version_major": 2,
       "version_minor": 0
      },
      "text/plain": [
       "Computing widget examples:   0%|          | 0/5 [00:00<?, ?example/s]"
      ]
     },
     "metadata": {},
     "output_type": "display_data"
    },
    {
     "name": "stdout",
     "output_type": "stream",
     "text": [
      "{'loss': 3.9797, 'grad_norm': 17.48697280883789, 'learning_rate': 2.2226173541963018e-06, 'epoch': 0.96}\n"
     ]
    },
    {
     "data": {
      "application/vnd.jupyter.widget-view+json": {
       "model_id": "f94b7b4cb4e74e21a393db5f6d550c32",
       "version_major": 2,
       "version_minor": 0
      },
      "text/plain": [
       "  0%|          | 0/2 [00:00<?, ?it/s]"
      ]
     },
     "metadata": {},
     "output_type": "display_data"
    },
    {
     "name": "stdout",
     "output_type": "stream",
     "text": [
      "{'eval_loss': 4.761734485626221, 'eval_sts-dev_pearson_cosine': 0.6273173196225443, 'eval_sts-dev_spearman_cosine': 0.5292768452905109, 'eval_sts-dev_pearson_manhattan': 0.6539363027576667, 'eval_sts-dev_spearman_manhattan': 0.5383935756400126, 'eval_sts-dev_pearson_euclidean': 0.6390840229245605, 'eval_sts-dev_spearman_euclidean': 0.5292768452905109, 'eval_sts-dev_pearson_dot': 0.6273172474785175, 'eval_sts-dev_spearman_dot': 0.5292768452905109, 'eval_sts-dev_pearson_max': 0.6539363027576667, 'eval_sts-dev_spearman_max': 0.5383935756400126, 'eval_runtime': 1.9588, 'eval_samples_per_second': 11.742, 'eval_steps_per_second': 1.021, 'epoch': 0.96}\n"
     ]
    },
    {
     "data": {
      "application/vnd.jupyter.widget-view+json": {
       "model_id": "841843e07bf84bd2af9c736236494b82",
       "version_major": 2,
       "version_minor": 0
      },
      "text/plain": [
       "Computing widget examples:   0%|          | 0/5 [00:00<?, ?example/s]"
      ]
     },
     "metadata": {},
     "output_type": "display_data"
    },
    {
     "name": "stdout",
     "output_type": "stream",
     "text": [
      "{'train_runtime': 2673.6807, 'train_samples_per_second': 18.701, 'train_steps_per_second': 1.169, 'train_loss': 4.206983974609375, 'epoch': 1.0}\n"
     ]
    },
    {
     "data": {
      "text/plain": [
       "TrainOutput(global_step=3125, training_loss=4.206983974609375, metrics={'train_runtime': 2673.6807, 'train_samples_per_second': 18.701, 'train_steps_per_second': 1.169, 'total_flos': 0.0, 'train_loss': 4.206983974609375, 'epoch': 1.0})"
      ]
     },
     "execution_count": 20,
     "metadata": {},
     "output_type": "execute_result"
    }
   ],
   "source": [
    "trainer = SentenceTransformerTrainer(\n",
    "    model=model,\n",
    "    args=args,\n",
    "    train_dataset=train_dataset,\n",
    "    eval_dataset=eval_dataset,\n",
    "    loss=train_loss,\n",
    "    evaluator=evaluator,\n",
    ")\n",
    "\n",
    "trainer.train()"
   ]
  },
  {
   "cell_type": "markdown",
   "metadata": {},
   "source": [
    "## Visualization Pt. 2"
   ]
  },
  {
   "cell_type": "markdown",
   "metadata": {},
   "source": [
    "### Visualizing Descriptions"
   ]
  },
  {
   "cell_type": "code",
   "execution_count": 21,
   "metadata": {},
   "outputs": [
    {
     "name": "stderr",
     "output_type": "stream",
     "text": [
      "/Library/Frameworks/Python.framework/Versions/3.12/lib/python3.12/site-packages/sklearn/cluster/_kmeans.py:1416: FutureWarning:\n",
      "\n",
      "The default value of `n_init` will change from 10 to 'auto' in 1.4. Set the value of `n_init` explicitly to suppress the warning\n",
      "\n"
     ]
    },
    {
     "data": {
      "application/vnd.plotly.v1+json": {
       "config": {
        "plotlyServerURL": "https://plot.ly"
       },
       "data": [
        {
         "hovertemplate": "<b>%{hovertext}</b>",
         "hovertext": [
          "Baldur's Gate 3",
          "Apex Legends™",
          "Remnant II",
          "FINAL FANTASY XIV Online",
          "The Elder Scrolls® Online",
          "Destiny 2",
          "ELDEN RING",
          "Total War: WARHAMMER III",
          "Red Dead Redemption 2",
          "Hogwarts Legacy",
          "Starfield",
          "Path of Exile",
          "Deep Rock Galactic",
          "Crusader Kings III",
          "Eternal Return",
          "Sid Meier’s Civilization® VI",
          "The Elder Scrolls V: Skyrim Special Edition",
          "The Binding of Isaac: Rebirth",
          "BOOK OF HOURS",
          "New World",
          "Valheim"
         ],
         "legendgroup": "3",
         "marker": {
          "color": "#636efa",
          "symbol": "circle"
         },
         "mode": "markers",
         "name": "3",
         "scene": "scene",
         "showlegend": true,
         "type": "scatter3d",
         "x": [
          -0.22743535041809082,
          -0.010441341437399387,
          -0.22020044922828674,
          -0.11433195322751999,
          -0.0781875029206276,
          -0.04913706332445145,
          -0.1765507012605667,
          -0.12401994317770004,
          -0.10789073258638382,
          -0.1958419382572174,
          0.0772424191236496,
          -0.21636056900024414,
          -0.01323703583329916,
          -0.09034941345453262,
          -0.02464090660214424,
          0.10188234597444534,
          -0.09938190132379532,
          -0.1784643530845642,
          -0.3122393786907196,
          -0.1452960968017578,
          -0.21606957912445068
         ],
         "y": [
          -0.16510803997516632,
          -0.22267404198646545,
          -0.07115617394447327,
          0.024280458688735962,
          -0.032124683260917664,
          -0.2571678161621094,
          -0.04403170570731163,
          -0.17005479335784912,
          -0.05852767080068588,
          -0.130644291639328,
          -0.023415958508849144,
          -0.13177624344825745,
          -0.10464604943990707,
          -0.10371658205986023,
          -0.19620588421821594,
          -0.099427230656147,
          -0.08583266288042068,
          -0.08697515726089478,
          0.07715055346488953,
          0.08242584019899368,
          -0.014551199972629547
         ],
         "z": [
          -0.02938891388475895,
          -0.020364660769701004,
          0.009069275110960007,
          -0.22282245755195618,
          -0.21497978270053864,
          -0.08913031220436096,
          -0.2951570749282837,
          0.036580536514520645,
          0.1354227066040039,
          -0.12115747481584549,
          -0.15769416093826294,
          -0.12386801093816757,
          -0.003506555687636137,
          -0.17947103083133698,
          -0.06915593892335892,
          -0.07666219770908356,
          -0.1555127203464508,
          0.005784701090306044,
          -0.13414530456066132,
          -0.1943078190088272,
          -0.13652953505516052
         ]
        },
        {
         "hovertemplate": "<b>%{hovertext}</b>",
         "hovertext": [
          "Counter-Strike: Global Offensive",
          "Call of Duty®",
          "PUBG: BATTLEGROUNDS",
          "NARAKA: BLADEPOINT",
          "Tom Clancy's Rainbow Six® Siege",
          "Dota 2",
          "War Thunder",
          "BattleBit Remastered",
          "Street Fighter™ 6",
          "EA SPORTS™ FIFA 23",
          "Hearts of Iron IV",
          "Yu-Gi-Oh! Master Duel",
          "World of Warships",
          "PAYDAY 2",
          "Hunt: Showdown",
          "Football Manager 2023",
          "Ready or Not",
          "Madden NFL 24",
          "Six Days in Fallujah",
          "DRAGON BALL Z: KAKAROT",
          "Guild Wars 2"
         ],
         "legendgroup": "5",
         "marker": {
          "color": "#EF553B",
          "symbol": "circle"
         },
         "mode": "markers",
         "name": "5",
         "scene": "scene",
         "showlegend": true,
         "type": "scatter3d",
         "x": [
          0.30336812138557434,
          0.17615213990211487,
          0.16218814253807068,
          0.017331810668110847,
          0.1371057778596878,
          0.14202626049518585,
          0.1826995313167572,
          0.10420678555965424,
          0.23652006685733795,
          0.3701900541782379,
          0.10654344409704208,
          0.0380048044025898,
          0.15516483783721924,
          -0.026801446452736855,
          -0.044735804200172424,
          0.22777721285820007,
          0.08313640207052231,
          0.4001821279525757,
          0.021582461893558502,
          0.04980674386024475,
          0.0649895891547203
         ],
         "y": [
          -0.17035582661628723,
          -0.12175164371728897,
          -0.20971620082855225,
          -0.2183992564678192,
          -0.20989927649497986,
          -0.16231384873390198,
          -0.2952442765235901,
          -0.2738839387893677,
          -0.16405391693115234,
          0.019239798188209534,
          -0.23836973309516907,
          -0.28963714838027954,
          -0.049666617065668106,
          -0.1754688322544098,
          -0.13839127123355865,
          0.06806378811597824,
          -0.05347589775919914,
          0.012395743280649185,
          -0.13936050236225128,
          -0.17893797159194946,
          -0.31097009778022766
         ],
         "z": [
          0.05903002619743347,
          0.07213422656059265,
          -0.04325546696782112,
          -0.06567291170358658,
          0.16880546510219574,
          -0.06066840887069702,
          0.09175726771354675,
          0.09011103957891464,
          0.12276290357112885,
          0.04609593376517296,
          -0.006586683914065361,
          -0.03685827553272247,
          -0.0927879810333252,
          0.16245585680007935,
          0.14153102040290833,
          -0.04081709310412407,
          0.19274653494358063,
          0.048225659877061844,
          0.25629231333732605,
          -0.034566547721624374,
          -0.06642758101224899
         ]
        },
        {
         "hovertemplate": "<b>%{hovertext}</b>",
         "hovertext": [
          "Forza Horizon 5",
          "Grand Theft Auto V",
          "Forza Horizon 4",
          "Euro Truck Simulator 2",
          "American Truck Simulator",
          "Microsoft Flight Simulator 40th Anniversary Edition",
          "F1® 23",
          "BeamNG.drive",
          "EA SPORTS FC™ 24"
         ],
         "legendgroup": "4",
         "marker": {
          "color": "#00cc96",
          "symbol": "circle"
         },
         "mode": "markers",
         "name": "4",
         "scene": "scene",
         "showlegend": true,
         "type": "scatter3d",
         "x": [
          0.2593628764152527,
          0.1744718700647354,
          0.182356595993042,
          0.2553456723690033,
          0.3145582973957062,
          0.3386163115501404,
          0.3618311285972595,
          0.33483266830444336,
          0.3746024966239929
         ],
         "y": [
          0.1886434257030487,
          0.04156168922781944,
          0.2782507836818695,
          0.25683990120887756,
          0.32779961824417114,
          0.16956624388694763,
          0.05574809014797211,
          0.24567049741744995,
          0.01749700866639614
         ],
         "z": [
          0.05081780627369881,
          0.20370984077453613,
          -0.048892129212617874,
          0.02872566320002079,
          0.1394197940826416,
          0.03526671603322029,
          0.18220046162605286,
          0.09108378738164902,
          0.03344431146979332
         ]
        },
        {
         "hovertemplate": "<b>%{hovertext}</b>",
         "hovertext": [
          "Cyberpunk 2077",
          "Rust",
          "Dead by Daylight",
          "Phasmophobia",
          "Sons Of The Forest",
          "The Texas Chain Saw Massacre",
          "Project Zomboid",
          "Stardew Valley",
          "Fallout 76",
          "Metro Exodus",
          "Call of Duty®: Black Ops III",
          "Dead Cells",
          "Vampire Survivors",
          "SCP: 5K",
          "The Outlast Trials",
          "DayZ",
          "Darkest Dungeon® II",
          "Graveyard Keeper",
          "Escape the Backrooms",
          "Contraband Police",
          "Resident Evil 4",
          "Dying Light"
         ],
         "legendgroup": "6",
         "marker": {
          "color": "#ab63fa",
          "symbol": "circle"
         },
         "mode": "markers",
         "name": "6",
         "scene": "scene",
         "showlegend": true,
         "type": "scatter3d",
         "x": [
          0.06168140843510628,
          -0.16401039063930511,
          -0.18178504705429077,
          -0.20596171915531158,
          -0.1737215369939804,
          -0.20579929649829865,
          -0.14460769295692444,
          -0.10399522632360458,
          -0.10066484659910202,
          -0.00790342129766941,
          -0.04599839821457863,
          -0.15700912475585938,
          -0.27805081009864807,
          -0.06070026755332947,
          -0.18851792812347412,
          -0.1647026240825653,
          -0.2775972783565521,
          -0.1742389053106308,
          -0.19750477373600006,
          0.05853359401226044,
          -0.18736732006072998,
          -0.12515050172805786
         ],
         "y": [
          0.013593294657766819,
          0.17661668360233307,
          -0.0329592190682888,
          0.0498325452208519,
          0.2857190668582916,
          0.14846184849739075,
          0.13119904696941376,
          0.3083804249763489,
          0.08333685994148254,
          0.23356810212135315,
          -0.06794285029172897,
          -0.001713816775009036,
          0.009860899299383163,
          -0.09077020734548569,
          0.06756212562322617,
          0.1290154755115509,
          0.1185951828956604,
          0.21211431920528412,
          0.0758911669254303,
          0.15535151958465576,
          0.29565665125846863,
          0.12906862795352936
         ],
         "z": [
          0.16233129799365997,
          0.05664823576807976,
          0.3446544110774994,
          0.28436803817749023,
          0.07314451038837433,
          0.3688843548297882,
          0.10181993991136551,
          -0.14146031439304352,
          0.12870311737060547,
          0.0129315834492445,
          0.15639464557170868,
          0.18013855814933777,
          0.22950822114944458,
          0.1995738446712494,
          0.22444142401218414,
          0.14002618193626404,
          0.1454019546508789,
          -0.04207227751612663,
          0.1562749147415161,
          0.0822705626487732,
          0.22805725038051605,
          0.12084144353866577
         ]
        },
        {
         "hovertemplate": "<b>%{hovertext}</b>",
         "hovertext": [
          "Team Fortress 2",
          "Warframe",
          "Mount & Blade II: Bannerlord",
          "Wayfinder",
          "ARMORED CORE™ VI FIRES OF RUBICON™",
          "Stellaris",
          "World of Tanks Blitz",
          "Ratchet & Clank: Rift Apart",
          "It Takes Two",
          "Brawlhalla",
          "BlazBlue Entropy Effect"
         ],
         "legendgroup": "1",
         "marker": {
          "color": "#FFA15A",
          "symbol": "circle"
         },
         "mode": "markers",
         "name": "1",
         "scene": "scene",
         "showlegend": true,
         "type": "scatter3d",
         "x": [
          0.09899270534515381,
          -0.022633539512753487,
          0.045969121158123016,
          -0.09641234576702118,
          0.07536876201629639,
          0.11581817269325256,
          0.13542671501636505,
          -0.033733852207660675,
          -0.049980416893959045,
          0.08476191014051437,
          -0.060231853276491165
         ],
         "y": [
          -0.0879206582903862,
          -0.1950167566537857,
          -0.1353713423013687,
          -0.026335569098591805,
          -0.1395137459039688,
          -0.034572843462228775,
          -0.018745440989732742,
          -0.09140987694263458,
          0.015044919215142727,
          -0.1734420657157898,
          -0.12495291978120804
         ],
         "z": [
          -0.13558290898799896,
          -0.08894476294517517,
          -0.22859157621860504,
          -0.16154345870018005,
          -0.04605766385793686,
          -0.15477308630943298,
          -0.10934758186340332,
          -0.014691784046590328,
          0.009684312157332897,
          -0.07089706510305405,
          -0.08076490461826324
         ]
        },
        {
         "hovertemplate": "<b>%{hovertext}</b>",
         "hovertext": [
          "DAVE THE DIVER",
          "Raft",
          "Sengoku Dynasty",
          "Sea of Thieves 2023 Edition",
          "Terraria",
          "ARK: Survival Evolved",
          "Shadow Gambit: The Cursed Crew",
          "theHunter: Call of the Wild™",
          "Don't Starve Together",
          "Marvel’s Spider-Man Remastered"
         ],
         "legendgroup": "2",
         "marker": {
          "color": "#19d3f3",
          "symbol": "circle"
         },
         "mode": "markers",
         "name": "2",
         "scene": "scene",
         "showlegend": true,
         "type": "scatter3d",
         "x": [
          -0.20808111131191254,
          -0.06761074811220169,
          -0.023580074310302734,
          -0.18030278384685516,
          -0.08203548192977905,
          -0.23209577798843384,
          -0.22103507816791534,
          -0.04134522005915642,
          -0.09687269479036331,
          -0.02925759367644787
         ],
         "y": [
          0.05887719988822937,
          0.21658605337142944,
          0.06620144098997116,
          0.009987035766243935,
          0.04873734340071678,
          0.12866030633449554,
          -0.031066514551639557,
          0.16235095262527466,
          0.10678436607122421,
          -0.0862516462802887
         ],
         "z": [
          -0.04123967885971069,
          -0.09146124124526978,
          -0.2650986611843109,
          -0.08433797210454941,
          -0.16567164659500122,
          -0.07755721360445023,
          -0.00265345792286098,
          -0.13062264025211334,
          -0.1808452308177948,
          0.0922609195113182
         ]
        },
        {
         "hovertemplate": "<b>%{hovertext}</b>",
         "hovertext": [
          "The Sims™ 4",
          "Farming Simulator 22",
          "Cities: Skylines",
          "RimWorld",
          "Planet Zoo",
          "Garry's Mod"
         ],
         "legendgroup": "0",
         "marker": {
          "color": "#FF6692",
          "symbol": "circle"
         },
         "mode": "markers",
         "name": "0",
         "scene": "scene",
         "showlegend": true,
         "type": "scatter3d",
         "x": [
          0.08188466727733612,
          0.055859994143247604,
          0.21763461828231812,
          0.14827962219715118,
          0.16662262380123138,
          0.16119568049907684
         ],
         "y": [
          0.23768305778503418,
          0.34409254789352417,
          0.13186493515968323,
          0.19519755244255066,
          0.3672771155834198,
          0.1576160192489624
         ],
         "z": [
          -0.2079315036535263,
          -0.2707436680793762,
          -0.03007793426513672,
          -0.13511382043361664,
          -0.1528361737728119,
          -0.07052867114543915
         ]
        }
       ],
       "layout": {
        "height": 720,
        "legend": {
         "title": {
          "text": "cluster"
         },
         "tracegroupgap": 0
        },
        "margin": {
         "t": 60
        },
        "scene": {
         "domain": {
          "x": [
           0,
           1
          ],
          "y": [
           0,
           1
          ]
         },
         "xaxis": {
          "range": [
           -0.8122393786907196,
           0.9001821279525757
          ],
          "title": {
           "text": "x"
          }
         },
         "yaxis": {
          "range": [
           -0.8109700977802277,
           0.8672771155834198
          ],
          "title": {
           "text": "y"
          }
         },
         "zaxis": {
          "range": [
           -0.7951570749282837,
           0.8688843548297882
          ],
          "title": {
           "text": "z"
          }
         }
        },
        "template": {
         "data": {
          "bar": [
           {
            "error_x": {
             "color": "#2a3f5f"
            },
            "error_y": {
             "color": "#2a3f5f"
            },
            "marker": {
             "line": {
              "color": "#E5ECF6",
              "width": 0.5
             },
             "pattern": {
              "fillmode": "overlay",
              "size": 10,
              "solidity": 0.2
             }
            },
            "type": "bar"
           }
          ],
          "barpolar": [
           {
            "marker": {
             "line": {
              "color": "#E5ECF6",
              "width": 0.5
             },
             "pattern": {
              "fillmode": "overlay",
              "size": 10,
              "solidity": 0.2
             }
            },
            "type": "barpolar"
           }
          ],
          "carpet": [
           {
            "aaxis": {
             "endlinecolor": "#2a3f5f",
             "gridcolor": "white",
             "linecolor": "white",
             "minorgridcolor": "white",
             "startlinecolor": "#2a3f5f"
            },
            "baxis": {
             "endlinecolor": "#2a3f5f",
             "gridcolor": "white",
             "linecolor": "white",
             "minorgridcolor": "white",
             "startlinecolor": "#2a3f5f"
            },
            "type": "carpet"
           }
          ],
          "choropleth": [
           {
            "colorbar": {
             "outlinewidth": 0,
             "ticks": ""
            },
            "type": "choropleth"
           }
          ],
          "contour": [
           {
            "colorbar": {
             "outlinewidth": 0,
             "ticks": ""
            },
            "colorscale": [
             [
              0,
              "#0d0887"
             ],
             [
              0.1111111111111111,
              "#46039f"
             ],
             [
              0.2222222222222222,
              "#7201a8"
             ],
             [
              0.3333333333333333,
              "#9c179e"
             ],
             [
              0.4444444444444444,
              "#bd3786"
             ],
             [
              0.5555555555555556,
              "#d8576b"
             ],
             [
              0.6666666666666666,
              "#ed7953"
             ],
             [
              0.7777777777777778,
              "#fb9f3a"
             ],
             [
              0.8888888888888888,
              "#fdca26"
             ],
             [
              1,
              "#f0f921"
             ]
            ],
            "type": "contour"
           }
          ],
          "contourcarpet": [
           {
            "colorbar": {
             "outlinewidth": 0,
             "ticks": ""
            },
            "type": "contourcarpet"
           }
          ],
          "heatmap": [
           {
            "colorbar": {
             "outlinewidth": 0,
             "ticks": ""
            },
            "colorscale": [
             [
              0,
              "#0d0887"
             ],
             [
              0.1111111111111111,
              "#46039f"
             ],
             [
              0.2222222222222222,
              "#7201a8"
             ],
             [
              0.3333333333333333,
              "#9c179e"
             ],
             [
              0.4444444444444444,
              "#bd3786"
             ],
             [
              0.5555555555555556,
              "#d8576b"
             ],
             [
              0.6666666666666666,
              "#ed7953"
             ],
             [
              0.7777777777777778,
              "#fb9f3a"
             ],
             [
              0.8888888888888888,
              "#fdca26"
             ],
             [
              1,
              "#f0f921"
             ]
            ],
            "type": "heatmap"
           }
          ],
          "heatmapgl": [
           {
            "colorbar": {
             "outlinewidth": 0,
             "ticks": ""
            },
            "colorscale": [
             [
              0,
              "#0d0887"
             ],
             [
              0.1111111111111111,
              "#46039f"
             ],
             [
              0.2222222222222222,
              "#7201a8"
             ],
             [
              0.3333333333333333,
              "#9c179e"
             ],
             [
              0.4444444444444444,
              "#bd3786"
             ],
             [
              0.5555555555555556,
              "#d8576b"
             ],
             [
              0.6666666666666666,
              "#ed7953"
             ],
             [
              0.7777777777777778,
              "#fb9f3a"
             ],
             [
              0.8888888888888888,
              "#fdca26"
             ],
             [
              1,
              "#f0f921"
             ]
            ],
            "type": "heatmapgl"
           }
          ],
          "histogram": [
           {
            "marker": {
             "pattern": {
              "fillmode": "overlay",
              "size": 10,
              "solidity": 0.2
             }
            },
            "type": "histogram"
           }
          ],
          "histogram2d": [
           {
            "colorbar": {
             "outlinewidth": 0,
             "ticks": ""
            },
            "colorscale": [
             [
              0,
              "#0d0887"
             ],
             [
              0.1111111111111111,
              "#46039f"
             ],
             [
              0.2222222222222222,
              "#7201a8"
             ],
             [
              0.3333333333333333,
              "#9c179e"
             ],
             [
              0.4444444444444444,
              "#bd3786"
             ],
             [
              0.5555555555555556,
              "#d8576b"
             ],
             [
              0.6666666666666666,
              "#ed7953"
             ],
             [
              0.7777777777777778,
              "#fb9f3a"
             ],
             [
              0.8888888888888888,
              "#fdca26"
             ],
             [
              1,
              "#f0f921"
             ]
            ],
            "type": "histogram2d"
           }
          ],
          "histogram2dcontour": [
           {
            "colorbar": {
             "outlinewidth": 0,
             "ticks": ""
            },
            "colorscale": [
             [
              0,
              "#0d0887"
             ],
             [
              0.1111111111111111,
              "#46039f"
             ],
             [
              0.2222222222222222,
              "#7201a8"
             ],
             [
              0.3333333333333333,
              "#9c179e"
             ],
             [
              0.4444444444444444,
              "#bd3786"
             ],
             [
              0.5555555555555556,
              "#d8576b"
             ],
             [
              0.6666666666666666,
              "#ed7953"
             ],
             [
              0.7777777777777778,
              "#fb9f3a"
             ],
             [
              0.8888888888888888,
              "#fdca26"
             ],
             [
              1,
              "#f0f921"
             ]
            ],
            "type": "histogram2dcontour"
           }
          ],
          "mesh3d": [
           {
            "colorbar": {
             "outlinewidth": 0,
             "ticks": ""
            },
            "type": "mesh3d"
           }
          ],
          "parcoords": [
           {
            "line": {
             "colorbar": {
              "outlinewidth": 0,
              "ticks": ""
             }
            },
            "type": "parcoords"
           }
          ],
          "pie": [
           {
            "automargin": true,
            "type": "pie"
           }
          ],
          "scatter": [
           {
            "fillpattern": {
             "fillmode": "overlay",
             "size": 10,
             "solidity": 0.2
            },
            "type": "scatter"
           }
          ],
          "scatter3d": [
           {
            "line": {
             "colorbar": {
              "outlinewidth": 0,
              "ticks": ""
             }
            },
            "marker": {
             "colorbar": {
              "outlinewidth": 0,
              "ticks": ""
             }
            },
            "type": "scatter3d"
           }
          ],
          "scattercarpet": [
           {
            "marker": {
             "colorbar": {
              "outlinewidth": 0,
              "ticks": ""
             }
            },
            "type": "scattercarpet"
           }
          ],
          "scattergeo": [
           {
            "marker": {
             "colorbar": {
              "outlinewidth": 0,
              "ticks": ""
             }
            },
            "type": "scattergeo"
           }
          ],
          "scattergl": [
           {
            "marker": {
             "colorbar": {
              "outlinewidth": 0,
              "ticks": ""
             }
            },
            "type": "scattergl"
           }
          ],
          "scattermapbox": [
           {
            "marker": {
             "colorbar": {
              "outlinewidth": 0,
              "ticks": ""
             }
            },
            "type": "scattermapbox"
           }
          ],
          "scatterpolar": [
           {
            "marker": {
             "colorbar": {
              "outlinewidth": 0,
              "ticks": ""
             }
            },
            "type": "scatterpolar"
           }
          ],
          "scatterpolargl": [
           {
            "marker": {
             "colorbar": {
              "outlinewidth": 0,
              "ticks": ""
             }
            },
            "type": "scatterpolargl"
           }
          ],
          "scatterternary": [
           {
            "marker": {
             "colorbar": {
              "outlinewidth": 0,
              "ticks": ""
             }
            },
            "type": "scatterternary"
           }
          ],
          "surface": [
           {
            "colorbar": {
             "outlinewidth": 0,
             "ticks": ""
            },
            "colorscale": [
             [
              0,
              "#0d0887"
             ],
             [
              0.1111111111111111,
              "#46039f"
             ],
             [
              0.2222222222222222,
              "#7201a8"
             ],
             [
              0.3333333333333333,
              "#9c179e"
             ],
             [
              0.4444444444444444,
              "#bd3786"
             ],
             [
              0.5555555555555556,
              "#d8576b"
             ],
             [
              0.6666666666666666,
              "#ed7953"
             ],
             [
              0.7777777777777778,
              "#fb9f3a"
             ],
             [
              0.8888888888888888,
              "#fdca26"
             ],
             [
              1,
              "#f0f921"
             ]
            ],
            "type": "surface"
           }
          ],
          "table": [
           {
            "cells": {
             "fill": {
              "color": "#EBF0F8"
             },
             "line": {
              "color": "white"
             }
            },
            "header": {
             "fill": {
              "color": "#C8D4E3"
             },
             "line": {
              "color": "white"
             }
            },
            "type": "table"
           }
          ]
         },
         "layout": {
          "annotationdefaults": {
           "arrowcolor": "#2a3f5f",
           "arrowhead": 0,
           "arrowwidth": 1
          },
          "autotypenumbers": "strict",
          "coloraxis": {
           "colorbar": {
            "outlinewidth": 0,
            "ticks": ""
           }
          },
          "colorscale": {
           "diverging": [
            [
             0,
             "#8e0152"
            ],
            [
             0.1,
             "#c51b7d"
            ],
            [
             0.2,
             "#de77ae"
            ],
            [
             0.3,
             "#f1b6da"
            ],
            [
             0.4,
             "#fde0ef"
            ],
            [
             0.5,
             "#f7f7f7"
            ],
            [
             0.6,
             "#e6f5d0"
            ],
            [
             0.7,
             "#b8e186"
            ],
            [
             0.8,
             "#7fbc41"
            ],
            [
             0.9,
             "#4d9221"
            ],
            [
             1,
             "#276419"
            ]
           ],
           "sequential": [
            [
             0,
             "#0d0887"
            ],
            [
             0.1111111111111111,
             "#46039f"
            ],
            [
             0.2222222222222222,
             "#7201a8"
            ],
            [
             0.3333333333333333,
             "#9c179e"
            ],
            [
             0.4444444444444444,
             "#bd3786"
            ],
            [
             0.5555555555555556,
             "#d8576b"
            ],
            [
             0.6666666666666666,
             "#ed7953"
            ],
            [
             0.7777777777777778,
             "#fb9f3a"
            ],
            [
             0.8888888888888888,
             "#fdca26"
            ],
            [
             1,
             "#f0f921"
            ]
           ],
           "sequentialminus": [
            [
             0,
             "#0d0887"
            ],
            [
             0.1111111111111111,
             "#46039f"
            ],
            [
             0.2222222222222222,
             "#7201a8"
            ],
            [
             0.3333333333333333,
             "#9c179e"
            ],
            [
             0.4444444444444444,
             "#bd3786"
            ],
            [
             0.5555555555555556,
             "#d8576b"
            ],
            [
             0.6666666666666666,
             "#ed7953"
            ],
            [
             0.7777777777777778,
             "#fb9f3a"
            ],
            [
             0.8888888888888888,
             "#fdca26"
            ],
            [
             1,
             "#f0f921"
            ]
           ]
          },
          "colorway": [
           "#636efa",
           "#EF553B",
           "#00cc96",
           "#ab63fa",
           "#FFA15A",
           "#19d3f3",
           "#FF6692",
           "#B6E880",
           "#FF97FF",
           "#FECB52"
          ],
          "font": {
           "color": "#2a3f5f"
          },
          "geo": {
           "bgcolor": "white",
           "lakecolor": "white",
           "landcolor": "#E5ECF6",
           "showlakes": true,
           "showland": true,
           "subunitcolor": "white"
          },
          "hoverlabel": {
           "align": "left"
          },
          "hovermode": "closest",
          "mapbox": {
           "style": "light"
          },
          "paper_bgcolor": "white",
          "plot_bgcolor": "#E5ECF6",
          "polar": {
           "angularaxis": {
            "gridcolor": "white",
            "linecolor": "white",
            "ticks": ""
           },
           "bgcolor": "#E5ECF6",
           "radialaxis": {
            "gridcolor": "white",
            "linecolor": "white",
            "ticks": ""
           }
          },
          "scene": {
           "xaxis": {
            "backgroundcolor": "#E5ECF6",
            "gridcolor": "white",
            "gridwidth": 2,
            "linecolor": "white",
            "showbackground": true,
            "ticks": "",
            "zerolinecolor": "white"
           },
           "yaxis": {
            "backgroundcolor": "#E5ECF6",
            "gridcolor": "white",
            "gridwidth": 2,
            "linecolor": "white",
            "showbackground": true,
            "ticks": "",
            "zerolinecolor": "white"
           },
           "zaxis": {
            "backgroundcolor": "#E5ECF6",
            "gridcolor": "white",
            "gridwidth": 2,
            "linecolor": "white",
            "showbackground": true,
            "ticks": "",
            "zerolinecolor": "white"
           }
          },
          "shapedefaults": {
           "line": {
            "color": "#2a3f5f"
           }
          },
          "ternary": {
           "aaxis": {
            "gridcolor": "white",
            "linecolor": "white",
            "ticks": ""
           },
           "baxis": {
            "gridcolor": "white",
            "linecolor": "white",
            "ticks": ""
           },
           "bgcolor": "#E5ECF6",
           "caxis": {
            "gridcolor": "white",
            "linecolor": "white",
            "ticks": ""
           }
          },
          "title": {
           "x": 0.05
          },
          "xaxis": {
           "automargin": true,
           "gridcolor": "white",
           "linecolor": "white",
           "ticks": "",
           "title": {
            "standoff": 15
           },
           "zerolinecolor": "white",
           "zerolinewidth": 2
          },
          "yaxis": {
           "automargin": true,
           "gridcolor": "white",
           "linecolor": "white",
           "ticks": "",
           "title": {
            "standoff": 15
           },
           "zerolinecolor": "white",
           "zerolinewidth": 2
          }
         }
        },
        "width": 1280
       }
      }
     },
     "metadata": {},
     "output_type": "display_data"
    }
   ],
   "source": [
    "visualize(model, sample_descriptions, \"tokenize_desc\", 7)"
   ]
  },
  {
   "cell_type": "markdown",
   "metadata": {},
   "source": [
    "### Visualizing Tags"
   ]
  },
  {
   "cell_type": "code",
   "execution_count": 22,
   "metadata": {},
   "outputs": [
    {
     "name": "stderr",
     "output_type": "stream",
     "text": [
      "/Library/Frameworks/Python.framework/Versions/3.12/lib/python3.12/site-packages/sklearn/cluster/_kmeans.py:1416: FutureWarning:\n",
      "\n",
      "The default value of `n_init` will change from 10 to 'auto' in 1.4. Set the value of `n_init` explicitly to suppress the warning\n",
      "\n"
     ]
    },
    {
     "data": {
      "application/vnd.plotly.v1+json": {
       "config": {
        "plotlyServerURL": "https://plot.ly"
       },
       "data": [
        {
         "hovertemplate": "<b>%{hovertext}</b>",
         "hovertext": [
          "Baldur's Gate 3",
          "Rust",
          "DAVE THE DIVER",
          "Sons Of The Forest",
          "The Sims™ 4",
          "Red Dead Redemption 2",
          "Hogwarts Legacy",
          "Project Zomboid",
          "Raft",
          "Farming Simulator 22",
          "Stardew Valley",
          "Sengoku Dynasty",
          "Cities: Skylines",
          "Microsoft Flight Simulator 40th Anniversary Edition",
          "RimWorld",
          "Terraria",
          "ARK: Survival Evolved",
          "theHunter: Call of the Wild™",
          "Graveyard Keeper",
          "The Elder Scrolls V: Skyrim Special Edition",
          "Don't Starve Together",
          "Planet Zoo",
          "BOOK OF HOURS",
          "Garry's Mod",
          "Valheim"
         ],
         "legendgroup": "3",
         "marker": {
          "color": "#636efa",
          "symbol": "circle"
         },
         "mode": "markers",
         "name": "3",
         "scene": "scene",
         "showlegend": true,
         "type": "scatter3d",
         "x": [
          -0.08008256554603577,
          0.0772688090801239,
          -0.0039636665023863316,
          -0.05210898816585541,
          0.13689082860946655,
          -0.06489119678735733,
          -0.10526011884212494,
          0.03264041244983673,
          0.10455771535634995,
          0.30825871229171753,
          0.20634007453918457,
          0.05747528746724129,
          0.2643706202507019,
          0.20423108339309692,
          0.27286288142204285,
          0.059998687356710434,
          0.09958956390619278,
          0.0003978763415943831,
          0.07525237649679184,
          -0.08026012033224106,
          0.05989638715982437,
          0.3198505938053131,
          0.008906116709113121,
          0.05246686190366745,
          0.08684422820806503
         ],
         "y": [
          0.10421685129404068,
          0.23875997960567474,
          0.18904051184654236,
          0.23140254616737366,
          0.16276732087135315,
          0.10919957607984543,
          0.1861744374036789,
          0.19772446155548096,
          0.2953082323074341,
          0.1686072051525116,
          0.18102359771728516,
          0.2070980668067932,
          0.13997401297092438,
          0.013530243188142776,
          0.1573847383260727,
          0.2888798415660858,
          0.31887397170066833,
          0.08289079368114471,
          0.22770215570926666,
          0.17857466638088226,
          0.29254090785980225,
          0.24849765002727509,
          0.15098780393600464,
          0.1326407790184021,
          0.3191964328289032
         ],
         "z": [
          -0.08825259655714035,
          -0.13173910975456238,
          0.008132235147058964,
          -0.017140915617346764,
          -0.023634247481822968,
          -0.0023956361692398787,
          -0.0998944640159607,
          -0.02758088707923889,
          -0.1386854201555252,
          -0.08024893701076508,
          -0.052892427891492844,
          -0.019550243392586708,
          -0.11639980971813202,
          0.0448637492954731,
          -0.17590336501598358,
          -0.076461061835289,
          -0.0949261412024498,
          0.008272228762507439,
          -0.056105174124240875,
          -0.07195992767810822,
          -0.10329994559288025,
          -0.1079632118344307,
          -0.12014444172382355,
          -0.0183505117893219,
          -0.09936019778251648
         ]
        },
        {
         "hovertemplate": "<b>%{hovertext}</b>",
         "hovertext": [
          "Counter-Strike: Global Offensive",
          "Apex Legends™",
          "Call of Duty®",
          "PUBG: BATTLEGROUNDS",
          "Cyberpunk 2077",
          "NARAKA: BLADEPOINT",
          "Tom Clancy's Rainbow Six® Siege",
          "Team Fortress 2",
          "Dota 2",
          "FINAL FANTASY XIV Online",
          "The Elder Scrolls® Online",
          "Warframe",
          "BattleBit Remastered",
          "Street Fighter™ 6",
          "Destiny 2",
          "PAYDAY 2",
          "Hunt: Showdown",
          "Ready or Not",
          "Starfield",
          "Wayfinder",
          "Sea of Thieves 2023 Edition",
          "Fallout 76",
          "ARMORED CORE™ VI FIRES OF RUBICON™",
          "Metro Exodus",
          "Path of Exile",
          "Call of Duty®: Black Ops III",
          "Deep Rock Galactic",
          "World of Tanks Blitz",
          "Eternal Return",
          "SCP: 5K",
          "DayZ",
          "It Takes Two",
          "Six Days in Fallujah",
          "Brawlhalla",
          "DRAGON BALL Z: KAKAROT",
          "New World",
          "Guild Wars 2",
          "Marvel’s Spider-Man Remastered"
         ],
         "legendgroup": "4",
         "marker": {
          "color": "#EF553B",
          "symbol": "circle"
         },
         "mode": "markers",
         "name": "4",
         "scene": "scene",
         "showlegend": true,
         "type": "scatter3d",
         "x": [
          -0.043396398425102234,
          -0.08582491427659988,
          -0.14417599141597748,
          -0.08476802706718445,
          -0.0512901209294796,
          -0.10727447271347046,
          -0.054648883640766144,
          -0.11140292137861252,
          0.07784741371870041,
          -0.041848935186862946,
          -0.059871233999729156,
          -0.2027772068977356,
          -0.1000433936715126,
          -0.11674346774816513,
          -0.09756391495466232,
          -0.1702345758676529,
          -0.07420395314693451,
          -0.08712337911128998,
          -0.0826425701379776,
          -0.09993557631969452,
          -0.006681050639599562,
          -0.06551451981067657,
          -0.015050511807203293,
          -0.11500459909439087,
          -0.16860733926296234,
          -0.1439725011587143,
          -0.11809181421995163,
          -0.05072653666138649,
          -0.02332761138677597,
          -0.16965918242931366,
          -0.07653279602527618,
          -0.07181059569120407,
          -0.11534460633993149,
          -0.10334964096546173,
          -0.1151934564113617,
          -0.029742546379566193,
          -0.05409722030162811,
          -0.15102612972259521
         ],
         "y": [
          -0.17296969890594482,
          -0.19593453407287598,
          -0.15379445254802704,
          -0.10206043720245361,
          0.05008856579661369,
          -0.2120124101638794,
          -0.19232210516929626,
          -0.185302734375,
          -0.26432979106903076,
          -0.03999696299433708,
          0.05948470160365105,
          -0.13193993270397186,
          -0.18037137389183044,
          -0.09616093337535858,
          -0.0749804824590683,
          -0.16298140585422516,
          -0.07930789142847061,
          -0.17193341255187988,
          0.09842416644096375,
          -0.051140401512384415,
          0.04393157362937927,
          0.08517884463071823,
          -0.11919744312763214,
          0.03873984515666962,
          0.0031128665432333946,
          -0.13083826005458832,
          0.004474462941288948,
          -0.21023939549922943,
          -0.1731996238231659,
          -0.1374576836824417,
          -0.012945624999701977,
          0.08323325961828232,
          -0.2145676612854004,
          -0.1198829635977745,
          -0.06775379925966263,
          -0.008628539741039276,
          0.013467944227159023,
          0.021647827699780464
         ],
         "z": [
          0.011201709508895874,
          -0.027110571041703224,
          0.07881377637386322,
          -0.00916293915361166,
          0.10563315451145172,
          -0.06560993194580078,
          0.0016415886348113418,
          0.017839107662439346,
          -0.17737947404384613,
          -0.15668518841266632,
          -0.12342099100351334,
          0.07316995412111282,
          -0.00909846369177103,
          -0.025424063205718994,
          -0.020594945177435875,
          0.13078133761882782,
          0.04521022364497185,
          0.04142087325453758,
          0.005439515691250563,
          -0.10844000428915024,
          -0.0636662170290947,
          0.02412835694849491,
          -0.0037483531050384045,
          0.10226569324731827,
          -0.0026891089510172606,
          0.08857636898756027,
          0.010497371666133404,
          -0.06653792411088943,
          -0.08783537894487381,
          0.05841129273176193,
          0.007300363387912512,
          -0.07055182754993439,
          -0.01724511943757534,
          -0.054339367896318436,
          -0.007263740990310907,
          -0.1345047503709793,
          -0.12235607951879501,
          0.039550893008708954
         ]
        },
        {
         "hovertemplate": "<b>%{hovertext}</b>",
         "hovertext": [
          "Forza Horizon 5",
          "Grand Theft Auto V",
          "War Thunder",
          "Forza Horizon 4",
          "Euro Truck Simulator 2",
          "American Truck Simulator",
          "F1® 23",
          "BeamNG.drive",
          "Contraband Police"
         ],
         "legendgroup": "6",
         "marker": {
          "color": "#00cc96",
          "symbol": "circle"
         },
         "mode": "markers",
         "name": "6",
         "scene": "scene",
         "showlegend": true,
         "type": "scatter3d",
         "x": [
          0.290166437625885,
          0.1085890382528305,
          0.24649889767169952,
          0.3165915012359619,
          0.44430777430534363,
          0.47086745500564575,
          0.3520185947418213,
          0.41723600029945374,
          0.08764748275279999
         ],
         "y": [
          -0.021389752626419067,
          -0.01981172524392605,
          -0.2880230247974396,
          -0.0654745101928711,
          0.023732557892799377,
          0.007768483832478523,
          -0.138556569814682,
          -0.001274504349566996,
          0.03650189936161041
         ],
         "z": [
          0.2567817270755768,
          0.2175447791814804,
          0.1757311373949051,
          0.27580565214157104,
          0.32722729444503784,
          0.33755427598953247,
          0.29148584604263306,
          0.3290800452232361,
          0.2934582531452179
         ]
        },
        {
         "hovertemplate": "<b>%{hovertext}</b>",
         "hovertext": [
          "Remnant II",
          "ELDEN RING",
          "Dead Cells",
          "Ratchet & Clank: Rift Apart",
          "Vampire Survivors",
          "Darkest Dungeon® II",
          "The Binding of Isaac: Rebirth",
          "BlazBlue Entropy Effect"
         ],
         "legendgroup": "2",
         "marker": {
          "color": "#ab63fa",
          "symbol": "circle"
         },
         "mode": "markers",
         "name": "2",
         "scene": "scene",
         "showlegend": true,
         "type": "scatter3d",
         "x": [
          -0.25495073199272156,
          -0.24398107826709747,
          -0.2627829909324646,
          -0.1883482187986374,
          -0.2404780238866806,
          -0.18163786828517914,
          -0.25327247381210327,
          -0.22572210431098938
         ],
         "y": [
          0.04909611493349075,
          0.11549155414104462,
          0.08534058928489685,
          0.09230921417474747,
          -0.035964541137218475,
          0.05681099370121956,
          0.06120341643691063,
          0.04369190335273743
         ],
         "z": [
          0.13451969623565674,
          0.08995375782251358,
          0.15870773792266846,
          0.0693245679140091,
          0.17357727885246277,
          -0.08599914610385895,
          0.1562015265226364,
          0.12107157707214355
         ]
        },
        {
         "hovertemplate": "<b>%{hovertext}</b>",
         "hovertext": [
          "Dead by Daylight",
          "Phasmophobia",
          "The Texas Chain Saw Massacre",
          "The Outlast Trials",
          "Escape the Backrooms",
          "Resident Evil 4",
          "Dying Light"
         ],
         "legendgroup": "5",
         "marker": {
          "color": "#FFA15A",
          "symbol": "circle"
         },
         "mode": "markers",
         "name": "5",
         "scene": "scene",
         "showlegend": true,
         "type": "scatter3d",
         "x": [
          -0.1508261263370514,
          -0.18367962539196014,
          -0.15187837183475494,
          -0.19956783950328827,
          -0.19886614382266998,
          -0.20566318929195404,
          -0.10595255345106125
         ],
         "y": [
          0.059037353843450546,
          0.0873415544629097,
          0.013681522570550442,
          0.0876505970954895,
          0.13466250896453857,
          0.011455981992185116,
          0.08514872938394547
         ],
         "z": [
          0.11036641895771027,
          0.21992404758930206,
          0.0939827561378479,
          0.14629362523555756,
          0.16830436885356903,
          0.16067864000797272,
          0.19167499244213104
         ]
        },
        {
         "hovertemplate": "<b>%{hovertext}</b>",
         "hovertext": [
          "EA SPORTS™ FIFA 23",
          "Football Manager 2023",
          "Madden NFL 24",
          "EA SPORTS FC™ 24"
         ],
         "legendgroup": "0",
         "marker": {
          "color": "#19d3f3",
          "symbol": "circle"
         },
         "mode": "markers",
         "name": "0",
         "scene": "scene",
         "showlegend": true,
         "type": "scatter3d",
         "x": [
          0.3465975224971771,
          0.37803781032562256,
          0.27350354194641113,
          0.22258992493152618
         ],
         "y": [
          -0.2711135447025299,
          -0.22706955671310425,
          -0.25977036356925964,
          -0.29084327816963196
         ],
         "z": [
          -0.053612831979990005,
          -0.09684184938669205,
          -0.10040002316236496,
          -0.0683194026350975
         ]
        },
        {
         "hovertemplate": "<b>%{hovertext}</b>",
         "hovertext": [
          "Hearts of Iron IV",
          "Yu-Gi-Oh! Master Duel",
          "Total War: WARHAMMER III",
          "World of Warships",
          "Mount & Blade II: Bannerlord",
          "Stellaris",
          "Crusader Kings III",
          "Shadow Gambit: The Cursed Crew",
          "Sid Meier’s Civilization® VI"
         ],
         "legendgroup": "1",
         "marker": {
          "color": "#FF6692",
          "symbol": "circle"
         },
         "mode": "markers",
         "name": "1",
         "scene": "scene",
         "showlegend": true,
         "type": "scatter3d",
         "x": [
          0.04889266937971115,
          -0.01227626297622919,
          0.014100117608904839,
          0.06641222536563873,
          0.04027360677719116,
          0.09407588094472885,
          0.13070224225521088,
          -0.013268564827740192,
          0.01416633278131485
         ],
         "y": [
          -0.23424361646175385,
          -0.05496496707201004,
          -0.1320405751466751,
          -0.2705524265766144,
          -0.012304781936109066,
          -0.012938451021909714,
          -0.04189674183726311,
          -0.17482292652130127,
          -0.16040033102035522
         ],
         "z": [
          -0.2132304459810257,
          -0.21668873727321625,
          -0.2635466456413269,
          -0.13076157867908478,
          -0.26778796315193176,
          -0.10743878781795502,
          -0.2820095121860504,
          -0.19037562608718872,
          -0.248834028840065
         ]
        }
       ],
       "layout": {
        "height": 720,
        "legend": {
         "title": {
          "text": "cluster"
         },
         "tracegroupgap": 0
        },
        "margin": {
         "t": 60
        },
        "scene": {
         "domain": {
          "x": [
           0,
           1
          ],
          "y": [
           0,
           1
          ]
         },
         "xaxis": {
          "range": [
           -0.7627829909324646,
           0.9708674550056458
          ],
          "title": {
           "text": "x"
          }
         },
         "yaxis": {
          "range": [
           -0.790843278169632,
           0.8191964328289032
          ],
          "title": {
           "text": "y"
          }
         },
         "zaxis": {
          "range": [
           -0.7820095121860504,
           0.8375542759895325
          ],
          "title": {
           "text": "z"
          }
         }
        },
        "template": {
         "data": {
          "bar": [
           {
            "error_x": {
             "color": "#2a3f5f"
            },
            "error_y": {
             "color": "#2a3f5f"
            },
            "marker": {
             "line": {
              "color": "#E5ECF6",
              "width": 0.5
             },
             "pattern": {
              "fillmode": "overlay",
              "size": 10,
              "solidity": 0.2
             }
            },
            "type": "bar"
           }
          ],
          "barpolar": [
           {
            "marker": {
             "line": {
              "color": "#E5ECF6",
              "width": 0.5
             },
             "pattern": {
              "fillmode": "overlay",
              "size": 10,
              "solidity": 0.2
             }
            },
            "type": "barpolar"
           }
          ],
          "carpet": [
           {
            "aaxis": {
             "endlinecolor": "#2a3f5f",
             "gridcolor": "white",
             "linecolor": "white",
             "minorgridcolor": "white",
             "startlinecolor": "#2a3f5f"
            },
            "baxis": {
             "endlinecolor": "#2a3f5f",
             "gridcolor": "white",
             "linecolor": "white",
             "minorgridcolor": "white",
             "startlinecolor": "#2a3f5f"
            },
            "type": "carpet"
           }
          ],
          "choropleth": [
           {
            "colorbar": {
             "outlinewidth": 0,
             "ticks": ""
            },
            "type": "choropleth"
           }
          ],
          "contour": [
           {
            "colorbar": {
             "outlinewidth": 0,
             "ticks": ""
            },
            "colorscale": [
             [
              0,
              "#0d0887"
             ],
             [
              0.1111111111111111,
              "#46039f"
             ],
             [
              0.2222222222222222,
              "#7201a8"
             ],
             [
              0.3333333333333333,
              "#9c179e"
             ],
             [
              0.4444444444444444,
              "#bd3786"
             ],
             [
              0.5555555555555556,
              "#d8576b"
             ],
             [
              0.6666666666666666,
              "#ed7953"
             ],
             [
              0.7777777777777778,
              "#fb9f3a"
             ],
             [
              0.8888888888888888,
              "#fdca26"
             ],
             [
              1,
              "#f0f921"
             ]
            ],
            "type": "contour"
           }
          ],
          "contourcarpet": [
           {
            "colorbar": {
             "outlinewidth": 0,
             "ticks": ""
            },
            "type": "contourcarpet"
           }
          ],
          "heatmap": [
           {
            "colorbar": {
             "outlinewidth": 0,
             "ticks": ""
            },
            "colorscale": [
             [
              0,
              "#0d0887"
             ],
             [
              0.1111111111111111,
              "#46039f"
             ],
             [
              0.2222222222222222,
              "#7201a8"
             ],
             [
              0.3333333333333333,
              "#9c179e"
             ],
             [
              0.4444444444444444,
              "#bd3786"
             ],
             [
              0.5555555555555556,
              "#d8576b"
             ],
             [
              0.6666666666666666,
              "#ed7953"
             ],
             [
              0.7777777777777778,
              "#fb9f3a"
             ],
             [
              0.8888888888888888,
              "#fdca26"
             ],
             [
              1,
              "#f0f921"
             ]
            ],
            "type": "heatmap"
           }
          ],
          "heatmapgl": [
           {
            "colorbar": {
             "outlinewidth": 0,
             "ticks": ""
            },
            "colorscale": [
             [
              0,
              "#0d0887"
             ],
             [
              0.1111111111111111,
              "#46039f"
             ],
             [
              0.2222222222222222,
              "#7201a8"
             ],
             [
              0.3333333333333333,
              "#9c179e"
             ],
             [
              0.4444444444444444,
              "#bd3786"
             ],
             [
              0.5555555555555556,
              "#d8576b"
             ],
             [
              0.6666666666666666,
              "#ed7953"
             ],
             [
              0.7777777777777778,
              "#fb9f3a"
             ],
             [
              0.8888888888888888,
              "#fdca26"
             ],
             [
              1,
              "#f0f921"
             ]
            ],
            "type": "heatmapgl"
           }
          ],
          "histogram": [
           {
            "marker": {
             "pattern": {
              "fillmode": "overlay",
              "size": 10,
              "solidity": 0.2
             }
            },
            "type": "histogram"
           }
          ],
          "histogram2d": [
           {
            "colorbar": {
             "outlinewidth": 0,
             "ticks": ""
            },
            "colorscale": [
             [
              0,
              "#0d0887"
             ],
             [
              0.1111111111111111,
              "#46039f"
             ],
             [
              0.2222222222222222,
              "#7201a8"
             ],
             [
              0.3333333333333333,
              "#9c179e"
             ],
             [
              0.4444444444444444,
              "#bd3786"
             ],
             [
              0.5555555555555556,
              "#d8576b"
             ],
             [
              0.6666666666666666,
              "#ed7953"
             ],
             [
              0.7777777777777778,
              "#fb9f3a"
             ],
             [
              0.8888888888888888,
              "#fdca26"
             ],
             [
              1,
              "#f0f921"
             ]
            ],
            "type": "histogram2d"
           }
          ],
          "histogram2dcontour": [
           {
            "colorbar": {
             "outlinewidth": 0,
             "ticks": ""
            },
            "colorscale": [
             [
              0,
              "#0d0887"
             ],
             [
              0.1111111111111111,
              "#46039f"
             ],
             [
              0.2222222222222222,
              "#7201a8"
             ],
             [
              0.3333333333333333,
              "#9c179e"
             ],
             [
              0.4444444444444444,
              "#bd3786"
             ],
             [
              0.5555555555555556,
              "#d8576b"
             ],
             [
              0.6666666666666666,
              "#ed7953"
             ],
             [
              0.7777777777777778,
              "#fb9f3a"
             ],
             [
              0.8888888888888888,
              "#fdca26"
             ],
             [
              1,
              "#f0f921"
             ]
            ],
            "type": "histogram2dcontour"
           }
          ],
          "mesh3d": [
           {
            "colorbar": {
             "outlinewidth": 0,
             "ticks": ""
            },
            "type": "mesh3d"
           }
          ],
          "parcoords": [
           {
            "line": {
             "colorbar": {
              "outlinewidth": 0,
              "ticks": ""
             }
            },
            "type": "parcoords"
           }
          ],
          "pie": [
           {
            "automargin": true,
            "type": "pie"
           }
          ],
          "scatter": [
           {
            "fillpattern": {
             "fillmode": "overlay",
             "size": 10,
             "solidity": 0.2
            },
            "type": "scatter"
           }
          ],
          "scatter3d": [
           {
            "line": {
             "colorbar": {
              "outlinewidth": 0,
              "ticks": ""
             }
            },
            "marker": {
             "colorbar": {
              "outlinewidth": 0,
              "ticks": ""
             }
            },
            "type": "scatter3d"
           }
          ],
          "scattercarpet": [
           {
            "marker": {
             "colorbar": {
              "outlinewidth": 0,
              "ticks": ""
             }
            },
            "type": "scattercarpet"
           }
          ],
          "scattergeo": [
           {
            "marker": {
             "colorbar": {
              "outlinewidth": 0,
              "ticks": ""
             }
            },
            "type": "scattergeo"
           }
          ],
          "scattergl": [
           {
            "marker": {
             "colorbar": {
              "outlinewidth": 0,
              "ticks": ""
             }
            },
            "type": "scattergl"
           }
          ],
          "scattermapbox": [
           {
            "marker": {
             "colorbar": {
              "outlinewidth": 0,
              "ticks": ""
             }
            },
            "type": "scattermapbox"
           }
          ],
          "scatterpolar": [
           {
            "marker": {
             "colorbar": {
              "outlinewidth": 0,
              "ticks": ""
             }
            },
            "type": "scatterpolar"
           }
          ],
          "scatterpolargl": [
           {
            "marker": {
             "colorbar": {
              "outlinewidth": 0,
              "ticks": ""
             }
            },
            "type": "scatterpolargl"
           }
          ],
          "scatterternary": [
           {
            "marker": {
             "colorbar": {
              "outlinewidth": 0,
              "ticks": ""
             }
            },
            "type": "scatterternary"
           }
          ],
          "surface": [
           {
            "colorbar": {
             "outlinewidth": 0,
             "ticks": ""
            },
            "colorscale": [
             [
              0,
              "#0d0887"
             ],
             [
              0.1111111111111111,
              "#46039f"
             ],
             [
              0.2222222222222222,
              "#7201a8"
             ],
             [
              0.3333333333333333,
              "#9c179e"
             ],
             [
              0.4444444444444444,
              "#bd3786"
             ],
             [
              0.5555555555555556,
              "#d8576b"
             ],
             [
              0.6666666666666666,
              "#ed7953"
             ],
             [
              0.7777777777777778,
              "#fb9f3a"
             ],
             [
              0.8888888888888888,
              "#fdca26"
             ],
             [
              1,
              "#f0f921"
             ]
            ],
            "type": "surface"
           }
          ],
          "table": [
           {
            "cells": {
             "fill": {
              "color": "#EBF0F8"
             },
             "line": {
              "color": "white"
             }
            },
            "header": {
             "fill": {
              "color": "#C8D4E3"
             },
             "line": {
              "color": "white"
             }
            },
            "type": "table"
           }
          ]
         },
         "layout": {
          "annotationdefaults": {
           "arrowcolor": "#2a3f5f",
           "arrowhead": 0,
           "arrowwidth": 1
          },
          "autotypenumbers": "strict",
          "coloraxis": {
           "colorbar": {
            "outlinewidth": 0,
            "ticks": ""
           }
          },
          "colorscale": {
           "diverging": [
            [
             0,
             "#8e0152"
            ],
            [
             0.1,
             "#c51b7d"
            ],
            [
             0.2,
             "#de77ae"
            ],
            [
             0.3,
             "#f1b6da"
            ],
            [
             0.4,
             "#fde0ef"
            ],
            [
             0.5,
             "#f7f7f7"
            ],
            [
             0.6,
             "#e6f5d0"
            ],
            [
             0.7,
             "#b8e186"
            ],
            [
             0.8,
             "#7fbc41"
            ],
            [
             0.9,
             "#4d9221"
            ],
            [
             1,
             "#276419"
            ]
           ],
           "sequential": [
            [
             0,
             "#0d0887"
            ],
            [
             0.1111111111111111,
             "#46039f"
            ],
            [
             0.2222222222222222,
             "#7201a8"
            ],
            [
             0.3333333333333333,
             "#9c179e"
            ],
            [
             0.4444444444444444,
             "#bd3786"
            ],
            [
             0.5555555555555556,
             "#d8576b"
            ],
            [
             0.6666666666666666,
             "#ed7953"
            ],
            [
             0.7777777777777778,
             "#fb9f3a"
            ],
            [
             0.8888888888888888,
             "#fdca26"
            ],
            [
             1,
             "#f0f921"
            ]
           ],
           "sequentialminus": [
            [
             0,
             "#0d0887"
            ],
            [
             0.1111111111111111,
             "#46039f"
            ],
            [
             0.2222222222222222,
             "#7201a8"
            ],
            [
             0.3333333333333333,
             "#9c179e"
            ],
            [
             0.4444444444444444,
             "#bd3786"
            ],
            [
             0.5555555555555556,
             "#d8576b"
            ],
            [
             0.6666666666666666,
             "#ed7953"
            ],
            [
             0.7777777777777778,
             "#fb9f3a"
            ],
            [
             0.8888888888888888,
             "#fdca26"
            ],
            [
             1,
             "#f0f921"
            ]
           ]
          },
          "colorway": [
           "#636efa",
           "#EF553B",
           "#00cc96",
           "#ab63fa",
           "#FFA15A",
           "#19d3f3",
           "#FF6692",
           "#B6E880",
           "#FF97FF",
           "#FECB52"
          ],
          "font": {
           "color": "#2a3f5f"
          },
          "geo": {
           "bgcolor": "white",
           "lakecolor": "white",
           "landcolor": "#E5ECF6",
           "showlakes": true,
           "showland": true,
           "subunitcolor": "white"
          },
          "hoverlabel": {
           "align": "left"
          },
          "hovermode": "closest",
          "mapbox": {
           "style": "light"
          },
          "paper_bgcolor": "white",
          "plot_bgcolor": "#E5ECF6",
          "polar": {
           "angularaxis": {
            "gridcolor": "white",
            "linecolor": "white",
            "ticks": ""
           },
           "bgcolor": "#E5ECF6",
           "radialaxis": {
            "gridcolor": "white",
            "linecolor": "white",
            "ticks": ""
           }
          },
          "scene": {
           "xaxis": {
            "backgroundcolor": "#E5ECF6",
            "gridcolor": "white",
            "gridwidth": 2,
            "linecolor": "white",
            "showbackground": true,
            "ticks": "",
            "zerolinecolor": "white"
           },
           "yaxis": {
            "backgroundcolor": "#E5ECF6",
            "gridcolor": "white",
            "gridwidth": 2,
            "linecolor": "white",
            "showbackground": true,
            "ticks": "",
            "zerolinecolor": "white"
           },
           "zaxis": {
            "backgroundcolor": "#E5ECF6",
            "gridcolor": "white",
            "gridwidth": 2,
            "linecolor": "white",
            "showbackground": true,
            "ticks": "",
            "zerolinecolor": "white"
           }
          },
          "shapedefaults": {
           "line": {
            "color": "#2a3f5f"
           }
          },
          "ternary": {
           "aaxis": {
            "gridcolor": "white",
            "linecolor": "white",
            "ticks": ""
           },
           "baxis": {
            "gridcolor": "white",
            "linecolor": "white",
            "ticks": ""
           },
           "bgcolor": "#E5ECF6",
           "caxis": {
            "gridcolor": "white",
            "linecolor": "white",
            "ticks": ""
           }
          },
          "title": {
           "x": 0.05
          },
          "xaxis": {
           "automargin": true,
           "gridcolor": "white",
           "linecolor": "white",
           "ticks": "",
           "title": {
            "standoff": 15
           },
           "zerolinecolor": "white",
           "zerolinewidth": 2
          },
          "yaxis": {
           "automargin": true,
           "gridcolor": "white",
           "linecolor": "white",
           "ticks": "",
           "title": {
            "standoff": 15
           },
           "zerolinecolor": "white",
           "zerolinewidth": 2
          }
         }
        },
        "width": 1280
       }
      }
     },
     "metadata": {},
     "output_type": "display_data"
    }
   ],
   "source": [
    "visualize(model, sample_descriptions, \"tokenize_tag\", 7)"
   ]
  },
  {
   "cell_type": "markdown",
   "metadata": {},
   "source": [
    "### Visualizing Combination: Description + Tags"
   ]
  },
  {
   "cell_type": "code",
   "execution_count": 23,
   "metadata": {},
   "outputs": [
    {
     "name": "stderr",
     "output_type": "stream",
     "text": [
      "/Library/Frameworks/Python.framework/Versions/3.12/lib/python3.12/site-packages/sklearn/cluster/_kmeans.py:1416: FutureWarning:\n",
      "\n",
      "The default value of `n_init` will change from 10 to 'auto' in 1.4. Set the value of `n_init` explicitly to suppress the warning\n",
      "\n"
     ]
    },
    {
     "data": {
      "application/vnd.plotly.v1+json": {
       "config": {
        "plotlyServerURL": "https://plot.ly"
       },
       "data": [
        {
         "hovertemplate": "<b>%{hovertext}</b>",
         "hovertext": [
          "Baldur's Gate 3",
          "Remnant II",
          "Cyberpunk 2077",
          "FINAL FANTASY XIV Online",
          "DAVE THE DIVER",
          "ELDEN RING",
          "Red Dead Redemption 2",
          "Hogwarts Legacy",
          "Wayfinder",
          "Sea of Thieves 2023 Edition",
          "Fallout 76",
          "Metro Exodus",
          "Path of Exile",
          "Deep Rock Galactic",
          "Dead Cells",
          "Ratchet & Clank: Rift Apart",
          "Shadow Gambit: The Cursed Crew",
          "Darkest Dungeon® II",
          "The Elder Scrolls V: Skyrim Special Edition",
          "Escape the Backrooms",
          "It Takes Two",
          "Contraband Police",
          "The Binding of Isaac: Rebirth",
          "BOOK OF HOURS",
          "BlazBlue Entropy Effect"
         ],
         "legendgroup": "0",
         "marker": {
          "color": "#636efa",
          "symbol": "circle"
         },
         "mode": "markers",
         "name": "0",
         "scene": "scene",
         "showlegend": true,
         "type": "scatter3d",
         "x": [
          -0.2578539550304413,
          -0.2549385130405426,
          0.04089672490954399,
          -0.08581148087978363,
          -0.20437629520893097,
          -0.20737677812576294,
          -0.13871176540851593,
          -0.24447648227214813,
          -0.126383438706398,
          -0.16987529397010803,
          -0.09107251465320587,
          0.02864725887775421,
          -0.251267671585083,
          -0.08262481540441513,
          -0.19762234389781952,
          -0.12380209565162659,
          -0.20439960062503815,
          -0.28393933176994324,
          -0.1430387943983078,
          -0.20091205835342407,
          -0.06723121553659439,
          0.1312226802110672,
          -0.228592187166214,
          -0.27021852135658264,
          -0.1439255177974701
         ],
         "y": [
          -0.0812801793217659,
          -0.012586342170834541,
          0.00213617947883904,
          -0.018008681014180183,
          0.12178969383239746,
          0.02191798761487007,
          -0.03241008520126343,
          -0.039138663560152054,
          -0.008087578229606152,
          0.045072201639413834,
          0.12022922188043594,
          0.17502479255199432,
          -0.05586855858564377,
          -0.061541810631752014,
          0.03173281252384186,
          -0.039079923182725906,
          -0.030190641060471535,
          0.08002839237451553,
          -0.004414124879986048,
          0.11663725972175598,
          0.006956479046493769,
          0.10053952038288116,
          -0.04708893969655037,
          0.15746673941612244,
          -0.11272432655096054
         ],
         "z": [
          -0.05250048637390137,
          0.02500595524907112,
          0.1600210815668106,
          -0.18563735485076904,
          -0.00599500210955739,
          -0.2342146635055542,
          0.1401112973690033,
          -0.12156730890274048,
          -0.15042154490947723,
          -0.07109946012496948,
          0.13176429271697998,
          0.058167193084955215,
          -0.12067852169275284,
          -0.019036976620554924,
          0.19795182347297668,
          0.002130863256752491,
          -0.03790842741727829,
          0.16732273995876312,
          -0.1530434638261795,
          0.20204761624336243,
          0.052646372467279434,
          0.1239233985543251,
          0.05483703687787056,
          -0.12685193121433258,
          -0.02424115687608719
         ]
        },
        {
         "hovertemplate": "<b>%{hovertext}</b>",
         "hovertext": [
          "Counter-Strike: Global Offensive",
          "War Thunder",
          "Hearts of Iron IV",
          "Total War: WARHAMMER III",
          "World of Warships",
          "Mount & Blade II: Bannerlord",
          "Stellaris",
          "Crusader Kings III",
          "Sid Meier’s Civilization® VI",
          "Guild Wars 2"
         ],
         "legendgroup": "4",
         "marker": {
          "color": "#EF553B",
          "symbol": "circle"
         },
         "mode": "markers",
         "name": "4",
         "scene": "scene",
         "showlegend": true,
         "type": "scatter3d",
         "x": [
          0.2353937029838562,
          0.1381567120552063,
          0.05900771915912628,
          -0.12671631574630737,
          0.14274409413337708,
          0.010021704249083996,
          0.09770989418029785,
          -0.05411378666758537,
          0.08284756541252136,
          -0.022946111857891083
         ],
         "y": [
          -0.2242467999458313,
          -0.2936960756778717,
          -0.27253106236457825,
          -0.18671442568302155,
          -0.12152796238660812,
          -0.09384787827730179,
          -0.044347427785396576,
          -0.08340786397457123,
          -0.16135922074317932,
          -0.2525278627872467
         ],
         "z": [
          0.005987201351672411,
          0.042009562253952026,
          -0.10313662141561508,
          -0.06863925606012344,
          -0.08824802190065384,
          -0.2873215973377228,
          -0.163869708776474,
          -0.24288029968738556,
          -0.14863461256027222,
          -0.1566823422908783
         ]
        },
        {
         "hovertemplate": "<b>%{hovertext}</b>",
         "hovertext": [
          "Apex Legends™",
          "Call of Duty®",
          "PUBG: BATTLEGROUNDS",
          "NARAKA: BLADEPOINT",
          "Tom Clancy's Rainbow Six® Siege",
          "Team Fortress 2",
          "Dota 2",
          "Warframe",
          "BattleBit Remastered",
          "Street Fighter™ 6",
          "Destiny 2",
          "Yu-Gi-Oh! Master Duel",
          "PAYDAY 2",
          "Hunt: Showdown",
          "Ready or Not",
          "Starfield",
          "ARMORED CORE™ VI FIRES OF RUBICON™",
          "Call of Duty®: Black Ops III",
          "World of Tanks Blitz",
          "Eternal Return",
          "SCP: 5K",
          "Six Days in Fallujah",
          "Brawlhalla",
          "DRAGON BALL Z: KAKAROT",
          "Marvel’s Spider-Man Remastered"
         ],
         "legendgroup": "5",
         "marker": {
          "color": "#00cc96",
          "symbol": "circle"
         },
         "mode": "markers",
         "name": "5",
         "scene": "scene",
         "showlegend": true,
         "type": "scatter3d",
         "x": [
          -0.08341853320598602,
          0.13920000195503235,
          0.09439042210578918,
          -0.046262890100479126,
          0.07976679503917694,
          0.05874694138765335,
          0.11877232044935226,
          -0.09324897825717926,
          0.0206889808177948,
          0.1537390798330307,
          -0.11402635276317596,
          -0.040831465274095535,
          -0.07393909990787506,
          -0.06756226718425751,
          0.07625678926706314,
          0.03542139381170273,
          0.04316260665655136,
          -0.05920998752117157,
          0.12163122743368149,
          -0.08357024192810059,
          -0.08490102738142014,
          -0.004979599267244339,
          0.002455389127135277,
          -0.010041390545666218,
          -0.07784582674503326
         ],
         "y": [
          -0.21651910245418549,
          -0.15536630153656006,
          -0.2165542095899582,
          -0.24594107270240784,
          -0.26168009638786316,
          -0.125614196062088,
          -0.23357000946998596,
          -0.18790780007839203,
          -0.27041181921958923,
          -0.22663307189941406,
          -0.1802932471036911,
          -0.2624923586845398,
          -0.16695117950439453,
          -0.1453891545534134,
          -0.11308611184358597,
          0.009878202341496944,
          -0.1730578988790512,
          -0.05487848445773125,
          -0.13340038061141968,
          -0.19794829189777374,
          -0.10960152745246887,
          -0.1999986171722412,
          -0.17770016193389893,
          -0.19320611655712128,
          -0.0773119106888771
         ],
         "z": [
          -0.02172829397022724,
          0.02700904570519924,
          -0.08529344946146011,
          -0.07093369960784912,
          0.11290812492370605,
          -0.07659844309091568,
          -0.08345675468444824,
          -0.05243358761072159,
          0.031647827476263046,
          0.09409628063440323,
          -0.10372702032327652,
          -0.13087786734104156,
          0.16346041858196259,
          0.1339660882949829,
          0.18407265841960907,
          -0.16450467705726624,
          -0.03739301115274429,
          0.159209206700325,
          -0.05787114053964615,
          -0.10573823750019073,
          0.18885965645313263,
          0.17367593944072723,
          -0.06874675303697586,
          -0.06497246772050858,
          0.08346444368362427
         ]
        },
        {
         "hovertemplate": "<b>%{hovertext}</b>",
         "hovertext": [
          "Forza Horizon 5",
          "Grand Theft Auto V",
          "Forza Horizon 4",
          "Euro Truck Simulator 2",
          "American Truck Simulator",
          "Microsoft Flight Simulator 40th Anniversary Edition",
          "F1® 23",
          "BeamNG.drive"
         ],
         "legendgroup": "2",
         "marker": {
          "color": "#ab63fa",
          "symbol": "circle"
         },
         "mode": "markers",
         "name": "2",
         "scene": "scene",
         "showlegend": true,
         "type": "scatter3d",
         "x": [
          0.2988699972629547,
          0.1883089691400528,
          0.3110239803791046,
          0.36389023065567017,
          0.4193277657032013,
          0.3546522557735443,
          0.39409714937210083,
          0.39615923166275024
         ],
         "y": [
          0.09625697135925293,
          -0.005084984004497528,
          0.1597670316696167,
          0.15747439861297607,
          0.2043023556470871,
          0.09611983597278595,
          -0.08377020061016083,
          0.14929182827472687
         ],
         "z": [
          0.10058832913637161,
          0.21577027440071106,
          0.05821792036294937,
          0.09150496125221252,
          0.19735366106033325,
          0.037809666246175766,
          0.1902603805065155,
          0.17843544483184814
         ]
        },
        {
         "hovertemplate": "<b>%{hovertext}</b>",
         "hovertext": [
          "Rust",
          "The Elder Scrolls® Online",
          "Sons Of The Forest",
          "The Sims™ 4",
          "Project Zomboid",
          "Raft",
          "Farming Simulator 22",
          "Stardew Valley",
          "Sengoku Dynasty",
          "Cities: Skylines",
          "RimWorld",
          "Terraria",
          "ARK: Survival Evolved",
          "theHunter: Call of the Wild™",
          "DayZ",
          "Graveyard Keeper",
          "Don't Starve Together",
          "Planet Zoo",
          "Garry's Mod",
          "New World",
          "Valheim",
          "Dying Light"
         ],
         "legendgroup": "1",
         "marker": {
          "color": "#FFA15A",
          "symbol": "circle"
         },
         "mode": "markers",
         "name": "1",
         "scene": "scene",
         "showlegend": true,
         "type": "scatter3d",
         "x": [
          -0.08244437724351883,
          -0.0923151895403862,
          -0.08986584097146988,
          0.12981808185577393,
          -0.09662923961877823,
          -0.00296985637396574,
          0.20374709367752075,
          0.05250886455178261,
          -0.0022900800686329603,
          0.24733656644821167,
          0.20449748635292053,
          -0.08270677179098129,
          -0.14724618196487427,
          0.0011334640439599752,
          -0.09856267273426056,
          -0.10925498604774475,
          -0.06814441829919815,
          0.25262650847435,
          0.18499504029750824,
          -0.10535942018032074,
          -0.19211804866790771,
          -0.09235746413469315
         ],
         "y": [
          0.2057732790708542,
          0.05396613851189613,
          0.3260296881198883,
          0.27683892846107483,
          0.19347579777240753,
          0.2796611189842224,
          0.35510727763175964,
          0.32607558369636536,
          0.1584252268075943,
          0.12429148703813553,
          0.21496622264385223,
          0.15785746276378632,
          0.26878565549850464,
          0.19522647559642792,
          0.12373813986778259,
          0.2497936487197876,
          0.22052845358848572,
          0.3784298002719879,
          0.17023395001888275,
          0.11621013283729553,
          0.1457003951072693,
          0.16605402529239655
         ],
         "z": [
          0.015144208446145058,
          -0.21381467580795288,
          0.08948775380849838,
          -0.1738143265247345,
          0.09938865154981613,
          -0.11055342108011246,
          -0.2185358703136444,
          -0.16044878959655762,
          -0.2748498320579529,
          -0.07750029116868973,
          -0.15763308107852936,
          -0.1417560875415802,
          -0.11099676042795181,
          -0.07610408216714859,
          0.14565275609493256,
          -0.03776680305600166,
          -0.17509868741035461,
          -0.14696292579174042,
          -0.030424010008573532,
          -0.18953795731067657,
          -0.15411396324634552,
          0.16558730602264404
         ]
        },
        {
         "hovertemplate": "<b>%{hovertext}</b>",
         "hovertext": [
          "Dead by Daylight",
          "Phasmophobia",
          "The Texas Chain Saw Massacre",
          "Vampire Survivors",
          "The Outlast Trials",
          "Resident Evil 4"
         ],
         "legendgroup": "3",
         "marker": {
          "color": "#19d3f3",
          "symbol": "circle"
         },
         "mode": "markers",
         "name": "3",
         "scene": "scene",
         "showlegend": true,
         "type": "scatter3d",
         "x": [
          -0.18790479004383087,
          -0.18446394801139832,
          -0.15111415088176727,
          -0.2841891348361969,
          -0.19658483564853668,
          -0.12358123809099197
         ],
         "y": [
          -0.018084410578012466,
          0.07535846531391144,
          0.08442659676074982,
          0.023335637524724007,
          0.0702575072646141,
          0.23914597928524017
         ],
         "z": [
          0.34169769287109375,
          0.3000854253768921,
          0.3831738829612732,
          0.2504864037036896,
          0.26783689856529236,
          0.2457873523235321
         ]
        },
        {
         "hovertemplate": "<b>%{hovertext}</b>",
         "hovertext": [
          "EA SPORTS™ FIFA 23",
          "Football Manager 2023",
          "Madden NFL 24",
          "EA SPORTS FC™ 24"
         ],
         "legendgroup": "6",
         "marker": {
          "color": "#FF6692",
          "symbol": "circle"
         },
         "mode": "markers",
         "name": "6",
         "scene": "scene",
         "showlegend": true,
         "type": "scatter3d",
         "x": [
          0.3909884989261627,
          0.33576685190200806,
          0.40361011028289795,
          0.36792832612991333
         ],
         "y": [
          -0.07961247861385345,
          -0.05282982811331749,
          -0.11296543478965759,
          -0.09782823175191879
         ],
         "z": [
          0.019332151859998703,
          -0.015228310599923134,
          0.027200981974601746,
          0.014925813302397728
         ]
        }
       ],
       "layout": {
        "height": 720,
        "legend": {
         "title": {
          "text": "cluster"
         },
         "tracegroupgap": 0
        },
        "margin": {
         "t": 60
        },
        "scene": {
         "domain": {
          "x": [
           0,
           1
          ],
          "y": [
           0,
           1
          ]
         },
         "xaxis": {
          "range": [
           -0.7841891348361969,
           0.9193277657032013
          ],
          "title": {
           "text": "x"
          }
         },
         "yaxis": {
          "range": [
           -0.7936960756778717,
           0.8784298002719879
          ],
          "title": {
           "text": "y"
          }
         },
         "zaxis": {
          "range": [
           -0.7873215973377228,
           0.8831738829612732
          ],
          "title": {
           "text": "z"
          }
         }
        },
        "template": {
         "data": {
          "bar": [
           {
            "error_x": {
             "color": "#2a3f5f"
            },
            "error_y": {
             "color": "#2a3f5f"
            },
            "marker": {
             "line": {
              "color": "#E5ECF6",
              "width": 0.5
             },
             "pattern": {
              "fillmode": "overlay",
              "size": 10,
              "solidity": 0.2
             }
            },
            "type": "bar"
           }
          ],
          "barpolar": [
           {
            "marker": {
             "line": {
              "color": "#E5ECF6",
              "width": 0.5
             },
             "pattern": {
              "fillmode": "overlay",
              "size": 10,
              "solidity": 0.2
             }
            },
            "type": "barpolar"
           }
          ],
          "carpet": [
           {
            "aaxis": {
             "endlinecolor": "#2a3f5f",
             "gridcolor": "white",
             "linecolor": "white",
             "minorgridcolor": "white",
             "startlinecolor": "#2a3f5f"
            },
            "baxis": {
             "endlinecolor": "#2a3f5f",
             "gridcolor": "white",
             "linecolor": "white",
             "minorgridcolor": "white",
             "startlinecolor": "#2a3f5f"
            },
            "type": "carpet"
           }
          ],
          "choropleth": [
           {
            "colorbar": {
             "outlinewidth": 0,
             "ticks": ""
            },
            "type": "choropleth"
           }
          ],
          "contour": [
           {
            "colorbar": {
             "outlinewidth": 0,
             "ticks": ""
            },
            "colorscale": [
             [
              0,
              "#0d0887"
             ],
             [
              0.1111111111111111,
              "#46039f"
             ],
             [
              0.2222222222222222,
              "#7201a8"
             ],
             [
              0.3333333333333333,
              "#9c179e"
             ],
             [
              0.4444444444444444,
              "#bd3786"
             ],
             [
              0.5555555555555556,
              "#d8576b"
             ],
             [
              0.6666666666666666,
              "#ed7953"
             ],
             [
              0.7777777777777778,
              "#fb9f3a"
             ],
             [
              0.8888888888888888,
              "#fdca26"
             ],
             [
              1,
              "#f0f921"
             ]
            ],
            "type": "contour"
           }
          ],
          "contourcarpet": [
           {
            "colorbar": {
             "outlinewidth": 0,
             "ticks": ""
            },
            "type": "contourcarpet"
           }
          ],
          "heatmap": [
           {
            "colorbar": {
             "outlinewidth": 0,
             "ticks": ""
            },
            "colorscale": [
             [
              0,
              "#0d0887"
             ],
             [
              0.1111111111111111,
              "#46039f"
             ],
             [
              0.2222222222222222,
              "#7201a8"
             ],
             [
              0.3333333333333333,
              "#9c179e"
             ],
             [
              0.4444444444444444,
              "#bd3786"
             ],
             [
              0.5555555555555556,
              "#d8576b"
             ],
             [
              0.6666666666666666,
              "#ed7953"
             ],
             [
              0.7777777777777778,
              "#fb9f3a"
             ],
             [
              0.8888888888888888,
              "#fdca26"
             ],
             [
              1,
              "#f0f921"
             ]
            ],
            "type": "heatmap"
           }
          ],
          "heatmapgl": [
           {
            "colorbar": {
             "outlinewidth": 0,
             "ticks": ""
            },
            "colorscale": [
             [
              0,
              "#0d0887"
             ],
             [
              0.1111111111111111,
              "#46039f"
             ],
             [
              0.2222222222222222,
              "#7201a8"
             ],
             [
              0.3333333333333333,
              "#9c179e"
             ],
             [
              0.4444444444444444,
              "#bd3786"
             ],
             [
              0.5555555555555556,
              "#d8576b"
             ],
             [
              0.6666666666666666,
              "#ed7953"
             ],
             [
              0.7777777777777778,
              "#fb9f3a"
             ],
             [
              0.8888888888888888,
              "#fdca26"
             ],
             [
              1,
              "#f0f921"
             ]
            ],
            "type": "heatmapgl"
           }
          ],
          "histogram": [
           {
            "marker": {
             "pattern": {
              "fillmode": "overlay",
              "size": 10,
              "solidity": 0.2
             }
            },
            "type": "histogram"
           }
          ],
          "histogram2d": [
           {
            "colorbar": {
             "outlinewidth": 0,
             "ticks": ""
            },
            "colorscale": [
             [
              0,
              "#0d0887"
             ],
             [
              0.1111111111111111,
              "#46039f"
             ],
             [
              0.2222222222222222,
              "#7201a8"
             ],
             [
              0.3333333333333333,
              "#9c179e"
             ],
             [
              0.4444444444444444,
              "#bd3786"
             ],
             [
              0.5555555555555556,
              "#d8576b"
             ],
             [
              0.6666666666666666,
              "#ed7953"
             ],
             [
              0.7777777777777778,
              "#fb9f3a"
             ],
             [
              0.8888888888888888,
              "#fdca26"
             ],
             [
              1,
              "#f0f921"
             ]
            ],
            "type": "histogram2d"
           }
          ],
          "histogram2dcontour": [
           {
            "colorbar": {
             "outlinewidth": 0,
             "ticks": ""
            },
            "colorscale": [
             [
              0,
              "#0d0887"
             ],
             [
              0.1111111111111111,
              "#46039f"
             ],
             [
              0.2222222222222222,
              "#7201a8"
             ],
             [
              0.3333333333333333,
              "#9c179e"
             ],
             [
              0.4444444444444444,
              "#bd3786"
             ],
             [
              0.5555555555555556,
              "#d8576b"
             ],
             [
              0.6666666666666666,
              "#ed7953"
             ],
             [
              0.7777777777777778,
              "#fb9f3a"
             ],
             [
              0.8888888888888888,
              "#fdca26"
             ],
             [
              1,
              "#f0f921"
             ]
            ],
            "type": "histogram2dcontour"
           }
          ],
          "mesh3d": [
           {
            "colorbar": {
             "outlinewidth": 0,
             "ticks": ""
            },
            "type": "mesh3d"
           }
          ],
          "parcoords": [
           {
            "line": {
             "colorbar": {
              "outlinewidth": 0,
              "ticks": ""
             }
            },
            "type": "parcoords"
           }
          ],
          "pie": [
           {
            "automargin": true,
            "type": "pie"
           }
          ],
          "scatter": [
           {
            "fillpattern": {
             "fillmode": "overlay",
             "size": 10,
             "solidity": 0.2
            },
            "type": "scatter"
           }
          ],
          "scatter3d": [
           {
            "line": {
             "colorbar": {
              "outlinewidth": 0,
              "ticks": ""
             }
            },
            "marker": {
             "colorbar": {
              "outlinewidth": 0,
              "ticks": ""
             }
            },
            "type": "scatter3d"
           }
          ],
          "scattercarpet": [
           {
            "marker": {
             "colorbar": {
              "outlinewidth": 0,
              "ticks": ""
             }
            },
            "type": "scattercarpet"
           }
          ],
          "scattergeo": [
           {
            "marker": {
             "colorbar": {
              "outlinewidth": 0,
              "ticks": ""
             }
            },
            "type": "scattergeo"
           }
          ],
          "scattergl": [
           {
            "marker": {
             "colorbar": {
              "outlinewidth": 0,
              "ticks": ""
             }
            },
            "type": "scattergl"
           }
          ],
          "scattermapbox": [
           {
            "marker": {
             "colorbar": {
              "outlinewidth": 0,
              "ticks": ""
             }
            },
            "type": "scattermapbox"
           }
          ],
          "scatterpolar": [
           {
            "marker": {
             "colorbar": {
              "outlinewidth": 0,
              "ticks": ""
             }
            },
            "type": "scatterpolar"
           }
          ],
          "scatterpolargl": [
           {
            "marker": {
             "colorbar": {
              "outlinewidth": 0,
              "ticks": ""
             }
            },
            "type": "scatterpolargl"
           }
          ],
          "scatterternary": [
           {
            "marker": {
             "colorbar": {
              "outlinewidth": 0,
              "ticks": ""
             }
            },
            "type": "scatterternary"
           }
          ],
          "surface": [
           {
            "colorbar": {
             "outlinewidth": 0,
             "ticks": ""
            },
            "colorscale": [
             [
              0,
              "#0d0887"
             ],
             [
              0.1111111111111111,
              "#46039f"
             ],
             [
              0.2222222222222222,
              "#7201a8"
             ],
             [
              0.3333333333333333,
              "#9c179e"
             ],
             [
              0.4444444444444444,
              "#bd3786"
             ],
             [
              0.5555555555555556,
              "#d8576b"
             ],
             [
              0.6666666666666666,
              "#ed7953"
             ],
             [
              0.7777777777777778,
              "#fb9f3a"
             ],
             [
              0.8888888888888888,
              "#fdca26"
             ],
             [
              1,
              "#f0f921"
             ]
            ],
            "type": "surface"
           }
          ],
          "table": [
           {
            "cells": {
             "fill": {
              "color": "#EBF0F8"
             },
             "line": {
              "color": "white"
             }
            },
            "header": {
             "fill": {
              "color": "#C8D4E3"
             },
             "line": {
              "color": "white"
             }
            },
            "type": "table"
           }
          ]
         },
         "layout": {
          "annotationdefaults": {
           "arrowcolor": "#2a3f5f",
           "arrowhead": 0,
           "arrowwidth": 1
          },
          "autotypenumbers": "strict",
          "coloraxis": {
           "colorbar": {
            "outlinewidth": 0,
            "ticks": ""
           }
          },
          "colorscale": {
           "diverging": [
            [
             0,
             "#8e0152"
            ],
            [
             0.1,
             "#c51b7d"
            ],
            [
             0.2,
             "#de77ae"
            ],
            [
             0.3,
             "#f1b6da"
            ],
            [
             0.4,
             "#fde0ef"
            ],
            [
             0.5,
             "#f7f7f7"
            ],
            [
             0.6,
             "#e6f5d0"
            ],
            [
             0.7,
             "#b8e186"
            ],
            [
             0.8,
             "#7fbc41"
            ],
            [
             0.9,
             "#4d9221"
            ],
            [
             1,
             "#276419"
            ]
           ],
           "sequential": [
            [
             0,
             "#0d0887"
            ],
            [
             0.1111111111111111,
             "#46039f"
            ],
            [
             0.2222222222222222,
             "#7201a8"
            ],
            [
             0.3333333333333333,
             "#9c179e"
            ],
            [
             0.4444444444444444,
             "#bd3786"
            ],
            [
             0.5555555555555556,
             "#d8576b"
            ],
            [
             0.6666666666666666,
             "#ed7953"
            ],
            [
             0.7777777777777778,
             "#fb9f3a"
            ],
            [
             0.8888888888888888,
             "#fdca26"
            ],
            [
             1,
             "#f0f921"
            ]
           ],
           "sequentialminus": [
            [
             0,
             "#0d0887"
            ],
            [
             0.1111111111111111,
             "#46039f"
            ],
            [
             0.2222222222222222,
             "#7201a8"
            ],
            [
             0.3333333333333333,
             "#9c179e"
            ],
            [
             0.4444444444444444,
             "#bd3786"
            ],
            [
             0.5555555555555556,
             "#d8576b"
            ],
            [
             0.6666666666666666,
             "#ed7953"
            ],
            [
             0.7777777777777778,
             "#fb9f3a"
            ],
            [
             0.8888888888888888,
             "#fdca26"
            ],
            [
             1,
             "#f0f921"
            ]
           ]
          },
          "colorway": [
           "#636efa",
           "#EF553B",
           "#00cc96",
           "#ab63fa",
           "#FFA15A",
           "#19d3f3",
           "#FF6692",
           "#B6E880",
           "#FF97FF",
           "#FECB52"
          ],
          "font": {
           "color": "#2a3f5f"
          },
          "geo": {
           "bgcolor": "white",
           "lakecolor": "white",
           "landcolor": "#E5ECF6",
           "showlakes": true,
           "showland": true,
           "subunitcolor": "white"
          },
          "hoverlabel": {
           "align": "left"
          },
          "hovermode": "closest",
          "mapbox": {
           "style": "light"
          },
          "paper_bgcolor": "white",
          "plot_bgcolor": "#E5ECF6",
          "polar": {
           "angularaxis": {
            "gridcolor": "white",
            "linecolor": "white",
            "ticks": ""
           },
           "bgcolor": "#E5ECF6",
           "radialaxis": {
            "gridcolor": "white",
            "linecolor": "white",
            "ticks": ""
           }
          },
          "scene": {
           "xaxis": {
            "backgroundcolor": "#E5ECF6",
            "gridcolor": "white",
            "gridwidth": 2,
            "linecolor": "white",
            "showbackground": true,
            "ticks": "",
            "zerolinecolor": "white"
           },
           "yaxis": {
            "backgroundcolor": "#E5ECF6",
            "gridcolor": "white",
            "gridwidth": 2,
            "linecolor": "white",
            "showbackground": true,
            "ticks": "",
            "zerolinecolor": "white"
           },
           "zaxis": {
            "backgroundcolor": "#E5ECF6",
            "gridcolor": "white",
            "gridwidth": 2,
            "linecolor": "white",
            "showbackground": true,
            "ticks": "",
            "zerolinecolor": "white"
           }
          },
          "shapedefaults": {
           "line": {
            "color": "#2a3f5f"
           }
          },
          "ternary": {
           "aaxis": {
            "gridcolor": "white",
            "linecolor": "white",
            "ticks": ""
           },
           "baxis": {
            "gridcolor": "white",
            "linecolor": "white",
            "ticks": ""
           },
           "bgcolor": "#E5ECF6",
           "caxis": {
            "gridcolor": "white",
            "linecolor": "white",
            "ticks": ""
           }
          },
          "title": {
           "x": 0.05
          },
          "xaxis": {
           "automargin": true,
           "gridcolor": "white",
           "linecolor": "white",
           "ticks": "",
           "title": {
            "standoff": 15
           },
           "zerolinecolor": "white",
           "zerolinewidth": 2
          },
          "yaxis": {
           "automargin": true,
           "gridcolor": "white",
           "linecolor": "white",
           "ticks": "",
           "title": {
            "standoff": 15
           },
           "zerolinecolor": "white",
           "zerolinewidth": 2
          }
         }
        },
        "width": 1280
       }
      }
     },
     "metadata": {},
     "output_type": "display_data"
    }
   ],
   "source": [
    "visualize(model, sample_descriptions, \"tokenize_desc_tag\", 7)"
   ]
  },
  {
   "cell_type": "code",
   "execution_count": 24,
   "metadata": {},
   "outputs": [
    {
     "name": "stderr",
     "output_type": "stream",
     "text": [
      "/Library/Frameworks/Python.framework/Versions/3.12/lib/python3.12/site-packages/huggingface_hub/file_download.py:1132: FutureWarning:\n",
      "\n",
      "`resume_download` is deprecated and will be removed in version 1.0.0. Downloads always resume when possible. If you want to force a new download, use `force_download=True`.\n",
      "\n"
     ]
    },
    {
     "name": "stdout",
     "output_type": "stream",
     "text": [
      "Baldur ’ s Gate 3 is a story - rich , party - based RPG set in the universe of Dungeons & Dragons , where your choices shape a tale of fellowship and betrayal , survival and sacrifice , and the lure of absolute power .\n",
      "Counter - Strike : Global_Offensive ( CS : GO ) expands upon the team - based action gameplay that it pioneered when it was launched 19 years ago . CS : GO features new maps , characters , weapons , and game modes , and delivers updated versions of the classic CS content ( de_dust2 , etc . ) .\n",
      "tensor([[0.1416]])\n",
      "tensor([[0.4916]])\n"
     ]
    }
   ],
   "source": [
    "old_model = SentenceTransformer(\"all-mpnet-base-v2\")\n",
    "\n",
    "game1_desc = sample_descriptions.loc[0, \"tokenize_desc\"]\n",
    "game2_desc = sample_descriptions.loc[1, \"tokenize_desc\"]\n",
    "\n",
    "print(game1_desc)\n",
    "print(game2_desc)\n",
    "\n",
    "old_enc_game1 = old_model.encode(game1_desc)\n",
    "old_enc_game2 = old_model.encode(game2_desc)\n",
    "new_enc_game1 = model.encode(game1_desc)\n",
    "new_enc_game2 = model.encode(game2_desc)\n",
    "\n",
    "print(util.cos_sim(old_enc_game1, old_enc_game2))\n",
    "print(util.cos_sim(new_enc_game1, new_enc_game2))"
   ]
  },
  {
   "cell_type": "code",
   "execution_count": 25,
   "metadata": {},
   "outputs": [],
   "source": [
    "# for i in range(len(sample_descriptions) - 1):\n",
    "#     s1, t1 = sample_descriptions.loc[i, [\"Title\", \"tokenize_tag\"]]\n",
    "#     s2, t2 = sample_descriptions.loc[i + 1, [\"Title\", \"tokenize_tag\"]]\n",
    "#     print(s1, s2, (score := util.cos_sim(model.encode(t1), model.encode(t2))), score > 0.75)\n",
    "#     print()"
   ]
  },
  {
   "cell_type": "code",
   "execution_count": 26,
   "metadata": {},
   "outputs": [],
   "source": [
    "# from openTSNE import TSNE\n",
    "# import matplotlib.pyplot as plt"
   ]
  },
  {
   "cell_type": "code",
   "execution_count": 27,
   "metadata": {},
   "outputs": [],
   "source": [
    "# tsne = TSNE(\n",
    "#     perplexity=6.33,\n",
    "#     metric=cosine_similarity,\n",
    "#     random_state=RANDOM_STATE,\n",
    "#     verbose=True,\n",
    "# )\n",
    "\n",
    "# embeddings_tsne = tsne.fit(sample_descriptions[\"tokenize_desc\"])\n",
    "\n",
    "# res = tsne.transform(sample_descriptions[\"tokenize_desc\"])"
   ]
  },
  {
   "cell_type": "code",
   "execution_count": 28,
   "metadata": {},
   "outputs": [],
   "source": [
    "# plt.scatter(res[:, 0], res[:, 1])"
   ]
  }
 ],
 "metadata": {
  "kernelspec": {
   "display_name": "Python 3",
   "language": "python",
   "name": "python3"
  },
  "language_info": {
   "codemirror_mode": {
    "name": "ipython",
    "version": 3
   },
   "file_extension": ".py",
   "mimetype": "text/x-python",
   "name": "python",
   "nbconvert_exporter": "python",
   "pygments_lexer": "ipython3",
   "version": "3.12.1"
  }
 },
 "nbformat": 4,
 "nbformat_minor": 2
}
